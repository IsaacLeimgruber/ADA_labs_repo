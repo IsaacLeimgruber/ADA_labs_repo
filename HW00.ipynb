{
 "cells": [
  {
   "cell_type": "code",
   "execution_count": 6,
   "metadata": {},
   "outputs": [
    {
     "name": "stdout",
     "output_type": "stream",
     "text": [
      "The autoreload extension is already loaded. To reload it, use:\n",
      "  %reload_ext autoreload\n"
     ]
    }
   ],
   "source": [
    "# Plot figures in the notebook (instead of a new window)\n",
    "%matplotlib notebook\n",
    "\n",
    "# Automatically reload modules\n",
    "%load_ext autoreload\n",
    "%autoreload 2        \n",
    "\n",
    "# The usual imports\n",
    "import matplotlib.pyplot as plt\n",
    "import numpy as np\n",
    "import pandas as pd\n",
    "import csv"
   ]
  },
  {
   "cell_type": "code",
   "execution_count": 16,
   "metadata": {
    "collapsed": true
   },
   "outputs": [],
   "source": [
    "\n"
   ]
  },
  {
   "cell_type": "code",
   "execution_count": 120,
   "metadata": {},
   "outputs": [],
   "source": [
    "def story(path_to_file):\n",
    "    # read a csv file\n",
    "    shot_per_year = 0\n",
    "    suicides = 0\n",
    "    male_suicides = 0\n",
    "    male_35plus_suicides = 0\n",
    "    homicides = 0\n",
    "    young_men_homicides = 0\n",
    "    young_black_men_homicides = 0\n",
    "    women_homicides = 0\n",
    "    accidents_or_undet = 0\n",
    "    print('reading first rows of story.csv')\n",
    "    with open(path_to_file, 'r', encoding=\"utf8\") as csvfile:\n",
    "\n",
    "        for row in csv.DictReader(csvfile, delimiter=','):\n",
    "                intent = row['Intent']\n",
    "                gender = row['Gender']\n",
    "                age = row['Age']\n",
    "                race = row['Race']\n",
    "                number_of_deaths = int(row['Deaths'])\n",
    "                population = int(row['Population'])\n",
    "                rate = row['Rate']\n",
    "                ns = 'None selected'\n",
    "                \n",
    "                if((intent == 'Accident' or intent == 'Unknown') and gender == ns and age == ns and race == ns):\n",
    "                    accidents_or_undet = number_of_deaths\n",
    "                if(intent == ns and gender == ns and age == ns and race == ns):\n",
    "                    shot_per_year = number_of_deaths                \n",
    "                if(intent == 'Suicide'):\n",
    "                    if(gender == 'Male'):\n",
    "                        if(age == ns and race == ns):\n",
    "                            male_suicides = number_of_deaths\n",
    "                        if((age == '35 - 64' or age == '65+') and race == ns):\n",
    "                            male_35plus_suicides += number_of_deaths\n",
    "                    if(gender == ns and age == ns and race == ns):\n",
    "                        suicides = number_of_deaths\n",
    "                if(intent == 'Homicide'):\n",
    "                    if(gender == 'Male' and (age == 'Under 15' or age == '15 - 34')):\n",
    "                        if(race == ns):\n",
    "                            young_men_homicides = number_of_deaths\n",
    "                        if(race == 'Black'):\n",
    "                            young_black_men_homicides = number_of_deaths \n",
    "                    if(gender == 'Female' and age == ns and race == ns):\n",
    "                        women_homicides = number_of_deaths\n",
    "                    if(gender == ns and age == ns and race == ns):\n",
    "                        homicides = number_of_deaths\n",
    "                    \n",
    "        \n",
    "\n",
    "    csvfile.close()\n",
    "    print('all done.')\n",
    "    return [shot_per_year, suicides, male_suicides, male_35plus_suicides, \n",
    "            homicides, young_men_homicides, young_black_men_homicides,\n",
    "           women_homicides, accidents_or_undet]"
   ]
  },
  {
   "cell_type": "code",
   "execution_count": 121,
   "metadata": {
    "scrolled": true
   },
   "outputs": [
    {
     "name": "stdout",
     "output_type": "stream",
     "text": [
      "reading first rows of story.csv\n",
      "all done.\n"
     ]
    }
   ],
   "source": [
    "\"\"\"\n",
    "0. shot_per_year\n",
    "1. suicides\n",
    "2. male_suicides\n",
    "3. male_35plus_suicides\n",
    "4. homicides\n",
    "5. young_men_homicides\n",
    "6. young_black_men_homicides\n",
    "7. women_homicides\n",
    "8. accidents_or_undet\n",
    "\"\"\"\n",
    "res = story(\"interactive_data.csv\")"
   ]
  },
  {
   "cell_type": "code",
   "execution_count": 126,
   "metadata": {
    "collapsed": true
   },
   "outputs": [],
   "source": [
    "\"\"\"\n",
    "1. total\n",
    "2. suicides/total %\n",
    "3. male suicide/suicide %\n",
    "4. 35+ male suicide/suicide %\n",
    "5. homicides\n",
    "6. young men homicides/homicides %\n",
    "7. young blacks/young %\n",
    "8. women homicides\n",
    "9. accidents or undets\n",
    "\"\"\"\n",
    "ratios = [\n",
    "          res[0], \n",
    "          np.round(100 * res[1]/res[0], 1), \n",
    "          np.round(100 * res[2]/float(res[1]), 1), \n",
    "          np.round(100 * res[3]/float(res[1]), 1), \n",
    "          res[4], \n",
    "          np.round(100 * res[5]/float(res[4]), 1), \n",
    "          np.round(100 * res[6]/float(res[5]), 1), \n",
    "          res[7], \n",
    "          res[8] \n",
    "         ] \n",
    "ratios = [\n",
    "          res[0], \n",
    "          float(int(1000 * res[1]/float(res[0])))/10., \n",
    "          float(int(1000 * res[2]/float(res[1])))/10., \n",
    "          float(int(1000 * res[3]/float(res[1])))/10., \n",
    "          res[4], \n",
    "          float(int(1000 * res[5]/float(res[4])))/10., \n",
    "          float(int(1000 * res[6]/float(res[5])))/10., \n",
    "          res[7], \n",
    "          float(int(1000 * res[8]/float(res[1])))/10.\n",
    "         ] "
   ]
  },
  {
   "cell_type": "code",
   "execution_count": 127,
   "metadata": {},
   "outputs": [
    {
     "data": {
      "text/plain": [
       "[33599, 62.6, 86.2, 64.8, 11726, 55.6, 66.1, 1791, 1.2]"
      ]
     },
     "execution_count": 127,
     "metadata": {},
     "output_type": "execute_result"
    }
   ],
   "source": [
    "ratios"
   ]
  },
  {
   "cell_type": "code",
   "execution_count": null,
   "metadata": {
    "collapsed": true
   },
   "outputs": [],
   "source": []
  }
 ],
 "metadata": {
  "kernelspec": {
   "display_name": "Python [conda root]",
   "language": "python",
   "name": "conda-root-py"
  },
  "language_info": {
   "codemirror_mode": {
    "name": "ipython",
    "version": 3
   },
   "file_extension": ".py",
   "mimetype": "text/x-python",
   "name": "python",
   "nbconvert_exporter": "python",
   "pygments_lexer": "ipython3",
   "version": "3.6.1"
  }
 },
 "nbformat": 4,
 "nbformat_minor": 2
}
