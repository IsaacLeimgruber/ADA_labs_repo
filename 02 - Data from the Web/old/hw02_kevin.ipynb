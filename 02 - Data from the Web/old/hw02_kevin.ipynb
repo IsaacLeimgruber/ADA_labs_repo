{
 "cells": [
  {
   "cell_type": "markdown",
   "metadata": {
    "collapsed": true
   },
   "source": [
    "# 02 - Data from the Web"
   ]
  },
  {
   "cell_type": "markdown",
   "metadata": {},
   "source": [
    "# Table of Contents\n",
    " <p><div class=\"lev1\"><a href=\"#Task-1.0-Retrieve-the-Data\"><span class=\"toc-item-num\">Task 1.0&nbsp;&nbsp;</span>Retrieve the Data</a></div>\n",
    " <div class=\"lev2\"><a href=\"#Task-1.0.1-Clear-rank-and-drop-data-not-needed\"><span class=\"toc-item-num\">1.0.1 &nbsp;&nbsp;</span>Clear rank and drop data not needed</a></div>\n",
    " <div class=\"lev2\"><a href=\"#Task-1.0.2-Test-soup-for-missing-data\"><span class=\"toc-item-num\">1.0.2 &nbsp;&nbsp;</span>Test soup for missing data</a></div>\n",
    " <div class=\"lev2\"><a href=\"#Task-1.0.3-Prepare-url-for-missing-data\"><span class=\"toc-item-num\">1.0.3 &nbsp;&nbsp;</span>Prepare url for missing data</a></div>\n",
    " <div class=\"lev2\"><a href=\"#Task-1.0.4-Get-missing-data-function\"><span class=\"toc-item-num\">1.0.4 &nbsp;&nbsp;</span>Get missing data function</a></div>\n",
    " <div class=\"lev2\"><a href=\"#Task-1.0.5-Prepare-callback-to-import-all-data\"><span class=\"toc-item-num\">1.0.5 &nbsp;&nbsp;</span>Prepare callback to import all data</a></div>\n",
    " <div class=\"lev2\"><a href=\"#Task-1.0.6-Import-Data\"><span class=\"toc-item-num\">1.0.6 &nbsp;&nbsp;</span>Import Data</a></div>\n",
    " <div class=\"lev2\"><a href=\"#Task-1.0.7-Kill-data-if-needed\"><span class=\"toc-item-num\">1.0.7 &nbsp;&nbsp;</span>Kill data if needed</a></div>\n",
    " <div class=\"lev2\"><a href=\"#Task-1.0.8-Store-data-and-continue-compilation\"><span class=\"toc-item-num\">1.0.8 &nbsp;&nbsp;</span>Store data and continue compilation</a></div>\n",
    " \n",
    " <div class=\"lev1\"><a href=\"#Task-1.1\"><span class=\"toc-item-num\">Task 1.1&nbsp;&nbsp;</span> a), b), c), d)</a></div>\n",
    " <div class=\"lev1\"><a href=\"#Task-1.2-Plots\"><span class=\"toc-item-num\">Task 1.2&nbsp;&nbsp;</span>Plots of a), b), c), d)</a></div>\n",
    " </p>\n",
    " \n",
    " <p>\n",
    " <div class=\"lev1\"><a href=\"#Task-2.0-Retrieve-the-Data\"><span class=\"toc-item-num\">Task 2.0&nbsp;&nbsp;</span>Retrieve the Data</a></div>\n",
    " <div class=\"lev2\"><a href=\"#Task-2.0.1-Clear-rank-and-drop-data-not-needed\"><span class=\"toc-item-num\">2.0.1 &nbsp;&nbsp;</span>Clear rank and drop data not needed</a></div>\n",
    " <div class=\"lev2\"><a href=\"#Task-2.0.2-Prepare-url-and-test-soup-to-have-missing-data\"><span class=\"toc-item-num\">2.0.2 &nbsp;&nbsp;</span>Prepare url and test soup to have missing data</a></div>\n",
    " <div class=\"lev2\"><a href=\"#Task-2.0.3-Prepare-to-retrieve-data-and-callback-funciton\"><span class=\"toc-item-num\">2.0.3 &nbsp;&nbsp;</span>Prepare to retrieve data and callback funciton</a></div>\n",
    " <div class=\"lev2\"><a href=\"#Task-2.0.4-Import-Data\"><span class=\"toc-item-num\">2.0.4 &nbsp;&nbsp;</span>Import Data</a></div>\n",
    " <div class=\"lev2\"><a href=\"#Task-2.0.5-Kill-data-second-file\"><span class=\"toc-item-num\">2.0.5 &nbsp;&nbsp;</span>Kill data second file</a></div>\n",
    " <div class=\"lev2\"><a href=\"#Task-2.0.6-Store-data-and-continue-compilation\"><span class=\"toc-item-num\">2.0.6 &nbsp;&nbsp;</span>Store data and continue compilation</a></div>\n",
    " \n",
    " <div class=\"lev1\"><a href=\"#Task-2.1\"><span class=\"toc-item-num\">Task 2.1&nbsp;&nbsp;</span> a), b), c), d),</a></div>\n",
    " \n",
    " <div class=\"lev1\"><a href=\"#Task-2.1.d-Region\"><span class=\"toc-item-num\">Task 2.1.d&nbsp;&nbsp;</span> Region</a></div>\n",
    " \n",
    " <div class=\"lev1\"><a href=\"#Task-2.2-Plots\"><span class=\"toc-item-num\">Task 2.2&nbsp;&nbsp;</span> Plots of a), b), c), d)</a></div>\n",
    " \n",
    " <div class=\"lev1\"><a href=\"#Task-2.2.d-Plot-Region\"><span class=\"toc-item-num\">Task 2.2.d&nbsp;&nbsp;</span> Plot Region</a></div>\n",
    "\n",
    " \n",
    " </p>\n",
    " \n",
    " <p>\n",
    " <div class=\"lev1\"><a href=\"#Task-3.0-Prepare-for-merge\"><span class=\"toc-item-num\">Task 3.0&nbsp;&nbsp;</span>Prepare for merge</a></div>\n",
    " <div class=\"lev1\"><a href=\"#Task-3.1-Merge\"><span class=\"toc-item-num\">Task 3.1&nbsp;&nbsp;</span>Merge</a></div>\n",
    " \n",
    " </p>\n",
    " \n",
    "  <p>\n",
    " <div class=\"lev1\"><a href=\"#Task-4\"><span class=\"toc-item-num\">Task 4&nbsp;&nbsp;</span></a></div>\n",
    " \n",
    " </p>\n",
    " \n",
    "  <p>\n",
    " <div class=\"lev1\"><a href=\"#Task-5\"><span class=\"toc-item-num\">Task 5&nbsp;&nbsp;</span></a></div>\n",
    " \n",
    " </p>"
   ]
  },
  {
   "cell_type": "code",
   "execution_count": 1,
   "metadata": {
    "collapsed": true
   },
   "outputs": [],
   "source": [
    "# Import libraries\n",
    "import requests\n",
    "import numpy as np\n",
    "import pandas as pd\n",
    "from bs4 import BeautifulSoup\n",
    "import seaborn as sns\n",
    "%matplotlib inline"
   ]
  },
  {
   "cell_type": "markdown",
   "metadata": {},
   "source": [
    "You will need requests-futures which you can get by   \n",
    "$ ``pip install requests-futures``"
   ]
  },
  {
   "cell_type": "markdown",
   "metadata": {},
   "source": [
    "### Task 1.0 Retrieve the Data\n",
    "\n",
    "Obtain the 200 top-ranking universities : name, rank, country and region, number of faculty members (international and total) and number of students (international and total)"
   ]
  },
  {
   "cell_type": "markdown",
   "metadata": {},
   "source": [
    " <div class=\"lev1\"><a href=\"#Table-of-Contents\"><span class=\"toc-item-num\"></span>Table of contents</a></div>"
   ]
  },
  {
   "cell_type": "code",
   "execution_count": 2,
   "metadata": {
    "collapsed": true,
    "scrolled": false
   },
   "outputs": [],
   "source": [
    "# Do the request\n",
    "request_url = 'https://www.topuniversities.com/sites/default/files/qs-rankings-data/357051.txt?_=1507975779496'\n",
    "r = requests.get(request_url)"
   ]
  },
  {
   "cell_type": "code",
   "execution_count": 3,
   "metadata": {
    "scrolled": true
   },
   "outputs": [
    {
     "data": {
      "text/plain": [
       "{'cc': 'US',\n",
       " 'core_id': '410',\n",
       " 'country': 'United States',\n",
       " 'guide': '<a href=\"/where-to-study/north-america/united-states/guide\" class=\"guide-link\" target=\"_blank\">United States</a>',\n",
       " 'logo': '<img src=\"https://www.topuniversities.com/sites/default/files/massachusetts-institute-of-technology-mit_410_small_0.jpg\" alt=\"Massachusetts Institute of Technology (MIT)  Logo\">',\n",
       " 'nid': '294850',\n",
       " 'rank_display': '1',\n",
       " 'region': 'North America',\n",
       " 'score': '100',\n",
       " 'stars': '6',\n",
       " 'title': 'Massachusetts Institute of Technology (MIT)',\n",
       " 'url': '/universities/massachusetts-institute-technology-mit'}"
      ]
     },
     "execution_count": 3,
     "metadata": {},
     "output_type": "execute_result"
    }
   ],
   "source": [
    "univ_vals = r.json()['data']\n",
    "univ_vals[0]"
   ]
  },
  {
   "cell_type": "code",
   "execution_count": 4,
   "metadata": {
    "scrolled": false
   },
   "outputs": [
    {
     "data": {
      "text/html": [
       "<div>\n",
       "<style>\n",
       "    .dataframe thead tr:only-child th {\n",
       "        text-align: right;\n",
       "    }\n",
       "\n",
       "    .dataframe thead th {\n",
       "        text-align: left;\n",
       "    }\n",
       "\n",
       "    .dataframe tbody tr th {\n",
       "        vertical-align: top;\n",
       "    }\n",
       "</style>\n",
       "<table border=\"1\" class=\"dataframe\">\n",
       "  <thead>\n",
       "    <tr style=\"text-align: right;\">\n",
       "      <th></th>\n",
       "      <th>cc</th>\n",
       "      <th>core_id</th>\n",
       "      <th>country</th>\n",
       "      <th>guide</th>\n",
       "      <th>logo</th>\n",
       "      <th>nid</th>\n",
       "      <th>rank_display</th>\n",
       "      <th>region</th>\n",
       "      <th>score</th>\n",
       "      <th>stars</th>\n",
       "      <th>title</th>\n",
       "      <th>url</th>\n",
       "    </tr>\n",
       "  </thead>\n",
       "  <tbody>\n",
       "    <tr>\n",
       "      <th>0</th>\n",
       "      <td>US</td>\n",
       "      <td>410</td>\n",
       "      <td>United States</td>\n",
       "      <td>&lt;a href=\"/where-to-study/north-america/united-...</td>\n",
       "      <td>&lt;img src=\"https://www.topuniversities.com/site...</td>\n",
       "      <td>294850</td>\n",
       "      <td>1</td>\n",
       "      <td>North America</td>\n",
       "      <td>100</td>\n",
       "      <td>6</td>\n",
       "      <td>Massachusetts Institute of Technology (MIT)</td>\n",
       "      <td>/universities/massachusetts-institute-technolo...</td>\n",
       "    </tr>\n",
       "    <tr>\n",
       "      <th>1</th>\n",
       "      <td>US</td>\n",
       "      <td>573</td>\n",
       "      <td>United States</td>\n",
       "      <td>&lt;a href=\"/where-to-study/north-america/united-...</td>\n",
       "      <td>&lt;img src=\"https://www.topuniversities.com/site...</td>\n",
       "      <td>297282</td>\n",
       "      <td>2</td>\n",
       "      <td>North America</td>\n",
       "      <td>98.7</td>\n",
       "      <td>5</td>\n",
       "      <td>Stanford University</td>\n",
       "      <td>/universities/stanford-university</td>\n",
       "    </tr>\n",
       "    <tr>\n",
       "      <th>2</th>\n",
       "      <td>US</td>\n",
       "      <td>253</td>\n",
       "      <td>United States</td>\n",
       "      <td>&lt;a href=\"/where-to-study/north-america/united-...</td>\n",
       "      <td>&lt;img src=\"https://www.topuniversities.com/site...</td>\n",
       "      <td>294270</td>\n",
       "      <td>3</td>\n",
       "      <td>North America</td>\n",
       "      <td>98.4</td>\n",
       "      <td>5</td>\n",
       "      <td>Harvard University</td>\n",
       "      <td>/universities/harvard-university</td>\n",
       "    </tr>\n",
       "    <tr>\n",
       "      <th>3</th>\n",
       "      <td>US</td>\n",
       "      <td>94</td>\n",
       "      <td>United States</td>\n",
       "      <td>&lt;a href=\"/where-to-study/north-america/united-...</td>\n",
       "      <td>&lt;img src=\"https://www.topuniversities.com/site...</td>\n",
       "      <td>294562</td>\n",
       "      <td>4</td>\n",
       "      <td>North America</td>\n",
       "      <td>97.7</td>\n",
       "      <td>5</td>\n",
       "      <td>California Institute of Technology (Caltech)</td>\n",
       "      <td>/universities/california-institute-technology-...</td>\n",
       "    </tr>\n",
       "    <tr>\n",
       "      <th>4</th>\n",
       "      <td>GB</td>\n",
       "      <td>95</td>\n",
       "      <td>United Kingdom</td>\n",
       "      <td>&lt;a href=\"/where-to-study/europe/united-kingdom...</td>\n",
       "      <td>&lt;img src=\"https://www.topuniversities.com/site...</td>\n",
       "      <td>294561</td>\n",
       "      <td>5</td>\n",
       "      <td>Europe</td>\n",
       "      <td>95.6</td>\n",
       "      <td>5</td>\n",
       "      <td>University of Cambridge</td>\n",
       "      <td>/universities/university-cambridge</td>\n",
       "    </tr>\n",
       "  </tbody>\n",
       "</table>\n",
       "</div>"
      ],
      "text/plain": [
       "   cc core_id         country  \\\n",
       "0  US     410   United States   \n",
       "1  US     573   United States   \n",
       "2  US     253   United States   \n",
       "3  US      94   United States   \n",
       "4  GB      95  United Kingdom   \n",
       "\n",
       "                                               guide  \\\n",
       "0  <a href=\"/where-to-study/north-america/united-...   \n",
       "1  <a href=\"/where-to-study/north-america/united-...   \n",
       "2  <a href=\"/where-to-study/north-america/united-...   \n",
       "3  <a href=\"/where-to-study/north-america/united-...   \n",
       "4  <a href=\"/where-to-study/europe/united-kingdom...   \n",
       "\n",
       "                                                logo     nid rank_display  \\\n",
       "0  <img src=\"https://www.topuniversities.com/site...  294850            1   \n",
       "1  <img src=\"https://www.topuniversities.com/site...  297282            2   \n",
       "2  <img src=\"https://www.topuniversities.com/site...  294270            3   \n",
       "3  <img src=\"https://www.topuniversities.com/site...  294562            4   \n",
       "4  <img src=\"https://www.topuniversities.com/site...  294561            5   \n",
       "\n",
       "          region score stars                                         title  \\\n",
       "0  North America   100     6   Massachusetts Institute of Technology (MIT)   \n",
       "1  North America  98.7     5                           Stanford University   \n",
       "2  North America  98.4     5                            Harvard University   \n",
       "3  North America  97.7     5  California Institute of Technology (Caltech)   \n",
       "4         Europe  95.6     5                       University of Cambridge   \n",
       "\n",
       "                                                 url  \n",
       "0  /universities/massachusetts-institute-technolo...  \n",
       "1                  /universities/stanford-university  \n",
       "2                   /universities/harvard-university  \n",
       "3  /universities/california-institute-technology-...  \n",
       "4                 /universities/university-cambridge  "
      ]
     },
     "execution_count": 4,
     "metadata": {},
     "output_type": "execute_result"
    }
   ],
   "source": [
    "univ_df = pd.DataFrame(univ_vals)\n",
    "univ_df.head()"
   ]
  },
  {
   "cell_type": "markdown",
   "metadata": {},
   "source": [
    "keep only : \n",
    "1. name, rank, country and region\n",
    "2. number of faculty members (international and total) and number of students (international and total)\n",
    "\n",
    "second part must be retrieved from different request"
   ]
  },
  {
   "cell_type": "markdown",
   "metadata": {},
   "source": [
    "### Task 1.0.1 Clear rank and drop data not needed"
   ]
  },
  {
   "cell_type": "markdown",
   "metadata": {},
   "source": [
    "<div class=\"lev1\"><a href=\"#Table-of-Contents\"><span class=\"toc-item-num\"></span>Table of contents</a></div>"
   ]
  },
  {
   "cell_type": "markdown",
   "metadata": {},
   "source": [
    "At first we cleaned 'rank_display'. After that found out we could just assign the order as rank. This gives a better result since we don't have to clean 'rank_display' neither to bother with interval ranks"
   ]
  },
  {
   "cell_type": "code",
   "execution_count": 5,
   "metadata": {
    "collapsed": true
   },
   "outputs": [],
   "source": [
    "#extracts the int value from a rank formatted either as =rank, rank or \n",
    "#rank_min-rank_max (last case will be replaced by rank_min)\n",
    "def clean_rank(r):\n",
    "    if(r[0] == '='):\n",
    "        return int(r[1:]) \n",
    "    elif len(r) > 3 and r[3] == '-':\n",
    "            return int(r[:3])\n",
    "    else:\n",
    "        return int(r)"
   ]
  },
  {
   "cell_type": "code",
   "execution_count": 6,
   "metadata": {},
   "outputs": [
    {
     "data": {
      "text/html": [
       "<div>\n",
       "<style>\n",
       "    .dataframe thead tr:only-child th {\n",
       "        text-align: right;\n",
       "    }\n",
       "\n",
       "    .dataframe thead th {\n",
       "        text-align: left;\n",
       "    }\n",
       "\n",
       "    .dataframe tbody tr th {\n",
       "        vertical-align: top;\n",
       "    }\n",
       "</style>\n",
       "<table border=\"1\" class=\"dataframe\">\n",
       "  <thead>\n",
       "    <tr style=\"text-align: right;\">\n",
       "      <th></th>\n",
       "      <th>country</th>\n",
       "      <th>rank_display</th>\n",
       "      <th>region</th>\n",
       "      <th>title</th>\n",
       "    </tr>\n",
       "  </thead>\n",
       "  <tbody>\n",
       "    <tr>\n",
       "      <th>0</th>\n",
       "      <td>United States</td>\n",
       "      <td>1</td>\n",
       "      <td>North America</td>\n",
       "      <td>Massachusetts Institute of Technology (MIT)</td>\n",
       "    </tr>\n",
       "    <tr>\n",
       "      <th>1</th>\n",
       "      <td>United States</td>\n",
       "      <td>2</td>\n",
       "      <td>North America</td>\n",
       "      <td>Stanford University</td>\n",
       "    </tr>\n",
       "    <tr>\n",
       "      <th>2</th>\n",
       "      <td>United States</td>\n",
       "      <td>3</td>\n",
       "      <td>North America</td>\n",
       "      <td>Harvard University</td>\n",
       "    </tr>\n",
       "    <tr>\n",
       "      <th>3</th>\n",
       "      <td>United States</td>\n",
       "      <td>4</td>\n",
       "      <td>North America</td>\n",
       "      <td>California Institute of Technology (Caltech)</td>\n",
       "    </tr>\n",
       "    <tr>\n",
       "      <th>4</th>\n",
       "      <td>United Kingdom</td>\n",
       "      <td>5</td>\n",
       "      <td>Europe</td>\n",
       "      <td>University of Cambridge</td>\n",
       "    </tr>\n",
       "  </tbody>\n",
       "</table>\n",
       "</div>"
      ],
      "text/plain": [
       "          country  rank_display         region  \\\n",
       "0   United States             1  North America   \n",
       "1   United States             2  North America   \n",
       "2   United States             3  North America   \n",
       "3   United States             4  North America   \n",
       "4  United Kingdom             5         Europe   \n",
       "\n",
       "                                          title  \n",
       "0   Massachusetts Institute of Technology (MIT)  \n",
       "1                           Stanford University  \n",
       "2                            Harvard University  \n",
       "3  California Institute of Technology (Caltech)  \n",
       "4                       University of Cambridge  "
      ]
     },
     "execution_count": 6,
     "metadata": {},
     "output_type": "execute_result"
    }
   ],
   "source": [
    "#drops useless columns and cleans ranks\n",
    "univ_dr_df = univ_df.drop('guide', 1).drop('logo', 1).drop('stars', 1).drop('url', 1) \\\n",
    ".drop('score', 1).drop('cc', 1).drop('core_id', 1).drop('nid', 1)\n",
    "univ_dr_df['rank_display'] = univ_dr_df['rank_display'].map(clean_rank)\n",
    "univ_dr_df.head()"
   ]
  },
  {
   "cell_type": "code",
   "execution_count": 7,
   "metadata": {},
   "outputs": [
    {
     "data": {
      "text/html": [
       "<div>\n",
       "<style>\n",
       "    .dataframe thead tr:only-child th {\n",
       "        text-align: right;\n",
       "    }\n",
       "\n",
       "    .dataframe thead th {\n",
       "        text-align: left;\n",
       "    }\n",
       "\n",
       "    .dataframe tbody tr th {\n",
       "        vertical-align: top;\n",
       "    }\n",
       "</style>\n",
       "<table border=\"1\" class=\"dataframe\">\n",
       "  <thead>\n",
       "    <tr style=\"text-align: right;\">\n",
       "      <th></th>\n",
       "      <th>country</th>\n",
       "      <th>rank_display</th>\n",
       "      <th>region</th>\n",
       "      <th>title</th>\n",
       "    </tr>\n",
       "  </thead>\n",
       "  <tbody>\n",
       "    <tr>\n",
       "      <th>0</th>\n",
       "      <td>United States</td>\n",
       "      <td>1</td>\n",
       "      <td>North America</td>\n",
       "      <td>Massachusetts Institute of Technology (MIT)</td>\n",
       "    </tr>\n",
       "    <tr>\n",
       "      <th>1</th>\n",
       "      <td>United States</td>\n",
       "      <td>2</td>\n",
       "      <td>North America</td>\n",
       "      <td>Stanford University</td>\n",
       "    </tr>\n",
       "    <tr>\n",
       "      <th>2</th>\n",
       "      <td>United States</td>\n",
       "      <td>3</td>\n",
       "      <td>North America</td>\n",
       "      <td>Harvard University</td>\n",
       "    </tr>\n",
       "    <tr>\n",
       "      <th>3</th>\n",
       "      <td>United States</td>\n",
       "      <td>4</td>\n",
       "      <td>North America</td>\n",
       "      <td>California Institute of Technology (Caltech)</td>\n",
       "    </tr>\n",
       "    <tr>\n",
       "      <th>4</th>\n",
       "      <td>United Kingdom</td>\n",
       "      <td>5</td>\n",
       "      <td>Europe</td>\n",
       "      <td>University of Cambridge</td>\n",
       "    </tr>\n",
       "  </tbody>\n",
       "</table>\n",
       "</div>"
      ],
      "text/plain": [
       "          country  rank_display         region  \\\n",
       "0   United States             1  North America   \n",
       "1   United States             2  North America   \n",
       "2   United States             3  North America   \n",
       "3   United States             4  North America   \n",
       "4  United Kingdom             5         Europe   \n",
       "\n",
       "                                          title  \n",
       "0   Massachusetts Institute of Technology (MIT)  \n",
       "1                           Stanford University  \n",
       "2                            Harvard University  \n",
       "3  California Institute of Technology (Caltech)  \n",
       "4                       University of Cambridge  "
      ]
     },
     "execution_count": 7,
     "metadata": {},
     "output_type": "execute_result"
    }
   ],
   "source": [
    "#replace rank by index+1 in case this is an invalid way to do, just ignore this cell\n",
    "univ_dr_df[['rank_display']] = univ_dr_df.index + 1\n",
    "univ_dr_df.head()"
   ]
  },
  {
   "cell_type": "markdown",
   "metadata": {},
   "source": [
    "### Task 1.0.2 Test soup for missing data"
   ]
  },
  {
   "cell_type": "markdown",
   "metadata": {},
   "source": [
    "<div class=\"lev1\"><a href=\"#Table-of-Contents\"><span class=\"toc-item-num\"></span>Table of contents</a></div>"
   ]
  },
  {
   "cell_type": "code",
   "execution_count": 8,
   "metadata": {},
   "outputs": [
    {
     "data": {
      "text/plain": [
       "'<!DOCTYPE html>\\n<html dir=\"ltr\" version=\"XHTML+RDFa 1.0\" xml:lang=\"en\" xmlns=\"http://www.w3.org/1999/xhtml\" xmlns:article=\"http://ogp.me/ns/article#\" xmlns:book=\"http://ogp.me/ns/book#\" xmlns:content=\"http://purl.org/rss/1.0/modules/content/\" xmlns:dc=\"http://purl.org/dc/terms/\" xmlns:foaf=\"http://xmlns.com/foaf/0.1/\" xmlns:og=\"http://ogp.me/ns#\" xmlns:product=\"http://ogp.me/ns/product#\" xmlns:profile=\"http://ogp.me/ns/profile#\" xmlns:rdfs=\"http://www.w3.org/2000/01/rdf-schema#\" xmlns:schema=\"http://schema.org/\" xmlns:sioc=\"http://rdfs.org/sioc/ns#\" xmlns:sioct=\"http://rdfs.org/sioc/types#\" xm'"
      ]
     },
     "execution_count": 8,
     "metadata": {},
     "output_type": "execute_result"
    }
   ],
   "source": [
    "#Retrieve the soup for the caltech description page\n",
    "url_caltech = 'https://www.topuniversities.com/universities/california-institute-technology-caltech#wurs'\n",
    "r_caltech = requests.get(url_caltech)\n",
    "soup_caltech = BeautifulSoup(r_caltech.text, 'html.parser')\n",
    "soup_caltech.prettify()[0:600]"
   ]
  },
  {
   "cell_type": "markdown",
   "metadata": {},
   "source": [
    "From the soup, with a quick ctrl+f on the number displayed on the corresponding page, I was able to identify the elements which contained the value I was interested in:\n",
    "1. Number of international students ``<div class=\"int-students-main wrapper col-md-4\"> \\ <div class=\"number\">``\n",
    "    \n",
    "2. Number of students ``<div class=\"students-main wrapper col-md-4\"> \\ <div class=\"number\">``\n",
    "\n",
    "3. Number of faculty staff in total ``<div class=\"faculty-main wrapper col-md-4\"> \\ <div class=\"number\">``\n",
    "\n",
    "4. Number of faculty staff international ``<div class=\"inter faculty\"> \\ <div class=\"number\">``"
   ]
  },
  {
   "cell_type": "code",
   "execution_count": 9,
   "metadata": {},
   "outputs": [
    {
     "data": {
      "text/plain": [
       "'647 '"
      ]
     },
     "execution_count": 9,
     "metadata": {},
     "output_type": "execute_result"
    }
   ],
   "source": [
    "#extracts the number of international students\n",
    "caltech_inter_st = soup_caltech.find('div', class_='int-students-main wrapper col-md-4').find('div', class_='number').text\n",
    "caltech_inter_st[1:]"
   ]
  },
  {
   "cell_type": "code",
   "execution_count": 10,
   "metadata": {},
   "outputs": [
    {
     "data": {
      "text/plain": [
       "'2,255 '"
      ]
     },
     "execution_count": 10,
     "metadata": {},
     "output_type": "execute_result"
    }
   ],
   "source": [
    "#extracts the number of students\n",
    "caltech_st = soup_caltech.find('div', class_ = 'students-main wrapper col-md-4').find('div', class_='number').text\n",
    "caltech_st[1:]"
   ]
  },
  {
   "cell_type": "markdown",
   "metadata": {},
   "source": [
    "Now we can test with MIT to see whether the parsing works the same (which is probably the case). If it works, then we will iterate over the links in the dataframe to parse the values of interest for each university"
   ]
  },
  {
   "cell_type": "code",
   "execution_count": 11,
   "metadata": {},
   "outputs": [
    {
     "data": {
      "text/plain": [
       "'3,717 '"
      ]
     },
     "execution_count": 11,
     "metadata": {},
     "output_type": "execute_result"
    }
   ],
   "source": [
    "#checks if the extraction canvas works for another university\n",
    "url_mit = 'https://www.topuniversities.com/universities/massachusetts-institute-technology-mit#wurs'\n",
    "r_mit = requests.get(url_mit)\n",
    "soup_mit = BeautifulSoup(r_mit.text, 'html.parser')\n",
    "soup_mit.find('div', class_='int-students-main wrapper col-md-4').find('div', class_='number').text[1:]\n"
   ]
  },
  {
   "cell_type": "code",
   "execution_count": 12,
   "metadata": {
    "collapsed": true
   },
   "outputs": [],
   "source": [
    "#tries to retrieve the value contained in the child <block_p class = 'class_p'>, hence contained in <block_c class='class_c'\n",
    "#returns NaN if one of both block is not found\n",
    "def retrieve(soup, block_p, class_p, block_c, class_c):\n",
    "    parent = soup.find(block_p, class_p)\n",
    "    if parent is None:\n",
    "        return 'failed'\n",
    "    else:\n",
    "        child = parent.find(block_c, class_c)\n",
    "        if child is None:\n",
    "            return 'failed'\n",
    "        else:\n",
    "            return int(child.text[1:].replace(',',''))\n",
    "    "
   ]
  },
  {
   "cell_type": "code",
   "execution_count": 13,
   "metadata": {},
   "outputs": [
    {
     "data": {
      "text/plain": [
       "3717"
      ]
     },
     "execution_count": 13,
     "metadata": {},
     "output_type": "execute_result"
    }
   ],
   "source": [
    "#test function for valid arguments\n",
    "retrieve(soup_mit, 'div', 'int-students-main wrapper col-md-4', 'div', 'number')"
   ]
  },
  {
   "cell_type": "code",
   "execution_count": 14,
   "metadata": {},
   "outputs": [
    {
     "data": {
      "text/plain": [
       "'failed'"
      ]
     },
     "execution_count": 14,
     "metadata": {},
     "output_type": "execute_result"
    }
   ],
   "source": [
    "#test function for invalid argument class_p\n",
    "retrieve(soup_mit, 'div', 'int-st-main wrapper col-md-4', 'div', 'number')"
   ]
  },
  {
   "cell_type": "code",
   "execution_count": 15,
   "metadata": {},
   "outputs": [
    {
     "data": {
      "text/plain": [
       "'failed'"
      ]
     },
     "execution_count": 15,
     "metadata": {},
     "output_type": "execute_result"
    }
   ],
   "source": [
    "#test function for invalid argument class_c\n",
    "retrieve(soup_mit, 'div', 'int-students-main wrapper col-md-4', 'div', 'nber')"
   ]
  },
  {
   "cell_type": "code",
   "execution_count": 16,
   "metadata": {
    "collapsed": true
   },
   "outputs": [],
   "source": [
    "#simplify the call for our usage\n",
    "def retrieve_div_number(soup, class_p):\n",
    "    return retrieve(soup, 'div', class_p, 'div', 'number')"
   ]
  },
  {
   "cell_type": "code",
   "execution_count": 17,
   "metadata": {},
   "outputs": [
    {
     "data": {
      "text/plain": [
       "3717"
      ]
     },
     "execution_count": 17,
     "metadata": {},
     "output_type": "execute_result"
    }
   ],
   "source": [
    "#test function with valid arguments\n",
    "retrieve_div_number(soup_mit, 'int-students-main wrapper col-md-4')"
   ]
  },
  {
   "cell_type": "markdown",
   "metadata": {},
   "source": [
    "### Task 1.0.3 Prepare url for missing data"
   ]
  },
  {
   "cell_type": "markdown",
   "metadata": {},
   "source": [
    "<div class=\"lev1\"><a href=\"#Table-of-Contents\"><span class=\"toc-item-num\"></span>Table of contents</a></div>"
   ]
  },
  {
   "cell_type": "code",
   "execution_count": 18,
   "metadata": {},
   "outputs": [
    {
     "data": {
      "text/plain": [
       "['https://www.topuniversities.com/universities/massachusetts-institute-technology-mit#wurs',\n",
       " 'https://www.topuniversities.com/universities/stanford-university#wurs',\n",
       " 'https://www.topuniversities.com/universities/harvard-university#wurs',\n",
       " 'https://www.topuniversities.com/universities/california-institute-technology-caltech#wurs',\n",
       " 'https://www.topuniversities.com/universities/university-cambridge#wurs']"
      ]
     },
     "execution_count": 18,
     "metadata": {},
     "output_type": "execute_result"
    }
   ],
   "source": [
    "#Prepare urls for request-loop\n",
    "u_urls = np.array(univ_df[['url']].values)\n",
    "univ_urls = []\n",
    "main_url = 'https://www.topuniversities.com'\n",
    "for url_ in u_urls:\n",
    "    url = url_[0]\n",
    "    univ_urls.append(main_url + url + '#wurs')\n",
    "univ_urls[:5]"
   ]
  },
  {
   "cell_type": "code",
   "execution_count": 19,
   "metadata": {},
   "outputs": [
    {
     "data": {
      "text/plain": [
       "959"
      ]
     },
     "execution_count": 19,
     "metadata": {},
     "output_type": "execute_result"
    }
   ],
   "source": [
    "len(univ_urls)"
   ]
  },
  {
   "cell_type": "markdown",
   "metadata": {},
   "source": [
    "### Task 1.0.4 Get missing data function"
   ]
  },
  {
   "cell_type": "markdown",
   "metadata": {},
   "source": [
    "<div class=\"lev1\"><a href=\"#Table-of-Contents\"><span class=\"toc-item-num\"></span>Table of contents</a></div>"
   ]
  },
  {
   "cell_type": "markdown",
   "metadata": {},
   "source": [
    "Since doing the 959 requests in one go didn't work, I will manually split the requests in chunks as big as possible to minimize the merge step"
   ]
  },
  {
   "cell_type": "code",
   "execution_count": 20,
   "metadata": {
    "collapsed": true
   },
   "outputs": [],
   "source": [
    "#First attempt to do the requests, too blocking for 959 requests\n",
    "def get_missing_data(urls):\n",
    "    international_students = []\n",
    "    students = []\n",
    "    international_faculty = []\n",
    "    faculty = []\n",
    "\n",
    "    for url in urls:\n",
    "    \n",
    "        r = requests.get(url)\n",
    "        soup = BeautifulSoup(r.text, 'html.parser')\n",
    "    \n",
    "        inter_st = retrieve_div_number(soup, 'int-students-main wrapper col-md-4')\n",
    "        st = retrieve_div_number(soup, 'students-main wrapper col-md-4')\n",
    "        inter_fac = retrieve_div_number(soup, 'faculty-main wrapper col-md-4')\n",
    "        fac = retrieve_div_number(soup, 'inter faculty')\n",
    "    \n",
    "        international_students.append(inter_st)\n",
    "        students.append(st)\n",
    "        international_faculty.append(inter_fac)\n",
    "        faculty.append(fac)\n",
    "\n",
    "    return international_students, students, international_faculty, faculty"
   ]
  },
  {
   "cell_type": "code",
   "execution_count": 21,
   "metadata": {
    "collapsed": true
   },
   "outputs": [],
   "source": [
    "#store result in arrays\n",
    "inter_s, s, inter_f, f = get_missing_data(univ_urls[:5])"
   ]
  },
  {
   "cell_type": "code",
   "execution_count": 22,
   "metadata": {
    "scrolled": false
   },
   "outputs": [
    {
     "data": {
      "text/plain": [
       "[3717, 3611, 5266, 647, 6699]"
      ]
     },
     "execution_count": 22,
     "metadata": {},
     "output_type": "execute_result"
    }
   ],
   "source": [
    "inter_s"
   ]
  },
  {
   "cell_type": "markdown",
   "metadata": {},
   "source": [
    "### Task 1.0.5 Prepare callback to import all data"
   ]
  },
  {
   "cell_type": "markdown",
   "metadata": {},
   "source": [
    "<div class=\"lev1\"><a href=\"#Table-of-Contents\"><span class=\"toc-item-num\"></span>Table of contents</a></div>"
   ]
  },
  {
   "cell_type": "markdown",
   "metadata": {},
   "source": [
    "Since this is super slow, we will use the package future-requests that will make non-blocking requests. While waiting, I will treat only a small part of the data. When requests complete, I store the results in variables and its all good. This is the reason for the small block before the function"
   ]
  },
  {
   "cell_type": "code",
   "execution_count": 23,
   "metadata": {
    "collapsed": true
   },
   "outputs": [],
   "source": [
    "#declare globals for second methods\n",
    "international_st = []\n",
    "students = []\n",
    "international_fac = []\n",
    "fac = []\n",
    "bad_soups = []\n",
    "futures = []\n",
    "num_request = 959 # ew need only 200 but we saw that there are 959 url. So we take all of them and then just take the 200 first values\n",
    "count = 0"
   ]
  },
  {
   "cell_type": "code",
   "execution_count": 24,
   "metadata": {
    "collapsed": true
   },
   "outputs": [],
   "source": [
    "#helper to reset globals\n",
    "def reset_arrays():\n",
    "    global international_st\n",
    "    global students\n",
    "    global international_fac\n",
    "    global fac\n",
    "    global bad_soups \n",
    "    global count\n",
    "    \n",
    "    international_st = []\n",
    "    students = []\n",
    "    international_fac = []\n",
    "    fac = []\n",
    "    bad_soups = []\n",
    "    count = 0\n",
    "    \n",
    "    return 0"
   ]
  },
  {
   "cell_type": "code",
   "execution_count": 25,
   "metadata": {
    "collapsed": true
   },
   "outputs": [],
   "source": [
    "#proceeds request when completed in background:\n",
    "# extract soup, extract values\n",
    "def callback(future):\n",
    "    r = future.result()\n",
    "    soup = BeautifulSoup(r.text, 'html.parser')\n",
    "    \n",
    "    global international_st\n",
    "    global students\n",
    "    global international_fac\n",
    "    global fac\n",
    "    global num_request\n",
    "    global count\n",
    "    global bad_soups\n",
    "    count = count + 1\n",
    "    if count > num_request:\n",
    "        international_st = []\n",
    "        students = []\n",
    "        international_fac = []\n",
    "        fac = []\n",
    "        count = 0\n",
    "    \n",
    "    inter_st = retrieve_div_number(soup, 'int-students-main wrapper col-md-4')\n",
    "    st = retrieve_div_number(soup, 'students-main wrapper col-md-4')\n",
    "    inter_fac = retrieve_div_number(soup, 'inter faculty')\n",
    "    f = retrieve_div_number(soup, 'faculty-main wrapper col-md-4')\n",
    "    if(f == 'failed'):\n",
    "        f = retrieve_div_number(soup, 'total faculty')\n",
    "    if inter_st == 'failed' or st == 'failed' or inter_fac == 'failed' or f == 'failed':\n",
    "        bad_soups.append(soup)\n",
    "    international_st.append(inter_st)\n",
    "    students.append(st)\n",
    "    international_fac.append(inter_fac)\n",
    "    fac.append(f)"
   ]
  },
  {
   "cell_type": "markdown",
   "metadata": {},
   "source": [
    "### Task 1.0.6 Import Data"
   ]
  },
  {
   "cell_type": "markdown",
   "metadata": {},
   "source": [
    "<div class=\"lev1\"><a href=\"#Table-of-Contents\"><span class=\"toc-item-num\"></span>Table of contents</a></div>"
   ]
  },
  {
   "cell_type": "markdown",
   "metadata": {
    "collapsed": true
   },
   "source": [
    "Now we can do our 959 requests in background. For it to work, we must recompile the initilisation of arrays as well as the callback function"
   ]
  },
  {
   "cell_type": "markdown",
   "metadata": {},
   "source": [
    "The following block will play a small sound when the requests are done. For it to work you need to install python-vlc   \n",
    "$ pip install python-vlc"
   ]
  },
  {
   "cell_type": "code",
   "execution_count": 26,
   "metadata": {
    "collapsed": true
   },
   "outputs": [],
   "source": [
    "#plays a fancy sound, customizable with other sounds in the fancy_sounds folder\n",
    "import vlc\n",
    "def play_sound_futur(future):\n",
    "    folder_path = 'fancy_sounds/'\n",
    "    music_path = 'zelda_small_item.wav'\n",
    "    p = vlc.MediaPlayer(folder_path + music_path)\n",
    "    p.play()\n",
    "    return 0\n",
    "\n",
    "#plays a other sound, when crash or have data from where we saved the data\n",
    "def play_sound(music_path):\n",
    "    folder_path = 'fancy_sounds/'\n",
    "    p = vlc.MediaPlayer(folder_path + music_path)\n",
    "    p.play()\n",
    "    return 0"
   ]
  },
  {
   "cell_type": "code",
   "execution_count": 27,
   "metadata": {
    "collapsed": true
   },
   "outputs": [],
   "source": [
    "#initialize session for background threads\n",
    "from requests_futures.sessions import FuturesSession\n",
    "session = FuturesSession()"
   ]
  },
  {
   "cell_type": "code",
   "execution_count": 28,
   "metadata": {
    "collapsed": true,
    "scrolled": true
   },
   "outputs": [],
   "source": [
    "#displays a progress bar for the requests in backgrounds\n",
    "import threading\n",
    "from IPython.display import display\n",
    "import ipywidgets as widgets\n",
    "import time\n",
    "import sys\n",
    "import pickle\n",
    "\n",
    "def work(progress, num_request):\n",
    "    global fac\n",
    "    while(len(fac) <= num_request):\n",
    "        progress.value = len(fac)/num_request\n",
    "        \n",
    "def progress_bar(num_request):\n",
    "    progress = widgets.FloatProgress(value=0.0, min=0.0, max=1.0)\n",
    "    \n",
    "    thread = threading.Thread(target=work, args=(progress, num_request,))\n",
    "    display(progress)\n",
    "    thread.start()\n"
   ]
  },
  {
   "cell_type": "code",
   "execution_count": 29,
   "metadata": {
    "collapsed": true
   },
   "outputs": [],
   "source": [
    "#initiate background requests. The number of requests should be customized on the next line\n",
    "\n",
    "import pickle\n",
    "\n",
    "def load_data(univ_urls, num_request):\n",
    "\n",
    "    url_slice = univ_urls[:num_request]\n",
    "    url_last_idx = len(url_slice) - 1\n",
    "    reset_arrays()\n",
    "    for i_url, url in enumerate(url_slice):\n",
    "        # On fait notre requête GET\n",
    "        future = session.get(url)\n",
    "        # On rajoute le callback à appeler quand\n",
    "        # le résultat de la requête arrive.\n",
    "        if i_url != url_last_idx:\n",
    "            futures.append(future)\n",
    "        future.add_done_callback(callback)\n",
    "        if i_url == (url_last_idx):\n",
    "            future.add_done_callback(play_sound_futur)"
   ]
  },
  {
   "cell_type": "code",
   "execution_count": 30,
   "metadata": {},
   "outputs": [
    {
     "data": {
      "application/vnd.jupyter.widget-view+json": {
       "model_id": "e78124ca23e14e9cbf712232849eb4dd",
       "version_major": 2,
       "version_minor": 0
      },
      "text/plain": [
       "A Jupyter Widget"
      ]
     },
     "metadata": {},
     "output_type": "display_data"
    },
    {
     "name": "stdout",
     "output_type": "stream",
     "text": [
      "959\n"
     ]
    }
   ],
   "source": [
    "# here we have the nb of request that we want to load\n",
    "# if you delete the file you can see the progress bar to see the loading of the data\n",
    "#if you don't have the file save.p it loads the data otherwise we take the data from save.p\n",
    "\n",
    "progress_bar(num_request)\n",
    "\n",
    "try:\n",
    "    data = pickle.load(open(\"save.p\", \"rb\"))\n",
    "    international_st = data[0]\n",
    "    students = data[1]\n",
    "    international_fac = data[2]\n",
    "    fac = data[3]\n",
    "    num_request_file = data[4]\n",
    "    \n",
    "    print(num_request_file)\n",
    "    \n",
    "    if(num_request_file != num_request):\n",
    "        play_sound('Slurp.wav')\n",
    "        load_data(univ_urls, num_request)\n",
    "    else:\n",
    "        play_sound('smb_1-up.wav')\n",
    "        \n",
    "except (OSError, IOError) as e:\n",
    "    load_data(univ_urls, num_request)\n"
   ]
  },
  {
   "cell_type": "code",
   "execution_count": 31,
   "metadata": {
    "collapsed": true
   },
   "outputs": [],
   "source": [
    "url_slice = univ_urls[:50]\n"
   ]
  },
  {
   "cell_type": "markdown",
   "metadata": {},
   "source": [
    "missing data (NaN fields):\n",
    "    1. [400:500] Universidad Externado de Colombia missing international students (can put 0)\n",
    "    2. [500:600] Iran University of Science and Technology missing international fac/students (can put 0)\n",
    "    3. [600:700]\n",
    "        1. Jadavpur University:             missing international fac (can put 0)\n",
    "        2. Universidad Iberoamericana IBERO missing international fac/students (can put 0)\n",
    "        3. University of Haifa              \"--------------------------------------------\"\n",
    "        4. University of Hyderabad          missing international fac (can put 0)\n",
    "        5. Anna University                  missing international fac/students (can put 0)\n",
    "        6. Universidad del Pais Vasco       missing international fac (can put 0)\n",
    "        7. University of Minho              missing internation fac/students (can put 0)\n",
    "        8. University of Minho              \"------------------------------------------\"\n",
    "    4. [700:800]\n",
    "        1. Comenius University in Bratislava   missing international fac (can put 0)\n",
    "        2. Memorial University of Newfoundland \"------------------------------------\"\n",
    "        3. Rhodes University                   \"------------------------------------\"\n",
    "        4. Paris Lodron University of Salzburg \"------------------------------------\"\n",
    "        5. University of Colombo               \"------------------------------------\"\n",
    "\n",
    "it seems the NaN values can be replaced by 0, we won't check the last ones since there are 15 in the next category and 13 in the last respectively [800:900] and [900:]"
   ]
  },
  {
   "cell_type": "code",
   "execution_count": 32,
   "metadata": {},
   "outputs": [
    {
     "data": {
      "text/plain": [
       "0"
      ]
     },
     "execution_count": 32,
     "metadata": {},
     "output_type": "execute_result"
    }
   ],
   "source": [
    "#At this point, there must be 38 bad soups when you run all requests. All bad soups values are replaced by 0 later\n",
    "len(bad_soups)"
   ]
  },
  {
   "cell_type": "markdown",
   "metadata": {},
   "source": [
    "### Task 1.0.7 Kill data if needed"
   ]
  },
  {
   "cell_type": "markdown",
   "metadata": {},
   "source": [
    "### <b> Warning: Running the following cell will cancell all pending requests, corrupting the data in the process </b>\n",
    "Note that to run the cell you have to go to store_data() because we only need futures when we load the data"
   ]
  },
  {
   "cell_type": "markdown",
   "metadata": {},
   "source": [
    "<div class=\"lev1\"><a href=\"#Table-of-Contents\"><span class=\"toc-item-num\"></span>Table of contents</a></div>"
   ]
  },
  {
   "cell_type": "code",
   "execution_count": 33,
   "metadata": {
    "scrolled": true
   },
   "outputs": [
    {
     "data": {
      "text/plain": [
       "''"
      ]
     },
     "execution_count": 33,
     "metadata": {},
     "output_type": "execute_result"
    }
   ],
   "source": [
    "# attempts to kill waiting requests: if attempt is successful, bar doesn't move. Goal is to cancel all but last requests\n",
    "# in order to instantly play sound and complete only one request\n",
    "def reset_futures():\n",
    "    global futures \n",
    "    for fu in futures:\n",
    "        # cancel request on this url\n",
    "        fu.cancel()\n",
    "        #print(\"dead\")\n",
    "    futures = []    \n",
    "    return 0\n",
    "\n",
    "#Last try it seemed to work. We reset arrays twice since the canceling of\n",
    "#asynchronous requests is asynchronous, the reset might happen before all requests are canceled\n",
    "#and some requests might finish in the meantime (after reset)\n",
    ";"
   ]
  },
  {
   "cell_type": "markdown",
   "metadata": {},
   "source": [
    "#### <b> Next block will close background requests, uncomment and use carefully </b>"
   ]
  },
  {
   "cell_type": "code",
   "execution_count": 34,
   "metadata": {},
   "outputs": [
    {
     "data": {
      "text/plain": [
       "0"
      ]
     },
     "execution_count": 34,
     "metadata": {},
     "output_type": "execute_result"
    }
   ],
   "source": [
    "#bad_soups contains all the soups from which we were unable to scrap data. \n",
    "#After requests are finished, the block should compile to 0\n",
    "len(bad_soups)"
   ]
  },
  {
   "cell_type": "markdown",
   "metadata": {},
   "source": [
    "### <b>Task 1.0.8 Store data and continue compilation</b>\n"
   ]
  },
  {
   "cell_type": "markdown",
   "metadata": {},
   "source": [
    "<div class=\"lev1\"><a href=\"#Table-of-Contents\"><span class=\"toc-item-num\"></span>Table of contents</a></div>"
   ]
  },
  {
   "cell_type": "code",
   "execution_count": 35,
   "metadata": {
    "collapsed": true
   },
   "outputs": [],
   "source": [
    "# this is to store the data if we don't have the file save.p and reset the futurs after loading\n",
    "\n",
    "def store_data():\n",
    "    global international_st\n",
    "    global students\n",
    "    global international_fac\n",
    "    global fac\n",
    "    global num_request\n",
    "    \n",
    "    data = [international_st, students, international_fac, fac, num_request]\n",
    "    pickle.dump(data, open(\"save.p\", \"wb\"))\n",
    "    reset_futures()\n",
    "    \n",
    "    \n",
    "# you can delete the file but you have to uncomment this part to save the data in the file\n",
    "\n",
    "#store_data() # decoment here after the Zelda sound and recomment don't need to store data everytime"
   ]
  },
  {
   "cell_type": "markdown",
   "metadata": {},
   "source": [
    "If you don't have the file save.p or changed the number of requests to load, you will have corrupted data. The reason of this is tha the data are loaded in the background so we can still work. If you are in this case please store the data with store_data() and run again the code from here. ( If you don't change anything you won't have any problem )\n"
   ]
  },
  {
   "cell_type": "markdown",
   "metadata": {},
   "source": [
    "You can see the requests progress here. If you want to do something else, a sound will be played as the requests complete"
   ]
  },
  {
   "cell_type": "markdown",
   "metadata": {},
   "source": [
    "Now that you finished your coffee and were alerted by the fancy sounds that you could pursue the compilation, we can finally use our well-deserved data"
   ]
  },
  {
   "cell_type": "code",
   "execution_count": 36,
   "metadata": {},
   "outputs": [
    {
     "data": {
      "text/html": [
       "<div>\n",
       "<style>\n",
       "    .dataframe thead tr:only-child th {\n",
       "        text-align: right;\n",
       "    }\n",
       "\n",
       "    .dataframe thead th {\n",
       "        text-align: left;\n",
       "    }\n",
       "\n",
       "    .dataframe tbody tr th {\n",
       "        vertical-align: top;\n",
       "    }\n",
       "</style>\n",
       "<table border=\"1\" class=\"dataframe\">\n",
       "  <thead>\n",
       "    <tr style=\"text-align: right;\">\n",
       "      <th></th>\n",
       "      <th>inter_st</th>\n",
       "      <th>students</th>\n",
       "      <th>inter_fac</th>\n",
       "      <th>fac</th>\n",
       "    </tr>\n",
       "  </thead>\n",
       "  <tbody>\n",
       "    <tr>\n",
       "      <th>0</th>\n",
       "      <td>3717</td>\n",
       "      <td>11067</td>\n",
       "      <td>1679</td>\n",
       "      <td>2982</td>\n",
       "    </tr>\n",
       "    <tr>\n",
       "      <th>1</th>\n",
       "      <td>3611</td>\n",
       "      <td>15878</td>\n",
       "      <td>2042</td>\n",
       "      <td>4285</td>\n",
       "    </tr>\n",
       "    <tr>\n",
       "      <th>2</th>\n",
       "      <td>5266</td>\n",
       "      <td>22429</td>\n",
       "      <td>1311</td>\n",
       "      <td>4350</td>\n",
       "    </tr>\n",
       "    <tr>\n",
       "      <th>3</th>\n",
       "      <td>647</td>\n",
       "      <td>2255</td>\n",
       "      <td>350</td>\n",
       "      <td>953</td>\n",
       "    </tr>\n",
       "    <tr>\n",
       "      <th>4</th>\n",
       "      <td>6699</td>\n",
       "      <td>18770</td>\n",
       "      <td>2278</td>\n",
       "      <td>5490</td>\n",
       "    </tr>\n",
       "  </tbody>\n",
       "</table>\n",
       "</div>"
      ],
      "text/plain": [
       "  inter_st students inter_fac   fac\n",
       "0     3717    11067      1679  2982\n",
       "1     3611    15878      2042  4285\n",
       "2     5266    22429      1311  4350\n",
       "3      647     2255       350   953\n",
       "4     6699    18770      2278  5490"
      ]
     },
     "execution_count": 36,
     "metadata": {},
     "output_type": "execute_result"
    }
   ],
   "source": [
    "#construct dataframe from individual pages'info\n",
    "missing_df = pd.DataFrame(data= [international_st, students, international_fac, fac],\n",
    "                         index = ['inter_st', 'students', 'inter_fac', 'fac']).transpose()\n",
    "missing_df.head()"
   ]
  },
  {
   "cell_type": "code",
   "execution_count": 37,
   "metadata": {},
   "outputs": [
    {
     "data": {
      "text/html": [
       "<div>\n",
       "<style>\n",
       "    .dataframe thead tr:only-child th {\n",
       "        text-align: right;\n",
       "    }\n",
       "\n",
       "    .dataframe thead th {\n",
       "        text-align: left;\n",
       "    }\n",
       "\n",
       "    .dataframe tbody tr th {\n",
       "        vertical-align: top;\n",
       "    }\n",
       "</style>\n",
       "<table border=\"1\" class=\"dataframe\">\n",
       "  <thead>\n",
       "    <tr style=\"text-align: right;\">\n",
       "      <th></th>\n",
       "      <th>country</th>\n",
       "      <th>region</th>\n",
       "      <th>title</th>\n",
       "      <th>inter_st</th>\n",
       "      <th>students</th>\n",
       "      <th>inter_fac</th>\n",
       "      <th>fac</th>\n",
       "    </tr>\n",
       "    <tr>\n",
       "      <th>rank_display</th>\n",
       "      <th></th>\n",
       "      <th></th>\n",
       "      <th></th>\n",
       "      <th></th>\n",
       "      <th></th>\n",
       "      <th></th>\n",
       "      <th></th>\n",
       "    </tr>\n",
       "  </thead>\n",
       "  <tbody>\n",
       "    <tr>\n",
       "      <th>1</th>\n",
       "      <td>United States</td>\n",
       "      <td>North America</td>\n",
       "      <td>Massachusetts Institute of Technology (MIT)</td>\n",
       "      <td>3717</td>\n",
       "      <td>11067</td>\n",
       "      <td>1679</td>\n",
       "      <td>2982</td>\n",
       "    </tr>\n",
       "    <tr>\n",
       "      <th>2</th>\n",
       "      <td>United States</td>\n",
       "      <td>North America</td>\n",
       "      <td>Stanford University</td>\n",
       "      <td>3611</td>\n",
       "      <td>15878</td>\n",
       "      <td>2042</td>\n",
       "      <td>4285</td>\n",
       "    </tr>\n",
       "    <tr>\n",
       "      <th>3</th>\n",
       "      <td>United States</td>\n",
       "      <td>North America</td>\n",
       "      <td>Harvard University</td>\n",
       "      <td>5266</td>\n",
       "      <td>22429</td>\n",
       "      <td>1311</td>\n",
       "      <td>4350</td>\n",
       "    </tr>\n",
       "    <tr>\n",
       "      <th>4</th>\n",
       "      <td>United States</td>\n",
       "      <td>North America</td>\n",
       "      <td>California Institute of Technology (Caltech)</td>\n",
       "      <td>647</td>\n",
       "      <td>2255</td>\n",
       "      <td>350</td>\n",
       "      <td>953</td>\n",
       "    </tr>\n",
       "    <tr>\n",
       "      <th>5</th>\n",
       "      <td>United Kingdom</td>\n",
       "      <td>Europe</td>\n",
       "      <td>University of Cambridge</td>\n",
       "      <td>6699</td>\n",
       "      <td>18770</td>\n",
       "      <td>2278</td>\n",
       "      <td>5490</td>\n",
       "    </tr>\n",
       "  </tbody>\n",
       "</table>\n",
       "</div>"
      ],
      "text/plain": [
       "                     country         region  \\\n",
       "rank_display                                  \n",
       "1              United States  North America   \n",
       "2              United States  North America   \n",
       "3              United States  North America   \n",
       "4              United States  North America   \n",
       "5             United Kingdom         Europe   \n",
       "\n",
       "                                                     title inter_st students  \\\n",
       "rank_display                                                                   \n",
       "1              Massachusetts Institute of Technology (MIT)     3717    11067   \n",
       "2                                      Stanford University     3611    15878   \n",
       "3                                       Harvard University     5266    22429   \n",
       "4             California Institute of Technology (Caltech)      647     2255   \n",
       "5                                  University of Cambridge     6699    18770   \n",
       "\n",
       "             inter_fac   fac  \n",
       "rank_display                  \n",
       "1                 1679  2982  \n",
       "2                 2042  4285  \n",
       "3                 1311  4350  \n",
       "4                  350   953  \n",
       "5                 2278  5490  "
      ]
     },
     "execution_count": 37,
     "metadata": {},
     "output_type": "execute_result"
    }
   ],
   "source": [
    "#merge the two daframes to have all infos needed\n",
    "univ_tot_df = pd.concat([univ_dr_df, missing_df], axis = 1)\n",
    "# Finally take the only 200 first (so if we want to see more we already have the data)\n",
    "univ_tot_df = univ_tot_df[:200]\n",
    "univ_rk_df = univ_tot_df.set_index(['rank_display'])\n",
    "univ_rk_df.head()"
   ]
  },
  {
   "cell_type": "markdown",
   "metadata": {},
   "source": [
    "### Task 1.1\n",
    "\n",
    "Which are the best universities in term of: (a) ratio between faculty members and students, (b) ratio of international students?, (c) country, (d) region"
   ]
  },
  {
   "cell_type": "markdown",
   "metadata": {},
   "source": [
    " <div class=\"lev1\"><a href=\"#Table-of-Contents\"><span class=\"toc-item-num\"></span>Table of contents</a></div>"
   ]
  },
  {
   "cell_type": "markdown",
   "metadata": {},
   "source": [
    "(a) ratio between faculty members and students"
   ]
  },
  {
   "cell_type": "markdown",
   "metadata": {},
   "source": [
    "#### Warning\n",
    "If the Dataframe have some Nan, the loading wasn't succesful. This is the case if you don't have the save.p or change the number of request to load ( already explained before ). So if you changed something to test our code please store_data() after the loading or just run the cells (after the loading) from 1.0.8 to have the Dataframe with the correct values."
   ]
  },
  {
   "cell_type": "code",
   "execution_count": 38,
   "metadata": {
    "collapsed": true
   },
   "outputs": [],
   "source": [
    "#Add a columns in which each cell is the result of col1/col2 for corresponding cells in col1, col2\n",
    "#The returned dataframe is sorted in ascending(1)/descending(0) order depending on the value of the parameter\n",
    "def ratio(df, col1, col2, ascending_ = 0):\n",
    "    ratio_df = df.copy().replace('failed', 0)\n",
    "    ratio_df['ratio'] = ratio_df[col1] / ratio_df[col2]\n",
    "    ratio_df_sorted = ratio_df.sort_values(['ratio'], ascending = ascending_)\n",
    "    return ratio_df_sorted"
   ]
  },
  {
   "cell_type": "code",
   "execution_count": 39,
   "metadata": {},
   "outputs": [
    {
     "data": {
      "text/html": [
       "<div>\n",
       "<style>\n",
       "    .dataframe thead tr:only-child th {\n",
       "        text-align: right;\n",
       "    }\n",
       "\n",
       "    .dataframe thead th {\n",
       "        text-align: left;\n",
       "    }\n",
       "\n",
       "    .dataframe tbody tr th {\n",
       "        vertical-align: top;\n",
       "    }\n",
       "</style>\n",
       "<table border=\"1\" class=\"dataframe\">\n",
       "  <thead>\n",
       "    <tr style=\"text-align: right;\">\n",
       "      <th></th>\n",
       "      <th>country</th>\n",
       "      <th>rank_display</th>\n",
       "      <th>region</th>\n",
       "      <th>title</th>\n",
       "      <th>inter_st</th>\n",
       "      <th>students</th>\n",
       "      <th>inter_fac</th>\n",
       "      <th>fac</th>\n",
       "      <th>ratio</th>\n",
       "    </tr>\n",
       "  </thead>\n",
       "  <tbody>\n",
       "    <tr>\n",
       "      <th>3</th>\n",
       "      <td>United States</td>\n",
       "      <td>4</td>\n",
       "      <td>North America</td>\n",
       "      <td>California Institute of Technology (Caltech)</td>\n",
       "      <td>647</td>\n",
       "      <td>2255</td>\n",
       "      <td>350</td>\n",
       "      <td>953</td>\n",
       "      <td>0.422616</td>\n",
       "    </tr>\n",
       "    <tr>\n",
       "      <th>14</th>\n",
       "      <td>Singapore</td>\n",
       "      <td>15</td>\n",
       "      <td>Asia</td>\n",
       "      <td>National University of Singapore (NUS)</td>\n",
       "      <td>2469</td>\n",
       "      <td>12402</td>\n",
       "      <td>1708</td>\n",
       "      <td>4940</td>\n",
       "      <td>0.398323</td>\n",
       "    </tr>\n",
       "    <tr>\n",
       "      <th>5</th>\n",
       "      <td>United Kingdom</td>\n",
       "      <td>6</td>\n",
       "      <td>Europe</td>\n",
       "      <td>University of Oxford</td>\n",
       "      <td>7353</td>\n",
       "      <td>19720</td>\n",
       "      <td>2964</td>\n",
       "      <td>6750</td>\n",
       "      <td>0.342292</td>\n",
       "    </tr>\n",
       "    <tr>\n",
       "      <th>4</th>\n",
       "      <td>United Kingdom</td>\n",
       "      <td>5</td>\n",
       "      <td>Europe</td>\n",
       "      <td>University of Cambridge</td>\n",
       "      <td>6699</td>\n",
       "      <td>18770</td>\n",
       "      <td>2278</td>\n",
       "      <td>5490</td>\n",
       "      <td>0.292488</td>\n",
       "    </tr>\n",
       "    <tr>\n",
       "      <th>16</th>\n",
       "      <td>United States</td>\n",
       "      <td>17</td>\n",
       "      <td>North America</td>\n",
       "      <td>Johns Hopkins University</td>\n",
       "      <td>4105</td>\n",
       "      <td>16146</td>\n",
       "      <td>1061</td>\n",
       "      <td>4462</td>\n",
       "      <td>0.276353</td>\n",
       "    </tr>\n",
       "  </tbody>\n",
       "</table>\n",
       "</div>"
      ],
      "text/plain": [
       "           country  rank_display         region  \\\n",
       "3    United States             4  North America   \n",
       "14       Singapore            15           Asia   \n",
       "5   United Kingdom             6         Europe   \n",
       "4   United Kingdom             5         Europe   \n",
       "16   United States            17  North America   \n",
       "\n",
       "                                           title  inter_st  students  \\\n",
       "3   California Institute of Technology (Caltech)       647      2255   \n",
       "14        National University of Singapore (NUS)      2469     12402   \n",
       "5                           University of Oxford      7353     19720   \n",
       "4                        University of Cambridge      6699     18770   \n",
       "16                      Johns Hopkins University      4105     16146   \n",
       "\n",
       "    inter_fac   fac     ratio  \n",
       "3         350   953  0.422616  \n",
       "14       1708  4940  0.398323  \n",
       "5        2964  6750  0.342292  \n",
       "4        2278  5490  0.292488  \n",
       "16       1061  4462  0.276353  "
      ]
     },
     "execution_count": 39,
     "metadata": {},
     "output_type": "execute_result"
    }
   ],
   "source": [
    "ratio_mem_stu = ratio(univ_tot_df, 'fac', 'students', ascending_ = 0)\n",
    "ratio_mem_stu.head(5)"
   ]
  },
  {
   "cell_type": "markdown",
   "metadata": {},
   "source": [
    "The ratio of faculty/students seems correlated with the ranking"
   ]
  },
  {
   "cell_type": "markdown",
   "metadata": {
    "collapsed": true
   },
   "source": [
    "(b) ratio of international students"
   ]
  },
  {
   "cell_type": "code",
   "execution_count": 40,
   "metadata": {
    "scrolled": true
   },
   "outputs": [
    {
     "data": {
      "text/html": [
       "<div>\n",
       "<style>\n",
       "    .dataframe thead tr:only-child th {\n",
       "        text-align: right;\n",
       "    }\n",
       "\n",
       "    .dataframe thead th {\n",
       "        text-align: left;\n",
       "    }\n",
       "\n",
       "    .dataframe tbody tr th {\n",
       "        vertical-align: top;\n",
       "    }\n",
       "</style>\n",
       "<table border=\"1\" class=\"dataframe\">\n",
       "  <thead>\n",
       "    <tr style=\"text-align: right;\">\n",
       "      <th></th>\n",
       "      <th>country</th>\n",
       "      <th>rank_display</th>\n",
       "      <th>region</th>\n",
       "      <th>title</th>\n",
       "      <th>inter_st</th>\n",
       "      <th>students</th>\n",
       "      <th>inter_fac</th>\n",
       "      <th>fac</th>\n",
       "      <th>ratio</th>\n",
       "    </tr>\n",
       "  </thead>\n",
       "  <tbody>\n",
       "    <tr>\n",
       "      <th>34</th>\n",
       "      <td>United Kingdom</td>\n",
       "      <td>35</td>\n",
       "      <td>Europe</td>\n",
       "      <td>London School of Economics and Political Scien...</td>\n",
       "      <td>6748</td>\n",
       "      <td>9760</td>\n",
       "      <td>687</td>\n",
       "      <td>1088</td>\n",
       "      <td>0.691393</td>\n",
       "    </tr>\n",
       "    <tr>\n",
       "      <th>11</th>\n",
       "      <td>Switzerland</td>\n",
       "      <td>12</td>\n",
       "      <td>Europe</td>\n",
       "      <td>Ecole Polytechnique Fédérale de Lausanne (EPFL)</td>\n",
       "      <td>5896</td>\n",
       "      <td>10343</td>\n",
       "      <td>1300</td>\n",
       "      <td>1695</td>\n",
       "      <td>0.570047</td>\n",
       "    </tr>\n",
       "    <tr>\n",
       "      <th>7</th>\n",
       "      <td>United Kingdom</td>\n",
       "      <td>8</td>\n",
       "      <td>Europe</td>\n",
       "      <td>Imperial College London</td>\n",
       "      <td>8746</td>\n",
       "      <td>16090</td>\n",
       "      <td>2071</td>\n",
       "      <td>3930</td>\n",
       "      <td>0.543567</td>\n",
       "    </tr>\n",
       "    <tr>\n",
       "      <th>198</th>\n",
       "      <td>Netherlands</td>\n",
       "      <td>199</td>\n",
       "      <td>Europe</td>\n",
       "      <td>Maastricht University</td>\n",
       "      <td>8234</td>\n",
       "      <td>16385</td>\n",
       "      <td>502</td>\n",
       "      <td>1277</td>\n",
       "      <td>0.502533</td>\n",
       "    </tr>\n",
       "    <tr>\n",
       "      <th>47</th>\n",
       "      <td>United States</td>\n",
       "      <td>48</td>\n",
       "      <td>North America</td>\n",
       "      <td>Carnegie Mellon University</td>\n",
       "      <td>6385</td>\n",
       "      <td>13356</td>\n",
       "      <td>425</td>\n",
       "      <td>1342</td>\n",
       "      <td>0.478062</td>\n",
       "    </tr>\n",
       "  </tbody>\n",
       "</table>\n",
       "</div>"
      ],
      "text/plain": [
       "            country  rank_display         region  \\\n",
       "34   United Kingdom            35         Europe   \n",
       "11      Switzerland            12         Europe   \n",
       "7    United Kingdom             8         Europe   \n",
       "198     Netherlands           199         Europe   \n",
       "47    United States            48  North America   \n",
       "\n",
       "                                                 title  inter_st  students  \\\n",
       "34   London School of Economics and Political Scien...      6748      9760   \n",
       "11     Ecole Polytechnique Fédérale de Lausanne (EPFL)      5896     10343   \n",
       "7                              Imperial College London      8746     16090   \n",
       "198                              Maastricht University      8234     16385   \n",
       "47                          Carnegie Mellon University      6385     13356   \n",
       "\n",
       "     inter_fac   fac     ratio  \n",
       "34         687  1088  0.691393  \n",
       "11        1300  1695  0.570047  \n",
       "7         2071  3930  0.543567  \n",
       "198        502  1277  0.502533  \n",
       "47         425  1342  0.478062  "
      ]
     },
     "execution_count": 40,
     "metadata": {},
     "output_type": "execute_result"
    }
   ],
   "source": [
    "ratio_int = ratio(univ_tot_df, 'inter_st', 'students', ascending_ = 0)\n",
    "ratio_int.head(5)"
   ]
  },
  {
   "cell_type": "markdown",
   "metadata": {},
   "source": [
    "The ratio of international_students/students seems correlated with the ranking"
   ]
  },
  {
   "cell_type": "markdown",
   "metadata": {},
   "source": [
    "(c) country"
   ]
  },
  {
   "cell_type": "code",
   "execution_count": 41,
   "metadata": {
    "collapsed": true
   },
   "outputs": [],
   "source": [
    "#Returns a multi_indexed dataframe sorted by the argument col as higher index and argument rank as second index\n",
    "def sortby_col_rank(df, col):\n",
    "    univ_col = df.set_index([col, 'rank_display'])\n",
    "    univ_col.sort_index(level=[col, 'rank_display'], ascending=[1, 1], inplace=True)\n",
    "    return univ_col"
   ]
  },
  {
   "cell_type": "code",
   "execution_count": 42,
   "metadata": {},
   "outputs": [
    {
     "data": {
      "text/html": [
       "<div>\n",
       "<style>\n",
       "    .dataframe thead tr:only-child th {\n",
       "        text-align: right;\n",
       "    }\n",
       "\n",
       "    .dataframe thead th {\n",
       "        text-align: left;\n",
       "    }\n",
       "\n",
       "    .dataframe tbody tr th {\n",
       "        vertical-align: top;\n",
       "    }\n",
       "</style>\n",
       "<table border=\"1\" class=\"dataframe\">\n",
       "  <thead>\n",
       "    <tr style=\"text-align: right;\">\n",
       "      <th></th>\n",
       "      <th></th>\n",
       "      <th>region</th>\n",
       "      <th>title</th>\n",
       "      <th>inter_st</th>\n",
       "      <th>students</th>\n",
       "      <th>inter_fac</th>\n",
       "      <th>fac</th>\n",
       "    </tr>\n",
       "    <tr>\n",
       "      <th>country</th>\n",
       "      <th>rank_display</th>\n",
       "      <th></th>\n",
       "      <th></th>\n",
       "      <th></th>\n",
       "      <th></th>\n",
       "      <th></th>\n",
       "      <th></th>\n",
       "    </tr>\n",
       "  </thead>\n",
       "  <tbody>\n",
       "    <tr>\n",
       "      <th>Argentina</th>\n",
       "      <th>75</th>\n",
       "      <td>Latin America</td>\n",
       "      <td>Universidad de Buenos Aires (UBA)</td>\n",
       "      <td>27109</td>\n",
       "      <td>122301</td>\n",
       "      <td>3165</td>\n",
       "      <td>16421</td>\n",
       "    </tr>\n",
       "    <tr>\n",
       "      <th rowspan=\"9\" valign=\"top\">Australia</th>\n",
       "      <th>20</th>\n",
       "      <td>Oceania</td>\n",
       "      <td>The Australian National University</td>\n",
       "      <td>4250</td>\n",
       "      <td>20639</td>\n",
       "      <td>1383</td>\n",
       "      <td>5499</td>\n",
       "    </tr>\n",
       "    <tr>\n",
       "      <th>42</th>\n",
       "      <td>Oceania</td>\n",
       "      <td>The University of Melbourne</td>\n",
       "      <td>18030</td>\n",
       "      <td>42182</td>\n",
       "      <td>1477</td>\n",
       "      <td>3311</td>\n",
       "    </tr>\n",
       "    <tr>\n",
       "      <th>45</th>\n",
       "      <td>Oceania</td>\n",
       "      <td>The University of New South Wales (UNSW Sydney)</td>\n",
       "      <td>14292</td>\n",
       "      <td>39784</td>\n",
       "      <td>1612</td>\n",
       "      <td>2924</td>\n",
       "    </tr>\n",
       "    <tr>\n",
       "      <th>47</th>\n",
       "      <td>Oceania</td>\n",
       "      <td>The University of Queensland</td>\n",
       "      <td>10420</td>\n",
       "      <td>37497</td>\n",
       "      <td>1870</td>\n",
       "      <td>3158</td>\n",
       "    </tr>\n",
       "    <tr>\n",
       "      <th>50</th>\n",
       "      <td>Oceania</td>\n",
       "      <td>The University of Sydney</td>\n",
       "      <td>17030</td>\n",
       "      <td>46678</td>\n",
       "      <td>1829</td>\n",
       "      <td>3360</td>\n",
       "    </tr>\n",
       "    <tr>\n",
       "      <th>60</th>\n",
       "      <td>Oceania</td>\n",
       "      <td>Monash University</td>\n",
       "      <td>20578</td>\n",
       "      <td>57433</td>\n",
       "      <td>1679</td>\n",
       "      <td>3204</td>\n",
       "    </tr>\n",
       "    <tr>\n",
       "      <th>93</th>\n",
       "      <td>Oceania</td>\n",
       "      <td>The University of Western Australia</td>\n",
       "      <td>7081</td>\n",
       "      <td>45612</td>\n",
       "      <td>211</td>\n",
       "      <td>3509</td>\n",
       "    </tr>\n",
       "    <tr>\n",
       "      <th>111</th>\n",
       "      <td>Oceania</td>\n",
       "      <td>The University of Adelaide</td>\n",
       "      <td>3488</td>\n",
       "      <td>26513</td>\n",
       "      <td>581</td>\n",
       "      <td>2324</td>\n",
       "    </tr>\n",
       "    <tr>\n",
       "      <th>176</th>\n",
       "      <td>Oceania</td>\n",
       "      <td>University of Technology Sydney</td>\n",
       "      <td>7769</td>\n",
       "      <td>24207</td>\n",
       "      <td>546</td>\n",
       "      <td>1328</td>\n",
       "    </tr>\n",
       "    <tr>\n",
       "      <th>Austria</th>\n",
       "      <th>154</th>\n",
       "      <td>Europe</td>\n",
       "      <td>University of Vienna</td>\n",
       "      <td>14468</td>\n",
       "      <td>45967</td>\n",
       "      <td>1400</td>\n",
       "      <td>3411</td>\n",
       "    </tr>\n",
       "  </tbody>\n",
       "</table>\n",
       "</div>"
      ],
      "text/plain": [
       "                               region  \\\n",
       "country   rank_display                  \n",
       "Argentina 75            Latin America   \n",
       "Australia 20                  Oceania   \n",
       "          42                  Oceania   \n",
       "          45                  Oceania   \n",
       "          47                  Oceania   \n",
       "          50                  Oceania   \n",
       "          60                  Oceania   \n",
       "          93                  Oceania   \n",
       "          111                 Oceania   \n",
       "          176                 Oceania   \n",
       "Austria   154                  Europe   \n",
       "\n",
       "                                                                  title  \\\n",
       "country   rank_display                                                    \n",
       "Argentina 75                          Universidad de Buenos Aires (UBA)   \n",
       "Australia 20                         The Australian National University   \n",
       "          42                                The University of Melbourne   \n",
       "          45            The University of New South Wales (UNSW Sydney)   \n",
       "          47                               The University of Queensland   \n",
       "          50                                   The University of Sydney   \n",
       "          60                                          Monash University   \n",
       "          93                        The University of Western Australia   \n",
       "          111                                The University of Adelaide   \n",
       "          176                           University of Technology Sydney   \n",
       "Austria   154                                      University of Vienna   \n",
       "\n",
       "                       inter_st students inter_fac    fac  \n",
       "country   rank_display                                     \n",
       "Argentina 75              27109   122301      3165  16421  \n",
       "Australia 20               4250    20639      1383   5499  \n",
       "          42              18030    42182      1477   3311  \n",
       "          45              14292    39784      1612   2924  \n",
       "          47              10420    37497      1870   3158  \n",
       "          50              17030    46678      1829   3360  \n",
       "          60              20578    57433      1679   3204  \n",
       "          93               7081    45612       211   3509  \n",
       "          111              3488    26513       581   2324  \n",
       "          176              7769    24207       546   1328  \n",
       "Austria   154             14468    45967      1400   3411  "
      ]
     },
     "execution_count": 42,
     "metadata": {},
     "output_type": "execute_result"
    }
   ],
   "source": [
    "country_df = sortby_col_rank(univ_tot_df, 'country')\n",
    "us_univ = country_df.loc['United States']\n",
    "#us_univ.head(5)\n",
    "country_df.head(11)"
   ]
  },
  {
   "cell_type": "markdown",
   "metadata": {},
   "source": [
    "(d) region"
   ]
  },
  {
   "cell_type": "code",
   "execution_count": 43,
   "metadata": {},
   "outputs": [
    {
     "data": {
      "text/html": [
       "<div>\n",
       "<style>\n",
       "    .dataframe thead tr:only-child th {\n",
       "        text-align: right;\n",
       "    }\n",
       "\n",
       "    .dataframe thead th {\n",
       "        text-align: left;\n",
       "    }\n",
       "\n",
       "    .dataframe tbody tr th {\n",
       "        vertical-align: top;\n",
       "    }\n",
       "</style>\n",
       "<table border=\"1\" class=\"dataframe\">\n",
       "  <thead>\n",
       "    <tr style=\"text-align: right;\">\n",
       "      <th></th>\n",
       "      <th></th>\n",
       "      <th>country</th>\n",
       "      <th>title</th>\n",
       "      <th>inter_st</th>\n",
       "      <th>students</th>\n",
       "      <th>inter_fac</th>\n",
       "      <th>fac</th>\n",
       "    </tr>\n",
       "    <tr>\n",
       "      <th>region</th>\n",
       "      <th>rank_display</th>\n",
       "      <th></th>\n",
       "      <th></th>\n",
       "      <th></th>\n",
       "      <th></th>\n",
       "      <th></th>\n",
       "      <th></th>\n",
       "    </tr>\n",
       "  </thead>\n",
       "  <tbody>\n",
       "    <tr>\n",
       "      <th>Africa</th>\n",
       "      <th>191</th>\n",
       "      <td>South Africa</td>\n",
       "      <td>University of Cape Town</td>\n",
       "      <td>3325</td>\n",
       "      <td>19593</td>\n",
       "      <td>379</td>\n",
       "      <td>1733</td>\n",
       "    </tr>\n",
       "    <tr>\n",
       "      <th rowspan=\"4\" valign=\"top\">Asia</th>\n",
       "      <th>11</th>\n",
       "      <td>Singapore</td>\n",
       "      <td>Nanyang Technological University, Singapore (NTU)</td>\n",
       "      <td>7251</td>\n",
       "      <td>25738</td>\n",
       "      <td>2993</td>\n",
       "      <td>4338</td>\n",
       "    </tr>\n",
       "    <tr>\n",
       "      <th>15</th>\n",
       "      <td>Singapore</td>\n",
       "      <td>National University of Singapore (NUS)</td>\n",
       "      <td>2469</td>\n",
       "      <td>12402</td>\n",
       "      <td>1708</td>\n",
       "      <td>4940</td>\n",
       "    </tr>\n",
       "    <tr>\n",
       "      <th>25</th>\n",
       "      <td>China</td>\n",
       "      <td>Tsinghua University</td>\n",
       "      <td>4072</td>\n",
       "      <td>36300</td>\n",
       "      <td>932</td>\n",
       "      <td>5506</td>\n",
       "    </tr>\n",
       "    <tr>\n",
       "      <th>26</th>\n",
       "      <td>Hong Kong</td>\n",
       "      <td>The University of Hong Kong</td>\n",
       "      <td>8230</td>\n",
       "      <td>20214</td>\n",
       "      <td>2085</td>\n",
       "      <td>3012</td>\n",
       "    </tr>\n",
       "  </tbody>\n",
       "</table>\n",
       "</div>"
      ],
      "text/plain": [
       "                          country  \\\n",
       "region rank_display                 \n",
       "Africa 191           South Africa   \n",
       "Asia   11               Singapore   \n",
       "       15               Singapore   \n",
       "       25                   China   \n",
       "       26               Hong Kong   \n",
       "\n",
       "                                                                 title  \\\n",
       "region rank_display                                                      \n",
       "Africa 191                                     University of Cape Town   \n",
       "Asia   11            Nanyang Technological University, Singapore (NTU)   \n",
       "       15                       National University of Singapore (NUS)   \n",
       "       25                                          Tsinghua University   \n",
       "       26                                  The University of Hong Kong   \n",
       "\n",
       "                    inter_st students inter_fac   fac  \n",
       "region rank_display                                    \n",
       "Africa 191              3325    19593       379  1733  \n",
       "Asia   11               7251    25738      2993  4338  \n",
       "       15               2469    12402      1708  4940  \n",
       "       25               4072    36300       932  5506  \n",
       "       26               8230    20214      2085  3012  "
      ]
     },
     "execution_count": 43,
     "metadata": {},
     "output_type": "execute_result"
    }
   ],
   "source": [
    "region_df = sortby_col_rank(univ_tot_df, 'region')\n",
    "region_df.head()"
   ]
  },
  {
   "cell_type": "markdown",
   "metadata": {},
   "source": [
    "### Task 1.2 Plots"
   ]
  },
  {
   "cell_type": "markdown",
   "metadata": {},
   "source": [
    " <div class=\"lev1\"><a href=\"#Table-of-Contents\"><span class=\"toc-item-num\"></span>Table of contents</a></div>"
   ]
  },
  {
   "cell_type": "code",
   "execution_count": 44,
   "metadata": {
    "collapsed": true
   },
   "outputs": [],
   "source": [
    "# Function to help plot the Data\n",
    "\n",
    "def barplot_nb_values(df, n, title_):\n",
    "    df_new = df.copy()\n",
    "    df_new = df_new.sort_index() # We Sort the index and then take the n first\n",
    "    df_new = df_new[:n]\n",
    "    df_new.plot(kind = 'bar', title =title_, figsize=(40,20));\n",
    "    \n",
    "    "
   ]
  },
  {
   "cell_type": "markdown",
   "metadata": {},
   "source": [
    "(a) Plot ratio between faculty members and students"
   ]
  },
  {
   "cell_type": "code",
   "execution_count": 45,
   "metadata": {
    "scrolled": false
   },
   "outputs": [
    {
     "data": {
      "image/png": "[encoded data removed]",
      "text/plain": [
       "<matplotlib.figure.Figure at 0x11920a048>"
      ]
     },
     "metadata": {},
     "output_type": "display_data"
    }
   ],
   "source": [
    "# We only take the rank and the ratio that we need. We sort the rank and plot the result\n",
    "\n",
    "df_rank_mem_stu = ratio_mem_stu[[\"rank_display\", \"ratio\"]]\n",
    "df_rank_mem_stu = df_rank_mem_stu.set_index(\"rank_display\")\n",
    "# see in mattermost only need to plot 50 first\n",
    "barplot_nb_values(df_rank_mem_stu, 50, \"ratio between faculty members and students by rank\")"
   ]
  },
  {
   "cell_type": "markdown",
   "metadata": {},
   "source": [
    "We can see that universities with a good ranking also have a high ratio of faculty member per students. This may reflect a better teaching ability"
   ]
  },
  {
   "cell_type": "markdown",
   "metadata": {},
   "source": [
    "(b) Plot ratio of international students"
   ]
  },
  {
   "cell_type": "code",
   "execution_count": 46,
   "metadata": {},
   "outputs": [
    {
     "data": {
      "image/png": "[encoded data removed]",
      "text/plain": [
       "<matplotlib.figure.Figure at 0x119352780>"
      ]
     },
     "metadata": {},
     "output_type": "display_data"
    }
   ],
   "source": [
    "# As before, we only take the rank and the ratio that we need. We sort the rank and plot the result\n",
    "df_rank_int_stu = ratio_int[[\"rank_display\", \"ratio\"]]\n",
    "df_rank_int_stu = df_rank_int_stu.set_index(\"rank_display\")\n",
    "# see in mattermost only need to plot 50 first\n",
    "barplot_nb_values(df_rank_int_stu, 50, \"ratio of international students by rank\")"
   ]
  },
  {
   "cell_type": "markdown",
   "metadata": {},
   "source": [
    "The ratio of international student seems to have a very small inpact in the ranking. The best universities have a small amount of international student but some universities with a big ratio have a good rank too. So it seems to have a little correlation but not as much as the ratio of faculty member and students"
   ]
  },
  {
   "cell_type": "markdown",
   "metadata": {},
   "source": [
    "c) Plot Number of University in Country"
   ]
  },
  {
   "cell_type": "code",
   "execution_count": 47,
   "metadata": {
    "scrolled": false
   },
   "outputs": [
    {
     "data": {
      "image/png": "[encoded data removed]",
      "text/plain": [
       "<matplotlib.figure.Figure at 0x11a59d630>"
      ]
     },
     "metadata": {},
     "output_type": "display_data"
    }
   ],
   "source": [
    "# Here we take only the country and the title and count the number of Univertity that are in each country\n",
    "\n",
    "df_country_nb_uni = country_df.reset_index()\n",
    "df_country_nb_uni =df_country_nb_uni[[\"country\", \"title\"]]\n",
    "df_country_nb_uni = df_country_nb_uni.groupby(['country']).count()\n",
    "# Here we can see the 200, it's a good representation\n",
    "barplot_nb_values(df_country_nb_uni, 200, \"Nb of Uni in Country\")"
   ]
  },
  {
   "cell_type": "markdown",
   "metadata": {},
   "source": [
    "We can see that the top 200 University are mostly in United Kingdom ans USA. Region separation will give us more detail, as for instance we can see that they are a lot of universities from Europe"
   ]
  },
  {
   "cell_type": "markdown",
   "metadata": {},
   "source": [
    "d) Plot Number of University in Region"
   ]
  },
  {
   "cell_type": "code",
   "execution_count": 48,
   "metadata": {},
   "outputs": [
    {
     "data": {
      "image/png": "[encoded data removed]",
      "text/plain": [
       "<matplotlib.figure.Figure at 0x1193408d0>"
      ]
     },
     "metadata": {},
     "output_type": "display_data"
    }
   ],
   "source": [
    "# Here we take only the region and the title and count the number of Univertity that are in each region\n",
    "\n",
    "df_region_nb_uni = region_df.reset_index()\n",
    "df_region_nb_uni =df_region_nb_uni[[\"region\", \"title\"]]\n",
    "df_region_nb_uni = df_region_nb_uni.groupby(['region']).count()\n",
    "# same as before\n",
    "barplot_nb_values(df_region_nb_uni, 200, \"Nb of Uni in Region\")"
   ]
  },
  {
   "cell_type": "markdown",
   "metadata": {},
   "source": [
    "As we expected, the top 200 University are in Europe and North America. Maybe this ranking is done with a selection of criterion from these regions. This is maybe why there are in the top ranking of these data"
   ]
  },
  {
   "cell_type": "markdown",
   "metadata": {
    "collapsed": true
   },
   "source": [
    "### Task 2.0 Retrieve the Data"
   ]
  },
  {
   "cell_type": "markdown",
   "metadata": {},
   "source": [
    " <div class=\"lev1\"><a href=\"#Table-of-Contents\"><span class=\"toc-item-num\"></span>Table of contents</a></div>"
   ]
  },
  {
   "cell_type": "markdown",
   "metadata": {},
   "source": [
    "Using the same technique used the first part of this homework (using postman), we get the URL to a json that contains the wanted data:"
   ]
  },
  {
   "cell_type": "code",
   "execution_count": 49,
   "metadata": {
    "collapsed": true
   },
   "outputs": [],
   "source": [
    "request_url2 = 'https://www.timeshighereducation.com/sites/default/files/the_data_rankings/world_university_rankings_2018_limit0_369a9045a203e176392b9fb8f8c1cb2a.json'\n",
    "r2 = requests.get(request_url2)"
   ]
  },
  {
   "cell_type": "code",
   "execution_count": 50,
   "metadata": {},
   "outputs": [
    {
     "data": {
      "text/plain": [
       "{'aliases': 'University of Oxford',\n",
       " 'location': 'United Kingdom',\n",
       " 'member_level': '0',\n",
       " 'name': 'University of Oxford',\n",
       " 'nid': 468,\n",
       " 'rank': '1',\n",
       " 'rank_order': '10',\n",
       " 'record_type': 'master_account',\n",
       " 'scores_citations': '99.1',\n",
       " 'scores_citations_rank': '15',\n",
       " 'scores_industry_income': '63.7',\n",
       " 'scores_industry_income_rank': '169',\n",
       " 'scores_international_outlook': '95.0',\n",
       " 'scores_international_outlook_rank': '24',\n",
       " 'scores_overall': '94.3',\n",
       " 'scores_overall_rank': '10',\n",
       " 'scores_research': '99.5',\n",
       " 'scores_research_rank': '1',\n",
       " 'scores_teaching': '86.7',\n",
       " 'scores_teaching_rank': '5',\n",
       " 'stats_female_male_ratio': '46 : 54',\n",
       " 'stats_number_students': '20,409',\n",
       " 'stats_pc_intl_students': '38%',\n",
       " 'stats_student_staff_ratio': '11.2',\n",
       " 'subjects_offered': 'Archaeology,Art, Performing Arts & Design,Biological Sciences,Business & Management,Chemical Engineering,Chemistry,Civil Engineering,Computer Science,Economics & Econometrics,Electrical & Electronic Engineering,General Engineering,Geography,Geology, Environmental, Earth & Marine Sciences,History, Philosophy & Theology,Languages, Literatures and Linguistics,Law,Mathematics & Statistics,Mechanical & Aerospace Engineering,Medicine & Dentistry,Physics & Astronomy,Psychology',\n",
       " 'url': '/world-university-rankings/university-oxford'}"
      ]
     },
     "execution_count": 50,
     "metadata": {},
     "output_type": "execute_result"
    }
   ],
   "source": [
    "univ_vals2 = r2.json()['data']\n",
    "univ_vals2[0]"
   ]
  },
  {
   "cell_type": "markdown",
   "metadata": {},
   "source": [
    "The json looks to have most of the needed information, parsing will be earsier"
   ]
  },
  {
   "cell_type": "markdown",
   "metadata": {},
   "source": [
    "### Task 2.0.1 Clear rank and drop data not needed"
   ]
  },
  {
   "cell_type": "markdown",
   "metadata": {},
   "source": [
    "<div class=\"lev1\"><a href=\"#Table-of-Contents\"><span class=\"toc-item-num\"></span>Table of contents</a></div>"
   ]
  },
  {
   "cell_type": "markdown",
   "metadata": {},
   "source": [
    "Dropping all the lines that we don't need for this analysis"
   ]
  },
  {
   "cell_type": "code",
   "execution_count": 51,
   "metadata": {},
   "outputs": [
    {
     "data": {
      "text/html": [
       "<div>\n",
       "<style>\n",
       "    .dataframe thead tr:only-child th {\n",
       "        text-align: right;\n",
       "    }\n",
       "\n",
       "    .dataframe thead th {\n",
       "        text-align: left;\n",
       "    }\n",
       "\n",
       "    .dataframe tbody tr th {\n",
       "        vertical-align: top;\n",
       "    }\n",
       "</style>\n",
       "<table border=\"1\" class=\"dataframe\">\n",
       "  <thead>\n",
       "    <tr style=\"text-align: right;\">\n",
       "      <th></th>\n",
       "      <th>location</th>\n",
       "      <th>name</th>\n",
       "      <th>rank</th>\n",
       "      <th>stats_number_students</th>\n",
       "      <th>stats_student_staff_ratio</th>\n",
       "    </tr>\n",
       "  </thead>\n",
       "  <tbody>\n",
       "    <tr>\n",
       "      <th>0</th>\n",
       "      <td>United Kingdom</td>\n",
       "      <td>University of Oxford</td>\n",
       "      <td>1</td>\n",
       "      <td>20,409</td>\n",
       "      <td>11.2</td>\n",
       "    </tr>\n",
       "    <tr>\n",
       "      <th>1</th>\n",
       "      <td>United Kingdom</td>\n",
       "      <td>University of Cambridge</td>\n",
       "      <td>2</td>\n",
       "      <td>18,389</td>\n",
       "      <td>10.9</td>\n",
       "    </tr>\n",
       "    <tr>\n",
       "      <th>2</th>\n",
       "      <td>United States</td>\n",
       "      <td>California Institute of Technology</td>\n",
       "      <td>=3</td>\n",
       "      <td>2,209</td>\n",
       "      <td>6.5</td>\n",
       "    </tr>\n",
       "    <tr>\n",
       "      <th>3</th>\n",
       "      <td>United States</td>\n",
       "      <td>Stanford University</td>\n",
       "      <td>=3</td>\n",
       "      <td>15,845</td>\n",
       "      <td>7.5</td>\n",
       "    </tr>\n",
       "    <tr>\n",
       "      <th>4</th>\n",
       "      <td>United States</td>\n",
       "      <td>Massachusetts Institute of Technology</td>\n",
       "      <td>5</td>\n",
       "      <td>11,177</td>\n",
       "      <td>8.7</td>\n",
       "    </tr>\n",
       "  </tbody>\n",
       "</table>\n",
       "</div>"
      ],
      "text/plain": [
       "         location                                   name rank  \\\n",
       "0  United Kingdom                   University of Oxford    1   \n",
       "1  United Kingdom                University of Cambridge    2   \n",
       "2   United States     California Institute of Technology   =3   \n",
       "3   United States                    Stanford University   =3   \n",
       "4   United States  Massachusetts Institute of Technology    5   \n",
       "\n",
       "  stats_number_students stats_student_staff_ratio  \n",
       "0                20,409                      11.2  \n",
       "1                18,389                      10.9  \n",
       "2                 2,209                       6.5  \n",
       "3                15,845                       7.5  \n",
       "4                11,177                       8.7  "
      ]
     },
     "execution_count": 51,
     "metadata": {},
     "output_type": "execute_result"
    }
   ],
   "source": [
    "univ_df2 = pd.DataFrame(univ_vals2)\n",
    "univ_dr_df2 = univ_df2.drop('aliases', 1).drop('member_level', 1).drop('rank_order', 1).drop('record_type', 1) \\\n",
    ".drop('scores_citations', 1).drop('scores_research', 1).drop('scores_research_rank', 1).drop('scores_teaching', 1) \\\n",
    ".drop('nid', 1).drop('scores_citations_rank', 1).drop('scores_industry_income', 1).drop('scores_industry_income_rank', 1) \\\n",
    ".drop('scores_overall_rank', 1).drop('scores_international_outlook', 1).drop('scores_international_outlook_rank', 1) \\\n",
    ".drop('scores_overall', 1).drop('scores_teaching_rank', 1).drop('stats_female_male_ratio', 1) \\\n",
    ".drop('stats_pc_intl_students', 1).drop('subjects_offered', 1).drop('url', 1)\n",
    "univ_dr_df2.head()"
   ]
  },
  {
   "cell_type": "markdown",
   "metadata": {},
   "source": [
    "Number of entries in our data: "
   ]
  },
  {
   "cell_type": "code",
   "execution_count": 52,
   "metadata": {},
   "outputs": [
    {
     "data": {
      "text/plain": [
       "1102"
      ]
     },
     "execution_count": 52,
     "metadata": {},
     "output_type": "execute_result"
    }
   ],
   "source": [
    "len(univ_dr_df2.index)"
   ]
  },
  {
   "cell_type": "markdown",
   "metadata": {},
   "source": [
    "Replace rank by index+1 in case this is an invalid way to do, just ignore this cell"
   ]
  },
  {
   "cell_type": "code",
   "execution_count": 53,
   "metadata": {
    "scrolled": true
   },
   "outputs": [
    {
     "data": {
      "text/html": [
       "<div>\n",
       "<style>\n",
       "    .dataframe thead tr:only-child th {\n",
       "        text-align: right;\n",
       "    }\n",
       "\n",
       "    .dataframe thead th {\n",
       "        text-align: left;\n",
       "    }\n",
       "\n",
       "    .dataframe tbody tr th {\n",
       "        vertical-align: top;\n",
       "    }\n",
       "</style>\n",
       "<table border=\"1\" class=\"dataframe\">\n",
       "  <thead>\n",
       "    <tr style=\"text-align: right;\">\n",
       "      <th></th>\n",
       "      <th>location</th>\n",
       "      <th>name</th>\n",
       "      <th>rank</th>\n",
       "      <th>stats_number_students</th>\n",
       "      <th>stats_student_staff_ratio</th>\n",
       "    </tr>\n",
       "  </thead>\n",
       "  <tbody>\n",
       "    <tr>\n",
       "      <th>0</th>\n",
       "      <td>United Kingdom</td>\n",
       "      <td>University of Oxford</td>\n",
       "      <td>1</td>\n",
       "      <td>20,409</td>\n",
       "      <td>11.2</td>\n",
       "    </tr>\n",
       "    <tr>\n",
       "      <th>1</th>\n",
       "      <td>United Kingdom</td>\n",
       "      <td>University of Cambridge</td>\n",
       "      <td>2</td>\n",
       "      <td>18,389</td>\n",
       "      <td>10.9</td>\n",
       "    </tr>\n",
       "    <tr>\n",
       "      <th>2</th>\n",
       "      <td>United States</td>\n",
       "      <td>California Institute of Technology</td>\n",
       "      <td>3</td>\n",
       "      <td>2,209</td>\n",
       "      <td>6.5</td>\n",
       "    </tr>\n",
       "    <tr>\n",
       "      <th>3</th>\n",
       "      <td>United States</td>\n",
       "      <td>Stanford University</td>\n",
       "      <td>4</td>\n",
       "      <td>15,845</td>\n",
       "      <td>7.5</td>\n",
       "    </tr>\n",
       "    <tr>\n",
       "      <th>4</th>\n",
       "      <td>United States</td>\n",
       "      <td>Massachusetts Institute of Technology</td>\n",
       "      <td>5</td>\n",
       "      <td>11,177</td>\n",
       "      <td>8.7</td>\n",
       "    </tr>\n",
       "  </tbody>\n",
       "</table>\n",
       "</div>"
      ],
      "text/plain": [
       "         location                                   name  rank  \\\n",
       "0  United Kingdom                   University of Oxford     1   \n",
       "1  United Kingdom                University of Cambridge     2   \n",
       "2   United States     California Institute of Technology     3   \n",
       "3   United States                    Stanford University     4   \n",
       "4   United States  Massachusetts Institute of Technology     5   \n",
       "\n",
       "  stats_number_students stats_student_staff_ratio  \n",
       "0                20,409                      11.2  \n",
       "1                18,389                      10.9  \n",
       "2                 2,209                       6.5  \n",
       "3                15,845                       7.5  \n",
       "4                11,177                       8.7  "
      ]
     },
     "execution_count": 53,
     "metadata": {},
     "output_type": "execute_result"
    }
   ],
   "source": [
    "univ_dr_df2['rank'] = univ_dr_df2.index + 1\n",
    "univ_dr_df2.head()"
   ]
  },
  {
   "cell_type": "markdown",
   "metadata": {},
   "source": [
    "### Task 2.0.2 Prepare url and test soup for missing data"
   ]
  },
  {
   "cell_type": "markdown",
   "metadata": {},
   "source": [
    "<div class=\"lev1\"><a href=\"#Table-of-Contents\"><span class=\"toc-item-num\"></span>Table of contents</a></div>"
   ]
  },
  {
   "cell_type": "markdown",
   "metadata": {},
   "source": [
    "Prepare urls for request-loop, equivalent to the method used in the first part"
   ]
  },
  {
   "cell_type": "code",
   "execution_count": 54,
   "metadata": {},
   "outputs": [
    {
     "data": {
      "text/plain": [
       "['http://www.timeshighereducation.com/world-university-rankings/university-oxford#wurs',\n",
       " 'http://www.timeshighereducation.com/world-university-rankings/university-cambridge#wurs',\n",
       " 'http://www.timeshighereducation.com/world-university-rankings/california-institute-technology#wurs',\n",
       " 'http://www.timeshighereducation.com/world-university-rankings/stanford-university#wurs',\n",
       " 'http://www.timeshighereducation.com/world-university-rankings/massachusetts-institute-technology#wurs']"
      ]
     },
     "execution_count": 54,
     "metadata": {},
     "output_type": "execute_result"
    }
   ],
   "source": [
    "u_urls2 = np.array(univ_df2[['url']].values)\n",
    "univ_urls2 = []\n",
    "main_url2 = 'http://www.timeshighereducation.com'\n",
    "for url_ in u_urls2:\n",
    "    url = url_[0]\n",
    "    univ_urls2.append(main_url2 + url + '#wurs')\n",
    "univ_urls2[:5]"
   ]
  },
  {
   "cell_type": "markdown",
   "metadata": {},
   "source": [
    "Retrieve the soup for the Oxford description page"
   ]
  },
  {
   "cell_type": "code",
   "execution_count": 55,
   "metadata": {
    "scrolled": false
   },
   "outputs": [
    {
     "data": {
      "text/plain": [
       "'<!DOCTYPE html PUBLIC \"-//W3C//DTD XHTML+RDFa 1.0//EN\"\\n  \"http://www.w3.org/MarkUp/DTD/xhtml-rdfa-1.dtd\">\\n<html dir=\"ltr\" lang=\"en\" xmlns:article=\"http://ogp.me/ns/article#\" xmlns:book=\"http://ogp.me/'"
      ]
     },
     "execution_count": 55,
     "metadata": {},
     "output_type": "execute_result"
    }
   ],
   "source": [
    "url_oxford = 'http://www.timeshighereducation.com/world-university-rankings/university-oxford#wurs'\n",
    "r_oxford = requests.get(url_oxford)\n",
    "soup_oxford = BeautifulSoup(r_oxford.text, 'html.parser')\n",
    "soup_oxford.prettify()[:200]"
   ]
  },
  {
   "cell_type": "markdown",
   "metadata": {},
   "source": [
    "Test if we get the same value using both methods with an entry for which we have all the values"
   ]
  },
  {
   "cell_type": "code",
   "execution_count": 56,
   "metadata": {},
   "outputs": [
    {
     "data": {
      "text/plain": [
       "0.38"
      ]
     },
     "execution_count": 56,
     "metadata": {},
     "output_type": "execute_result"
    }
   ],
   "source": [
    "oxford_values = soup_oxford.find('div', class_='panel-pane pane-data-stats') \\\n",
    ".find('div', class_='pane-content').findAll('div')\n",
    "div_idx = 0\n",
    "for i_div in range(0, len(oxford_values)):\n",
    "    curr_div = oxford_values[i_div]\n",
    "    if(curr_div.text == 'keystats pc_intl_students'):\n",
    "        div_idx = i_div\n",
    "int(oxford_values[div_idx].find('div', class_='value').text[:2])/100"
   ]
  },
  {
   "cell_type": "code",
   "execution_count": 57,
   "metadata": {},
   "outputs": [
    {
     "data": {
      "text/plain": [
       "0.38"
      ]
     },
     "execution_count": 57,
     "metadata": {},
     "output_type": "execute_result"
    }
   ],
   "source": [
    "int(oxford_values[0].text[:2])/100"
   ]
  },
  {
   "cell_type": "markdown",
   "metadata": {},
   "source": [
    "### Task 2.0.3 Prepare to retrieve data and callback funciton"
   ]
  },
  {
   "cell_type": "markdown",
   "metadata": {},
   "source": [
    "<div class=\"lev1\"><a href=\"#Table-of-Contents\"><span class=\"toc-item-num\"></span>Table of contents</a></div>"
   ]
  },
  {
   "cell_type": "markdown",
   "metadata": {},
   "source": [
    "Same methods as the one used for the first website"
   ]
  },
  {
   "cell_type": "code",
   "execution_count": 58,
   "metadata": {
    "collapsed": true
   },
   "outputs": [],
   "source": [
    "def retrieve_div_value(soup, div_name):\n",
    "    parent = soup.find('div', class_='panel-pane pane-data-stats')\n",
    "    if parent is None: \n",
    "        return 'failed'\n",
    "    child = parent.find('div', class_='pane-content')\n",
    "    if child is None:\n",
    "        return 'failed'\n",
    "    values = child.findAll('div')\n",
    "    if values is None:\n",
    "        return 'failed'\n",
    "    div_idx = 0\n",
    "    last_text = ''\n",
    "    for i_div in range(0, len(values)):\n",
    "        curr_div = values[i_div]\n",
    "        if(curr_div.text == div_name):\n",
    "            return int(last_text[:len(last_text)-1])/100\n",
    "        last_text = curr_div.text\n",
    "    return 'failed'"
   ]
  },
  {
   "cell_type": "code",
   "execution_count": 59,
   "metadata": {},
   "outputs": [
    {
     "data": {
      "text/plain": [
       "0.38"
      ]
     },
     "execution_count": 59,
     "metadata": {},
     "output_type": "execute_result"
    }
   ],
   "source": [
    "retrieve_div_value(soup_oxford, 'Percentage of International Students')"
   ]
  },
  {
   "cell_type": "code",
   "execution_count": 60,
   "metadata": {
    "collapsed": true
   },
   "outputs": [],
   "source": [
    "#declare globals for second methods\n",
    "international_st2 = []\n",
    "num_request2 = 1102 # We load all the data so but use only 200 (so if we need more data we already have them)\n",
    "bad_soups2 = []\n",
    "futures2 = []\n",
    "count2 = 0\n",
    "fac2 = []"
   ]
  },
  {
   "cell_type": "code",
   "execution_count": 61,
   "metadata": {
    "collapsed": true
   },
   "outputs": [],
   "source": [
    "#helper to reset globals\n",
    "def reset_arrays2():\n",
    "    global international_st2\n",
    "    global count2\n",
    "    global bad_soups2\n",
    "    \n",
    "    international_st2 = []\n",
    "    bad_soups2 = []\n",
    "    count2 = 0\n",
    "    return 0"
   ]
  },
  {
   "cell_type": "code",
   "execution_count": 62,
   "metadata": {
    "collapsed": true
   },
   "outputs": [],
   "source": [
    "#proceeds request when completed in background:\n",
    "# extract soup, extract values\n",
    "def callback2(future):\n",
    "    r = future.result()\n",
    "    soup = BeautifulSoup(r.text, 'html.parser')\n",
    "    \n",
    "    global international_st2\n",
    "    global num_request2\n",
    "    global count2\n",
    "    global bad_soups2\n",
    "    \n",
    "    count2 = count2 + 1\n",
    "    if count2 > num_request2:\n",
    "        international_st2 = []\n",
    "        count2 = 0\n",
    "    \n",
    "    inter_st = retrieve_div_value(soup, 'Percentage of International Students')\n",
    "        \n",
    "    if inter_st == 'failed':\n",
    "        bad_soups2.append(soup)\n",
    "    international_st2.append(inter_st)"
   ]
  },
  {
   "cell_type": "markdown",
   "metadata": {},
   "source": [
    "### Task 2.0.4 Import Data"
   ]
  },
  {
   "cell_type": "markdown",
   "metadata": {},
   "source": [
    "<div class=\"lev1\"><a href=\"#Table-of-Contents\"><span class=\"toc-item-num\"></span>Table of contents</a></div>"
   ]
  },
  {
   "cell_type": "code",
   "execution_count": 63,
   "metadata": {
    "collapsed": true
   },
   "outputs": [],
   "source": [
    "#initialize session for background threads\n",
    "from requests_futures.sessions import FuturesSession\n",
    "session2 = FuturesSession()"
   ]
  },
  {
   "cell_type": "code",
   "execution_count": 64,
   "metadata": {
    "collapsed": true
   },
   "outputs": [],
   "source": [
    "#displays a progress bar for the requests in backgrounds\n",
    "import threading\n",
    "from IPython.display import display\n",
    "import ipywidgets as widgets\n",
    "import time\n",
    "import sys\n",
    "\n",
    "def work2(progress2, num_request2):\n",
    "    global international_st2\n",
    "    while(len(international_st2) <= num_request2):\n",
    "        progress2.value = len(international_st2)/num_request2\n",
    "        \n",
    "def progress_bar2(num_request2):\n",
    "    progress2 = widgets.FloatProgress(value=0.0, min=0.0, max=1.0)\n",
    "    \n",
    "    thread2 = threading.Thread(target=work2, args=(progress2, num_request2,))\n",
    "    display(progress2)\n",
    "    thread2.start()"
   ]
  },
  {
   "cell_type": "code",
   "execution_count": 65,
   "metadata": {
    "collapsed": true
   },
   "outputs": [],
   "source": [
    "#initiate background requests. The number of requests should be customized on the next line\n",
    "\n",
    "def load_data2(univ_urls2, num_request2):\n",
    "\n",
    "    url_slice2 = univ_urls2[:num_request2]\n",
    "    url_last_idx2 = len(url_slice2) - 1\n",
    "    reset_arrays2()\n",
    "    for i_url, url in enumerate(url_slice2):\n",
    "        # On fait notre requête GET\n",
    "        future2 = session.get(url)\n",
    "        # On rajoute le callback à appeler quand\n",
    "        # le résultat de la requête arrive.\n",
    "        if i_url != url_last_idx2:\n",
    "            futures2.append(future2)\n",
    "        future2.add_done_callback(callback2)\n",
    "        if i_url == (url_last_idx2):\n",
    "            future2.add_done_callback(play_sound_futur)"
   ]
  },
  {
   "cell_type": "code",
   "execution_count": 66,
   "metadata": {},
   "outputs": [
    {
     "data": {
      "application/vnd.jupyter.widget-view+json": {
       "model_id": "0c1627f2ed574e4cbd9273eee0af73b1",
       "version_major": 2,
       "version_minor": 0
      },
      "text/plain": [
       "A Jupyter Widget"
      ]
     },
     "metadata": {},
     "output_type": "display_data"
    },
    {
     "name": "stdout",
     "output_type": "stream",
     "text": [
      "1102\n"
     ]
    }
   ],
   "source": [
    "# here we have the nb of request that we want to load\n",
    "# if you delete the file you can see the progress bar to see the loading of the second data\n",
    "#if you don't have the file save2.p it loads the data otherwise we take the data from save2.p\n",
    "\n",
    "progress_bar2(num_request2)\n",
    "\n",
    "try:\n",
    "    data2 = pickle.load(open(\"save2.p\", \"rb\"))\n",
    "    international_st2 = data2[0]\n",
    "    num_request_file2 = data2[1]\n",
    "    \n",
    "    print(num_request_file2)\n",
    "    \n",
    "    if(num_request_file2 != num_request2):\n",
    "        play_sound('Slurp.wav')\n",
    "        load_data2(univ_urls2, num_request2)\n",
    "    else:\n",
    "        play_sound('smb_1-up.wav')\n",
    "        \n",
    "except (OSError, IOError) as e:\n",
    "    load_data2(univ_urls2, num_request2)"
   ]
  },
  {
   "cell_type": "code",
   "execution_count": 67,
   "metadata": {},
   "outputs": [
    {
     "data": {
      "text/plain": [
       "1102"
      ]
     },
     "execution_count": 67,
     "metadata": {},
     "output_type": "execute_result"
    }
   ],
   "source": [
    "len(international_st2) # to be sure that all is loaded"
   ]
  },
  {
   "cell_type": "code",
   "execution_count": 68,
   "metadata": {},
   "outputs": [
    {
     "data": {
      "text/plain": [
       "0"
      ]
     },
     "execution_count": 68,
     "metadata": {},
     "output_type": "execute_result"
    }
   ],
   "source": [
    "len(bad_soups2) # =0 otherwise some data weren't download"
   ]
  },
  {
   "cell_type": "markdown",
   "metadata": {},
   "source": [
    "### Task 2.0.5 Kill data second file"
   ]
  },
  {
   "cell_type": "markdown",
   "metadata": {},
   "source": [
    "<div class=\"lev1\"><a href=\"#Table-of-Contents\"><span class=\"toc-item-num\"></span>Table of contents</a></div>"
   ]
  },
  {
   "cell_type": "code",
   "execution_count": 69,
   "metadata": {
    "scrolled": false
   },
   "outputs": [
    {
     "data": {
      "text/plain": [
       "''"
      ]
     },
     "execution_count": 69,
     "metadata": {},
     "output_type": "execute_result"
    }
   ],
   "source": [
    "# attempts to kill waiting requests: if attempt is successful, bar doesn't move. Goal is to cancel all but last requests\n",
    "# in order to instantly play sound and complete only one request\n",
    "    \n",
    "def reset_futures2():\n",
    "    global futures2 \n",
    "    for fu in futures2:\n",
    "        # cancel request on this url\n",
    "        fu.cancel()\n",
    "        #print(\"dead\")\n",
    "    futures2 = []    \n",
    "    return 0\n",
    "\n",
    "#Last try it seemed to work. We reset arrays twice since the canceling of\n",
    "#asynchronous requests is asynchronous, the reset might happen before all requests are canceled\n",
    "#and some requests might finish in the meantime (after reset)\n",
    ";"
   ]
  },
  {
   "cell_type": "code",
   "execution_count": 70,
   "metadata": {},
   "outputs": [
    {
     "data": {
      "text/plain": [
       "0"
      ]
     },
     "execution_count": 70,
     "metadata": {},
     "output_type": "execute_result"
    }
   ],
   "source": [
    "#bad_soups contains all the soups from which we were unable to scrap data. \n",
    "#After requests are finished, the block should compile to 0\n",
    "len(bad_soups2)"
   ]
  },
  {
   "cell_type": "markdown",
   "metadata": {},
   "source": [
    "### Task 2.0.6 Store data and continue compilation"
   ]
  },
  {
   "cell_type": "markdown",
   "metadata": {},
   "source": [
    "<div class=\"lev1\"><a href=\"#Table-of-Contents\"><span class=\"toc-item-num\"></span>Table of contents</a></div>"
   ]
  },
  {
   "cell_type": "code",
   "execution_count": 71,
   "metadata": {
    "collapsed": true
   },
   "outputs": [],
   "source": [
    "# this is to store the data if we don't have the file save.p and reset the futurs after loading\n",
    "\n",
    "def store_data2():\n",
    "    global international_st2\n",
    "    global num_request2\n",
    "    \n",
    "    data = [international_st2, num_request2]\n",
    "    pickle.dump(data, open(\"save2.p\", \"wb\"))\n",
    "    reset_futures2()\n",
    "    \n",
    "    \n",
    "# you can delete the file but you have to uncomment this part to save the data in the file\n",
    "\n",
    "#store_data2() # decoment here after the Zelda sound and recomment don't need to store data everytime"
   ]
  },
  {
   "cell_type": "code",
   "execution_count": 72,
   "metadata": {},
   "outputs": [
    {
     "data": {
      "text/html": [
       "<div>\n",
       "<style>\n",
       "    .dataframe thead tr:only-child th {\n",
       "        text-align: right;\n",
       "    }\n",
       "\n",
       "    .dataframe thead th {\n",
       "        text-align: left;\n",
       "    }\n",
       "\n",
       "    .dataframe tbody tr th {\n",
       "        vertical-align: top;\n",
       "    }\n",
       "</style>\n",
       "<table border=\"1\" class=\"dataframe\">\n",
       "  <thead>\n",
       "    <tr style=\"text-align: right;\">\n",
       "      <th></th>\n",
       "      <th>inter_st_ratio</th>\n",
       "    </tr>\n",
       "  </thead>\n",
       "  <tbody>\n",
       "    <tr>\n",
       "      <th>0</th>\n",
       "      <td>0.38</td>\n",
       "    </tr>\n",
       "    <tr>\n",
       "      <th>1</th>\n",
       "      <td>0.35</td>\n",
       "    </tr>\n",
       "    <tr>\n",
       "      <th>2</th>\n",
       "      <td>0.27</td>\n",
       "    </tr>\n",
       "    <tr>\n",
       "      <th>3</th>\n",
       "      <td>0.22</td>\n",
       "    </tr>\n",
       "    <tr>\n",
       "      <th>4</th>\n",
       "      <td>0.26</td>\n",
       "    </tr>\n",
       "  </tbody>\n",
       "</table>\n",
       "</div>"
      ],
      "text/plain": [
       "   inter_st_ratio\n",
       "0            0.38\n",
       "1            0.35\n",
       "2            0.27\n",
       "3            0.22\n",
       "4            0.26"
      ]
     },
     "execution_count": 72,
     "metadata": {},
     "output_type": "execute_result"
    }
   ],
   "source": [
    "#construct dataframe from individual pages'info\n",
    "missing_df2 = pd.DataFrame(data= [international_st2],index = ['inter_st_ratio']).transpose()\n",
    "missing_df2.head()"
   ]
  },
  {
   "cell_type": "markdown",
   "metadata": {},
   "source": [
    "merge the two daframes to have all infos needed and parse the value in numeric:"
   ]
  },
  {
   "cell_type": "code",
   "execution_count": 73,
   "metadata": {},
   "outputs": [
    {
     "data": {
      "text/html": [
       "<div>\n",
       "<style>\n",
       "    .dataframe thead tr:only-child th {\n",
       "        text-align: right;\n",
       "    }\n",
       "\n",
       "    .dataframe thead th {\n",
       "        text-align: left;\n",
       "    }\n",
       "\n",
       "    .dataframe tbody tr th {\n",
       "        vertical-align: top;\n",
       "    }\n",
       "</style>\n",
       "<table border=\"1\" class=\"dataframe\">\n",
       "  <thead>\n",
       "    <tr style=\"text-align: right;\">\n",
       "      <th></th>\n",
       "      <th>rank</th>\n",
       "      <th>location</th>\n",
       "      <th>name</th>\n",
       "      <th>stats_number_students</th>\n",
       "      <th>stats_student_staff_ratio</th>\n",
       "      <th>inter_st_ratio</th>\n",
       "    </tr>\n",
       "  </thead>\n",
       "  <tbody>\n",
       "    <tr>\n",
       "      <th>0</th>\n",
       "      <td>1</td>\n",
       "      <td>United Kingdom</td>\n",
       "      <td>University of Oxford</td>\n",
       "      <td>20409</td>\n",
       "      <td>11.2</td>\n",
       "      <td>0.38</td>\n",
       "    </tr>\n",
       "    <tr>\n",
       "      <th>1</th>\n",
       "      <td>2</td>\n",
       "      <td>United Kingdom</td>\n",
       "      <td>University of Cambridge</td>\n",
       "      <td>18389</td>\n",
       "      <td>10.9</td>\n",
       "      <td>0.35</td>\n",
       "    </tr>\n",
       "    <tr>\n",
       "      <th>2</th>\n",
       "      <td>3</td>\n",
       "      <td>United States</td>\n",
       "      <td>California Institute of Technology</td>\n",
       "      <td>2209</td>\n",
       "      <td>6.5</td>\n",
       "      <td>0.27</td>\n",
       "    </tr>\n",
       "    <tr>\n",
       "      <th>3</th>\n",
       "      <td>4</td>\n",
       "      <td>United States</td>\n",
       "      <td>Stanford University</td>\n",
       "      <td>15845</td>\n",
       "      <td>7.5</td>\n",
       "      <td>0.22</td>\n",
       "    </tr>\n",
       "    <tr>\n",
       "      <th>4</th>\n",
       "      <td>5</td>\n",
       "      <td>United States</td>\n",
       "      <td>Massachusetts Institute of Technology</td>\n",
       "      <td>11177</td>\n",
       "      <td>8.7</td>\n",
       "      <td>0.26</td>\n",
       "    </tr>\n",
       "  </tbody>\n",
       "</table>\n",
       "</div>"
      ],
      "text/plain": [
       "   rank        location                                   name  \\\n",
       "0     1  United Kingdom                   University of Oxford   \n",
       "1     2  United Kingdom                University of Cambridge   \n",
       "2     3   United States     California Institute of Technology   \n",
       "3     4   United States                    Stanford University   \n",
       "4     5   United States  Massachusetts Institute of Technology   \n",
       "\n",
       "   stats_number_students  stats_student_staff_ratio  inter_st_ratio  \n",
       "0                  20409                       11.2            0.38  \n",
       "1                  18389                       10.9            0.35  \n",
       "2                   2209                        6.5            0.27  \n",
       "3                  15845                        7.5            0.22  \n",
       "4                  11177                        8.7            0.26  "
      ]
     },
     "execution_count": 73,
     "metadata": {},
     "output_type": "execute_result"
    }
   ],
   "source": [
    "univ_tot_df2 = pd.concat([univ_dr_df2, missing_df2], axis = 1)\n",
    "# we take only the 200 fisrt (but already have the data for everyone)\n",
    "univ_tot_df2 = univ_tot_df2[:200]\n",
    "univ_rk_df2 = univ_tot_df2.set_index(['rank'])\n",
    "univ_rk_df2[['stats_number_students']] = univ_rk_df2[['stats_number_students']].applymap(lambda x: x.replace(',',''))\n",
    "univ_rk_df2['stats_number_students'] = pd.to_numeric(univ_rk_df2['stats_number_students'])\n",
    "univ_rk_df2['stats_student_staff_ratio'] = pd.to_numeric(univ_rk_df2['stats_student_staff_ratio'])\n",
    "univ_tot_df2 = univ_rk_df2.reset_index()\n",
    "univ_tot_df2.head()"
   ]
  },
  {
   "cell_type": "markdown",
   "metadata": {},
   "source": [
    "For the regions, we have a problem because they are neither given in the data and neither in the url. \n",
    "So we think that it's better to add a col and take the ragion from the first url www.topuniversities.com,\n",
    "if it exists."
   ]
  },
  {
   "cell_type": "markdown",
   "metadata": {},
   "source": [
    "### Task 2.1\n",
    "\n",
    "Which are the best universities in term of: (a) ratio between faculty members and students, (b) ratio of international students?, (c) country, (d) region"
   ]
  },
  {
   "cell_type": "markdown",
   "metadata": {
    "collapsed": true
   },
   "source": [
    "<div class=\"lev1\"><a href=\"#Table-of-Contents\"><span class=\"toc-item-num\"></span>Table of contents</a></div>"
   ]
  },
  {
   "cell_type": "markdown",
   "metadata": {},
   "source": [
    "#### Warning\n",
    "If the Dataframe have some Nan, the loading wasn't succesful. This is the case if you don't have the save2.p or change the number of request to load ( already explained before ). So if you changed something to test our code please store_data2() after the loading or just run the cells (after the loading) from 2.0.6 to have the Dataframe with the correct values."
   ]
  },
  {
   "cell_type": "code",
   "execution_count": 74,
   "metadata": {
    "collapsed": true
   },
   "outputs": [],
   "source": [
    "#Same function for Task 1.1 to retreive and form the Dataframe that we need\n",
    "def sortby_col_rank2(df, col):\n",
    "    univ_col = df.set_index([col, 'rank'])\n",
    "    univ_col.sort_index(level=[col, 'rank'], ascending=[1, 1], inplace=True)\n",
    "    return univ_col"
   ]
  },
  {
   "cell_type": "markdown",
   "metadata": {},
   "source": [
    "(a) ratio between faculty members and students"
   ]
  },
  {
   "cell_type": "code",
   "execution_count": 75,
   "metadata": {},
   "outputs": [
    {
     "data": {
      "text/html": [
       "<div>\n",
       "<style>\n",
       "    .dataframe thead tr:only-child th {\n",
       "        text-align: right;\n",
       "    }\n",
       "\n",
       "    .dataframe thead th {\n",
       "        text-align: left;\n",
       "    }\n",
       "\n",
       "    .dataframe tbody tr th {\n",
       "        vertical-align: top;\n",
       "    }\n",
       "</style>\n",
       "<table border=\"1\" class=\"dataframe\">\n",
       "  <thead>\n",
       "    <tr style=\"text-align: right;\">\n",
       "      <th></th>\n",
       "      <th>rank</th>\n",
       "      <th>location</th>\n",
       "      <th>name</th>\n",
       "      <th>stats_number_students</th>\n",
       "      <th>stats_student_staff_ratio</th>\n",
       "      <th>inter_st_ratio</th>\n",
       "    </tr>\n",
       "  </thead>\n",
       "  <tbody>\n",
       "    <tr>\n",
       "      <th>99</th>\n",
       "      <td>100</td>\n",
       "      <td>Germany</td>\n",
       "      <td>University of Bonn</td>\n",
       "      <td>35619</td>\n",
       "      <td>77.9</td>\n",
       "      <td>0.13</td>\n",
       "    </tr>\n",
       "    <tr>\n",
       "      <th>124</th>\n",
       "      <td>125</td>\n",
       "      <td>Germany</td>\n",
       "      <td>University of Mannheim</td>\n",
       "      <td>10995</td>\n",
       "      <td>74.5</td>\n",
       "      <td>0.16</td>\n",
       "    </tr>\n",
       "    <tr>\n",
       "      <th>91</th>\n",
       "      <td>92</td>\n",
       "      <td>Germany</td>\n",
       "      <td>Technical University of Berlin</td>\n",
       "      <td>22390</td>\n",
       "      <td>64.3</td>\n",
       "      <td>0.20</td>\n",
       "    </tr>\n",
       "    <tr>\n",
       "      <th>163</th>\n",
       "      <td>164</td>\n",
       "      <td>Germany</td>\n",
       "      <td>University of Erlangen-Nuremberg</td>\n",
       "      <td>38730</td>\n",
       "      <td>58.5</td>\n",
       "      <td>0.12</td>\n",
       "    </tr>\n",
       "    <tr>\n",
       "      <th>78</th>\n",
       "      <td>79</td>\n",
       "      <td>Germany</td>\n",
       "      <td>RWTH Aachen University</td>\n",
       "      <td>43721</td>\n",
       "      <td>57.7</td>\n",
       "      <td>0.18</td>\n",
       "    </tr>\n",
       "  </tbody>\n",
       "</table>\n",
       "</div>"
      ],
      "text/plain": [
       "     rank location                              name  stats_number_students  \\\n",
       "99    100  Germany                University of Bonn                  35619   \n",
       "124   125  Germany            University of Mannheim                  10995   \n",
       "91     92  Germany    Technical University of Berlin                  22390   \n",
       "163   164  Germany  University of Erlangen-Nuremberg                  38730   \n",
       "78     79  Germany            RWTH Aachen University                  43721   \n",
       "\n",
       "     stats_student_staff_ratio  inter_st_ratio  \n",
       "99                        77.9            0.13  \n",
       "124                       74.5            0.16  \n",
       "91                        64.3            0.20  \n",
       "163                       58.5            0.12  \n",
       "78                        57.7            0.18  "
      ]
     },
     "execution_count": 75,
     "metadata": {},
     "output_type": "execute_result"
    }
   ],
   "source": [
    "ratio_mem_stu2 = univ_tot_df2.sort_values(['stats_student_staff_ratio'], ascending = 0)\n",
    "ratio_mem_stu2.head()"
   ]
  },
  {
   "cell_type": "markdown",
   "metadata": {},
   "source": [
    "(b) ratio of international students"
   ]
  },
  {
   "cell_type": "code",
   "execution_count": 76,
   "metadata": {},
   "outputs": [
    {
     "data": {
      "text/html": [
       "<div>\n",
       "<style>\n",
       "    .dataframe thead tr:only-child th {\n",
       "        text-align: right;\n",
       "    }\n",
       "\n",
       "    .dataframe thead th {\n",
       "        text-align: left;\n",
       "    }\n",
       "\n",
       "    .dataframe tbody tr th {\n",
       "        vertical-align: top;\n",
       "    }\n",
       "</style>\n",
       "<table border=\"1\" class=\"dataframe\">\n",
       "  <thead>\n",
       "    <tr style=\"text-align: right;\">\n",
       "      <th></th>\n",
       "      <th>rank</th>\n",
       "      <th>location</th>\n",
       "      <th>name</th>\n",
       "      <th>stats_number_students</th>\n",
       "      <th>stats_student_staff_ratio</th>\n",
       "      <th>inter_st_ratio</th>\n",
       "    </tr>\n",
       "  </thead>\n",
       "  <tbody>\n",
       "    <tr>\n",
       "      <th>24</th>\n",
       "      <td>25</td>\n",
       "      <td>United Kingdom</td>\n",
       "      <td>London School of Economics and Political Science</td>\n",
       "      <td>10065</td>\n",
       "      <td>12.2</td>\n",
       "      <td>0.71</td>\n",
       "    </tr>\n",
       "    <tr>\n",
       "      <th>178</th>\n",
       "      <td>179</td>\n",
       "      <td>Luxembourg</td>\n",
       "      <td>University of Luxembourg</td>\n",
       "      <td>4969</td>\n",
       "      <td>14.6</td>\n",
       "      <td>0.57</td>\n",
       "    </tr>\n",
       "    <tr>\n",
       "      <th>38</th>\n",
       "      <td>39</td>\n",
       "      <td>Sweden</td>\n",
       "      <td>Karolinska Institute</td>\n",
       "      <td>7424</td>\n",
       "      <td>10.9</td>\n",
       "      <td>0.55</td>\n",
       "    </tr>\n",
       "    <tr>\n",
       "      <th>7</th>\n",
       "      <td>8</td>\n",
       "      <td>United Kingdom</td>\n",
       "      <td>Imperial College London</td>\n",
       "      <td>15857</td>\n",
       "      <td>11.4</td>\n",
       "      <td>0.55</td>\n",
       "    </tr>\n",
       "    <tr>\n",
       "      <th>102</th>\n",
       "      <td>103</td>\n",
       "      <td>Netherlands</td>\n",
       "      <td>Maastricht University</td>\n",
       "      <td>16727</td>\n",
       "      <td>18.0</td>\n",
       "      <td>0.50</td>\n",
       "    </tr>\n",
       "  </tbody>\n",
       "</table>\n",
       "</div>"
      ],
      "text/plain": [
       "     rank        location                                              name  \\\n",
       "24     25  United Kingdom  London School of Economics and Political Science   \n",
       "178   179      Luxembourg                          University of Luxembourg   \n",
       "38     39          Sweden                              Karolinska Institute   \n",
       "7       8  United Kingdom                           Imperial College London   \n",
       "102   103     Netherlands                             Maastricht University   \n",
       "\n",
       "     stats_number_students  stats_student_staff_ratio  inter_st_ratio  \n",
       "24                   10065                       12.2            0.71  \n",
       "178                   4969                       14.6            0.57  \n",
       "38                    7424                       10.9            0.55  \n",
       "7                    15857                       11.4            0.55  \n",
       "102                  16727                       18.0            0.50  "
      ]
     },
     "execution_count": 76,
     "metadata": {},
     "output_type": "execute_result"
    }
   ],
   "source": [
    "ratio_int2 = univ_tot_df2.sort_values(['inter_st_ratio'], ascending = 0)\n",
    "ratio_int2.head()"
   ]
  },
  {
   "cell_type": "markdown",
   "metadata": {},
   "source": [
    "(c) country"
   ]
  },
  {
   "cell_type": "code",
   "execution_count": 77,
   "metadata": {},
   "outputs": [
    {
     "data": {
      "text/html": [
       "<div>\n",
       "<style>\n",
       "    .dataframe thead tr:only-child th {\n",
       "        text-align: right;\n",
       "    }\n",
       "\n",
       "    .dataframe thead th {\n",
       "        text-align: left;\n",
       "    }\n",
       "\n",
       "    .dataframe tbody tr th {\n",
       "        vertical-align: top;\n",
       "    }\n",
       "</style>\n",
       "<table border=\"1\" class=\"dataframe\">\n",
       "  <thead>\n",
       "    <tr style=\"text-align: right;\">\n",
       "      <th></th>\n",
       "      <th></th>\n",
       "      <th>name</th>\n",
       "      <th>stats_number_students</th>\n",
       "      <th>stats_student_staff_ratio</th>\n",
       "      <th>inter_st_ratio</th>\n",
       "    </tr>\n",
       "    <tr>\n",
       "      <th>location</th>\n",
       "      <th>rank</th>\n",
       "      <th></th>\n",
       "      <th></th>\n",
       "      <th></th>\n",
       "      <th></th>\n",
       "    </tr>\n",
       "  </thead>\n",
       "  <tbody>\n",
       "    <tr>\n",
       "      <th rowspan=\"5\" valign=\"top\">Australia</th>\n",
       "      <th>32</th>\n",
       "      <td>University of Melbourne</td>\n",
       "      <td>42116</td>\n",
       "      <td>26.6</td>\n",
       "      <td>0.40</td>\n",
       "    </tr>\n",
       "    <tr>\n",
       "      <th>48</th>\n",
       "      <td>Australian National University</td>\n",
       "      <td>15986</td>\n",
       "      <td>19.3</td>\n",
       "      <td>0.35</td>\n",
       "    </tr>\n",
       "    <tr>\n",
       "      <th>61</th>\n",
       "      <td>University of Sydney</td>\n",
       "      <td>44553</td>\n",
       "      <td>21.6</td>\n",
       "      <td>0.32</td>\n",
       "    </tr>\n",
       "    <tr>\n",
       "      <th>65</th>\n",
       "      <td>University of Queensland</td>\n",
       "      <td>38968</td>\n",
       "      <td>35.7</td>\n",
       "      <td>0.26</td>\n",
       "    </tr>\n",
       "    <tr>\n",
       "      <th>81</th>\n",
       "      <td>Monash University</td>\n",
       "      <td>46846</td>\n",
       "      <td>33.7</td>\n",
       "      <td>0.28</td>\n",
       "    </tr>\n",
       "  </tbody>\n",
       "</table>\n",
       "</div>"
      ],
      "text/plain": [
       "                                          name  stats_number_students  \\\n",
       "location  rank                                                          \n",
       "Australia 32           University of Melbourne                  42116   \n",
       "          48    Australian National University                  15986   \n",
       "          61              University of Sydney                  44553   \n",
       "          65          University of Queensland                  38968   \n",
       "          81                 Monash University                  46846   \n",
       "\n",
       "                stats_student_staff_ratio  inter_st_ratio  \n",
       "location  rank                                             \n",
       "Australia 32                         26.6            0.40  \n",
       "          48                         19.3            0.35  \n",
       "          61                         21.6            0.32  \n",
       "          65                         35.7            0.26  \n",
       "          81                         33.7            0.28  "
      ]
     },
     "execution_count": 77,
     "metadata": {},
     "output_type": "execute_result"
    }
   ],
   "source": [
    "country_df2 = sortby_col_rank2(univ_tot_df2, 'location')\n",
    "country_df2.head()"
   ]
  },
  {
   "cell_type": "markdown",
   "metadata": {},
   "source": [
    "(d) region"
   ]
  },
  {
   "cell_type": "markdown",
   "metadata": {
    "collapsed": true,
    "scrolled": true
   },
   "source": [
    "We saw that we don't have the region. So we will first do the 3.1 (Merging) and then do this question just after:\n",
    "If you want to see it directly click ok the link on the bottom"
   ]
  },
  {
   "cell_type": "markdown",
   "metadata": {},
   "source": [
    "<p>\n",
    "<div class=\"lev1\"><a href=\"#Task-2.1.d-Region\"><span class=\"toc-item-num\">Task 2.1.d&nbsp;&nbsp;</span> Region</a></div>\n",
    " \n",
    "</p>"
   ]
  },
  {
   "cell_type": "markdown",
   "metadata": {},
   "source": [
    "### Task 2.2 Plots"
   ]
  },
  {
   "cell_type": "markdown",
   "metadata": {},
   "source": [
    "<div class=\"lev1\"><a href=\"#Table-of-Contents\"><span class=\"toc-item-num\"></span>Table of contents</a></div>"
   ]
  },
  {
   "cell_type": "markdown",
   "metadata": {},
   "source": [
    "(a) Plot ratio between faculty members and students"
   ]
  },
  {
   "cell_type": "code",
   "execution_count": 78,
   "metadata": {},
   "outputs": [
    {
     "data": {
      "image/png": "[encoded data removed]",
      "text/plain": [
       "<matplotlib.figure.Figure at 0x115543048>"
      ]
     },
     "metadata": {},
     "output_type": "display_data"
    }
   ],
   "source": [
    "# We only take the rank and the ratio (stats_student_staff_ratio) that we need. We sort the rank and plot the result\n",
    "\n",
    "df_rank_mem_stu2 = ratio_mem_stu2[[\"rank\", \"stats_student_staff_ratio\"]]\n",
    "df_rank_mem_stu2 = df_rank_mem_stu2.set_index(\"rank\")\n",
    "# We can use again the function we did to plot the bar chart\n",
    "# Again only the 50 first\n",
    "barplot_nb_values(df_rank_mem_stu2, 50, \"ratio between faculty members and students by rank\")"
   ]
  },
  {
   "cell_type": "markdown",
   "metadata": {},
   "source": [
    "We can see that the first Universities have a here a small ratio between faculty members and students. This is the opposite of the first data. There seems to be a correlation between a small ration and a good rank in this ranking. \n",
    "It seems that they took other ranking and did their ratio differently (with other number) and this can explain why we have not similar plots (as the first data). "
   ]
  },
  {
   "cell_type": "markdown",
   "metadata": {},
   "source": [
    "(b) Plot ratio of international students"
   ]
  },
  {
   "cell_type": "code",
   "execution_count": 79,
   "metadata": {},
   "outputs": [
    {
     "data": {
      "image/png": "[encoded data removed]",
      "text/plain": [
       "<matplotlib.figure.Figure at 0x11591b7f0>"
      ]
     },
     "metadata": {},
     "output_type": "display_data"
    }
   ],
   "source": [
    "# Same as before, we only take the rank and the ratio (inter_st_ratio) that we need. We sort the rank and plot the result\n",
    "\n",
    "df_rank_int_stu2 = ratio_int2[[\"rank\", \"inter_st_ratio\"]]\n",
    "df_rank_int_stu2 = df_rank_int_stu2.set_index(\"rank\")\n",
    "# Again only the 50 first\n",
    "barplot_nb_values(df_rank_int_stu2, 50, \"ratio of international students by rank\")"
   ]
  },
  {
   "cell_type": "markdown",
   "metadata": {},
   "source": [
    "The ratio of international student seems to have a very small inpact in the ranking like the previous data. The best universities have a small amount of international student but some universities with a big ratio have a good rank too. So it seems to have a little correlation but not as much as the ratio of faculty member and students"
   ]
  },
  {
   "cell_type": "markdown",
   "metadata": {},
   "source": [
    "c) Plot Number of University in Country"
   ]
  },
  {
   "cell_type": "code",
   "execution_count": 80,
   "metadata": {},
   "outputs": [
    {
     "data": {
      "image/png": "[encoded data removed]",
      "text/plain": [
       "<matplotlib.figure.Figure at 0x115a24518>"
      ]
     },
     "metadata": {},
     "output_type": "display_data"
    }
   ],
   "source": [
    "df_country_nb_uni2 = country_df2.reset_index()\n",
    "df_country_nb_uni2 = df_country_nb_uni2[[\"location\", \"name\"]]\n",
    "df_country_nb_uni2 = df_country_nb_uni2.groupby(['location']).count()\n",
    "\n",
    "#Here 200 is a good representation too\n",
    "barplot_nb_values(df_country_nb_uni2, 200, \"Nb of Uni in Country\")"
   ]
  },
  {
   "cell_type": "markdown",
   "metadata": {},
   "source": [
    "We can see that the top 200 University are in United Kingdom ans USA. But maybe the region will give more details like with the previous data as we can see that many Universities come from Europe too"
   ]
  },
  {
   "cell_type": "markdown",
   "metadata": {},
   "source": [
    "d) Plot Number of University in Country"
   ]
  },
  {
   "cell_type": "markdown",
   "metadata": {
    "collapsed": true
   },
   "source": [
    "We need to merge first so this question will come after the merge and after the 2.1, click on the link to go directly"
   ]
  },
  {
   "cell_type": "markdown",
   "metadata": {},
   "source": [
    "<p>\n",
    "<div class=\"lev1\"><a href=\"#Task-2.2.d-Plot-Region\"><span class=\"toc-item-num\">Task 2.2.d&nbsp;&nbsp;</span> Plot Number of University in Country</a></div>\n",
    " \n",
    "</p>"
   ]
  },
  {
   "cell_type": "markdown",
   "metadata": {},
   "source": [
    "### Task 3.0 Prepare for merge"
   ]
  },
  {
   "cell_type": "markdown",
   "metadata": {},
   "source": [
    "<div class=\"lev1\"><a href=\"#Table-of-Contents\"><span class=\"toc-item-num\"></span>Table of contents</a></div>"
   ]
  },
  {
   "cell_type": "markdown",
   "metadata": {},
   "source": [
    "First we will clean a little bit the data. We can see that in the two dataset, the fields title and name are different. So to clean the data, we will delete every parentheses in every fields to have the same name.\n",
    "However it's not sufficient and that's why we add a function that will compare every name and see determine, with a threshold, if it's the same name of not."
   ]
  },
  {
   "cell_type": "code",
   "execution_count": 81,
   "metadata": {
    "collapsed": true
   },
   "outputs": [],
   "source": [
    "# This function is for the merge. We will compare every name and determine if there are the same or not\n",
    "\n",
    "import difflib\n",
    "\n",
    "threshold = 0.5\n",
    "\n",
    "def fuzzyBool(title, name):\n",
    "    title_univ = title\n",
    "    name_univ = name\n",
    "    \n",
    "    # many name and title have university in it so we delet these part to have a better match\n",
    "    \n",
    "    if \"University\" in title_univ: \n",
    "        title_univ = title_univ.replace(\"University\",\"\")\n",
    "        \n",
    "    if \"University\" in name_univ: \n",
    "        name_univ = name_univ.replace(\"University\",\"\")\n",
    "        \n",
    "    word_ratio = difflib.SequenceMatcher(None, a= title_univ.lower(), b= name_univ.lower()).ratio()\n",
    "    \n",
    "    if(word_ratio >= threshold):\n",
    "            # sinon donne taiwan avec 0.4\n",
    "        return name\n",
    "    else: \n",
    "        return title"
   ]
  },
  {
   "cell_type": "code",
   "execution_count": 82,
   "metadata": {},
   "outputs": [
    {
     "data": {
      "text/html": [
       "<div>\n",
       "<style>\n",
       "    .dataframe thead tr:only-child th {\n",
       "        text-align: right;\n",
       "    }\n",
       "\n",
       "    .dataframe thead th {\n",
       "        text-align: left;\n",
       "    }\n",
       "\n",
       "    .dataframe tbody tr th {\n",
       "        vertical-align: top;\n",
       "    }\n",
       "</style>\n",
       "<table border=\"1\" class=\"dataframe\">\n",
       "  <thead>\n",
       "    <tr style=\"text-align: right;\">\n",
       "      <th></th>\n",
       "      <th>country</th>\n",
       "      <th>rank_display</th>\n",
       "      <th>region</th>\n",
       "      <th>title</th>\n",
       "      <th>inter_st</th>\n",
       "      <th>students</th>\n",
       "      <th>inter_fac</th>\n",
       "      <th>fac</th>\n",
       "    </tr>\n",
       "  </thead>\n",
       "  <tbody>\n",
       "    <tr>\n",
       "      <th>0</th>\n",
       "      <td>United States</td>\n",
       "      <td>1</td>\n",
       "      <td>North America</td>\n",
       "      <td>Massachusetts Institute of Technology</td>\n",
       "      <td>3717</td>\n",
       "      <td>11067</td>\n",
       "      <td>1679</td>\n",
       "      <td>2982</td>\n",
       "    </tr>\n",
       "    <tr>\n",
       "      <th>1</th>\n",
       "      <td>United States</td>\n",
       "      <td>2</td>\n",
       "      <td>North America</td>\n",
       "      <td>Stanford University</td>\n",
       "      <td>3611</td>\n",
       "      <td>15878</td>\n",
       "      <td>2042</td>\n",
       "      <td>4285</td>\n",
       "    </tr>\n",
       "    <tr>\n",
       "      <th>2</th>\n",
       "      <td>United States</td>\n",
       "      <td>3</td>\n",
       "      <td>North America</td>\n",
       "      <td>Harvard University</td>\n",
       "      <td>5266</td>\n",
       "      <td>22429</td>\n",
       "      <td>1311</td>\n",
       "      <td>4350</td>\n",
       "    </tr>\n",
       "    <tr>\n",
       "      <th>3</th>\n",
       "      <td>United States</td>\n",
       "      <td>4</td>\n",
       "      <td>North America</td>\n",
       "      <td>California Institute of Technology</td>\n",
       "      <td>647</td>\n",
       "      <td>2255</td>\n",
       "      <td>350</td>\n",
       "      <td>953</td>\n",
       "    </tr>\n",
       "    <tr>\n",
       "      <th>4</th>\n",
       "      <td>United Kingdom</td>\n",
       "      <td>5</td>\n",
       "      <td>Europe</td>\n",
       "      <td>University of Cambridge</td>\n",
       "      <td>6699</td>\n",
       "      <td>18770</td>\n",
       "      <td>2278</td>\n",
       "      <td>5490</td>\n",
       "    </tr>\n",
       "  </tbody>\n",
       "</table>\n",
       "</div>"
      ],
      "text/plain": [
       "          country  rank_display         region  \\\n",
       "0   United States             1  North America   \n",
       "1   United States             2  North America   \n",
       "2   United States             3  North America   \n",
       "3   United States             4  North America   \n",
       "4  United Kingdom             5         Europe   \n",
       "\n",
       "                                    title inter_st students inter_fac   fac  \n",
       "0  Massachusetts Institute of Technology      3717    11067      1679  2982  \n",
       "1                     Stanford University     3611    15878      2042  4285  \n",
       "2                      Harvard University     5266    22429      1311  4350  \n",
       "3     California Institute of Technology       647     2255       350   953  \n",
       "4                 University of Cambridge     6699    18770      2278  5490  "
      ]
     },
     "execution_count": 82,
     "metadata": {},
     "output_type": "execute_result"
    }
   ],
   "source": [
    "df_pre_merge = univ_tot_df.copy()\n",
    "df_pre_merge2 = univ_tot_df2.copy()\n",
    "# We delete everything in parentheses\n",
    "\n",
    "df_pre_merge['title'] = df_pre_merge['title'].str.replace(r\"\\(.*\\)\",\"\")\n",
    "df_pre_merge2['name'] = df_pre_merge2['name'].str.replace(r\"\\(.*\\)\",\"\")\n",
    "\n",
    "df_pre_merge.head()"
   ]
  },
  {
   "cell_type": "code",
   "execution_count": 83,
   "metadata": {
    "collapsed": true,
    "scrolled": true
   },
   "outputs": [],
   "source": [
    "# looks only on title and name\n",
    "\n",
    "title = df_pre_merge['title']\n",
    "new_title = df_pre_merge['title'].copy()\n",
    "name = df_pre_merge2['name']\n",
    "\n",
    "# we loop on every title and name to compare them and have a match\n",
    "\n",
    "for idx_title, title_ in enumerate(title):\n",
    "    for idx_name, name_ in enumerate(name):        \n",
    "        new_title[idx_title] = fuzzyBool(title_, name_)\n",
    "        "
   ]
  },
  {
   "cell_type": "code",
   "execution_count": 84,
   "metadata": {},
   "outputs": [
    {
     "data": {
      "text/html": [
       "<div>\n",
       "<style>\n",
       "    .dataframe thead tr:only-child th {\n",
       "        text-align: right;\n",
       "    }\n",
       "\n",
       "    .dataframe thead th {\n",
       "        text-align: left;\n",
       "    }\n",
       "\n",
       "    .dataframe tbody tr th {\n",
       "        vertical-align: top;\n",
       "    }\n",
       "</style>\n",
       "<table border=\"1\" class=\"dataframe\">\n",
       "  <thead>\n",
       "    <tr style=\"text-align: right;\">\n",
       "      <th></th>\n",
       "      <th>country</th>\n",
       "      <th>rank_display</th>\n",
       "      <th>region</th>\n",
       "      <th>title</th>\n",
       "      <th>inter_st</th>\n",
       "      <th>students</th>\n",
       "      <th>inter_fac</th>\n",
       "      <th>fac</th>\n",
       "    </tr>\n",
       "  </thead>\n",
       "  <tbody>\n",
       "    <tr>\n",
       "      <th>0</th>\n",
       "      <td>United States</td>\n",
       "      <td>1</td>\n",
       "      <td>North America</td>\n",
       "      <td>Massachusetts Institute of Technology</td>\n",
       "      <td>3717</td>\n",
       "      <td>11067</td>\n",
       "      <td>1679</td>\n",
       "      <td>2982</td>\n",
       "    </tr>\n",
       "    <tr>\n",
       "      <th>1</th>\n",
       "      <td>United States</td>\n",
       "      <td>2</td>\n",
       "      <td>North America</td>\n",
       "      <td>Stanford University</td>\n",
       "      <td>3611</td>\n",
       "      <td>15878</td>\n",
       "      <td>2042</td>\n",
       "      <td>4285</td>\n",
       "    </tr>\n",
       "    <tr>\n",
       "      <th>2</th>\n",
       "      <td>United States</td>\n",
       "      <td>3</td>\n",
       "      <td>North America</td>\n",
       "      <td>Harvard University</td>\n",
       "      <td>5266</td>\n",
       "      <td>22429</td>\n",
       "      <td>1311</td>\n",
       "      <td>4350</td>\n",
       "    </tr>\n",
       "    <tr>\n",
       "      <th>3</th>\n",
       "      <td>United States</td>\n",
       "      <td>4</td>\n",
       "      <td>North America</td>\n",
       "      <td>California Institute of Technology</td>\n",
       "      <td>647</td>\n",
       "      <td>2255</td>\n",
       "      <td>350</td>\n",
       "      <td>953</td>\n",
       "    </tr>\n",
       "    <tr>\n",
       "      <th>4</th>\n",
       "      <td>United Kingdom</td>\n",
       "      <td>5</td>\n",
       "      <td>Europe</td>\n",
       "      <td>University of Cambridge</td>\n",
       "      <td>6699</td>\n",
       "      <td>18770</td>\n",
       "      <td>2278</td>\n",
       "      <td>5490</td>\n",
       "    </tr>\n",
       "  </tbody>\n",
       "</table>\n",
       "</div>"
      ],
      "text/plain": [
       "          country  rank_display         region  \\\n",
       "0   United States             1  North America   \n",
       "1   United States             2  North America   \n",
       "2   United States             3  North America   \n",
       "3   United States             4  North America   \n",
       "4  United Kingdom             5         Europe   \n",
       "\n",
       "                                    title inter_st students inter_fac   fac  \n",
       "0  Massachusetts Institute of Technology      3717    11067      1679  2982  \n",
       "1                     Stanford University     3611    15878      2042  4285  \n",
       "2                      Harvard University     5266    22429      1311  4350  \n",
       "3     California Institute of Technology       647     2255       350   953  \n",
       "4                 University of Cambridge     6699    18770      2278  5490  "
      ]
     },
     "execution_count": 84,
     "metadata": {},
     "output_type": "execute_result"
    }
   ],
   "source": [
    "# add the new title to the first data (only need to do this to 1 data (have the same name of the second))\n",
    "\n",
    "df_pre_merge['title'] = new_title\n",
    "df_pre_merge.head()"
   ]
  },
  {
   "cell_type": "code",
   "execution_count": 85,
   "metadata": {
    "scrolled": true
   },
   "outputs": [
    {
     "data": {
      "text/html": [
       "<div>\n",
       "<style>\n",
       "    .dataframe thead tr:only-child th {\n",
       "        text-align: right;\n",
       "    }\n",
       "\n",
       "    .dataframe thead th {\n",
       "        text-align: left;\n",
       "    }\n",
       "\n",
       "    .dataframe tbody tr th {\n",
       "        vertical-align: top;\n",
       "    }\n",
       "</style>\n",
       "<table border=\"1\" class=\"dataframe\">\n",
       "  <thead>\n",
       "    <tr style=\"text-align: right;\">\n",
       "      <th></th>\n",
       "      <th>country1</th>\n",
       "      <th>rank1</th>\n",
       "      <th>region1</th>\n",
       "      <th>name</th>\n",
       "      <th>inter_st1</th>\n",
       "      <th>students1</th>\n",
       "      <th>inter_fac1</th>\n",
       "      <th>fac1</th>\n",
       "    </tr>\n",
       "  </thead>\n",
       "  <tbody>\n",
       "    <tr>\n",
       "      <th>0</th>\n",
       "      <td>United States</td>\n",
       "      <td>1</td>\n",
       "      <td>North America</td>\n",
       "      <td>Massachusetts Institute of Technology</td>\n",
       "      <td>3717</td>\n",
       "      <td>11067</td>\n",
       "      <td>1679</td>\n",
       "      <td>2982</td>\n",
       "    </tr>\n",
       "    <tr>\n",
       "      <th>1</th>\n",
       "      <td>United States</td>\n",
       "      <td>2</td>\n",
       "      <td>North America</td>\n",
       "      <td>Stanford University</td>\n",
       "      <td>3611</td>\n",
       "      <td>15878</td>\n",
       "      <td>2042</td>\n",
       "      <td>4285</td>\n",
       "    </tr>\n",
       "    <tr>\n",
       "      <th>2</th>\n",
       "      <td>United States</td>\n",
       "      <td>3</td>\n",
       "      <td>North America</td>\n",
       "      <td>Harvard University</td>\n",
       "      <td>5266</td>\n",
       "      <td>22429</td>\n",
       "      <td>1311</td>\n",
       "      <td>4350</td>\n",
       "    </tr>\n",
       "    <tr>\n",
       "      <th>3</th>\n",
       "      <td>United States</td>\n",
       "      <td>4</td>\n",
       "      <td>North America</td>\n",
       "      <td>California Institute of Technology</td>\n",
       "      <td>647</td>\n",
       "      <td>2255</td>\n",
       "      <td>350</td>\n",
       "      <td>953</td>\n",
       "    </tr>\n",
       "    <tr>\n",
       "      <th>4</th>\n",
       "      <td>United Kingdom</td>\n",
       "      <td>5</td>\n",
       "      <td>Europe</td>\n",
       "      <td>University of Cambridge</td>\n",
       "      <td>6699</td>\n",
       "      <td>18770</td>\n",
       "      <td>2278</td>\n",
       "      <td>5490</td>\n",
       "    </tr>\n",
       "  </tbody>\n",
       "</table>\n",
       "</div>"
      ],
      "text/plain": [
       "         country1  rank1        region1  \\\n",
       "0   United States      1  North America   \n",
       "1   United States      2  North America   \n",
       "2   United States      3  North America   \n",
       "3   United States      4  North America   \n",
       "4  United Kingdom      5         Europe   \n",
       "\n",
       "                                     name inter_st1 students1 inter_fac1  fac1  \n",
       "0  Massachusetts Institute of Technology       3717     11067       1679  2982  \n",
       "1                     Stanford University      3611     15878       2042  4285  \n",
       "2                      Harvard University      5266     22429       1311  4350  \n",
       "3     California Institute of Technology        647      2255        350   953  \n",
       "4                 University of Cambridge      6699     18770       2278  5490  "
      ]
     },
     "execution_count": 85,
     "metadata": {},
     "output_type": "execute_result"
    }
   ],
   "source": [
    "# rename the columns to merge\n",
    "df_pre_merge.columns = ['country1', 'rank1', 'region1', 'name', 'inter_st1', 'students1', 'inter_fac1', 'fac1']\n",
    "df_pre_merge2.columns = ['rank2', 'country2', 'name', 'students2', 'stu_fac_ratio2', 'inter_st_ratio']\n",
    "df_pre_merge.head()"
   ]
  },
  {
   "cell_type": "markdown",
   "metadata": {},
   "source": [
    "### Task 3.1 Merge"
   ]
  },
  {
   "cell_type": "markdown",
   "metadata": {},
   "source": [
    "<div class=\"lev1\"><a href=\"#Table-of-Contents\"><span class=\"toc-item-num\"></span>Table of contents</a></div>"
   ]
  },
  {
   "cell_type": "code",
   "execution_count": 86,
   "metadata": {
    "scrolled": false
   },
   "outputs": [
    {
     "data": {
      "text/html": [
       "<div>\n",
       "<style>\n",
       "    .dataframe thead tr:only-child th {\n",
       "        text-align: right;\n",
       "    }\n",
       "\n",
       "    .dataframe thead th {\n",
       "        text-align: left;\n",
       "    }\n",
       "\n",
       "    .dataframe tbody tr th {\n",
       "        vertical-align: top;\n",
       "    }\n",
       "</style>\n",
       "<table border=\"1\" class=\"dataframe\">\n",
       "  <thead>\n",
       "    <tr style=\"text-align: right;\">\n",
       "      <th></th>\n",
       "      <th>country1</th>\n",
       "      <th>rank1</th>\n",
       "      <th>region1</th>\n",
       "      <th>name</th>\n",
       "      <th>inter_st1</th>\n",
       "      <th>students1</th>\n",
       "      <th>inter_fac1</th>\n",
       "      <th>fac1</th>\n",
       "      <th>rank2</th>\n",
       "      <th>stu_fac_ratio2</th>\n",
       "      <th>inter_st_ratio</th>\n",
       "    </tr>\n",
       "  </thead>\n",
       "  <tbody>\n",
       "    <tr>\n",
       "      <th>0</th>\n",
       "      <td>United States</td>\n",
       "      <td>2</td>\n",
       "      <td>North America</td>\n",
       "      <td>Stanford University</td>\n",
       "      <td>3611</td>\n",
       "      <td>15878</td>\n",
       "      <td>2042</td>\n",
       "      <td>4285</td>\n",
       "      <td>4</td>\n",
       "      <td>7.5</td>\n",
       "      <td>0.22</td>\n",
       "    </tr>\n",
       "    <tr>\n",
       "      <th>1</th>\n",
       "      <td>United States</td>\n",
       "      <td>3</td>\n",
       "      <td>North America</td>\n",
       "      <td>Harvard University</td>\n",
       "      <td>5266</td>\n",
       "      <td>22429</td>\n",
       "      <td>1311</td>\n",
       "      <td>4350</td>\n",
       "      <td>6</td>\n",
       "      <td>8.9</td>\n",
       "      <td>0.34</td>\n",
       "    </tr>\n",
       "    <tr>\n",
       "      <th>2</th>\n",
       "      <td>United Kingdom</td>\n",
       "      <td>5</td>\n",
       "      <td>Europe</td>\n",
       "      <td>University of Cambridge</td>\n",
       "      <td>6699</td>\n",
       "      <td>18770</td>\n",
       "      <td>2278</td>\n",
       "      <td>5490</td>\n",
       "      <td>2</td>\n",
       "      <td>10.9</td>\n",
       "      <td>0.35</td>\n",
       "    </tr>\n",
       "    <tr>\n",
       "      <th>3</th>\n",
       "      <td>United Kingdom</td>\n",
       "      <td>6</td>\n",
       "      <td>Europe</td>\n",
       "      <td>University of Oxford</td>\n",
       "      <td>7353</td>\n",
       "      <td>19720</td>\n",
       "      <td>2964</td>\n",
       "      <td>6750</td>\n",
       "      <td>1</td>\n",
       "      <td>11.2</td>\n",
       "      <td>0.38</td>\n",
       "    </tr>\n",
       "    <tr>\n",
       "      <th>4</th>\n",
       "      <td>United Kingdom</td>\n",
       "      <td>8</td>\n",
       "      <td>Europe</td>\n",
       "      <td>Imperial College London</td>\n",
       "      <td>8746</td>\n",
       "      <td>16090</td>\n",
       "      <td>2071</td>\n",
       "      <td>3930</td>\n",
       "      <td>8</td>\n",
       "      <td>11.4</td>\n",
       "      <td>0.55</td>\n",
       "    </tr>\n",
       "  </tbody>\n",
       "</table>\n",
       "</div>"
      ],
      "text/plain": [
       "         country1  rank1        region1                     name inter_st1  \\\n",
       "0   United States      2  North America      Stanford University      3611   \n",
       "1   United States      3  North America       Harvard University      5266   \n",
       "2  United Kingdom      5         Europe  University of Cambridge      6699   \n",
       "3  United Kingdom      6         Europe     University of Oxford      7353   \n",
       "4  United Kingdom      8         Europe  Imperial College London      8746   \n",
       "\n",
       "  students1 inter_fac1  fac1  rank2  stu_fac_ratio2  inter_st_ratio  \n",
       "0     15878       2042  4285      4             7.5            0.22  \n",
       "1     22429       1311  4350      6             8.9            0.34  \n",
       "2     18770       2278  5490      2            10.9            0.35  \n",
       "3     19720       2964  6750      1            11.2            0.38  \n",
       "4     16090       2071  3930      8            11.4            0.55  "
      ]
     },
     "execution_count": 86,
     "metadata": {},
     "output_type": "execute_result"
    }
   ],
   "source": [
    "# Here we merge and keep only the values that are in both data (inner)\n",
    "\n",
    "df_merged = df_pre_merge.merge(df_pre_merge2, how='inner', on = 'name')\n",
    "new_column_order = ['name', 'region1', 'rank1', 'rank2', 'country1', 'students1', 'inter_st1', 'fac1', 'inter_fac1',\n",
    "                   'stu_fac_ratio2', 'inter_st_ratio']\n",
    "df_merged2 = df_merged.drop('country2', axis=1).drop('students2', axis=1)\n",
    "df_merged2.reindex(columns = new_column_order)\n",
    "df_merged2.head()"
   ]
  },
  {
   "cell_type": "code",
   "execution_count": 87,
   "metadata": {},
   "outputs": [
    {
     "data": {
      "text/plain": [
       "108"
      ]
     },
     "execution_count": 87,
     "metadata": {},
     "output_type": "execute_result"
    }
   ],
   "source": [
    "len(df_merged2)"
   ]
  },
  {
   "cell_type": "markdown",
   "metadata": {},
   "source": [
    "Unfortunately, we have only 108 rows. We tried to change our threshold but by decreasing it, some titles were match to an other universities and that's not acceptable. So we chose the best threshold to have the maximun matches: 108.\n",
    "We can see that some universities are not in both data and that can explain why we have only 108 matches."
   ]
  },
  {
   "cell_type": "markdown",
   "metadata": {},
   "source": [
    "### Task-2.1.d Region\n",
    "\n",
    "now we can do this task because we finally have the regions"
   ]
  },
  {
   "cell_type": "markdown",
   "metadata": {},
   "source": [
    "<div class=\"lev1\"><a href=\"#Table-of-Contents\"><span class=\"toc-item-num\"></span>Table of contents</a></div>"
   ]
  },
  {
   "cell_type": "code",
   "execution_count": 88,
   "metadata": {},
   "outputs": [
    {
     "data": {
      "text/html": [
       "<div>\n",
       "<style>\n",
       "    .dataframe thead tr:only-child th {\n",
       "        text-align: right;\n",
       "    }\n",
       "\n",
       "    .dataframe thead th {\n",
       "        text-align: left;\n",
       "    }\n",
       "\n",
       "    .dataframe tbody tr th {\n",
       "        vertical-align: top;\n",
       "    }\n",
       "</style>\n",
       "<table border=\"1\" class=\"dataframe\">\n",
       "  <thead>\n",
       "    <tr style=\"text-align: right;\">\n",
       "      <th></th>\n",
       "      <th></th>\n",
       "      <th>name</th>\n",
       "      <th>country</th>\n",
       "      <th>students</th>\n",
       "      <th>stu_fac_ratio</th>\n",
       "      <th>inter_st_ratio</th>\n",
       "    </tr>\n",
       "    <tr>\n",
       "      <th>region1</th>\n",
       "      <th>rank</th>\n",
       "      <th></th>\n",
       "      <th></th>\n",
       "      <th></th>\n",
       "      <th></th>\n",
       "      <th></th>\n",
       "    </tr>\n",
       "  </thead>\n",
       "  <tbody>\n",
       "    <tr>\n",
       "      <th>Africa</th>\n",
       "      <th>171</th>\n",
       "      <td>University of Cape Town</td>\n",
       "      <td>South Africa</td>\n",
       "      <td>20775</td>\n",
       "      <td>11.7</td>\n",
       "      <td>0.18</td>\n",
       "    </tr>\n",
       "    <tr>\n",
       "      <th rowspan=\"4\" valign=\"top\">Asia</th>\n",
       "      <th>29</th>\n",
       "      <td>Peking University</td>\n",
       "      <td>China</td>\n",
       "      <td>42136</td>\n",
       "      <td>8.9</td>\n",
       "      <td>0.16</td>\n",
       "    </tr>\n",
       "    <tr>\n",
       "      <th>30</th>\n",
       "      <td>Tsinghua University</td>\n",
       "      <td>China</td>\n",
       "      <td>42089</td>\n",
       "      <td>13.7</td>\n",
       "      <td>0.09</td>\n",
       "    </tr>\n",
       "    <tr>\n",
       "      <th>74</th>\n",
       "      <td>Kyoto University</td>\n",
       "      <td>Japan</td>\n",
       "      <td>22481</td>\n",
       "      <td>8.7</td>\n",
       "      <td>0.08</td>\n",
       "    </tr>\n",
       "    <tr>\n",
       "      <th>111</th>\n",
       "      <td>Sungkyunkwan University</td>\n",
       "      <td>South Korea</td>\n",
       "      <td>24055</td>\n",
       "      <td>19.6</td>\n",
       "      <td>0.12</td>\n",
       "    </tr>\n",
       "  </tbody>\n",
       "</table>\n",
       "</div>"
      ],
      "text/plain": [
       "                                  name       country  students  stu_fac_ratio  \\\n",
       "region1 rank                                                                    \n",
       "Africa  171    University of Cape Town  South Africa     20775           11.7   \n",
       "Asia    29           Peking University         China     42136            8.9   \n",
       "        30         Tsinghua University         China     42089           13.7   \n",
       "        74            Kyoto University         Japan     22481            8.7   \n",
       "        111   Sungkyunkwan University    South Korea     24055           19.6   \n",
       "\n",
       "              inter_st_ratio  \n",
       "region1 rank                  \n",
       "Africa  171             0.18  \n",
       "Asia    29              0.16  \n",
       "        30              0.09  \n",
       "        74              0.08  \n",
       "        111             0.12  "
      ]
     },
     "execution_count": 88,
     "metadata": {},
     "output_type": "execute_result"
    }
   ],
   "source": [
    "# we copy the datafram and rename the columns\n",
    "# As said before, this data didn't had the column region, so we will have less data than before because we needed to merge first the have the regions\n",
    "\n",
    "region_df2_merged = df_merged.copy()\n",
    "region_df2_merged.columns = ['country1', 'rank1', 'region1', 'name', 'inter_st1', 'students1', 'inter_fac1', 'fac1', 'rank', 'country', 'students', 'stu_fac_ratio', 'inter_st_ratio']\n",
    "\n",
    "# We do the same things as before, sort_by the region and rank, dans drop the data we don't need\n",
    "region_df2_merged = sortby_col_rank2(region_df2_merged, 'region1')\n",
    "region_df2 = region_df2_merged.drop('country1', axis=1).drop('students1', axis=1).drop('rank1', axis=1) \\\n",
    ".drop('inter_st1', axis=1).drop('inter_fac1', axis=1).drop('fac1', axis=1)\n",
    "\n",
    "region_df2.head(5)"
   ]
  },
  {
   "cell_type": "markdown",
   "metadata": {},
   "source": [
    "### Task-2.2.d Plot Region"
   ]
  },
  {
   "cell_type": "markdown",
   "metadata": {},
   "source": [
    "<div class=\"lev1\"><a href=\"#Table-of-Contents\"><span class=\"toc-item-num\"></span>Table of contents</a></div>"
   ]
  },
  {
   "cell_type": "code",
   "execution_count": 89,
   "metadata": {},
   "outputs": [
    {
     "data": {
      "image/png": "[encoded data removed]",
      "text/plain": [
       "<matplotlib.figure.Figure at 0x115605470>"
      ]
     },
     "metadata": {},
     "output_type": "display_data"
    }
   ],
   "source": [
    "# Here we take only the region and the title and count the number of Univertity that are in each region\n",
    "\n",
    "df_region_nb_uni2 = region_df2.reset_index()\n",
    "df_region_nb_uni2 =df_region_nb_uni2[[\"region1\", \"name\"]]\n",
    "df_region_nb_uni2 = df_region_nb_uni2.groupby(['region1']).count()\n",
    "#Here 200 is a good representation too\n",
    "barplot_nb_values(df_region_nb_uni2, 200, \"Nb of Uni in Region\")"
   ]
  },
  {
   "cell_type": "markdown",
   "metadata": {},
   "source": [
    "As we saw in the first data, the top 200 University are in Europe and North America. Maybe our assuption was right or this ranking was again done with a selection of criterion from these countries."
   ]
  },
  {
   "cell_type": "markdown",
   "metadata": {},
   "source": [
    "Now if we want to return to point 3.0\n",
    "<p>\n",
    "<div class=\"lev1\"><a href=\"#Task-3.0-Prepare-for-merge\"><span class=\"toc-item-num\">Task 3.0&nbsp;&nbsp;</span>Prepare for merge</a>\n",
    "</div>\n",
    "</p>"
   ]
  },
  {
   "cell_type": "markdown",
   "metadata": {},
   "source": [
    "### Task 4"
   ]
  },
  {
   "cell_type": "markdown",
   "metadata": {},
   "source": [
    "<div class=\"lev1\"><a href=\"#Table-of-Contents\"><span class=\"toc-item-num\"></span>Table of contents</a></div>"
   ]
  },
  {
   "cell_type": "markdown",
   "metadata": {},
   "source": [
    "We use the merged df to compute correlation between fields"
   ]
  },
  {
   "cell_type": "code",
   "execution_count": 90,
   "metadata": {
    "scrolled": true
   },
   "outputs": [
    {
     "data": {
      "text/html": [
       "<div>\n",
       "<style>\n",
       "    .dataframe thead tr:only-child th {\n",
       "        text-align: right;\n",
       "    }\n",
       "\n",
       "    .dataframe thead th {\n",
       "        text-align: left;\n",
       "    }\n",
       "\n",
       "    .dataframe tbody tr th {\n",
       "        vertical-align: top;\n",
       "    }\n",
       "</style>\n",
       "<table border=\"1\" class=\"dataframe\">\n",
       "  <thead>\n",
       "    <tr style=\"text-align: right;\">\n",
       "      <th></th>\n",
       "      <th>country1</th>\n",
       "      <th>rank1</th>\n",
       "      <th>region1</th>\n",
       "      <th>name</th>\n",
       "      <th>inter_st1</th>\n",
       "      <th>students1</th>\n",
       "      <th>inter_fac1</th>\n",
       "      <th>fac1</th>\n",
       "      <th>rank2</th>\n",
       "      <th>stu_fac_ratio2</th>\n",
       "      <th>inter_st_ratio</th>\n",
       "    </tr>\n",
       "  </thead>\n",
       "  <tbody>\n",
       "    <tr>\n",
       "      <th>0</th>\n",
       "      <td>United States</td>\n",
       "      <td>2</td>\n",
       "      <td>North America</td>\n",
       "      <td>Stanford University</td>\n",
       "      <td>3611</td>\n",
       "      <td>15878</td>\n",
       "      <td>2042</td>\n",
       "      <td>4285</td>\n",
       "      <td>4</td>\n",
       "      <td>7.5</td>\n",
       "      <td>0.22</td>\n",
       "    </tr>\n",
       "    <tr>\n",
       "      <th>1</th>\n",
       "      <td>United States</td>\n",
       "      <td>3</td>\n",
       "      <td>North America</td>\n",
       "      <td>Harvard University</td>\n",
       "      <td>5266</td>\n",
       "      <td>22429</td>\n",
       "      <td>1311</td>\n",
       "      <td>4350</td>\n",
       "      <td>6</td>\n",
       "      <td>8.9</td>\n",
       "      <td>0.34</td>\n",
       "    </tr>\n",
       "    <tr>\n",
       "      <th>2</th>\n",
       "      <td>United Kingdom</td>\n",
       "      <td>5</td>\n",
       "      <td>Europe</td>\n",
       "      <td>University of Cambridge</td>\n",
       "      <td>6699</td>\n",
       "      <td>18770</td>\n",
       "      <td>2278</td>\n",
       "      <td>5490</td>\n",
       "      <td>2</td>\n",
       "      <td>10.9</td>\n",
       "      <td>0.35</td>\n",
       "    </tr>\n",
       "    <tr>\n",
       "      <th>3</th>\n",
       "      <td>United Kingdom</td>\n",
       "      <td>6</td>\n",
       "      <td>Europe</td>\n",
       "      <td>University of Oxford</td>\n",
       "      <td>7353</td>\n",
       "      <td>19720</td>\n",
       "      <td>2964</td>\n",
       "      <td>6750</td>\n",
       "      <td>1</td>\n",
       "      <td>11.2</td>\n",
       "      <td>0.38</td>\n",
       "    </tr>\n",
       "    <tr>\n",
       "      <th>4</th>\n",
       "      <td>United Kingdom</td>\n",
       "      <td>8</td>\n",
       "      <td>Europe</td>\n",
       "      <td>Imperial College London</td>\n",
       "      <td>8746</td>\n",
       "      <td>16090</td>\n",
       "      <td>2071</td>\n",
       "      <td>3930</td>\n",
       "      <td>8</td>\n",
       "      <td>11.4</td>\n",
       "      <td>0.55</td>\n",
       "    </tr>\n",
       "  </tbody>\n",
       "</table>\n",
       "</div>"
      ],
      "text/plain": [
       "         country1  rank1        region1                     name inter_st1  \\\n",
       "0   United States      2  North America      Stanford University      3611   \n",
       "1   United States      3  North America       Harvard University      5266   \n",
       "2  United Kingdom      5         Europe  University of Cambridge      6699   \n",
       "3  United Kingdom      6         Europe     University of Oxford      7353   \n",
       "4  United Kingdom      8         Europe  Imperial College London      8746   \n",
       "\n",
       "  students1 inter_fac1  fac1  rank2  stu_fac_ratio2  inter_st_ratio  \n",
       "0     15878       2042  4285      4             7.5            0.22  \n",
       "1     22429       1311  4350      6             8.9            0.34  \n",
       "2     18770       2278  5490      2            10.9            0.35  \n",
       "3     19720       2964  6750      1            11.2            0.38  \n",
       "4     16090       2071  3930      8            11.4            0.55  "
      ]
     },
     "execution_count": 90,
     "metadata": {},
     "output_type": "execute_result"
    }
   ],
   "source": [
    "df_merged2.head()"
   ]
  },
  {
   "cell_type": "code",
   "execution_count": 91,
   "metadata": {
    "scrolled": false
   },
   "outputs": [
    {
     "data": {
      "text/plain": [
       "country1           object\n",
       "rank1               int64\n",
       "region1            object\n",
       "name               object\n",
       "inter_st1          object\n",
       "students1          object\n",
       "inter_fac1         object\n",
       "fac1               object\n",
       "rank2               int64\n",
       "stu_fac_ratio2    float64\n",
       "inter_st_ratio    float64\n",
       "dtype: object"
      ]
     },
     "execution_count": 91,
     "metadata": {},
     "output_type": "execute_result"
    }
   ],
   "source": [
    "df_merged2.dtypes"
   ]
  },
  {
   "cell_type": "code",
   "execution_count": 92,
   "metadata": {
    "scrolled": true
   },
   "outputs": [
    {
     "data": {
      "text/html": [
       "<div>\n",
       "<style>\n",
       "    .dataframe thead tr:only-child th {\n",
       "        text-align: right;\n",
       "    }\n",
       "\n",
       "    .dataframe thead th {\n",
       "        text-align: left;\n",
       "    }\n",
       "\n",
       "    .dataframe tbody tr th {\n",
       "        vertical-align: top;\n",
       "    }\n",
       "</style>\n",
       "<table border=\"1\" class=\"dataframe\">\n",
       "  <thead>\n",
       "    <tr style=\"text-align: right;\">\n",
       "      <th></th>\n",
       "      <th>rank1</th>\n",
       "      <th>rank2</th>\n",
       "      <th>stu_fac_ratio2</th>\n",
       "      <th>inter_st_ratio</th>\n",
       "    </tr>\n",
       "  </thead>\n",
       "  <tbody>\n",
       "    <tr>\n",
       "      <th>rank1</th>\n",
       "      <td>1.000000</td>\n",
       "      <td>0.613228</td>\n",
       "      <td>0.215538</td>\n",
       "      <td>-0.129857</td>\n",
       "    </tr>\n",
       "    <tr>\n",
       "      <th>rank2</th>\n",
       "      <td>0.613228</td>\n",
       "      <td>1.000000</td>\n",
       "      <td>-0.008709</td>\n",
       "      <td>-0.163311</td>\n",
       "    </tr>\n",
       "    <tr>\n",
       "      <th>stu_fac_ratio2</th>\n",
       "      <td>0.215538</td>\n",
       "      <td>-0.008709</td>\n",
       "      <td>1.000000</td>\n",
       "      <td>-0.063031</td>\n",
       "    </tr>\n",
       "    <tr>\n",
       "      <th>inter_st_ratio</th>\n",
       "      <td>-0.129857</td>\n",
       "      <td>-0.163311</td>\n",
       "      <td>-0.063031</td>\n",
       "      <td>1.000000</td>\n",
       "    </tr>\n",
       "  </tbody>\n",
       "</table>\n",
       "</div>"
      ],
      "text/plain": [
       "                   rank1     rank2  stu_fac_ratio2  inter_st_ratio\n",
       "rank1           1.000000  0.613228        0.215538       -0.129857\n",
       "rank2           0.613228  1.000000       -0.008709       -0.163311\n",
       "stu_fac_ratio2  0.215538 -0.008709        1.000000       -0.063031\n",
       "inter_st_ratio -0.129857 -0.163311       -0.063031        1.000000"
      ]
     },
     "execution_count": 92,
     "metadata": {},
     "output_type": "execute_result"
    }
   ],
   "source": [
    "# to see if there is some correlation\n",
    "df_merged2.corr()"
   ]
  },
  {
   "cell_type": "markdown",
   "metadata": {},
   "source": [
    "As we can see with the two above cells we need to change the type of most columns to be able to compute a correlation"
   ]
  },
  {
   "cell_type": "code",
   "execution_count": 93,
   "metadata": {
    "collapsed": true
   },
   "outputs": [],
   "source": [
    "df_mergedCorr = df_merged2.copy(deep=True)"
   ]
  },
  {
   "cell_type": "code",
   "execution_count": 94,
   "metadata": {
    "collapsed": true
   },
   "outputs": [],
   "source": [
    "# better because some values weren't in numeric\n",
    "df_mergedCorr[['inter_st1','students1','inter_fac1','fac1']] = \\\n",
    "df_mergedCorr[['inter_st1','students1','inter_fac1','fac1']].apply(pd.to_numeric,errors='coerce')"
   ]
  },
  {
   "cell_type": "code",
   "execution_count": 95,
   "metadata": {
    "scrolled": true
   },
   "outputs": [
    {
     "data": {
      "text/html": [
       "<div>\n",
       "<style>\n",
       "    .dataframe thead tr:only-child th {\n",
       "        text-align: right;\n",
       "    }\n",
       "\n",
       "    .dataframe thead th {\n",
       "        text-align: left;\n",
       "    }\n",
       "\n",
       "    .dataframe tbody tr th {\n",
       "        vertical-align: top;\n",
       "    }\n",
       "</style>\n",
       "<table border=\"1\" class=\"dataframe\">\n",
       "  <thead>\n",
       "    <tr style=\"text-align: right;\">\n",
       "      <th></th>\n",
       "      <th>country1</th>\n",
       "      <th>rank1</th>\n",
       "      <th>region1</th>\n",
       "      <th>name</th>\n",
       "      <th>inter_st1</th>\n",
       "      <th>students1</th>\n",
       "      <th>inter_fac1</th>\n",
       "      <th>fac1</th>\n",
       "      <th>rank2</th>\n",
       "      <th>stu_fac_ratio2</th>\n",
       "      <th>inter_st_ratio</th>\n",
       "    </tr>\n",
       "  </thead>\n",
       "  <tbody>\n",
       "    <tr>\n",
       "      <th>0</th>\n",
       "      <td>United States</td>\n",
       "      <td>2</td>\n",
       "      <td>North America</td>\n",
       "      <td>Stanford University</td>\n",
       "      <td>3611</td>\n",
       "      <td>15878</td>\n",
       "      <td>2042</td>\n",
       "      <td>4285</td>\n",
       "      <td>4</td>\n",
       "      <td>7.5</td>\n",
       "      <td>0.22</td>\n",
       "    </tr>\n",
       "    <tr>\n",
       "      <th>1</th>\n",
       "      <td>United States</td>\n",
       "      <td>3</td>\n",
       "      <td>North America</td>\n",
       "      <td>Harvard University</td>\n",
       "      <td>5266</td>\n",
       "      <td>22429</td>\n",
       "      <td>1311</td>\n",
       "      <td>4350</td>\n",
       "      <td>6</td>\n",
       "      <td>8.9</td>\n",
       "      <td>0.34</td>\n",
       "    </tr>\n",
       "    <tr>\n",
       "      <th>2</th>\n",
       "      <td>United Kingdom</td>\n",
       "      <td>5</td>\n",
       "      <td>Europe</td>\n",
       "      <td>University of Cambridge</td>\n",
       "      <td>6699</td>\n",
       "      <td>18770</td>\n",
       "      <td>2278</td>\n",
       "      <td>5490</td>\n",
       "      <td>2</td>\n",
       "      <td>10.9</td>\n",
       "      <td>0.35</td>\n",
       "    </tr>\n",
       "    <tr>\n",
       "      <th>3</th>\n",
       "      <td>United Kingdom</td>\n",
       "      <td>6</td>\n",
       "      <td>Europe</td>\n",
       "      <td>University of Oxford</td>\n",
       "      <td>7353</td>\n",
       "      <td>19720</td>\n",
       "      <td>2964</td>\n",
       "      <td>6750</td>\n",
       "      <td>1</td>\n",
       "      <td>11.2</td>\n",
       "      <td>0.38</td>\n",
       "    </tr>\n",
       "    <tr>\n",
       "      <th>4</th>\n",
       "      <td>United Kingdom</td>\n",
       "      <td>8</td>\n",
       "      <td>Europe</td>\n",
       "      <td>Imperial College London</td>\n",
       "      <td>8746</td>\n",
       "      <td>16090</td>\n",
       "      <td>2071</td>\n",
       "      <td>3930</td>\n",
       "      <td>8</td>\n",
       "      <td>11.4</td>\n",
       "      <td>0.55</td>\n",
       "    </tr>\n",
       "  </tbody>\n",
       "</table>\n",
       "</div>"
      ],
      "text/plain": [
       "         country1  rank1        region1                     name  inter_st1  \\\n",
       "0   United States      2  North America      Stanford University       3611   \n",
       "1   United States      3  North America       Harvard University       5266   \n",
       "2  United Kingdom      5         Europe  University of Cambridge       6699   \n",
       "3  United Kingdom      6         Europe     University of Oxford       7353   \n",
       "4  United Kingdom      8         Europe  Imperial College London       8746   \n",
       "\n",
       "   students1  inter_fac1  fac1  rank2  stu_fac_ratio2  inter_st_ratio  \n",
       "0      15878        2042  4285      4             7.5            0.22  \n",
       "1      22429        1311  4350      6             8.9            0.34  \n",
       "2      18770        2278  5490      2            10.9            0.35  \n",
       "3      19720        2964  6750      1            11.2            0.38  \n",
       "4      16090        2071  3930      8            11.4            0.55  "
      ]
     },
     "execution_count": 95,
     "metadata": {},
     "output_type": "execute_result"
    }
   ],
   "source": [
    "df_mergedCorr.head()"
   ]
  },
  {
   "cell_type": "code",
   "execution_count": 96,
   "metadata": {},
   "outputs": [
    {
     "data": {
      "text/plain": [
       "country1           object\n",
       "rank1               int64\n",
       "region1            object\n",
       "name               object\n",
       "inter_st1           int64\n",
       "students1           int64\n",
       "inter_fac1          int64\n",
       "fac1                int64\n",
       "rank2               int64\n",
       "stu_fac_ratio2    float64\n",
       "inter_st_ratio    float64\n",
       "dtype: object"
      ]
     },
     "execution_count": 96,
     "metadata": {},
     "output_type": "execute_result"
    }
   ],
   "source": [
    "df_mergedCorr.dtypes"
   ]
  },
  {
   "cell_type": "code",
   "execution_count": 97,
   "metadata": {
    "scrolled": true
   },
   "outputs": [
    {
     "data": {
      "text/html": [
       "<div>\n",
       "<style>\n",
       "    .dataframe thead tr:only-child th {\n",
       "        text-align: right;\n",
       "    }\n",
       "\n",
       "    .dataframe thead th {\n",
       "        text-align: left;\n",
       "    }\n",
       "\n",
       "    .dataframe tbody tr th {\n",
       "        vertical-align: top;\n",
       "    }\n",
       "</style>\n",
       "<table border=\"1\" class=\"dataframe\">\n",
       "  <thead>\n",
       "    <tr style=\"text-align: right;\">\n",
       "      <th></th>\n",
       "      <th>rank1</th>\n",
       "      <th>inter_st1</th>\n",
       "      <th>students1</th>\n",
       "      <th>inter_fac1</th>\n",
       "      <th>fac1</th>\n",
       "      <th>rank2</th>\n",
       "      <th>stu_fac_ratio2</th>\n",
       "      <th>inter_st_ratio</th>\n",
       "    </tr>\n",
       "  </thead>\n",
       "  <tbody>\n",
       "    <tr>\n",
       "      <th>rank1</th>\n",
       "      <td>1.000000</td>\n",
       "      <td>-0.228870</td>\n",
       "      <td>-0.085666</td>\n",
       "      <td>-0.494242</td>\n",
       "      <td>-0.427534</td>\n",
       "      <td>0.613228</td>\n",
       "      <td>0.215538</td>\n",
       "      <td>-0.129857</td>\n",
       "    </tr>\n",
       "    <tr>\n",
       "      <th>inter_st1</th>\n",
       "      <td>-0.228870</td>\n",
       "      <td>1.000000</td>\n",
       "      <td>0.647380</td>\n",
       "      <td>0.527078</td>\n",
       "      <td>0.402097</td>\n",
       "      <td>-0.353543</td>\n",
       "      <td>0.218857</td>\n",
       "      <td>0.289101</td>\n",
       "    </tr>\n",
       "    <tr>\n",
       "      <th>students1</th>\n",
       "      <td>-0.085666</td>\n",
       "      <td>0.647380</td>\n",
       "      <td>1.000000</td>\n",
       "      <td>0.299134</td>\n",
       "      <td>0.579709</td>\n",
       "      <td>-0.246483</td>\n",
       "      <td>0.313265</td>\n",
       "      <td>-0.299817</td>\n",
       "    </tr>\n",
       "    <tr>\n",
       "      <th>inter_fac1</th>\n",
       "      <td>-0.494242</td>\n",
       "      <td>0.527078</td>\n",
       "      <td>0.299134</td>\n",
       "      <td>1.000000</td>\n",
       "      <td>0.684560</td>\n",
       "      <td>-0.348188</td>\n",
       "      <td>-0.018223</td>\n",
       "      <td>0.154439</td>\n",
       "    </tr>\n",
       "    <tr>\n",
       "      <th>fac1</th>\n",
       "      <td>-0.427534</td>\n",
       "      <td>0.402097</td>\n",
       "      <td>0.579709</td>\n",
       "      <td>0.684560</td>\n",
       "      <td>1.000000</td>\n",
       "      <td>-0.361570</td>\n",
       "      <td>0.048097</td>\n",
       "      <td>-0.172903</td>\n",
       "    </tr>\n",
       "    <tr>\n",
       "      <th>rank2</th>\n",
       "      <td>0.613228</td>\n",
       "      <td>-0.353543</td>\n",
       "      <td>-0.246483</td>\n",
       "      <td>-0.348188</td>\n",
       "      <td>-0.361570</td>\n",
       "      <td>1.000000</td>\n",
       "      <td>-0.008709</td>\n",
       "      <td>-0.163311</td>\n",
       "    </tr>\n",
       "    <tr>\n",
       "      <th>stu_fac_ratio2</th>\n",
       "      <td>0.215538</td>\n",
       "      <td>0.218857</td>\n",
       "      <td>0.313265</td>\n",
       "      <td>-0.018223</td>\n",
       "      <td>0.048097</td>\n",
       "      <td>-0.008709</td>\n",
       "      <td>1.000000</td>\n",
       "      <td>-0.063031</td>\n",
       "    </tr>\n",
       "    <tr>\n",
       "      <th>inter_st_ratio</th>\n",
       "      <td>-0.129857</td>\n",
       "      <td>0.289101</td>\n",
       "      <td>-0.299817</td>\n",
       "      <td>0.154439</td>\n",
       "      <td>-0.172903</td>\n",
       "      <td>-0.163311</td>\n",
       "      <td>-0.063031</td>\n",
       "      <td>1.000000</td>\n",
       "    </tr>\n",
       "  </tbody>\n",
       "</table>\n",
       "</div>"
      ],
      "text/plain": [
       "                   rank1  inter_st1  students1  inter_fac1      fac1  \\\n",
       "rank1           1.000000  -0.228870  -0.085666   -0.494242 -0.427534   \n",
       "inter_st1      -0.228870   1.000000   0.647380    0.527078  0.402097   \n",
       "students1      -0.085666   0.647380   1.000000    0.299134  0.579709   \n",
       "inter_fac1     -0.494242   0.527078   0.299134    1.000000  0.684560   \n",
       "fac1           -0.427534   0.402097   0.579709    0.684560  1.000000   \n",
       "rank2           0.613228  -0.353543  -0.246483   -0.348188 -0.361570   \n",
       "stu_fac_ratio2  0.215538   0.218857   0.313265   -0.018223  0.048097   \n",
       "inter_st_ratio -0.129857   0.289101  -0.299817    0.154439 -0.172903   \n",
       "\n",
       "                   rank2  stu_fac_ratio2  inter_st_ratio  \n",
       "rank1           0.613228        0.215538       -0.129857  \n",
       "inter_st1      -0.353543        0.218857        0.289101  \n",
       "students1      -0.246483        0.313265       -0.299817  \n",
       "inter_fac1     -0.348188       -0.018223        0.154439  \n",
       "fac1           -0.361570        0.048097       -0.172903  \n",
       "rank2           1.000000       -0.008709       -0.163311  \n",
       "stu_fac_ratio2 -0.008709        1.000000       -0.063031  \n",
       "inter_st_ratio -0.163311       -0.063031        1.000000  "
      ]
     },
     "execution_count": 97,
     "metadata": {},
     "output_type": "execute_result"
    }
   ],
   "source": [
    "# Here we can see a better correlation between the values\n",
    "df_mergedCorr.corr()"
   ]
  },
  {
   "cell_type": "code",
   "execution_count": 98,
   "metadata": {},
   "outputs": [
    {
     "data": {
      "image/png": "[encoded data removed]",
      "text/plain": [
       "<matplotlib.figure.Figure at 0x1193498d0>"
      ]
     },
     "metadata": {},
     "output_type": "display_data"
    }
   ],
   "source": [
    "# We can better see with a heatmap how the correletion is between the values \n",
    "sns.heatmap(df_mergedCorr.corr());"
   ]
  },
  {
   "cell_type": "code",
   "execution_count": 99,
   "metadata": {
    "scrolled": true
   },
   "outputs": [
    {
     "data": {
      "text/plain": [
       "0.52707807565926079"
      ]
     },
     "execution_count": 99,
     "metadata": {},
     "output_type": "execute_result"
    }
   ],
   "source": [
    "# the correlation between the internations students and the fac\n",
    "df_mergedCorr.inter_st1.corr(df_mergedCorr.inter_fac1)"
   ]
  },
  {
   "cell_type": "markdown",
   "metadata": {},
   "source": [
    "As expected there is a large correlation between internation student and international faculty member "
   ]
  },
  {
   "cell_type": "code",
   "execution_count": 100,
   "metadata": {},
   "outputs": [
    {
     "data": {
      "text/plain": [
       "-0.1298573060053656"
      ]
     },
     "execution_count": 100,
     "metadata": {},
     "output_type": "execute_result"
    }
   ],
   "source": [
    "#the correlation between the international students and the rank1\n",
    "df_mergedCorr.inter_st_ratio.corr(df_mergedCorr.rank1)"
   ]
  },
  {
   "cell_type": "markdown",
   "metadata": {},
   "source": [
    "As the graphs above suggest the correlation between international students and the first dataset rank is not so obvious"
   ]
  },
  {
   "cell_type": "code",
   "execution_count": 101,
   "metadata": {},
   "outputs": [
    {
     "data": {
      "text/plain": [
       "-0.16331117541999565"
      ]
     },
     "execution_count": 101,
     "metadata": {},
     "output_type": "execute_result"
    }
   ],
   "source": [
    "#the correlation  between the international students and the rank of the second data\n",
    "df_mergedCorr.inter_st_ratio.corr(df_mergedCorr.rank2)"
   ]
  },
  {
   "cell_type": "markdown",
   "metadata": {},
   "source": [
    "Correlation between international students and the second dataset rank yields the same result as above and also follows conclusion from the above graph"
   ]
  },
  {
   "cell_type": "markdown",
   "metadata": {},
   "source": [
    "### Task 5"
   ]
  },
  {
   "cell_type": "markdown",
   "metadata": {},
   "source": [
    "<div class=\"lev1\"><a href=\"#Table-of-Contents\"><span class=\"toc-item-num\"></span>Table of contents</a></div>"
   ]
  },
  {
   "cell_type": "code",
   "execution_count": 102,
   "metadata": {
    "collapsed": true
   },
   "outputs": [],
   "source": [
    "df_mergedRank = df_mergedCorr.copy(deep=True)"
   ]
  },
  {
   "cell_type": "code",
   "execution_count": 103,
   "metadata": {},
   "outputs": [
    {
     "data": {
      "text/plain": [
       "country1           object\n",
       "rank1               int64\n",
       "region1            object\n",
       "name               object\n",
       "inter_st1           int64\n",
       "students1           int64\n",
       "inter_fac1          int64\n",
       "fac1                int64\n",
       "rank2               int64\n",
       "stu_fac_ratio2    float64\n",
       "inter_st_ratio    float64\n",
       "dtype: object"
      ]
     },
     "execution_count": 103,
     "metadata": {},
     "output_type": "execute_result"
    }
   ],
   "source": [
    "df_mergedRank.dtypes"
   ]
  },
  {
   "cell_type": "markdown",
   "metadata": {
    "collapsed": true
   },
   "source": [
    "We reuse the data created for question 4, where we changed some of the column types to numerical (done in task 4) "
   ]
  },
  {
   "cell_type": "markdown",
   "metadata": {},
   "source": [
    "Initial Ranking, sorting on both rank1 and rank2, sorting first over rank 1 and then over rank2  "
   ]
  },
  {
   "cell_type": "code",
   "execution_count": 104,
   "metadata": {},
   "outputs": [
    {
     "data": {
      "text/html": [
       "<div>\n",
       "<style>\n",
       "    .dataframe thead tr:only-child th {\n",
       "        text-align: right;\n",
       "    }\n",
       "\n",
       "    .dataframe thead th {\n",
       "        text-align: left;\n",
       "    }\n",
       "\n",
       "    .dataframe tbody tr th {\n",
       "        vertical-align: top;\n",
       "    }\n",
       "</style>\n",
       "<table border=\"1\" class=\"dataframe\">\n",
       "  <thead>\n",
       "    <tr style=\"text-align: right;\">\n",
       "      <th></th>\n",
       "      <th>country1</th>\n",
       "      <th>rank1</th>\n",
       "      <th>region1</th>\n",
       "      <th>name</th>\n",
       "      <th>inter_st1</th>\n",
       "      <th>students1</th>\n",
       "      <th>inter_fac1</th>\n",
       "      <th>fac1</th>\n",
       "      <th>rank2</th>\n",
       "      <th>stu_fac_ratio2</th>\n",
       "      <th>inter_st_ratio</th>\n",
       "    </tr>\n",
       "  </thead>\n",
       "  <tbody>\n",
       "    <tr>\n",
       "      <th>0</th>\n",
       "      <td>United States</td>\n",
       "      <td>2</td>\n",
       "      <td>North America</td>\n",
       "      <td>Stanford University</td>\n",
       "      <td>3611</td>\n",
       "      <td>15878</td>\n",
       "      <td>2042</td>\n",
       "      <td>4285</td>\n",
       "      <td>4</td>\n",
       "      <td>7.5</td>\n",
       "      <td>0.22</td>\n",
       "    </tr>\n",
       "    <tr>\n",
       "      <th>1</th>\n",
       "      <td>United States</td>\n",
       "      <td>3</td>\n",
       "      <td>North America</td>\n",
       "      <td>Harvard University</td>\n",
       "      <td>5266</td>\n",
       "      <td>22429</td>\n",
       "      <td>1311</td>\n",
       "      <td>4350</td>\n",
       "      <td>6</td>\n",
       "      <td>8.9</td>\n",
       "      <td>0.34</td>\n",
       "    </tr>\n",
       "    <tr>\n",
       "      <th>2</th>\n",
       "      <td>United Kingdom</td>\n",
       "      <td>5</td>\n",
       "      <td>Europe</td>\n",
       "      <td>University of Cambridge</td>\n",
       "      <td>6699</td>\n",
       "      <td>18770</td>\n",
       "      <td>2278</td>\n",
       "      <td>5490</td>\n",
       "      <td>2</td>\n",
       "      <td>10.9</td>\n",
       "      <td>0.35</td>\n",
       "    </tr>\n",
       "    <tr>\n",
       "      <th>3</th>\n",
       "      <td>United Kingdom</td>\n",
       "      <td>6</td>\n",
       "      <td>Europe</td>\n",
       "      <td>University of Oxford</td>\n",
       "      <td>7353</td>\n",
       "      <td>19720</td>\n",
       "      <td>2964</td>\n",
       "      <td>6750</td>\n",
       "      <td>1</td>\n",
       "      <td>11.2</td>\n",
       "      <td>0.38</td>\n",
       "    </tr>\n",
       "    <tr>\n",
       "      <th>4</th>\n",
       "      <td>United Kingdom</td>\n",
       "      <td>8</td>\n",
       "      <td>Europe</td>\n",
       "      <td>Imperial College London</td>\n",
       "      <td>8746</td>\n",
       "      <td>16090</td>\n",
       "      <td>2071</td>\n",
       "      <td>3930</td>\n",
       "      <td>8</td>\n",
       "      <td>11.4</td>\n",
       "      <td>0.55</td>\n",
       "    </tr>\n",
       "  </tbody>\n",
       "</table>\n",
       "</div>"
      ],
      "text/plain": [
       "         country1  rank1        region1                     name  inter_st1  \\\n",
       "0   United States      2  North America      Stanford University       3611   \n",
       "1   United States      3  North America       Harvard University       5266   \n",
       "2  United Kingdom      5         Europe  University of Cambridge       6699   \n",
       "3  United Kingdom      6         Europe     University of Oxford       7353   \n",
       "4  United Kingdom      8         Europe  Imperial College London       8746   \n",
       "\n",
       "   students1  inter_fac1  fac1  rank2  stu_fac_ratio2  inter_st_ratio  \n",
       "0      15878        2042  4285      4             7.5            0.22  \n",
       "1      22429        1311  4350      6             8.9            0.34  \n",
       "2      18770        2278  5490      2            10.9            0.35  \n",
       "3      19720        2964  6750      1            11.2            0.38  \n",
       "4      16090        2071  3930      8            11.4            0.55  "
      ]
     },
     "execution_count": 104,
     "metadata": {},
     "output_type": "execute_result"
    }
   ],
   "source": [
    "df_mergedRank.sort_values(ascending=[True,True], \n",
    "                                           by=['rank1', 'rank2']).head(5)"
   ]
  },
  {
   "cell_type": "markdown",
   "metadata": {},
   "source": [
    "Therefore if we change rank 1 and rank 2, the ranking changes... A situation which is not fair, ranking 1 and 2 are worth the same, let's see how we can rank better "
   ]
  },
  {
   "cell_type": "code",
   "execution_count": 105,
   "metadata": {},
   "outputs": [
    {
     "data": {
      "text/html": [
       "<div>\n",
       "<style>\n",
       "    .dataframe thead tr:only-child th {\n",
       "        text-align: right;\n",
       "    }\n",
       "\n",
       "    .dataframe thead th {\n",
       "        text-align: left;\n",
       "    }\n",
       "\n",
       "    .dataframe tbody tr th {\n",
       "        vertical-align: top;\n",
       "    }\n",
       "</style>\n",
       "<table border=\"1\" class=\"dataframe\">\n",
       "  <thead>\n",
       "    <tr style=\"text-align: right;\">\n",
       "      <th></th>\n",
       "      <th>country1</th>\n",
       "      <th>rank1</th>\n",
       "      <th>region1</th>\n",
       "      <th>name</th>\n",
       "      <th>inter_st1</th>\n",
       "      <th>students1</th>\n",
       "      <th>inter_fac1</th>\n",
       "      <th>fac1</th>\n",
       "      <th>rank2</th>\n",
       "      <th>stu_fac_ratio2</th>\n",
       "      <th>inter_st_ratio</th>\n",
       "    </tr>\n",
       "  </thead>\n",
       "  <tbody>\n",
       "    <tr>\n",
       "      <th>3</th>\n",
       "      <td>United Kingdom</td>\n",
       "      <td>6</td>\n",
       "      <td>Europe</td>\n",
       "      <td>University of Oxford</td>\n",
       "      <td>7353</td>\n",
       "      <td>19720</td>\n",
       "      <td>2964</td>\n",
       "      <td>6750</td>\n",
       "      <td>1</td>\n",
       "      <td>11.2</td>\n",
       "      <td>0.38</td>\n",
       "    </tr>\n",
       "    <tr>\n",
       "      <th>2</th>\n",
       "      <td>United Kingdom</td>\n",
       "      <td>5</td>\n",
       "      <td>Europe</td>\n",
       "      <td>University of Cambridge</td>\n",
       "      <td>6699</td>\n",
       "      <td>18770</td>\n",
       "      <td>2278</td>\n",
       "      <td>5490</td>\n",
       "      <td>2</td>\n",
       "      <td>10.9</td>\n",
       "      <td>0.35</td>\n",
       "    </tr>\n",
       "    <tr>\n",
       "      <th>0</th>\n",
       "      <td>United States</td>\n",
       "      <td>2</td>\n",
       "      <td>North America</td>\n",
       "      <td>Stanford University</td>\n",
       "      <td>3611</td>\n",
       "      <td>15878</td>\n",
       "      <td>2042</td>\n",
       "      <td>4285</td>\n",
       "      <td>4</td>\n",
       "      <td>7.5</td>\n",
       "      <td>0.22</td>\n",
       "    </tr>\n",
       "    <tr>\n",
       "      <th>1</th>\n",
       "      <td>United States</td>\n",
       "      <td>3</td>\n",
       "      <td>North America</td>\n",
       "      <td>Harvard University</td>\n",
       "      <td>5266</td>\n",
       "      <td>22429</td>\n",
       "      <td>1311</td>\n",
       "      <td>4350</td>\n",
       "      <td>6</td>\n",
       "      <td>8.9</td>\n",
       "      <td>0.34</td>\n",
       "    </tr>\n",
       "    <tr>\n",
       "      <th>6</th>\n",
       "      <td>United States</td>\n",
       "      <td>13</td>\n",
       "      <td>North America</td>\n",
       "      <td>Princeton University</td>\n",
       "      <td>5411</td>\n",
       "      <td>21904</td>\n",
       "      <td>970</td>\n",
       "      <td>2718</td>\n",
       "      <td>7</td>\n",
       "      <td>8.3</td>\n",
       "      <td>0.24</td>\n",
       "    </tr>\n",
       "  </tbody>\n",
       "</table>\n",
       "</div>"
      ],
      "text/plain": [
       "         country1  rank1        region1                     name  inter_st1  \\\n",
       "3  United Kingdom      6         Europe     University of Oxford       7353   \n",
       "2  United Kingdom      5         Europe  University of Cambridge       6699   \n",
       "0   United States      2  North America      Stanford University       3611   \n",
       "1   United States      3  North America       Harvard University       5266   \n",
       "6   United States     13  North America     Princeton University       5411   \n",
       "\n",
       "   students1  inter_fac1  fac1  rank2  stu_fac_ratio2  inter_st_ratio  \n",
       "3      19720        2964  6750      1            11.2            0.38  \n",
       "2      18770        2278  5490      2            10.9            0.35  \n",
       "0      15878        2042  4285      4             7.5            0.22  \n",
       "1      22429        1311  4350      6             8.9            0.34  \n",
       "6      21904         970  2718      7             8.3            0.24  "
      ]
     },
     "execution_count": 105,
     "metadata": {},
     "output_type": "execute_result"
    }
   ],
   "source": [
    "df_mergedRank.sort_values(ascending=[True,True], \n",
    "                                           by=['rank2', 'rank1']).head(5)"
   ]
  },
  {
   "cell_type": "markdown",
   "metadata": {},
   "source": [
    "Let's first consider a linear type of ranking, giving equal weight to each place in the rank and weighting rank1 and rank2 equivalently"
   ]
  },
  {
   "cell_type": "code",
   "execution_count": 106,
   "metadata": {
    "collapsed": true
   },
   "outputs": [],
   "source": [
    "df_mergedRank = df_mergedRank.assign(averageRank=\\\n",
    "                ((df_mergedRank['rank1']+df_mergedRank['rank2']))/200)"
   ]
  },
  {
   "cell_type": "code",
   "execution_count": 107,
   "metadata": {
    "scrolled": false
   },
   "outputs": [
    {
     "data": {
      "text/html": [
       "<div>\n",
       "<style>\n",
       "    .dataframe thead tr:only-child th {\n",
       "        text-align: right;\n",
       "    }\n",
       "\n",
       "    .dataframe thead th {\n",
       "        text-align: left;\n",
       "    }\n",
       "\n",
       "    .dataframe tbody tr th {\n",
       "        vertical-align: top;\n",
       "    }\n",
       "</style>\n",
       "<table border=\"1\" class=\"dataframe\">\n",
       "  <thead>\n",
       "    <tr style=\"text-align: right;\">\n",
       "      <th></th>\n",
       "      <th>country1</th>\n",
       "      <th>rank1</th>\n",
       "      <th>region1</th>\n",
       "      <th>name</th>\n",
       "      <th>inter_st1</th>\n",
       "      <th>students1</th>\n",
       "      <th>inter_fac1</th>\n",
       "      <th>fac1</th>\n",
       "      <th>rank2</th>\n",
       "      <th>stu_fac_ratio2</th>\n",
       "      <th>inter_st_ratio</th>\n",
       "      <th>averageRank</th>\n",
       "    </tr>\n",
       "  </thead>\n",
       "  <tbody>\n",
       "    <tr>\n",
       "      <th>0</th>\n",
       "      <td>United States</td>\n",
       "      <td>2</td>\n",
       "      <td>North America</td>\n",
       "      <td>Stanford University</td>\n",
       "      <td>3611</td>\n",
       "      <td>15878</td>\n",
       "      <td>2042</td>\n",
       "      <td>4285</td>\n",
       "      <td>4</td>\n",
       "      <td>7.5</td>\n",
       "      <td>0.22</td>\n",
       "      <td>0.030</td>\n",
       "    </tr>\n",
       "    <tr>\n",
       "      <th>2</th>\n",
       "      <td>United Kingdom</td>\n",
       "      <td>5</td>\n",
       "      <td>Europe</td>\n",
       "      <td>University of Cambridge</td>\n",
       "      <td>6699</td>\n",
       "      <td>18770</td>\n",
       "      <td>2278</td>\n",
       "      <td>5490</td>\n",
       "      <td>2</td>\n",
       "      <td>10.9</td>\n",
       "      <td>0.35</td>\n",
       "      <td>0.035</td>\n",
       "    </tr>\n",
       "    <tr>\n",
       "      <th>3</th>\n",
       "      <td>United Kingdom</td>\n",
       "      <td>6</td>\n",
       "      <td>Europe</td>\n",
       "      <td>University of Oxford</td>\n",
       "      <td>7353</td>\n",
       "      <td>19720</td>\n",
       "      <td>2964</td>\n",
       "      <td>6750</td>\n",
       "      <td>1</td>\n",
       "      <td>11.2</td>\n",
       "      <td>0.38</td>\n",
       "      <td>0.035</td>\n",
       "    </tr>\n",
       "    <tr>\n",
       "      <th>1</th>\n",
       "      <td>United States</td>\n",
       "      <td>3</td>\n",
       "      <td>North America</td>\n",
       "      <td>Harvard University</td>\n",
       "      <td>5266</td>\n",
       "      <td>22429</td>\n",
       "      <td>1311</td>\n",
       "      <td>4350</td>\n",
       "      <td>6</td>\n",
       "      <td>8.9</td>\n",
       "      <td>0.34</td>\n",
       "      <td>0.045</td>\n",
       "    </tr>\n",
       "    <tr>\n",
       "      <th>4</th>\n",
       "      <td>United Kingdom</td>\n",
       "      <td>8</td>\n",
       "      <td>Europe</td>\n",
       "      <td>Imperial College London</td>\n",
       "      <td>8746</td>\n",
       "      <td>16090</td>\n",
       "      <td>2071</td>\n",
       "      <td>3930</td>\n",
       "      <td>8</td>\n",
       "      <td>11.4</td>\n",
       "      <td>0.55</td>\n",
       "      <td>0.080</td>\n",
       "    </tr>\n",
       "    <tr>\n",
       "      <th>5</th>\n",
       "      <td>United States</td>\n",
       "      <td>9</td>\n",
       "      <td>North America</td>\n",
       "      <td>University of Chicago</td>\n",
       "      <td>3379</td>\n",
       "      <td>13557</td>\n",
       "      <td>635</td>\n",
       "      <td>2449</td>\n",
       "      <td>9</td>\n",
       "      <td>6.2</td>\n",
       "      <td>0.38</td>\n",
       "      <td>0.090</td>\n",
       "    </tr>\n",
       "    <tr>\n",
       "      <th>6</th>\n",
       "      <td>United States</td>\n",
       "      <td>13</td>\n",
       "      <td>North America</td>\n",
       "      <td>Princeton University</td>\n",
       "      <td>5411</td>\n",
       "      <td>21904</td>\n",
       "      <td>970</td>\n",
       "      <td>2718</td>\n",
       "      <td>7</td>\n",
       "      <td>8.3</td>\n",
       "      <td>0.24</td>\n",
       "      <td>0.100</td>\n",
       "    </tr>\n",
       "    <tr>\n",
       "      <th>13</th>\n",
       "      <td>United States</td>\n",
       "      <td>16</td>\n",
       "      <td>North America</td>\n",
       "      <td>Yale University</td>\n",
       "      <td>8917</td>\n",
       "      <td>32728</td>\n",
       "      <td>3086</td>\n",
       "      <td>5106</td>\n",
       "      <td>12</td>\n",
       "      <td>4.3</td>\n",
       "      <td>0.20</td>\n",
       "      <td>0.140</td>\n",
       "    </tr>\n",
       "    <tr>\n",
       "      <th>16</th>\n",
       "      <td>United States</td>\n",
       "      <td>19</td>\n",
       "      <td>North America</td>\n",
       "      <td>University of Pennsylvania</td>\n",
       "      <td>5551</td>\n",
       "      <td>14442</td>\n",
       "      <td>927</td>\n",
       "      <td>1600</td>\n",
       "      <td>11</td>\n",
       "      <td>6.5</td>\n",
       "      <td>0.21</td>\n",
       "      <td>0.150</td>\n",
       "    </tr>\n",
       "    <tr>\n",
       "      <th>14</th>\n",
       "      <td>United States</td>\n",
       "      <td>17</td>\n",
       "      <td>North America</td>\n",
       "      <td>Johns Hopkins University</td>\n",
       "      <td>4105</td>\n",
       "      <td>16146</td>\n",
       "      <td>1061</td>\n",
       "      <td>4462</td>\n",
       "      <td>13</td>\n",
       "      <td>4.3</td>\n",
       "      <td>0.24</td>\n",
       "      <td>0.150</td>\n",
       "    </tr>\n",
       "  </tbody>\n",
       "</table>\n",
       "</div>"
      ],
      "text/plain": [
       "          country1  rank1        region1                        name  \\\n",
       "0    United States      2  North America         Stanford University   \n",
       "2   United Kingdom      5         Europe     University of Cambridge   \n",
       "3   United Kingdom      6         Europe        University of Oxford   \n",
       "1    United States      3  North America          Harvard University   \n",
       "4   United Kingdom      8         Europe     Imperial College London   \n",
       "5    United States      9  North America       University of Chicago   \n",
       "6    United States     13  North America        Princeton University   \n",
       "13   United States     16  North America             Yale University   \n",
       "16   United States     19  North America  University of Pennsylvania   \n",
       "14   United States     17  North America    Johns Hopkins University   \n",
       "\n",
       "    inter_st1  students1  inter_fac1  fac1  rank2  stu_fac_ratio2  \\\n",
       "0        3611      15878        2042  4285      4             7.5   \n",
       "2        6699      18770        2278  5490      2            10.9   \n",
       "3        7353      19720        2964  6750      1            11.2   \n",
       "1        5266      22429        1311  4350      6             8.9   \n",
       "4        8746      16090        2071  3930      8            11.4   \n",
       "5        3379      13557         635  2449      9             6.2   \n",
       "6        5411      21904         970  2718      7             8.3   \n",
       "13       8917      32728        3086  5106     12             4.3   \n",
       "16       5551      14442         927  1600     11             6.5   \n",
       "14       4105      16146        1061  4462     13             4.3   \n",
       "\n",
       "    inter_st_ratio  averageRank  \n",
       "0             0.22        0.030  \n",
       "2             0.35        0.035  \n",
       "3             0.38        0.035  \n",
       "1             0.34        0.045  \n",
       "4             0.55        0.080  \n",
       "5             0.38        0.090  \n",
       "6             0.24        0.100  \n",
       "13            0.20        0.140  \n",
       "16            0.21        0.150  \n",
       "14            0.24        0.150  "
      ]
     },
     "execution_count": 107,
     "metadata": {},
     "output_type": "execute_result"
    }
   ],
   "source": [
    "df_mergedRank.sort_values(ascending=True,by='averageRank').head(10)"
   ]
  },
  {
   "cell_type": "markdown",
   "metadata": {},
   "source": [
    "We see that we get different results again, those should be \"more fair\" as they cosider rank1 and rank2 equivalently"
   ]
  },
  {
   "cell_type": "markdown",
   "metadata": {},
   "source": [
    "Let's then consider an unlinear system of ranking, where higher results will get more weights compared to lower ranked results."
   ]
  },
  {
   "cell_type": "code",
   "execution_count": 108,
   "metadata": {
    "collapsed": true
   },
   "outputs": [],
   "source": [
    "df_mergedRank = df_mergedRank.assign(totalRankLog=\\\n",
    "    (np.log(df_mergedRank['rank1'])+np.log(df_mergedRank['rank2']))/200)"
   ]
  },
  {
   "cell_type": "code",
   "execution_count": 109,
   "metadata": {},
   "outputs": [
    {
     "data": {
      "text/html": [
       "<div>\n",
       "<style>\n",
       "    .dataframe thead tr:only-child th {\n",
       "        text-align: right;\n",
       "    }\n",
       "\n",
       "    .dataframe thead th {\n",
       "        text-align: left;\n",
       "    }\n",
       "\n",
       "    .dataframe tbody tr th {\n",
       "        vertical-align: top;\n",
       "    }\n",
       "</style>\n",
       "<table border=\"1\" class=\"dataframe\">\n",
       "  <thead>\n",
       "    <tr style=\"text-align: right;\">\n",
       "      <th></th>\n",
       "      <th>country1</th>\n",
       "      <th>rank1</th>\n",
       "      <th>region1</th>\n",
       "      <th>name</th>\n",
       "      <th>inter_st1</th>\n",
       "      <th>students1</th>\n",
       "      <th>inter_fac1</th>\n",
       "      <th>fac1</th>\n",
       "      <th>rank2</th>\n",
       "      <th>stu_fac_ratio2</th>\n",
       "      <th>inter_st_ratio</th>\n",
       "      <th>averageRank</th>\n",
       "      <th>totalRankLog</th>\n",
       "    </tr>\n",
       "  </thead>\n",
       "  <tbody>\n",
       "    <tr>\n",
       "      <th>3</th>\n",
       "      <td>United Kingdom</td>\n",
       "      <td>6</td>\n",
       "      <td>Europe</td>\n",
       "      <td>University of Oxford</td>\n",
       "      <td>7353</td>\n",
       "      <td>19720</td>\n",
       "      <td>2964</td>\n",
       "      <td>6750</td>\n",
       "      <td>1</td>\n",
       "      <td>11.2</td>\n",
       "      <td>0.38</td>\n",
       "      <td>0.035</td>\n",
       "      <td>0.008959</td>\n",
       "    </tr>\n",
       "    <tr>\n",
       "      <th>0</th>\n",
       "      <td>United States</td>\n",
       "      <td>2</td>\n",
       "      <td>North America</td>\n",
       "      <td>Stanford University</td>\n",
       "      <td>3611</td>\n",
       "      <td>15878</td>\n",
       "      <td>2042</td>\n",
       "      <td>4285</td>\n",
       "      <td>4</td>\n",
       "      <td>7.5</td>\n",
       "      <td>0.22</td>\n",
       "      <td>0.030</td>\n",
       "      <td>0.010397</td>\n",
       "    </tr>\n",
       "    <tr>\n",
       "      <th>2</th>\n",
       "      <td>United Kingdom</td>\n",
       "      <td>5</td>\n",
       "      <td>Europe</td>\n",
       "      <td>University of Cambridge</td>\n",
       "      <td>6699</td>\n",
       "      <td>18770</td>\n",
       "      <td>2278</td>\n",
       "      <td>5490</td>\n",
       "      <td>2</td>\n",
       "      <td>10.9</td>\n",
       "      <td>0.35</td>\n",
       "      <td>0.035</td>\n",
       "      <td>0.011513</td>\n",
       "    </tr>\n",
       "    <tr>\n",
       "      <th>1</th>\n",
       "      <td>United States</td>\n",
       "      <td>3</td>\n",
       "      <td>North America</td>\n",
       "      <td>Harvard University</td>\n",
       "      <td>5266</td>\n",
       "      <td>22429</td>\n",
       "      <td>1311</td>\n",
       "      <td>4350</td>\n",
       "      <td>6</td>\n",
       "      <td>8.9</td>\n",
       "      <td>0.34</td>\n",
       "      <td>0.045</td>\n",
       "      <td>0.014452</td>\n",
       "    </tr>\n",
       "    <tr>\n",
       "      <th>4</th>\n",
       "      <td>United Kingdom</td>\n",
       "      <td>8</td>\n",
       "      <td>Europe</td>\n",
       "      <td>Imperial College London</td>\n",
       "      <td>8746</td>\n",
       "      <td>16090</td>\n",
       "      <td>2071</td>\n",
       "      <td>3930</td>\n",
       "      <td>8</td>\n",
       "      <td>11.4</td>\n",
       "      <td>0.55</td>\n",
       "      <td>0.080</td>\n",
       "      <td>0.020794</td>\n",
       "    </tr>\n",
       "    <tr>\n",
       "      <th>5</th>\n",
       "      <td>United States</td>\n",
       "      <td>9</td>\n",
       "      <td>North America</td>\n",
       "      <td>University of Chicago</td>\n",
       "      <td>3379</td>\n",
       "      <td>13557</td>\n",
       "      <td>635</td>\n",
       "      <td>2449</td>\n",
       "      <td>9</td>\n",
       "      <td>6.2</td>\n",
       "      <td>0.38</td>\n",
       "      <td>0.090</td>\n",
       "      <td>0.021972</td>\n",
       "    </tr>\n",
       "    <tr>\n",
       "      <th>6</th>\n",
       "      <td>United States</td>\n",
       "      <td>13</td>\n",
       "      <td>North America</td>\n",
       "      <td>Princeton University</td>\n",
       "      <td>5411</td>\n",
       "      <td>21904</td>\n",
       "      <td>970</td>\n",
       "      <td>2718</td>\n",
       "      <td>7</td>\n",
       "      <td>8.3</td>\n",
       "      <td>0.24</td>\n",
       "      <td>0.100</td>\n",
       "      <td>0.022554</td>\n",
       "    </tr>\n",
       "    <tr>\n",
       "      <th>13</th>\n",
       "      <td>United States</td>\n",
       "      <td>16</td>\n",
       "      <td>North America</td>\n",
       "      <td>Yale University</td>\n",
       "      <td>8917</td>\n",
       "      <td>32728</td>\n",
       "      <td>3086</td>\n",
       "      <td>5106</td>\n",
       "      <td>12</td>\n",
       "      <td>4.3</td>\n",
       "      <td>0.20</td>\n",
       "      <td>0.140</td>\n",
       "      <td>0.026287</td>\n",
       "    </tr>\n",
       "    <tr>\n",
       "      <th>16</th>\n",
       "      <td>United States</td>\n",
       "      <td>19</td>\n",
       "      <td>North America</td>\n",
       "      <td>University of Pennsylvania</td>\n",
       "      <td>5551</td>\n",
       "      <td>14442</td>\n",
       "      <td>927</td>\n",
       "      <td>1600</td>\n",
       "      <td>11</td>\n",
       "      <td>6.5</td>\n",
       "      <td>0.21</td>\n",
       "      <td>0.150</td>\n",
       "      <td>0.026712</td>\n",
       "    </tr>\n",
       "    <tr>\n",
       "      <th>14</th>\n",
       "      <td>United States</td>\n",
       "      <td>17</td>\n",
       "      <td>North America</td>\n",
       "      <td>Johns Hopkins University</td>\n",
       "      <td>4105</td>\n",
       "      <td>16146</td>\n",
       "      <td>1061</td>\n",
       "      <td>4462</td>\n",
       "      <td>13</td>\n",
       "      <td>4.3</td>\n",
       "      <td>0.24</td>\n",
       "      <td>0.150</td>\n",
       "      <td>0.026991</td>\n",
       "    </tr>\n",
       "  </tbody>\n",
       "</table>\n",
       "</div>"
      ],
      "text/plain": [
       "          country1  rank1        region1                        name  \\\n",
       "3   United Kingdom      6         Europe        University of Oxford   \n",
       "0    United States      2  North America         Stanford University   \n",
       "2   United Kingdom      5         Europe     University of Cambridge   \n",
       "1    United States      3  North America          Harvard University   \n",
       "4   United Kingdom      8         Europe     Imperial College London   \n",
       "5    United States      9  North America       University of Chicago   \n",
       "6    United States     13  North America        Princeton University   \n",
       "13   United States     16  North America             Yale University   \n",
       "16   United States     19  North America  University of Pennsylvania   \n",
       "14   United States     17  North America    Johns Hopkins University   \n",
       "\n",
       "    inter_st1  students1  inter_fac1  fac1  rank2  stu_fac_ratio2  \\\n",
       "3        7353      19720        2964  6750      1            11.2   \n",
       "0        3611      15878        2042  4285      4             7.5   \n",
       "2        6699      18770        2278  5490      2            10.9   \n",
       "1        5266      22429        1311  4350      6             8.9   \n",
       "4        8746      16090        2071  3930      8            11.4   \n",
       "5        3379      13557         635  2449      9             6.2   \n",
       "6        5411      21904         970  2718      7             8.3   \n",
       "13       8917      32728        3086  5106     12             4.3   \n",
       "16       5551      14442         927  1600     11             6.5   \n",
       "14       4105      16146        1061  4462     13             4.3   \n",
       "\n",
       "    inter_st_ratio  averageRank  totalRankLog  \n",
       "3             0.38        0.035      0.008959  \n",
       "0             0.22        0.030      0.010397  \n",
       "2             0.35        0.035      0.011513  \n",
       "1             0.34        0.045      0.014452  \n",
       "4             0.55        0.080      0.020794  \n",
       "5             0.38        0.090      0.021972  \n",
       "6             0.24        0.100      0.022554  \n",
       "13            0.20        0.140      0.026287  \n",
       "16            0.21        0.150      0.026712  \n",
       "14            0.24        0.150      0.026991  "
      ]
     },
     "execution_count": 109,
     "metadata": {},
     "output_type": "execute_result"
    }
   ],
   "source": [
    "df_mergedRank.sort_values(ascending=True,by='totalRankLog').head(10)"
   ]
  },
  {
   "cell_type": "markdown",
   "metadata": {},
   "source": [
    "We get new results with this method as well. "
   ]
  },
  {
   "cell_type": "markdown",
   "metadata": {},
   "source": [
    "Choice of \"right\" ranking is hard but what is certain is that the first way of ranking, which took one rank and then the other one, was incorrect. \n",
    "The two methods listed above are valid ways of ranking as both take equal part of each rank"
   ]
  }
 ],
 "metadata": {
  "kernelspec": {
   "display_name": "Python 3",
   "language": "python",
   "name": "python3"
  },
  "language_info": {
   "codemirror_mode": {
    "name": "ipython",
    "version": 3
   },
   "file_extension": ".py",
   "mimetype": "text/x-python",
   "name": "python",
   "nbconvert_exporter": "python",
   "pygments_lexer": "ipython3",
   "version": "3.6.3"
  }
 },
 "nbformat": 4,
 "nbformat_minor": 2
}
