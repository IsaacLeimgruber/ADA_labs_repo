{
 "cells": [
  {
   "cell_type": "markdown",
   "metadata": {
    "collapsed": true
   },
   "source": [
    "# 02 - Data from the Web"
   ]
  },
  {
   "cell_type": "markdown",
   "metadata": {},
   "source": [
    "# Table of Contents\n",
    " <p><div class=\"lev1\"><a href=\"#Task-1.0-Retrieve-the-Data\"><span class=\"toc-item-num\">Task 1.0&nbsp;&nbsp;</span>Retrieve the Data</a></div>\n",
    " <div class=\"lev2\"><a href=\"#Task-1.0.1-Clear-rank-and-drop-data-not-needed\"><span class=\"toc-item-num\">1.0.1 &nbsp;&nbsp;</span>Clear rank and drop data not needed</a></div>\n",
    " <div class=\"lev2\"><a href=\"#Task-1.0.2-Test-soup-for-missing-data\"><span class=\"toc-item-num\">1.0.2 &nbsp;&nbsp;</span>Test soup for missing data</a></div>\n",
    " <div class=\"lev2\"><a href=\"#Task-1.0.3-Prepare-url-for-missing-data\"><span class=\"toc-item-num\">1.0.3 &nbsp;&nbsp;</span>Prepare url for missing data</a></div>\n",
    " <div class=\"lev2\"><a href=\"#Task-1.0.4-Get-missing-data-function\"><span class=\"toc-item-num\">1.0.4 &nbsp;&nbsp;</span>Get missing data function</a></div>\n",
    " <div class=\"lev2\"><a href=\"#Task-1.0.5-Prepare-callback-to-import-all-data\"><span class=\"toc-item-num\">1.0.5 &nbsp;&nbsp;</span>Prepare callback to import all data</a></div>\n",
    " <div class=\"lev2\"><a href=\"#Task-1.0.6-Import-Data\"><span class=\"toc-item-num\">1.0.6 &nbsp;&nbsp;</span>Import Data</a></div>\n",
    " <div class=\"lev2\"><a href=\"#Task-1.0.7-Kill-data-if-needed\"><span class=\"toc-item-num\">1.0.7 &nbsp;&nbsp;</span>Kill data if needed</a></div>\n",
    " <div class=\"lev2\"><a href=\"#Task-1.0.8-Store-data-and-continue-compilation\"><span class=\"toc-item-num\">1.0.8 &nbsp;&nbsp;</span>Store data and continue compilation</a></div>\n",
    " \n",
    " <div class=\"lev1\"><a href=\"#Task-1.1\"><span class=\"toc-item-num\">Task 1.1&nbsp;&nbsp;</span> a) b) c) d)</a></div>\n",
    " </p>\n",
    " \n",
    " <p>\n",
    " <div class=\"lev1\"><a href=\"#Task-2.0-Retrieve-the-Data\"><span class=\"toc-item-num\">Task 2.0&nbsp;&nbsp;</span>Retrieve the Data</a></div>\n",
    " <div class=\"lev2\"><a href=\"#Task-2.0.1-Clear-rank-and-drop-data-not-needed\"><span class=\"toc-item-num\">2.0.1 &nbsp;&nbsp;</span>Clear rank and drop data not needed</a></div>\n",
    " <div class=\"lev2\"><a href=\"#Task-2.0.2-Prepare-url-and-test-soup-to-have-missing-data\"><span class=\"toc-item-num\">2.0.2 &nbsp;&nbsp;</span>Prepare url and test soup to have missing data</a></div>\n",
    " <div class=\"lev2\"><a href=\"#Task-2.0.3-Prepare-to-retrieve-data-and-callback-funciton\"><span class=\"toc-item-num\">2.0.3 &nbsp;&nbsp;</span>Prepare to retrieve data and callback funciton</a></div>\n",
    " <div class=\"lev2\"><a href=\"#Task-2.0.4-Import-Data\"><span class=\"toc-item-num\">2.0.4 &nbsp;&nbsp;</span>Import Data</a></div>\n",
    " <div class=\"lev2\"><a href=\"#Task-2.0.5-Kill-data-second-file\"><span class=\"toc-item-num\">2.0.5 &nbsp;&nbsp;</span>Kill data second file</a></div>\n",
    " <div class=\"lev2\"><a href=\"#Task-2.0.6-Store-data-and-continue-compilation\"><span class=\"toc-item-num\">2.0.6 &nbsp;&nbsp;</span>Store data and continue compilation</a></div>\n",
    " \n",
    " <div class=\"lev1\"><a href=\"#Task-2.1\"><span class=\"toc-item-num\">Task 2.1&nbsp;&nbsp;</span> a) b) c) d)</a></div>\n",
    " \n",
    " <div class=\"lev1\"><a href=\"#Task-2.1.d-Region\"><span class=\"toc-item-num\">Task 2.1.d&nbsp;&nbsp;</span> Region</a></div>\n",
    " \n",
    " </p>\n",
    " \n",
    " <p>\n",
    " <div class=\"lev1\"><a href=\"#Task-3.0-Prepare-for-merge\"><span class=\"toc-item-num\">Task 3.0&nbsp;&nbsp;</span>Prepare for merge</a></div>\n",
    " <div class=\"lev1\"><a href=\"#Task-3.1-Merge\"><span class=\"toc-item-num\">Task 3.1&nbsp;&nbsp;</span>Merge</a></div>\n",
    " \n",
    " </p>\n",
    " \n",
    "  <p>\n",
    " <div class=\"lev1\"><a href=\"#Task-4\"><span class=\"toc-item-num\">Task 4&nbsp;&nbsp;</span></a></div>\n",
    " \n",
    " </p>\n",
    " \n",
    "  <p>\n",
    " <div class=\"lev1\"><a href=\"#Task-5\"><span class=\"toc-item-num\">Task 5&nbsp;&nbsp;</span></a></div>\n",
    " \n",
    " </p>"
   ]
  },
  {
   "cell_type": "code",
   "execution_count": 1,
   "metadata": {
    "collapsed": true
   },
   "outputs": [],
   "source": [
    "# Import libraries\n",
    "import requests\n",
    "import numpy as np\n",
    "import pandas as pd\n",
    "from bs4 import BeautifulSoup"
   ]
  },
  {
   "cell_type": "markdown",
   "metadata": {},
   "source": [
    "You will need requests-futures which you can get by   \n",
    "$ ``pip install requests-futures``"
   ]
  },
  {
   "cell_type": "markdown",
   "metadata": {},
   "source": [
    "### Task 1.0 Retrieve the Data\n",
    "\n",
    "Obtain the 200 top-ranking universities : name, rank, country and region, number of faculty members (international and total) and number of students (international and total)"
   ]
  },
  {
   "cell_type": "markdown",
   "metadata": {},
   "source": [
    " <div class=\"lev1\"><a href=\"#Table-of-Contents\"><span class=\"toc-item-num\"></span>Table of contents</a></div>"
   ]
  },
  {
   "cell_type": "code",
   "execution_count": 2,
   "metadata": {
    "collapsed": true,
    "scrolled": false
   },
   "outputs": [],
   "source": [
    "# Do the request\n",
    "request_url = 'https://www.topuniversities.com/sites/default/files/qs-rankings-data/357051.txt?_=1507975779496'\n",
    "r = requests.get(request_url)"
   ]
  },
  {
   "cell_type": "code",
   "execution_count": 3,
   "metadata": {
    "scrolled": true
   },
   "outputs": [
    {
     "data": {
      "text/plain": [
       "{'cc': 'US',\n",
       " 'core_id': '410',\n",
       " 'country': 'United States',\n",
       " 'guide': '<a href=\"/where-to-study/north-america/united-states/guide\" class=\"guide-link\" target=\"_blank\">United States</a>',\n",
       " 'logo': '<img src=\"https://www.topuniversities.com/sites/default/files/massachusetts-institute-of-technology-mit_410_small_0.jpg\" alt=\"Massachusetts Institute of Technology (MIT)  Logo\">',\n",
       " 'nid': '294850',\n",
       " 'rank_display': '1',\n",
       " 'region': 'North America',\n",
       " 'score': '100',\n",
       " 'stars': '6',\n",
       " 'title': 'Massachusetts Institute of Technology (MIT)',\n",
       " 'url': '/universities/massachusetts-institute-technology-mit'}"
      ]
     },
     "execution_count": 3,
     "metadata": {},
     "output_type": "execute_result"
    }
   ],
   "source": [
    "univ_vals = r.json()['data']\n",
    "univ_vals[0]"
   ]
  },
  {
   "cell_type": "code",
   "execution_count": 4,
   "metadata": {
    "scrolled": false
   },
   "outputs": [
    {
     "data": {
      "text/html": [
       "<div>\n",
       "<style>\n",
       "    .dataframe thead tr:only-child th {\n",
       "        text-align: right;\n",
       "    }\n",
       "\n",
       "    .dataframe thead th {\n",
       "        text-align: left;\n",
       "    }\n",
       "\n",
       "    .dataframe tbody tr th {\n",
       "        vertical-align: top;\n",
       "    }\n",
       "</style>\n",
       "<table border=\"1\" class=\"dataframe\">\n",
       "  <thead>\n",
       "    <tr style=\"text-align: right;\">\n",
       "      <th></th>\n",
       "      <th>cc</th>\n",
       "      <th>core_id</th>\n",
       "      <th>country</th>\n",
       "      <th>guide</th>\n",
       "      <th>logo</th>\n",
       "      <th>nid</th>\n",
       "      <th>rank_display</th>\n",
       "      <th>region</th>\n",
       "      <th>score</th>\n",
       "      <th>stars</th>\n",
       "      <th>title</th>\n",
       "      <th>url</th>\n",
       "    </tr>\n",
       "  </thead>\n",
       "  <tbody>\n",
       "    <tr>\n",
       "      <th>0</th>\n",
       "      <td>US</td>\n",
       "      <td>410</td>\n",
       "      <td>United States</td>\n",
       "      <td>&lt;a href=\"/where-to-study/north-america/united-...</td>\n",
       "      <td>&lt;img src=\"https://www.topuniversities.com/site...</td>\n",
       "      <td>294850</td>\n",
       "      <td>1</td>\n",
       "      <td>North America</td>\n",
       "      <td>100</td>\n",
       "      <td>6</td>\n",
       "      <td>Massachusetts Institute of Technology (MIT)</td>\n",
       "      <td>/universities/massachusetts-institute-technolo...</td>\n",
       "    </tr>\n",
       "    <tr>\n",
       "      <th>1</th>\n",
       "      <td>US</td>\n",
       "      <td>573</td>\n",
       "      <td>United States</td>\n",
       "      <td>&lt;a href=\"/where-to-study/north-america/united-...</td>\n",
       "      <td>&lt;img src=\"https://www.topuniversities.com/site...</td>\n",
       "      <td>297282</td>\n",
       "      <td>2</td>\n",
       "      <td>North America</td>\n",
       "      <td>98.7</td>\n",
       "      <td>5</td>\n",
       "      <td>Stanford University</td>\n",
       "      <td>/universities/stanford-university</td>\n",
       "    </tr>\n",
       "    <tr>\n",
       "      <th>2</th>\n",
       "      <td>US</td>\n",
       "      <td>253</td>\n",
       "      <td>United States</td>\n",
       "      <td>&lt;a href=\"/where-to-study/north-america/united-...</td>\n",
       "      <td>&lt;img src=\"https://www.topuniversities.com/site...</td>\n",
       "      <td>294270</td>\n",
       "      <td>3</td>\n",
       "      <td>North America</td>\n",
       "      <td>98.4</td>\n",
       "      <td>5</td>\n",
       "      <td>Harvard University</td>\n",
       "      <td>/universities/harvard-university</td>\n",
       "    </tr>\n",
       "    <tr>\n",
       "      <th>3</th>\n",
       "      <td>US</td>\n",
       "      <td>94</td>\n",
       "      <td>United States</td>\n",
       "      <td>&lt;a href=\"/where-to-study/north-america/united-...</td>\n",
       "      <td>&lt;img src=\"https://www.topuniversities.com/site...</td>\n",
       "      <td>294562</td>\n",
       "      <td>4</td>\n",
       "      <td>North America</td>\n",
       "      <td>97.7</td>\n",
       "      <td>5</td>\n",
       "      <td>California Institute of Technology (Caltech)</td>\n",
       "      <td>/universities/california-institute-technology-...</td>\n",
       "    </tr>\n",
       "    <tr>\n",
       "      <th>4</th>\n",
       "      <td>GB</td>\n",
       "      <td>95</td>\n",
       "      <td>United Kingdom</td>\n",
       "      <td>&lt;a href=\"/where-to-study/europe/united-kingdom...</td>\n",
       "      <td>&lt;img src=\"https://www.topuniversities.com/site...</td>\n",
       "      <td>294561</td>\n",
       "      <td>5</td>\n",
       "      <td>Europe</td>\n",
       "      <td>95.6</td>\n",
       "      <td>5</td>\n",
       "      <td>University of Cambridge</td>\n",
       "      <td>/universities/university-cambridge</td>\n",
       "    </tr>\n",
       "  </tbody>\n",
       "</table>\n",
       "</div>"
      ],
      "text/plain": [
       "   cc core_id         country  \\\n",
       "0  US     410   United States   \n",
       "1  US     573   United States   \n",
       "2  US     253   United States   \n",
       "3  US      94   United States   \n",
       "4  GB      95  United Kingdom   \n",
       "\n",
       "                                               guide  \\\n",
       "0  <a href=\"/where-to-study/north-america/united-...   \n",
       "1  <a href=\"/where-to-study/north-america/united-...   \n",
       "2  <a href=\"/where-to-study/north-america/united-...   \n",
       "3  <a href=\"/where-to-study/north-america/united-...   \n",
       "4  <a href=\"/where-to-study/europe/united-kingdom...   \n",
       "\n",
       "                                                logo     nid rank_display  \\\n",
       "0  <img src=\"https://www.topuniversities.com/site...  294850            1   \n",
       "1  <img src=\"https://www.topuniversities.com/site...  297282            2   \n",
       "2  <img src=\"https://www.topuniversities.com/site...  294270            3   \n",
       "3  <img src=\"https://www.topuniversities.com/site...  294562            4   \n",
       "4  <img src=\"https://www.topuniversities.com/site...  294561            5   \n",
       "\n",
       "          region score stars                                         title  \\\n",
       "0  North America   100     6   Massachusetts Institute of Technology (MIT)   \n",
       "1  North America  98.7     5                           Stanford University   \n",
       "2  North America  98.4     5                            Harvard University   \n",
       "3  North America  97.7     5  California Institute of Technology (Caltech)   \n",
       "4         Europe  95.6     5                       University of Cambridge   \n",
       "\n",
       "                                                 url  \n",
       "0  /universities/massachusetts-institute-technolo...  \n",
       "1                  /universities/stanford-university  \n",
       "2                   /universities/harvard-university  \n",
       "3  /universities/california-institute-technology-...  \n",
       "4                 /universities/university-cambridge  "
      ]
     },
     "execution_count": 4,
     "metadata": {},
     "output_type": "execute_result"
    }
   ],
   "source": [
    "univ_df = pd.DataFrame(univ_vals)\n",
    "univ_df.head()"
   ]
  },
  {
   "cell_type": "markdown",
   "metadata": {},
   "source": [
    "keep only : \n",
    "1. name, rank, country and region\n",
    "2. number of faculty members (international and total) and number of students (international and total)\n",
    "\n",
    "second part must be retrieved from different request"
   ]
  },
  {
   "cell_type": "markdown",
   "metadata": {},
   "source": [
    "### Task 1.0.1 Clear rank and drop data not needed"
   ]
  },
  {
   "cell_type": "markdown",
   "metadata": {},
   "source": [
    "<div class=\"lev1\"><a href=\"#Table-of-Contents\"><span class=\"toc-item-num\"></span>Table of contents</a></div>"
   ]
  },
  {
   "cell_type": "markdown",
   "metadata": {},
   "source": [
    "At first I cleaned 'rank_display'. After that I found out I could just assigne the order as rank. This gives a better result since I don't have to clean 'rank_display' neither to bother with interval ranks"
   ]
  },
  {
   "cell_type": "code",
   "execution_count": 5,
   "metadata": {
    "collapsed": true
   },
   "outputs": [],
   "source": [
    "#extracts the int value from a rank formatted either as =rank, rank or \n",
    "#rank_min-rank_max (last case will be replaced by rank_min)\n",
    "def clean_rank(r):\n",
    "    if(r[0] == '='):\n",
    "        return int(r[1:]) \n",
    "    elif len(r) > 3 and r[3] == '-':\n",
    "            return int(r[:3])\n",
    "    else:\n",
    "        return int(r)"
   ]
  },
  {
   "cell_type": "code",
   "execution_count": 6,
   "metadata": {},
   "outputs": [
    {
     "data": {
      "text/html": [
       "<div>\n",
       "<style>\n",
       "    .dataframe thead tr:only-child th {\n",
       "        text-align: right;\n",
       "    }\n",
       "\n",
       "    .dataframe thead th {\n",
       "        text-align: left;\n",
       "    }\n",
       "\n",
       "    .dataframe tbody tr th {\n",
       "        vertical-align: top;\n",
       "    }\n",
       "</style>\n",
       "<table border=\"1\" class=\"dataframe\">\n",
       "  <thead>\n",
       "    <tr style=\"text-align: right;\">\n",
       "      <th></th>\n",
       "      <th>country</th>\n",
       "      <th>rank_display</th>\n",
       "      <th>region</th>\n",
       "      <th>title</th>\n",
       "    </tr>\n",
       "  </thead>\n",
       "  <tbody>\n",
       "    <tr>\n",
       "      <th>0</th>\n",
       "      <td>United States</td>\n",
       "      <td>1</td>\n",
       "      <td>North America</td>\n",
       "      <td>Massachusetts Institute of Technology (MIT)</td>\n",
       "    </tr>\n",
       "    <tr>\n",
       "      <th>1</th>\n",
       "      <td>United States</td>\n",
       "      <td>2</td>\n",
       "      <td>North America</td>\n",
       "      <td>Stanford University</td>\n",
       "    </tr>\n",
       "    <tr>\n",
       "      <th>2</th>\n",
       "      <td>United States</td>\n",
       "      <td>3</td>\n",
       "      <td>North America</td>\n",
       "      <td>Harvard University</td>\n",
       "    </tr>\n",
       "    <tr>\n",
       "      <th>3</th>\n",
       "      <td>United States</td>\n",
       "      <td>4</td>\n",
       "      <td>North America</td>\n",
       "      <td>California Institute of Technology (Caltech)</td>\n",
       "    </tr>\n",
       "    <tr>\n",
       "      <th>4</th>\n",
       "      <td>United Kingdom</td>\n",
       "      <td>5</td>\n",
       "      <td>Europe</td>\n",
       "      <td>University of Cambridge</td>\n",
       "    </tr>\n",
       "  </tbody>\n",
       "</table>\n",
       "</div>"
      ],
      "text/plain": [
       "          country  rank_display         region  \\\n",
       "0   United States             1  North America   \n",
       "1   United States             2  North America   \n",
       "2   United States             3  North America   \n",
       "3   United States             4  North America   \n",
       "4  United Kingdom             5         Europe   \n",
       "\n",
       "                                          title  \n",
       "0   Massachusetts Institute of Technology (MIT)  \n",
       "1                           Stanford University  \n",
       "2                            Harvard University  \n",
       "3  California Institute of Technology (Caltech)  \n",
       "4                       University of Cambridge  "
      ]
     },
     "execution_count": 6,
     "metadata": {},
     "output_type": "execute_result"
    }
   ],
   "source": [
    "#drops useless columns and cleans ranks\n",
    "univ_dr_df = univ_df.drop('guide', 1).drop('logo', 1).drop('stars', 1).drop('url', 1) \\\n",
    ".drop('score', 1).drop('cc', 1).drop('core_id', 1).drop('nid', 1)\n",
    "univ_dr_df['rank_display'] = univ_dr_df['rank_display'].map(clean_rank)\n",
    "univ_dr_df.head()"
   ]
  },
  {
   "cell_type": "code",
   "execution_count": 7,
   "metadata": {},
   "outputs": [
    {
     "data": {
      "text/html": [
       "<div>\n",
       "<style>\n",
       "    .dataframe thead tr:only-child th {\n",
       "        text-align: right;\n",
       "    }\n",
       "\n",
       "    .dataframe thead th {\n",
       "        text-align: left;\n",
       "    }\n",
       "\n",
       "    .dataframe tbody tr th {\n",
       "        vertical-align: top;\n",
       "    }\n",
       "</style>\n",
       "<table border=\"1\" class=\"dataframe\">\n",
       "  <thead>\n",
       "    <tr style=\"text-align: right;\">\n",
       "      <th></th>\n",
       "      <th>country</th>\n",
       "      <th>rank_display</th>\n",
       "      <th>region</th>\n",
       "      <th>title</th>\n",
       "    </tr>\n",
       "  </thead>\n",
       "  <tbody>\n",
       "    <tr>\n",
       "      <th>0</th>\n",
       "      <td>United States</td>\n",
       "      <td>1</td>\n",
       "      <td>North America</td>\n",
       "      <td>Massachusetts Institute of Technology (MIT)</td>\n",
       "    </tr>\n",
       "    <tr>\n",
       "      <th>1</th>\n",
       "      <td>United States</td>\n",
       "      <td>2</td>\n",
       "      <td>North America</td>\n",
       "      <td>Stanford University</td>\n",
       "    </tr>\n",
       "    <tr>\n",
       "      <th>2</th>\n",
       "      <td>United States</td>\n",
       "      <td>3</td>\n",
       "      <td>North America</td>\n",
       "      <td>Harvard University</td>\n",
       "    </tr>\n",
       "    <tr>\n",
       "      <th>3</th>\n",
       "      <td>United States</td>\n",
       "      <td>4</td>\n",
       "      <td>North America</td>\n",
       "      <td>California Institute of Technology (Caltech)</td>\n",
       "    </tr>\n",
       "    <tr>\n",
       "      <th>4</th>\n",
       "      <td>United Kingdom</td>\n",
       "      <td>5</td>\n",
       "      <td>Europe</td>\n",
       "      <td>University of Cambridge</td>\n",
       "    </tr>\n",
       "  </tbody>\n",
       "</table>\n",
       "</div>"
      ],
      "text/plain": [
       "          country  rank_display         region  \\\n",
       "0   United States             1  North America   \n",
       "1   United States             2  North America   \n",
       "2   United States             3  North America   \n",
       "3   United States             4  North America   \n",
       "4  United Kingdom             5         Europe   \n",
       "\n",
       "                                          title  \n",
       "0   Massachusetts Institute of Technology (MIT)  \n",
       "1                           Stanford University  \n",
       "2                            Harvard University  \n",
       "3  California Institute of Technology (Caltech)  \n",
       "4                       University of Cambridge  "
      ]
     },
     "execution_count": 7,
     "metadata": {},
     "output_type": "execute_result"
    }
   ],
   "source": [
    "#replace rank by index+1 in case this is an invalid way to do, just ignore this cell\n",
    "univ_dr_df[['rank_display']] = univ_dr_df.index + 1\n",
    "univ_dr_df.head()"
   ]
  },
  {
   "cell_type": "markdown",
   "metadata": {},
   "source": [
    "### Task 1.0.2 Test soup for missing data"
   ]
  },
  {
   "cell_type": "markdown",
   "metadata": {},
   "source": [
    "<div class=\"lev1\"><a href=\"#Table-of-Contents\"><span class=\"toc-item-num\"></span>Table of contents</a></div>"
   ]
  },
  {
   "cell_type": "code",
   "execution_count": 8,
   "metadata": {},
   "outputs": [
    {
     "data": {
      "text/plain": [
       "'<!DOCTYPE html>\\n<html dir=\"ltr\" version=\"XHTML+RDFa 1.0\" xml:lang=\"en\" xmlns=\"http://www.w3.org/1999/xhtml\" xmlns:article=\"http://ogp.me/ns/article#\" xmlns:book=\"http://ogp.me/ns/book#\" xmlns:content=\"http://purl.org/rss/1.0/modules/content/\" xmlns:dc=\"http://purl.org/dc/terms/\" xmlns:foaf=\"http://xmlns.com/foaf/0.1/\" xmlns:og=\"http://ogp.me/ns#\" xmlns:product=\"http://ogp.me/ns/product#\" xmlns:profile=\"http://ogp.me/ns/profile#\" xmlns:rdfs=\"http://www.w3.org/2000/01/rdf-schema#\" xmlns:schema=\"http://schema.org/\" xmlns:sioc=\"http://rdfs.org/sioc/ns#\" xmlns:sioct=\"http://rdfs.org/sioc/types#\" xm'"
      ]
     },
     "execution_count": 8,
     "metadata": {},
     "output_type": "execute_result"
    }
   ],
   "source": [
    "#Retrieve the soup for the caltech description page\n",
    "url_caltech = 'https://www.topuniversities.com/universities/california-institute-technology-caltech#wurs'\n",
    "r_caltech = requests.get(url_caltech)\n",
    "soup_caltech = BeautifulSoup(r_caltech.text, 'html.parser')\n",
    "soup_caltech.prettify()[0:600]"
   ]
  },
  {
   "cell_type": "markdown",
   "metadata": {},
   "source": [
    "From the soup, with a quick ctrl+f on the number displayed on the corresponding page, I was able to identify the elements which contained the value I was interested in:\n",
    "1. Number of international students ``<div class=\"int-students-main wrapper col-md-4\"> \\ <div class=\"number\">``\n",
    "    \n",
    "2. Number of students ``<div class=\"students-main wrapper col-md-4\"> \\ <div class=\"number\">``\n",
    "\n",
    "3. Number of faculty staff in total ``<div class=\"faculty-main wrapper col-md-4\"> \\ <div class=\"number\">``\n",
    "\n",
    "4. Number of faculty staff international ``<div class=\"inter faculty\"> \\ <div class=\"number\">``"
   ]
  },
  {
   "cell_type": "code",
   "execution_count": 9,
   "metadata": {},
   "outputs": [
    {
     "data": {
      "text/plain": [
       "'647 '"
      ]
     },
     "execution_count": 9,
     "metadata": {},
     "output_type": "execute_result"
    }
   ],
   "source": [
    "#extracts the number of international students\n",
    "caltech_inter_st = soup_caltech.find('div', class_='int-students-main wrapper col-md-4').find('div', class_='number').text\n",
    "caltech_inter_st[1:]"
   ]
  },
  {
   "cell_type": "code",
   "execution_count": 10,
   "metadata": {},
   "outputs": [
    {
     "data": {
      "text/plain": [
       "'2,255 '"
      ]
     },
     "execution_count": 10,
     "metadata": {},
     "output_type": "execute_result"
    }
   ],
   "source": [
    "#extracts the number of students\n",
    "caltech_st = soup_caltech.find('div', class_ = 'students-main wrapper col-md-4').find('div', class_='number').text\n",
    "caltech_st[1:]"
   ]
  },
  {
   "cell_type": "markdown",
   "metadata": {},
   "source": [
    "Now we can test with MIT to see whether the parsing works the same (which is probably the case). If it works, then we will iterate over the links in the dataframe to parse the values of interest for each university"
   ]
  },
  {
   "cell_type": "code",
   "execution_count": 11,
   "metadata": {},
   "outputs": [
    {
     "data": {
      "text/plain": [
       "'3,717 '"
      ]
     },
     "execution_count": 11,
     "metadata": {},
     "output_type": "execute_result"
    }
   ],
   "source": [
    "#checks if the extraction canvas works for another university\n",
    "url_mit = 'https://www.topuniversities.com/universities/massachusetts-institute-technology-mit#wurs'\n",
    "r_mit = requests.get(url_mit)\n",
    "soup_mit = BeautifulSoup(r_mit.text, 'html.parser')\n",
    "soup_mit.find('div', class_='int-students-main wrapper col-md-4').find('div', class_='number').text[1:]\n"
   ]
  },
  {
   "cell_type": "code",
   "execution_count": 12,
   "metadata": {
    "collapsed": true
   },
   "outputs": [],
   "source": [
    "#tries to retrieve the value contained in the child <block_p class = 'class_p'>, hence contained in <block_c class='class_c'\n",
    "#returns NaN if one of both block is not found\n",
    "def retrieve(soup, block_p, class_p, block_c, class_c):\n",
    "    parent = soup.find(block_p, class_p)\n",
    "    if parent is None:\n",
    "        return 'failed'\n",
    "    else:\n",
    "        child = parent.find(block_c, class_c)\n",
    "        if child is None:\n",
    "            return 'failed'\n",
    "        else:\n",
    "            return int(child.text[1:].replace(',',''))\n",
    "    "
   ]
  },
  {
   "cell_type": "code",
   "execution_count": 13,
   "metadata": {},
   "outputs": [
    {
     "data": {
      "text/plain": [
       "3717"
      ]
     },
     "execution_count": 13,
     "metadata": {},
     "output_type": "execute_result"
    }
   ],
   "source": [
    "#test function for valid arguments\n",
    "retrieve(soup_mit, 'div', 'int-students-main wrapper col-md-4', 'div', 'number')"
   ]
  },
  {
   "cell_type": "code",
   "execution_count": 14,
   "metadata": {},
   "outputs": [
    {
     "data": {
      "text/plain": [
       "'failed'"
      ]
     },
     "execution_count": 14,
     "metadata": {},
     "output_type": "execute_result"
    }
   ],
   "source": [
    "#test function for invalid argument class_p\n",
    "retrieve(soup_mit, 'div', 'int-st-main wrapper col-md-4', 'div', 'number')"
   ]
  },
  {
   "cell_type": "code",
   "execution_count": 15,
   "metadata": {},
   "outputs": [
    {
     "data": {
      "text/plain": [
       "'failed'"
      ]
     },
     "execution_count": 15,
     "metadata": {},
     "output_type": "execute_result"
    }
   ],
   "source": [
    "#test function for invalid argument class_c\n",
    "retrieve(soup_mit, 'div', 'int-students-main wrapper col-md-4', 'div', 'nber')"
   ]
  },
  {
   "cell_type": "code",
   "execution_count": 16,
   "metadata": {
    "collapsed": true
   },
   "outputs": [],
   "source": [
    "#simplify the call for our usage\n",
    "def retrieve_div_number(soup, class_p):\n",
    "    return retrieve(soup, 'div', class_p, 'div', 'number')"
   ]
  },
  {
   "cell_type": "code",
   "execution_count": 17,
   "metadata": {},
   "outputs": [
    {
     "data": {
      "text/plain": [
       "3717"
      ]
     },
     "execution_count": 17,
     "metadata": {},
     "output_type": "execute_result"
    }
   ],
   "source": [
    "#test function with valid arguments\n",
    "retrieve_div_number(soup_mit, 'int-students-main wrapper col-md-4')"
   ]
  },
  {
   "cell_type": "markdown",
   "metadata": {},
   "source": [
    "### Task 1.0.3 Prepare url for missing data"
   ]
  },
  {
   "cell_type": "markdown",
   "metadata": {},
   "source": [
    "<div class=\"lev1\"><a href=\"#Table-of-Contents\"><span class=\"toc-item-num\"></span>Table of contents</a></div>"
   ]
  },
  {
   "cell_type": "code",
   "execution_count": 18,
   "metadata": {},
   "outputs": [
    {
     "data": {
      "text/plain": [
       "['https://www.topuniversities.com/universities/massachusetts-institute-technology-mit#wurs',\n",
       " 'https://www.topuniversities.com/universities/stanford-university#wurs',\n",
       " 'https://www.topuniversities.com/universities/harvard-university#wurs',\n",
       " 'https://www.topuniversities.com/universities/california-institute-technology-caltech#wurs',\n",
       " 'https://www.topuniversities.com/universities/university-cambridge#wurs']"
      ]
     },
     "execution_count": 18,
     "metadata": {},
     "output_type": "execute_result"
    }
   ],
   "source": [
    "#Prepare urls for request-loop\n",
    "u_urls = np.array(univ_df[['url']].values)\n",
    "univ_urls = []\n",
    "main_url = 'https://www.topuniversities.com'\n",
    "for url_ in u_urls:\n",
    "    url = url_[0]\n",
    "    univ_urls.append(main_url + url + '#wurs')\n",
    "univ_urls[:5]"
   ]
  },
  {
   "cell_type": "code",
   "execution_count": 19,
   "metadata": {},
   "outputs": [
    {
     "data": {
      "text/plain": [
       "959"
      ]
     },
     "execution_count": 19,
     "metadata": {},
     "output_type": "execute_result"
    }
   ],
   "source": [
    "len(univ_urls)"
   ]
  },
  {
   "cell_type": "markdown",
   "metadata": {},
   "source": [
    "### Task 1.0.4 Get missing data function"
   ]
  },
  {
   "cell_type": "markdown",
   "metadata": {},
   "source": [
    "<div class=\"lev1\"><a href=\"#Table-of-Contents\"><span class=\"toc-item-num\"></span>Table of contents</a></div>"
   ]
  },
  {
   "cell_type": "markdown",
   "metadata": {},
   "source": [
    "Since doing the 959 requests in one go didn't work, I will manually split the requests in chunks as big as possible to minimize the merge step"
   ]
  },
  {
   "cell_type": "code",
   "execution_count": 20,
   "metadata": {
    "collapsed": true
   },
   "outputs": [],
   "source": [
    "#First attempt to do the requests, too blocking for 959 requests\n",
    "def get_missing_data(urls):\n",
    "    international_students = []\n",
    "    students = []\n",
    "    international_faculty = []\n",
    "    faculty = []\n",
    "\n",
    "    for url in urls:\n",
    "    \n",
    "        r = requests.get(url)\n",
    "        soup = BeautifulSoup(r.text, 'html.parser')\n",
    "    \n",
    "        inter_st = retrieve_div_number(soup, 'int-students-main wrapper col-md-4')\n",
    "        st = retrieve_div_number(soup, 'students-main wrapper col-md-4')\n",
    "        inter_fac = retrieve_div_number(soup, 'faculty-main wrapper col-md-4')\n",
    "        fac = retrieve_div_number(soup, 'inter faculty')\n",
    "    \n",
    "        international_students.append(inter_st)\n",
    "        students.append(st)\n",
    "        international_faculty.append(inter_fac)\n",
    "        faculty.append(fac)\n",
    "\n",
    "    return international_students, students, international_faculty, faculty"
   ]
  },
  {
   "cell_type": "code",
   "execution_count": 21,
   "metadata": {
    "collapsed": true
   },
   "outputs": [],
   "source": [
    "#store result in arrays\n",
    "inter_s, s, inter_f, f = get_missing_data(univ_urls[:5])"
   ]
  },
  {
   "cell_type": "code",
   "execution_count": 22,
   "metadata": {
    "scrolled": false
   },
   "outputs": [
    {
     "data": {
      "text/plain": [
       "[3717, 3611, 5266, 647, 6699]"
      ]
     },
     "execution_count": 22,
     "metadata": {},
     "output_type": "execute_result"
    }
   ],
   "source": [
    "inter_s"
   ]
  },
  {
   "cell_type": "markdown",
   "metadata": {},
   "source": [
    "### Task 1.0.5 Prepare callback to import all data"
   ]
  },
  {
   "cell_type": "markdown",
   "metadata": {},
   "source": [
    "<div class=\"lev1\"><a href=\"#Table-of-Contents\"><span class=\"toc-item-num\"></span>Table of contents</a></div>"
   ]
  },
  {
   "cell_type": "markdown",
   "metadata": {},
   "source": [
    "Since this is super slow, we will use the package future-requests that will make non-blocking requests. While waiting, I will treat only a small part of the data. When requests complete, I store the results in variables and its all good. This is the reason for the small block before the function"
   ]
  },
  {
   "cell_type": "code",
   "execution_count": 23,
   "metadata": {
    "collapsed": true
   },
   "outputs": [],
   "source": [
    "#declare globals for second methods\n",
    "international_st = []\n",
    "students = []\n",
    "international_fac = []\n",
    "fac = []\n",
    "bad_soups = []\n",
    "futures = []\n",
    "num_request = 200\n",
    "count = 0"
   ]
  },
  {
   "cell_type": "code",
   "execution_count": 24,
   "metadata": {
    "collapsed": true
   },
   "outputs": [],
   "source": [
    "#helper to reset globals\n",
    "def reset_arrays():\n",
    "    global international_st\n",
    "    global students\n",
    "    global international_fac\n",
    "    global fac\n",
    "    global bad_soups \n",
    "    global count\n",
    "    \n",
    "    international_st = []\n",
    "    students = []\n",
    "    international_fac = []\n",
    "    fac = []\n",
    "    bad_soups = []\n",
    "    count = 0\n",
    "    \n",
    "    return 0"
   ]
  },
  {
   "cell_type": "code",
   "execution_count": 25,
   "metadata": {
    "collapsed": true
   },
   "outputs": [],
   "source": [
    "#proceeds request when completed in background:\n",
    "# extract soup, extract values\n",
    "def callback(future):\n",
    "    r = future.result()\n",
    "    soup = BeautifulSoup(r.text, 'html.parser')\n",
    "    \n",
    "    global international_st\n",
    "    global students\n",
    "    global international_fac\n",
    "    global fac\n",
    "    global num_request\n",
    "    global count\n",
    "    global bad_soups\n",
    "    count = count + 1\n",
    "    if count > num_request:\n",
    "        international_st = []\n",
    "        students = []\n",
    "        international_fac = []\n",
    "        fac = []\n",
    "        count = 0\n",
    "    \n",
    "    inter_st = retrieve_div_number(soup, 'int-students-main wrapper col-md-4')\n",
    "    st = retrieve_div_number(soup, 'students-main wrapper col-md-4')\n",
    "    inter_fac = retrieve_div_number(soup, 'inter faculty')\n",
    "    f = retrieve_div_number(soup, 'faculty-main wrapper col-md-4')\n",
    "    if(f == 'failed'):\n",
    "        f = retrieve_div_number(soup, 'total faculty')\n",
    "    if inter_st == 'failed' or st == 'failed' or inter_fac == 'failed' or f == 'failed':\n",
    "        bad_soups.append(soup)\n",
    "    international_st.append(inter_st)\n",
    "    students.append(st)\n",
    "    international_fac.append(inter_fac)\n",
    "    fac.append(f)"
   ]
  },
  {
   "cell_type": "markdown",
   "metadata": {},
   "source": [
    "### Task 1.0.6 Import Data"
   ]
  },
  {
   "cell_type": "markdown",
   "metadata": {},
   "source": [
    "<div class=\"lev1\"><a href=\"#Table-of-Contents\"><span class=\"toc-item-num\"></span>Table of contents</a></div>"
   ]
  },
  {
   "cell_type": "markdown",
   "metadata": {
    "collapsed": true
   },
   "source": [
    "Now we can do our 959 requests in background. For it to work, we must recompile the initilisation of arrays as well as the callback function"
   ]
  },
  {
   "cell_type": "markdown",
   "metadata": {},
   "source": [
    "The following block will play a small sound when the requests are done. For it to work you need to install python-vlc   \n",
    "$ pip install python-vlc"
   ]
  },
  {
   "cell_type": "code",
   "execution_count": 26,
   "metadata": {
    "collapsed": true
   },
   "outputs": [],
   "source": [
    "#plays a fancy sound, customizable with other sounds in the fancy_sounds folder\n",
    "import vlc\n",
    "def play_sound_futur(future):\n",
    "    folder_path = 'fancy_sounds/'\n",
    "    music_path = 'zelda_small_item.wav'\n",
    "    p = vlc.MediaPlayer(folder_path + music_path)\n",
    "    p.play()\n",
    "    return 0\n",
    "\n",
    "def play_sound(music_path):\n",
    "    folder_path = 'fancy_sounds/'\n",
    "    p = vlc.MediaPlayer(folder_path + music_path)\n",
    "    p.play()\n",
    "    return 0"
   ]
  },
  {
   "cell_type": "code",
   "execution_count": 27,
   "metadata": {
    "collapsed": true
   },
   "outputs": [],
   "source": [
    "#initialize session for background threads\n",
    "from requests_futures.sessions import FuturesSession\n",
    "session = FuturesSession()"
   ]
  },
  {
   "cell_type": "code",
   "execution_count": 28,
   "metadata": {
    "scrolled": true
   },
   "outputs": [],
   "source": [
    "#displays a progress bar for the requests in backgrounds\n",
    "import threading\n",
    "from IPython.display import display\n",
    "import ipywidgets as widgets\n",
    "import time\n",
    "import sys\n",
    "import pickle\n",
    "\n",
    "def work(progress, num_request):\n",
    "    global fac\n",
    "    while(len(fac) <= num_request):\n",
    "        progress.value = len(fac)/num_request\n",
    "        \n",
    "def progress_bar(num_request):\n",
    "    progress = widgets.FloatProgress(value=0.0, min=0.0, max=1.0)\n",
    "    \n",
    "    thread = threading.Thread(target=work, args=(progress, num_request,))\n",
    "    display(progress)\n",
    "    thread.start()\n"
   ]
  },
  {
   "cell_type": "code",
   "execution_count": 29,
   "metadata": {
    "collapsed": true
   },
   "outputs": [],
   "source": [
    "#initiate background requests. The number of requests should be customized on the next line\n",
    "#if you don't have the file save.p it loads the data otherwise we take the data from save.p\n",
    "\n",
    "import pickle\n",
    "\n",
    "def load_data(univ_urls, num_request):\n",
    "\n",
    "    url_slice = univ_urls[:num_request]\n",
    "    url_last_idx = len(url_slice) - 1\n",
    "    reset_arrays()\n",
    "    for i_url, url in enumerate(url_slice):\n",
    "        # On fait notre requête GET\n",
    "        future = session.get(url)\n",
    "        # On rajoute le callback à appeler quand\n",
    "        # le résultat de la requête arrive.\n",
    "        if i_url != url_last_idx:\n",
    "            futures.append(future)\n",
    "        future.add_done_callback(callback)\n",
    "        if i_url == (url_last_idx):\n",
    "            future.add_done_callback(play_sound_futur)"
   ]
  },
  {
   "cell_type": "code",
   "execution_count": 30,
   "metadata": {},
   "outputs": [
    {
     "data": {
      "application/vnd.jupyter.widget-view+json": {
       "model_id": "aa652a8ea12f49f481a1bf941fe20bc6",
       "version_major": 2,
       "version_minor": 0
      },
      "text/plain": [
       "A Jupyter Widget"
      ]
     },
     "metadata": {},
     "output_type": "display_data"
    },
    {
     "name": "stdout",
     "output_type": "stream",
     "text": [
      "20\n"
     ]
    }
   ],
   "source": [
    "# here we have the nb of request that we want to load\n",
    "# if you delete the file you can see the progress bar to see the loading of the data\n",
    "\n",
    "progress_bar(num_request)\n",
    "\n",
    "try:\n",
    "    data = pickle.load(open(\"save.p\", \"rb\"))\n",
    "    international_st = data[0]\n",
    "    students = data[1]\n",
    "    international_fac = data[2]\n",
    "    fac = data[3]\n",
    "    num_request_file = data[4]\n",
    "    \n",
    "    print(num_request_file)\n",
    "    \n",
    "    if(num_request_file != num_request):\n",
    "        load_data(univ_urls, num_request)\n",
    "    else:\n",
    "        play_sound('smb_1-up.wav')\n",
    "        \n",
    "except (OSError, IOError) as e:\n",
    "    load_data(univ_urls, num_request)\n"
   ]
  },
  {
   "cell_type": "code",
   "execution_count": 31,
   "metadata": {},
   "outputs": [],
   "source": [
    "url_slice = univ_urls[:50]\n"
   ]
  },
  {
   "cell_type": "markdown",
   "metadata": {},
   "source": [
    "missing data (NaN fields):\n",
    "    1. [400:500] Universidad Externado de Colombia missing international students (can put 0)\n",
    "    2. [500:600] Iran University of Science and Technology missing international fac/students (can put 0)\n",
    "    3. [600:700]\n",
    "        1. Jadavpur University:             missing international fac (can put 0)\n",
    "        2. Universidad Iberoamericana IBERO missing international fac/students (can put 0)\n",
    "        3. University of Haifa              \"--------------------------------------------\"\n",
    "        4. University of Hyderabad          missing international fac (can put 0)\n",
    "        5. Anna University                  missing international fac/students (can put 0)\n",
    "        6. Universidad del Pais Vasco       missing international fac (can put 0)\n",
    "        7. University of Minho              missing internation fac/students (can put 0)\n",
    "        8. University of Minho              \"------------------------------------------\"\n",
    "    4. [700:800]\n",
    "        1. Comenius University in Bratislava   missing international fac (can put 0)\n",
    "        2. Memorial University of Newfoundland \"------------------------------------\"\n",
    "        3. Rhodes University                   \"------------------------------------\"\n",
    "        4. Paris Lodron University of Salzburg \"------------------------------------\"\n",
    "        5. University of Colombo               \"------------------------------------\"\n",
    "\n",
    "it seems the NaN values can be replaced by 0, I won't check the last ones since there are 15 in the next category and 13 in the last respectively [800:900] and [900:]"
   ]
  },
  {
   "cell_type": "code",
   "execution_count": 32,
   "metadata": {},
   "outputs": [
    {
     "data": {
      "text/plain": [
       "0"
      ]
     },
     "execution_count": 32,
     "metadata": {},
     "output_type": "execute_result"
    }
   ],
   "source": [
    "#At this point, there must be 38 bad soups when you run all requests. All bad soups values are replaced by 0 later\n",
    "len(bad_soups)"
   ]
  },
  {
   "cell_type": "markdown",
   "metadata": {},
   "source": [
    "### Task 1.0.7 Kill data if needed"
   ]
  },
  {
   "cell_type": "markdown",
   "metadata": {},
   "source": [
    "### <b> Warning: Running the following cell will cancell all pending requests, corrupting the data in the process </b>\n",
    "Note that to run the cell you have to change 'False' in 'True' in the if statement"
   ]
  },
  {
   "cell_type": "markdown",
   "metadata": {},
   "source": [
    "<div class=\"lev1\"><a href=\"#Table-of-Contents\"><span class=\"toc-item-num\"></span>Table of contents</a></div>"
   ]
  },
  {
   "cell_type": "code",
   "execution_count": 33,
   "metadata": {
    "scrolled": true
   },
   "outputs": [
    {
     "data": {
      "text/plain": [
       "''"
      ]
     },
     "execution_count": 33,
     "metadata": {},
     "output_type": "execute_result"
    }
   ],
   "source": [
    "# attempts to kill waiting requests: if attempt is successful, bar doesn't move. Goal is to cancel all but last requests\n",
    "# in order to instantly play sound and complete only one request\n",
    "def reset_futures():\n",
    "    global futures \n",
    "    for fu in futures:\n",
    "        # cancel request on this url\n",
    "        fu.cancel()\n",
    "        #print(\"dead\")\n",
    "    futures = []    \n",
    "    return 0\n",
    "\n",
    "#Last try it seemed to work. We reset arrays twice since the canceling of\n",
    "#asynchronous requests is asynchronous, the reset might happen before all requests are canceled\n",
    "#and some requests might finish in the meantime (after reset)\n",
    ";"
   ]
  },
  {
   "cell_type": "markdown",
   "metadata": {},
   "source": [
    "#### <b> Next block will close background requests, uncomment and use carefully </b>"
   ]
  },
  {
   "cell_type": "code",
   "execution_count": 34,
   "metadata": {},
   "outputs": [
    {
     "data": {
      "text/plain": [
       "0"
      ]
     },
     "execution_count": 34,
     "metadata": {},
     "output_type": "execute_result"
    }
   ],
   "source": [
    "#bad_soups contains all the soups from which we were unable to scrap data. \n",
    "#After requests are finished, the block should compile to 0\n",
    "len(bad_soups)"
   ]
  },
  {
   "cell_type": "markdown",
   "metadata": {},
   "source": [
    "### <b>Task 1.0.8 Store data and continue compilation</b>\n"
   ]
  },
  {
   "cell_type": "markdown",
   "metadata": {},
   "source": [
    "<div class=\"lev1\"><a href=\"#Table-of-Contents\"><span class=\"toc-item-num\"></span>Table of contents</a></div>"
   ]
  },
  {
   "cell_type": "code",
   "execution_count": 81,
   "metadata": {},
   "outputs": [],
   "source": [
    "# this is to store the data if we don't have the file save.p and reset the futurs after loading\n",
    "\n",
    "def store_data():\n",
    "    global international_st\n",
    "    global students\n",
    "    global international_fac\n",
    "    global fac\n",
    "    global num_request\n",
    "    \n",
    "    data = [international_st, students, international_fac, fac, num_request]\n",
    "    pickle.dump(data, open(\"save.p\", \"wb\"))\n",
    "    reset_futures()\n",
    "    \n",
    "    \n",
    "# you can delete the file but you have to uncomment this part to save the data in the file\n",
    "\n",
    "#store_data() # decoment here after the sound and recomment don't need to store data everytime"
   ]
  },
  {
   "cell_type": "markdown",
   "metadata": {},
   "source": [
    "Si vous lancez de nouvelles requête avant que les précédentes soient terminées, vous avez de forte chances que la data soit corrompue. Dans ce cas attendez la fin des requêtes en cours, puis relancez la boucle ci-dessus"
   ]
  },
  {
   "cell_type": "markdown",
   "metadata": {},
   "source": [
    "You can see the requests progress here. If you want to do something else, a sound will be played as the requests complete"
   ]
  },
  {
   "cell_type": "markdown",
   "metadata": {},
   "source": [
    "Now that you finished your coffee and were alerted by the fancy sounds that you could pursue the compilation, we can finally use our well-deserved data"
   ]
  },
  {
   "cell_type": "code",
   "execution_count": 36,
   "metadata": {},
   "outputs": [
    {
     "data": {
      "text/html": [
       "<div>\n",
       "<style>\n",
       "    .dataframe thead tr:only-child th {\n",
       "        text-align: right;\n",
       "    }\n",
       "\n",
       "    .dataframe thead th {\n",
       "        text-align: left;\n",
       "    }\n",
       "\n",
       "    .dataframe tbody tr th {\n",
       "        vertical-align: top;\n",
       "    }\n",
       "</style>\n",
       "<table border=\"1\" class=\"dataframe\">\n",
       "  <thead>\n",
       "    <tr style=\"text-align: right;\">\n",
       "      <th></th>\n",
       "      <th>inter_st</th>\n",
       "      <th>students</th>\n",
       "      <th>inter_fac</th>\n",
       "      <th>fac</th>\n",
       "    </tr>\n",
       "  </thead>\n",
       "  <tbody>\n",
       "    <tr>\n",
       "      <th>0</th>\n",
       "      <td>3611</td>\n",
       "      <td>15878</td>\n",
       "      <td>2042</td>\n",
       "      <td>4285</td>\n",
       "    </tr>\n",
       "    <tr>\n",
       "      <th>1</th>\n",
       "      <td>3717</td>\n",
       "      <td>11067</td>\n",
       "      <td>1679</td>\n",
       "      <td>2982</td>\n",
       "    </tr>\n",
       "    <tr>\n",
       "      <th>2</th>\n",
       "      <td>5266</td>\n",
       "      <td>22429</td>\n",
       "      <td>1311</td>\n",
       "      <td>4350</td>\n",
       "    </tr>\n",
       "    <tr>\n",
       "      <th>3</th>\n",
       "      <td>647</td>\n",
       "      <td>2255</td>\n",
       "      <td>350</td>\n",
       "      <td>953</td>\n",
       "    </tr>\n",
       "  </tbody>\n",
       "</table>\n",
       "</div>"
      ],
      "text/plain": [
       "   inter_st  students  inter_fac   fac\n",
       "0      3611     15878       2042  4285\n",
       "1      3717     11067       1679  2982\n",
       "2      5266     22429       1311  4350\n",
       "3       647      2255        350   953"
      ]
     },
     "execution_count": 36,
     "metadata": {},
     "output_type": "execute_result"
    }
   ],
   "source": [
    "#construct dataframe from individual pages'info\n",
    "missing_df = pd.DataFrame(data= [international_st, students, international_fac, fac],\n",
    "                         index = ['inter_st', 'students', 'inter_fac', 'fac']).transpose()\n",
    "missing_df.head()"
   ]
  },
  {
   "cell_type": "code",
   "execution_count": 37,
   "metadata": {},
   "outputs": [
    {
     "data": {
      "text/html": [
       "<div>\n",
       "<style>\n",
       "    .dataframe thead tr:only-child th {\n",
       "        text-align: right;\n",
       "    }\n",
       "\n",
       "    .dataframe thead th {\n",
       "        text-align: left;\n",
       "    }\n",
       "\n",
       "    .dataframe tbody tr th {\n",
       "        vertical-align: top;\n",
       "    }\n",
       "</style>\n",
       "<table border=\"1\" class=\"dataframe\">\n",
       "  <thead>\n",
       "    <tr style=\"text-align: right;\">\n",
       "      <th></th>\n",
       "      <th>country</th>\n",
       "      <th>region</th>\n",
       "      <th>title</th>\n",
       "      <th>inter_st</th>\n",
       "      <th>students</th>\n",
       "      <th>inter_fac</th>\n",
       "      <th>fac</th>\n",
       "    </tr>\n",
       "    <tr>\n",
       "      <th>rank_display</th>\n",
       "      <th></th>\n",
       "      <th></th>\n",
       "      <th></th>\n",
       "      <th></th>\n",
       "      <th></th>\n",
       "      <th></th>\n",
       "      <th></th>\n",
       "    </tr>\n",
       "  </thead>\n",
       "  <tbody>\n",
       "    <tr>\n",
       "      <th>1</th>\n",
       "      <td>United States</td>\n",
       "      <td>North America</td>\n",
       "      <td>Massachusetts Institute of Technology (MIT)</td>\n",
       "      <td>3611.0</td>\n",
       "      <td>15878.0</td>\n",
       "      <td>2042.0</td>\n",
       "      <td>4285.0</td>\n",
       "    </tr>\n",
       "    <tr>\n",
       "      <th>2</th>\n",
       "      <td>United States</td>\n",
       "      <td>North America</td>\n",
       "      <td>Stanford University</td>\n",
       "      <td>3717.0</td>\n",
       "      <td>11067.0</td>\n",
       "      <td>1679.0</td>\n",
       "      <td>2982.0</td>\n",
       "    </tr>\n",
       "    <tr>\n",
       "      <th>3</th>\n",
       "      <td>United States</td>\n",
       "      <td>North America</td>\n",
       "      <td>Harvard University</td>\n",
       "      <td>5266.0</td>\n",
       "      <td>22429.0</td>\n",
       "      <td>1311.0</td>\n",
       "      <td>4350.0</td>\n",
       "    </tr>\n",
       "    <tr>\n",
       "      <th>4</th>\n",
       "      <td>United States</td>\n",
       "      <td>North America</td>\n",
       "      <td>California Institute of Technology (Caltech)</td>\n",
       "      <td>647.0</td>\n",
       "      <td>2255.0</td>\n",
       "      <td>350.0</td>\n",
       "      <td>953.0</td>\n",
       "    </tr>\n",
       "    <tr>\n",
       "      <th>5</th>\n",
       "      <td>United Kingdom</td>\n",
       "      <td>Europe</td>\n",
       "      <td>University of Cambridge</td>\n",
       "      <td>NaN</td>\n",
       "      <td>NaN</td>\n",
       "      <td>NaN</td>\n",
       "      <td>NaN</td>\n",
       "    </tr>\n",
       "  </tbody>\n",
       "</table>\n",
       "</div>"
      ],
      "text/plain": [
       "                     country         region  \\\n",
       "rank_display                                  \n",
       "1              United States  North America   \n",
       "2              United States  North America   \n",
       "3              United States  North America   \n",
       "4              United States  North America   \n",
       "5             United Kingdom         Europe   \n",
       "\n",
       "                                                     title  inter_st  \\\n",
       "rank_display                                                           \n",
       "1              Massachusetts Institute of Technology (MIT)    3611.0   \n",
       "2                                      Stanford University    3717.0   \n",
       "3                                       Harvard University    5266.0   \n",
       "4             California Institute of Technology (Caltech)     647.0   \n",
       "5                                  University of Cambridge       NaN   \n",
       "\n",
       "              students  inter_fac     fac  \n",
       "rank_display                               \n",
       "1              15878.0     2042.0  4285.0  \n",
       "2              11067.0     1679.0  2982.0  \n",
       "3              22429.0     1311.0  4350.0  \n",
       "4               2255.0      350.0   953.0  \n",
       "5                  NaN        NaN     NaN  "
      ]
     },
     "execution_count": 37,
     "metadata": {},
     "output_type": "execute_result"
    }
   ],
   "source": [
    "#merge the two daframes to have all infos needed\n",
    "univ_tot_df = pd.concat([univ_dr_df, missing_df], axis = 1)\n",
    "univ_rk_df = univ_tot_df.set_index(['rank_display'])\n",
    "univ_rk_df.head()"
   ]
  },
  {
   "cell_type": "markdown",
   "metadata": {},
   "source": [
    "### Task 1.1\n",
    "\n",
    "Which are the best universities in term of: (a) ratio between faculty members and students, (b) ratio of international students?, (c) country, (d) region"
   ]
  },
  {
   "cell_type": "markdown",
   "metadata": {},
   "source": [
    " <div class=\"lev1\"><a href=\"#Table-of-Contents\"><span class=\"toc-item-num\"></span>Table of contents</a></div>"
   ]
  },
  {
   "cell_type": "markdown",
   "metadata": {},
   "source": [
    "(a) ratio between faculty members and students"
   ]
  },
  {
   "cell_type": "markdown",
   "metadata": {},
   "source": [
    "#### Warning\n",
    "Le dataframe contient des NaN lorsque la requête n'a pas réussi à récupérer de valeur. Le choix a été fait de drop les universités qui contenaient des NaN. A discuter"
   ]
  },
  {
   "cell_type": "code",
   "execution_count": 38,
   "metadata": {
    "collapsed": true
   },
   "outputs": [],
   "source": [
    "#Add a columns in which each cell is the result of col1/col2 for corresponding cells in col1, col2\n",
    "#The returned dataframe is sorted in ascending(1)/descending(0) order depending on the value of the parameter\n",
    "def ratio(df, col1, col2, ascending_ = 0):\n",
    "    ratio_df = df.copy().replace('failed', 0)\n",
    "    ratio_df['ratio'] = ratio_df[col1] / ratio_df[col2]\n",
    "    ratio_df_sorted = ratio_df.sort_values(['ratio'], ascending = ascending_)\n",
    "    return ratio_df_sorted"
   ]
  },
  {
   "cell_type": "code",
   "execution_count": 39,
   "metadata": {},
   "outputs": [
    {
     "data": {
      "text/html": [
       "<div>\n",
       "<style>\n",
       "    .dataframe thead tr:only-child th {\n",
       "        text-align: right;\n",
       "    }\n",
       "\n",
       "    .dataframe thead th {\n",
       "        text-align: left;\n",
       "    }\n",
       "\n",
       "    .dataframe tbody tr th {\n",
       "        vertical-align: top;\n",
       "    }\n",
       "</style>\n",
       "<table border=\"1\" class=\"dataframe\">\n",
       "  <thead>\n",
       "    <tr style=\"text-align: right;\">\n",
       "      <th></th>\n",
       "      <th>country</th>\n",
       "      <th>rank_display</th>\n",
       "      <th>region</th>\n",
       "      <th>title</th>\n",
       "      <th>inter_st</th>\n",
       "      <th>students</th>\n",
       "      <th>inter_fac</th>\n",
       "      <th>fac</th>\n",
       "      <th>ratio</th>\n",
       "    </tr>\n",
       "  </thead>\n",
       "  <tbody>\n",
       "    <tr>\n",
       "      <th>3</th>\n",
       "      <td>United States</td>\n",
       "      <td>4</td>\n",
       "      <td>North America</td>\n",
       "      <td>California Institute of Technology (Caltech)</td>\n",
       "      <td>647.0</td>\n",
       "      <td>2255.0</td>\n",
       "      <td>350.0</td>\n",
       "      <td>953.0</td>\n",
       "      <td>0.422616</td>\n",
       "    </tr>\n",
       "    <tr>\n",
       "      <th>0</th>\n",
       "      <td>United States</td>\n",
       "      <td>1</td>\n",
       "      <td>North America</td>\n",
       "      <td>Massachusetts Institute of Technology (MIT)</td>\n",
       "      <td>3611.0</td>\n",
       "      <td>15878.0</td>\n",
       "      <td>2042.0</td>\n",
       "      <td>4285.0</td>\n",
       "      <td>0.269870</td>\n",
       "    </tr>\n",
       "    <tr>\n",
       "      <th>1</th>\n",
       "      <td>United States</td>\n",
       "      <td>2</td>\n",
       "      <td>North America</td>\n",
       "      <td>Stanford University</td>\n",
       "      <td>3717.0</td>\n",
       "      <td>11067.0</td>\n",
       "      <td>1679.0</td>\n",
       "      <td>2982.0</td>\n",
       "      <td>0.269450</td>\n",
       "    </tr>\n",
       "    <tr>\n",
       "      <th>2</th>\n",
       "      <td>United States</td>\n",
       "      <td>3</td>\n",
       "      <td>North America</td>\n",
       "      <td>Harvard University</td>\n",
       "      <td>5266.0</td>\n",
       "      <td>22429.0</td>\n",
       "      <td>1311.0</td>\n",
       "      <td>4350.0</td>\n",
       "      <td>0.193945</td>\n",
       "    </tr>\n",
       "    <tr>\n",
       "      <th>4</th>\n",
       "      <td>United Kingdom</td>\n",
       "      <td>5</td>\n",
       "      <td>Europe</td>\n",
       "      <td>University of Cambridge</td>\n",
       "      <td>NaN</td>\n",
       "      <td>NaN</td>\n",
       "      <td>NaN</td>\n",
       "      <td>NaN</td>\n",
       "      <td>NaN</td>\n",
       "    </tr>\n",
       "  </tbody>\n",
       "</table>\n",
       "</div>"
      ],
      "text/plain": [
       "          country  rank_display         region  \\\n",
       "3   United States             4  North America   \n",
       "0   United States             1  North America   \n",
       "1   United States             2  North America   \n",
       "2   United States             3  North America   \n",
       "4  United Kingdom             5         Europe   \n",
       "\n",
       "                                          title  inter_st  students  \\\n",
       "3  California Institute of Technology (Caltech)     647.0    2255.0   \n",
       "0   Massachusetts Institute of Technology (MIT)    3611.0   15878.0   \n",
       "1                           Stanford University    3717.0   11067.0   \n",
       "2                            Harvard University    5266.0   22429.0   \n",
       "4                       University of Cambridge       NaN       NaN   \n",
       "\n",
       "   inter_fac     fac     ratio  \n",
       "3      350.0   953.0  0.422616  \n",
       "0     2042.0  4285.0  0.269870  \n",
       "1     1679.0  2982.0  0.269450  \n",
       "2     1311.0  4350.0  0.193945  \n",
       "4        NaN     NaN       NaN  "
      ]
     },
     "execution_count": 39,
     "metadata": {},
     "output_type": "execute_result"
    }
   ],
   "source": [
    "ratio(univ_tot_df, 'fac', 'students', ascending_ = 0).head(5)"
   ]
  },
  {
   "cell_type": "markdown",
   "metadata": {},
   "source": [
    "The ratio of faculty/students seems correlated with the ranking"
   ]
  },
  {
   "cell_type": "markdown",
   "metadata": {
    "collapsed": true
   },
   "source": [
    "(b) ratio of international students"
   ]
  },
  {
   "cell_type": "code",
   "execution_count": 40,
   "metadata": {
    "scrolled": true
   },
   "outputs": [
    {
     "data": {
      "text/html": [
       "<div>\n",
       "<style>\n",
       "    .dataframe thead tr:only-child th {\n",
       "        text-align: right;\n",
       "    }\n",
       "\n",
       "    .dataframe thead th {\n",
       "        text-align: left;\n",
       "    }\n",
       "\n",
       "    .dataframe tbody tr th {\n",
       "        vertical-align: top;\n",
       "    }\n",
       "</style>\n",
       "<table border=\"1\" class=\"dataframe\">\n",
       "  <thead>\n",
       "    <tr style=\"text-align: right;\">\n",
       "      <th></th>\n",
       "      <th>country</th>\n",
       "      <th>rank_display</th>\n",
       "      <th>region</th>\n",
       "      <th>title</th>\n",
       "      <th>inter_st</th>\n",
       "      <th>students</th>\n",
       "      <th>inter_fac</th>\n",
       "      <th>fac</th>\n",
       "      <th>ratio</th>\n",
       "    </tr>\n",
       "  </thead>\n",
       "  <tbody>\n",
       "    <tr>\n",
       "      <th>1</th>\n",
       "      <td>United States</td>\n",
       "      <td>2</td>\n",
       "      <td>North America</td>\n",
       "      <td>Stanford University</td>\n",
       "      <td>3717.0</td>\n",
       "      <td>11067.0</td>\n",
       "      <td>1679.0</td>\n",
       "      <td>2982.0</td>\n",
       "      <td>0.335863</td>\n",
       "    </tr>\n",
       "    <tr>\n",
       "      <th>3</th>\n",
       "      <td>United States</td>\n",
       "      <td>4</td>\n",
       "      <td>North America</td>\n",
       "      <td>California Institute of Technology (Caltech)</td>\n",
       "      <td>647.0</td>\n",
       "      <td>2255.0</td>\n",
       "      <td>350.0</td>\n",
       "      <td>953.0</td>\n",
       "      <td>0.286918</td>\n",
       "    </tr>\n",
       "    <tr>\n",
       "      <th>2</th>\n",
       "      <td>United States</td>\n",
       "      <td>3</td>\n",
       "      <td>North America</td>\n",
       "      <td>Harvard University</td>\n",
       "      <td>5266.0</td>\n",
       "      <td>22429.0</td>\n",
       "      <td>1311.0</td>\n",
       "      <td>4350.0</td>\n",
       "      <td>0.234785</td>\n",
       "    </tr>\n",
       "    <tr>\n",
       "      <th>0</th>\n",
       "      <td>United States</td>\n",
       "      <td>1</td>\n",
       "      <td>North America</td>\n",
       "      <td>Massachusetts Institute of Technology (MIT)</td>\n",
       "      <td>3611.0</td>\n",
       "      <td>15878.0</td>\n",
       "      <td>2042.0</td>\n",
       "      <td>4285.0</td>\n",
       "      <td>0.227422</td>\n",
       "    </tr>\n",
       "    <tr>\n",
       "      <th>4</th>\n",
       "      <td>United Kingdom</td>\n",
       "      <td>5</td>\n",
       "      <td>Europe</td>\n",
       "      <td>University of Cambridge</td>\n",
       "      <td>NaN</td>\n",
       "      <td>NaN</td>\n",
       "      <td>NaN</td>\n",
       "      <td>NaN</td>\n",
       "      <td>NaN</td>\n",
       "    </tr>\n",
       "  </tbody>\n",
       "</table>\n",
       "</div>"
      ],
      "text/plain": [
       "          country  rank_display         region  \\\n",
       "1   United States             2  North America   \n",
       "3   United States             4  North America   \n",
       "2   United States             3  North America   \n",
       "0   United States             1  North America   \n",
       "4  United Kingdom             5         Europe   \n",
       "\n",
       "                                          title  inter_st  students  \\\n",
       "1                           Stanford University    3717.0   11067.0   \n",
       "3  California Institute of Technology (Caltech)     647.0    2255.0   \n",
       "2                            Harvard University    5266.0   22429.0   \n",
       "0   Massachusetts Institute of Technology (MIT)    3611.0   15878.0   \n",
       "4                       University of Cambridge       NaN       NaN   \n",
       "\n",
       "   inter_fac     fac     ratio  \n",
       "1     1679.0  2982.0  0.335863  \n",
       "3      350.0   953.0  0.286918  \n",
       "2     1311.0  4350.0  0.234785  \n",
       "0     2042.0  4285.0  0.227422  \n",
       "4        NaN     NaN       NaN  "
      ]
     },
     "execution_count": 40,
     "metadata": {},
     "output_type": "execute_result"
    }
   ],
   "source": [
    "ratio(univ_tot_df, 'inter_st', 'students', ascending_ = 0).head(5)"
   ]
  },
  {
   "cell_type": "markdown",
   "metadata": {},
   "source": [
    "The ratio of international_students/students seems correlated with the ranking"
   ]
  },
  {
   "cell_type": "markdown",
   "metadata": {},
   "source": [
    "(c) country"
   ]
  },
  {
   "cell_type": "code",
   "execution_count": 41,
   "metadata": {
    "collapsed": true
   },
   "outputs": [],
   "source": [
    "#Returns a multi_indexed dataframe sorted by the argument col as higher index and argument rank as second index\n",
    "def sortby_col_rank(df, col):\n",
    "    univ_col = df.set_index([col, 'rank_display'])\n",
    "    univ_col.sort_index(level=[col, 'rank_display'], ascending=[1, 1], inplace=True)\n",
    "    return univ_col"
   ]
  },
  {
   "cell_type": "code",
   "execution_count": 42,
   "metadata": {},
   "outputs": [
    {
     "data": {
      "text/html": [
       "<div>\n",
       "<style>\n",
       "    .dataframe thead tr:only-child th {\n",
       "        text-align: right;\n",
       "    }\n",
       "\n",
       "    .dataframe thead th {\n",
       "        text-align: left;\n",
       "    }\n",
       "\n",
       "    .dataframe tbody tr th {\n",
       "        vertical-align: top;\n",
       "    }\n",
       "</style>\n",
       "<table border=\"1\" class=\"dataframe\">\n",
       "  <thead>\n",
       "    <tr style=\"text-align: right;\">\n",
       "      <th></th>\n",
       "      <th></th>\n",
       "      <th>region</th>\n",
       "      <th>title</th>\n",
       "      <th>inter_st</th>\n",
       "      <th>students</th>\n",
       "      <th>inter_fac</th>\n",
       "      <th>fac</th>\n",
       "    </tr>\n",
       "    <tr>\n",
       "      <th>country</th>\n",
       "      <th>rank_display</th>\n",
       "      <th></th>\n",
       "      <th></th>\n",
       "      <th></th>\n",
       "      <th></th>\n",
       "      <th></th>\n",
       "      <th></th>\n",
       "    </tr>\n",
       "  </thead>\n",
       "  <tbody>\n",
       "    <tr>\n",
       "      <th rowspan=\"5\" valign=\"top\">Argentina</th>\n",
       "      <th>75</th>\n",
       "      <td>Latin America</td>\n",
       "      <td>Universidad de Buenos Aires (UBA)</td>\n",
       "      <td>NaN</td>\n",
       "      <td>NaN</td>\n",
       "      <td>NaN</td>\n",
       "      <td>NaN</td>\n",
       "    </tr>\n",
       "    <tr>\n",
       "      <th>331</th>\n",
       "      <td>Latin America</td>\n",
       "      <td>Universidad Austral</td>\n",
       "      <td>NaN</td>\n",
       "      <td>NaN</td>\n",
       "      <td>NaN</td>\n",
       "      <td>NaN</td>\n",
       "    </tr>\n",
       "    <tr>\n",
       "      <th>337</th>\n",
       "      <td>Latin America</td>\n",
       "      <td>Universidad de Belgrano</td>\n",
       "      <td>NaN</td>\n",
       "      <td>NaN</td>\n",
       "      <td>NaN</td>\n",
       "      <td>NaN</td>\n",
       "    </tr>\n",
       "    <tr>\n",
       "      <th>365</th>\n",
       "      <td>Latin America</td>\n",
       "      <td>Pontificia Universidad Católica Argentina</td>\n",
       "      <td>NaN</td>\n",
       "      <td>NaN</td>\n",
       "      <td>NaN</td>\n",
       "      <td>NaN</td>\n",
       "    </tr>\n",
       "    <tr>\n",
       "      <th>440</th>\n",
       "      <td>Latin America</td>\n",
       "      <td>Universidad de Palermo (UP)</td>\n",
       "      <td>NaN</td>\n",
       "      <td>NaN</td>\n",
       "      <td>NaN</td>\n",
       "      <td>NaN</td>\n",
       "    </tr>\n",
       "  </tbody>\n",
       "</table>\n",
       "</div>"
      ],
      "text/plain": [
       "                               region  \\\n",
       "country   rank_display                  \n",
       "Argentina 75            Latin America   \n",
       "          331           Latin America   \n",
       "          337           Latin America   \n",
       "          365           Latin America   \n",
       "          440           Latin America   \n",
       "\n",
       "                                                            title  inter_st  \\\n",
       "country   rank_display                                                        \n",
       "Argentina 75                    Universidad de Buenos Aires (UBA)       NaN   \n",
       "          331                                 Universidad Austral       NaN   \n",
       "          337                             Universidad de Belgrano       NaN   \n",
       "          365           Pontificia Universidad Católica Argentina       NaN   \n",
       "          440                         Universidad de Palermo (UP)       NaN   \n",
       "\n",
       "                        students  inter_fac  fac  \n",
       "country   rank_display                            \n",
       "Argentina 75                 NaN        NaN  NaN  \n",
       "          331                NaN        NaN  NaN  \n",
       "          337                NaN        NaN  NaN  \n",
       "          365                NaN        NaN  NaN  \n",
       "          440                NaN        NaN  NaN  "
      ]
     },
     "execution_count": 42,
     "metadata": {},
     "output_type": "execute_result"
    }
   ],
   "source": [
    "country_df = sortby_col_rank(univ_tot_df, 'country')\n",
    "us_univ = country_df.loc['United States']\n",
    "#us_univ.head(5)\n",
    "country_df.head()"
   ]
  },
  {
   "cell_type": "markdown",
   "metadata": {},
   "source": [
    "(d) region"
   ]
  },
  {
   "cell_type": "code",
   "execution_count": 43,
   "metadata": {},
   "outputs": [
    {
     "data": {
      "text/html": [
       "<div>\n",
       "<style>\n",
       "    .dataframe thead tr:only-child th {\n",
       "        text-align: right;\n",
       "    }\n",
       "\n",
       "    .dataframe thead th {\n",
       "        text-align: left;\n",
       "    }\n",
       "\n",
       "    .dataframe tbody tr th {\n",
       "        vertical-align: top;\n",
       "    }\n",
       "</style>\n",
       "<table border=\"1\" class=\"dataframe\">\n",
       "  <thead>\n",
       "    <tr style=\"text-align: right;\">\n",
       "      <th></th>\n",
       "      <th></th>\n",
       "      <th>country</th>\n",
       "      <th>title</th>\n",
       "      <th>inter_st</th>\n",
       "      <th>students</th>\n",
       "      <th>inter_fac</th>\n",
       "      <th>fac</th>\n",
       "    </tr>\n",
       "    <tr>\n",
       "      <th>region</th>\n",
       "      <th>rank_display</th>\n",
       "      <th></th>\n",
       "      <th></th>\n",
       "      <th></th>\n",
       "      <th></th>\n",
       "      <th></th>\n",
       "      <th></th>\n",
       "    </tr>\n",
       "  </thead>\n",
       "  <tbody>\n",
       "    <tr>\n",
       "      <th rowspan=\"5\" valign=\"top\">Africa</th>\n",
       "      <th>191</th>\n",
       "      <td>South Africa</td>\n",
       "      <td>University of Cape Town</td>\n",
       "      <td>NaN</td>\n",
       "      <td>NaN</td>\n",
       "      <td>NaN</td>\n",
       "      <td>NaN</td>\n",
       "    </tr>\n",
       "    <tr>\n",
       "      <th>362</th>\n",
       "      <td>South Africa</td>\n",
       "      <td>Stellenbosch University</td>\n",
       "      <td>NaN</td>\n",
       "      <td>NaN</td>\n",
       "      <td>NaN</td>\n",
       "      <td>NaN</td>\n",
       "    </tr>\n",
       "    <tr>\n",
       "      <th>364</th>\n",
       "      <td>South Africa</td>\n",
       "      <td>University of the Witwatersrand</td>\n",
       "      <td>NaN</td>\n",
       "      <td>NaN</td>\n",
       "      <td>NaN</td>\n",
       "      <td>NaN</td>\n",
       "    </tr>\n",
       "    <tr>\n",
       "      <th>395</th>\n",
       "      <td>Egypt</td>\n",
       "      <td>The American University in Cairo</td>\n",
       "      <td>NaN</td>\n",
       "      <td>NaN</td>\n",
       "      <td>NaN</td>\n",
       "      <td>NaN</td>\n",
       "    </tr>\n",
       "    <tr>\n",
       "      <th>482</th>\n",
       "      <td>Egypt</td>\n",
       "      <td>Cairo University</td>\n",
       "      <td>NaN</td>\n",
       "      <td>NaN</td>\n",
       "      <td>NaN</td>\n",
       "      <td>NaN</td>\n",
       "    </tr>\n",
       "  </tbody>\n",
       "</table>\n",
       "</div>"
      ],
      "text/plain": [
       "                          country                             title  inter_st  \\\n",
       "region rank_display                                                             \n",
       "Africa 191           South Africa           University of Cape Town       NaN   \n",
       "       362           South Africa           Stellenbosch University       NaN   \n",
       "       364           South Africa   University of the Witwatersrand       NaN   \n",
       "       395                  Egypt  The American University in Cairo       NaN   \n",
       "       482                  Egypt                  Cairo University       NaN   \n",
       "\n",
       "                     students  inter_fac  fac  \n",
       "region rank_display                            \n",
       "Africa 191                NaN        NaN  NaN  \n",
       "       362                NaN        NaN  NaN  \n",
       "       364                NaN        NaN  NaN  \n",
       "       395                NaN        NaN  NaN  \n",
       "       482                NaN        NaN  NaN  "
      ]
     },
     "execution_count": 43,
     "metadata": {},
     "output_type": "execute_result"
    }
   ],
   "source": [
    "region_df = sortby_col_rank(univ_tot_df, 'region')\n",
    "region_df.head()"
   ]
  },
  {
   "cell_type": "markdown",
   "metadata": {
    "collapsed": true
   },
   "source": [
    "### Task 2.0 Retrieve the Data"
   ]
  },
  {
   "cell_type": "markdown",
   "metadata": {},
   "source": [
    " <div class=\"lev1\"><a href=\"#Table-of-Contents\"><span class=\"toc-item-num\"></span>Table of contents</a></div>"
   ]
  },
  {
   "cell_type": "markdown",
   "metadata": {},
   "source": [
    "Using the same technique used the first part of this homework (using postman), we get the URL to a json that contains the wanted data:"
   ]
  },
  {
   "cell_type": "code",
   "execution_count": 44,
   "metadata": {
    "collapsed": true
   },
   "outputs": [],
   "source": [
    "request_url2 = 'https://www.timeshighereducation.com/sites/default/files/the_data_rankings/world_university_rankings_2018_limit0_369a9045a203e176392b9fb8f8c1cb2a.json'\n",
    "r2 = requests.get(request_url2)"
   ]
  },
  {
   "cell_type": "code",
   "execution_count": 45,
   "metadata": {},
   "outputs": [
    {
     "data": {
      "text/plain": [
       "{'aliases': 'University of Oxford',\n",
       " 'location': 'United Kingdom',\n",
       " 'member_level': '0',\n",
       " 'name': 'University of Oxford',\n",
       " 'nid': 468,\n",
       " 'rank': '1',\n",
       " 'rank_order': '10',\n",
       " 'record_type': 'master_account',\n",
       " 'scores_citations': '99.1',\n",
       " 'scores_citations_rank': '15',\n",
       " 'scores_industry_income': '63.7',\n",
       " 'scores_industry_income_rank': '169',\n",
       " 'scores_international_outlook': '95.0',\n",
       " 'scores_international_outlook_rank': '24',\n",
       " 'scores_overall': '94.3',\n",
       " 'scores_overall_rank': '10',\n",
       " 'scores_research': '99.5',\n",
       " 'scores_research_rank': '1',\n",
       " 'scores_teaching': '86.7',\n",
       " 'scores_teaching_rank': '5',\n",
       " 'stats_female_male_ratio': '46 : 54',\n",
       " 'stats_number_students': '20,409',\n",
       " 'stats_pc_intl_students': '38%',\n",
       " 'stats_student_staff_ratio': '11.2',\n",
       " 'subjects_offered': 'Archaeology,Art, Performing Arts & Design,Biological Sciences,Business & Management,Chemical Engineering,Chemistry,Civil Engineering,Computer Science,Economics & Econometrics,Electrical & Electronic Engineering,General Engineering,Geography,Geology, Environmental, Earth & Marine Sciences,History, Philosophy & Theology,Languages, Literatures and Linguistics,Law,Mathematics & Statistics,Mechanical & Aerospace Engineering,Medicine & Dentistry,Physics & Astronomy,Psychology',\n",
       " 'url': '/world-university-rankings/university-oxford'}"
      ]
     },
     "execution_count": 45,
     "metadata": {},
     "output_type": "execute_result"
    }
   ],
   "source": [
    "univ_vals2 = r2.json()['data']\n",
    "univ_vals2[0]"
   ]
  },
  {
   "cell_type": "markdown",
   "metadata": {},
   "source": [
    "The json looks to have most of the needed information, the parsing will be earsier"
   ]
  },
  {
   "cell_type": "markdown",
   "metadata": {},
   "source": [
    "### Task 2.0.1 Clear rank and drop data not needed"
   ]
  },
  {
   "cell_type": "markdown",
   "metadata": {},
   "source": [
    "<div class=\"lev1\"><a href=\"#Table-of-Contents\"><span class=\"toc-item-num\"></span>Table of contents</a></div>"
   ]
  },
  {
   "cell_type": "markdown",
   "metadata": {},
   "source": [
    "Dropping all the lines that we don't need for this analysis"
   ]
  },
  {
   "cell_type": "code",
   "execution_count": 46,
   "metadata": {},
   "outputs": [
    {
     "data": {
      "text/html": [
       "<div>\n",
       "<style>\n",
       "    .dataframe thead tr:only-child th {\n",
       "        text-align: right;\n",
       "    }\n",
       "\n",
       "    .dataframe thead th {\n",
       "        text-align: left;\n",
       "    }\n",
       "\n",
       "    .dataframe tbody tr th {\n",
       "        vertical-align: top;\n",
       "    }\n",
       "</style>\n",
       "<table border=\"1\" class=\"dataframe\">\n",
       "  <thead>\n",
       "    <tr style=\"text-align: right;\">\n",
       "      <th></th>\n",
       "      <th>location</th>\n",
       "      <th>name</th>\n",
       "      <th>rank</th>\n",
       "      <th>stats_number_students</th>\n",
       "      <th>stats_student_staff_ratio</th>\n",
       "    </tr>\n",
       "  </thead>\n",
       "  <tbody>\n",
       "    <tr>\n",
       "      <th>0</th>\n",
       "      <td>United Kingdom</td>\n",
       "      <td>University of Oxford</td>\n",
       "      <td>1</td>\n",
       "      <td>20,409</td>\n",
       "      <td>11.2</td>\n",
       "    </tr>\n",
       "    <tr>\n",
       "      <th>1</th>\n",
       "      <td>United Kingdom</td>\n",
       "      <td>University of Cambridge</td>\n",
       "      <td>2</td>\n",
       "      <td>18,389</td>\n",
       "      <td>10.9</td>\n",
       "    </tr>\n",
       "    <tr>\n",
       "      <th>2</th>\n",
       "      <td>United States</td>\n",
       "      <td>California Institute of Technology</td>\n",
       "      <td>=3</td>\n",
       "      <td>2,209</td>\n",
       "      <td>6.5</td>\n",
       "    </tr>\n",
       "    <tr>\n",
       "      <th>3</th>\n",
       "      <td>United States</td>\n",
       "      <td>Stanford University</td>\n",
       "      <td>=3</td>\n",
       "      <td>15,845</td>\n",
       "      <td>7.5</td>\n",
       "    </tr>\n",
       "    <tr>\n",
       "      <th>4</th>\n",
       "      <td>United States</td>\n",
       "      <td>Massachusetts Institute of Technology</td>\n",
       "      <td>5</td>\n",
       "      <td>11,177</td>\n",
       "      <td>8.7</td>\n",
       "    </tr>\n",
       "  </tbody>\n",
       "</table>\n",
       "</div>"
      ],
      "text/plain": [
       "         location                                   name rank  \\\n",
       "0  United Kingdom                   University of Oxford    1   \n",
       "1  United Kingdom                University of Cambridge    2   \n",
       "2   United States     California Institute of Technology   =3   \n",
       "3   United States                    Stanford University   =3   \n",
       "4   United States  Massachusetts Institute of Technology    5   \n",
       "\n",
       "  stats_number_students stats_student_staff_ratio  \n",
       "0                20,409                      11.2  \n",
       "1                18,389                      10.9  \n",
       "2                 2,209                       6.5  \n",
       "3                15,845                       7.5  \n",
       "4                11,177                       8.7  "
      ]
     },
     "execution_count": 46,
     "metadata": {},
     "output_type": "execute_result"
    }
   ],
   "source": [
    "univ_df2 = pd.DataFrame(univ_vals2)\n",
    "univ_dr_df2 = univ_df2.drop('aliases', 1).drop('member_level', 1).drop('rank_order', 1).drop('record_type', 1) \\\n",
    ".drop('scores_citations', 1).drop('scores_research', 1).drop('scores_research_rank', 1).drop('scores_teaching', 1) \\\n",
    ".drop('nid', 1).drop('scores_citations_rank', 1).drop('scores_industry_income', 1).drop('scores_industry_income_rank', 1) \\\n",
    ".drop('scores_overall_rank', 1).drop('scores_international_outlook', 1).drop('scores_international_outlook_rank', 1) \\\n",
    ".drop('scores_overall', 1).drop('scores_teaching_rank', 1).drop('stats_female_male_ratio', 1) \\\n",
    ".drop('stats_pc_intl_students', 1).drop('subjects_offered', 1).drop('url', 1)\n",
    "univ_dr_df2.head()"
   ]
  },
  {
   "cell_type": "markdown",
   "metadata": {},
   "source": [
    "Number of entries in our data: "
   ]
  },
  {
   "cell_type": "code",
   "execution_count": 47,
   "metadata": {},
   "outputs": [
    {
     "data": {
      "text/plain": [
       "1102"
      ]
     },
     "execution_count": 47,
     "metadata": {},
     "output_type": "execute_result"
    }
   ],
   "source": [
    "len(univ_dr_df2.index)"
   ]
  },
  {
   "cell_type": "markdown",
   "metadata": {},
   "source": [
    "Replace rank by index+1 in case this is an invalid way to do, just ignore this cell"
   ]
  },
  {
   "cell_type": "code",
   "execution_count": 48,
   "metadata": {
    "scrolled": true
   },
   "outputs": [
    {
     "data": {
      "text/html": [
       "<div>\n",
       "<style>\n",
       "    .dataframe thead tr:only-child th {\n",
       "        text-align: right;\n",
       "    }\n",
       "\n",
       "    .dataframe thead th {\n",
       "        text-align: left;\n",
       "    }\n",
       "\n",
       "    .dataframe tbody tr th {\n",
       "        vertical-align: top;\n",
       "    }\n",
       "</style>\n",
       "<table border=\"1\" class=\"dataframe\">\n",
       "  <thead>\n",
       "    <tr style=\"text-align: right;\">\n",
       "      <th></th>\n",
       "      <th>location</th>\n",
       "      <th>name</th>\n",
       "      <th>rank</th>\n",
       "      <th>stats_number_students</th>\n",
       "      <th>stats_student_staff_ratio</th>\n",
       "    </tr>\n",
       "  </thead>\n",
       "  <tbody>\n",
       "    <tr>\n",
       "      <th>0</th>\n",
       "      <td>United Kingdom</td>\n",
       "      <td>University of Oxford</td>\n",
       "      <td>1</td>\n",
       "      <td>20,409</td>\n",
       "      <td>11.2</td>\n",
       "    </tr>\n",
       "    <tr>\n",
       "      <th>1</th>\n",
       "      <td>United Kingdom</td>\n",
       "      <td>University of Cambridge</td>\n",
       "      <td>2</td>\n",
       "      <td>18,389</td>\n",
       "      <td>10.9</td>\n",
       "    </tr>\n",
       "    <tr>\n",
       "      <th>2</th>\n",
       "      <td>United States</td>\n",
       "      <td>California Institute of Technology</td>\n",
       "      <td>3</td>\n",
       "      <td>2,209</td>\n",
       "      <td>6.5</td>\n",
       "    </tr>\n",
       "    <tr>\n",
       "      <th>3</th>\n",
       "      <td>United States</td>\n",
       "      <td>Stanford University</td>\n",
       "      <td>4</td>\n",
       "      <td>15,845</td>\n",
       "      <td>7.5</td>\n",
       "    </tr>\n",
       "    <tr>\n",
       "      <th>4</th>\n",
       "      <td>United States</td>\n",
       "      <td>Massachusetts Institute of Technology</td>\n",
       "      <td>5</td>\n",
       "      <td>11,177</td>\n",
       "      <td>8.7</td>\n",
       "    </tr>\n",
       "  </tbody>\n",
       "</table>\n",
       "</div>"
      ],
      "text/plain": [
       "         location                                   name  rank  \\\n",
       "0  United Kingdom                   University of Oxford     1   \n",
       "1  United Kingdom                University of Cambridge     2   \n",
       "2   United States     California Institute of Technology     3   \n",
       "3   United States                    Stanford University     4   \n",
       "4   United States  Massachusetts Institute of Technology     5   \n",
       "\n",
       "  stats_number_students stats_student_staff_ratio  \n",
       "0                20,409                      11.2  \n",
       "1                18,389                      10.9  \n",
       "2                 2,209                       6.5  \n",
       "3                15,845                       7.5  \n",
       "4                11,177                       8.7  "
      ]
     },
     "execution_count": 48,
     "metadata": {},
     "output_type": "execute_result"
    }
   ],
   "source": [
    "univ_dr_df2['rank'] = univ_dr_df2.index + 1\n",
    "univ_dr_df2.head()"
   ]
  },
  {
   "cell_type": "markdown",
   "metadata": {},
   "source": [
    "### Task 2.0.2 Prepare url and test soup for missing data"
   ]
  },
  {
   "cell_type": "markdown",
   "metadata": {},
   "source": [
    "<div class=\"lev1\"><a href=\"#Table-of-Contents\"><span class=\"toc-item-num\"></span>Table of contents</a></div>"
   ]
  },
  {
   "cell_type": "markdown",
   "metadata": {},
   "source": [
    "Prepare urls for request-loop"
   ]
  },
  {
   "cell_type": "code",
   "execution_count": 49,
   "metadata": {},
   "outputs": [
    {
     "data": {
      "text/plain": [
       "['http://www.timeshighereducation.com/world-university-rankings/university-oxford#wurs',\n",
       " 'http://www.timeshighereducation.com/world-university-rankings/university-cambridge#wurs',\n",
       " 'http://www.timeshighereducation.com/world-university-rankings/california-institute-technology#wurs',\n",
       " 'http://www.timeshighereducation.com/world-university-rankings/stanford-university#wurs',\n",
       " 'http://www.timeshighereducation.com/world-university-rankings/massachusetts-institute-technology#wurs']"
      ]
     },
     "execution_count": 49,
     "metadata": {},
     "output_type": "execute_result"
    }
   ],
   "source": [
    "u_urls2 = np.array(univ_df2[['url']].values)\n",
    "univ_urls2 = []\n",
    "main_url2 = 'http://www.timeshighereducation.com'\n",
    "for url_ in u_urls2:\n",
    "    url = url_[0]\n",
    "    univ_urls2.append(main_url2 + url + '#wurs')\n",
    "univ_urls2[:5]"
   ]
  },
  {
   "cell_type": "markdown",
   "metadata": {},
   "source": [
    "Retrieve the soup for the Oxford description page"
   ]
  },
  {
   "cell_type": "code",
   "execution_count": 50,
   "metadata": {
    "scrolled": false
   },
   "outputs": [
    {
     "data": {
      "text/plain": [
       "'<!DOCTYPE html PUBLIC \"-//W3C//DTD XHTML+RDFa 1.0//EN\"\\n  \"http://www.w3.org/MarkUp/DTD/xhtml-rdfa-1.dtd\">\\n<html dir=\"ltr\" lang=\"en\" xmlns:article=\"http://ogp.me/ns/article#\" xmlns:book=\"http://ogp.me/'"
      ]
     },
     "execution_count": 50,
     "metadata": {},
     "output_type": "execute_result"
    }
   ],
   "source": [
    "url_oxford = 'http://www.timeshighereducation.com/world-university-rankings/university-oxford#wurs'\n",
    "r_oxford = requests.get(url_oxford)\n",
    "soup_oxford = BeautifulSoup(r_oxford.text, 'html.parser')\n",
    "soup_oxford.prettify()[:200]"
   ]
  },
  {
   "cell_type": "markdown",
   "metadata": {},
   "source": [
    "Test if we get the same value using both methods with an entry for which we have all the values"
   ]
  },
  {
   "cell_type": "code",
   "execution_count": 51,
   "metadata": {},
   "outputs": [
    {
     "data": {
      "text/plain": [
       "0.38"
      ]
     },
     "execution_count": 51,
     "metadata": {},
     "output_type": "execute_result"
    }
   ],
   "source": [
    "oxford_values = soup_oxford.find('div', class_='panel-pane pane-data-stats') \\\n",
    ".find('div', class_='pane-content').findAll('div')\n",
    "div_idx = 0\n",
    "for i_div in range(0, len(oxford_values)):\n",
    "    curr_div = oxford_values[i_div]\n",
    "    if(curr_div.text == 'keystats pc_intl_students'):\n",
    "        div_idx = i_div\n",
    "int(oxford_values[div_idx].find('div', class_='value').text[:2])/100"
   ]
  },
  {
   "cell_type": "code",
   "execution_count": 52,
   "metadata": {},
   "outputs": [
    {
     "data": {
      "text/plain": [
       "0.38"
      ]
     },
     "execution_count": 52,
     "metadata": {},
     "output_type": "execute_result"
    }
   ],
   "source": [
    "int(oxford_values[0].text[:2])/100"
   ]
  },
  {
   "cell_type": "markdown",
   "metadata": {},
   "source": [
    "### Task 2.0.3 Prepare to retrieve data and callback funciton"
   ]
  },
  {
   "cell_type": "markdown",
   "metadata": {},
   "source": [
    "<div class=\"lev1\"><a href=\"#Table-of-Contents\"><span class=\"toc-item-num\"></span>Table of contents</a></div>"
   ]
  },
  {
   "cell_type": "markdown",
   "metadata": {},
   "source": [
    "Same methods as the one used for the first website"
   ]
  },
  {
   "cell_type": "code",
   "execution_count": 53,
   "metadata": {
    "collapsed": true
   },
   "outputs": [],
   "source": [
    "def retrieve_div_value(soup, div_name):\n",
    "    parent = soup.find('div', class_='panel-pane pane-data-stats')\n",
    "    if parent is None: \n",
    "        return 'failed'\n",
    "    child = parent.find('div', class_='pane-content')\n",
    "    if child is None:\n",
    "        return 'failed'\n",
    "    values = child.findAll('div')\n",
    "    if values is None:\n",
    "        return 'failed'\n",
    "    div_idx = 0\n",
    "    last_text = ''\n",
    "    for i_div in range(0, len(values)):\n",
    "        curr_div = values[i_div]\n",
    "        if(curr_div.text == div_name):\n",
    "            return int(last_text[:len(last_text)-1])/100\n",
    "        last_text = curr_div.text\n",
    "    return 'failed'"
   ]
  },
  {
   "cell_type": "code",
   "execution_count": 54,
   "metadata": {},
   "outputs": [
    {
     "data": {
      "text/plain": [
       "0.38"
      ]
     },
     "execution_count": 54,
     "metadata": {},
     "output_type": "execute_result"
    }
   ],
   "source": [
    "retrieve_div_value(soup_oxford, 'Percentage of International Students')"
   ]
  },
  {
   "cell_type": "code",
   "execution_count": 55,
   "metadata": {},
   "outputs": [],
   "source": [
    "#declare globals for second methods\n",
    "international_st2 = []\n",
    "num_request2 = num_request\n",
    "bad_soups2 = []\n",
    "futures2 = []\n",
    "count2 = 0\n",
    "fac2 = []"
   ]
  },
  {
   "cell_type": "code",
   "execution_count": 56,
   "metadata": {
    "collapsed": true
   },
   "outputs": [],
   "source": [
    "#helper to reset globals\n",
    "def reset_arrays2():\n",
    "    global international_st2\n",
    "    global count2\n",
    "    global bad_soups2\n",
    "    \n",
    "    international_st2 = []\n",
    "    bad_soups2 = []\n",
    "    count2 = 0\n",
    "    return 0"
   ]
  },
  {
   "cell_type": "code",
   "execution_count": 57,
   "metadata": {
    "collapsed": true
   },
   "outputs": [],
   "source": [
    "#proceeds request when completed in background:\n",
    "# extract soup, extract values\n",
    "def callback2(future):\n",
    "    r = future.result()\n",
    "    soup = BeautifulSoup(r.text, 'html.parser')\n",
    "    \n",
    "    global international_st2\n",
    "    global num_request2\n",
    "    global count2\n",
    "    global bad_soups2\n",
    "    \n",
    "    count2 = count2 + 1\n",
    "    if count2 > num_request2:\n",
    "        international_st2 = []\n",
    "        count2 = 0\n",
    "    \n",
    "    inter_st = retrieve_div_value(soup, 'Percentage of International Students')\n",
    "        \n",
    "    if inter_st == 'failed':\n",
    "        bad_soups2.append(soup)\n",
    "    international_st2.append(inter_st)"
   ]
  },
  {
   "cell_type": "markdown",
   "metadata": {},
   "source": [
    "### Task 2.0.4 Import Data"
   ]
  },
  {
   "cell_type": "markdown",
   "metadata": {},
   "source": [
    "<div class=\"lev1\"><a href=\"#Table-of-Contents\"><span class=\"toc-item-num\"></span>Table of contents</a></div>"
   ]
  },
  {
   "cell_type": "code",
   "execution_count": 58,
   "metadata": {
    "collapsed": true
   },
   "outputs": [],
   "source": [
    "#initialize session for background threads\n",
    "from requests_futures.sessions import FuturesSession\n",
    "session2 = FuturesSession()"
   ]
  },
  {
   "cell_type": "code",
   "execution_count": 59,
   "metadata": {},
   "outputs": [],
   "source": [
    "#displays a progress bar for the requests in backgrounds\n",
    "import threading\n",
    "from IPython.display import display\n",
    "import ipywidgets as widgets\n",
    "import time\n",
    "import sys\n",
    "\n",
    "def work2(progress2, num_request2):\n",
    "    global international_st2\n",
    "    while(len(international_st2) <= num_request2):\n",
    "        progress2.value = len(international_st2)/num_request2\n",
    "        \n",
    "def progress_bar2(num_request2):\n",
    "    progress2 = widgets.FloatProgress(value=0.0, min=0.0, max=1.0)\n",
    "    \n",
    "    thread2 = threading.Thread(target=work2, args=(progress2, num_request2,))\n",
    "    display(progress2)\n",
    "    thread2.start()"
   ]
  },
  {
   "cell_type": "code",
   "execution_count": 60,
   "metadata": {},
   "outputs": [],
   "source": [
    "#initiate background requests. The number of requests should be customized on the next line\n",
    "\n",
    "def load_data2(univ_urls2, num_request2):\n",
    "\n",
    "    url_slice2 = univ_urls2[:num_request2]\n",
    "    url_last_idx2 = len(url_slice2) - 1\n",
    "    reset_arrays2()\n",
    "    for i_url, url in enumerate(url_slice2):\n",
    "        # On fait notre requête GET\n",
    "        future2 = session.get(url)\n",
    "        # On rajoute le callback à appeler quand\n",
    "        # le résultat de la requête arrive.\n",
    "        if i_url != url_last_idx2:\n",
    "            futures2.append(future2)\n",
    "        future2.add_done_callback(callback2)\n",
    "        if i_url == (url_last_idx2):\n",
    "            future2.add_done_callback(play_sound_futur)"
   ]
  },
  {
   "cell_type": "code",
   "execution_count": 61,
   "metadata": {},
   "outputs": [
    {
     "data": {
      "application/vnd.jupyter.widget-view+json": {
       "model_id": "29131d0549644164b0729d6328b9f19b",
       "version_major": 2,
       "version_minor": 0
      },
      "text/plain": [
       "A Jupyter Widget"
      ]
     },
     "metadata": {},
     "output_type": "display_data"
    },
    {
     "name": "stdout",
     "output_type": "stream",
     "text": [
      "20\n"
     ]
    }
   ],
   "source": [
    "progress_bar2(num_request2)\n",
    "\n",
    "try:\n",
    "    data2 = pickle.load(open(\"save2.p\", \"rb\"))\n",
    "    international_st2 = data2[0]\n",
    "    num_request_file2 = data2[1]\n",
    "    \n",
    "    print(num_request_file2)\n",
    "    \n",
    "    if(num_request_file2 != num_request2):\n",
    "        load_data2(univ_urls2, num_request2)\n",
    "    else:\n",
    "        play_sound('smb_1-up.wav')\n",
    "        \n",
    "except (OSError, IOError) as e:\n",
    "    load_data2(univ_urls2, num_request2)"
   ]
  },
  {
   "cell_type": "code",
   "execution_count": 62,
   "metadata": {},
   "outputs": [
    {
     "data": {
      "text/plain": [
       "0"
      ]
     },
     "execution_count": 62,
     "metadata": {},
     "output_type": "execute_result"
    }
   ],
   "source": [
    "len(international_st2)"
   ]
  },
  {
   "cell_type": "code",
   "execution_count": 63,
   "metadata": {},
   "outputs": [
    {
     "data": {
      "text/plain": [
       "0"
      ]
     },
     "execution_count": 63,
     "metadata": {},
     "output_type": "execute_result"
    }
   ],
   "source": [
    "len(bad_soups2)"
   ]
  },
  {
   "cell_type": "markdown",
   "metadata": {},
   "source": [
    "### Task 2.0.5 Kill data second file"
   ]
  },
  {
   "cell_type": "markdown",
   "metadata": {},
   "source": [
    "<div class=\"lev1\"><a href=\"#Table-of-Contents\"><span class=\"toc-item-num\"></span>Table of contents</a></div>"
   ]
  },
  {
   "cell_type": "code",
   "execution_count": 64,
   "metadata": {
    "scrolled": false
   },
   "outputs": [
    {
     "data": {
      "text/plain": [
       "''"
      ]
     },
     "execution_count": 64,
     "metadata": {},
     "output_type": "execute_result"
    }
   ],
   "source": [
    "# attempts to kill waiting requests: if attempt is successful, bar doesn't move. Goal is to cancel all but last requests\n",
    "# in order to instantly play sound and complete only one request\n",
    "    \n",
    "def reset_futures2():\n",
    "    global futures2 \n",
    "    for fu in futures2:\n",
    "        # cancel request on this url\n",
    "        fu.cancel()\n",
    "        #print(\"dead\")\n",
    "    futures2 = []    \n",
    "    return 0\n",
    "\n",
    "#Last try it seemed to work. We reset arrays twice since the canceling of\n",
    "#asynchronous requests is asynchronous, the reset might happen before all requests are canceled\n",
    "#and some requests might finish in the meantime (after reset)\n",
    ";"
   ]
  },
  {
   "cell_type": "code",
   "execution_count": 65,
   "metadata": {},
   "outputs": [
    {
     "data": {
      "text/plain": [
       "0"
      ]
     },
     "execution_count": 65,
     "metadata": {},
     "output_type": "execute_result"
    }
   ],
   "source": [
    "#bad_soups contains all the soups from which we were unable to scrap data. \n",
    "#After requests are finished, the block should compile to 0\n",
    "len(bad_soups2)"
   ]
  },
  {
   "cell_type": "markdown",
   "metadata": {},
   "source": [
    "### Task 2.0.6 Store data and continue compilation"
   ]
  },
  {
   "cell_type": "markdown",
   "metadata": {},
   "source": [
    "<div class=\"lev1\"><a href=\"#Table-of-Contents\"><span class=\"toc-item-num\"></span>Table of contents</a></div>"
   ]
  },
  {
   "cell_type": "code",
   "execution_count": 83,
   "metadata": {
    "collapsed": true
   },
   "outputs": [],
   "source": [
    "# this is to store the data if we don't have the file save.p and reset the futurs after loading\n",
    "\n",
    "def store_data2():\n",
    "    global international_st2\n",
    "    global num_request2\n",
    "    \n",
    "    data = [international_st2, num_request]\n",
    "    pickle.dump(data, open(\"save2.p\", \"wb\"))\n",
    "    reset_futures2()\n",
    "    \n",
    "    \n",
    "# you can delete the file but you have to uncomment this part to save the data in the file\n",
    "\n",
    "store_data2() # decoment here after the Zelda sound and recomment don't need to store data everytime"
   ]
  },
  {
   "cell_type": "code",
   "execution_count": 67,
   "metadata": {},
   "outputs": [
    {
     "data": {
      "text/html": [
       "<div>\n",
       "<style>\n",
       "    .dataframe thead tr:only-child th {\n",
       "        text-align: right;\n",
       "    }\n",
       "\n",
       "    .dataframe thead th {\n",
       "        text-align: left;\n",
       "    }\n",
       "\n",
       "    .dataframe tbody tr th {\n",
       "        vertical-align: top;\n",
       "    }\n",
       "</style>\n",
       "<table border=\"1\" class=\"dataframe\">\n",
       "  <thead>\n",
       "    <tr style=\"text-align: right;\">\n",
       "      <th></th>\n",
       "      <th>inter_st_ratio</th>\n",
       "    </tr>\n",
       "  </thead>\n",
       "  <tbody>\n",
       "  </tbody>\n",
       "</table>\n",
       "</div>"
      ],
      "text/plain": [
       "Empty DataFrame\n",
       "Columns: [inter_st_ratio]\n",
       "Index: []"
      ]
     },
     "execution_count": 67,
     "metadata": {},
     "output_type": "execute_result"
    }
   ],
   "source": [
    "#construct dataframe from individual pages'info\n",
    "missing_df2 = pd.DataFrame(data= [international_st2],index = ['inter_st_ratio']).transpose()\n",
    "missing_df2.head()"
   ]
  },
  {
   "cell_type": "markdown",
   "metadata": {},
   "source": [
    "merge the two daframes to have all infos needed and parse the value in numeric:"
   ]
  },
  {
   "cell_type": "code",
   "execution_count": 68,
   "metadata": {},
   "outputs": [
    {
     "data": {
      "text/html": [
       "<div>\n",
       "<style>\n",
       "    .dataframe thead tr:only-child th {\n",
       "        text-align: right;\n",
       "    }\n",
       "\n",
       "    .dataframe thead th {\n",
       "        text-align: left;\n",
       "    }\n",
       "\n",
       "    .dataframe tbody tr th {\n",
       "        vertical-align: top;\n",
       "    }\n",
       "</style>\n",
       "<table border=\"1\" class=\"dataframe\">\n",
       "  <thead>\n",
       "    <tr style=\"text-align: right;\">\n",
       "      <th></th>\n",
       "      <th>rank</th>\n",
       "      <th>location</th>\n",
       "      <th>name</th>\n",
       "      <th>stats_number_students</th>\n",
       "      <th>stats_student_staff_ratio</th>\n",
       "      <th>inter_st_ratio</th>\n",
       "    </tr>\n",
       "  </thead>\n",
       "  <tbody>\n",
       "    <tr>\n",
       "      <th>0</th>\n",
       "      <td>1</td>\n",
       "      <td>United Kingdom</td>\n",
       "      <td>University of Oxford</td>\n",
       "      <td>20409</td>\n",
       "      <td>11.2</td>\n",
       "      <td>NaN</td>\n",
       "    </tr>\n",
       "    <tr>\n",
       "      <th>1</th>\n",
       "      <td>2</td>\n",
       "      <td>United Kingdom</td>\n",
       "      <td>University of Cambridge</td>\n",
       "      <td>18389</td>\n",
       "      <td>10.9</td>\n",
       "      <td>NaN</td>\n",
       "    </tr>\n",
       "    <tr>\n",
       "      <th>2</th>\n",
       "      <td>3</td>\n",
       "      <td>United States</td>\n",
       "      <td>California Institute of Technology</td>\n",
       "      <td>2209</td>\n",
       "      <td>6.5</td>\n",
       "      <td>NaN</td>\n",
       "    </tr>\n",
       "    <tr>\n",
       "      <th>3</th>\n",
       "      <td>4</td>\n",
       "      <td>United States</td>\n",
       "      <td>Stanford University</td>\n",
       "      <td>15845</td>\n",
       "      <td>7.5</td>\n",
       "      <td>NaN</td>\n",
       "    </tr>\n",
       "    <tr>\n",
       "      <th>4</th>\n",
       "      <td>5</td>\n",
       "      <td>United States</td>\n",
       "      <td>Massachusetts Institute of Technology</td>\n",
       "      <td>11177</td>\n",
       "      <td>8.7</td>\n",
       "      <td>NaN</td>\n",
       "    </tr>\n",
       "  </tbody>\n",
       "</table>\n",
       "</div>"
      ],
      "text/plain": [
       "   rank        location                                   name  \\\n",
       "0     1  United Kingdom                   University of Oxford   \n",
       "1     2  United Kingdom                University of Cambridge   \n",
       "2     3   United States     California Institute of Technology   \n",
       "3     4   United States                    Stanford University   \n",
       "4     5   United States  Massachusetts Institute of Technology   \n",
       "\n",
       "   stats_number_students  stats_student_staff_ratio  inter_st_ratio  \n",
       "0                  20409                       11.2             NaN  \n",
       "1                  18389                       10.9             NaN  \n",
       "2                   2209                        6.5             NaN  \n",
       "3                  15845                        7.5             NaN  \n",
       "4                  11177                        8.7             NaN  "
      ]
     },
     "execution_count": 68,
     "metadata": {},
     "output_type": "execute_result"
    }
   ],
   "source": [
    "univ_tot_df2 = pd.concat([univ_dr_df2, missing_df2], axis = 1)\n",
    "univ_rk_df2 = univ_tot_df2.set_index(['rank'])\n",
    "univ_rk_df2[['stats_number_students']] = univ_rk_df2[['stats_number_students']].applymap(lambda x: x.replace(',',''))\n",
    "univ_rk_df2['stats_number_students'] = pd.to_numeric(univ_rk_df2['stats_number_students'])\n",
    "univ_rk_df2['stats_student_staff_ratio'] = pd.to_numeric(univ_rk_df2['stats_student_staff_ratio'])\n",
    "univ_tot_df2 = univ_rk_df2.reset_index()\n",
    "univ_tot_df2.head()"
   ]
  },
  {
   "cell_type": "markdown",
   "metadata": {},
   "source": [
    "For the regions, we have a problem because they are neither given in the data and neither in the url. \n",
    "So we think that it's better to add a col and take the ragion from the first url www.topuniversities.com,\n",
    "if they exist"
   ]
  },
  {
   "cell_type": "markdown",
   "metadata": {},
   "source": [
    "### Task 2.1\n",
    "\n",
    "Which are the best universities in term of: (a) ratio between faculty members and students, (b) ratio of international students?, (c) country, (d) region"
   ]
  },
  {
   "cell_type": "markdown",
   "metadata": {
    "collapsed": true
   },
   "source": [
    "<div class=\"lev1\"><a href=\"#Table-of-Contents\"><span class=\"toc-item-num\"></span>Table of contents</a></div>"
   ]
  },
  {
   "cell_type": "code",
   "execution_count": 69,
   "metadata": {
    "collapsed": true
   },
   "outputs": [],
   "source": [
    "#Same function for Task 1.1 to retreive and form the Dataframe that we need\n",
    "def sortby_col_rank2(df, col):\n",
    "    univ_col = df.set_index([col, 'rank'])\n",
    "    univ_col.sort_index(level=[col, 'rank'], ascending=[1, 1], inplace=True)\n",
    "    return univ_col"
   ]
  },
  {
   "cell_type": "markdown",
   "metadata": {},
   "source": [
    "(a) ratio between faculty members and students"
   ]
  },
  {
   "cell_type": "code",
   "execution_count": 70,
   "metadata": {},
   "outputs": [
    {
     "data": {
      "text/html": [
       "<div>\n",
       "<style>\n",
       "    .dataframe thead tr:only-child th {\n",
       "        text-align: right;\n",
       "    }\n",
       "\n",
       "    .dataframe thead th {\n",
       "        text-align: left;\n",
       "    }\n",
       "\n",
       "    .dataframe tbody tr th {\n",
       "        vertical-align: top;\n",
       "    }\n",
       "</style>\n",
       "<table border=\"1\" class=\"dataframe\">\n",
       "  <thead>\n",
       "    <tr style=\"text-align: right;\">\n",
       "      <th></th>\n",
       "      <th>rank</th>\n",
       "      <th>location</th>\n",
       "      <th>name</th>\n",
       "      <th>stats_number_students</th>\n",
       "      <th>stats_student_staff_ratio</th>\n",
       "      <th>inter_st_ratio</th>\n",
       "    </tr>\n",
       "  </thead>\n",
       "  <tbody>\n",
       "    <tr>\n",
       "      <th>1003</th>\n",
       "      <td>1004</td>\n",
       "      <td>Turkey</td>\n",
       "      <td>Anadolu University</td>\n",
       "      <td>1824383</td>\n",
       "      <td>864.6</td>\n",
       "      <td>NaN</td>\n",
       "    </tr>\n",
       "    <tr>\n",
       "      <th>340</th>\n",
       "      <td>341</td>\n",
       "      <td>Germany</td>\n",
       "      <td>Technical University of Dortmund</td>\n",
       "      <td>32870</td>\n",
       "      <td>99.6</td>\n",
       "      <td>NaN</td>\n",
       "    </tr>\n",
       "    <tr>\n",
       "      <th>962</th>\n",
       "      <td>963</td>\n",
       "      <td>South Africa</td>\n",
       "      <td>University of South Africa</td>\n",
       "      <td>184432</td>\n",
       "      <td>89.6</td>\n",
       "      <td>NaN</td>\n",
       "    </tr>\n",
       "    <tr>\n",
       "      <th>99</th>\n",
       "      <td>100</td>\n",
       "      <td>Germany</td>\n",
       "      <td>University of Bonn</td>\n",
       "      <td>35619</td>\n",
       "      <td>77.9</td>\n",
       "      <td>NaN</td>\n",
       "    </tr>\n",
       "    <tr>\n",
       "      <th>230</th>\n",
       "      <td>231</td>\n",
       "      <td>Germany</td>\n",
       "      <td>University of Passau</td>\n",
       "      <td>11804</td>\n",
       "      <td>74.8</td>\n",
       "      <td>NaN</td>\n",
       "    </tr>\n",
       "  </tbody>\n",
       "</table>\n",
       "</div>"
      ],
      "text/plain": [
       "      rank      location                              name  \\\n",
       "1003  1004        Turkey                Anadolu University   \n",
       "340    341       Germany  Technical University of Dortmund   \n",
       "962    963  South Africa        University of South Africa   \n",
       "99     100       Germany                University of Bonn   \n",
       "230    231       Germany              University of Passau   \n",
       "\n",
       "      stats_number_students  stats_student_staff_ratio  inter_st_ratio  \n",
       "1003                1824383                      864.6             NaN  \n",
       "340                   32870                       99.6             NaN  \n",
       "962                  184432                       89.6             NaN  \n",
       "99                    35619                       77.9             NaN  \n",
       "230                   11804                       74.8             NaN  "
      ]
     },
     "execution_count": 70,
     "metadata": {},
     "output_type": "execute_result"
    }
   ],
   "source": [
    "univ_tot_df2.sort_values(['stats_student_staff_ratio'], ascending = 0).head()"
   ]
  },
  {
   "cell_type": "markdown",
   "metadata": {},
   "source": [
    "(b) ratio of international students?"
   ]
  },
  {
   "cell_type": "code",
   "execution_count": 71,
   "metadata": {},
   "outputs": [
    {
     "data": {
      "text/html": [
       "<div>\n",
       "<style>\n",
       "    .dataframe thead tr:only-child th {\n",
       "        text-align: right;\n",
       "    }\n",
       "\n",
       "    .dataframe thead th {\n",
       "        text-align: left;\n",
       "    }\n",
       "\n",
       "    .dataframe tbody tr th {\n",
       "        vertical-align: top;\n",
       "    }\n",
       "</style>\n",
       "<table border=\"1\" class=\"dataframe\">\n",
       "  <thead>\n",
       "    <tr style=\"text-align: right;\">\n",
       "      <th></th>\n",
       "      <th>rank</th>\n",
       "      <th>location</th>\n",
       "      <th>name</th>\n",
       "      <th>stats_number_students</th>\n",
       "      <th>stats_student_staff_ratio</th>\n",
       "      <th>inter_st_ratio</th>\n",
       "    </tr>\n",
       "  </thead>\n",
       "  <tbody>\n",
       "    <tr>\n",
       "      <th>0</th>\n",
       "      <td>1</td>\n",
       "      <td>United Kingdom</td>\n",
       "      <td>University of Oxford</td>\n",
       "      <td>20409</td>\n",
       "      <td>11.2</td>\n",
       "      <td>NaN</td>\n",
       "    </tr>\n",
       "    <tr>\n",
       "      <th>1</th>\n",
       "      <td>2</td>\n",
       "      <td>United Kingdom</td>\n",
       "      <td>University of Cambridge</td>\n",
       "      <td>18389</td>\n",
       "      <td>10.9</td>\n",
       "      <td>NaN</td>\n",
       "    </tr>\n",
       "    <tr>\n",
       "      <th>2</th>\n",
       "      <td>3</td>\n",
       "      <td>United States</td>\n",
       "      <td>California Institute of Technology</td>\n",
       "      <td>2209</td>\n",
       "      <td>6.5</td>\n",
       "      <td>NaN</td>\n",
       "    </tr>\n",
       "    <tr>\n",
       "      <th>3</th>\n",
       "      <td>4</td>\n",
       "      <td>United States</td>\n",
       "      <td>Stanford University</td>\n",
       "      <td>15845</td>\n",
       "      <td>7.5</td>\n",
       "      <td>NaN</td>\n",
       "    </tr>\n",
       "    <tr>\n",
       "      <th>4</th>\n",
       "      <td>5</td>\n",
       "      <td>United States</td>\n",
       "      <td>Massachusetts Institute of Technology</td>\n",
       "      <td>11177</td>\n",
       "      <td>8.7</td>\n",
       "      <td>NaN</td>\n",
       "    </tr>\n",
       "  </tbody>\n",
       "</table>\n",
       "</div>"
      ],
      "text/plain": [
       "   rank        location                                   name  \\\n",
       "0     1  United Kingdom                   University of Oxford   \n",
       "1     2  United Kingdom                University of Cambridge   \n",
       "2     3   United States     California Institute of Technology   \n",
       "3     4   United States                    Stanford University   \n",
       "4     5   United States  Massachusetts Institute of Technology   \n",
       "\n",
       "   stats_number_students  stats_student_staff_ratio  inter_st_ratio  \n",
       "0                  20409                       11.2             NaN  \n",
       "1                  18389                       10.9             NaN  \n",
       "2                   2209                        6.5             NaN  \n",
       "3                  15845                        7.5             NaN  \n",
       "4                  11177                        8.7             NaN  "
      ]
     },
     "execution_count": 71,
     "metadata": {},
     "output_type": "execute_result"
    }
   ],
   "source": [
    "univ_tot_df2.sort_values(['inter_st_ratio'], ascending = 0).head()"
   ]
  },
  {
   "cell_type": "markdown",
   "metadata": {},
   "source": [
    "(c) country"
   ]
  },
  {
   "cell_type": "code",
   "execution_count": 72,
   "metadata": {},
   "outputs": [
    {
     "data": {
      "text/html": [
       "<div>\n",
       "<style>\n",
       "    .dataframe thead tr:only-child th {\n",
       "        text-align: right;\n",
       "    }\n",
       "\n",
       "    .dataframe thead th {\n",
       "        text-align: left;\n",
       "    }\n",
       "\n",
       "    .dataframe tbody tr th {\n",
       "        vertical-align: top;\n",
       "    }\n",
       "</style>\n",
       "<table border=\"1\" class=\"dataframe\">\n",
       "  <thead>\n",
       "    <tr style=\"text-align: right;\">\n",
       "      <th></th>\n",
       "      <th></th>\n",
       "      <th>name</th>\n",
       "      <th>stats_number_students</th>\n",
       "      <th>stats_student_staff_ratio</th>\n",
       "      <th>inter_st_ratio</th>\n",
       "    </tr>\n",
       "    <tr>\n",
       "      <th>location</th>\n",
       "      <th>rank</th>\n",
       "      <th></th>\n",
       "      <th></th>\n",
       "      <th></th>\n",
       "      <th></th>\n",
       "    </tr>\n",
       "  </thead>\n",
       "  <tbody>\n",
       "    <tr>\n",
       "      <th>Algeria</th>\n",
       "      <th>977</th>\n",
       "      <td>University of Tlemcen</td>\n",
       "      <td>42407</td>\n",
       "      <td>23.8</td>\n",
       "      <td>NaN</td>\n",
       "    </tr>\n",
       "    <tr>\n",
       "      <th>Argentina</th>\n",
       "      <th>915</th>\n",
       "      <td>National University of Córdoba</td>\n",
       "      <td>87926</td>\n",
       "      <td>22.3</td>\n",
       "      <td>NaN</td>\n",
       "    </tr>\n",
       "    <tr>\n",
       "      <th rowspan=\"3\" valign=\"top\">Australia</th>\n",
       "      <th>32</th>\n",
       "      <td>University of Melbourne</td>\n",
       "      <td>42116</td>\n",
       "      <td>26.6</td>\n",
       "      <td>NaN</td>\n",
       "    </tr>\n",
       "    <tr>\n",
       "      <th>48</th>\n",
       "      <td>Australian National University</td>\n",
       "      <td>15986</td>\n",
       "      <td>19.3</td>\n",
       "      <td>NaN</td>\n",
       "    </tr>\n",
       "    <tr>\n",
       "      <th>61</th>\n",
       "      <td>University of Sydney</td>\n",
       "      <td>44553</td>\n",
       "      <td>21.6</td>\n",
       "      <td>NaN</td>\n",
       "    </tr>\n",
       "  </tbody>\n",
       "</table>\n",
       "</div>"
      ],
      "text/plain": [
       "                                          name  stats_number_students  \\\n",
       "location  rank                                                          \n",
       "Algeria   977            University of Tlemcen                  42407   \n",
       "Argentina 915   National University of Córdoba                  87926   \n",
       "Australia 32           University of Melbourne                  42116   \n",
       "          48    Australian National University                  15986   \n",
       "          61              University of Sydney                  44553   \n",
       "\n",
       "                stats_student_staff_ratio  inter_st_ratio  \n",
       "location  rank                                             \n",
       "Algeria   977                        23.8             NaN  \n",
       "Argentina 915                        22.3             NaN  \n",
       "Australia 32                         26.6             NaN  \n",
       "          48                         19.3             NaN  \n",
       "          61                         21.6             NaN  "
      ]
     },
     "execution_count": 72,
     "metadata": {},
     "output_type": "execute_result"
    }
   ],
   "source": [
    "country_df2 = sortby_col_rank2(univ_tot_df2, 'location')\n",
    "#us_univ2 = country_df.loc['United States']\n",
    "#us_univ.head(5)\n",
    "country_df2.head()"
   ]
  },
  {
   "cell_type": "markdown",
   "metadata": {},
   "source": [
    "(d) region"
   ]
  },
  {
   "cell_type": "code",
   "execution_count": 73,
   "metadata": {
    "scrolled": true
   },
   "outputs": [],
   "source": [
    "# We saw that we don't have the region. So we will first do the 3.1 (Merging) and then do this question juste after:\n",
    "# If you want to see it directly click ok the link on the bottom"
   ]
  },
  {
   "cell_type": "markdown",
   "metadata": {},
   "source": [
    "<p>\n",
    "<div class=\"lev1\"><a href=\"#Task-2.1.d-Region\"><span class=\"toc-item-num\">Task 2.1.d&nbsp;&nbsp;</span> Region</a></div>\n",
    " \n",
    "</p>"
   ]
  },
  {
   "cell_type": "markdown",
   "metadata": {},
   "source": [
    "### Task 3.0 Prepare for merge"
   ]
  },
  {
   "cell_type": "markdown",
   "metadata": {},
   "source": [
    "<div class=\"lev1\"><a href=\"#Table-of-Contents\"><span class=\"toc-item-num\"></span>Table of contents</a></div>"
   ]
  },
  {
   "cell_type": "code",
   "execution_count": 74,
   "metadata": {
    "collapsed": true
   },
   "outputs": [],
   "source": [
    "def remove_by(s):\n",
    "    idx = s.find('(')\n",
    "    if(idx == -1):\n",
    "        return s\n",
    "    elif(s[idx - 1] == ' '):\n",
    "        return s[:idx-1]\n",
    "    else:\n",
    "        return s[:idx]"
   ]
  },
  {
   "cell_type": "code",
   "execution_count": 75,
   "metadata": {},
   "outputs": [
    {
     "data": {
      "text/plain": [
       "'Massachusetts Institute of Technology'"
      ]
     },
     "execution_count": 75,
     "metadata": {},
     "output_type": "execute_result"
    }
   ],
   "source": [
    "remove_by('Massachusetts Institute of Technology (MIT)')"
   ]
  },
  {
   "cell_type": "code",
   "execution_count": 76,
   "metadata": {},
   "outputs": [
    {
     "data": {
      "text/html": [
       "<div>\n",
       "<style>\n",
       "    .dataframe thead tr:only-child th {\n",
       "        text-align: right;\n",
       "    }\n",
       "\n",
       "    .dataframe thead th {\n",
       "        text-align: left;\n",
       "    }\n",
       "\n",
       "    .dataframe tbody tr th {\n",
       "        vertical-align: top;\n",
       "    }\n",
       "</style>\n",
       "<table border=\"1\" class=\"dataframe\">\n",
       "  <thead>\n",
       "    <tr style=\"text-align: right;\">\n",
       "      <th></th>\n",
       "      <th>rank2</th>\n",
       "      <th>country2</th>\n",
       "      <th>name</th>\n",
       "      <th>students2</th>\n",
       "      <th>stu_fac_ratio2</th>\n",
       "      <th>inter_st_ratio</th>\n",
       "    </tr>\n",
       "  </thead>\n",
       "  <tbody>\n",
       "    <tr>\n",
       "      <th>0</th>\n",
       "      <td>1</td>\n",
       "      <td>United Kingdom</td>\n",
       "      <td>University of Oxford</td>\n",
       "      <td>20409</td>\n",
       "      <td>11.2</td>\n",
       "      <td>NaN</td>\n",
       "    </tr>\n",
       "    <tr>\n",
       "      <th>1</th>\n",
       "      <td>2</td>\n",
       "      <td>United Kingdom</td>\n",
       "      <td>University of Cambridge</td>\n",
       "      <td>18389</td>\n",
       "      <td>10.9</td>\n",
       "      <td>NaN</td>\n",
       "    </tr>\n",
       "    <tr>\n",
       "      <th>2</th>\n",
       "      <td>3</td>\n",
       "      <td>United States</td>\n",
       "      <td>California Institute of Technology</td>\n",
       "      <td>2209</td>\n",
       "      <td>6.5</td>\n",
       "      <td>NaN</td>\n",
       "    </tr>\n",
       "    <tr>\n",
       "      <th>3</th>\n",
       "      <td>4</td>\n",
       "      <td>United States</td>\n",
       "      <td>Stanford University</td>\n",
       "      <td>15845</td>\n",
       "      <td>7.5</td>\n",
       "      <td>NaN</td>\n",
       "    </tr>\n",
       "    <tr>\n",
       "      <th>4</th>\n",
       "      <td>5</td>\n",
       "      <td>United States</td>\n",
       "      <td>Massachusetts Institute of Technology</td>\n",
       "      <td>11177</td>\n",
       "      <td>8.7</td>\n",
       "      <td>NaN</td>\n",
       "    </tr>\n",
       "  </tbody>\n",
       "</table>\n",
       "</div>"
      ],
      "text/plain": [
       "   rank2        country2                                   name  students2  \\\n",
       "0      1  United Kingdom                   University of Oxford      20409   \n",
       "1      2  United Kingdom                University of Cambridge      18389   \n",
       "2      3   United States     California Institute of Technology       2209   \n",
       "3      4   United States                    Stanford University      15845   \n",
       "4      5   United States  Massachusetts Institute of Technology      11177   \n",
       "\n",
       "   stu_fac_ratio2  inter_st_ratio  \n",
       "0            11.2             NaN  \n",
       "1            10.9             NaN  \n",
       "2             6.5             NaN  \n",
       "3             7.5             NaN  \n",
       "4             8.7             NaN  "
      ]
     },
     "execution_count": 76,
     "metadata": {},
     "output_type": "execute_result"
    }
   ],
   "source": [
    "df_pre_merge = univ_tot_df[:201].copy()\n",
    "df_pre_merge2 = univ_tot_df2[:201].copy()\n",
    "\n",
    "df_pre_merge.columns = ['country1', 'rank1', 'region1', 'name', 'inter_st1', 'students1', 'inter_fac1', 'fac1']\n",
    "df_pre_merge2.columns = ['rank2', 'country2', 'name', 'students2', 'stu_fac_ratio2', 'inter_st_ratio']\n",
    "df_pre_merge[['name']].applymap(remove_by)\n",
    "df_pre_merge2[['name']].applymap(remove_by)\n",
    "df_pre_merge2.head(5)"
   ]
  },
  {
   "cell_type": "markdown",
   "metadata": {},
   "source": [
    "### Task 3.1 Merge"
   ]
  },
  {
   "cell_type": "markdown",
   "metadata": {},
   "source": [
    "<div class=\"lev1\"><a href=\"#Table-of-Contents\"><span class=\"toc-item-num\"></span>Table of contents</a></div>"
   ]
  },
  {
   "cell_type": "code",
   "execution_count": 77,
   "metadata": {},
   "outputs": [
    {
     "data": {
      "text/html": [
       "<div>\n",
       "<style>\n",
       "    .dataframe thead tr:only-child th {\n",
       "        text-align: right;\n",
       "    }\n",
       "\n",
       "    .dataframe thead th {\n",
       "        text-align: left;\n",
       "    }\n",
       "\n",
       "    .dataframe tbody tr th {\n",
       "        vertical-align: top;\n",
       "    }\n",
       "</style>\n",
       "<table border=\"1\" class=\"dataframe\">\n",
       "  <thead>\n",
       "    <tr style=\"text-align: right;\">\n",
       "      <th></th>\n",
       "      <th>country1</th>\n",
       "      <th>rank1</th>\n",
       "      <th>region1</th>\n",
       "      <th>name</th>\n",
       "      <th>inter_st1</th>\n",
       "      <th>students1</th>\n",
       "      <th>inter_fac1</th>\n",
       "      <th>fac1</th>\n",
       "      <th>rank2</th>\n",
       "      <th>stu_fac_ratio2</th>\n",
       "      <th>inter_st_ratio</th>\n",
       "    </tr>\n",
       "  </thead>\n",
       "  <tbody>\n",
       "    <tr>\n",
       "      <th>0</th>\n",
       "      <td>United States</td>\n",
       "      <td>2</td>\n",
       "      <td>North America</td>\n",
       "      <td>Stanford University</td>\n",
       "      <td>3717.0</td>\n",
       "      <td>11067.0</td>\n",
       "      <td>1679.0</td>\n",
       "      <td>2982.0</td>\n",
       "      <td>4</td>\n",
       "      <td>7.5</td>\n",
       "      <td>NaN</td>\n",
       "    </tr>\n",
       "    <tr>\n",
       "      <th>1</th>\n",
       "      <td>United States</td>\n",
       "      <td>3</td>\n",
       "      <td>North America</td>\n",
       "      <td>Harvard University</td>\n",
       "      <td>5266.0</td>\n",
       "      <td>22429.0</td>\n",
       "      <td>1311.0</td>\n",
       "      <td>4350.0</td>\n",
       "      <td>6</td>\n",
       "      <td>8.9</td>\n",
       "      <td>NaN</td>\n",
       "    </tr>\n",
       "    <tr>\n",
       "      <th>2</th>\n",
       "      <td>United Kingdom</td>\n",
       "      <td>5</td>\n",
       "      <td>Europe</td>\n",
       "      <td>University of Cambridge</td>\n",
       "      <td>NaN</td>\n",
       "      <td>NaN</td>\n",
       "      <td>NaN</td>\n",
       "      <td>NaN</td>\n",
       "      <td>2</td>\n",
       "      <td>10.9</td>\n",
       "      <td>NaN</td>\n",
       "    </tr>\n",
       "    <tr>\n",
       "      <th>3</th>\n",
       "      <td>United Kingdom</td>\n",
       "      <td>6</td>\n",
       "      <td>Europe</td>\n",
       "      <td>University of Oxford</td>\n",
       "      <td>NaN</td>\n",
       "      <td>NaN</td>\n",
       "      <td>NaN</td>\n",
       "      <td>NaN</td>\n",
       "      <td>1</td>\n",
       "      <td>11.2</td>\n",
       "      <td>NaN</td>\n",
       "    </tr>\n",
       "    <tr>\n",
       "      <th>4</th>\n",
       "      <td>United Kingdom</td>\n",
       "      <td>8</td>\n",
       "      <td>Europe</td>\n",
       "      <td>Imperial College London</td>\n",
       "      <td>NaN</td>\n",
       "      <td>NaN</td>\n",
       "      <td>NaN</td>\n",
       "      <td>NaN</td>\n",
       "      <td>8</td>\n",
       "      <td>11.4</td>\n",
       "      <td>NaN</td>\n",
       "    </tr>\n",
       "  </tbody>\n",
       "</table>\n",
       "</div>"
      ],
      "text/plain": [
       "         country1  rank1        region1                     name  inter_st1  \\\n",
       "0   United States      2  North America      Stanford University     3717.0   \n",
       "1   United States      3  North America       Harvard University     5266.0   \n",
       "2  United Kingdom      5         Europe  University of Cambridge        NaN   \n",
       "3  United Kingdom      6         Europe     University of Oxford        NaN   \n",
       "4  United Kingdom      8         Europe  Imperial College London        NaN   \n",
       "\n",
       "   students1  inter_fac1    fac1  rank2  stu_fac_ratio2  inter_st_ratio  \n",
       "0    11067.0      1679.0  2982.0      4             7.5             NaN  \n",
       "1    22429.0      1311.0  4350.0      6             8.9             NaN  \n",
       "2        NaN         NaN     NaN      2            10.9             NaN  \n",
       "3        NaN         NaN     NaN      1            11.2             NaN  \n",
       "4        NaN         NaN     NaN      8            11.4             NaN  "
      ]
     },
     "execution_count": 77,
     "metadata": {},
     "output_type": "execute_result"
    }
   ],
   "source": [
    "df_merged = df_pre_merge.merge(df_pre_merge2, how='inner', on = 'name')\n",
    "new_column_order = ['name', 'region1', 'rank1', 'rank2', 'country1', 'students1', 'inter_st1', 'fac1', 'inter_fac1',\n",
    "                   'stu_fac_ratio2', 'inter_st_ratio']\n",
    "df_merged2 = df_merged.drop('country2', axis=1).drop('students2', axis=1)\n",
    "df_merged2.reindex(columns = new_column_order)\n",
    "df_merged2.head(5)"
   ]
  },
  {
   "cell_type": "markdown",
   "metadata": {},
   "source": [
    "### Task 2.1.d Region\n",
    "\n",
    "now we can do this task because we finaly have the regions"
   ]
  },
  {
   "cell_type": "markdown",
   "metadata": {},
   "source": [
    "<div class=\"lev1\"><a href=\"#Table-of-Contents\"><span class=\"toc-item-num\"></span>Table of contents</a></div>"
   ]
  },
  {
   "cell_type": "code",
   "execution_count": 78,
   "metadata": {},
   "outputs": [
    {
     "data": {
      "text/html": [
       "<div>\n",
       "<style>\n",
       "    .dataframe thead tr:only-child th {\n",
       "        text-align: right;\n",
       "    }\n",
       "\n",
       "    .dataframe thead th {\n",
       "        text-align: left;\n",
       "    }\n",
       "\n",
       "    .dataframe tbody tr th {\n",
       "        vertical-align: top;\n",
       "    }\n",
       "</style>\n",
       "<table border=\"1\" class=\"dataframe\">\n",
       "  <thead>\n",
       "    <tr style=\"text-align: right;\">\n",
       "      <th></th>\n",
       "      <th></th>\n",
       "      <th>name</th>\n",
       "      <th>country</th>\n",
       "      <th>students</th>\n",
       "      <th>stu_fac_ratio</th>\n",
       "      <th>inter_st_ratio</th>\n",
       "    </tr>\n",
       "    <tr>\n",
       "      <th>region1</th>\n",
       "      <th>rank</th>\n",
       "      <th></th>\n",
       "      <th></th>\n",
       "      <th></th>\n",
       "      <th></th>\n",
       "      <th></th>\n",
       "    </tr>\n",
       "  </thead>\n",
       "  <tbody>\n",
       "    <tr>\n",
       "      <th>Africa</th>\n",
       "      <th>171</th>\n",
       "      <td>University of Cape Town</td>\n",
       "      <td>South Africa</td>\n",
       "      <td>20775</td>\n",
       "      <td>11.7</td>\n",
       "      <td>NaN</td>\n",
       "    </tr>\n",
       "    <tr>\n",
       "      <th rowspan=\"4\" valign=\"top\">Asia</th>\n",
       "      <th>29</th>\n",
       "      <td>Peking University</td>\n",
       "      <td>China</td>\n",
       "      <td>42136</td>\n",
       "      <td>8.9</td>\n",
       "      <td>NaN</td>\n",
       "    </tr>\n",
       "    <tr>\n",
       "      <th>30</th>\n",
       "      <td>Tsinghua University</td>\n",
       "      <td>China</td>\n",
       "      <td>42089</td>\n",
       "      <td>13.7</td>\n",
       "      <td>NaN</td>\n",
       "    </tr>\n",
       "    <tr>\n",
       "      <th>74</th>\n",
       "      <td>Kyoto University</td>\n",
       "      <td>Japan</td>\n",
       "      <td>22481</td>\n",
       "      <td>8.7</td>\n",
       "      <td>NaN</td>\n",
       "    </tr>\n",
       "    <tr>\n",
       "      <th>75</th>\n",
       "      <td>Seoul National University</td>\n",
       "      <td>South Korea</td>\n",
       "      <td>26470</td>\n",
       "      <td>12.6</td>\n",
       "      <td>NaN</td>\n",
       "    </tr>\n",
       "  </tbody>\n",
       "</table>\n",
       "</div>"
      ],
      "text/plain": [
       "                                   name       country  students  \\\n",
       "region1 rank                                                      \n",
       "Africa  171     University of Cape Town  South Africa     20775   \n",
       "Asia    29            Peking University         China     42136   \n",
       "        30          Tsinghua University         China     42089   \n",
       "        74             Kyoto University         Japan     22481   \n",
       "        75    Seoul National University   South Korea     26470   \n",
       "\n",
       "              stu_fac_ratio  inter_st_ratio  \n",
       "region1 rank                                 \n",
       "Africa  171            11.7             NaN  \n",
       "Asia    29              8.9             NaN  \n",
       "        30             13.7             NaN  \n",
       "        74              8.7             NaN  \n",
       "        75             12.6             NaN  "
      ]
     },
     "execution_count": 78,
     "metadata": {},
     "output_type": "execute_result"
    }
   ],
   "source": [
    "country_df2_merged = df_merged.copy()\n",
    "country_df2_merged.columns = ['country1', 'rank1', 'region1', 'name', 'inter_st1', 'students1', 'inter_fac1', 'fac1', 'rank', 'country', 'students', 'stu_fac_ratio', 'inter_st_ratio']\n",
    "\n",
    "country_df2_merged = sortby_col_rank2(country_df2_merged, 'region1')\n",
    "country_df2 = country_df2_merged.drop('country1', axis=1).drop('students1', axis=1).drop('rank1', axis=1) \\\n",
    ".drop('inter_st1', axis=1).drop('inter_fac1', axis=1).drop('fac1', axis=1)\n",
    "\n",
    "country_df2.head(5)"
   ]
  },
  {
   "cell_type": "markdown",
   "metadata": {},
   "source": [
    "if we want to return to point 3.0\n",
    "<p>\n",
    "<div class=\"lev1\"><a href=\"#Task-3.0-Prepare-for-merge\"><span class=\"toc-item-num\">Task 3.0&nbsp;&nbsp;</span>Prepare for merge</a>\n",
    "</div>\n",
    "</p>"
   ]
  },
  {
   "cell_type": "markdown",
   "metadata": {},
   "source": [
    "### Task 4"
   ]
  },
  {
   "cell_type": "markdown",
   "metadata": {},
   "source": [
    "<div class=\"lev1\"><a href=\"#Table-of-Contents\"><span class=\"toc-item-num\"></span>Table of contents</a></div>"
   ]
  },
  {
   "cell_type": "code",
   "execution_count": null,
   "metadata": {
    "collapsed": true
   },
   "outputs": [],
   "source": []
  },
  {
   "cell_type": "markdown",
   "metadata": {},
   "source": [
    "### Task 5"
   ]
  },
  {
   "cell_type": "markdown",
   "metadata": {},
   "source": [
    "<div class=\"lev1\"><a href=\"#Table-of-Contents\"><span class=\"toc-item-num\"></span>Table of contents</a></div>"
   ]
  },
  {
   "cell_type": "code",
   "execution_count": null,
   "metadata": {
    "collapsed": true
   },
   "outputs": [],
   "source": []
  }
 ],
 "metadata": {
  "kernelspec": {
   "display_name": "Python 3",
   "language": "python",
   "name": "python3"
  },
  "language_info": {
   "codemirror_mode": {
    "name": "ipython",
    "version": 3
   },
   "file_extension": ".py",
   "mimetype": "text/x-python",
   "name": "python",
   "nbconvert_exporter": "python",
   "pygments_lexer": "ipython3",
   "version": "3.6.2"
  }
 },
 "nbformat": 4,
 "nbformat_minor": 2
}
