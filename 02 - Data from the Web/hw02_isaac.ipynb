{
 "cells": [
  {
   "cell_type": "markdown",
   "metadata": {
    "collapsed": true
   },
   "source": [
    "# 02 - Data from the Web"
   ]
  },
  {
   "cell_type": "code",
   "execution_count": 1,
   "metadata": {
    "collapsed": true
   },
   "outputs": [],
   "source": [
    "# Import libraries\n",
    "import requests\n",
    "import numpy as np\n",
    "import pandas as pd\n",
    "from bs4 import BeautifulSoup"
   ]
  },
  {
   "cell_type": "markdown",
   "metadata": {},
   "source": [
    "You will need requests-futures which you can get by   \n",
    "$ ``pip install requests-futures``"
   ]
  },
  {
   "cell_type": "markdown",
   "metadata": {},
   "source": [
    "### Task 1.0 Retrieve the Data\n",
    "Obtain the 200 top-ranking universities : name, rank, country and region, number of faculty members (international and total) and number of students (international and total)"
   ]
  },
  {
   "cell_type": "code",
   "execution_count": 2,
   "metadata": {
    "collapsed": true,
    "scrolled": false
   },
   "outputs": [],
   "source": [
    "# Do the request\n",
    "request_url = 'https://www.topuniversities.com/sites/default/files/qs-rankings-data/357051.txt?_=1507975779496'\n",
    "r = requests.get(request_url)"
   ]
  },
  {
   "cell_type": "code",
   "execution_count": 3,
   "metadata": {
    "scrolled": true
   },
   "outputs": [
    {
     "data": {
      "text/plain": [
       "{'cc': 'US',\n",
       " 'core_id': '410',\n",
       " 'country': 'United States',\n",
       " 'guide': '<a href=\"/where-to-study/north-america/united-states/guide\" class=\"guide-link\" target=\"_blank\">United States</a>',\n",
       " 'logo': '<img src=\"https://www.topuniversities.com/sites/default/files/massachusetts-institute-of-technology-mit_410_small_0.jpg\" alt=\"Massachusetts Institute of Technology (MIT)  Logo\">',\n",
       " 'nid': '294850',\n",
       " 'rank_display': '1',\n",
       " 'region': 'North America',\n",
       " 'score': '100',\n",
       " 'stars': '6',\n",
       " 'title': 'Massachusetts Institute of Technology (MIT)',\n",
       " 'url': '/universities/massachusetts-institute-technology-mit'}"
      ]
     },
     "execution_count": 3,
     "metadata": {},
     "output_type": "execute_result"
    }
   ],
   "source": [
    "univ_vals = r.json()['data']\n",
    "univ_vals[0]"
   ]
  },
  {
   "cell_type": "code",
   "execution_count": 4,
   "metadata": {
    "scrolled": false
   },
   "outputs": [
    {
     "data": {
      "text/html": [
       "<div>\n",
       "<style>\n",
       "    .dataframe thead tr:only-child th {\n",
       "        text-align: right;\n",
       "    }\n",
       "\n",
       "    .dataframe thead th {\n",
       "        text-align: left;\n",
       "    }\n",
       "\n",
       "    .dataframe tbody tr th {\n",
       "        vertical-align: top;\n",
       "    }\n",
       "</style>\n",
       "<table border=\"1\" class=\"dataframe\">\n",
       "  <thead>\n",
       "    <tr style=\"text-align: right;\">\n",
       "      <th></th>\n",
       "      <th>cc</th>\n",
       "      <th>core_id</th>\n",
       "      <th>country</th>\n",
       "      <th>guide</th>\n",
       "      <th>logo</th>\n",
       "      <th>nid</th>\n",
       "      <th>rank_display</th>\n",
       "      <th>region</th>\n",
       "      <th>score</th>\n",
       "      <th>stars</th>\n",
       "      <th>title</th>\n",
       "      <th>url</th>\n",
       "    </tr>\n",
       "  </thead>\n",
       "  <tbody>\n",
       "    <tr>\n",
       "      <th>0</th>\n",
       "      <td>US</td>\n",
       "      <td>410</td>\n",
       "      <td>United States</td>\n",
       "      <td>&lt;a href=\"/where-to-study/north-america/united-...</td>\n",
       "      <td>&lt;img src=\"https://www.topuniversities.com/site...</td>\n",
       "      <td>294850</td>\n",
       "      <td>1</td>\n",
       "      <td>North America</td>\n",
       "      <td>100</td>\n",
       "      <td>6</td>\n",
       "      <td>Massachusetts Institute of Technology (MIT)</td>\n",
       "      <td>/universities/massachusetts-institute-technolo...</td>\n",
       "    </tr>\n",
       "    <tr>\n",
       "      <th>1</th>\n",
       "      <td>US</td>\n",
       "      <td>573</td>\n",
       "      <td>United States</td>\n",
       "      <td>&lt;a href=\"/where-to-study/north-america/united-...</td>\n",
       "      <td>&lt;img src=\"https://www.topuniversities.com/site...</td>\n",
       "      <td>297282</td>\n",
       "      <td>2</td>\n",
       "      <td>North America</td>\n",
       "      <td>98.7</td>\n",
       "      <td>5</td>\n",
       "      <td>Stanford University</td>\n",
       "      <td>/universities/stanford-university</td>\n",
       "    </tr>\n",
       "    <tr>\n",
       "      <th>2</th>\n",
       "      <td>US</td>\n",
       "      <td>253</td>\n",
       "      <td>United States</td>\n",
       "      <td>&lt;a href=\"/where-to-study/north-america/united-...</td>\n",
       "      <td>&lt;img src=\"https://www.topuniversities.com/site...</td>\n",
       "      <td>294270</td>\n",
       "      <td>3</td>\n",
       "      <td>North America</td>\n",
       "      <td>98.4</td>\n",
       "      <td>5</td>\n",
       "      <td>Harvard University</td>\n",
       "      <td>/universities/harvard-university</td>\n",
       "    </tr>\n",
       "    <tr>\n",
       "      <th>3</th>\n",
       "      <td>US</td>\n",
       "      <td>94</td>\n",
       "      <td>United States</td>\n",
       "      <td>&lt;a href=\"/where-to-study/north-america/united-...</td>\n",
       "      <td>&lt;img src=\"https://www.topuniversities.com/site...</td>\n",
       "      <td>294562</td>\n",
       "      <td>4</td>\n",
       "      <td>North America</td>\n",
       "      <td>97.7</td>\n",
       "      <td>5</td>\n",
       "      <td>California Institute of Technology (Caltech)</td>\n",
       "      <td>/universities/california-institute-technology-...</td>\n",
       "    </tr>\n",
       "    <tr>\n",
       "      <th>4</th>\n",
       "      <td>GB</td>\n",
       "      <td>95</td>\n",
       "      <td>United Kingdom</td>\n",
       "      <td>&lt;a href=\"/where-to-study/europe/united-kingdom...</td>\n",
       "      <td>&lt;img src=\"https://www.topuniversities.com/site...</td>\n",
       "      <td>294561</td>\n",
       "      <td>5</td>\n",
       "      <td>Europe</td>\n",
       "      <td>95.6</td>\n",
       "      <td>5</td>\n",
       "      <td>University of Cambridge</td>\n",
       "      <td>/universities/university-cambridge</td>\n",
       "    </tr>\n",
       "  </tbody>\n",
       "</table>\n",
       "</div>"
      ],
      "text/plain": [
       "   cc core_id         country  \\\n",
       "0  US     410   United States   \n",
       "1  US     573   United States   \n",
       "2  US     253   United States   \n",
       "3  US      94   United States   \n",
       "4  GB      95  United Kingdom   \n",
       "\n",
       "                                               guide  \\\n",
       "0  <a href=\"/where-to-study/north-america/united-...   \n",
       "1  <a href=\"/where-to-study/north-america/united-...   \n",
       "2  <a href=\"/where-to-study/north-america/united-...   \n",
       "3  <a href=\"/where-to-study/north-america/united-...   \n",
       "4  <a href=\"/where-to-study/europe/united-kingdom...   \n",
       "\n",
       "                                                logo     nid rank_display  \\\n",
       "0  <img src=\"https://www.topuniversities.com/site...  294850            1   \n",
       "1  <img src=\"https://www.topuniversities.com/site...  297282            2   \n",
       "2  <img src=\"https://www.topuniversities.com/site...  294270            3   \n",
       "3  <img src=\"https://www.topuniversities.com/site...  294562            4   \n",
       "4  <img src=\"https://www.topuniversities.com/site...  294561            5   \n",
       "\n",
       "          region score stars                                         title  \\\n",
       "0  North America   100     6   Massachusetts Institute of Technology (MIT)   \n",
       "1  North America  98.7     5                           Stanford University   \n",
       "2  North America  98.4     5                            Harvard University   \n",
       "3  North America  97.7     5  California Institute of Technology (Caltech)   \n",
       "4         Europe  95.6     5                       University of Cambridge   \n",
       "\n",
       "                                                 url  \n",
       "0  /universities/massachusetts-institute-technolo...  \n",
       "1                  /universities/stanford-university  \n",
       "2                   /universities/harvard-university  \n",
       "3  /universities/california-institute-technology-...  \n",
       "4                 /universities/university-cambridge  "
      ]
     },
     "execution_count": 4,
     "metadata": {},
     "output_type": "execute_result"
    }
   ],
   "source": [
    "univ_df = pd.DataFrame(univ_vals)\n",
    "univ_df.head()"
   ]
  },
  {
   "cell_type": "markdown",
   "metadata": {},
   "source": [
    "keep only : \n",
    "1. name, rank, country and region\n",
    "2. number of faculty members (international and total) and number of students (international and total)\n",
    "\n",
    "second part must be retrieved from different request"
   ]
  },
  {
   "cell_type": "code",
   "execution_count": 324,
   "metadata": {
    "collapsed": true
   },
   "outputs": [],
   "source": [
    "def RepresentsInt(s):\n",
    "    try: \n",
    "        int(s)\n",
    "        return True\n",
    "    except ValueError:\n",
    "        return False"
   ]
  },
  {
   "cell_type": "code",
   "execution_count": null,
   "metadata": {
    "collapsed": true
   },
   "outputs": [],
   "source": []
  },
  {
   "cell_type": "code",
   "execution_count": 360,
   "metadata": {},
   "outputs": [],
   "source": [
    "def clean_rank(r):\n",
    "    if(r[0] == '='):\n",
    "        return int(r[1:]) \n",
    "    elif len(r) > 3 and r[3] == '-':\n",
    "            return int(r[:3])\n",
    "    else:\n",
    "        return int(r)"
   ]
  },
  {
   "cell_type": "code",
   "execution_count": 361,
   "metadata": {},
   "outputs": [
    {
     "data": {
      "text/html": [
       "<div>\n",
       "<style>\n",
       "    .dataframe thead tr:only-child th {\n",
       "        text-align: right;\n",
       "    }\n",
       "\n",
       "    .dataframe thead th {\n",
       "        text-align: left;\n",
       "    }\n",
       "\n",
       "    .dataframe tbody tr th {\n",
       "        vertical-align: top;\n",
       "    }\n",
       "</style>\n",
       "<table border=\"1\" class=\"dataframe\">\n",
       "  <thead>\n",
       "    <tr style=\"text-align: right;\">\n",
       "      <th></th>\n",
       "      <th>country</th>\n",
       "      <th>rank_display</th>\n",
       "      <th>region</th>\n",
       "      <th>title</th>\n",
       "    </tr>\n",
       "  </thead>\n",
       "  <tbody>\n",
       "    <tr>\n",
       "      <th>0</th>\n",
       "      <td>United States</td>\n",
       "      <td>1</td>\n",
       "      <td>North America</td>\n",
       "      <td>Massachusetts Institute of Technology (MIT)</td>\n",
       "    </tr>\n",
       "    <tr>\n",
       "      <th>1</th>\n",
       "      <td>United States</td>\n",
       "      <td>2</td>\n",
       "      <td>North America</td>\n",
       "      <td>Stanford University</td>\n",
       "    </tr>\n",
       "    <tr>\n",
       "      <th>2</th>\n",
       "      <td>United States</td>\n",
       "      <td>3</td>\n",
       "      <td>North America</td>\n",
       "      <td>Harvard University</td>\n",
       "    </tr>\n",
       "    <tr>\n",
       "      <th>3</th>\n",
       "      <td>United States</td>\n",
       "      <td>4</td>\n",
       "      <td>North America</td>\n",
       "      <td>California Institute of Technology (Caltech)</td>\n",
       "    </tr>\n",
       "    <tr>\n",
       "      <th>4</th>\n",
       "      <td>United Kingdom</td>\n",
       "      <td>5</td>\n",
       "      <td>Europe</td>\n",
       "      <td>University of Cambridge</td>\n",
       "    </tr>\n",
       "    <tr>\n",
       "      <th>5</th>\n",
       "      <td>United Kingdom</td>\n",
       "      <td>6</td>\n",
       "      <td>Europe</td>\n",
       "      <td>University of Oxford</td>\n",
       "    </tr>\n",
       "    <tr>\n",
       "      <th>6</th>\n",
       "      <td>United Kingdom</td>\n",
       "      <td>7</td>\n",
       "      <td>Europe</td>\n",
       "      <td>UCL (University College London)</td>\n",
       "    </tr>\n",
       "    <tr>\n",
       "      <th>7</th>\n",
       "      <td>United Kingdom</td>\n",
       "      <td>8</td>\n",
       "      <td>Europe</td>\n",
       "      <td>Imperial College London</td>\n",
       "    </tr>\n",
       "    <tr>\n",
       "      <th>8</th>\n",
       "      <td>United States</td>\n",
       "      <td>9</td>\n",
       "      <td>North America</td>\n",
       "      <td>University of Chicago</td>\n",
       "    </tr>\n",
       "    <tr>\n",
       "      <th>9</th>\n",
       "      <td>Switzerland</td>\n",
       "      <td>10</td>\n",
       "      <td>Europe</td>\n",
       "      <td>ETH Zurich - Swiss Federal Institute of Techno...</td>\n",
       "    </tr>\n",
       "    <tr>\n",
       "      <th>10</th>\n",
       "      <td>Singapore</td>\n",
       "      <td>11</td>\n",
       "      <td>Asia</td>\n",
       "      <td>Nanyang Technological University, Singapore (NTU)</td>\n",
       "    </tr>\n",
       "    <tr>\n",
       "      <th>11</th>\n",
       "      <td>Switzerland</td>\n",
       "      <td>12</td>\n",
       "      <td>Europe</td>\n",
       "      <td>Ecole Polytechnique Fédérale de Lausanne (EPFL)</td>\n",
       "    </tr>\n",
       "    <tr>\n",
       "      <th>12</th>\n",
       "      <td>United States</td>\n",
       "      <td>13</td>\n",
       "      <td>North America</td>\n",
       "      <td>Princeton University</td>\n",
       "    </tr>\n",
       "    <tr>\n",
       "      <th>13</th>\n",
       "      <td>United States</td>\n",
       "      <td>14</td>\n",
       "      <td>North America</td>\n",
       "      <td>Cornell University</td>\n",
       "    </tr>\n",
       "    <tr>\n",
       "      <th>14</th>\n",
       "      <td>Singapore</td>\n",
       "      <td>15</td>\n",
       "      <td>Asia</td>\n",
       "      <td>National University of Singapore (NUS)</td>\n",
       "    </tr>\n",
       "    <tr>\n",
       "      <th>15</th>\n",
       "      <td>United States</td>\n",
       "      <td>16</td>\n",
       "      <td>North America</td>\n",
       "      <td>Yale University</td>\n",
       "    </tr>\n",
       "    <tr>\n",
       "      <th>16</th>\n",
       "      <td>United States</td>\n",
       "      <td>17</td>\n",
       "      <td>North America</td>\n",
       "      <td>Johns Hopkins University</td>\n",
       "    </tr>\n",
       "    <tr>\n",
       "      <th>17</th>\n",
       "      <td>United States</td>\n",
       "      <td>18</td>\n",
       "      <td>North America</td>\n",
       "      <td>Columbia University</td>\n",
       "    </tr>\n",
       "    <tr>\n",
       "      <th>18</th>\n",
       "      <td>United States</td>\n",
       "      <td>19</td>\n",
       "      <td>North America</td>\n",
       "      <td>University of Pennsylvania</td>\n",
       "    </tr>\n",
       "    <tr>\n",
       "      <th>19</th>\n",
       "      <td>Australia</td>\n",
       "      <td>20</td>\n",
       "      <td>Oceania</td>\n",
       "      <td>The Australian National University</td>\n",
       "    </tr>\n",
       "    <tr>\n",
       "      <th>20</th>\n",
       "      <td>United States</td>\n",
       "      <td>21</td>\n",
       "      <td>North America</td>\n",
       "      <td>Duke University</td>\n",
       "    </tr>\n",
       "    <tr>\n",
       "      <th>21</th>\n",
       "      <td>United States</td>\n",
       "      <td>21</td>\n",
       "      <td>North America</td>\n",
       "      <td>University of Michigan</td>\n",
       "    </tr>\n",
       "    <tr>\n",
       "      <th>22</th>\n",
       "      <td>United Kingdom</td>\n",
       "      <td>23</td>\n",
       "      <td>Europe</td>\n",
       "      <td>King's College London</td>\n",
       "    </tr>\n",
       "    <tr>\n",
       "      <th>23</th>\n",
       "      <td>United Kingdom</td>\n",
       "      <td>23</td>\n",
       "      <td>Europe</td>\n",
       "      <td>The University of Edinburgh</td>\n",
       "    </tr>\n",
       "    <tr>\n",
       "      <th>24</th>\n",
       "      <td>China</td>\n",
       "      <td>25</td>\n",
       "      <td>Asia</td>\n",
       "      <td>Tsinghua University</td>\n",
       "    </tr>\n",
       "    <tr>\n",
       "      <th>25</th>\n",
       "      <td>Hong Kong</td>\n",
       "      <td>26</td>\n",
       "      <td>Asia</td>\n",
       "      <td>The University of Hong Kong</td>\n",
       "    </tr>\n",
       "    <tr>\n",
       "      <th>26</th>\n",
       "      <td>United States</td>\n",
       "      <td>27</td>\n",
       "      <td>North America</td>\n",
       "      <td>University of California, Berkeley (UCB)</td>\n",
       "    </tr>\n",
       "    <tr>\n",
       "      <th>27</th>\n",
       "      <td>United States</td>\n",
       "      <td>28</td>\n",
       "      <td>North America</td>\n",
       "      <td>Northwestern University</td>\n",
       "    </tr>\n",
       "    <tr>\n",
       "      <th>28</th>\n",
       "      <td>Japan</td>\n",
       "      <td>28</td>\n",
       "      <td>Asia</td>\n",
       "      <td>The University of Tokyo</td>\n",
       "    </tr>\n",
       "    <tr>\n",
       "      <th>29</th>\n",
       "      <td>Hong Kong</td>\n",
       "      <td>30</td>\n",
       "      <td>Asia</td>\n",
       "      <td>The Hong Kong University of Science and Techno...</td>\n",
       "    </tr>\n",
       "    <tr>\n",
       "      <th>...</th>\n",
       "      <td>...</td>\n",
       "      <td>...</td>\n",
       "      <td>...</td>\n",
       "      <td>...</td>\n",
       "    </tr>\n",
       "    <tr>\n",
       "      <th>929</th>\n",
       "      <td>Serbia</td>\n",
       "      <td>801</td>\n",
       "      <td>Europe</td>\n",
       "      <td>University of Belgrade</td>\n",
       "    </tr>\n",
       "    <tr>\n",
       "      <th>930</th>\n",
       "      <td>Indonesia</td>\n",
       "      <td>801</td>\n",
       "      <td>Asia</td>\n",
       "      <td>University of Brawijaya</td>\n",
       "    </tr>\n",
       "    <tr>\n",
       "      <th>931</th>\n",
       "      <td>United Kingdom</td>\n",
       "      <td>801</td>\n",
       "      <td>Europe</td>\n",
       "      <td>University of Central Lancashire</td>\n",
       "    </tr>\n",
       "    <tr>\n",
       "      <th>932</th>\n",
       "      <td>United Kingdom</td>\n",
       "      <td>801</td>\n",
       "      <td>Europe</td>\n",
       "      <td>University of East London</td>\n",
       "    </tr>\n",
       "    <tr>\n",
       "      <th>933</th>\n",
       "      <td>Pakistan</td>\n",
       "      <td>801</td>\n",
       "      <td>Asia</td>\n",
       "      <td>University of Engineering &amp; Technology (UET) L...</td>\n",
       "    </tr>\n",
       "    <tr>\n",
       "      <th>934</th>\n",
       "      <td>Ghana</td>\n",
       "      <td>801</td>\n",
       "      <td>Africa</td>\n",
       "      <td>University of Ghana</td>\n",
       "    </tr>\n",
       "    <tr>\n",
       "      <th>935</th>\n",
       "      <td>United Kingdom</td>\n",
       "      <td>801</td>\n",
       "      <td>Europe</td>\n",
       "      <td>University of Greenwich</td>\n",
       "    </tr>\n",
       "    <tr>\n",
       "      <th>936</th>\n",
       "      <td>Pakistan</td>\n",
       "      <td>801</td>\n",
       "      <td>Asia</td>\n",
       "      <td>University of Karachi</td>\n",
       "    </tr>\n",
       "    <tr>\n",
       "      <th>937</th>\n",
       "      <td>Pakistan</td>\n",
       "      <td>801</td>\n",
       "      <td>Asia</td>\n",
       "      <td>The University of Lahore</td>\n",
       "    </tr>\n",
       "    <tr>\n",
       "      <th>938</th>\n",
       "      <td>Slovenia</td>\n",
       "      <td>801</td>\n",
       "      <td>Europe</td>\n",
       "      <td>University of Maribor</td>\n",
       "    </tr>\n",
       "    <tr>\n",
       "      <th>939</th>\n",
       "      <td>United States</td>\n",
       "      <td>801</td>\n",
       "      <td>North America</td>\n",
       "      <td>University of Mississippi</td>\n",
       "    </tr>\n",
       "    <tr>\n",
       "      <th>940</th>\n",
       "      <td>United States</td>\n",
       "      <td>801</td>\n",
       "      <td>North America</td>\n",
       "      <td>University of Montana Missoula</td>\n",
       "    </tr>\n",
       "    <tr>\n",
       "      <th>941</th>\n",
       "      <td>India</td>\n",
       "      <td>801</td>\n",
       "      <td>Asia</td>\n",
       "      <td>University of Mumbai</td>\n",
       "    </tr>\n",
       "    <tr>\n",
       "      <th>942</th>\n",
       "      <td>Kenya</td>\n",
       "      <td>801</td>\n",
       "      <td>Africa</td>\n",
       "      <td>University of Nairobi</td>\n",
       "    </tr>\n",
       "    <tr>\n",
       "      <th>943</th>\n",
       "      <td>Australia</td>\n",
       "      <td>801</td>\n",
       "      <td>Oceania</td>\n",
       "      <td>University of New England Australia</td>\n",
       "    </tr>\n",
       "    <tr>\n",
       "      <th>944</th>\n",
       "      <td>India</td>\n",
       "      <td>801</td>\n",
       "      <td>Asia</td>\n",
       "      <td>Savitribai Phule Pune University</td>\n",
       "    </tr>\n",
       "    <tr>\n",
       "      <th>945</th>\n",
       "      <td>United States</td>\n",
       "      <td>801</td>\n",
       "      <td>North America</td>\n",
       "      <td>University of San Diego</td>\n",
       "    </tr>\n",
       "    <tr>\n",
       "      <th>946</th>\n",
       "      <td>United States</td>\n",
       "      <td>801</td>\n",
       "      <td>North America</td>\n",
       "      <td>University of San Francisco</td>\n",
       "    </tr>\n",
       "    <tr>\n",
       "      <th>947</th>\n",
       "      <td>Philippines</td>\n",
       "      <td>801</td>\n",
       "      <td>Asia</td>\n",
       "      <td>University of Santo Tomas</td>\n",
       "    </tr>\n",
       "    <tr>\n",
       "      <th>948</th>\n",
       "      <td>United States</td>\n",
       "      <td>801</td>\n",
       "      <td>North America</td>\n",
       "      <td>University of the Pacific</td>\n",
       "    </tr>\n",
       "    <tr>\n",
       "      <th>949</th>\n",
       "      <td>Australia</td>\n",
       "      <td>801</td>\n",
       "      <td>Oceania</td>\n",
       "      <td>University of the Sunshine Coast</td>\n",
       "    </tr>\n",
       "    <tr>\n",
       "      <th>950</th>\n",
       "      <td>South Africa</td>\n",
       "      <td>801</td>\n",
       "      <td>Africa</td>\n",
       "      <td>University of the Western Cape</td>\n",
       "    </tr>\n",
       "    <tr>\n",
       "      <th>951</th>\n",
       "      <td>Poland</td>\n",
       "      <td>801</td>\n",
       "      <td>Europe</td>\n",
       "      <td>University of Wroclaw</td>\n",
       "    </tr>\n",
       "    <tr>\n",
       "      <th>952</th>\n",
       "      <td>France</td>\n",
       "      <td>801</td>\n",
       "      <td>Europe</td>\n",
       "      <td>Université de Toulouse II-Le Mirail</td>\n",
       "    </tr>\n",
       "    <tr>\n",
       "      <th>953</th>\n",
       "      <td>United States</td>\n",
       "      <td>801</td>\n",
       "      <td>North America</td>\n",
       "      <td>Utah State University</td>\n",
       "    </tr>\n",
       "    <tr>\n",
       "      <th>954</th>\n",
       "      <td>Italy</td>\n",
       "      <td>801</td>\n",
       "      <td>Europe</td>\n",
       "      <td>Verona University</td>\n",
       "    </tr>\n",
       "    <tr>\n",
       "      <th>955</th>\n",
       "      <td>Russia</td>\n",
       "      <td>801</td>\n",
       "      <td>Europe</td>\n",
       "      <td>Voronezh State University</td>\n",
       "    </tr>\n",
       "    <tr>\n",
       "      <th>956</th>\n",
       "      <td>Lithuania</td>\n",
       "      <td>801</td>\n",
       "      <td>Europe</td>\n",
       "      <td>Vytautas Magnus University</td>\n",
       "    </tr>\n",
       "    <tr>\n",
       "      <th>957</th>\n",
       "      <td>Romania</td>\n",
       "      <td>801</td>\n",
       "      <td>Europe</td>\n",
       "      <td>Universitatea de Vest din Timisoara /  West Un...</td>\n",
       "    </tr>\n",
       "    <tr>\n",
       "      <th>958</th>\n",
       "      <td>Poland</td>\n",
       "      <td>801</td>\n",
       "      <td>Europe</td>\n",
       "      <td>Wroclaw University of Technology</td>\n",
       "    </tr>\n",
       "  </tbody>\n",
       "</table>\n",
       "<p>959 rows × 4 columns</p>\n",
       "</div>"
      ],
      "text/plain": [
       "            country  rank_display         region  \\\n",
       "0     United States             1  North America   \n",
       "1     United States             2  North America   \n",
       "2     United States             3  North America   \n",
       "3     United States             4  North America   \n",
       "4    United Kingdom             5         Europe   \n",
       "5    United Kingdom             6         Europe   \n",
       "6    United Kingdom             7         Europe   \n",
       "7    United Kingdom             8         Europe   \n",
       "8     United States             9  North America   \n",
       "9       Switzerland            10         Europe   \n",
       "10        Singapore            11           Asia   \n",
       "11      Switzerland            12         Europe   \n",
       "12    United States            13  North America   \n",
       "13    United States            14  North America   \n",
       "14        Singapore            15           Asia   \n",
       "15    United States            16  North America   \n",
       "16    United States            17  North America   \n",
       "17    United States            18  North America   \n",
       "18    United States            19  North America   \n",
       "19        Australia            20        Oceania   \n",
       "20    United States            21  North America   \n",
       "21    United States            21  North America   \n",
       "22   United Kingdom            23         Europe   \n",
       "23   United Kingdom            23         Europe   \n",
       "24            China            25           Asia   \n",
       "25        Hong Kong            26           Asia   \n",
       "26    United States            27  North America   \n",
       "27    United States            28  North America   \n",
       "28            Japan            28           Asia   \n",
       "29        Hong Kong            30           Asia   \n",
       "..              ...           ...            ...   \n",
       "929          Serbia           801         Europe   \n",
       "930       Indonesia           801           Asia   \n",
       "931  United Kingdom           801         Europe   \n",
       "932  United Kingdom           801         Europe   \n",
       "933        Pakistan           801           Asia   \n",
       "934           Ghana           801         Africa   \n",
       "935  United Kingdom           801         Europe   \n",
       "936        Pakistan           801           Asia   \n",
       "937        Pakistan           801           Asia   \n",
       "938        Slovenia           801         Europe   \n",
       "939   United States           801  North America   \n",
       "940   United States           801  North America   \n",
       "941           India           801           Asia   \n",
       "942           Kenya           801         Africa   \n",
       "943       Australia           801        Oceania   \n",
       "944           India           801           Asia   \n",
       "945   United States           801  North America   \n",
       "946   United States           801  North America   \n",
       "947     Philippines           801           Asia   \n",
       "948   United States           801  North America   \n",
       "949       Australia           801        Oceania   \n",
       "950    South Africa           801         Africa   \n",
       "951          Poland           801         Europe   \n",
       "952          France           801         Europe   \n",
       "953   United States           801  North America   \n",
       "954           Italy           801         Europe   \n",
       "955          Russia           801         Europe   \n",
       "956       Lithuania           801         Europe   \n",
       "957         Romania           801         Europe   \n",
       "958          Poland           801         Europe   \n",
       "\n",
       "                                                 title  \n",
       "0          Massachusetts Institute of Technology (MIT)  \n",
       "1                                  Stanford University  \n",
       "2                                   Harvard University  \n",
       "3         California Institute of Technology (Caltech)  \n",
       "4                              University of Cambridge  \n",
       "5                                 University of Oxford  \n",
       "6                      UCL (University College London)  \n",
       "7                              Imperial College London  \n",
       "8                                University of Chicago  \n",
       "9    ETH Zurich - Swiss Federal Institute of Techno...  \n",
       "10   Nanyang Technological University, Singapore (NTU)  \n",
       "11     Ecole Polytechnique Fédérale de Lausanne (EPFL)  \n",
       "12                                Princeton University  \n",
       "13                                  Cornell University  \n",
       "14              National University of Singapore (NUS)  \n",
       "15                                     Yale University  \n",
       "16                            Johns Hopkins University  \n",
       "17                                 Columbia University  \n",
       "18                          University of Pennsylvania  \n",
       "19                  The Australian National University  \n",
       "20                                     Duke University  \n",
       "21                              University of Michigan  \n",
       "22                               King's College London  \n",
       "23                         The University of Edinburgh  \n",
       "24                                 Tsinghua University  \n",
       "25                         The University of Hong Kong  \n",
       "26            University of California, Berkeley (UCB)  \n",
       "27                             Northwestern University  \n",
       "28                             The University of Tokyo  \n",
       "29   The Hong Kong University of Science and Techno...  \n",
       "..                                                 ...  \n",
       "929                             University of Belgrade  \n",
       "930                            University of Brawijaya  \n",
       "931                   University of Central Lancashire  \n",
       "932                          University of East London  \n",
       "933  University of Engineering & Technology (UET) L...  \n",
       "934                                University of Ghana  \n",
       "935                            University of Greenwich  \n",
       "936                              University of Karachi  \n",
       "937                           The University of Lahore  \n",
       "938                              University of Maribor  \n",
       "939                          University of Mississippi  \n",
       "940                     University of Montana Missoula  \n",
       "941                               University of Mumbai  \n",
       "942                              University of Nairobi  \n",
       "943                University of New England Australia  \n",
       "944                   Savitribai Phule Pune University  \n",
       "945                            University of San Diego  \n",
       "946                        University of San Francisco  \n",
       "947                          University of Santo Tomas  \n",
       "948                          University of the Pacific  \n",
       "949                   University of the Sunshine Coast  \n",
       "950                     University of the Western Cape  \n",
       "951                              University of Wroclaw  \n",
       "952                Université de Toulouse II-Le Mirail  \n",
       "953                              Utah State University  \n",
       "954                                  Verona University  \n",
       "955                          Voronezh State University  \n",
       "956                         Vytautas Magnus University  \n",
       "957  Universitatea de Vest din Timisoara /  West Un...  \n",
       "958                   Wroclaw University of Technology  \n",
       "\n",
       "[959 rows x 4 columns]"
      ]
     },
     "execution_count": 361,
     "metadata": {},
     "output_type": "execute_result"
    }
   ],
   "source": [
    "univ_dr_df = univ_df.drop('guide', 1).drop('logo', 1).drop('stars', 1).drop('url', 1) \\\n",
    ".drop('score', 1).drop('cc', 1).drop('core_id', 1).drop('nid', 1)\n",
    "univ_dr_df['rank_display'] = univ_dr_df['rank_display'].map(clean_rank)\n",
    "univ_dr_df"
   ]
  },
  {
   "cell_type": "code",
   "execution_count": 6,
   "metadata": {},
   "outputs": [
    {
     "data": {
      "text/plain": [
       "'<!DOCTYPE html>\\n<html dir=\"ltr\" version=\"XHTML+RDFa 1.0\" xml:lang=\"en\" xmlns=\"http://www.w3.org/1999/xhtml\" xmlns:article=\"http://ogp.me/ns/article#\" xmlns:book=\"http://ogp.me/ns/book#\" xmlns:content=\"http://purl.org/rss/1.0/modules/content/\" xmlns:dc=\"http://purl.org/dc/terms/\" xmlns:foaf=\"http://xmlns.com/foaf/0.1/\" xmlns:og=\"http://ogp.me/ns#\" xmlns:product=\"http://ogp.me/ns/product#\" xmlns:profile=\"http://ogp.me/ns/profile#\" xmlns:rdfs=\"http://www.w3.org/2000/01/rdf-schema#\" xmlns:schema=\"http://schema.org/\" xmlns:sioc=\"http://rdfs.org/sioc/ns#\" xmlns:sioct=\"http://rdfs.org/sioc/types#\" xm'"
      ]
     },
     "execution_count": 6,
     "metadata": {},
     "output_type": "execute_result"
    }
   ],
   "source": [
    "url_caltech = 'https://www.topuniversities.com/universities/california-institute-technology-caltech#wurs'\n",
    "r_caltech = requests.get(url_caltech)\n",
    "soup_caltech = BeautifulSoup(r_caltech.text, 'html.parser')\n",
    "soup_caltech.prettify()[0:600]"
   ]
  },
  {
   "cell_type": "markdown",
   "metadata": {},
   "source": [
    "From the soup, with a quick ctrl+f on the number displayed on the corresponding page, I was able to identify the elements which contained the value I was interested in:\n",
    "1. Number of international students ``<div class=\"int-students-main wrapper col-md-4\"> \\ <div class=\"number\">``\n",
    "    \n",
    "2. Number of students ``<div class=\"students-main wrapper col-md-4\"> \\ <div class=\"number\">``\n",
    "\n",
    "3. Number of faculty staff in total ``<div class=\"faculty-main wrapper col-md-4\"> \\ <div class=\"number\">``\n",
    "\n",
    "4. Number of faculty staff international ``<div class=\"inter faculty\"> \\ <div class=\"number\">``"
   ]
  },
  {
   "cell_type": "code",
   "execution_count": 7,
   "metadata": {},
   "outputs": [
    {
     "data": {
      "text/plain": [
       "'647 '"
      ]
     },
     "execution_count": 7,
     "metadata": {},
     "output_type": "execute_result"
    }
   ],
   "source": [
    "caltech_inter_st = soup_caltech.find('div', class_='int-students-main wrapper col-md-4').find('div', class_='number').text\n",
    "caltech_inter_st[1:]"
   ]
  },
  {
   "cell_type": "code",
   "execution_count": 8,
   "metadata": {},
   "outputs": [
    {
     "data": {
      "text/plain": [
       "'2,255 '"
      ]
     },
     "execution_count": 8,
     "metadata": {},
     "output_type": "execute_result"
    }
   ],
   "source": [
    "caltech_st = soup_caltech.find('div', class_ = 'students-main wrapper col-md-4').find('div', class_='number').text\n",
    "caltech_st[1:]"
   ]
  },
  {
   "cell_type": "markdown",
   "metadata": {},
   "source": [
    "Now we can test with MIT to see whether the parsing works the same (which is probably the case). If it works, then we will iterate over the links in the dataframe to parse the values of interest for each university"
   ]
  },
  {
   "cell_type": "code",
   "execution_count": 9,
   "metadata": {},
   "outputs": [
    {
     "data": {
      "text/plain": [
       "'3,717 '"
      ]
     },
     "execution_count": 9,
     "metadata": {},
     "output_type": "execute_result"
    }
   ],
   "source": [
    "url_mit = 'https://www.topuniversities.com/universities/massachusetts-institute-technology-mit#wurs'\n",
    "r_mit = requests.get(url_mit)\n",
    "soup_mit = BeautifulSoup(r_mit.text, 'html.parser')\n",
    "soup_mit.find('div', class_='int-students-main wrapper col-md-4').find('div', class_='number').text[1:]\n"
   ]
  },
  {
   "cell_type": "code",
   "execution_count": 83,
   "metadata": {
    "collapsed": true
   },
   "outputs": [],
   "source": [
    "#tries to retrieve the value contained in the child <block_p class = 'class_p'>, hence contained in <block_c class='class_c'\n",
    "#returns NaN if one of both block is not found\n",
    "def retrieve(soup, block_p, class_p, block_c, class_c):\n",
    "    parent = soup.find(block_p, class_p)\n",
    "    if parent is None:\n",
    "        return 'failed'\n",
    "    else:\n",
    "        child = parent.find(block_c, class_c)\n",
    "        if child is None:\n",
    "            return 'failed'\n",
    "        else:\n",
    "            return int(child.text[1:].replace(',',''))\n",
    "    "
   ]
  },
  {
   "cell_type": "code",
   "execution_count": 11,
   "metadata": {},
   "outputs": [
    {
     "data": {
      "text/plain": [
       "3717"
      ]
     },
     "execution_count": 11,
     "metadata": {},
     "output_type": "execute_result"
    }
   ],
   "source": [
    "retrieve(soup_mit, 'div', 'int-students-main wrapper col-md-4', 'div', 'number')"
   ]
  },
  {
   "cell_type": "code",
   "execution_count": 12,
   "metadata": {},
   "outputs": [
    {
     "data": {
      "text/plain": [
       "nan"
      ]
     },
     "execution_count": 12,
     "metadata": {},
     "output_type": "execute_result"
    }
   ],
   "source": [
    "retrieve(soup_mit, 'div', 'int-st-main wrapper col-md-4', 'div', 'number')"
   ]
  },
  {
   "cell_type": "code",
   "execution_count": 13,
   "metadata": {},
   "outputs": [
    {
     "data": {
      "text/plain": [
       "nan"
      ]
     },
     "execution_count": 13,
     "metadata": {},
     "output_type": "execute_result"
    }
   ],
   "source": [
    "retrieve(soup_mit, 'div', 'int-students-main wrapper col-md-4', 'div', 'nber')"
   ]
  },
  {
   "cell_type": "code",
   "execution_count": 14,
   "metadata": {
    "collapsed": true
   },
   "outputs": [],
   "source": [
    "def retrieve_div_number(soup, class_p):\n",
    "    return retrieve(soup, 'div', class_p, 'div', 'number')"
   ]
  },
  {
   "cell_type": "code",
   "execution_count": 15,
   "metadata": {},
   "outputs": [
    {
     "data": {
      "text/plain": [
       "3717"
      ]
     },
     "execution_count": 15,
     "metadata": {},
     "output_type": "execute_result"
    }
   ],
   "source": [
    "retrieve_div_number(soup_mit, 'int-students-main wrapper col-md-4')"
   ]
  },
  {
   "cell_type": "code",
   "execution_count": 16,
   "metadata": {},
   "outputs": [
    {
     "data": {
      "text/plain": [
       "['https://www.topuniversities.com/universities/massachusetts-institute-technology-mit#wurs',\n",
       " 'https://www.topuniversities.com/universities/stanford-university#wurs',\n",
       " 'https://www.topuniversities.com/universities/harvard-university#wurs',\n",
       " 'https://www.topuniversities.com/universities/california-institute-technology-caltech#wurs',\n",
       " 'https://www.topuniversities.com/universities/university-cambridge#wurs']"
      ]
     },
     "execution_count": 16,
     "metadata": {},
     "output_type": "execute_result"
    }
   ],
   "source": [
    "u_urls = np.array(univ_df[['url']].values)\n",
    "univ_urls = []\n",
    "main_url = 'https://www.topuniversities.com'\n",
    "for url_ in u_urls:\n",
    "    url = url_[0]\n",
    "    univ_urls.append(main_url + url + '#wurs')\n",
    "univ_urls[:5]"
   ]
  },
  {
   "cell_type": "code",
   "execution_count": 17,
   "metadata": {},
   "outputs": [
    {
     "data": {
      "text/plain": [
       "959"
      ]
     },
     "execution_count": 17,
     "metadata": {},
     "output_type": "execute_result"
    }
   ],
   "source": [
    "len(univ_urls)"
   ]
  },
  {
   "cell_type": "markdown",
   "metadata": {},
   "source": [
    "Since doing the 959 requests in one go didn't work, I will manually split the requests in chunks as big as possible to minimize the merge step"
   ]
  },
  {
   "cell_type": "code",
   "execution_count": 19,
   "metadata": {
    "collapsed": true
   },
   "outputs": [],
   "source": [
    "def get_missing_data(urls):\n",
    "    international_students = []\n",
    "    students = []\n",
    "    international_faculty = []\n",
    "    faculty = []\n",
    "\n",
    "    for url in urls:\n",
    "    \n",
    "        r = requests.get(url)\n",
    "        soup = BeautifulSoup(r.text, 'html.parser')\n",
    "    \n",
    "        inter_st = retrieve_div_number(soup, 'int-students-main wrapper col-md-4')\n",
    "        st = retrieve_div_number(soup, 'students-main wrapper col-md-4')\n",
    "        inter_fac = retrieve_div_number(soup, 'faculty-main wrapper col-md-4')\n",
    "        fac = retrieve_div_number(soup, 'inter faculty')\n",
    "    \n",
    "        international_students.append(inter_st)\n",
    "        students.append(st)\n",
    "        international_faculty.append(inter_fac)\n",
    "        faculty.append(fac)\n",
    "\n",
    "    return international_students, students, international_faculty, faculty"
   ]
  },
  {
   "cell_type": "code",
   "execution_count": 20,
   "metadata": {
    "collapsed": true
   },
   "outputs": [],
   "source": [
    "inter_s, s, inter_f, f = get_missing_data(univ_urls[:5])"
   ]
  },
  {
   "cell_type": "code",
   "execution_count": 21,
   "metadata": {
    "scrolled": false
   },
   "outputs": [
    {
     "data": {
      "text/plain": [
       "[3717, 3611, 5266, 647, 6699]"
      ]
     },
     "execution_count": 21,
     "metadata": {},
     "output_type": "execute_result"
    }
   ],
   "source": [
    "inter_s"
   ]
  },
  {
   "cell_type": "markdown",
   "metadata": {},
   "source": [
    "Since this is super slow, we will use the package future-requests that will make non-blocking requests. While waiting, I will treat only a small part of the data. When requests complete, I store the results in variables and its all good. This is the reason for the small block before the function"
   ]
  },
  {
   "cell_type": "code",
   "execution_count": 137,
   "metadata": {
    "collapsed": true
   },
   "outputs": [],
   "source": [
    "international_st = []\n",
    "students = []\n",
    "international_fac = []\n",
    "fac = []\n",
    "bad_soups = []\n",
    "count = 0"
   ]
  },
  {
   "cell_type": "code",
   "execution_count": 209,
   "metadata": {},
   "outputs": [],
   "source": [
    "def reset_arrays():\n",
    "    global international_st\n",
    "    global students\n",
    "    global international_fac\n",
    "    global fac\n",
    "    global bad_soups \n",
    "    global count\n",
    "    \n",
    "    international_st = []\n",
    "    students = []\n",
    "    international_fac = []\n",
    "    fac = []\n",
    "    bad_soups = []\n",
    "    count = 0\n",
    "    return 0"
   ]
  },
  {
   "cell_type": "code",
   "execution_count": 238,
   "metadata": {
    "collapsed": true
   },
   "outputs": [],
   "source": [
    "def callback(future):\n",
    "    r = future.result()\n",
    "    soup = BeautifulSoup(r.text, 'html.parser')\n",
    "    \n",
    "    global international_st\n",
    "    global students\n",
    "    global international_fac\n",
    "    global fac\n",
    "    global num_request\n",
    "    global count\n",
    "    global bad_soups\n",
    "    count = count + 1\n",
    "    if count > num_request:\n",
    "        international_st = []\n",
    "        students = []\n",
    "        international_fac = []\n",
    "        fac = []\n",
    "        count = 0\n",
    "    \n",
    "    inter_st = retrieve_div_number(soup, 'int-students-main wrapper col-md-4')\n",
    "    st = retrieve_div_number(soup, 'students-main wrapper col-md-4')\n",
    "    inter_fac = retrieve_div_number(soup, 'inter faculty')\n",
    "    f = retrieve_div_number(soup, 'faculty-main wrapper col-md-4')\n",
    "    if(f == 'failed'):\n",
    "        f = retrieve_div_number(soup, 'total faculty')\n",
    "    if inter_st == 'failed' or st == 'failed' or inter_fac == 'failed' or f == 'failed':\n",
    "        bad_soups.append(soup)\n",
    "    international_st.append(inter_st)\n",
    "    students.append(st)\n",
    "    international_fac.append(inter_fac)\n",
    "    fac.append(f)"
   ]
  },
  {
   "cell_type": "markdown",
   "metadata": {
    "collapsed": true
   },
   "source": [
    "Now we can do our 959 requests in background. For it to work, we must recompile the initilisation of arrays as well as the callback function"
   ]
  },
  {
   "cell_type": "markdown",
   "metadata": {},
   "source": [
    "The following block will play a small sound when the requests are done. For it to work you need to install python-vlc   \n",
    "$ pip install python-vlc"
   ]
  },
  {
   "cell_type": "code",
   "execution_count": 24,
   "metadata": {
    "collapsed": true
   },
   "outputs": [],
   "source": [
    "import vlc\n",
    "def play_sound(future):\n",
    "    folder_path = 'fancy_sounds/'\n",
    "    music_path = 'zelda_small_item.wav'\n",
    "    p = vlc.MediaPlayer(folder_path + music_path)\n",
    "    p.play()\n",
    "    return 0"
   ]
  },
  {
   "cell_type": "code",
   "execution_count": 148,
   "metadata": {},
   "outputs": [],
   "source": [
    "from requests_futures.sessions import FuturesSession\n",
    "session = FuturesSession()"
   ]
  },
  {
   "cell_type": "code",
   "execution_count": 163,
   "metadata": {
    "scrolled": true
   },
   "outputs": [
    {
     "data": {
      "application/vnd.jupyter.widget-view+json": {
       "model_id": "0427109aaa43456eabd8c33f0a852e02"
      }
     },
     "metadata": {},
     "output_type": "display_data"
    }
   ],
   "source": [
    "import threading\n",
    "from IPython.display import display\n",
    "import ipywidgets as widgets\n",
    "import time\n",
    "import sys\n",
    "progress = widgets.FloatProgress(value=0.0, min=0.0, max=1.0)\n",
    "\n",
    "def work(progress):\n",
    "    global fac\n",
    "    while(len(fac) <= num_request):\n",
    "        progress.value = len(fac)/num_request\n",
    "thread = threading.Thread(target=work, args=(progress,))\n",
    "display(progress)\n",
    "thread.start()"
   ]
  },
  {
   "cell_type": "code",
   "execution_count": 292,
   "metadata": {},
   "outputs": [],
   "source": [
    "url_slice = univ_urls[:]\n",
    "num_request = len(url_slice)\n",
    "url_last_idx = len(url_slice) - 1\n",
    "reset_arrays()\n",
    "last_future = 0\n",
    "for i_url, url in enumerate(url_slice):\n",
    "    # On fait notre requête GET\n",
    "    future = session.get(url)\n",
    "    # On rajoute le callback à appeler quand\n",
    "    # le résultat de la requête arrive.\n",
    "    if i_url != url_last_idx:\n",
    "        futures.append(future)\n",
    "    future.add_done_callback(callback)\n",
    "    if i_url == (url_last_idx):\n",
    "        future.add_done_callback(play_sound)"
   ]
  },
  {
   "cell_type": "markdown",
   "metadata": {},
   "source": [
    "missing data (NaN fields):\n",
    "    1. [400:500] Universidad Externado de Colombia missing international students (can put 0)\n",
    "    2. [500:600] Iran University of Science and Technology missing international fac/students (can put 0)\n",
    "    3. [600:700]\n",
    "        1. Jadavpur University:             missing international fac (can put 0)\n",
    "        2. Universidad Iberoamericana IBERO missing international fac/students (can put 0)\n",
    "        3. University of Haifa              \"--------------------------------------------\"\n",
    "        4. University of Hyderabad          missing international fac (can put 0)\n",
    "        5. Anna University                  missing international fac/students (can put 0)\n",
    "        6. Universidad del Pais Vasco       missing international fac (can put 0)\n",
    "        7. University of Minho              missing internation fac/students (can put 0)\n",
    "        8. University of Minho              \"------------------------------------------\"\n",
    "    4. [700:800]\n",
    "        1. Comenius University in Bratislava   missing international fac (can put 0)\n",
    "        2. Memorial University of Newfoundland \"------------------------------------\"\n",
    "        3. Rhodes University                   \"------------------------------------\"\n",
    "        4. Paris Lodron University of Salzburg \"------------------------------------\"\n",
    "        5. University of Colombo               \"------------------------------------\"\n",
    "\n",
    "it seems the NaN values can be replaced by 0, I won't check the last ones since there are 15 in the next category and 13 in the last respectively [800:900] and [900:]"
   ]
  },
  {
   "cell_type": "code",
   "execution_count": 285,
   "metadata": {},
   "outputs": [
    {
     "data": {
      "text/plain": [
       "13"
      ]
     },
     "execution_count": 285,
     "metadata": {},
     "output_type": "execute_result"
    }
   ],
   "source": [
    "len(bad_soups)"
   ]
  },
  {
   "cell_type": "markdown",
   "metadata": {},
   "source": [
    "### <b> Warning: Running the following cell will cancell all pending requests, corrupting the data in the process </b>\n",
    "Note that to run the cell you have to change 'False' in 'True' in the if statement"
   ]
  },
  {
   "cell_type": "code",
   "execution_count": 286,
   "metadata": {},
   "outputs": [
    {
     "data": {
      "text/plain": [
       "''"
      ]
     },
     "execution_count": 286,
     "metadata": {},
     "output_type": "execute_result"
    }
   ],
   "source": [
    "# attempts to kill waiting requests: if attempt is successful, bar doesn't move. Goal is to cancel all but last requests\n",
    "# in order to instantly play sound and complete only one request\n",
    "if False:\n",
    "    for fu in futures:\n",
    "        # cancel request on this url\n",
    "        fu.cancel()\n",
    "    reset_arrays()\n",
    "    futures = []\n",
    "\n",
    "#Last try it seemed to work. We reset arrays twice since the canceling of\n",
    "#asynchronous requests is asynchronous, the reset might happen before all requests are canceled\n",
    "#and some requests might finish in the meantime (after reset)\n",
    ";"
   ]
  },
  {
   "cell_type": "markdown",
   "metadata": {},
   "source": [
    "#### <b> Next block will close background requests, uncomment and use carefully </b>"
   ]
  },
  {
   "cell_type": "code",
   "execution_count": 118,
   "metadata": {},
   "outputs": [
    {
     "data": {
      "text/plain": [
       "60"
      ]
     },
     "execution_count": 118,
     "metadata": {},
     "output_type": "execute_result"
    }
   ],
   "source": [
    "#bad_soups contains all the soups from which we were unable to scrap data. \n",
    "#After requests are finished, the block should compile to 0\n",
    "len(bad_soups)"
   ]
  },
  {
   "cell_type": "markdown",
   "metadata": {},
   "source": [
    "Si vous lancez de nouvelles requête avant que les précédentes soient terminées, vous avez de forte chances que la data soit corrompue. Dans ce cas attendez la fin des requêtes en cours, puis relancez la boucle ci-dessus"
   ]
  },
  {
   "cell_type": "markdown",
   "metadata": {},
   "source": [
    "You can see the requests progress here. If you want to do something else, a sound will be played as the requests complete"
   ]
  },
  {
   "cell_type": "markdown",
   "metadata": {},
   "source": [
    "Now that you finished your coffee and were alerted by the fancy sounds that you could pursue the compilation, we can finally use our well-deserved data"
   ]
  },
  {
   "cell_type": "code",
   "execution_count": 362,
   "metadata": {},
   "outputs": [
    {
     "data": {
      "text/html": [
       "<div>\n",
       "<style>\n",
       "    .dataframe thead tr:only-child th {\n",
       "        text-align: right;\n",
       "    }\n",
       "\n",
       "    .dataframe thead th {\n",
       "        text-align: left;\n",
       "    }\n",
       "\n",
       "    .dataframe tbody tr th {\n",
       "        vertical-align: top;\n",
       "    }\n",
       "</style>\n",
       "<table border=\"1\" class=\"dataframe\">\n",
       "  <thead>\n",
       "    <tr style=\"text-align: right;\">\n",
       "      <th></th>\n",
       "      <th>inter_st</th>\n",
       "      <th>students</th>\n",
       "      <th>inter_fac</th>\n",
       "      <th>fac</th>\n",
       "    </tr>\n",
       "  </thead>\n",
       "  <tbody>\n",
       "    <tr>\n",
       "      <th>0</th>\n",
       "      <td>3717</td>\n",
       "      <td>11067</td>\n",
       "      <td>1679</td>\n",
       "      <td>2982</td>\n",
       "    </tr>\n",
       "    <tr>\n",
       "      <th>1</th>\n",
       "      <td>3611</td>\n",
       "      <td>15878</td>\n",
       "      <td>2042</td>\n",
       "      <td>4285</td>\n",
       "    </tr>\n",
       "    <tr>\n",
       "      <th>2</th>\n",
       "      <td>5266</td>\n",
       "      <td>22429</td>\n",
       "      <td>1311</td>\n",
       "      <td>4350</td>\n",
       "    </tr>\n",
       "    <tr>\n",
       "      <th>3</th>\n",
       "      <td>647</td>\n",
       "      <td>2255</td>\n",
       "      <td>350</td>\n",
       "      <td>953</td>\n",
       "    </tr>\n",
       "    <tr>\n",
       "      <th>4</th>\n",
       "      <td>7353</td>\n",
       "      <td>19720</td>\n",
       "      <td>2964</td>\n",
       "      <td>6750</td>\n",
       "    </tr>\n",
       "  </tbody>\n",
       "</table>\n",
       "</div>"
      ],
      "text/plain": [
       "  inter_st students inter_fac   fac\n",
       "0     3717    11067      1679  2982\n",
       "1     3611    15878      2042  4285\n",
       "2     5266    22429      1311  4350\n",
       "3      647     2255       350   953\n",
       "4     7353    19720      2964  6750"
      ]
     },
     "execution_count": 362,
     "metadata": {},
     "output_type": "execute_result"
    }
   ],
   "source": [
    "missing_df = pd.DataFrame(data= [international_st, students, international_fac, fac],\n",
    "                         index = ['inter_st', 'students', 'inter_fac', 'fac']).transpose()\n",
    "missing_df.head()"
   ]
  },
  {
   "cell_type": "code",
   "execution_count": 363,
   "metadata": {},
   "outputs": [
    {
     "data": {
      "text/html": [
       "<div>\n",
       "<style>\n",
       "    .dataframe thead tr:only-child th {\n",
       "        text-align: right;\n",
       "    }\n",
       "\n",
       "    .dataframe thead th {\n",
       "        text-align: left;\n",
       "    }\n",
       "\n",
       "    .dataframe tbody tr th {\n",
       "        vertical-align: top;\n",
       "    }\n",
       "</style>\n",
       "<table border=\"1\" class=\"dataframe\">\n",
       "  <thead>\n",
       "    <tr style=\"text-align: right;\">\n",
       "      <th></th>\n",
       "      <th>country</th>\n",
       "      <th>region</th>\n",
       "      <th>title</th>\n",
       "      <th>inter_st</th>\n",
       "      <th>students</th>\n",
       "      <th>inter_fac</th>\n",
       "      <th>fac</th>\n",
       "    </tr>\n",
       "    <tr>\n",
       "      <th>rank_display</th>\n",
       "      <th></th>\n",
       "      <th></th>\n",
       "      <th></th>\n",
       "      <th></th>\n",
       "      <th></th>\n",
       "      <th></th>\n",
       "      <th></th>\n",
       "    </tr>\n",
       "  </thead>\n",
       "  <tbody>\n",
       "    <tr>\n",
       "      <th>1</th>\n",
       "      <td>United States</td>\n",
       "      <td>North America</td>\n",
       "      <td>Massachusetts Institute of Technology (MIT)</td>\n",
       "      <td>3717</td>\n",
       "      <td>11067</td>\n",
       "      <td>1679</td>\n",
       "      <td>2982</td>\n",
       "    </tr>\n",
       "    <tr>\n",
       "      <th>2</th>\n",
       "      <td>United States</td>\n",
       "      <td>North America</td>\n",
       "      <td>Stanford University</td>\n",
       "      <td>3611</td>\n",
       "      <td>15878</td>\n",
       "      <td>2042</td>\n",
       "      <td>4285</td>\n",
       "    </tr>\n",
       "    <tr>\n",
       "      <th>3</th>\n",
       "      <td>United States</td>\n",
       "      <td>North America</td>\n",
       "      <td>Harvard University</td>\n",
       "      <td>5266</td>\n",
       "      <td>22429</td>\n",
       "      <td>1311</td>\n",
       "      <td>4350</td>\n",
       "    </tr>\n",
       "    <tr>\n",
       "      <th>4</th>\n",
       "      <td>United States</td>\n",
       "      <td>North America</td>\n",
       "      <td>California Institute of Technology (Caltech)</td>\n",
       "      <td>647</td>\n",
       "      <td>2255</td>\n",
       "      <td>350</td>\n",
       "      <td>953</td>\n",
       "    </tr>\n",
       "    <tr>\n",
       "      <th>5</th>\n",
       "      <td>United Kingdom</td>\n",
       "      <td>Europe</td>\n",
       "      <td>University of Cambridge</td>\n",
       "      <td>7353</td>\n",
       "      <td>19720</td>\n",
       "      <td>2964</td>\n",
       "      <td>6750</td>\n",
       "    </tr>\n",
       "  </tbody>\n",
       "</table>\n",
       "</div>"
      ],
      "text/plain": [
       "                     country         region  \\\n",
       "rank_display                                  \n",
       "1              United States  North America   \n",
       "2              United States  North America   \n",
       "3              United States  North America   \n",
       "4              United States  North America   \n",
       "5             United Kingdom         Europe   \n",
       "\n",
       "                                                     title inter_st students  \\\n",
       "rank_display                                                                   \n",
       "1              Massachusetts Institute of Technology (MIT)     3717    11067   \n",
       "2                                      Stanford University     3611    15878   \n",
       "3                                       Harvard University     5266    22429   \n",
       "4             California Institute of Technology (Caltech)      647     2255   \n",
       "5                                  University of Cambridge     7353    19720   \n",
       "\n",
       "             inter_fac   fac  \n",
       "rank_display                  \n",
       "1                 1679  2982  \n",
       "2                 2042  4285  \n",
       "3                 1311  4350  \n",
       "4                  350   953  \n",
       "5                 2964  6750  "
      ]
     },
     "execution_count": 363,
     "metadata": {},
     "output_type": "execute_result"
    }
   ],
   "source": [
    "univ_tot_df = pd.concat([univ_dr_df, missing_df], axis = 1)\n",
    "univ_rk_df = univ_tot_df.set_index(['rank_display'])\n",
    "univ_rk_df.head()"
   ]
  },
  {
   "cell_type": "markdown",
   "metadata": {},
   "source": [
    "### Task 1.1 \n",
    "Which are the best universities in term of: (a) ratio between faculty members and students, (b) ratio of international students?"
   ]
  },
  {
   "cell_type": "markdown",
   "metadata": {},
   "source": [
    "(a) ratio between faculty members and students"
   ]
  },
  {
   "cell_type": "markdown",
   "metadata": {},
   "source": [
    "#### Warning\n",
    "Le dataframe contient des NaN lorsque la requête n'a pas réussi à récupérer de valeur. Le choix a été fait de drop les universités qui contenaient des NaN. A discuter"
   ]
  },
  {
   "cell_type": "code",
   "execution_count": 392,
   "metadata": {
    "collapsed": true
   },
   "outputs": [],
   "source": [
    "#Add a columns in which each cell is the result of col1/col2 for corresponding cells in col1, col2\n",
    "#The returned dataframe is sorted in ascending(1)/descending(0) order depending on the value of the parameter\n",
    "def ratio(df, col1, col2, ascending_ = 0):\n",
    "    ratio_df = df.copy().replace('failed', 0)\n",
    "    ratio_df['ratio'] = univ_ratio_f[col1] / univ_ratio_f[col2]\n",
    "    ratio_df_sorted = univ_ratio_f.sort_values(['ratio'], ascending = ascending_)\n",
    "    return ratio_df_sorted"
   ]
  },
  {
   "cell_type": "code",
   "execution_count": 389,
   "metadata": {},
   "outputs": [
    {
     "data": {
      "text/html": [
       "<div>\n",
       "<style>\n",
       "    .dataframe thead tr:only-child th {\n",
       "        text-align: right;\n",
       "    }\n",
       "\n",
       "    .dataframe thead th {\n",
       "        text-align: left;\n",
       "    }\n",
       "\n",
       "    .dataframe tbody tr th {\n",
       "        vertical-align: top;\n",
       "    }\n",
       "</style>\n",
       "<table border=\"1\" class=\"dataframe\">\n",
       "  <thead>\n",
       "    <tr style=\"text-align: right;\">\n",
       "      <th></th>\n",
       "      <th>country</th>\n",
       "      <th>rank_display</th>\n",
       "      <th>region</th>\n",
       "      <th>title</th>\n",
       "      <th>inter_st</th>\n",
       "      <th>students</th>\n",
       "      <th>inter_fac</th>\n",
       "      <th>fac</th>\n",
       "      <th>ratio</th>\n",
       "    </tr>\n",
       "  </thead>\n",
       "  <tbody>\n",
       "    <tr>\n",
       "      <th>3</th>\n",
       "      <td>United States</td>\n",
       "      <td>4</td>\n",
       "      <td>North America</td>\n",
       "      <td>California Institute of Technology (Caltech)</td>\n",
       "      <td>647</td>\n",
       "      <td>2255</td>\n",
       "      <td>350</td>\n",
       "      <td>953</td>\n",
       "      <td>0.422616</td>\n",
       "    </tr>\n",
       "    <tr>\n",
       "      <th>15</th>\n",
       "      <td>United States</td>\n",
       "      <td>16</td>\n",
       "      <td>North America</td>\n",
       "      <td>Yale University</td>\n",
       "      <td>2469</td>\n",
       "      <td>12402</td>\n",
       "      <td>1708</td>\n",
       "      <td>4940</td>\n",
       "      <td>0.398323</td>\n",
       "    </tr>\n",
       "    <tr>\n",
       "      <th>210</th>\n",
       "      <td>United States</td>\n",
       "      <td>212</td>\n",
       "      <td>North America</td>\n",
       "      <td>Vanderbilt University</td>\n",
       "      <td>1671</td>\n",
       "      <td>12037</td>\n",
       "      <td>470</td>\n",
       "      <td>4220</td>\n",
       "      <td>0.350586</td>\n",
       "    </tr>\n",
       "    <tr>\n",
       "      <th>4</th>\n",
       "      <td>United Kingdom</td>\n",
       "      <td>5</td>\n",
       "      <td>Europe</td>\n",
       "      <td>University of Cambridge</td>\n",
       "      <td>7353</td>\n",
       "      <td>19720</td>\n",
       "      <td>2964</td>\n",
       "      <td>6750</td>\n",
       "      <td>0.342292</td>\n",
       "    </tr>\n",
       "    <tr>\n",
       "      <th>370</th>\n",
       "      <td>Japan</td>\n",
       "      <td>367</td>\n",
       "      <td>Asia</td>\n",
       "      <td>Tokyo Medical and Dental University (TMDU)</td>\n",
       "      <td>228</td>\n",
       "      <td>2986</td>\n",
       "      <td>18</td>\n",
       "      <td>910</td>\n",
       "      <td>0.304756</td>\n",
       "    </tr>\n",
       "  </tbody>\n",
       "</table>\n",
       "</div>"
      ],
      "text/plain": [
       "            country  rank_display         region  \\\n",
       "3     United States             4  North America   \n",
       "15    United States            16  North America   \n",
       "210   United States           212  North America   \n",
       "4    United Kingdom             5         Europe   \n",
       "370           Japan           367           Asia   \n",
       "\n",
       "                                            title  inter_st  students  \\\n",
       "3    California Institute of Technology (Caltech)       647      2255   \n",
       "15                                Yale University      2469     12402   \n",
       "210                         Vanderbilt University      1671     12037   \n",
       "4                         University of Cambridge      7353     19720   \n",
       "370    Tokyo Medical and Dental University (TMDU)       228      2986   \n",
       "\n",
       "     inter_fac   fac     ratio  \n",
       "3          350   953  0.422616  \n",
       "15        1708  4940  0.398323  \n",
       "210        470  4220  0.350586  \n",
       "4         2964  6750  0.342292  \n",
       "370         18   910  0.304756  "
      ]
     },
     "execution_count": 389,
     "metadata": {},
     "output_type": "execute_result"
    }
   ],
   "source": [
    "ratio(univ_tot_df, 'fac', 'students', ascending_ = 0).head(5)"
   ]
  },
  {
   "cell_type": "markdown",
   "metadata": {},
   "source": [
    "The ratio of faculty/students seems correlated with the ranking"
   ]
  },
  {
   "cell_type": "markdown",
   "metadata": {
    "collapsed": true
   },
   "source": [
    "(b) ratio of international students"
   ]
  },
  {
   "cell_type": "code",
   "execution_count": 391,
   "metadata": {
    "scrolled": true
   },
   "outputs": [
    {
     "data": {
      "text/html": [
       "<div>\n",
       "<style>\n",
       "    .dataframe thead tr:only-child th {\n",
       "        text-align: right;\n",
       "    }\n",
       "\n",
       "    .dataframe thead th {\n",
       "        text-align: left;\n",
       "    }\n",
       "\n",
       "    .dataframe tbody tr th {\n",
       "        vertical-align: top;\n",
       "    }\n",
       "</style>\n",
       "<table border=\"1\" class=\"dataframe\">\n",
       "  <thead>\n",
       "    <tr style=\"text-align: right;\">\n",
       "      <th></th>\n",
       "      <th>country</th>\n",
       "      <th>rank_display</th>\n",
       "      <th>region</th>\n",
       "      <th>title</th>\n",
       "      <th>inter_st</th>\n",
       "      <th>students</th>\n",
       "      <th>inter_fac</th>\n",
       "      <th>fac</th>\n",
       "      <th>ratio</th>\n",
       "    </tr>\n",
       "  </thead>\n",
       "  <tbody>\n",
       "    <tr>\n",
       "      <th>3</th>\n",
       "      <td>United States</td>\n",
       "      <td>4</td>\n",
       "      <td>North America</td>\n",
       "      <td>California Institute of Technology (Caltech)</td>\n",
       "      <td>647</td>\n",
       "      <td>2255</td>\n",
       "      <td>350</td>\n",
       "      <td>953</td>\n",
       "      <td>0.422616</td>\n",
       "    </tr>\n",
       "    <tr>\n",
       "      <th>15</th>\n",
       "      <td>United States</td>\n",
       "      <td>16</td>\n",
       "      <td>North America</td>\n",
       "      <td>Yale University</td>\n",
       "      <td>2469</td>\n",
       "      <td>12402</td>\n",
       "      <td>1708</td>\n",
       "      <td>4940</td>\n",
       "      <td>0.398323</td>\n",
       "    </tr>\n",
       "    <tr>\n",
       "      <th>210</th>\n",
       "      <td>United States</td>\n",
       "      <td>212</td>\n",
       "      <td>North America</td>\n",
       "      <td>Vanderbilt University</td>\n",
       "      <td>1671</td>\n",
       "      <td>12037</td>\n",
       "      <td>470</td>\n",
       "      <td>4220</td>\n",
       "      <td>0.350586</td>\n",
       "    </tr>\n",
       "    <tr>\n",
       "      <th>4</th>\n",
       "      <td>United Kingdom</td>\n",
       "      <td>5</td>\n",
       "      <td>Europe</td>\n",
       "      <td>University of Cambridge</td>\n",
       "      <td>7353</td>\n",
       "      <td>19720</td>\n",
       "      <td>2964</td>\n",
       "      <td>6750</td>\n",
       "      <td>0.342292</td>\n",
       "    </tr>\n",
       "    <tr>\n",
       "      <th>370</th>\n",
       "      <td>Japan</td>\n",
       "      <td>367</td>\n",
       "      <td>Asia</td>\n",
       "      <td>Tokyo Medical and Dental University (TMDU)</td>\n",
       "      <td>228</td>\n",
       "      <td>2986</td>\n",
       "      <td>18</td>\n",
       "      <td>910</td>\n",
       "      <td>0.304756</td>\n",
       "    </tr>\n",
       "  </tbody>\n",
       "</table>\n",
       "</div>"
      ],
      "text/plain": [
       "            country  rank_display         region  \\\n",
       "3     United States             4  North America   \n",
       "15    United States            16  North America   \n",
       "210   United States           212  North America   \n",
       "4    United Kingdom             5         Europe   \n",
       "370           Japan           367           Asia   \n",
       "\n",
       "                                            title  inter_st  students  \\\n",
       "3    California Institute of Technology (Caltech)       647      2255   \n",
       "15                                Yale University      2469     12402   \n",
       "210                         Vanderbilt University      1671     12037   \n",
       "4                         University of Cambridge      7353     19720   \n",
       "370    Tokyo Medical and Dental University (TMDU)       228      2986   \n",
       "\n",
       "     inter_fac   fac     ratio  \n",
       "3          350   953  0.422616  \n",
       "15        1708  4940  0.398323  \n",
       "210        470  4220  0.350586  \n",
       "4         2964  6750  0.342292  \n",
       "370         18   910  0.304756  "
      ]
     },
     "execution_count": 391,
     "metadata": {},
     "output_type": "execute_result"
    }
   ],
   "source": [
    "ratio(univ_tot_df, 'inter_st', 'students', ascending_ = 0).head(5)"
   ]
  },
  {
   "cell_type": "markdown",
   "metadata": {},
   "source": [
    "The ratio of international_students/students seems correlated with the ranking"
   ]
  },
  {
   "cell_type": "markdown",
   "metadata": {},
   "source": [
    "(c) country"
   ]
  },
  {
   "cell_type": "code",
   "execution_count": 393,
   "metadata": {
    "collapsed": true
   },
   "outputs": [],
   "source": [
    "#Returns a multi_indexed dataframe sorted by the argument col as higher index and argument rank as second index\n",
    "def sortby_col_rank(df, col):\n",
    "    univ_col = df.set_index([col, 'rank_display'])\n",
    "    univ_col.sort_index(level=[col, 'rank_display'], ascending=[1, 1], inplace=True)\n",
    "    return univ_col"
   ]
  },
  {
   "cell_type": "code",
   "execution_count": 395,
   "metadata": {},
   "outputs": [
    {
     "data": {
      "text/html": [
       "<div>\n",
       "<style>\n",
       "    .dataframe thead tr:only-child th {\n",
       "        text-align: right;\n",
       "    }\n",
       "\n",
       "    .dataframe thead th {\n",
       "        text-align: left;\n",
       "    }\n",
       "\n",
       "    .dataframe tbody tr th {\n",
       "        vertical-align: top;\n",
       "    }\n",
       "</style>\n",
       "<table border=\"1\" class=\"dataframe\">\n",
       "  <thead>\n",
       "    <tr style=\"text-align: right;\">\n",
       "      <th></th>\n",
       "      <th></th>\n",
       "      <th>region</th>\n",
       "      <th>title</th>\n",
       "      <th>inter_st</th>\n",
       "      <th>students</th>\n",
       "      <th>inter_fac</th>\n",
       "      <th>fac</th>\n",
       "    </tr>\n",
       "    <tr>\n",
       "      <th>country</th>\n",
       "      <th>rank_display</th>\n",
       "      <th></th>\n",
       "      <th></th>\n",
       "      <th></th>\n",
       "      <th></th>\n",
       "      <th></th>\n",
       "      <th></th>\n",
       "    </tr>\n",
       "  </thead>\n",
       "  <tbody>\n",
       "    <tr>\n",
       "      <th rowspan=\"4\" valign=\"top\">Argentina</th>\n",
       "      <th>75</th>\n",
       "      <td>Latin America</td>\n",
       "      <td>Universidad de Buenos Aires (UBA)</td>\n",
       "      <td>27109</td>\n",
       "      <td>122301</td>\n",
       "      <td>3165</td>\n",
       "      <td>16421</td>\n",
       "    </tr>\n",
       "    <tr>\n",
       "      <th>331</th>\n",
       "      <td>Latin America</td>\n",
       "      <td>Universidad Austral</td>\n",
       "      <td>292</td>\n",
       "      <td>3974</td>\n",
       "      <td>19</td>\n",
       "      <td>600</td>\n",
       "    </tr>\n",
       "    <tr>\n",
       "      <th>337</th>\n",
       "      <td>Latin America</td>\n",
       "      <td>Universidad de Belgrano</td>\n",
       "      <td>1562</td>\n",
       "      <td>5701</td>\n",
       "      <td>52</td>\n",
       "      <td>1045</td>\n",
       "    </tr>\n",
       "    <tr>\n",
       "      <th>364</th>\n",
       "      <td>Latin America</td>\n",
       "      <td>Pontificia Universidad Católica Argentina</td>\n",
       "      <td>1273</td>\n",
       "      <td>13496</td>\n",
       "      <td>failed</td>\n",
       "      <td>1834</td>\n",
       "    </tr>\n",
       "  </tbody>\n",
       "</table>\n",
       "</div>"
      ],
      "text/plain": [
       "                               region  \\\n",
       "country   rank_display                  \n",
       "Argentina 75            Latin America   \n",
       "          331           Latin America   \n",
       "          337           Latin America   \n",
       "          364           Latin America   \n",
       "\n",
       "                                                            title inter_st  \\\n",
       "country   rank_display                                                       \n",
       "Argentina 75                    Universidad de Buenos Aires (UBA)    27109   \n",
       "          331                                 Universidad Austral      292   \n",
       "          337                             Universidad de Belgrano     1562   \n",
       "          364           Pontificia Universidad Católica Argentina     1273   \n",
       "\n",
       "                       students inter_fac    fac  \n",
       "country   rank_display                            \n",
       "Argentina 75             122301      3165  16421  \n",
       "          331              3974        19    600  \n",
       "          337              5701        52   1045  \n",
       "          364             13496    failed   1834  "
      ]
     },
     "execution_count": 395,
     "metadata": {},
     "output_type": "execute_result"
    }
   ],
   "source": [
    "sortby_col_rank(univ_tot_df, 'country').head(4)"
   ]
  },
  {
   "cell_type": "markdown",
   "metadata": {},
   "source": [
    "(d) region"
   ]
  },
  {
   "cell_type": "code",
   "execution_count": 396,
   "metadata": {},
   "outputs": [
    {
     "data": {
      "text/html": [
       "<div>\n",
       "<style>\n",
       "    .dataframe thead tr:only-child th {\n",
       "        text-align: right;\n",
       "    }\n",
       "\n",
       "    .dataframe thead th {\n",
       "        text-align: left;\n",
       "    }\n",
       "\n",
       "    .dataframe tbody tr th {\n",
       "        vertical-align: top;\n",
       "    }\n",
       "</style>\n",
       "<table border=\"1\" class=\"dataframe\">\n",
       "  <thead>\n",
       "    <tr style=\"text-align: right;\">\n",
       "      <th></th>\n",
       "      <th></th>\n",
       "      <th>country</th>\n",
       "      <th>title</th>\n",
       "      <th>inter_st</th>\n",
       "      <th>students</th>\n",
       "      <th>inter_fac</th>\n",
       "      <th>fac</th>\n",
       "    </tr>\n",
       "    <tr>\n",
       "      <th>region</th>\n",
       "      <th>rank_display</th>\n",
       "      <th></th>\n",
       "      <th></th>\n",
       "      <th></th>\n",
       "      <th></th>\n",
       "      <th></th>\n",
       "      <th></th>\n",
       "    </tr>\n",
       "  </thead>\n",
       "  <tbody>\n",
       "    <tr>\n",
       "      <th rowspan=\"4\" valign=\"top\">Africa</th>\n",
       "      <th>191</th>\n",
       "      <td>South Africa</td>\n",
       "      <td>University of Cape Town</td>\n",
       "      <td>3325</td>\n",
       "      <td>19593</td>\n",
       "      <td>379</td>\n",
       "      <td>1733</td>\n",
       "    </tr>\n",
       "    <tr>\n",
       "      <th>361</th>\n",
       "      <td>South Africa</td>\n",
       "      <td>Stellenbosch University</td>\n",
       "      <td>1805</td>\n",
       "      <td>26039</td>\n",
       "      <td>191</td>\n",
       "      <td>678</td>\n",
       "    </tr>\n",
       "    <tr>\n",
       "      <th>364</th>\n",
       "      <td>South Africa</td>\n",
       "      <td>University of the Witwatersrand</td>\n",
       "      <td>2097</td>\n",
       "      <td>26900</td>\n",
       "      <td>485</td>\n",
       "      <td>1550</td>\n",
       "    </tr>\n",
       "    <tr>\n",
       "      <th>395</th>\n",
       "      <td>Egypt</td>\n",
       "      <td>The American University in Cairo</td>\n",
       "      <td>222</td>\n",
       "      <td>5843</td>\n",
       "      <td>178</td>\n",
       "      <td>534</td>\n",
       "    </tr>\n",
       "  </tbody>\n",
       "</table>\n",
       "</div>"
      ],
      "text/plain": [
       "                          country                             title inter_st  \\\n",
       "region rank_display                                                            \n",
       "Africa 191           South Africa           University of Cape Town     3325   \n",
       "       361           South Africa           Stellenbosch University     1805   \n",
       "       364           South Africa   University of the Witwatersrand     2097   \n",
       "       395                  Egypt  The American University in Cairo      222   \n",
       "\n",
       "                    students inter_fac   fac  \n",
       "region rank_display                           \n",
       "Africa 191             19593       379  1733  \n",
       "       361             26039       191   678  \n",
       "       364             26900       485  1550  \n",
       "       395              5843       178   534  "
      ]
     },
     "execution_count": 396,
     "metadata": {},
     "output_type": "execute_result"
    }
   ],
   "source": [
    "sortby_col_rank(univ_tot_df, 'region').head(4)"
   ]
  }
 ],
 "metadata": {
  "kernelspec": {
   "display_name": "Python [conda root]",
   "language": "python",
   "name": "conda-root-py"
  },
  "language_info": {
   "codemirror_mode": {
    "name": "ipython",
    "version": 3
   },
   "file_extension": ".py",
   "mimetype": "text/x-python",
   "name": "python",
   "nbconvert_exporter": "python",
   "pygments_lexer": "ipython3",
   "version": "3.6.1"
  }
 },
 "nbformat": 4,
 "nbformat_minor": 2
}
