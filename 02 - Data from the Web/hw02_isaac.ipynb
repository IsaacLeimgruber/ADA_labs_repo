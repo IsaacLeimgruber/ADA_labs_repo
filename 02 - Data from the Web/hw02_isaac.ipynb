{
 "cells": [
  {
   "cell_type": "code",
   "execution_count": null,
   "metadata": {
    "collapsed": true
   },
   "outputs": [],
   "source": []
  },
  {
   "cell_type": "code",
   "execution_count": 27,
   "metadata": {
    "collapsed": true
   },
   "outputs": [],
   "source": [
    "# Import libraries\n",
    "import requests\n",
    "import numpy as np\n",
    "import pandas as pd\n",
    "from bs4 import BeautifulSoup"
   ]
  },
  {
   "cell_type": "code",
   "execution_count": 9,
   "metadata": {
    "scrolled": false
   },
   "outputs": [],
   "source": [
    "# Do the request\n",
    "request_url = 'https://www.topuniversities.com/sites/default/files/qs-rankings-data/357051.txt?_=1507975779496'\n",
    "r = requests.get(request_url)"
   ]
  },
  {
   "cell_type": "code",
   "execution_count": 42,
   "metadata": {
    "scrolled": true
   },
   "outputs": [
    {
     "data": {
      "text/plain": [
       "{'cc': 'US',\n",
       " 'core_id': '410',\n",
       " 'country': 'United States',\n",
       " 'guide': '<a href=\"/where-to-study/north-america/united-states/guide\" class=\"guide-link\" target=\"_blank\">United States</a>',\n",
       " 'logo': '<img src=\"https://www.topuniversities.com/sites/default/files/massachusetts-institute-of-technology-mit_410_small_0.jpg\" alt=\"Massachusetts Institute of Technology (MIT)  Logo\">',\n",
       " 'nid': '294850',\n",
       " 'rank_display': '1',\n",
       " 'region': 'North America',\n",
       " 'score': '100',\n",
       " 'stars': '6',\n",
       " 'title': 'Massachusetts Institute of Technology (MIT)',\n",
       " 'url': '/universities/massachusetts-institute-technology-mit'}"
      ]
     },
     "execution_count": 42,
     "metadata": {},
     "output_type": "execute_result"
    }
   ],
   "source": [
    "univ_vals = r.json()['data']\n",
    "univ_vals[0]"
   ]
  },
  {
   "cell_type": "code",
   "execution_count": 69,
   "metadata": {
    "scrolled": true
   },
   "outputs": [
    {
     "data": {
      "text/html": [
       "<div>\n",
       "<style>\n",
       "    .dataframe thead tr:only-child th {\n",
       "        text-align: right;\n",
       "    }\n",
       "\n",
       "    .dataframe thead th {\n",
       "        text-align: left;\n",
       "    }\n",
       "\n",
       "    .dataframe tbody tr th {\n",
       "        vertical-align: top;\n",
       "    }\n",
       "</style>\n",
       "<table border=\"1\" class=\"dataframe\">\n",
       "  <thead>\n",
       "    <tr style=\"text-align: right;\">\n",
       "      <th></th>\n",
       "      <th>cc</th>\n",
       "      <th>core_id</th>\n",
       "      <th>country</th>\n",
       "      <th>guide</th>\n",
       "      <th>logo</th>\n",
       "      <th>nid</th>\n",
       "      <th>rank_display</th>\n",
       "      <th>region</th>\n",
       "      <th>score</th>\n",
       "      <th>stars</th>\n",
       "      <th>title</th>\n",
       "      <th>url</th>\n",
       "    </tr>\n",
       "  </thead>\n",
       "  <tbody>\n",
       "    <tr>\n",
       "      <th>0</th>\n",
       "      <td>US</td>\n",
       "      <td>410</td>\n",
       "      <td>United States</td>\n",
       "      <td>&lt;a href=\"/where-to-study/north-america/united-...</td>\n",
       "      <td>&lt;img src=\"https://www.topuniversities.com/site...</td>\n",
       "      <td>294850</td>\n",
       "      <td>1</td>\n",
       "      <td>North America</td>\n",
       "      <td>100</td>\n",
       "      <td>6</td>\n",
       "      <td>Massachusetts Institute of Technology (MIT)</td>\n",
       "      <td>/universities/massachusetts-institute-technolo...</td>\n",
       "    </tr>\n",
       "    <tr>\n",
       "      <th>1</th>\n",
       "      <td>US</td>\n",
       "      <td>573</td>\n",
       "      <td>United States</td>\n",
       "      <td>&lt;a href=\"/where-to-study/north-america/united-...</td>\n",
       "      <td>&lt;img src=\"https://www.topuniversities.com/site...</td>\n",
       "      <td>297282</td>\n",
       "      <td>2</td>\n",
       "      <td>North America</td>\n",
       "      <td>98.7</td>\n",
       "      <td>5</td>\n",
       "      <td>Stanford University</td>\n",
       "      <td>/universities/stanford-university</td>\n",
       "    </tr>\n",
       "    <tr>\n",
       "      <th>2</th>\n",
       "      <td>US</td>\n",
       "      <td>253</td>\n",
       "      <td>United States</td>\n",
       "      <td>&lt;a href=\"/where-to-study/north-america/united-...</td>\n",
       "      <td>&lt;img src=\"https://www.topuniversities.com/site...</td>\n",
       "      <td>294270</td>\n",
       "      <td>3</td>\n",
       "      <td>North America</td>\n",
       "      <td>98.4</td>\n",
       "      <td>5</td>\n",
       "      <td>Harvard University</td>\n",
       "      <td>/universities/harvard-university</td>\n",
       "    </tr>\n",
       "    <tr>\n",
       "      <th>3</th>\n",
       "      <td>US</td>\n",
       "      <td>94</td>\n",
       "      <td>United States</td>\n",
       "      <td>&lt;a href=\"/where-to-study/north-america/united-...</td>\n",
       "      <td>&lt;img src=\"https://www.topuniversities.com/site...</td>\n",
       "      <td>294562</td>\n",
       "      <td>4</td>\n",
       "      <td>North America</td>\n",
       "      <td>97.7</td>\n",
       "      <td>5</td>\n",
       "      <td>California Institute of Technology (Caltech)</td>\n",
       "      <td>/universities/california-institute-technology-...</td>\n",
       "    </tr>\n",
       "    <tr>\n",
       "      <th>4</th>\n",
       "      <td>GB</td>\n",
       "      <td>95</td>\n",
       "      <td>United Kingdom</td>\n",
       "      <td>&lt;a href=\"/where-to-study/europe/united-kingdom...</td>\n",
       "      <td>&lt;img src=\"https://www.topuniversities.com/site...</td>\n",
       "      <td>294561</td>\n",
       "      <td>5</td>\n",
       "      <td>Europe</td>\n",
       "      <td>95.6</td>\n",
       "      <td>5</td>\n",
       "      <td>University of Cambridge</td>\n",
       "      <td>/universities/university-cambridge</td>\n",
       "    </tr>\n",
       "  </tbody>\n",
       "</table>\n",
       "</div>"
      ],
      "text/plain": [
       "   cc core_id         country  \\\n",
       "0  US     410   United States   \n",
       "1  US     573   United States   \n",
       "2  US     253   United States   \n",
       "3  US      94   United States   \n",
       "4  GB      95  United Kingdom   \n",
       "\n",
       "                                               guide  \\\n",
       "0  <a href=\"/where-to-study/north-america/united-...   \n",
       "1  <a href=\"/where-to-study/north-america/united-...   \n",
       "2  <a href=\"/where-to-study/north-america/united-...   \n",
       "3  <a href=\"/where-to-study/north-america/united-...   \n",
       "4  <a href=\"/where-to-study/europe/united-kingdom...   \n",
       "\n",
       "                                                logo     nid rank_display  \\\n",
       "0  <img src=\"https://www.topuniversities.com/site...  294850            1   \n",
       "1  <img src=\"https://www.topuniversities.com/site...  297282            2   \n",
       "2  <img src=\"https://www.topuniversities.com/site...  294270            3   \n",
       "3  <img src=\"https://www.topuniversities.com/site...  294562            4   \n",
       "4  <img src=\"https://www.topuniversities.com/site...  294561            5   \n",
       "\n",
       "          region score stars                                         title  \\\n",
       "0  North America   100     6   Massachusetts Institute of Technology (MIT)   \n",
       "1  North America  98.7     5                           Stanford University   \n",
       "2  North America  98.4     5                            Harvard University   \n",
       "3  North America  97.7     5  California Institute of Technology (Caltech)   \n",
       "4         Europe  95.6     5                       University of Cambridge   \n",
       "\n",
       "                                                 url  \n",
       "0  /universities/massachusetts-institute-technolo...  \n",
       "1                  /universities/stanford-university  \n",
       "2                   /universities/harvard-university  \n",
       "3  /universities/california-institute-technology-...  \n",
       "4                 /universities/university-cambridge  "
      ]
     },
     "execution_count": 69,
     "metadata": {},
     "output_type": "execute_result"
    }
   ],
   "source": [
    "univ_df = pd.DataFrame(univ_vals)\n",
    "univ_df.head()"
   ]
  },
  {
   "cell_type": "markdown",
   "metadata": {},
   "source": [
    "keep only : \n",
    "1. name, rank, country and region\n",
    "2. number of faculty members (international and total) and number of students (international and total)\n",
    "\n",
    "second part must be retrieved from different request"
   ]
  },
  {
   "cell_type": "code",
   "execution_count": 73,
   "metadata": {},
   "outputs": [
    {
     "data": {
      "text/html": [
       "<div>\n",
       "<style>\n",
       "    .dataframe thead tr:only-child th {\n",
       "        text-align: right;\n",
       "    }\n",
       "\n",
       "    .dataframe thead th {\n",
       "        text-align: left;\n",
       "    }\n",
       "\n",
       "    .dataframe tbody tr th {\n",
       "        vertical-align: top;\n",
       "    }\n",
       "</style>\n",
       "<table border=\"1\" class=\"dataframe\">\n",
       "  <thead>\n",
       "    <tr style=\"text-align: right;\">\n",
       "      <th></th>\n",
       "      <th>country</th>\n",
       "      <th>rank_display</th>\n",
       "      <th>region</th>\n",
       "      <th>title</th>\n",
       "    </tr>\n",
       "  </thead>\n",
       "  <tbody>\n",
       "    <tr>\n",
       "      <th>0</th>\n",
       "      <td>United States</td>\n",
       "      <td>1</td>\n",
       "      <td>North America</td>\n",
       "      <td>Massachusetts Institute of Technology (MIT)</td>\n",
       "    </tr>\n",
       "    <tr>\n",
       "      <th>1</th>\n",
       "      <td>United States</td>\n",
       "      <td>2</td>\n",
       "      <td>North America</td>\n",
       "      <td>Stanford University</td>\n",
       "    </tr>\n",
       "    <tr>\n",
       "      <th>2</th>\n",
       "      <td>United States</td>\n",
       "      <td>3</td>\n",
       "      <td>North America</td>\n",
       "      <td>Harvard University</td>\n",
       "    </tr>\n",
       "    <tr>\n",
       "      <th>3</th>\n",
       "      <td>United States</td>\n",
       "      <td>4</td>\n",
       "      <td>North America</td>\n",
       "      <td>California Institute of Technology (Caltech)</td>\n",
       "    </tr>\n",
       "    <tr>\n",
       "      <th>4</th>\n",
       "      <td>United Kingdom</td>\n",
       "      <td>5</td>\n",
       "      <td>Europe</td>\n",
       "      <td>University of Cambridge</td>\n",
       "    </tr>\n",
       "  </tbody>\n",
       "</table>\n",
       "</div>"
      ],
      "text/plain": [
       "          country rank_display         region  \\\n",
       "0   United States            1  North America   \n",
       "1   United States            2  North America   \n",
       "2   United States            3  North America   \n",
       "3   United States            4  North America   \n",
       "4  United Kingdom            5         Europe   \n",
       "\n",
       "                                          title  \n",
       "0   Massachusetts Institute of Technology (MIT)  \n",
       "1                           Stanford University  \n",
       "2                            Harvard University  \n",
       "3  California Institute of Technology (Caltech)  \n",
       "4                       University of Cambridge  "
      ]
     },
     "execution_count": 73,
     "metadata": {},
     "output_type": "execute_result"
    }
   ],
   "source": [
    "univ_dr_df = univ_df.drop('guide', 1).drop('logo', 1).drop('stars', 1).drop('url', 1) \\\n",
    ".drop('score', 1).drop('cc', 1).drop('core_id', 1).drop('nid', 1)\n",
    "univ_dr_df.head()"
   ]
  }
 ],
 "metadata": {
  "kernelspec": {
   "display_name": "Python [conda root]",
   "language": "python",
   "name": "conda-root-py"
  },
  "language_info": {
   "codemirror_mode": {
    "name": "ipython",
    "version": 3
   },
   "file_extension": ".py",
   "mimetype": "text/x-python",
   "name": "python",
   "nbconvert_exporter": "python",
   "pygments_lexer": "ipython3",
   "version": "3.6.1"
  }
 },
 "nbformat": 4,
 "nbformat_minor": 2
}
