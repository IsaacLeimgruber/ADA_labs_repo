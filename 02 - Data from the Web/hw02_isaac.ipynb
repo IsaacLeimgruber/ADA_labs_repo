{
 "cells": [
  {
   "cell_type": "markdown",
   "metadata": {
    "collapsed": true
   },
   "source": [
    "# 02 - Data from the Web"
   ]
  },
  {
   "cell_type": "markdown",
   "metadata": {},
   "source": [
    "# Table of Contents\n",
    " <p><div class=\"lev1\"><a href=\"#Task-1.0-Retrieve-the-Data\"><span class=\"toc-item-num\">Task 1.0&nbsp;&nbsp;</span>Retrieve the Data</a></div>\n",
    " <div class=\"lev2\"><a href=\"#Task-1.0.1-Clear-rank-and-drop-data-not-needed\"><span class=\"toc-item-num\">1.0.1 &nbsp;&nbsp;</span>Clear rank and drop data not needed</a></div>\n",
    " <div class=\"lev2\"><a href=\"#Task-1.0.2-Test-soup-for-missing-data\"><span class=\"toc-item-num\">1.0.2 &nbsp;&nbsp;</span>Test soup for missing data</a></div>\n",
    " <div class=\"lev2\"><a href=\"#Task-1.0.3-Prepare-url-for-missing-data\"><span class=\"toc-item-num\">1.0.3 &nbsp;&nbsp;</span>Prepare url for missing data</a></div>\n",
    " <div class=\"lev2\"><a href=\"#Task-1.0.4-Get-missing-data-function\"><span class=\"toc-item-num\">1.0.4 &nbsp;&nbsp;</span>Get missing data function</a></div>\n",
    " <div class=\"lev2\"><a href=\"#Task-1.0.5-Prepare-callback-to-import-all-data\"><span class=\"toc-item-num\">1.0.5 &nbsp;&nbsp;</span>Prepare callback to import all data</a></div>\n",
    " <div class=\"lev2\"><a href=\"#Task-1.0.6-Import-Data\"><span class=\"toc-item-num\">1.0.6 &nbsp;&nbsp;</span>Import Data</a></div>\n",
    " <div class=\"lev2\"><a href=\"#Task-1.0.7-Kill-data-if-needed\"><span class=\"toc-item-num\">1.0.7 &nbsp;&nbsp;</span>Kill data if needed</a></div>\n",
    " \n",
    " <div class=\"lev1\"><a href=\"#Task-1.1\"><span class=\"toc-item-num\">Task 1.1&nbsp;&nbsp;</span> a) b) c) d)</a></div>\n",
    " </p>\n",
    " \n",
    " <p>\n",
    " <div class=\"lev1\"><a href=\"#Task-2.0-Retrieve-the-Data\"><span class=\"toc-item-num\">Task 2.0&nbsp;&nbsp;</span>Retrieve the Data</a></div>\n",
    " <div class=\"lev2\"><a href=\"#Task-2.0.1-Clear-rank-and-drop-data-not-needed\"><span class=\"toc-item-num\">2.0.1 &nbsp;&nbsp;</span>Clear rank and drop data not needed</a></div>\n",
    " <div class=\"lev2\"><a href=\"#Task-2.0.2-Prepare-url-and-test-soup-to-have-missing-data\"><span class=\"toc-item-num\">2.0.2 &nbsp;&nbsp;</span>Prepare url and test soup to have missing data</a></div>\n",
    " <div class=\"lev2\"><a href=\"#Task-2.0.3-Prepare-to-retrieve-data-and-callback-funciton\"><span class=\"toc-item-num\">2.0.3 &nbsp;&nbsp;</span>Prepare to retrieve data and callback funciton</a></div>\n",
    " <div class=\"lev2\"><a href=\"#Task-2.0.4-Import-Data\"><span class=\"toc-item-num\">2.0.4 &nbsp;&nbsp;</span>Import Data</a></div>\n",
    " <div class=\"lev2\"><a href=\"#Task-2.0.5-Kill-data-second-file\"><span class=\"toc-item-num\">3.0.5 &nbsp;&nbsp;</span>Kill data second file</a></div>\n",
    " \n",
    " <div class=\"lev1\"><a href=\"#Task-2.1\"><span class=\"toc-item-num\">Task 2.1&nbsp;&nbsp;</span> a) b) c) d)</a></div>\n",
    " </p>\n",
    " \n",
    " <p>\n",
    " <div class=\"lev1\"><a href=\"#Task-3.0-Prepare-for-merge\"><span class=\"toc-item-num\">Task 3.0&nbsp;&nbsp;</span>Prepare for merge</a></div>\n",
    " </p>"
   ]
  },
  {
   "cell_type": "code",
   "execution_count": 1,
   "metadata": {
    "collapsed": true
   },
   "outputs": [],
   "source": [
    "# Import libraries\n",
    "import requests\n",
    "import numpy as np\n",
    "import pandas as pd\n",
    "from bs4 import BeautifulSoup"
   ]
  },
  {
   "cell_type": "markdown",
   "metadata": {},
   "source": [
    "You will need requests-futures which you can get by   \n",
    "$ ``pip install requests-futures``"
   ]
  },
  {
   "cell_type": "markdown",
   "metadata": {},
   "source": [
    "### Task 1.0 Retrieve the Data\n",
    "\n",
    "Obtain the 200 top-ranking universities : name, rank, country and region, number of faculty members (international and total) and number of students (international and total)"
   ]
  },
  {
   "cell_type": "markdown",
   "metadata": {},
   "source": [
    " <div class=\"lev1\"><a href=\"#Table-of-Contents\"><span class=\"toc-item-num\"></span>Table of contents</a></div>"
   ]
  },
  {
   "cell_type": "code",
   "execution_count": 2,
   "metadata": {
    "collapsed": true,
    "scrolled": false
   },
   "outputs": [],
   "source": [
    "# Do the request\n",
    "request_url = 'https://www.topuniversities.com/sites/default/files/qs-rankings-data/357051.txt?_=1507975779496'\n",
    "r = requests.get(request_url)"
   ]
  },
  {
   "cell_type": "code",
   "execution_count": 3,
   "metadata": {
    "scrolled": true
   },
   "outputs": [
    {
     "data": {
      "text/plain": [
       "{'cc': 'US',\n",
       " 'core_id': '410',\n",
       " 'country': 'United States',\n",
       " 'guide': '<a href=\"/where-to-study/north-america/united-states/guide\" class=\"guide-link\" target=\"_blank\">United States</a>',\n",
       " 'logo': '<img src=\"https://www.topuniversities.com/sites/default/files/massachusetts-institute-of-technology-mit_410_small_0.jpg\" alt=\"Massachusetts Institute of Technology (MIT)  Logo\">',\n",
       " 'nid': '294850',\n",
       " 'rank_display': '1',\n",
       " 'region': 'North America',\n",
       " 'score': '100',\n",
       " 'stars': '6',\n",
       " 'title': 'Massachusetts Institute of Technology (MIT)',\n",
       " 'url': '/universities/massachusetts-institute-technology-mit'}"
      ]
     },
     "execution_count": 3,
     "metadata": {},
     "output_type": "execute_result"
    }
   ],
   "source": [
    "univ_vals = r.json()['data']\n",
    "univ_vals[0]"
   ]
  },
  {
   "cell_type": "code",
   "execution_count": 4,
   "metadata": {
    "scrolled": false
   },
   "outputs": [
    {
     "data": {
      "text/html": [
       "<div>\n",
       "<style>\n",
       "    .dataframe thead tr:only-child th {\n",
       "        text-align: right;\n",
       "    }\n",
       "\n",
       "    .dataframe thead th {\n",
       "        text-align: left;\n",
       "    }\n",
       "\n",
       "    .dataframe tbody tr th {\n",
       "        vertical-align: top;\n",
       "    }\n",
       "</style>\n",
       "<table border=\"1\" class=\"dataframe\">\n",
       "  <thead>\n",
       "    <tr style=\"text-align: right;\">\n",
       "      <th></th>\n",
       "      <th>cc</th>\n",
       "      <th>core_id</th>\n",
       "      <th>country</th>\n",
       "      <th>guide</th>\n",
       "      <th>logo</th>\n",
       "      <th>nid</th>\n",
       "      <th>rank_display</th>\n",
       "      <th>region</th>\n",
       "      <th>score</th>\n",
       "      <th>stars</th>\n",
       "      <th>title</th>\n",
       "      <th>url</th>\n",
       "    </tr>\n",
       "  </thead>\n",
       "  <tbody>\n",
       "    <tr>\n",
       "      <th>0</th>\n",
       "      <td>US</td>\n",
       "      <td>410</td>\n",
       "      <td>United States</td>\n",
       "      <td>&lt;a href=\"/where-to-study/north-america/united-...</td>\n",
       "      <td>&lt;img src=\"https://www.topuniversities.com/site...</td>\n",
       "      <td>294850</td>\n",
       "      <td>1</td>\n",
       "      <td>North America</td>\n",
       "      <td>100</td>\n",
       "      <td>6</td>\n",
       "      <td>Massachusetts Institute of Technology (MIT)</td>\n",
       "      <td>/universities/massachusetts-institute-technolo...</td>\n",
       "    </tr>\n",
       "    <tr>\n",
       "      <th>1</th>\n",
       "      <td>US</td>\n",
       "      <td>573</td>\n",
       "      <td>United States</td>\n",
       "      <td>&lt;a href=\"/where-to-study/north-america/united-...</td>\n",
       "      <td>&lt;img src=\"https://www.topuniversities.com/site...</td>\n",
       "      <td>297282</td>\n",
       "      <td>2</td>\n",
       "      <td>North America</td>\n",
       "      <td>98.7</td>\n",
       "      <td>5</td>\n",
       "      <td>Stanford University</td>\n",
       "      <td>/universities/stanford-university</td>\n",
       "    </tr>\n",
       "    <tr>\n",
       "      <th>2</th>\n",
       "      <td>US</td>\n",
       "      <td>253</td>\n",
       "      <td>United States</td>\n",
       "      <td>&lt;a href=\"/where-to-study/north-america/united-...</td>\n",
       "      <td>&lt;img src=\"https://www.topuniversities.com/site...</td>\n",
       "      <td>294270</td>\n",
       "      <td>3</td>\n",
       "      <td>North America</td>\n",
       "      <td>98.4</td>\n",
       "      <td>5</td>\n",
       "      <td>Harvard University</td>\n",
       "      <td>/universities/harvard-university</td>\n",
       "    </tr>\n",
       "    <tr>\n",
       "      <th>3</th>\n",
       "      <td>US</td>\n",
       "      <td>94</td>\n",
       "      <td>United States</td>\n",
       "      <td>&lt;a href=\"/where-to-study/north-america/united-...</td>\n",
       "      <td>&lt;img src=\"https://www.topuniversities.com/site...</td>\n",
       "      <td>294562</td>\n",
       "      <td>4</td>\n",
       "      <td>North America</td>\n",
       "      <td>97.7</td>\n",
       "      <td>5</td>\n",
       "      <td>California Institute of Technology (Caltech)</td>\n",
       "      <td>/universities/california-institute-technology-...</td>\n",
       "    </tr>\n",
       "    <tr>\n",
       "      <th>4</th>\n",
       "      <td>GB</td>\n",
       "      <td>95</td>\n",
       "      <td>United Kingdom</td>\n",
       "      <td>&lt;a href=\"/where-to-study/europe/united-kingdom...</td>\n",
       "      <td>&lt;img src=\"https://www.topuniversities.com/site...</td>\n",
       "      <td>294561</td>\n",
       "      <td>5</td>\n",
       "      <td>Europe</td>\n",
       "      <td>95.6</td>\n",
       "      <td>5</td>\n",
       "      <td>University of Cambridge</td>\n",
       "      <td>/universities/university-cambridge</td>\n",
       "    </tr>\n",
       "  </tbody>\n",
       "</table>\n",
       "</div>"
      ],
      "text/plain": [
       "   cc core_id         country  \\\n",
       "0  US     410   United States   \n",
       "1  US     573   United States   \n",
       "2  US     253   United States   \n",
       "3  US      94   United States   \n",
       "4  GB      95  United Kingdom   \n",
       "\n",
       "                                               guide  \\\n",
       "0  <a href=\"/where-to-study/north-america/united-...   \n",
       "1  <a href=\"/where-to-study/north-america/united-...   \n",
       "2  <a href=\"/where-to-study/north-america/united-...   \n",
       "3  <a href=\"/where-to-study/north-america/united-...   \n",
       "4  <a href=\"/where-to-study/europe/united-kingdom...   \n",
       "\n",
       "                                                logo     nid rank_display  \\\n",
       "0  <img src=\"https://www.topuniversities.com/site...  294850            1   \n",
       "1  <img src=\"https://www.topuniversities.com/site...  297282            2   \n",
       "2  <img src=\"https://www.topuniversities.com/site...  294270            3   \n",
       "3  <img src=\"https://www.topuniversities.com/site...  294562            4   \n",
       "4  <img src=\"https://www.topuniversities.com/site...  294561            5   \n",
       "\n",
       "          region score stars                                         title  \\\n",
       "0  North America   100     6   Massachusetts Institute of Technology (MIT)   \n",
       "1  North America  98.7     5                           Stanford University   \n",
       "2  North America  98.4     5                            Harvard University   \n",
       "3  North America  97.7     5  California Institute of Technology (Caltech)   \n",
       "4         Europe  95.6     5                       University of Cambridge   \n",
       "\n",
       "                                                 url  \n",
       "0  /universities/massachusetts-institute-technolo...  \n",
       "1                  /universities/stanford-university  \n",
       "2                   /universities/harvard-university  \n",
       "3  /universities/california-institute-technology-...  \n",
       "4                 /universities/university-cambridge  "
      ]
     },
     "execution_count": 4,
     "metadata": {},
     "output_type": "execute_result"
    }
   ],
   "source": [
    "univ_df = pd.DataFrame(univ_vals)\n",
    "univ_df.head()"
   ]
  },
  {
   "cell_type": "markdown",
   "metadata": {},
   "source": [
    "keep only : \n",
    "1. name, rank, country and region\n",
    "2. number of faculty members (international and total) and number of students (international and total)\n",
    "\n",
    "second part must be retrieved from different request"
   ]
  },
  {
   "cell_type": "markdown",
   "metadata": {},
   "source": [
    "### Task 1.0.1 Clear rank and drop data not needed"
   ]
  },
  {
   "cell_type": "markdown",
   "metadata": {},
   "source": [
    "<div class=\"lev1\"><a href=\"#Table-of-Contents\"><span class=\"toc-item-num\"></span>Table of contents</a></div>"
   ]
  },
  {
   "cell_type": "markdown",
   "metadata": {},
   "source": [
    "At first I cleaned 'rank_display'. After that I found out I could just assigne the order as rank. This gives a better result since I don't have to clean 'rank_display' neither to bother with interval ranks"
   ]
  },
  {
   "cell_type": "code",
   "execution_count": 5,
   "metadata": {
    "collapsed": true
   },
   "outputs": [],
   "source": [
    "#extracts the int value from a rank formatted either as =rank, rank or \n",
    "#rank_min-rank_max (last case will be replaced by rank_min)\n",
    "def clean_rank(r):\n",
    "    if(r[0] == '='):\n",
    "        return int(r[1:]) \n",
    "    elif len(r) > 3 and r[3] == '-':\n",
    "            return int(r[:3])\n",
    "    else:\n",
    "        return int(r)"
   ]
  },
  {
   "cell_type": "code",
   "execution_count": 6,
   "metadata": {},
   "outputs": [
    {
     "data": {
      "text/html": [
       "<div>\n",
       "<style>\n",
       "    .dataframe thead tr:only-child th {\n",
       "        text-align: right;\n",
       "    }\n",
       "\n",
       "    .dataframe thead th {\n",
       "        text-align: left;\n",
       "    }\n",
       "\n",
       "    .dataframe tbody tr th {\n",
       "        vertical-align: top;\n",
       "    }\n",
       "</style>\n",
       "<table border=\"1\" class=\"dataframe\">\n",
       "  <thead>\n",
       "    <tr style=\"text-align: right;\">\n",
       "      <th></th>\n",
       "      <th>country</th>\n",
       "      <th>rank_display</th>\n",
       "      <th>region</th>\n",
       "      <th>title</th>\n",
       "    </tr>\n",
       "  </thead>\n",
       "  <tbody>\n",
       "    <tr>\n",
       "      <th>0</th>\n",
       "      <td>United States</td>\n",
       "      <td>1</td>\n",
       "      <td>North America</td>\n",
       "      <td>Massachusetts Institute of Technology (MIT)</td>\n",
       "    </tr>\n",
       "    <tr>\n",
       "      <th>1</th>\n",
       "      <td>United States</td>\n",
       "      <td>2</td>\n",
       "      <td>North America</td>\n",
       "      <td>Stanford University</td>\n",
       "    </tr>\n",
       "    <tr>\n",
       "      <th>2</th>\n",
       "      <td>United States</td>\n",
       "      <td>3</td>\n",
       "      <td>North America</td>\n",
       "      <td>Harvard University</td>\n",
       "    </tr>\n",
       "    <tr>\n",
       "      <th>3</th>\n",
       "      <td>United States</td>\n",
       "      <td>4</td>\n",
       "      <td>North America</td>\n",
       "      <td>California Institute of Technology (Caltech)</td>\n",
       "    </tr>\n",
       "    <tr>\n",
       "      <th>4</th>\n",
       "      <td>United Kingdom</td>\n",
       "      <td>5</td>\n",
       "      <td>Europe</td>\n",
       "      <td>University of Cambridge</td>\n",
       "    </tr>\n",
       "  </tbody>\n",
       "</table>\n",
       "</div>"
      ],
      "text/plain": [
       "          country  rank_display         region  \\\n",
       "0   United States             1  North America   \n",
       "1   United States             2  North America   \n",
       "2   United States             3  North America   \n",
       "3   United States             4  North America   \n",
       "4  United Kingdom             5         Europe   \n",
       "\n",
       "                                          title  \n",
       "0   Massachusetts Institute of Technology (MIT)  \n",
       "1                           Stanford University  \n",
       "2                            Harvard University  \n",
       "3  California Institute of Technology (Caltech)  \n",
       "4                       University of Cambridge  "
      ]
     },
     "execution_count": 6,
     "metadata": {},
     "output_type": "execute_result"
    }
   ],
   "source": [
    "#drops useless columns and cleans ranks\n",
    "univ_dr_df = univ_df.drop('guide', 1).drop('logo', 1).drop('stars', 1).drop('url', 1) \\\n",
    ".drop('score', 1).drop('cc', 1).drop('core_id', 1).drop('nid', 1)\n",
    "univ_dr_df['rank_display'] = univ_dr_df['rank_display'].map(clean_rank)\n",
    "univ_dr_df.head()"
   ]
  },
  {
   "cell_type": "code",
   "execution_count": 7,
   "metadata": {},
   "outputs": [
    {
     "data": {
      "text/html": [
       "<div>\n",
       "<style>\n",
       "    .dataframe thead tr:only-child th {\n",
       "        text-align: right;\n",
       "    }\n",
       "\n",
       "    .dataframe thead th {\n",
       "        text-align: left;\n",
       "    }\n",
       "\n",
       "    .dataframe tbody tr th {\n",
       "        vertical-align: top;\n",
       "    }\n",
       "</style>\n",
       "<table border=\"1\" class=\"dataframe\">\n",
       "  <thead>\n",
       "    <tr style=\"text-align: right;\">\n",
       "      <th></th>\n",
       "      <th>country</th>\n",
       "      <th>rank_display</th>\n",
       "      <th>region</th>\n",
       "      <th>title</th>\n",
       "    </tr>\n",
       "  </thead>\n",
       "  <tbody>\n",
       "    <tr>\n",
       "      <th>0</th>\n",
       "      <td>United States</td>\n",
       "      <td>1</td>\n",
       "      <td>North America</td>\n",
       "      <td>Massachusetts Institute of Technology (MIT)</td>\n",
       "    </tr>\n",
       "    <tr>\n",
       "      <th>1</th>\n",
       "      <td>United States</td>\n",
       "      <td>2</td>\n",
       "      <td>North America</td>\n",
       "      <td>Stanford University</td>\n",
       "    </tr>\n",
       "    <tr>\n",
       "      <th>2</th>\n",
       "      <td>United States</td>\n",
       "      <td>3</td>\n",
       "      <td>North America</td>\n",
       "      <td>Harvard University</td>\n",
       "    </tr>\n",
       "    <tr>\n",
       "      <th>3</th>\n",
       "      <td>United States</td>\n",
       "      <td>4</td>\n",
       "      <td>North America</td>\n",
       "      <td>California Institute of Technology (Caltech)</td>\n",
       "    </tr>\n",
       "    <tr>\n",
       "      <th>4</th>\n",
       "      <td>United Kingdom</td>\n",
       "      <td>5</td>\n",
       "      <td>Europe</td>\n",
       "      <td>University of Cambridge</td>\n",
       "    </tr>\n",
       "  </tbody>\n",
       "</table>\n",
       "</div>"
      ],
      "text/plain": [
       "          country  rank_display         region  \\\n",
       "0   United States             1  North America   \n",
       "1   United States             2  North America   \n",
       "2   United States             3  North America   \n",
       "3   United States             4  North America   \n",
       "4  United Kingdom             5         Europe   \n",
       "\n",
       "                                          title  \n",
       "0   Massachusetts Institute of Technology (MIT)  \n",
       "1                           Stanford University  \n",
       "2                            Harvard University  \n",
       "3  California Institute of Technology (Caltech)  \n",
       "4                       University of Cambridge  "
      ]
     },
     "execution_count": 7,
     "metadata": {},
     "output_type": "execute_result"
    }
   ],
   "source": [
    "#replace rank by index+1 in case this is an invalid way to do, just ignore this cell\n",
    "univ_dr_df[['rank_display']] = univ_dr_df.index + 1\n",
    "univ_dr_df.head()"
   ]
  },
  {
   "cell_type": "markdown",
   "metadata": {},
   "source": [
    "### Task 1.0.2 Test soup for missing data"
   ]
  },
  {
   "cell_type": "markdown",
   "metadata": {},
   "source": [
    "<div class=\"lev1\"><a href=\"#Table-of-Contents\"><span class=\"toc-item-num\"></span>Table of contents</a></div>"
   ]
  },
  {
   "cell_type": "code",
   "execution_count": 8,
   "metadata": {},
   "outputs": [
    {
     "data": {
      "text/plain": [
       "'<!DOCTYPE html>\\n<html dir=\"ltr\" version=\"XHTML+RDFa 1.0\" xml:lang=\"en\" xmlns=\"http://www.w3.org/1999/xhtml\" xmlns:article=\"http://ogp.me/ns/article#\" xmlns:book=\"http://ogp.me/ns/book#\" xmlns:content=\"http://purl.org/rss/1.0/modules/content/\" xmlns:dc=\"http://purl.org/dc/terms/\" xmlns:foaf=\"http://xmlns.com/foaf/0.1/\" xmlns:og=\"http://ogp.me/ns#\" xmlns:product=\"http://ogp.me/ns/product#\" xmlns:profile=\"http://ogp.me/ns/profile#\" xmlns:rdfs=\"http://www.w3.org/2000/01/rdf-schema#\" xmlns:schema=\"http://schema.org/\" xmlns:sioc=\"http://rdfs.org/sioc/ns#\" xmlns:sioct=\"http://rdfs.org/sioc/types#\" xm'"
      ]
     },
     "execution_count": 8,
     "metadata": {},
     "output_type": "execute_result"
    }
   ],
   "source": [
    "#Retrieve the soup for the caltech description page\n",
    "url_caltech = 'https://www.topuniversities.com/universities/california-institute-technology-caltech#wurs'\n",
    "r_caltech = requests.get(url_caltech)\n",
    "soup_caltech = BeautifulSoup(r_caltech.text, 'html.parser')\n",
    "soup_caltech.prettify()[0:600]"
   ]
  },
  {
   "cell_type": "markdown",
   "metadata": {},
   "source": [
    "From the soup, with a quick ctrl+f on the number displayed on the corresponding page, I was able to identify the elements which contained the value I was interested in:\n",
    "1. Number of international students ``<div class=\"int-students-main wrapper col-md-4\"> \\ <div class=\"number\">``\n",
    "    \n",
    "2. Number of students ``<div class=\"students-main wrapper col-md-4\"> \\ <div class=\"number\">``\n",
    "\n",
    "3. Number of faculty staff in total ``<div class=\"faculty-main wrapper col-md-4\"> \\ <div class=\"number\">``\n",
    "\n",
    "4. Number of faculty staff international ``<div class=\"inter faculty\"> \\ <div class=\"number\">``"
   ]
  },
  {
   "cell_type": "code",
   "execution_count": 9,
   "metadata": {},
   "outputs": [
    {
     "data": {
      "text/plain": [
       "'647 '"
      ]
     },
     "execution_count": 9,
     "metadata": {},
     "output_type": "execute_result"
    }
   ],
   "source": [
    "#extracts the number of international students\n",
    "caltech_inter_st = soup_caltech.find('div', class_='int-students-main wrapper col-md-4').find('div', class_='number').text\n",
    "caltech_inter_st[1:]"
   ]
  },
  {
   "cell_type": "code",
   "execution_count": 10,
   "metadata": {},
   "outputs": [
    {
     "data": {
      "text/plain": [
       "'2,255 '"
      ]
     },
     "execution_count": 10,
     "metadata": {},
     "output_type": "execute_result"
    }
   ],
   "source": [
    "#extracts the number of students\n",
    "caltech_st = soup_caltech.find('div', class_ = 'students-main wrapper col-md-4').find('div', class_='number').text\n",
    "caltech_st[1:]"
   ]
  },
  {
   "cell_type": "markdown",
   "metadata": {},
   "source": [
    "Now we can test with MIT to see whether the parsing works the same (which is probably the case). If it works, then we will iterate over the links in the dataframe to parse the values of interest for each university"
   ]
  },
  {
   "cell_type": "code",
   "execution_count": 11,
   "metadata": {},
   "outputs": [
    {
     "data": {
      "text/plain": [
       "'3,717 '"
      ]
     },
     "execution_count": 11,
     "metadata": {},
     "output_type": "execute_result"
    }
   ],
   "source": [
    "#checks if the extraction canvas works for another university\n",
    "url_mit = 'https://www.topuniversities.com/universities/massachusetts-institute-technology-mit#wurs'\n",
    "r_mit = requests.get(url_mit)\n",
    "soup_mit = BeautifulSoup(r_mit.text, 'html.parser')\n",
    "soup_mit.find('div', class_='int-students-main wrapper col-md-4').find('div', class_='number').text[1:]\n"
   ]
  },
  {
   "cell_type": "code",
   "execution_count": 12,
   "metadata": {
    "collapsed": true
   },
   "outputs": [],
   "source": [
    "#tries to retrieve the value contained in the child <block_p class = 'class_p'>, hence contained in <block_c class='class_c'\n",
    "#returns NaN if one of both block is not found\n",
    "def retrieve(soup, block_p, class_p, block_c, class_c):\n",
    "    parent = soup.find(block_p, class_p)\n",
    "    if parent is None:\n",
    "        return 'failed'\n",
    "    else:\n",
    "        child = parent.find(block_c, class_c)\n",
    "        if child is None:\n",
    "            return 'failed'\n",
    "        else:\n",
    "            return int(child.text[1:].replace(',',''))\n",
    "    "
   ]
  },
  {
   "cell_type": "code",
   "execution_count": 13,
   "metadata": {},
   "outputs": [
    {
     "data": {
      "text/plain": [
       "3717"
      ]
     },
     "execution_count": 13,
     "metadata": {},
     "output_type": "execute_result"
    }
   ],
   "source": [
    "#test function for valid arguments\n",
    "retrieve(soup_mit, 'div', 'int-students-main wrapper col-md-4', 'div', 'number')"
   ]
  },
  {
   "cell_type": "code",
   "execution_count": 14,
   "metadata": {},
   "outputs": [
    {
     "data": {
      "text/plain": [
       "'failed'"
      ]
     },
     "execution_count": 14,
     "metadata": {},
     "output_type": "execute_result"
    }
   ],
   "source": [
    "#test function for invalid argument class_p\n",
    "retrieve(soup_mit, 'div', 'int-st-main wrapper col-md-4', 'div', 'number')"
   ]
  },
  {
   "cell_type": "code",
   "execution_count": 15,
   "metadata": {},
   "outputs": [
    {
     "data": {
      "text/plain": [
       "'failed'"
      ]
     },
     "execution_count": 15,
     "metadata": {},
     "output_type": "execute_result"
    }
   ],
   "source": [
    "#test function for invalid argument class_c\n",
    "retrieve(soup_mit, 'div', 'int-students-main wrapper col-md-4', 'div', 'nber')"
   ]
  },
  {
   "cell_type": "code",
   "execution_count": 16,
   "metadata": {
    "collapsed": true
   },
   "outputs": [],
   "source": [
    "#simplify the call for our usage\n",
    "def retrieve_div_number(soup, class_p):\n",
    "    return retrieve(soup, 'div', class_p, 'div', 'number')"
   ]
  },
  {
   "cell_type": "code",
   "execution_count": 17,
   "metadata": {},
   "outputs": [
    {
     "data": {
      "text/plain": [
       "3717"
      ]
     },
     "execution_count": 17,
     "metadata": {},
     "output_type": "execute_result"
    }
   ],
   "source": [
    "#test function with valid arguments\n",
    "retrieve_div_number(soup_mit, 'int-students-main wrapper col-md-4')"
   ]
  },
  {
   "cell_type": "markdown",
   "metadata": {},
   "source": [
    "### Task 1.0.3 Prepare url for missing data"
   ]
  },
  {
   "cell_type": "markdown",
   "metadata": {},
   "source": [
    "<div class=\"lev1\"><a href=\"#Table-of-Contents\"><span class=\"toc-item-num\"></span>Table of contents</a></div>"
   ]
  },
  {
   "cell_type": "code",
   "execution_count": 18,
   "metadata": {},
   "outputs": [
    {
     "data": {
      "text/plain": [
       "['https://www.topuniversities.com/universities/massachusetts-institute-technology-mit#wurs',\n",
       " 'https://www.topuniversities.com/universities/stanford-university#wurs',\n",
       " 'https://www.topuniversities.com/universities/harvard-university#wurs',\n",
       " 'https://www.topuniversities.com/universities/california-institute-technology-caltech#wurs',\n",
       " 'https://www.topuniversities.com/universities/university-cambridge#wurs']"
      ]
     },
     "execution_count": 18,
     "metadata": {},
     "output_type": "execute_result"
    }
   ],
   "source": [
    "#Prepare urls for request-loop\n",
    "u_urls = np.array(univ_df[['url']].values)\n",
    "univ_urls = []\n",
    "main_url = 'https://www.topuniversities.com'\n",
    "for url_ in u_urls:\n",
    "    url = url_[0]\n",
    "    univ_urls.append(main_url + url + '#wurs')\n",
    "univ_urls[:5]"
   ]
  },
  {
   "cell_type": "code",
   "execution_count": 19,
   "metadata": {},
   "outputs": [
    {
     "data": {
      "text/plain": [
       "959"
      ]
     },
     "execution_count": 19,
     "metadata": {},
     "output_type": "execute_result"
    }
   ],
   "source": [
    "len(univ_urls)"
   ]
  },
  {
   "cell_type": "markdown",
   "metadata": {},
   "source": [
    "### Task 1.0.4 Get missing data function"
   ]
  },
  {
   "cell_type": "markdown",
   "metadata": {},
   "source": [
    "<div class=\"lev1\"><a href=\"#Table-of-Contents\"><span class=\"toc-item-num\"></span>Table of contents</a></div>"
   ]
  },
  {
   "cell_type": "markdown",
   "metadata": {},
   "source": [
    "Since doing the 959 requests in one go didn't work, I will manually split the requests in chunks as big as possible to minimize the merge step"
   ]
  },
  {
   "cell_type": "code",
   "execution_count": 20,
   "metadata": {
    "collapsed": true
   },
   "outputs": [],
   "source": [
    "#First attempt to do the requests, too blocking for 959 requests\n",
    "def get_missing_data(urls):\n",
    "    international_students = []\n",
    "    students = []\n",
    "    international_faculty = []\n",
    "    faculty = []\n",
    "\n",
    "    for url in urls:\n",
    "    \n",
    "        r = requests.get(url)\n",
    "        soup = BeautifulSoup(r.text, 'html.parser')\n",
    "    \n",
    "        inter_st = retrieve_div_number(soup, 'int-students-main wrapper col-md-4')\n",
    "        st = retrieve_div_number(soup, 'students-main wrapper col-md-4')\n",
    "        inter_fac = retrieve_div_number(soup, 'faculty-main wrapper col-md-4')\n",
    "        fac = retrieve_div_number(soup, 'inter faculty')\n",
    "    \n",
    "        international_students.append(inter_st)\n",
    "        students.append(st)\n",
    "        international_faculty.append(inter_fac)\n",
    "        faculty.append(fac)\n",
    "\n",
    "    return international_students, students, international_faculty, faculty"
   ]
  },
  {
   "cell_type": "code",
   "execution_count": 21,
   "metadata": {
    "collapsed": true
   },
   "outputs": [],
   "source": [
    "#store result in arrays\n",
    "inter_s, s, inter_f, f = get_missing_data(univ_urls[:5])"
   ]
  },
  {
   "cell_type": "code",
   "execution_count": 22,
   "metadata": {
    "scrolled": false
   },
   "outputs": [
    {
     "data": {
      "text/plain": [
       "[3717, 3611, 5266, 647, 6699]"
      ]
     },
     "execution_count": 22,
     "metadata": {},
     "output_type": "execute_result"
    }
   ],
   "source": [
    "inter_s"
   ]
  },
  {
   "cell_type": "markdown",
   "metadata": {},
   "source": [
    "### Task 1.0.5 Prepare callback to import all data"
   ]
  },
  {
   "cell_type": "markdown",
   "metadata": {},
   "source": [
    "<div class=\"lev1\"><a href=\"#Table-of-Contents\"><span class=\"toc-item-num\"></span>Table of contents</a></div>"
   ]
  },
  {
   "cell_type": "markdown",
   "metadata": {},
   "source": [
    "Since this is super slow, we will use the package future-requests that will make non-blocking requests. While waiting, I will treat only a small part of the data. When requests complete, I store the results in variables and its all good. This is the reason for the small block before the function"
   ]
  },
  {
   "cell_type": "code",
   "execution_count": 23,
   "metadata": {
    "collapsed": true
   },
   "outputs": [],
   "source": [
    "#declare globals for second methods\n",
    "international_st = []\n",
    "students = []\n",
    "international_fac = []\n",
    "fac = []\n",
    "bad_soups = []\n",
    "futures = []\n",
    "num_request = 1\n",
    "count = 0"
   ]
  },
  {
   "cell_type": "code",
   "execution_count": 24,
   "metadata": {
    "collapsed": true
   },
   "outputs": [],
   "source": [
    "#helper to reset globals\n",
    "def reset_arrays():\n",
    "    global international_st\n",
    "    global students\n",
    "    global international_fac\n",
    "    global fac\n",
    "    global bad_soups \n",
    "    global count\n",
    "    \n",
    "    international_st = []\n",
    "    students = []\n",
    "    international_fac = []\n",
    "    fac = []\n",
    "    bad_soups = []\n",
    "    count = 0\n",
    "    return 0"
   ]
  },
  {
   "cell_type": "code",
   "execution_count": 25,
   "metadata": {
    "collapsed": true
   },
   "outputs": [],
   "source": [
    "#proceeds request when completed in background:\n",
    "# extract soup, extract values\n",
    "def callback(future):\n",
    "    r = future.result()\n",
    "    soup = BeautifulSoup(r.text, 'html.parser')\n",
    "    \n",
    "    global international_st\n",
    "    global students\n",
    "    global international_fac\n",
    "    global fac\n",
    "    global num_request\n",
    "    global count\n",
    "    global bad_soups\n",
    "    count = count + 1\n",
    "    if count > num_request:\n",
    "        international_st = []\n",
    "        students = []\n",
    "        international_fac = []\n",
    "        fac = []\n",
    "        count = 0\n",
    "    \n",
    "    inter_st = retrieve_div_number(soup, 'int-students-main wrapper col-md-4')\n",
    "    st = retrieve_div_number(soup, 'students-main wrapper col-md-4')\n",
    "    inter_fac = retrieve_div_number(soup, 'inter faculty')\n",
    "    f = retrieve_div_number(soup, 'faculty-main wrapper col-md-4')\n",
    "    if(f == 'failed'):\n",
    "        f = retrieve_div_number(soup, 'total faculty')\n",
    "    if inter_st == 'failed' or st == 'failed' or inter_fac == 'failed' or f == 'failed':\n",
    "        bad_soups.append(soup)\n",
    "    international_st.append(inter_st)\n",
    "    students.append(st)\n",
    "    international_fac.append(inter_fac)\n",
    "    fac.append(f)"
   ]
  },
  {
   "cell_type": "markdown",
   "metadata": {},
   "source": [
    "### Task 1.0.6 Import Data"
   ]
  },
  {
   "cell_type": "markdown",
   "metadata": {},
   "source": [
    "<div class=\"lev1\"><a href=\"#Table-of-Contents\"><span class=\"toc-item-num\"></span>Table of contents</a></div>"
   ]
  },
  {
   "cell_type": "markdown",
   "metadata": {
    "collapsed": true
   },
   "source": [
    "Now we can do our 959 requests in background. For it to work, we must recompile the initilisation of arrays as well as the callback function"
   ]
  },
  {
   "cell_type": "markdown",
   "metadata": {},
   "source": [
    "The following block will play a small sound when the requests are done. For it to work you need to install python-vlc   \n",
    "$ pip install python-vlc"
   ]
  },
  {
   "cell_type": "code",
   "execution_count": 26,
   "metadata": {
    "collapsed": true
   },
   "outputs": [],
   "source": [
    "#plays a fancy sound, customizable with other sounds in the fancy_sounds folder\n",
    "import vlc\n",
    "def play_sound(future):\n",
    "    folder_path = 'fancy_sounds/'\n",
    "    music_path = 'zelda_small_item.wav'\n",
    "    p = vlc.MediaPlayer(folder_path + music_path)\n",
    "    p.play()\n",
    "    return 0"
   ]
  },
  {
   "cell_type": "code",
   "execution_count": 27,
   "metadata": {
    "collapsed": true
   },
   "outputs": [],
   "source": [
    "#initialize session for background threads\n",
    "from requests_futures.sessions import FuturesSession\n",
    "session = FuturesSession()"
   ]
  },
  {
   "cell_type": "code",
   "execution_count": 28,
   "metadata": {
    "scrolled": true
   },
   "outputs": [
    {
     "data": {
      "application/vnd.jupyter.widget-view+json": {
       "model_id": "d73a6cee29014c98b4dc0a4069c71508",
       "version_major": 2,
       "version_minor": 0
      },
      "text/plain": [
       "A Jupyter Widget"
      ]
     },
     "metadata": {},
     "output_type": "display_data"
    }
   ],
   "source": [
    "#displays a progress bar for the requests in backgrounds\n",
    "import threading\n",
    "from IPython.display import display\n",
    "import ipywidgets as widgets\n",
    "import time\n",
    "import sys\n",
    "progress = widgets.FloatProgress(value=0.0, min=0.0, max=1.0)\n",
    "\n",
    "def work(progress):\n",
    "    global fac\n",
    "    while(len(fac) <= num_request):\n",
    "        progress.value = len(fac)/num_request\n",
    "thread = threading.Thread(target=work, args=(progress,))\n",
    "display(progress)\n",
    "thread.start()"
   ]
  },
  {
   "cell_type": "code",
   "execution_count": 29,
   "metadata": {
    "collapsed": true
   },
   "outputs": [],
   "source": [
    "#initiate background requests. The number of requests should be customized on the next line\n",
    "url_slice = univ_urls[:10]\n",
    "num_request = len(url_slice)\n",
    "url_last_idx = len(url_slice) - 1\n",
    "reset_arrays()\n",
    "for i_url, url in enumerate(url_slice):\n",
    "    # On fait notre requête GET\n",
    "    future = session.get(url)\n",
    "    # On rajoute le callback à appeler quand\n",
    "    # le résultat de la requête arrive.\n",
    "    if i_url != url_last_idx:\n",
    "        futures.append(future)\n",
    "    future.add_done_callback(callback)\n",
    "    if i_url == (url_last_idx):\n",
    "        future.add_done_callback(play_sound)"
   ]
  },
  {
   "cell_type": "markdown",
   "metadata": {},
   "source": [
    "missing data (NaN fields):\n",
    "    1. [400:500] Universidad Externado de Colombia missing international students (can put 0)\n",
    "    2. [500:600] Iran University of Science and Technology missing international fac/students (can put 0)\n",
    "    3. [600:700]\n",
    "        1. Jadavpur University:             missing international fac (can put 0)\n",
    "        2. Universidad Iberoamericana IBERO missing international fac/students (can put 0)\n",
    "        3. University of Haifa              \"--------------------------------------------\"\n",
    "        4. University of Hyderabad          missing international fac (can put 0)\n",
    "        5. Anna University                  missing international fac/students (can put 0)\n",
    "        6. Universidad del Pais Vasco       missing international fac (can put 0)\n",
    "        7. University of Minho              missing internation fac/students (can put 0)\n",
    "        8. University of Minho              \"------------------------------------------\"\n",
    "    4. [700:800]\n",
    "        1. Comenius University in Bratislava   missing international fac (can put 0)\n",
    "        2. Memorial University of Newfoundland \"------------------------------------\"\n",
    "        3. Rhodes University                   \"------------------------------------\"\n",
    "        4. Paris Lodron University of Salzburg \"------------------------------------\"\n",
    "        5. University of Colombo               \"------------------------------------\"\n",
    "\n",
    "it seems the NaN values can be replaced by 0, I won't check the last ones since there are 15 in the next category and 13 in the last respectively [800:900] and [900:]"
   ]
  },
  {
   "cell_type": "code",
   "execution_count": 30,
   "metadata": {},
   "outputs": [
    {
     "data": {
      "text/plain": [
       "0"
      ]
     },
     "execution_count": 30,
     "metadata": {},
     "output_type": "execute_result"
    }
   ],
   "source": [
    "#At this point, there must be 38 bad soups when you run all requests. All bad soups values are replaced by 0 later\n",
    "len(bad_soups)"
   ]
  },
  {
   "cell_type": "markdown",
   "metadata": {},
   "source": [
    "### Task 1.0.7 Kill data if needed"
   ]
  },
  {
   "cell_type": "markdown",
   "metadata": {},
   "source": [
    "### <b> Warning: Running the following cell will cancell all pending requests, corrupting the data in the process </b>\n",
    "Note that to run the cell you have to change 'False' in 'True' in the if statement"
   ]
  },
  {
   "cell_type": "markdown",
   "metadata": {},
   "source": [
    "<div class=\"lev1\"><a href=\"#Table-of-Contents\"><span class=\"toc-item-num\"></span>Table of contents</a></div>"
   ]
  },
  {
   "cell_type": "code",
   "execution_count": 31,
   "metadata": {},
   "outputs": [
    {
     "data": {
      "text/plain": [
       "''"
      ]
     },
     "execution_count": 31,
     "metadata": {},
     "output_type": "execute_result"
    }
   ],
   "source": [
    "# attempts to kill waiting requests: if attempt is successful, bar doesn't move. Goal is to cancel all but last requests\n",
    "# in order to instantly play sound and complete only one request\n",
    "if False:\n",
    "    for fu in futures:\n",
    "        # cancel request on this url\n",
    "        fu.cancel()\n",
    "    reset_arrays()\n",
    "    futures = []\n",
    "\n",
    "#Last try it seemed to work. We reset arrays twice since the canceling of\n",
    "#asynchronous requests is asynchronous, the reset might happen before all requests are canceled\n",
    "#and some requests might finish in the meantime (after reset)\n",
    ";"
   ]
  },
  {
   "cell_type": "markdown",
   "metadata": {},
   "source": [
    "#### <b> Next block will close background requests, uncomment and use carefully </b>"
   ]
  },
  {
   "cell_type": "code",
   "execution_count": 32,
   "metadata": {},
   "outputs": [
    {
     "data": {
      "text/plain": [
       "0"
      ]
     },
     "execution_count": 32,
     "metadata": {},
     "output_type": "execute_result"
    }
   ],
   "source": [
    "#bad_soups contains all the soups from which we were unable to scrap data. \n",
    "#After requests are finished, the block should compile to 0\n",
    "len(bad_soups)"
   ]
  },
  {
   "cell_type": "markdown",
   "metadata": {},
   "source": [
    "Si vous lancez de nouvelles requête avant que les précédentes soient terminées, vous avez de forte chances que la data soit corrompue. Dans ce cas attendez la fin des requêtes en cours, puis relancez la boucle ci-dessus"
   ]
  },
  {
   "cell_type": "markdown",
   "metadata": {},
   "source": [
    "You can see the requests progress here. If you want to do something else, a sound will be played as the requests complete"
   ]
  },
  {
   "cell_type": "markdown",
   "metadata": {},
   "source": [
    "Now that you finished your coffee and were alerted by the fancy sounds that you could pursue the compilation, we can finally use our well-deserved data"
   ]
  },
  {
   "cell_type": "code",
   "execution_count": 33,
   "metadata": {},
   "outputs": [
    {
     "data": {
      "text/html": [
       "<div>\n",
       "<style>\n",
       "    .dataframe thead tr:only-child th {\n",
       "        text-align: right;\n",
       "    }\n",
       "\n",
       "    .dataframe thead th {\n",
       "        text-align: left;\n",
       "    }\n",
       "\n",
       "    .dataframe tbody tr th {\n",
       "        vertical-align: top;\n",
       "    }\n",
       "</style>\n",
       "<table border=\"1\" class=\"dataframe\">\n",
       "  <thead>\n",
       "    <tr style=\"text-align: right;\">\n",
       "      <th></th>\n",
       "      <th>inter_st</th>\n",
       "      <th>students</th>\n",
       "      <th>inter_fac</th>\n",
       "      <th>fac</th>\n",
       "    </tr>\n",
       "  </thead>\n",
       "  <tbody>\n",
       "    <tr>\n",
       "      <th>0</th>\n",
       "      <td>3611</td>\n",
       "      <td>15878</td>\n",
       "      <td>2042</td>\n",
       "      <td>4285</td>\n",
       "    </tr>\n",
       "    <tr>\n",
       "      <th>1</th>\n",
       "      <td>3717</td>\n",
       "      <td>11067</td>\n",
       "      <td>1679</td>\n",
       "      <td>2982</td>\n",
       "    </tr>\n",
       "  </tbody>\n",
       "</table>\n",
       "</div>"
      ],
      "text/plain": [
       "   inter_st  students  inter_fac   fac\n",
       "0      3611     15878       2042  4285\n",
       "1      3717     11067       1679  2982"
      ]
     },
     "execution_count": 33,
     "metadata": {},
     "output_type": "execute_result"
    }
   ],
   "source": [
    "#construct dataframe from individual pages'info\n",
    "missing_df = pd.DataFrame(data= [international_st, students, international_fac, fac],\n",
    "                         index = ['inter_st', 'students', 'inter_fac', 'fac']).transpose()\n",
    "missing_df.head()"
   ]
  },
  {
   "cell_type": "code",
   "execution_count": 34,
   "metadata": {},
   "outputs": [
    {
     "data": {
      "text/html": [
       "<div>\n",
       "<style>\n",
       "    .dataframe thead tr:only-child th {\n",
       "        text-align: right;\n",
       "    }\n",
       "\n",
       "    .dataframe thead th {\n",
       "        text-align: left;\n",
       "    }\n",
       "\n",
       "    .dataframe tbody tr th {\n",
       "        vertical-align: top;\n",
       "    }\n",
       "</style>\n",
       "<table border=\"1\" class=\"dataframe\">\n",
       "  <thead>\n",
       "    <tr style=\"text-align: right;\">\n",
       "      <th></th>\n",
       "      <th>country</th>\n",
       "      <th>region</th>\n",
       "      <th>title</th>\n",
       "      <th>inter_st</th>\n",
       "      <th>students</th>\n",
       "      <th>inter_fac</th>\n",
       "      <th>fac</th>\n",
       "    </tr>\n",
       "    <tr>\n",
       "      <th>rank_display</th>\n",
       "      <th></th>\n",
       "      <th></th>\n",
       "      <th></th>\n",
       "      <th></th>\n",
       "      <th></th>\n",
       "      <th></th>\n",
       "      <th></th>\n",
       "    </tr>\n",
       "  </thead>\n",
       "  <tbody>\n",
       "    <tr>\n",
       "      <th>1</th>\n",
       "      <td>United States</td>\n",
       "      <td>North America</td>\n",
       "      <td>Massachusetts Institute of Technology (MIT)</td>\n",
       "      <td>3611.0</td>\n",
       "      <td>15878.0</td>\n",
       "      <td>2042.0</td>\n",
       "      <td>4285.0</td>\n",
       "    </tr>\n",
       "    <tr>\n",
       "      <th>2</th>\n",
       "      <td>United States</td>\n",
       "      <td>North America</td>\n",
       "      <td>Stanford University</td>\n",
       "      <td>3717.0</td>\n",
       "      <td>11067.0</td>\n",
       "      <td>1679.0</td>\n",
       "      <td>2982.0</td>\n",
       "    </tr>\n",
       "    <tr>\n",
       "      <th>3</th>\n",
       "      <td>United States</td>\n",
       "      <td>North America</td>\n",
       "      <td>Harvard University</td>\n",
       "      <td>NaN</td>\n",
       "      <td>NaN</td>\n",
       "      <td>NaN</td>\n",
       "      <td>NaN</td>\n",
       "    </tr>\n",
       "    <tr>\n",
       "      <th>4</th>\n",
       "      <td>United States</td>\n",
       "      <td>North America</td>\n",
       "      <td>California Institute of Technology (Caltech)</td>\n",
       "      <td>NaN</td>\n",
       "      <td>NaN</td>\n",
       "      <td>NaN</td>\n",
       "      <td>NaN</td>\n",
       "    </tr>\n",
       "    <tr>\n",
       "      <th>5</th>\n",
       "      <td>United Kingdom</td>\n",
       "      <td>Europe</td>\n",
       "      <td>University of Cambridge</td>\n",
       "      <td>NaN</td>\n",
       "      <td>NaN</td>\n",
       "      <td>NaN</td>\n",
       "      <td>NaN</td>\n",
       "    </tr>\n",
       "  </tbody>\n",
       "</table>\n",
       "</div>"
      ],
      "text/plain": [
       "                     country         region  \\\n",
       "rank_display                                  \n",
       "1              United States  North America   \n",
       "2              United States  North America   \n",
       "3              United States  North America   \n",
       "4              United States  North America   \n",
       "5             United Kingdom         Europe   \n",
       "\n",
       "                                                     title  inter_st  \\\n",
       "rank_display                                                           \n",
       "1              Massachusetts Institute of Technology (MIT)    3611.0   \n",
       "2                                      Stanford University    3717.0   \n",
       "3                                       Harvard University       NaN   \n",
       "4             California Institute of Technology (Caltech)       NaN   \n",
       "5                                  University of Cambridge       NaN   \n",
       "\n",
       "              students  inter_fac     fac  \n",
       "rank_display                               \n",
       "1              15878.0     2042.0  4285.0  \n",
       "2              11067.0     1679.0  2982.0  \n",
       "3                  NaN        NaN     NaN  \n",
       "4                  NaN        NaN     NaN  \n",
       "5                  NaN        NaN     NaN  "
      ]
     },
     "execution_count": 34,
     "metadata": {},
     "output_type": "execute_result"
    }
   ],
   "source": [
    "#merge the two daframes to have all infos needed\n",
    "univ_tot_df = pd.concat([univ_dr_df, missing_df], axis = 1)\n",
    "univ_rk_df = univ_tot_df.set_index(['rank_display'])\n",
    "univ_rk_df.head()"
   ]
  },
  {
   "cell_type": "markdown",
   "metadata": {},
   "source": [
    "### Task 1.1\n",
    "\n",
    "Which are the best universities in term of: (a) ratio between faculty members and students, (b) ratio of international students?, (c) country, (d) region"
   ]
  },
  {
   "cell_type": "markdown",
   "metadata": {},
   "source": [
    " <div class=\"lev1\"><a href=\"#Table-of-Contents\"><span class=\"toc-item-num\"></span>Table of contents</a></div>"
   ]
  },
  {
   "cell_type": "markdown",
   "metadata": {},
   "source": [
    "(a) ratio between faculty members and students"
   ]
  },
  {
   "cell_type": "markdown",
   "metadata": {},
   "source": [
    "#### Warning\n",
    "Le dataframe contient des NaN lorsque la requête n'a pas réussi à récupérer de valeur. Le choix a été fait de drop les universités qui contenaient des NaN. A discuter"
   ]
  },
  {
   "cell_type": "code",
   "execution_count": 35,
   "metadata": {
    "collapsed": true
   },
   "outputs": [],
   "source": [
    "#Add a columns in which each cell is the result of col1/col2 for corresponding cells in col1, col2\n",
    "#The returned dataframe is sorted in ascending(1)/descending(0) order depending on the value of the parameter\n",
    "def ratio(df, col1, col2, ascending_ = 0):\n",
    "    ratio_df = df.copy().replace('failed', 0)\n",
    "    ratio_df['ratio'] = ratio_df[col1] / ratio_df[col2]\n",
    "    ratio_df_sorted = ratio_df.sort_values(['ratio'], ascending = ascending_)\n",
    "    return ratio_df_sorted"
   ]
  },
  {
   "cell_type": "code",
   "execution_count": 36,
   "metadata": {},
   "outputs": [
    {
     "data": {
      "text/html": [
       "<div>\n",
       "<style>\n",
       "    .dataframe thead tr:only-child th {\n",
       "        text-align: right;\n",
       "    }\n",
       "\n",
       "    .dataframe thead th {\n",
       "        text-align: left;\n",
       "    }\n",
       "\n",
       "    .dataframe tbody tr th {\n",
       "        vertical-align: top;\n",
       "    }\n",
       "</style>\n",
       "<table border=\"1\" class=\"dataframe\">\n",
       "  <thead>\n",
       "    <tr style=\"text-align: right;\">\n",
       "      <th></th>\n",
       "      <th>country</th>\n",
       "      <th>rank_display</th>\n",
       "      <th>region</th>\n",
       "      <th>title</th>\n",
       "      <th>inter_st</th>\n",
       "      <th>students</th>\n",
       "      <th>inter_fac</th>\n",
       "      <th>fac</th>\n",
       "      <th>ratio</th>\n",
       "    </tr>\n",
       "  </thead>\n",
       "  <tbody>\n",
       "    <tr>\n",
       "      <th>0</th>\n",
       "      <td>United States</td>\n",
       "      <td>1</td>\n",
       "      <td>North America</td>\n",
       "      <td>Massachusetts Institute of Technology (MIT)</td>\n",
       "      <td>3611.0</td>\n",
       "      <td>15878.0</td>\n",
       "      <td>2042.0</td>\n",
       "      <td>4285.0</td>\n",
       "      <td>0.26987</td>\n",
       "    </tr>\n",
       "    <tr>\n",
       "      <th>1</th>\n",
       "      <td>United States</td>\n",
       "      <td>2</td>\n",
       "      <td>North America</td>\n",
       "      <td>Stanford University</td>\n",
       "      <td>3717.0</td>\n",
       "      <td>11067.0</td>\n",
       "      <td>1679.0</td>\n",
       "      <td>2982.0</td>\n",
       "      <td>0.26945</td>\n",
       "    </tr>\n",
       "    <tr>\n",
       "      <th>2</th>\n",
       "      <td>United States</td>\n",
       "      <td>3</td>\n",
       "      <td>North America</td>\n",
       "      <td>Harvard University</td>\n",
       "      <td>NaN</td>\n",
       "      <td>NaN</td>\n",
       "      <td>NaN</td>\n",
       "      <td>NaN</td>\n",
       "      <td>NaN</td>\n",
       "    </tr>\n",
       "    <tr>\n",
       "      <th>3</th>\n",
       "      <td>United States</td>\n",
       "      <td>4</td>\n",
       "      <td>North America</td>\n",
       "      <td>California Institute of Technology (Caltech)</td>\n",
       "      <td>NaN</td>\n",
       "      <td>NaN</td>\n",
       "      <td>NaN</td>\n",
       "      <td>NaN</td>\n",
       "      <td>NaN</td>\n",
       "    </tr>\n",
       "    <tr>\n",
       "      <th>4</th>\n",
       "      <td>United Kingdom</td>\n",
       "      <td>5</td>\n",
       "      <td>Europe</td>\n",
       "      <td>University of Cambridge</td>\n",
       "      <td>NaN</td>\n",
       "      <td>NaN</td>\n",
       "      <td>NaN</td>\n",
       "      <td>NaN</td>\n",
       "      <td>NaN</td>\n",
       "    </tr>\n",
       "  </tbody>\n",
       "</table>\n",
       "</div>"
      ],
      "text/plain": [
       "          country  rank_display         region  \\\n",
       "0   United States             1  North America   \n",
       "1   United States             2  North America   \n",
       "2   United States             3  North America   \n",
       "3   United States             4  North America   \n",
       "4  United Kingdom             5         Europe   \n",
       "\n",
       "                                          title  inter_st  students  \\\n",
       "0   Massachusetts Institute of Technology (MIT)    3611.0   15878.0   \n",
       "1                           Stanford University    3717.0   11067.0   \n",
       "2                            Harvard University       NaN       NaN   \n",
       "3  California Institute of Technology (Caltech)       NaN       NaN   \n",
       "4                       University of Cambridge       NaN       NaN   \n",
       "\n",
       "   inter_fac     fac    ratio  \n",
       "0     2042.0  4285.0  0.26987  \n",
       "1     1679.0  2982.0  0.26945  \n",
       "2        NaN     NaN      NaN  \n",
       "3        NaN     NaN      NaN  \n",
       "4        NaN     NaN      NaN  "
      ]
     },
     "execution_count": 36,
     "metadata": {},
     "output_type": "execute_result"
    }
   ],
   "source": [
    "ratio(univ_tot_df, 'fac', 'students', ascending_ = 0).head(5)"
   ]
  },
  {
   "cell_type": "markdown",
   "metadata": {},
   "source": [
    "The ratio of faculty/students seems correlated with the ranking"
   ]
  },
  {
   "cell_type": "markdown",
   "metadata": {
    "collapsed": true
   },
   "source": [
    "(b) ratio of international students"
   ]
  },
  {
   "cell_type": "code",
   "execution_count": 37,
   "metadata": {
    "scrolled": true
   },
   "outputs": [
    {
     "data": {
      "text/html": [
       "<div>\n",
       "<style>\n",
       "    .dataframe thead tr:only-child th {\n",
       "        text-align: right;\n",
       "    }\n",
       "\n",
       "    .dataframe thead th {\n",
       "        text-align: left;\n",
       "    }\n",
       "\n",
       "    .dataframe tbody tr th {\n",
       "        vertical-align: top;\n",
       "    }\n",
       "</style>\n",
       "<table border=\"1\" class=\"dataframe\">\n",
       "  <thead>\n",
       "    <tr style=\"text-align: right;\">\n",
       "      <th></th>\n",
       "      <th>country</th>\n",
       "      <th>rank_display</th>\n",
       "      <th>region</th>\n",
       "      <th>title</th>\n",
       "      <th>inter_st</th>\n",
       "      <th>students</th>\n",
       "      <th>inter_fac</th>\n",
       "      <th>fac</th>\n",
       "      <th>ratio</th>\n",
       "    </tr>\n",
       "  </thead>\n",
       "  <tbody>\n",
       "    <tr>\n",
       "      <th>1</th>\n",
       "      <td>United States</td>\n",
       "      <td>2</td>\n",
       "      <td>North America</td>\n",
       "      <td>Stanford University</td>\n",
       "      <td>3717.0</td>\n",
       "      <td>11067.0</td>\n",
       "      <td>1679.0</td>\n",
       "      <td>2982.0</td>\n",
       "      <td>0.335863</td>\n",
       "    </tr>\n",
       "    <tr>\n",
       "      <th>0</th>\n",
       "      <td>United States</td>\n",
       "      <td>1</td>\n",
       "      <td>North America</td>\n",
       "      <td>Massachusetts Institute of Technology (MIT)</td>\n",
       "      <td>3611.0</td>\n",
       "      <td>15878.0</td>\n",
       "      <td>2042.0</td>\n",
       "      <td>4285.0</td>\n",
       "      <td>0.227422</td>\n",
       "    </tr>\n",
       "    <tr>\n",
       "      <th>2</th>\n",
       "      <td>United States</td>\n",
       "      <td>3</td>\n",
       "      <td>North America</td>\n",
       "      <td>Harvard University</td>\n",
       "      <td>NaN</td>\n",
       "      <td>NaN</td>\n",
       "      <td>NaN</td>\n",
       "      <td>NaN</td>\n",
       "      <td>NaN</td>\n",
       "    </tr>\n",
       "    <tr>\n",
       "      <th>3</th>\n",
       "      <td>United States</td>\n",
       "      <td>4</td>\n",
       "      <td>North America</td>\n",
       "      <td>California Institute of Technology (Caltech)</td>\n",
       "      <td>NaN</td>\n",
       "      <td>NaN</td>\n",
       "      <td>NaN</td>\n",
       "      <td>NaN</td>\n",
       "      <td>NaN</td>\n",
       "    </tr>\n",
       "    <tr>\n",
       "      <th>4</th>\n",
       "      <td>United Kingdom</td>\n",
       "      <td>5</td>\n",
       "      <td>Europe</td>\n",
       "      <td>University of Cambridge</td>\n",
       "      <td>NaN</td>\n",
       "      <td>NaN</td>\n",
       "      <td>NaN</td>\n",
       "      <td>NaN</td>\n",
       "      <td>NaN</td>\n",
       "    </tr>\n",
       "  </tbody>\n",
       "</table>\n",
       "</div>"
      ],
      "text/plain": [
       "          country  rank_display         region  \\\n",
       "1   United States             2  North America   \n",
       "0   United States             1  North America   \n",
       "2   United States             3  North America   \n",
       "3   United States             4  North America   \n",
       "4  United Kingdom             5         Europe   \n",
       "\n",
       "                                          title  inter_st  students  \\\n",
       "1                           Stanford University    3717.0   11067.0   \n",
       "0   Massachusetts Institute of Technology (MIT)    3611.0   15878.0   \n",
       "2                            Harvard University       NaN       NaN   \n",
       "3  California Institute of Technology (Caltech)       NaN       NaN   \n",
       "4                       University of Cambridge       NaN       NaN   \n",
       "\n",
       "   inter_fac     fac     ratio  \n",
       "1     1679.0  2982.0  0.335863  \n",
       "0     2042.0  4285.0  0.227422  \n",
       "2        NaN     NaN       NaN  \n",
       "3        NaN     NaN       NaN  \n",
       "4        NaN     NaN       NaN  "
      ]
     },
     "execution_count": 37,
     "metadata": {},
     "output_type": "execute_result"
    }
   ],
   "source": [
    "ratio(univ_tot_df, 'inter_st', 'students', ascending_ = 0).head(5)"
   ]
  },
  {
   "cell_type": "markdown",
   "metadata": {},
   "source": [
    "The ratio of international_students/students seems correlated with the ranking"
   ]
  },
  {
   "cell_type": "markdown",
   "metadata": {},
   "source": [
    "(c) country"
   ]
  },
  {
   "cell_type": "code",
   "execution_count": 38,
   "metadata": {
    "collapsed": true
   },
   "outputs": [],
   "source": [
    "#Returns a multi_indexed dataframe sorted by the argument col as higher index and argument rank as second index\n",
    "def sortby_col_rank(df, col):\n",
    "    univ_col = df.set_index([col, 'rank_display'])\n",
    "    univ_col.sort_index(level=[col, 'rank_display'], ascending=[1, 1], inplace=True)\n",
    "    return univ_col"
   ]
  },
  {
   "cell_type": "code",
   "execution_count": 39,
   "metadata": {},
   "outputs": [
    {
     "data": {
      "text/html": [
       "<div>\n",
       "<style>\n",
       "    .dataframe thead tr:only-child th {\n",
       "        text-align: right;\n",
       "    }\n",
       "\n",
       "    .dataframe thead th {\n",
       "        text-align: left;\n",
       "    }\n",
       "\n",
       "    .dataframe tbody tr th {\n",
       "        vertical-align: top;\n",
       "    }\n",
       "</style>\n",
       "<table border=\"1\" class=\"dataframe\">\n",
       "  <thead>\n",
       "    <tr style=\"text-align: right;\">\n",
       "      <th></th>\n",
       "      <th></th>\n",
       "      <th>region</th>\n",
       "      <th>title</th>\n",
       "      <th>inter_st</th>\n",
       "      <th>students</th>\n",
       "      <th>inter_fac</th>\n",
       "      <th>fac</th>\n",
       "    </tr>\n",
       "    <tr>\n",
       "      <th>country</th>\n",
       "      <th>rank_display</th>\n",
       "      <th></th>\n",
       "      <th></th>\n",
       "      <th></th>\n",
       "      <th></th>\n",
       "      <th></th>\n",
       "      <th></th>\n",
       "    </tr>\n",
       "  </thead>\n",
       "  <tbody>\n",
       "    <tr>\n",
       "      <th rowspan=\"5\" valign=\"top\">Argentina</th>\n",
       "      <th>75</th>\n",
       "      <td>Latin America</td>\n",
       "      <td>Universidad de Buenos Aires (UBA)</td>\n",
       "      <td>NaN</td>\n",
       "      <td>NaN</td>\n",
       "      <td>NaN</td>\n",
       "      <td>NaN</td>\n",
       "    </tr>\n",
       "    <tr>\n",
       "      <th>331</th>\n",
       "      <td>Latin America</td>\n",
       "      <td>Universidad Austral</td>\n",
       "      <td>NaN</td>\n",
       "      <td>NaN</td>\n",
       "      <td>NaN</td>\n",
       "      <td>NaN</td>\n",
       "    </tr>\n",
       "    <tr>\n",
       "      <th>337</th>\n",
       "      <td>Latin America</td>\n",
       "      <td>Universidad de Belgrano</td>\n",
       "      <td>NaN</td>\n",
       "      <td>NaN</td>\n",
       "      <td>NaN</td>\n",
       "      <td>NaN</td>\n",
       "    </tr>\n",
       "    <tr>\n",
       "      <th>364</th>\n",
       "      <td>Latin America</td>\n",
       "      <td>Pontificia Universidad Católica Argentina</td>\n",
       "      <td>NaN</td>\n",
       "      <td>NaN</td>\n",
       "      <td>NaN</td>\n",
       "      <td>NaN</td>\n",
       "    </tr>\n",
       "    <tr>\n",
       "      <th>440</th>\n",
       "      <td>Latin America</td>\n",
       "      <td>Universidad de Palermo (UP)</td>\n",
       "      <td>NaN</td>\n",
       "      <td>NaN</td>\n",
       "      <td>NaN</td>\n",
       "      <td>NaN</td>\n",
       "    </tr>\n",
       "  </tbody>\n",
       "</table>\n",
       "</div>"
      ],
      "text/plain": [
       "                               region  \\\n",
       "country   rank_display                  \n",
       "Argentina 75            Latin America   \n",
       "          331           Latin America   \n",
       "          337           Latin America   \n",
       "          364           Latin America   \n",
       "          440           Latin America   \n",
       "\n",
       "                                                            title  inter_st  \\\n",
       "country   rank_display                                                        \n",
       "Argentina 75                    Universidad de Buenos Aires (UBA)       NaN   \n",
       "          331                                 Universidad Austral       NaN   \n",
       "          337                             Universidad de Belgrano       NaN   \n",
       "          364           Pontificia Universidad Católica Argentina       NaN   \n",
       "          440                         Universidad de Palermo (UP)       NaN   \n",
       "\n",
       "                        students  inter_fac  fac  \n",
       "country   rank_display                            \n",
       "Argentina 75                 NaN        NaN  NaN  \n",
       "          331                NaN        NaN  NaN  \n",
       "          337                NaN        NaN  NaN  \n",
       "          364                NaN        NaN  NaN  \n",
       "          440                NaN        NaN  NaN  "
      ]
     },
     "execution_count": 39,
     "metadata": {},
     "output_type": "execute_result"
    }
   ],
   "source": [
    "country_df = sortby_col_rank(univ_tot_df, 'country')\n",
    "us_univ = country_df.loc['United States']\n",
    "#us_univ.head(5)\n",
    "country_df.head()"
   ]
  },
  {
   "cell_type": "markdown",
   "metadata": {},
   "source": [
    "(d) region"
   ]
  },
  {
   "cell_type": "code",
   "execution_count": 40,
   "metadata": {},
   "outputs": [
    {
     "data": {
      "text/html": [
       "<div>\n",
       "<style>\n",
       "    .dataframe thead tr:only-child th {\n",
       "        text-align: right;\n",
       "    }\n",
       "\n",
       "    .dataframe thead th {\n",
       "        text-align: left;\n",
       "    }\n",
       "\n",
       "    .dataframe tbody tr th {\n",
       "        vertical-align: top;\n",
       "    }\n",
       "</style>\n",
       "<table border=\"1\" class=\"dataframe\">\n",
       "  <thead>\n",
       "    <tr style=\"text-align: right;\">\n",
       "      <th></th>\n",
       "      <th></th>\n",
       "      <th>country</th>\n",
       "      <th>title</th>\n",
       "      <th>inter_st</th>\n",
       "      <th>students</th>\n",
       "      <th>inter_fac</th>\n",
       "      <th>fac</th>\n",
       "    </tr>\n",
       "    <tr>\n",
       "      <th>region</th>\n",
       "      <th>rank_display</th>\n",
       "      <th></th>\n",
       "      <th></th>\n",
       "      <th></th>\n",
       "      <th></th>\n",
       "      <th></th>\n",
       "      <th></th>\n",
       "    </tr>\n",
       "  </thead>\n",
       "  <tbody>\n",
       "    <tr>\n",
       "      <th rowspan=\"5\" valign=\"top\">Africa</th>\n",
       "      <th>191</th>\n",
       "      <td>South Africa</td>\n",
       "      <td>University of Cape Town</td>\n",
       "      <td>NaN</td>\n",
       "      <td>NaN</td>\n",
       "      <td>NaN</td>\n",
       "      <td>NaN</td>\n",
       "    </tr>\n",
       "    <tr>\n",
       "      <th>362</th>\n",
       "      <td>South Africa</td>\n",
       "      <td>Stellenbosch University</td>\n",
       "      <td>NaN</td>\n",
       "      <td>NaN</td>\n",
       "      <td>NaN</td>\n",
       "      <td>NaN</td>\n",
       "    </tr>\n",
       "    <tr>\n",
       "      <th>366</th>\n",
       "      <td>South Africa</td>\n",
       "      <td>University of the Witwatersrand</td>\n",
       "      <td>NaN</td>\n",
       "      <td>NaN</td>\n",
       "      <td>NaN</td>\n",
       "      <td>NaN</td>\n",
       "    </tr>\n",
       "    <tr>\n",
       "      <th>396</th>\n",
       "      <td>Egypt</td>\n",
       "      <td>The American University in Cairo</td>\n",
       "      <td>NaN</td>\n",
       "      <td>NaN</td>\n",
       "      <td>NaN</td>\n",
       "      <td>NaN</td>\n",
       "    </tr>\n",
       "    <tr>\n",
       "      <th>482</th>\n",
       "      <td>Egypt</td>\n",
       "      <td>Cairo University</td>\n",
       "      <td>NaN</td>\n",
       "      <td>NaN</td>\n",
       "      <td>NaN</td>\n",
       "      <td>NaN</td>\n",
       "    </tr>\n",
       "  </tbody>\n",
       "</table>\n",
       "</div>"
      ],
      "text/plain": [
       "                          country                             title  inter_st  \\\n",
       "region rank_display                                                             \n",
       "Africa 191           South Africa           University of Cape Town       NaN   \n",
       "       362           South Africa           Stellenbosch University       NaN   \n",
       "       366           South Africa   University of the Witwatersrand       NaN   \n",
       "       396                  Egypt  The American University in Cairo       NaN   \n",
       "       482                  Egypt                  Cairo University       NaN   \n",
       "\n",
       "                     students  inter_fac  fac  \n",
       "region rank_display                            \n",
       "Africa 191                NaN        NaN  NaN  \n",
       "       362                NaN        NaN  NaN  \n",
       "       366                NaN        NaN  NaN  \n",
       "       396                NaN        NaN  NaN  \n",
       "       482                NaN        NaN  NaN  "
      ]
     },
     "execution_count": 40,
     "metadata": {},
     "output_type": "execute_result"
    }
   ],
   "source": [
    "region_df = sortby_col_rank(univ_tot_df, 'region')\n",
    "region_df.head()"
   ]
  },
  {
   "cell_type": "markdown",
   "metadata": {
    "collapsed": true
   },
   "source": [
    "### Task 2.0 Retrieve the Data"
   ]
  },
  {
   "cell_type": "markdown",
   "metadata": {},
   "source": [
    " <div class=\"lev1\"><a href=\"#Table-of-Contents\"><span class=\"toc-item-num\"></span>Table of contents</a></div>"
   ]
  },
  {
   "cell_type": "markdown",
   "metadata": {},
   "source": [
    "Using the same technique used the first part of this homework (using postman), we get the URL to a json that contains the wanted data:"
   ]
  },
  {
   "cell_type": "code",
   "execution_count": 41,
   "metadata": {
    "collapsed": true
   },
   "outputs": [],
   "source": [
    "request_url2 = 'https://www.timeshighereducation.com/sites/default/files/the_data_rankings/world_university_rankings_2018_limit0_369a9045a203e176392b9fb8f8c1cb2a.json'\n",
    "r2 = requests.get(request_url2)"
   ]
  },
  {
   "cell_type": "code",
   "execution_count": 42,
   "metadata": {},
   "outputs": [
    {
     "data": {
      "text/plain": [
       "{'aliases': 'University of Oxford',\n",
       " 'location': 'United Kingdom',\n",
       " 'member_level': '0',\n",
       " 'name': 'University of Oxford',\n",
       " 'nid': 468,\n",
       " 'rank': '1',\n",
       " 'rank_order': '10',\n",
       " 'record_type': 'master_account',\n",
       " 'scores_citations': '99.1',\n",
       " 'scores_citations_rank': '15',\n",
       " 'scores_industry_income': '63.7',\n",
       " 'scores_industry_income_rank': '169',\n",
       " 'scores_international_outlook': '95.0',\n",
       " 'scores_international_outlook_rank': '24',\n",
       " 'scores_overall': '94.3',\n",
       " 'scores_overall_rank': '10',\n",
       " 'scores_research': '99.5',\n",
       " 'scores_research_rank': '1',\n",
       " 'scores_teaching': '86.7',\n",
       " 'scores_teaching_rank': '5',\n",
       " 'stats_female_male_ratio': '46 : 54',\n",
       " 'stats_number_students': '20,409',\n",
       " 'stats_pc_intl_students': '38%',\n",
       " 'stats_student_staff_ratio': '11.2',\n",
       " 'subjects_offered': 'Archaeology,Art, Performing Arts & Design,Biological Sciences,Business & Management,Chemical Engineering,Chemistry,Civil Engineering,Computer Science,Economics & Econometrics,Electrical & Electronic Engineering,General Engineering,Geography,Geology, Environmental, Earth & Marine Sciences,History, Philosophy & Theology,Languages, Literatures and Linguistics,Law,Mathematics & Statistics,Mechanical & Aerospace Engineering,Medicine & Dentistry,Physics & Astronomy,Psychology',\n",
       " 'url': '/world-university-rankings/university-oxford'}"
      ]
     },
     "execution_count": 42,
     "metadata": {},
     "output_type": "execute_result"
    }
   ],
   "source": [
    "univ_vals2 = r2.json()['data']\n",
    "univ_vals2[0]"
   ]
  },
  {
   "cell_type": "markdown",
   "metadata": {},
   "source": [
    "The json looks to have most of the needed information, the parsing will be earsier"
   ]
  },
  {
   "cell_type": "markdown",
   "metadata": {},
   "source": [
    "### Task 2.0.1 Clear rank and drop data not needed"
   ]
  },
  {
   "cell_type": "markdown",
   "metadata": {},
   "source": [
    "<div class=\"lev1\"><a href=\"#Table-of-Contents\"><span class=\"toc-item-num\"></span>Table of contents</a></div>"
   ]
  },
  {
   "cell_type": "markdown",
   "metadata": {},
   "source": [
    "Dropping all the lines that we don't need for this analysis"
   ]
  },
  {
   "cell_type": "code",
   "execution_count": 43,
   "metadata": {},
   "outputs": [
    {
     "data": {
      "text/html": [
       "<div>\n",
       "<style>\n",
       "    .dataframe thead tr:only-child th {\n",
       "        text-align: right;\n",
       "    }\n",
       "\n",
       "    .dataframe thead th {\n",
       "        text-align: left;\n",
       "    }\n",
       "\n",
       "    .dataframe tbody tr th {\n",
       "        vertical-align: top;\n",
       "    }\n",
       "</style>\n",
       "<table border=\"1\" class=\"dataframe\">\n",
       "  <thead>\n",
       "    <tr style=\"text-align: right;\">\n",
       "      <th></th>\n",
       "      <th>location</th>\n",
       "      <th>name</th>\n",
       "      <th>rank</th>\n",
       "      <th>stats_number_students</th>\n",
       "      <th>stats_student_staff_ratio</th>\n",
       "    </tr>\n",
       "  </thead>\n",
       "  <tbody>\n",
       "    <tr>\n",
       "      <th>0</th>\n",
       "      <td>United Kingdom</td>\n",
       "      <td>University of Oxford</td>\n",
       "      <td>1</td>\n",
       "      <td>20,409</td>\n",
       "      <td>11.2</td>\n",
       "    </tr>\n",
       "    <tr>\n",
       "      <th>1</th>\n",
       "      <td>United Kingdom</td>\n",
       "      <td>University of Cambridge</td>\n",
       "      <td>2</td>\n",
       "      <td>18,389</td>\n",
       "      <td>10.9</td>\n",
       "    </tr>\n",
       "    <tr>\n",
       "      <th>2</th>\n",
       "      <td>United States</td>\n",
       "      <td>California Institute of Technology</td>\n",
       "      <td>=3</td>\n",
       "      <td>2,209</td>\n",
       "      <td>6.5</td>\n",
       "    </tr>\n",
       "    <tr>\n",
       "      <th>3</th>\n",
       "      <td>United States</td>\n",
       "      <td>Stanford University</td>\n",
       "      <td>=3</td>\n",
       "      <td>15,845</td>\n",
       "      <td>7.5</td>\n",
       "    </tr>\n",
       "    <tr>\n",
       "      <th>4</th>\n",
       "      <td>United States</td>\n",
       "      <td>Massachusetts Institute of Technology</td>\n",
       "      <td>5</td>\n",
       "      <td>11,177</td>\n",
       "      <td>8.7</td>\n",
       "    </tr>\n",
       "  </tbody>\n",
       "</table>\n",
       "</div>"
      ],
      "text/plain": [
       "         location                                   name rank  \\\n",
       "0  United Kingdom                   University of Oxford    1   \n",
       "1  United Kingdom                University of Cambridge    2   \n",
       "2   United States     California Institute of Technology   =3   \n",
       "3   United States                    Stanford University   =3   \n",
       "4   United States  Massachusetts Institute of Technology    5   \n",
       "\n",
       "  stats_number_students stats_student_staff_ratio  \n",
       "0                20,409                      11.2  \n",
       "1                18,389                      10.9  \n",
       "2                 2,209                       6.5  \n",
       "3                15,845                       7.5  \n",
       "4                11,177                       8.7  "
      ]
     },
     "execution_count": 43,
     "metadata": {},
     "output_type": "execute_result"
    }
   ],
   "source": [
    "univ_df2 = pd.DataFrame(univ_vals2)\n",
    "univ_dr_df2 = univ_df2.drop('aliases', 1).drop('member_level', 1).drop('rank_order', 1).drop('record_type', 1) \\\n",
    ".drop('scores_citations', 1).drop('scores_research', 1).drop('scores_research_rank', 1).drop('scores_teaching', 1) \\\n",
    ".drop('nid', 1).drop('scores_citations_rank', 1).drop('scores_industry_income', 1).drop('scores_industry_income_rank', 1) \\\n",
    ".drop('scores_overall_rank', 1).drop('scores_international_outlook', 1).drop('scores_international_outlook_rank', 1) \\\n",
    ".drop('scores_overall', 1).drop('scores_teaching_rank', 1).drop('stats_female_male_ratio', 1) \\\n",
    ".drop('stats_pc_intl_students', 1).drop('subjects_offered', 1).drop('url', 1)\n",
    "univ_dr_df2.head()"
   ]
  },
  {
   "cell_type": "markdown",
   "metadata": {},
   "source": [
    "Number of entries in our data: "
   ]
  },
  {
   "cell_type": "code",
   "execution_count": 44,
   "metadata": {},
   "outputs": [
    {
     "data": {
      "text/plain": [
       "1102"
      ]
     },
     "execution_count": 44,
     "metadata": {},
     "output_type": "execute_result"
    }
   ],
   "source": [
    "len(univ_dr_df2.index)"
   ]
  },
  {
   "cell_type": "markdown",
   "metadata": {},
   "source": [
    "Replace rank by index+1 in case this is an invalid way to do, just ignore this cell"
   ]
  },
  {
   "cell_type": "code",
   "execution_count": 76,
   "metadata": {
    "scrolled": true
   },
   "outputs": [
    {
     "data": {
      "text/html": [
       "<div>\n",
       "<style>\n",
       "    .dataframe thead tr:only-child th {\n",
       "        text-align: right;\n",
       "    }\n",
       "\n",
       "    .dataframe thead th {\n",
       "        text-align: left;\n",
       "    }\n",
       "\n",
       "    .dataframe tbody tr th {\n",
       "        vertical-align: top;\n",
       "    }\n",
       "</style>\n",
       "<table border=\"1\" class=\"dataframe\">\n",
       "  <thead>\n",
       "    <tr style=\"text-align: right;\">\n",
       "      <th></th>\n",
       "      <th>location</th>\n",
       "      <th>name</th>\n",
       "      <th>rank</th>\n",
       "      <th>stats_number_students</th>\n",
       "      <th>stats_student_staff_ratio</th>\n",
       "    </tr>\n",
       "  </thead>\n",
       "  <tbody>\n",
       "    <tr>\n",
       "      <th>0</th>\n",
       "      <td>United Kingdom</td>\n",
       "      <td>University of Oxford</td>\n",
       "      <td>1</td>\n",
       "      <td>20,409</td>\n",
       "      <td>11.2</td>\n",
       "    </tr>\n",
       "    <tr>\n",
       "      <th>1</th>\n",
       "      <td>United Kingdom</td>\n",
       "      <td>University of Cambridge</td>\n",
       "      <td>2</td>\n",
       "      <td>18,389</td>\n",
       "      <td>10.9</td>\n",
       "    </tr>\n",
       "    <tr>\n",
       "      <th>2</th>\n",
       "      <td>United States</td>\n",
       "      <td>California Institute of Technology</td>\n",
       "      <td>3</td>\n",
       "      <td>2,209</td>\n",
       "      <td>6.5</td>\n",
       "    </tr>\n",
       "    <tr>\n",
       "      <th>3</th>\n",
       "      <td>United States</td>\n",
       "      <td>Stanford University</td>\n",
       "      <td>4</td>\n",
       "      <td>15,845</td>\n",
       "      <td>7.5</td>\n",
       "    </tr>\n",
       "    <tr>\n",
       "      <th>4</th>\n",
       "      <td>United States</td>\n",
       "      <td>Massachusetts Institute of Technology</td>\n",
       "      <td>5</td>\n",
       "      <td>11,177</td>\n",
       "      <td>8.7</td>\n",
       "    </tr>\n",
       "  </tbody>\n",
       "</table>\n",
       "</div>"
      ],
      "text/plain": [
       "         location                                   name  rank  \\\n",
       "0  United Kingdom                   University of Oxford     1   \n",
       "1  United Kingdom                University of Cambridge     2   \n",
       "2   United States     California Institute of Technology     3   \n",
       "3   United States                    Stanford University     4   \n",
       "4   United States  Massachusetts Institute of Technology     5   \n",
       "\n",
       "  stats_number_students stats_student_staff_ratio  \n",
       "0                20,409                      11.2  \n",
       "1                18,389                      10.9  \n",
       "2                 2,209                       6.5  \n",
       "3                15,845                       7.5  \n",
       "4                11,177                       8.7  "
      ]
     },
     "execution_count": 76,
     "metadata": {},
     "output_type": "execute_result"
    }
   ],
   "source": [
    "univ_dr_df2['rank'] = univ_dr_df2.index + 1\n",
    "univ_dr_df2.head()"
   ]
  },
  {
   "cell_type": "markdown",
   "metadata": {},
   "source": [
    "### Task 2.0.2 Prepare url and test soup for missing data"
   ]
  },
  {
   "cell_type": "markdown",
   "metadata": {},
   "source": [
    "<div class=\"lev1\"><a href=\"#Table-of-Contents\"><span class=\"toc-item-num\"></span>Table of contents</a></div>"
   ]
  },
  {
   "cell_type": "markdown",
   "metadata": {},
   "source": [
    "Prepare urls for request-loop"
   ]
  },
  {
   "cell_type": "code",
   "execution_count": 46,
   "metadata": {},
   "outputs": [
    {
     "data": {
      "text/plain": [
       "['http://www.timeshighereducation.com/world-university-rankings/university-oxford#wurs',\n",
       " 'http://www.timeshighereducation.com/world-university-rankings/university-cambridge#wurs',\n",
       " 'http://www.timeshighereducation.com/world-university-rankings/california-institute-technology#wurs',\n",
       " 'http://www.timeshighereducation.com/world-university-rankings/stanford-university#wurs',\n",
       " 'http://www.timeshighereducation.com/world-university-rankings/massachusetts-institute-technology#wurs']"
      ]
     },
     "execution_count": 46,
     "metadata": {},
     "output_type": "execute_result"
    }
   ],
   "source": [
    "u_urls2 = np.array(univ_df2[['url']].values)\n",
    "univ_urls2 = []\n",
    "main_url2 = 'http://www.timeshighereducation.com'\n",
    "for url_ in u_urls2:\n",
    "    url = url_[0]\n",
    "    univ_urls2.append(main_url2 + url + '#wurs')\n",
    "univ_urls2[:5]"
   ]
  },
  {
   "cell_type": "markdown",
   "metadata": {},
   "source": [
    "Retrieve the soup for the Oxford description page"
   ]
  },
  {
   "cell_type": "code",
   "execution_count": 79,
   "metadata": {
    "scrolled": false
   },
   "outputs": [
    {
     "data": {
      "text/plain": [
       "'<!DOCTYPE html PUBLIC \"-//W3C//DTD XHTML+RDFa 1.0//EN\"\\n  \"http://www.w3.org/MarkUp/DTD/xhtml-rdfa-1.dtd\">\\n<html dir=\"ltr\" lang=\"en\" xmlns:article=\"http://ogp.me/ns/article#\" xmlns:book=\"http://ogp.me/'"
      ]
     },
     "execution_count": 79,
     "metadata": {},
     "output_type": "execute_result"
    }
   ],
   "source": [
    "url_oxford = 'http://www.timeshighereducation.com/world-university-rankings/university-oxford#wurs'\n",
    "r_oxford = requests.get(url_oxford)\n",
    "soup_oxford = BeautifulSoup(r_oxford.text, 'html.parser')\n",
    "soup_oxford.prettify()[:200]"
   ]
  },
  {
   "cell_type": "markdown",
   "metadata": {},
   "source": [
    "Test if we get the same value using both methods with an entry for which we have all the values"
   ]
  },
  {
   "cell_type": "code",
   "execution_count": 81,
   "metadata": {},
   "outputs": [
    {
     "data": {
      "text/plain": [
       "0.38"
      ]
     },
     "execution_count": 81,
     "metadata": {},
     "output_type": "execute_result"
    }
   ],
   "source": [
    "oxford_values = soup_oxford.find('div', class_='panel-pane pane-data-stats') \\\n",
    ".find('div', class_='pane-content').findAll('div')\n",
    "div_idx = 0\n",
    "for i_div in range(0, len(oxford_values)):\n",
    "    curr_div = oxford_values[i_div]\n",
    "    if(curr_div.text == 'keystats pc_intl_students'):\n",
    "        div_idx = i_div\n",
    "int(oxford_values[div_idx].find('div', class_='value').text[:2])/100"
   ]
  },
  {
   "cell_type": "code",
   "execution_count": 82,
   "metadata": {},
   "outputs": [
    {
     "data": {
      "text/plain": [
       "0.38"
      ]
     },
     "execution_count": 82,
     "metadata": {},
     "output_type": "execute_result"
    }
   ],
   "source": [
    "int(oxford_values[0].text[:2])/100"
   ]
  },
  {
   "cell_type": "markdown",
   "metadata": {},
   "source": [
    "### Task 2.0.3 Prepare to retrieve data and callback funciton"
   ]
  },
  {
   "cell_type": "markdown",
   "metadata": {},
   "source": [
    "<div class=\"lev1\"><a href=\"#Table-of-Contents\"><span class=\"toc-item-num\"></span>Table of contents</a></div>"
   ]
  },
  {
   "cell_type": "markdown",
   "metadata": {},
   "source": [
    "Same methods as the one used for the first website"
   ]
  },
  {
   "cell_type": "code",
   "execution_count": 83,
   "metadata": {
    "collapsed": true
   },
   "outputs": [],
   "source": [
    "def retrieve_div_value(soup, div_name):\n",
    "    parent = soup.find('div', class_='panel-pane pane-data-stats')\n",
    "    if parent is None: \n",
    "        return 'failed'\n",
    "    child = parent.find('div', class_='pane-content')\n",
    "    if child is None:\n",
    "        return 'failed'\n",
    "    values = child.findAll('div')\n",
    "    if values is None:\n",
    "        return 'failed'\n",
    "    div_idx = 0\n",
    "    last_text = ''\n",
    "    for i_div in range(0, len(values)):\n",
    "        curr_div = values[i_div]\n",
    "        if(curr_div.text == div_name):\n",
    "            return int(last_text[:len(last_text)-1])/100\n",
    "        last_text = curr_div.text\n",
    "    return 'failed'"
   ]
  },
  {
   "cell_type": "code",
   "execution_count": 85,
   "metadata": {},
   "outputs": [
    {
     "data": {
      "text/plain": [
       "0.38"
      ]
     },
     "execution_count": 85,
     "metadata": {},
     "output_type": "execute_result"
    }
   ],
   "source": [
    "retrieve_div_value(soup_oxford, 'Percentage of International Students')"
   ]
  },
  {
   "cell_type": "code",
   "execution_count": 86,
   "metadata": {
    "collapsed": true
   },
   "outputs": [],
   "source": [
    "#declare globals for second methods\n",
    "international_st2 = []\n",
    "num_request2 = 1\n",
    "bad_soups2 = []\n",
    "futures2 = []\n",
    "count2 = 0"
   ]
  },
  {
   "cell_type": "code",
   "execution_count": 87,
   "metadata": {
    "collapsed": true
   },
   "outputs": [],
   "source": [
    "#helper to reset globals\n",
    "def reset_arrays2():\n",
    "    global international_st2\n",
    "    global count2\n",
    "    global bad_soups2\n",
    "    \n",
    "    international_st2 = []\n",
    "    bad_soups2 = []\n",
    "    count2 = 0\n",
    "    return 0"
   ]
  },
  {
   "cell_type": "code",
   "execution_count": 88,
   "metadata": {
    "collapsed": true
   },
   "outputs": [],
   "source": [
    "#proceeds request when completed in background:\n",
    "# extract soup, extract values\n",
    "def callback2(future):\n",
    "    r = future.result()\n",
    "    soup = BeautifulSoup(r.text, 'html.parser')\n",
    "    \n",
    "    global international_st2\n",
    "    global num_request2\n",
    "    global count2\n",
    "    global bad_soups2\n",
    "    \n",
    "    count2 = count2 + 1\n",
    "    if count2 > num_request2:\n",
    "        international_st2 = []\n",
    "        count2 = 0\n",
    "    \n",
    "    inter_st = retrieve_div_value(soup, 'Percentage of International Students')\n",
    "        \n",
    "    if inter_st == 'failed':\n",
    "        bad_soups2.append(soup)\n",
    "    international_st2.append(inter_st)"
   ]
  },
  {
   "cell_type": "markdown",
   "metadata": {},
   "source": [
    "### Task 2.0.4 Import Data"
   ]
  },
  {
   "cell_type": "markdown",
   "metadata": {},
   "source": [
    "<div class=\"lev1\"><a href=\"#Table-of-Contents\"><span class=\"toc-item-num\"></span>Table of contents</a></div>"
   ]
  },
  {
   "cell_type": "code",
   "execution_count": 90,
   "metadata": {
    "collapsed": true
   },
   "outputs": [],
   "source": [
    "#initialize session for background threads\n",
    "from requests_futures.sessions import FuturesSession\n",
    "session2 = FuturesSession()"
   ]
  },
  {
   "cell_type": "code",
   "execution_count": 91,
   "metadata": {},
   "outputs": [
    {
     "data": {
      "application/vnd.jupyter.widget-view+json": {
       "model_id": "1605a386b2ba4cb0a350b2a86c09c4fb",
       "version_major": 2,
       "version_minor": 0
      },
      "text/plain": [
       "A Jupyter Widget"
      ]
     },
     "metadata": {},
     "output_type": "display_data"
    }
   ],
   "source": [
    "#displays a progress bar for the requests in backgrounds\n",
    "import threading\n",
    "from IPython.display import display\n",
    "import ipywidgets as widgets\n",
    "import time\n",
    "import sys\n",
    "progress2 = widgets.FloatProgress(value=0.0, min=0.0, max=1.0)\n",
    "\n",
    "def work2(progress2):\n",
    "    global international_st2\n",
    "    while(len(international_st2) <= num_request2):\n",
    "        progress2.value = len(international_st2)/num_request2\n",
    "thread2 = threading.Thread(target=work2, args=(progress2,))\n",
    "display(progress2)\n",
    "thread2.start()"
   ]
  },
  {
   "cell_type": "code",
   "execution_count": 92,
   "metadata": {},
   "outputs": [
    {
     "data": {
      "text/plain": [
       "0"
      ]
     },
     "execution_count": 92,
     "metadata": {},
     "output_type": "execute_result"
    }
   ],
   "source": [
    "len(international_st2)"
   ]
  },
  {
   "cell_type": "code",
   "execution_count": 93,
   "metadata": {
    "collapsed": true
   },
   "outputs": [],
   "source": [
    "#initiate background requests. The number of requests should be customized on the next line\n",
    "url_slice2 = univ_urls2[:10]\n",
    "num_request2 = len(url_slice2)\n",
    "url_last_idx2 = len(url_slice2) - 1\n",
    "reset_arrays2()\n",
    "for i_url, url in enumerate(url_slice2):\n",
    "    # On fait notre requête GET\n",
    "    future2 = session2.get(url)\n",
    "    # On rajoute le callback à appeler quand\n",
    "    # le résultat de la requête arrive.\n",
    "    if i_url != url_last_idx2:\n",
    "        futures2.append(future)\n",
    "    future2.add_done_callback(callback2)\n",
    "    if i_url == (url_last_idx2):\n",
    "        future2.add_done_callback(play_sound)"
   ]
  },
  {
   "cell_type": "code",
   "execution_count": 94,
   "metadata": {},
   "outputs": [
    {
     "data": {
      "text/plain": [
       "0"
      ]
     },
     "execution_count": 94,
     "metadata": {},
     "output_type": "execute_result"
    }
   ],
   "source": [
    "len(bad_soups2)"
   ]
  },
  {
   "cell_type": "markdown",
   "metadata": {},
   "source": [
    "### Task 2.0.5 Kill data second file"
   ]
  },
  {
   "cell_type": "markdown",
   "metadata": {},
   "source": [
    "<div class=\"lev1\"><a href=\"#Table-of-Contents\"><span class=\"toc-item-num\"></span>Table of contents</a></div>"
   ]
  },
  {
   "cell_type": "code",
   "execution_count": 95,
   "metadata": {
    "scrolled": false
   },
   "outputs": [
    {
     "data": {
      "text/plain": [
       "''"
      ]
     },
     "execution_count": 95,
     "metadata": {},
     "output_type": "execute_result"
    }
   ],
   "source": [
    "# attempts to kill waiting requests: if attempt is successful, bar doesn't move. Goal is to cancel all but last requests\n",
    "# in order to instantly play sound and complete only one request\n",
    "global futures2\n",
    "if False:\n",
    "    for fu in futures2:\n",
    "        # cancel request on this url\n",
    "        fu.cancel()\n",
    "    reset_arrays2()\n",
    "    futures2 = []\n",
    "\n",
    "#Last try it seemed to work. We reset arrays twice since the canceling of\n",
    "#asynchronous requests is asynchronous, the reset might happen before all requests are canceled\n",
    "#and some requests might finish in the meantime (after reset)\n",
    ";"
   ]
  },
  {
   "cell_type": "code",
   "execution_count": 96,
   "metadata": {},
   "outputs": [
    {
     "data": {
      "text/html": [
       "<div>\n",
       "<style>\n",
       "    .dataframe thead tr:only-child th {\n",
       "        text-align: right;\n",
       "    }\n",
       "\n",
       "    .dataframe thead th {\n",
       "        text-align: left;\n",
       "    }\n",
       "\n",
       "    .dataframe tbody tr th {\n",
       "        vertical-align: top;\n",
       "    }\n",
       "</style>\n",
       "<table border=\"1\" class=\"dataframe\">\n",
       "  <thead>\n",
       "    <tr style=\"text-align: right;\">\n",
       "      <th></th>\n",
       "      <th>inter_st_ratio</th>\n",
       "    </tr>\n",
       "  </thead>\n",
       "  <tbody>\n",
       "    <tr>\n",
       "      <th>0</th>\n",
       "      <td>0.38</td>\n",
       "    </tr>\n",
       "    <tr>\n",
       "      <th>1</th>\n",
       "      <td>0.35</td>\n",
       "    </tr>\n",
       "    <tr>\n",
       "      <th>2</th>\n",
       "      <td>0.27</td>\n",
       "    </tr>\n",
       "    <tr>\n",
       "      <th>3</th>\n",
       "      <td>0.22</td>\n",
       "    </tr>\n",
       "    <tr>\n",
       "      <th>4</th>\n",
       "      <td>0.34</td>\n",
       "    </tr>\n",
       "  </tbody>\n",
       "</table>\n",
       "</div>"
      ],
      "text/plain": [
       "   inter_st_ratio\n",
       "0            0.38\n",
       "1            0.35\n",
       "2            0.27\n",
       "3            0.22\n",
       "4            0.34"
      ]
     },
     "execution_count": 96,
     "metadata": {},
     "output_type": "execute_result"
    }
   ],
   "source": [
    "#construct dataframe from individual pages'info\n",
    "missing_df2 = pd.DataFrame(data= [international_st2],index = ['inter_st_ratio']).transpose()\n",
    "missing_df2.head()"
   ]
  },
  {
   "cell_type": "markdown",
   "metadata": {},
   "source": [
    "merge the two daframes to have all infos needed and parse the value in numeric:"
   ]
  },
  {
   "cell_type": "code",
   "execution_count": 98,
   "metadata": {},
   "outputs": [
    {
     "data": {
      "text/html": [
       "<div>\n",
       "<style>\n",
       "    .dataframe thead tr:only-child th {\n",
       "        text-align: right;\n",
       "    }\n",
       "\n",
       "    .dataframe thead th {\n",
       "        text-align: left;\n",
       "    }\n",
       "\n",
       "    .dataframe tbody tr th {\n",
       "        vertical-align: top;\n",
       "    }\n",
       "</style>\n",
       "<table border=\"1\" class=\"dataframe\">\n",
       "  <thead>\n",
       "    <tr style=\"text-align: right;\">\n",
       "      <th></th>\n",
       "      <th>rank</th>\n",
       "      <th>location</th>\n",
       "      <th>name</th>\n",
       "      <th>stats_number_students</th>\n",
       "      <th>stats_student_staff_ratio</th>\n",
       "      <th>inter_st_ratio</th>\n",
       "    </tr>\n",
       "  </thead>\n",
       "  <tbody>\n",
       "    <tr>\n",
       "      <th>0</th>\n",
       "      <td>1</td>\n",
       "      <td>United Kingdom</td>\n",
       "      <td>University of Oxford</td>\n",
       "      <td>20409</td>\n",
       "      <td>11.2</td>\n",
       "      <td>0.38</td>\n",
       "    </tr>\n",
       "    <tr>\n",
       "      <th>1</th>\n",
       "      <td>2</td>\n",
       "      <td>United Kingdom</td>\n",
       "      <td>University of Cambridge</td>\n",
       "      <td>18389</td>\n",
       "      <td>10.9</td>\n",
       "      <td>0.35</td>\n",
       "    </tr>\n",
       "    <tr>\n",
       "      <th>2</th>\n",
       "      <td>3</td>\n",
       "      <td>United States</td>\n",
       "      <td>California Institute of Technology</td>\n",
       "      <td>2209</td>\n",
       "      <td>6.5</td>\n",
       "      <td>0.27</td>\n",
       "    </tr>\n",
       "    <tr>\n",
       "      <th>3</th>\n",
       "      <td>4</td>\n",
       "      <td>United States</td>\n",
       "      <td>Stanford University</td>\n",
       "      <td>15845</td>\n",
       "      <td>7.5</td>\n",
       "      <td>0.22</td>\n",
       "    </tr>\n",
       "    <tr>\n",
       "      <th>4</th>\n",
       "      <td>5</td>\n",
       "      <td>United States</td>\n",
       "      <td>Massachusetts Institute of Technology</td>\n",
       "      <td>11177</td>\n",
       "      <td>8.7</td>\n",
       "      <td>0.34</td>\n",
       "    </tr>\n",
       "  </tbody>\n",
       "</table>\n",
       "</div>"
      ],
      "text/plain": [
       "   rank        location                                   name  \\\n",
       "0     1  United Kingdom                   University of Oxford   \n",
       "1     2  United Kingdom                University of Cambridge   \n",
       "2     3   United States     California Institute of Technology   \n",
       "3     4   United States                    Stanford University   \n",
       "4     5   United States  Massachusetts Institute of Technology   \n",
       "\n",
       "   stats_number_students  stats_student_staff_ratio  inter_st_ratio  \n",
       "0                  20409                       11.2            0.38  \n",
       "1                  18389                       10.9            0.35  \n",
       "2                   2209                        6.5            0.27  \n",
       "3                  15845                        7.5            0.22  \n",
       "4                  11177                        8.7            0.34  "
      ]
     },
     "execution_count": 98,
     "metadata": {},
     "output_type": "execute_result"
    }
   ],
   "source": [
    "univ_tot_df2 = pd.concat([univ_dr_df2, missing_df2], axis = 1)\n",
    "univ_rk_df2 = univ_tot_df2.set_index(['rank'])\n",
    "univ_rk_df2[['stats_number_students']] = univ_rk_df2[['stats_number_students']].applymap(lambda x: x.replace(',',''))\n",
    "univ_rk_df2['stats_number_students'] = pd.to_numeric(univ_rk_df2['stats_number_students'])\n",
    "univ_rk_df2['stats_student_staff_ratio'] = pd.to_numeric(univ_rk_df2['stats_student_staff_ratio'])\n",
    "univ_tot_df2 = univ_rk_df2.reset_index()\n",
    "univ_tot_df2.head()"
   ]
  },
  {
   "cell_type": "markdown",
   "metadata": {},
   "source": [
    "For the regions, we have a problem because they are neither given in the data and neither in the url. \n",
    "So we think that it's better to add a col and take the ragion from the first url www.topuniversities.com,\n",
    "if they exist"
   ]
  },
  {
   "cell_type": "code",
   "execution_count": 63,
   "metadata": {},
   "outputs": [
    {
     "data": {
      "text/html": [
       "<div>\n",
       "<style>\n",
       "    .dataframe thead tr:only-child th {\n",
       "        text-align: right;\n",
       "    }\n",
       "\n",
       "    .dataframe thead th {\n",
       "        text-align: left;\n",
       "    }\n",
       "\n",
       "    .dataframe tbody tr th {\n",
       "        vertical-align: top;\n",
       "    }\n",
       "</style>\n",
       "<table border=\"1\" class=\"dataframe\">\n",
       "  <thead>\n",
       "    <tr style=\"text-align: right;\">\n",
       "      <th></th>\n",
       "      <th>name</th>\n",
       "      <th>rank</th>\n",
       "      <th>location</th>\n",
       "      <th>stats_number_students</th>\n",
       "      <th>stats_student_staff_ratio</th>\n",
       "      <th>inter_st_ratio</th>\n",
       "      <th>region</th>\n",
       "    </tr>\n",
       "  </thead>\n",
       "  <tbody>\n",
       "    <tr>\n",
       "      <th>0</th>\n",
       "      <td>AGH University of Science and Technology</td>\n",
       "      <td>603</td>\n",
       "      <td>Poland</td>\n",
       "      <td>32930</td>\n",
       "      <td>14.9</td>\n",
       "      <td>NaN</td>\n",
       "      <td>Europe</td>\n",
       "    </tr>\n",
       "    <tr>\n",
       "      <th>1</th>\n",
       "      <td>Aalborg University</td>\n",
       "      <td>201</td>\n",
       "      <td>Denmark</td>\n",
       "      <td>15512</td>\n",
       "      <td>13.6</td>\n",
       "      <td>NaN</td>\n",
       "      <td>Europe</td>\n",
       "    </tr>\n",
       "    <tr>\n",
       "      <th>2</th>\n",
       "      <td>Aalto University</td>\n",
       "      <td>190</td>\n",
       "      <td>Finland</td>\n",
       "      <td>12744</td>\n",
       "      <td>20.2</td>\n",
       "      <td>NaN</td>\n",
       "      <td>Europe</td>\n",
       "    </tr>\n",
       "    <tr>\n",
       "      <th>3</th>\n",
       "      <td>Aarhus University</td>\n",
       "      <td>109</td>\n",
       "      <td>Denmark</td>\n",
       "      <td>25167</td>\n",
       "      <td>14.3</td>\n",
       "      <td>NaN</td>\n",
       "      <td>Europe</td>\n",
       "    </tr>\n",
       "    <tr>\n",
       "      <th>4</th>\n",
       "      <td>Aberystwyth University</td>\n",
       "      <td>301</td>\n",
       "      <td>United Kingdom</td>\n",
       "      <td>7920</td>\n",
       "      <td>18.4</td>\n",
       "      <td>NaN</td>\n",
       "      <td>Europe</td>\n",
       "    </tr>\n",
       "  </tbody>\n",
       "</table>\n",
       "</div>"
      ],
      "text/plain": [
       "                                       name  rank        location  \\\n",
       "0  AGH University of Science and Technology   603          Poland   \n",
       "1                        Aalborg University   201         Denmark   \n",
       "2                          Aalto University   190         Finland   \n",
       "3                         Aarhus University   109         Denmark   \n",
       "4                    Aberystwyth University   301  United Kingdom   \n",
       "\n",
       "   stats_number_students  stats_student_staff_ratio  inter_st_ratio  region  \n",
       "0                  32930                       14.9             NaN  Europe  \n",
       "1                  15512                       13.6             NaN  Europe  \n",
       "2                  12744                       20.2             NaN  Europe  \n",
       "3                  25167                       14.3             NaN  Europe  \n",
       "4                   7920                       18.4             NaN  Europe  "
      ]
     },
     "execution_count": 63,
     "metadata": {},
     "output_type": "execute_result"
    }
   ],
   "source": [
    "univ_tot2_df2 = univ_tot_df2.set_index('name').join(univ_tot_df.set_index('title'))\n",
    "univ_tot2_df2 = univ_tot2_df2.drop('country', 1).drop('rank_display', 1).drop('inter_st', 1).drop('students', 1).drop('inter_fac', 1).drop('fac', 1)\n",
    "univ_tot2_df2 = univ_tot2_df2.reset_index()\n",
    "univ_tot2_df2.columns = ['name', 'rank', 'location', 'stats_number_students', 'stats_student_staff_ratio','inter_st_ratio' , 'region']\n",
    "univ_tot2_df2.head()"
   ]
  },
  {
   "cell_type": "code",
   "execution_count": 105,
   "metadata": {},
   "outputs": [
    {
     "data": {
      "text/html": [
       "<div>\n",
       "<style>\n",
       "    .dataframe thead tr:only-child th {\n",
       "        text-align: right;\n",
       "    }\n",
       "\n",
       "    .dataframe thead th {\n",
       "        text-align: left;\n",
       "    }\n",
       "\n",
       "    .dataframe tbody tr th {\n",
       "        vertical-align: top;\n",
       "    }\n",
       "</style>\n",
       "<table border=\"1\" class=\"dataframe\">\n",
       "  <thead>\n",
       "    <tr style=\"text-align: right;\">\n",
       "      <th></th>\n",
       "      <th>name</th>\n",
       "      <th>rank</th>\n",
       "      <th>stats_number_students</th>\n",
       "      <th>stats_student_staff_ratio</th>\n",
       "      <th>inter_st_ratio</th>\n",
       "      <th>region</th>\n",
       "    </tr>\n",
       "    <tr>\n",
       "      <th>location</th>\n",
       "      <th></th>\n",
       "      <th></th>\n",
       "      <th></th>\n",
       "      <th></th>\n",
       "      <th></th>\n",
       "      <th></th>\n",
       "    </tr>\n",
       "  </thead>\n",
       "  <tbody>\n",
       "    <tr>\n",
       "      <th>Poland</th>\n",
       "      <td>AGH University of Science and Technology</td>\n",
       "      <td>603</td>\n",
       "      <td>32930</td>\n",
       "      <td>14.9</td>\n",
       "      <td>NaN</td>\n",
       "      <td>Europe</td>\n",
       "    </tr>\n",
       "    <tr>\n",
       "      <th>Denmark</th>\n",
       "      <td>Aalborg University</td>\n",
       "      <td>201</td>\n",
       "      <td>15512</td>\n",
       "      <td>13.6</td>\n",
       "      <td>NaN</td>\n",
       "      <td>Europe</td>\n",
       "    </tr>\n",
       "    <tr>\n",
       "      <th>Finland</th>\n",
       "      <td>Aalto University</td>\n",
       "      <td>190</td>\n",
       "      <td>12744</td>\n",
       "      <td>20.2</td>\n",
       "      <td>NaN</td>\n",
       "      <td>Europe</td>\n",
       "    </tr>\n",
       "    <tr>\n",
       "      <th>Denmark</th>\n",
       "      <td>Aarhus University</td>\n",
       "      <td>109</td>\n",
       "      <td>25167</td>\n",
       "      <td>14.3</td>\n",
       "      <td>NaN</td>\n",
       "      <td>Europe</td>\n",
       "    </tr>\n",
       "    <tr>\n",
       "      <th>United Kingdom</th>\n",
       "      <td>Aberystwyth University</td>\n",
       "      <td>301</td>\n",
       "      <td>7920</td>\n",
       "      <td>18.4</td>\n",
       "      <td>NaN</td>\n",
       "      <td>Europe</td>\n",
       "    </tr>\n",
       "    <tr>\n",
       "      <th>Poland</th>\n",
       "      <td>Adam Mickiewicz University</td>\n",
       "      <td>801</td>\n",
       "      <td>40412</td>\n",
       "      <td>14.9</td>\n",
       "      <td>NaN</td>\n",
       "      <td>Europe</td>\n",
       "    </tr>\n",
       "    <tr>\n",
       "      <th>Egypt</th>\n",
       "      <td>Ain Shams University</td>\n",
       "      <td>803</td>\n",
       "      <td>131200</td>\n",
       "      <td>13.5</td>\n",
       "      <td>NaN</td>\n",
       "      <td>Africa</td>\n",
       "    </tr>\n",
       "    <tr>\n",
       "      <th>France</th>\n",
       "      <td>Aix-Marseille University</td>\n",
       "      <td>254</td>\n",
       "      <td>66623</td>\n",
       "      <td>16.8</td>\n",
       "      <td>NaN</td>\n",
       "      <td>Europe</td>\n",
       "    </tr>\n",
       "    <tr>\n",
       "      <th>South Korea</th>\n",
       "      <td>Ajou University</td>\n",
       "      <td>804</td>\n",
       "      <td>11629</td>\n",
       "      <td>10.2</td>\n",
       "      <td>NaN</td>\n",
       "      <td>Asia</td>\n",
       "    </tr>\n",
       "    <tr>\n",
       "      <th>Turkey</th>\n",
       "      <td>Akdeniz University</td>\n",
       "      <td>805</td>\n",
       "      <td>33904</td>\n",
       "      <td>26.3</td>\n",
       "      <td>NaN</td>\n",
       "      <td>NaN</td>\n",
       "    </tr>\n",
       "    <tr>\n",
       "      <th>Japan</th>\n",
       "      <td>Akita University</td>\n",
       "      <td>1001</td>\n",
       "      <td>5127</td>\n",
       "      <td>8.8</td>\n",
       "      <td>NaN</td>\n",
       "      <td>NaN</td>\n",
       "    </tr>\n",
       "    <tr>\n",
       "      <th>Egypt</th>\n",
       "      <td>Alexandria University</td>\n",
       "      <td>806</td>\n",
       "      <td>166350</td>\n",
       "      <td>26.9</td>\n",
       "      <td>NaN</td>\n",
       "      <td>Africa</td>\n",
       "    </tr>\n",
       "    <tr>\n",
       "      <th>Romania</th>\n",
       "      <td>Alexandru Ioan Cuza University</td>\n",
       "      <td>807</td>\n",
       "      <td>23476</td>\n",
       "      <td>17.7</td>\n",
       "      <td>NaN</td>\n",
       "      <td>Europe</td>\n",
       "    </tr>\n",
       "    <tr>\n",
       "      <th>Saudi Arabia</th>\n",
       "      <td>Alfaisal University</td>\n",
       "      <td>502</td>\n",
       "      <td>1891</td>\n",
       "      <td>14.5</td>\n",
       "      <td>NaN</td>\n",
       "      <td>NaN</td>\n",
       "    </tr>\n",
       "    <tr>\n",
       "      <th>India</th>\n",
       "      <td>Aligarh Muslim University</td>\n",
       "      <td>607</td>\n",
       "      <td>17732</td>\n",
       "      <td>14.6</td>\n",
       "      <td>NaN</td>\n",
       "      <td>NaN</td>\n",
       "    </tr>\n",
       "    <tr>\n",
       "      <th>Iran</th>\n",
       "      <td>Alzahra University</td>\n",
       "      <td>1002</td>\n",
       "      <td>10637</td>\n",
       "      <td>31.2</td>\n",
       "      <td>NaN</td>\n",
       "      <td>NaN</td>\n",
       "    </tr>\n",
       "    <tr>\n",
       "      <th>United States</th>\n",
       "      <td>American University</td>\n",
       "      <td>352</td>\n",
       "      <td>11534</td>\n",
       "      <td>11.7</td>\n",
       "      <td>NaN</td>\n",
       "      <td>North America</td>\n",
       "    </tr>\n",
       "    <tr>\n",
       "      <th>Egypt</th>\n",
       "      <td>American University in Cairo</td>\n",
       "      <td>608</td>\n",
       "      <td>6093</td>\n",
       "      <td>12.4</td>\n",
       "      <td>NaN</td>\n",
       "      <td>NaN</td>\n",
       "    </tr>\n",
       "    <tr>\n",
       "      <th>Lebanon</th>\n",
       "      <td>American University of Beirut</td>\n",
       "      <td>503</td>\n",
       "      <td>8045</td>\n",
       "      <td>8.6</td>\n",
       "      <td>NaN</td>\n",
       "      <td>NaN</td>\n",
       "    </tr>\n",
       "    <tr>\n",
       "      <th>United Arab Emirates</th>\n",
       "      <td>American University of Sharjah</td>\n",
       "      <td>609</td>\n",
       "      <td>5778</td>\n",
       "      <td>15.0</td>\n",
       "      <td>NaN</td>\n",
       "      <td>Asia</td>\n",
       "    </tr>\n",
       "    <tr>\n",
       "      <th>Iran</th>\n",
       "      <td>Amirkabir University of Technology</td>\n",
       "      <td>610</td>\n",
       "      <td>12815</td>\n",
       "      <td>23.3</td>\n",
       "      <td>NaN</td>\n",
       "      <td>Asia</td>\n",
       "    </tr>\n",
       "    <tr>\n",
       "      <th>India</th>\n",
       "      <td>Amity University</td>\n",
       "      <td>1003</td>\n",
       "      <td>25607</td>\n",
       "      <td>15.0</td>\n",
       "      <td>NaN</td>\n",
       "      <td>NaN</td>\n",
       "    </tr>\n",
       "    <tr>\n",
       "      <th>India</th>\n",
       "      <td>Amrita University</td>\n",
       "      <td>810</td>\n",
       "      <td>14233</td>\n",
       "      <td>11.9</td>\n",
       "      <td>NaN</td>\n",
       "      <td>NaN</td>\n",
       "    </tr>\n",
       "    <tr>\n",
       "      <th>Turkey</th>\n",
       "      <td>Anadolu University</td>\n",
       "      <td>1004</td>\n",
       "      <td>1824383</td>\n",
       "      <td>864.6</td>\n",
       "      <td>NaN</td>\n",
       "      <td>NaN</td>\n",
       "    </tr>\n",
       "    <tr>\n",
       "      <th>India</th>\n",
       "      <td>Andhra University</td>\n",
       "      <td>811</td>\n",
       "      <td>9632</td>\n",
       "      <td>19.2</td>\n",
       "      <td>NaN</td>\n",
       "      <td>NaN</td>\n",
       "    </tr>\n",
       "    <tr>\n",
       "      <th>Chile</th>\n",
       "      <td>Andrés Bello University (UNAB)</td>\n",
       "      <td>812</td>\n",
       "      <td>44906</td>\n",
       "      <td>26.1</td>\n",
       "      <td>NaN</td>\n",
       "      <td>NaN</td>\n",
       "    </tr>\n",
       "    <tr>\n",
       "      <th>United Kingdom</th>\n",
       "      <td>Anglia Ruskin University</td>\n",
       "      <td>303</td>\n",
       "      <td>15197</td>\n",
       "      <td>21.7</td>\n",
       "      <td>NaN</td>\n",
       "      <td>NaN</td>\n",
       "    </tr>\n",
       "    <tr>\n",
       "      <th>Turkey</th>\n",
       "      <td>Ankara University</td>\n",
       "      <td>1006</td>\n",
       "      <td>65703</td>\n",
       "      <td>17.0</td>\n",
       "      <td>NaN</td>\n",
       "      <td>NaN</td>\n",
       "    </tr>\n",
       "    <tr>\n",
       "      <th>India</th>\n",
       "      <td>Annamalai University</td>\n",
       "      <td>813</td>\n",
       "      <td>33028</td>\n",
       "      <td>16.2</td>\n",
       "      <td>NaN</td>\n",
       "      <td>NaN</td>\n",
       "    </tr>\n",
       "    <tr>\n",
       "      <th>Greece</th>\n",
       "      <td>Aristotle University of Thessaloniki</td>\n",
       "      <td>504</td>\n",
       "      <td>45709</td>\n",
       "      <td>24.7</td>\n",
       "      <td>NaN</td>\n",
       "      <td>Europe</td>\n",
       "    </tr>\n",
       "    <tr>\n",
       "      <th>...</th>\n",
       "      <td>...</td>\n",
       "      <td>...</td>\n",
       "      <td>...</td>\n",
       "      <td>...</td>\n",
       "      <td>...</td>\n",
       "      <td>...</td>\n",
       "    </tr>\n",
       "    <tr>\n",
       "      <th>Australia</th>\n",
       "      <td>Western Sydney University</td>\n",
       "      <td>498</td>\n",
       "      <td>32744</td>\n",
       "      <td>34.0</td>\n",
       "      <td>NaN</td>\n",
       "      <td>Oceania</td>\n",
       "    </tr>\n",
       "    <tr>\n",
       "      <th>Canada</th>\n",
       "      <td>Western University</td>\n",
       "      <td>252</td>\n",
       "      <td>28996</td>\n",
       "      <td>22.0</td>\n",
       "      <td>NaN</td>\n",
       "      <td>NaN</td>\n",
       "    </tr>\n",
       "    <tr>\n",
       "      <th>United States</th>\n",
       "      <td>William &amp; Mary</td>\n",
       "      <td>298</td>\n",
       "      <td>8044</td>\n",
       "      <td>11.8</td>\n",
       "      <td>NaN</td>\n",
       "      <td>NaN</td>\n",
       "    </tr>\n",
       "    <tr>\n",
       "      <th>China</th>\n",
       "      <td>Wuhan University</td>\n",
       "      <td>500</td>\n",
       "      <td>50178</td>\n",
       "      <td>14.3</td>\n",
       "      <td>NaN</td>\n",
       "      <td>Asia</td>\n",
       "    </tr>\n",
       "    <tr>\n",
       "      <th>China</th>\n",
       "      <td>Wuhan University of Technology</td>\n",
       "      <td>991</td>\n",
       "      <td>50876</td>\n",
       "      <td>14.6</td>\n",
       "      <td>NaN</td>\n",
       "      <td>NaN</td>\n",
       "    </tr>\n",
       "    <tr>\n",
       "      <th>China</th>\n",
       "      <td>Xiamen University</td>\n",
       "      <td>501</td>\n",
       "      <td>41430</td>\n",
       "      <td>15.0</td>\n",
       "      <td>NaN</td>\n",
       "      <td>Asia</td>\n",
       "    </tr>\n",
       "    <tr>\n",
       "      <th>China</th>\n",
       "      <td>Xiangtan University</td>\n",
       "      <td>992</td>\n",
       "      <td>30810</td>\n",
       "      <td>21.2</td>\n",
       "      <td>NaN</td>\n",
       "      <td>NaN</td>\n",
       "    </tr>\n",
       "    <tr>\n",
       "      <th>China</th>\n",
       "      <td>Xidian University</td>\n",
       "      <td>993</td>\n",
       "      <td>32722</td>\n",
       "      <td>16.6</td>\n",
       "      <td>NaN</td>\n",
       "      <td>NaN</td>\n",
       "    </tr>\n",
       "    <tr>\n",
       "      <th>China</th>\n",
       "      <td>Xi’an Jiaotong University</td>\n",
       "      <td>601</td>\n",
       "      <td>32199</td>\n",
       "      <td>10.7</td>\n",
       "      <td>NaN</td>\n",
       "      <td>Asia</td>\n",
       "    </tr>\n",
       "    <tr>\n",
       "      <th>United States</th>\n",
       "      <td>Yale University</td>\n",
       "      <td>12</td>\n",
       "      <td>12155</td>\n",
       "      <td>4.3</td>\n",
       "      <td>NaN</td>\n",
       "      <td>North America</td>\n",
       "    </tr>\n",
       "    <tr>\n",
       "      <th>Japan</th>\n",
       "      <td>Yamagata University</td>\n",
       "      <td>994</td>\n",
       "      <td>8961</td>\n",
       "      <td>8.2</td>\n",
       "      <td>NaN</td>\n",
       "      <td>NaN</td>\n",
       "    </tr>\n",
       "    <tr>\n",
       "      <th>Japan</th>\n",
       "      <td>Yamaguchi University</td>\n",
       "      <td>995</td>\n",
       "      <td>10639</td>\n",
       "      <td>11.0</td>\n",
       "      <td>NaN</td>\n",
       "      <td>Asia</td>\n",
       "    </tr>\n",
       "    <tr>\n",
       "      <th>Iran</th>\n",
       "      <td>Yazd University</td>\n",
       "      <td>1100</td>\n",
       "      <td>13600</td>\n",
       "      <td>23.9</td>\n",
       "      <td>NaN</td>\n",
       "      <td>NaN</td>\n",
       "    </tr>\n",
       "    <tr>\n",
       "      <th>Turkey</th>\n",
       "      <td>Yeditepe University</td>\n",
       "      <td>1101</td>\n",
       "      <td>23260</td>\n",
       "      <td>25.1</td>\n",
       "      <td>NaN</td>\n",
       "      <td>NaN</td>\n",
       "    </tr>\n",
       "    <tr>\n",
       "      <th>South Korea</th>\n",
       "      <td>Yeungnam University</td>\n",
       "      <td>797</td>\n",
       "      <td>20532</td>\n",
       "      <td>14.7</td>\n",
       "      <td>NaN</td>\n",
       "      <td>Asia</td>\n",
       "    </tr>\n",
       "    <tr>\n",
       "      <th>Japan</th>\n",
       "      <td>Yokohama City University</td>\n",
       "      <td>798</td>\n",
       "      <td>4889</td>\n",
       "      <td>3.5</td>\n",
       "      <td>NaN</td>\n",
       "      <td>Asia</td>\n",
       "    </tr>\n",
       "    <tr>\n",
       "      <th>Japan</th>\n",
       "      <td>Yokohama National University</td>\n",
       "      <td>998</td>\n",
       "      <td>9968</td>\n",
       "      <td>12.8</td>\n",
       "      <td>NaN</td>\n",
       "      <td>Asia</td>\n",
       "    </tr>\n",
       "    <tr>\n",
       "      <th>South Korea</th>\n",
       "      <td>Yonsei University (Seoul campus)</td>\n",
       "      <td>253</td>\n",
       "      <td>18038</td>\n",
       "      <td>14.7</td>\n",
       "      <td>NaN</td>\n",
       "      <td>NaN</td>\n",
       "    </tr>\n",
       "    <tr>\n",
       "      <th>Canada</th>\n",
       "      <td>York University</td>\n",
       "      <td>402</td>\n",
       "      <td>46146</td>\n",
       "      <td>40.8</td>\n",
       "      <td>NaN</td>\n",
       "      <td>North America</td>\n",
       "    </tr>\n",
       "    <tr>\n",
       "      <th>Taiwan</th>\n",
       "      <td>Yuan Ze University</td>\n",
       "      <td>999</td>\n",
       "      <td>8652</td>\n",
       "      <td>20.9</td>\n",
       "      <td>NaN</td>\n",
       "      <td>NaN</td>\n",
       "    </tr>\n",
       "    <tr>\n",
       "      <th>Turkey</th>\n",
       "      <td>Yıldız Technical University</td>\n",
       "      <td>997</td>\n",
       "      <td>35670</td>\n",
       "      <td>28.5</td>\n",
       "      <td>NaN</td>\n",
       "      <td>NaN</td>\n",
       "    </tr>\n",
       "    <tr>\n",
       "      <th>China</th>\n",
       "      <td>Zhejiang University</td>\n",
       "      <td>178</td>\n",
       "      <td>50051</td>\n",
       "      <td>14.1</td>\n",
       "      <td>NaN</td>\n",
       "      <td>Asia</td>\n",
       "    </tr>\n",
       "    <tr>\n",
       "      <th>France</th>\n",
       "      <td>École Centrale de Lyon</td>\n",
       "      <td>654</td>\n",
       "      <td>1871</td>\n",
       "      <td>15.2</td>\n",
       "      <td>NaN</td>\n",
       "      <td>NaN</td>\n",
       "    </tr>\n",
       "    <tr>\n",
       "      <th>France</th>\n",
       "      <td>École Normale Supérieure de Cachan</td>\n",
       "      <td>655</td>\n",
       "      <td>1631</td>\n",
       "      <td>10.5</td>\n",
       "      <td>NaN</td>\n",
       "      <td>NaN</td>\n",
       "    </tr>\n",
       "    <tr>\n",
       "      <th>France</th>\n",
       "      <td>École Normale Supérieure de Lyon</td>\n",
       "      <td>182</td>\n",
       "      <td>2221</td>\n",
       "      <td>8.5</td>\n",
       "      <td>NaN</td>\n",
       "      <td>Europe</td>\n",
       "    </tr>\n",
       "    <tr>\n",
       "      <th>France</th>\n",
       "      <td>École Polytechnique</td>\n",
       "      <td>115</td>\n",
       "      <td>2799</td>\n",
       "      <td>5.1</td>\n",
       "      <td>NaN</td>\n",
       "      <td>NaN</td>\n",
       "    </tr>\n",
       "    <tr>\n",
       "      <th>Switzerland</th>\n",
       "      <td>École Polytechnique Fédérale de Lausanne</td>\n",
       "      <td>38</td>\n",
       "      <td>9928</td>\n",
       "      <td>11.2</td>\n",
       "      <td>NaN</td>\n",
       "      <td>NaN</td>\n",
       "    </tr>\n",
       "    <tr>\n",
       "      <th>France</th>\n",
       "      <td>École des Ponts ParisTech</td>\n",
       "      <td>264</td>\n",
       "      <td>1749</td>\n",
       "      <td>12.3</td>\n",
       "      <td>NaN</td>\n",
       "      <td>NaN</td>\n",
       "    </tr>\n",
       "    <tr>\n",
       "      <th>Sweden</th>\n",
       "      <td>Örebro University</td>\n",
       "      <td>382</td>\n",
       "      <td>8800</td>\n",
       "      <td>16.4</td>\n",
       "      <td>NaN</td>\n",
       "      <td>NaN</td>\n",
       "    </tr>\n",
       "    <tr>\n",
       "      <th>Poland</th>\n",
       "      <td>Łodz University of Technology</td>\n",
       "      <td>1051</td>\n",
       "      <td>19984</td>\n",
       "      <td>15.2</td>\n",
       "      <td>NaN</td>\n",
       "      <td>NaN</td>\n",
       "    </tr>\n",
       "  </tbody>\n",
       "</table>\n",
       "<p>1102 rows × 6 columns</p>\n",
       "</div>"
      ],
      "text/plain": [
       "                                                          name  rank  \\\n",
       "location                                                               \n",
       "Poland                AGH University of Science and Technology   603   \n",
       "Denmark                                     Aalborg University   201   \n",
       "Finland                                       Aalto University   190   \n",
       "Denmark                                      Aarhus University   109   \n",
       "United Kingdom                          Aberystwyth University   301   \n",
       "Poland                              Adam Mickiewicz University   801   \n",
       "Egypt                                     Ain Shams University   803   \n",
       "France                                Aix-Marseille University   254   \n",
       "South Korea                                    Ajou University   804   \n",
       "Turkey                                      Akdeniz University   805   \n",
       "Japan                                         Akita University  1001   \n",
       "Egypt                                    Alexandria University   806   \n",
       "Romania                         Alexandru Ioan Cuza University   807   \n",
       "Saudi Arabia                               Alfaisal University   502   \n",
       "India                                Aligarh Muslim University   607   \n",
       "Iran                                        Alzahra University  1002   \n",
       "United States                              American University   352   \n",
       "Egypt                             American University in Cairo   608   \n",
       "Lebanon                          American University of Beirut   503   \n",
       "United Arab Emirates            American University of Sharjah   609   \n",
       "Iran                        Amirkabir University of Technology   610   \n",
       "India                                         Amity University  1003   \n",
       "India                                        Amrita University   810   \n",
       "Turkey                                      Anadolu University  1004   \n",
       "India                                        Andhra University   811   \n",
       "Chile                           Andrés Bello University (UNAB)   812   \n",
       "United Kingdom                        Anglia Ruskin University   303   \n",
       "Turkey                                       Ankara University  1006   \n",
       "India                                     Annamalai University   813   \n",
       "Greece                    Aristotle University of Thessaloniki   504   \n",
       "...                                                        ...   ...   \n",
       "Australia                            Western Sydney University   498   \n",
       "Canada                                      Western University   252   \n",
       "United States                                   William & Mary   298   \n",
       "China                                         Wuhan University   500   \n",
       "China                           Wuhan University of Technology   991   \n",
       "China                                        Xiamen University   501   \n",
       "China                                      Xiangtan University   992   \n",
       "China                                        Xidian University   993   \n",
       "China                                Xi’an Jiaotong University   601   \n",
       "United States                                  Yale University    12   \n",
       "Japan                                      Yamagata University   994   \n",
       "Japan                                     Yamaguchi University   995   \n",
       "Iran                                           Yazd University  1100   \n",
       "Turkey                                     Yeditepe University  1101   \n",
       "South Korea                                Yeungnam University   797   \n",
       "Japan                                 Yokohama City University   798   \n",
       "Japan                             Yokohama National University   998   \n",
       "South Korea                   Yonsei University (Seoul campus)   253   \n",
       "Canada                                         York University   402   \n",
       "Taiwan                                      Yuan Ze University   999   \n",
       "Turkey                             Yıldız Technical University   997   \n",
       "China                                      Zhejiang University   178   \n",
       "France                                  École Centrale de Lyon   654   \n",
       "France                      École Normale Supérieure de Cachan   655   \n",
       "France                        École Normale Supérieure de Lyon   182   \n",
       "France                                     École Polytechnique   115   \n",
       "Switzerland           École Polytechnique Fédérale de Lausanne    38   \n",
       "France                               École des Ponts ParisTech   264   \n",
       "Sweden                                       Örebro University   382   \n",
       "Poland                           Łodz University of Technology  1051   \n",
       "\n",
       "                      stats_number_students  stats_student_staff_ratio  \\\n",
       "location                                                                 \n",
       "Poland                                32930                       14.9   \n",
       "Denmark                               15512                       13.6   \n",
       "Finland                               12744                       20.2   \n",
       "Denmark                               25167                       14.3   \n",
       "United Kingdom                         7920                       18.4   \n",
       "Poland                                40412                       14.9   \n",
       "Egypt                                131200                       13.5   \n",
       "France                                66623                       16.8   \n",
       "South Korea                           11629                       10.2   \n",
       "Turkey                                33904                       26.3   \n",
       "Japan                                  5127                        8.8   \n",
       "Egypt                                166350                       26.9   \n",
       "Romania                               23476                       17.7   \n",
       "Saudi Arabia                           1891                       14.5   \n",
       "India                                 17732                       14.6   \n",
       "Iran                                  10637                       31.2   \n",
       "United States                         11534                       11.7   \n",
       "Egypt                                  6093                       12.4   \n",
       "Lebanon                                8045                        8.6   \n",
       "United Arab Emirates                   5778                       15.0   \n",
       "Iran                                  12815                       23.3   \n",
       "India                                 25607                       15.0   \n",
       "India                                 14233                       11.9   \n",
       "Turkey                              1824383                      864.6   \n",
       "India                                  9632                       19.2   \n",
       "Chile                                 44906                       26.1   \n",
       "United Kingdom                        15197                       21.7   \n",
       "Turkey                                65703                       17.0   \n",
       "India                                 33028                       16.2   \n",
       "Greece                                45709                       24.7   \n",
       "...                                     ...                        ...   \n",
       "Australia                             32744                       34.0   \n",
       "Canada                                28996                       22.0   \n",
       "United States                          8044                       11.8   \n",
       "China                                 50178                       14.3   \n",
       "China                                 50876                       14.6   \n",
       "China                                 41430                       15.0   \n",
       "China                                 30810                       21.2   \n",
       "China                                 32722                       16.6   \n",
       "China                                 32199                       10.7   \n",
       "United States                         12155                        4.3   \n",
       "Japan                                  8961                        8.2   \n",
       "Japan                                 10639                       11.0   \n",
       "Iran                                  13600                       23.9   \n",
       "Turkey                                23260                       25.1   \n",
       "South Korea                           20532                       14.7   \n",
       "Japan                                  4889                        3.5   \n",
       "Japan                                  9968                       12.8   \n",
       "South Korea                           18038                       14.7   \n",
       "Canada                                46146                       40.8   \n",
       "Taiwan                                 8652                       20.9   \n",
       "Turkey                                35670                       28.5   \n",
       "China                                 50051                       14.1   \n",
       "France                                 1871                       15.2   \n",
       "France                                 1631                       10.5   \n",
       "France                                 2221                        8.5   \n",
       "France                                 2799                        5.1   \n",
       "Switzerland                            9928                       11.2   \n",
       "France                                 1749                       12.3   \n",
       "Sweden                                 8800                       16.4   \n",
       "Poland                                19984                       15.2   \n",
       "\n",
       "                      inter_st_ratio         region  \n",
       "location                                             \n",
       "Poland                           NaN         Europe  \n",
       "Denmark                          NaN         Europe  \n",
       "Finland                          NaN         Europe  \n",
       "Denmark                          NaN         Europe  \n",
       "United Kingdom                   NaN         Europe  \n",
       "Poland                           NaN         Europe  \n",
       "Egypt                            NaN         Africa  \n",
       "France                           NaN         Europe  \n",
       "South Korea                      NaN           Asia  \n",
       "Turkey                           NaN            NaN  \n",
       "Japan                            NaN            NaN  \n",
       "Egypt                            NaN         Africa  \n",
       "Romania                          NaN         Europe  \n",
       "Saudi Arabia                     NaN            NaN  \n",
       "India                            NaN            NaN  \n",
       "Iran                             NaN            NaN  \n",
       "United States                    NaN  North America  \n",
       "Egypt                            NaN            NaN  \n",
       "Lebanon                          NaN            NaN  \n",
       "United Arab Emirates             NaN           Asia  \n",
       "Iran                             NaN           Asia  \n",
       "India                            NaN            NaN  \n",
       "India                            NaN            NaN  \n",
       "Turkey                           NaN            NaN  \n",
       "India                            NaN            NaN  \n",
       "Chile                            NaN            NaN  \n",
       "United Kingdom                   NaN            NaN  \n",
       "Turkey                           NaN            NaN  \n",
       "India                            NaN            NaN  \n",
       "Greece                           NaN         Europe  \n",
       "...                              ...            ...  \n",
       "Australia                        NaN        Oceania  \n",
       "Canada                           NaN            NaN  \n",
       "United States                    NaN            NaN  \n",
       "China                            NaN           Asia  \n",
       "China                            NaN            NaN  \n",
       "China                            NaN           Asia  \n",
       "China                            NaN            NaN  \n",
       "China                            NaN            NaN  \n",
       "China                            NaN           Asia  \n",
       "United States                    NaN  North America  \n",
       "Japan                            NaN            NaN  \n",
       "Japan                            NaN           Asia  \n",
       "Iran                             NaN            NaN  \n",
       "Turkey                           NaN            NaN  \n",
       "South Korea                      NaN           Asia  \n",
       "Japan                            NaN           Asia  \n",
       "Japan                            NaN           Asia  \n",
       "South Korea                      NaN            NaN  \n",
       "Canada                           NaN  North America  \n",
       "Taiwan                           NaN            NaN  \n",
       "Turkey                           NaN            NaN  \n",
       "China                            NaN           Asia  \n",
       "France                           NaN            NaN  \n",
       "France                           NaN            NaN  \n",
       "France                           NaN         Europe  \n",
       "France                           NaN            NaN  \n",
       "Switzerland                      NaN            NaN  \n",
       "France                           NaN            NaN  \n",
       "Sweden                           NaN            NaN  \n",
       "Poland                           NaN            NaN  \n",
       "\n",
       "[1102 rows x 6 columns]"
      ]
     },
     "execution_count": 105,
     "metadata": {},
     "output_type": "execute_result"
    }
   ],
   "source": [
    "univ_tot2_df2.set_index('location').join(univ_tot_df.set_index(''))"
   ]
  },
  {
   "cell_type": "markdown",
   "metadata": {},
   "source": [
    "### Task 2.1\n",
    "\n",
    "Which are the best universities in term of: (a) ratio between faculty members and students, (b) ratio of international students?, (c) country, (d) region"
   ]
  },
  {
   "cell_type": "markdown",
   "metadata": {
    "collapsed": true
   },
   "source": [
    "<div class=\"lev1\"><a href=\"#Table-of-Contents\"><span class=\"toc-item-num\"></span>Table of contents</a></div>"
   ]
  },
  {
   "cell_type": "code",
   "execution_count": 100,
   "metadata": {
    "collapsed": true
   },
   "outputs": [],
   "source": [
    "#Same function for Task 1.1 to retreive and form the Dataframe that we need\n",
    "def sortby_col_rank2(df, col):\n",
    "    univ_col = df.set_index([col, 'rank'])\n",
    "    univ_col.sort_index(level=[col, 'rank'], ascending=[1, 1], inplace=True)\n",
    "    return univ_col"
   ]
  },
  {
   "cell_type": "markdown",
   "metadata": {},
   "source": [
    "(a) ratio between faculty members and students"
   ]
  },
  {
   "cell_type": "code",
   "execution_count": 101,
   "metadata": {},
   "outputs": [
    {
     "data": {
      "text/html": [
       "<div>\n",
       "<style>\n",
       "    .dataframe thead tr:only-child th {\n",
       "        text-align: right;\n",
       "    }\n",
       "\n",
       "    .dataframe thead th {\n",
       "        text-align: left;\n",
       "    }\n",
       "\n",
       "    .dataframe tbody tr th {\n",
       "        vertical-align: top;\n",
       "    }\n",
       "</style>\n",
       "<table border=\"1\" class=\"dataframe\">\n",
       "  <thead>\n",
       "    <tr style=\"text-align: right;\">\n",
       "      <th></th>\n",
       "      <th>name</th>\n",
       "      <th>rank</th>\n",
       "      <th>location</th>\n",
       "      <th>stats_number_students</th>\n",
       "      <th>stats_student_staff_ratio</th>\n",
       "      <th>inter_st_ratio</th>\n",
       "      <th>region</th>\n",
       "    </tr>\n",
       "  </thead>\n",
       "  <tbody>\n",
       "    <tr>\n",
       "      <th>23</th>\n",
       "      <td>Anadolu University</td>\n",
       "      <td>1004</td>\n",
       "      <td>Turkey</td>\n",
       "      <td>1824383</td>\n",
       "      <td>864.6</td>\n",
       "      <td>NaN</td>\n",
       "      <td>NaN</td>\n",
       "    </tr>\n",
       "    <tr>\n",
       "      <th>631</th>\n",
       "      <td>Technical University of Dortmund</td>\n",
       "      <td>341</td>\n",
       "      <td>Germany</td>\n",
       "      <td>32870</td>\n",
       "      <td>99.6</td>\n",
       "      <td>NaN</td>\n",
       "      <td>NaN</td>\n",
       "    </tr>\n",
       "    <tr>\n",
       "      <th>946</th>\n",
       "      <td>University of South Africa</td>\n",
       "      <td>963</td>\n",
       "      <td>South Africa</td>\n",
       "      <td>184432</td>\n",
       "      <td>89.6</td>\n",
       "      <td>NaN</td>\n",
       "      <td>NaN</td>\n",
       "    </tr>\n",
       "    <tr>\n",
       "      <th>724</th>\n",
       "      <td>University of Bonn</td>\n",
       "      <td>100</td>\n",
       "      <td>Germany</td>\n",
       "      <td>35619</td>\n",
       "      <td>77.9</td>\n",
       "      <td>NaN</td>\n",
       "      <td>NaN</td>\n",
       "    </tr>\n",
       "    <tr>\n",
       "      <th>908</th>\n",
       "      <td>University of Passau</td>\n",
       "      <td>231</td>\n",
       "      <td>Germany</td>\n",
       "      <td>11804</td>\n",
       "      <td>74.8</td>\n",
       "      <td>NaN</td>\n",
       "      <td>NaN</td>\n",
       "    </tr>\n",
       "  </tbody>\n",
       "</table>\n",
       "</div>"
      ],
      "text/plain": [
       "                                 name  rank      location  \\\n",
       "23                 Anadolu University  1004        Turkey   \n",
       "631  Technical University of Dortmund   341       Germany   \n",
       "946        University of South Africa   963  South Africa   \n",
       "724                University of Bonn   100       Germany   \n",
       "908              University of Passau   231       Germany   \n",
       "\n",
       "     stats_number_students  stats_student_staff_ratio  inter_st_ratio region  \n",
       "23                 1824383                      864.6             NaN    NaN  \n",
       "631                  32870                       99.6             NaN    NaN  \n",
       "946                 184432                       89.6             NaN    NaN  \n",
       "724                  35619                       77.9             NaN    NaN  \n",
       "908                  11804                       74.8             NaN    NaN  "
      ]
     },
     "execution_count": 101,
     "metadata": {},
     "output_type": "execute_result"
    }
   ],
   "source": [
    "univ_tot2_df2.sort_values(['stats_student_staff_ratio'], ascending = 0).head()"
   ]
  },
  {
   "cell_type": "markdown",
   "metadata": {},
   "source": [
    "(b) ratio of international students?"
   ]
  },
  {
   "cell_type": "code",
   "execution_count": 102,
   "metadata": {},
   "outputs": [
    {
     "data": {
      "text/html": [
       "<div>\n",
       "<style>\n",
       "    .dataframe thead tr:only-child th {\n",
       "        text-align: right;\n",
       "    }\n",
       "\n",
       "    .dataframe thead th {\n",
       "        text-align: left;\n",
       "    }\n",
       "\n",
       "    .dataframe tbody tr th {\n",
       "        vertical-align: top;\n",
       "    }\n",
       "</style>\n",
       "<table border=\"1\" class=\"dataframe\">\n",
       "  <thead>\n",
       "    <tr style=\"text-align: right;\">\n",
       "      <th></th>\n",
       "      <th>name</th>\n",
       "      <th>rank</th>\n",
       "      <th>location</th>\n",
       "      <th>stats_number_students</th>\n",
       "      <th>stats_student_staff_ratio</th>\n",
       "      <th>inter_st_ratio</th>\n",
       "      <th>region</th>\n",
       "    </tr>\n",
       "  </thead>\n",
       "  <tbody>\n",
       "    <tr>\n",
       "      <th>746</th>\n",
       "      <td>University of Cambridge</td>\n",
       "      <td>2</td>\n",
       "      <td>United Kingdom</td>\n",
       "      <td>18389</td>\n",
       "      <td>10.9</td>\n",
       "      <td>0.38</td>\n",
       "      <td>Europe</td>\n",
       "    </tr>\n",
       "    <tr>\n",
       "      <th>903</th>\n",
       "      <td>University of Oxford</td>\n",
       "      <td>1</td>\n",
       "      <td>United Kingdom</td>\n",
       "      <td>20409</td>\n",
       "      <td>11.2</td>\n",
       "      <td>0.35</td>\n",
       "      <td>Europe</td>\n",
       "    </tr>\n",
       "    <tr>\n",
       "      <th>83</th>\n",
       "      <td>California Institute of Technology</td>\n",
       "      <td>3</td>\n",
       "      <td>United States</td>\n",
       "      <td>2209</td>\n",
       "      <td>6.5</td>\n",
       "      <td>0.27</td>\n",
       "      <td>NaN</td>\n",
       "    </tr>\n",
       "    <tr>\n",
       "      <th>601</th>\n",
       "      <td>Stanford University</td>\n",
       "      <td>4</td>\n",
       "      <td>United States</td>\n",
       "      <td>15845</td>\n",
       "      <td>7.5</td>\n",
       "      <td>0.22</td>\n",
       "      <td>North America</td>\n",
       "    </tr>\n",
       "    <tr>\n",
       "      <th>0</th>\n",
       "      <td>AGH University of Science and Technology</td>\n",
       "      <td>603</td>\n",
       "      <td>Poland</td>\n",
       "      <td>32930</td>\n",
       "      <td>14.9</td>\n",
       "      <td>NaN</td>\n",
       "      <td>Europe</td>\n",
       "    </tr>\n",
       "  </tbody>\n",
       "</table>\n",
       "</div>"
      ],
      "text/plain": [
       "                                         name  rank        location  \\\n",
       "746                   University of Cambridge     2  United Kingdom   \n",
       "903                      University of Oxford     1  United Kingdom   \n",
       "83         California Institute of Technology     3   United States   \n",
       "601                       Stanford University     4   United States   \n",
       "0    AGH University of Science and Technology   603          Poland   \n",
       "\n",
       "     stats_number_students  stats_student_staff_ratio  inter_st_ratio  \\\n",
       "746                  18389                       10.9            0.38   \n",
       "903                  20409                       11.2            0.35   \n",
       "83                    2209                        6.5            0.27   \n",
       "601                  15845                        7.5            0.22   \n",
       "0                    32930                       14.9             NaN   \n",
       "\n",
       "            region  \n",
       "746         Europe  \n",
       "903         Europe  \n",
       "83             NaN  \n",
       "601  North America  \n",
       "0           Europe  "
      ]
     },
     "execution_count": 102,
     "metadata": {},
     "output_type": "execute_result"
    }
   ],
   "source": [
    "univ_tot2_df2.sort_values(['inter_st_ratio'], ascending = 0).head()"
   ]
  },
  {
   "cell_type": "markdown",
   "metadata": {},
   "source": [
    "(c) country"
   ]
  },
  {
   "cell_type": "code",
   "execution_count": 103,
   "metadata": {},
   "outputs": [
    {
     "data": {
      "text/html": [
       "<div>\n",
       "<style>\n",
       "    .dataframe thead tr:only-child th {\n",
       "        text-align: right;\n",
       "    }\n",
       "\n",
       "    .dataframe thead th {\n",
       "        text-align: left;\n",
       "    }\n",
       "\n",
       "    .dataframe tbody tr th {\n",
       "        vertical-align: top;\n",
       "    }\n",
       "</style>\n",
       "<table border=\"1\" class=\"dataframe\">\n",
       "  <thead>\n",
       "    <tr style=\"text-align: right;\">\n",
       "      <th></th>\n",
       "      <th></th>\n",
       "      <th>name</th>\n",
       "      <th>stats_number_students</th>\n",
       "      <th>stats_student_staff_ratio</th>\n",
       "      <th>inter_st_ratio</th>\n",
       "      <th>region</th>\n",
       "    </tr>\n",
       "    <tr>\n",
       "      <th>location</th>\n",
       "      <th>rank</th>\n",
       "      <th></th>\n",
       "      <th></th>\n",
       "      <th></th>\n",
       "      <th></th>\n",
       "      <th></th>\n",
       "    </tr>\n",
       "  </thead>\n",
       "  <tbody>\n",
       "    <tr>\n",
       "      <th>Algeria</th>\n",
       "      <th>977</th>\n",
       "      <td>University of Tlemcen</td>\n",
       "      <td>42407</td>\n",
       "      <td>23.8</td>\n",
       "      <td>NaN</td>\n",
       "      <td>NaN</td>\n",
       "    </tr>\n",
       "    <tr>\n",
       "      <th>Argentina</th>\n",
       "      <th>915</th>\n",
       "      <td>National University of Córdoba</td>\n",
       "      <td>87926</td>\n",
       "      <td>22.3</td>\n",
       "      <td>NaN</td>\n",
       "      <td>NaN</td>\n",
       "    </tr>\n",
       "    <tr>\n",
       "      <th rowspan=\"3\" valign=\"top\">Australia</th>\n",
       "      <th>32</th>\n",
       "      <td>University of Melbourne</td>\n",
       "      <td>42116</td>\n",
       "      <td>26.6</td>\n",
       "      <td>NaN</td>\n",
       "      <td>NaN</td>\n",
       "    </tr>\n",
       "    <tr>\n",
       "      <th>48</th>\n",
       "      <td>Australian National University</td>\n",
       "      <td>15986</td>\n",
       "      <td>19.3</td>\n",
       "      <td>NaN</td>\n",
       "      <td>NaN</td>\n",
       "    </tr>\n",
       "    <tr>\n",
       "      <th>61</th>\n",
       "      <td>University of Sydney</td>\n",
       "      <td>44553</td>\n",
       "      <td>21.6</td>\n",
       "      <td>NaN</td>\n",
       "      <td>NaN</td>\n",
       "    </tr>\n",
       "  </tbody>\n",
       "</table>\n",
       "</div>"
      ],
      "text/plain": [
       "                                          name  stats_number_students  \\\n",
       "location  rank                                                          \n",
       "Algeria   977            University of Tlemcen                  42407   \n",
       "Argentina 915   National University of Córdoba                  87926   \n",
       "Australia 32           University of Melbourne                  42116   \n",
       "          48    Australian National University                  15986   \n",
       "          61              University of Sydney                  44553   \n",
       "\n",
       "                stats_student_staff_ratio  inter_st_ratio region  \n",
       "location  rank                                                    \n",
       "Algeria   977                        23.8             NaN    NaN  \n",
       "Argentina 915                        22.3             NaN    NaN  \n",
       "Australia 32                         26.6             NaN    NaN  \n",
       "          48                         19.3             NaN    NaN  \n",
       "          61                         21.6             NaN    NaN  "
      ]
     },
     "execution_count": 103,
     "metadata": {},
     "output_type": "execute_result"
    }
   ],
   "source": [
    "country_df2 = sortby_col_rank2(univ_tot2_df2, 'location')\n",
    "#us_univ2 = country_df.loc['United States']\n",
    "#us_univ.head(5)\n",
    "country_df2.head()"
   ]
  },
  {
   "cell_type": "markdown",
   "metadata": {},
   "source": [
    "(d) region"
   ]
  },
  {
   "cell_type": "code",
   "execution_count": 104,
   "metadata": {
    "scrolled": true
   },
   "outputs": [
    {
     "data": {
      "text/html": [
       "<div>\n",
       "<style>\n",
       "    .dataframe thead tr:only-child th {\n",
       "        text-align: right;\n",
       "    }\n",
       "\n",
       "    .dataframe thead th {\n",
       "        text-align: left;\n",
       "    }\n",
       "\n",
       "    .dataframe tbody tr th {\n",
       "        vertical-align: top;\n",
       "    }\n",
       "</style>\n",
       "<table border=\"1\" class=\"dataframe\">\n",
       "  <thead>\n",
       "    <tr style=\"text-align: right;\">\n",
       "      <th></th>\n",
       "      <th></th>\n",
       "      <th>name</th>\n",
       "      <th>location</th>\n",
       "      <th>stats_number_students</th>\n",
       "      <th>stats_student_staff_ratio</th>\n",
       "      <th>inter_st_ratio</th>\n",
       "    </tr>\n",
       "    <tr>\n",
       "      <th>region</th>\n",
       "      <th>rank</th>\n",
       "      <th></th>\n",
       "      <th></th>\n",
       "      <th></th>\n",
       "      <th></th>\n",
       "      <th></th>\n",
       "    </tr>\n",
       "  </thead>\n",
       "  <tbody>\n",
       "    <tr>\n",
       "      <th rowspan=\"5\" valign=\"top\">NaN</th>\n",
       "      <th>3</th>\n",
       "      <td>California Institute of Technology</td>\n",
       "      <td>United States</td>\n",
       "      <td>2209</td>\n",
       "      <td>6.5</td>\n",
       "      <td>0.27</td>\n",
       "    </tr>\n",
       "    <tr>\n",
       "      <th>5</th>\n",
       "      <td>Massachusetts Institute of Technology</td>\n",
       "      <td>United States</td>\n",
       "      <td>11177</td>\n",
       "      <td>8.7</td>\n",
       "      <td>NaN</td>\n",
       "    </tr>\n",
       "    <tr>\n",
       "      <th>10</th>\n",
       "      <td>ETH Zurich – Swiss Federal Institute of Techno...</td>\n",
       "      <td>Switzerland</td>\n",
       "      <td>19233</td>\n",
       "      <td>14.6</td>\n",
       "      <td>NaN</td>\n",
       "    </tr>\n",
       "    <tr>\n",
       "      <th>15</th>\n",
       "      <td>University of California, Los Angeles</td>\n",
       "      <td>United States</td>\n",
       "      <td>39279</td>\n",
       "      <td>9.6</td>\n",
       "      <td>NaN</td>\n",
       "    </tr>\n",
       "    <tr>\n",
       "      <th>16</th>\n",
       "      <td>University College London</td>\n",
       "      <td>United Kingdom</td>\n",
       "      <td>30304</td>\n",
       "      <td>10.5</td>\n",
       "      <td>NaN</td>\n",
       "    </tr>\n",
       "  </tbody>\n",
       "</table>\n",
       "</div>"
      ],
      "text/plain": [
       "                                                          name  \\\n",
       "region rank                                                      \n",
       "NaN    3                    California Institute of Technology   \n",
       "       5                 Massachusetts Institute of Technology   \n",
       "       10    ETH Zurich – Swiss Federal Institute of Techno...   \n",
       "       15                University of California, Los Angeles   \n",
       "       16                            University College London   \n",
       "\n",
       "                   location  stats_number_students  stats_student_staff_ratio  \\\n",
       "region rank                                                                     \n",
       "NaN    3      United States                   2209                        6.5   \n",
       "       5      United States                  11177                        8.7   \n",
       "       10       Switzerland                  19233                       14.6   \n",
       "       15     United States                  39279                        9.6   \n",
       "       16    United Kingdom                  30304                       10.5   \n",
       "\n",
       "             inter_st_ratio  \n",
       "region rank                  \n",
       "NaN    3               0.27  \n",
       "       5                NaN  \n",
       "       10               NaN  \n",
       "       15               NaN  \n",
       "       16               NaN  "
      ]
     },
     "execution_count": 104,
     "metadata": {},
     "output_type": "execute_result"
    }
   ],
   "source": [
    "region_df2 = sortby_col_rank2(univ_tot2_df2, 'region')\n",
    "region_df2.head()"
   ]
  },
  {
   "cell_type": "markdown",
   "metadata": {},
   "source": [
    "### Task 3.0 Prepare for merge"
   ]
  },
  {
   "cell_type": "markdown",
   "metadata": {},
   "source": [
    "<div class=\"lev1\"><a href=\"#Table-of-Contents\"><span class=\"toc-item-num\"></span>Table of contents</a></div>"
   ]
  },
  {
   "cell_type": "code",
   "execution_count": null,
   "metadata": {
    "collapsed": true
   },
   "outputs": [],
   "source": []
  }
 ],
 "metadata": {
  "kernelspec": {
   "display_name": "Python 3",
   "language": "python",
   "name": "python3"
  },
  "language_info": {
   "codemirror_mode": {
    "name": "ipython",
    "version": 3
   },
   "file_extension": ".py",
   "mimetype": "text/x-python",
   "name": "python",
   "nbconvert_exporter": "python",
   "pygments_lexer": "ipython3",
   "version": "3.6.3"
  }
 },
 "nbformat": 4,
 "nbformat_minor": 2
}
