{
 "cells": [
  {
   "cell_type": "markdown",
   "metadata": {
    "collapsed": true
   },
   "source": [
    "# 02 - Data from the Web"
   ]
  },
  {
   "cell_type": "code",
   "execution_count": 1,
   "metadata": {
    "collapsed": true
   },
   "outputs": [],
   "source": [
    "# Import libraries\n",
    "import requests\n",
    "import numpy as np\n",
    "import pandas as pd\n",
    "from bs4 import BeautifulSoup"
   ]
  },
  {
   "cell_type": "markdown",
   "metadata": {},
   "source": [
    "You will need requests-futures which you can get by   \n",
    "$ ``pip install requests-futures``"
   ]
  },
  {
   "cell_type": "markdown",
   "metadata": {},
   "source": [
    "### Task 1.0 Retrieve the Data\n",
    "Obtain the 200 top-ranking universities : name, rank, country and region, number of faculty members (international and total) and number of students (international and total)"
   ]
  },
  {
   "cell_type": "code",
   "execution_count": 2,
   "metadata": {
    "collapsed": true,
    "scrolled": false
   },
   "outputs": [],
   "source": [
    "# Do the request\n",
    "request_url = 'https://www.topuniversities.com/sites/default/files/qs-rankings-data/357051.txt?_=1507975779496'\n",
    "r = requests.get(request_url)"
   ]
  },
  {
   "cell_type": "code",
   "execution_count": 3,
   "metadata": {
    "scrolled": true
   },
   "outputs": [
    {
     "data": {
      "text/plain": [
       "{'cc': 'US',\n",
       " 'core_id': '410',\n",
       " 'country': 'United States',\n",
       " 'guide': '<a href=\"/where-to-study/north-america/united-states/guide\" class=\"guide-link\" target=\"_blank\">United States</a>',\n",
       " 'logo': '<img src=\"https://www.topuniversities.com/sites/default/files/massachusetts-institute-of-technology-mit_410_small_0.jpg\" alt=\"Massachusetts Institute of Technology (MIT)  Logo\">',\n",
       " 'nid': '294850',\n",
       " 'rank_display': '1',\n",
       " 'region': 'North America',\n",
       " 'score': '100',\n",
       " 'stars': '6',\n",
       " 'title': 'Massachusetts Institute of Technology (MIT)',\n",
       " 'url': '/universities/massachusetts-institute-technology-mit'}"
      ]
     },
     "execution_count": 3,
     "metadata": {},
     "output_type": "execute_result"
    }
   ],
   "source": [
    "univ_vals = r.json()['data']\n",
    "univ_vals[0]"
   ]
  },
  {
   "cell_type": "code",
   "execution_count": 4,
   "metadata": {
    "scrolled": false
   },
   "outputs": [
    {
     "data": {
      "text/html": [
       "<div>\n",
       "<style>\n",
       "    .dataframe thead tr:only-child th {\n",
       "        text-align: right;\n",
       "    }\n",
       "\n",
       "    .dataframe thead th {\n",
       "        text-align: left;\n",
       "    }\n",
       "\n",
       "    .dataframe tbody tr th {\n",
       "        vertical-align: top;\n",
       "    }\n",
       "</style>\n",
       "<table border=\"1\" class=\"dataframe\">\n",
       "  <thead>\n",
       "    <tr style=\"text-align: right;\">\n",
       "      <th></th>\n",
       "      <th>cc</th>\n",
       "      <th>core_id</th>\n",
       "      <th>country</th>\n",
       "      <th>guide</th>\n",
       "      <th>logo</th>\n",
       "      <th>nid</th>\n",
       "      <th>rank_display</th>\n",
       "      <th>region</th>\n",
       "      <th>score</th>\n",
       "      <th>stars</th>\n",
       "      <th>title</th>\n",
       "      <th>url</th>\n",
       "    </tr>\n",
       "  </thead>\n",
       "  <tbody>\n",
       "    <tr>\n",
       "      <th>0</th>\n",
       "      <td>US</td>\n",
       "      <td>410</td>\n",
       "      <td>United States</td>\n",
       "      <td>&lt;a href=\"/where-to-study/north-america/united-...</td>\n",
       "      <td>&lt;img src=\"https://www.topuniversities.com/site...</td>\n",
       "      <td>294850</td>\n",
       "      <td>1</td>\n",
       "      <td>North America</td>\n",
       "      <td>100</td>\n",
       "      <td>6</td>\n",
       "      <td>Massachusetts Institute of Technology (MIT)</td>\n",
       "      <td>/universities/massachusetts-institute-technolo...</td>\n",
       "    </tr>\n",
       "    <tr>\n",
       "      <th>1</th>\n",
       "      <td>US</td>\n",
       "      <td>573</td>\n",
       "      <td>United States</td>\n",
       "      <td>&lt;a href=\"/where-to-study/north-america/united-...</td>\n",
       "      <td>&lt;img src=\"https://www.topuniversities.com/site...</td>\n",
       "      <td>297282</td>\n",
       "      <td>2</td>\n",
       "      <td>North America</td>\n",
       "      <td>98.7</td>\n",
       "      <td>5</td>\n",
       "      <td>Stanford University</td>\n",
       "      <td>/universities/stanford-university</td>\n",
       "    </tr>\n",
       "    <tr>\n",
       "      <th>2</th>\n",
       "      <td>US</td>\n",
       "      <td>253</td>\n",
       "      <td>United States</td>\n",
       "      <td>&lt;a href=\"/where-to-study/north-america/united-...</td>\n",
       "      <td>&lt;img src=\"https://www.topuniversities.com/site...</td>\n",
       "      <td>294270</td>\n",
       "      <td>3</td>\n",
       "      <td>North America</td>\n",
       "      <td>98.4</td>\n",
       "      <td>5</td>\n",
       "      <td>Harvard University</td>\n",
       "      <td>/universities/harvard-university</td>\n",
       "    </tr>\n",
       "    <tr>\n",
       "      <th>3</th>\n",
       "      <td>US</td>\n",
       "      <td>94</td>\n",
       "      <td>United States</td>\n",
       "      <td>&lt;a href=\"/where-to-study/north-america/united-...</td>\n",
       "      <td>&lt;img src=\"https://www.topuniversities.com/site...</td>\n",
       "      <td>294562</td>\n",
       "      <td>4</td>\n",
       "      <td>North America</td>\n",
       "      <td>97.7</td>\n",
       "      <td>5</td>\n",
       "      <td>California Institute of Technology (Caltech)</td>\n",
       "      <td>/universities/california-institute-technology-...</td>\n",
       "    </tr>\n",
       "    <tr>\n",
       "      <th>4</th>\n",
       "      <td>GB</td>\n",
       "      <td>95</td>\n",
       "      <td>United Kingdom</td>\n",
       "      <td>&lt;a href=\"/where-to-study/europe/united-kingdom...</td>\n",
       "      <td>&lt;img src=\"https://www.topuniversities.com/site...</td>\n",
       "      <td>294561</td>\n",
       "      <td>5</td>\n",
       "      <td>Europe</td>\n",
       "      <td>95.6</td>\n",
       "      <td>5</td>\n",
       "      <td>University of Cambridge</td>\n",
       "      <td>/universities/university-cambridge</td>\n",
       "    </tr>\n",
       "  </tbody>\n",
       "</table>\n",
       "</div>"
      ],
      "text/plain": [
       "   cc core_id         country  \\\n",
       "0  US     410   United States   \n",
       "1  US     573   United States   \n",
       "2  US     253   United States   \n",
       "3  US      94   United States   \n",
       "4  GB      95  United Kingdom   \n",
       "\n",
       "                                               guide  \\\n",
       "0  <a href=\"/where-to-study/north-america/united-...   \n",
       "1  <a href=\"/where-to-study/north-america/united-...   \n",
       "2  <a href=\"/where-to-study/north-america/united-...   \n",
       "3  <a href=\"/where-to-study/north-america/united-...   \n",
       "4  <a href=\"/where-to-study/europe/united-kingdom...   \n",
       "\n",
       "                                                logo     nid rank_display  \\\n",
       "0  <img src=\"https://www.topuniversities.com/site...  294850            1   \n",
       "1  <img src=\"https://www.topuniversities.com/site...  297282            2   \n",
       "2  <img src=\"https://www.topuniversities.com/site...  294270            3   \n",
       "3  <img src=\"https://www.topuniversities.com/site...  294562            4   \n",
       "4  <img src=\"https://www.topuniversities.com/site...  294561            5   \n",
       "\n",
       "          region score stars                                         title  \\\n",
       "0  North America   100     6   Massachusetts Institute of Technology (MIT)   \n",
       "1  North America  98.7     5                           Stanford University   \n",
       "2  North America  98.4     5                            Harvard University   \n",
       "3  North America  97.7     5  California Institute of Technology (Caltech)   \n",
       "4         Europe  95.6     5                       University of Cambridge   \n",
       "\n",
       "                                                 url  \n",
       "0  /universities/massachusetts-institute-technolo...  \n",
       "1                  /universities/stanford-university  \n",
       "2                   /universities/harvard-university  \n",
       "3  /universities/california-institute-technology-...  \n",
       "4                 /universities/university-cambridge  "
      ]
     },
     "execution_count": 4,
     "metadata": {},
     "output_type": "execute_result"
    }
   ],
   "source": [
    "univ_df = pd.DataFrame(univ_vals)\n",
    "univ_df.head()"
   ]
  },
  {
   "cell_type": "markdown",
   "metadata": {},
   "source": [
    "keep only : \n",
    "1. name, rank, country and region\n",
    "2. number of faculty members (international and total) and number of students (international and total)\n",
    "\n",
    "second part must be retrieved from different request"
   ]
  },
  {
   "cell_type": "code",
   "execution_count": 5,
   "metadata": {
    "collapsed": true
   },
   "outputs": [],
   "source": [
    "def RepresentsInt(s):\n",
    "    try: \n",
    "        int(s)\n",
    "        return True\n",
    "    except ValueError:\n",
    "        return False"
   ]
  },
  {
   "cell_type": "markdown",
   "metadata": {},
   "source": [
    "At first I cleaned 'rank_display'. After that I found out I could just assigne the order as rank. This gives a better result since I don't have to clean 'rank_display' neither to bother with interval ranks"
   ]
  },
  {
   "cell_type": "code",
   "execution_count": 6,
   "metadata": {},
   "outputs": [],
   "source": [
    "def clean_rank(r):\n",
    "    if(r[0] == '='):\n",
    "        return int(r[1:]) \n",
    "    elif len(r) > 3 and r[3] == '-':\n",
    "            return int(r[:3])\n",
    "    else:\n",
    "        return int(r)"
   ]
  },
  {
   "cell_type": "code",
   "execution_count": 7,
   "metadata": {},
   "outputs": [
    {
     "data": {
      "text/html": [
       "<div>\n",
       "<style>\n",
       "    .dataframe thead tr:only-child th {\n",
       "        text-align: right;\n",
       "    }\n",
       "\n",
       "    .dataframe thead th {\n",
       "        text-align: left;\n",
       "    }\n",
       "\n",
       "    .dataframe tbody tr th {\n",
       "        vertical-align: top;\n",
       "    }\n",
       "</style>\n",
       "<table border=\"1\" class=\"dataframe\">\n",
       "  <thead>\n",
       "    <tr style=\"text-align: right;\">\n",
       "      <th></th>\n",
       "      <th>country</th>\n",
       "      <th>rank_display</th>\n",
       "      <th>region</th>\n",
       "      <th>title</th>\n",
       "    </tr>\n",
       "  </thead>\n",
       "  <tbody>\n",
       "    <tr>\n",
       "      <th>0</th>\n",
       "      <td>United States</td>\n",
       "      <td>1</td>\n",
       "      <td>North America</td>\n",
       "      <td>Massachusetts Institute of Technology (MIT)</td>\n",
       "    </tr>\n",
       "    <tr>\n",
       "      <th>1</th>\n",
       "      <td>United States</td>\n",
       "      <td>2</td>\n",
       "      <td>North America</td>\n",
       "      <td>Stanford University</td>\n",
       "    </tr>\n",
       "    <tr>\n",
       "      <th>2</th>\n",
       "      <td>United States</td>\n",
       "      <td>3</td>\n",
       "      <td>North America</td>\n",
       "      <td>Harvard University</td>\n",
       "    </tr>\n",
       "    <tr>\n",
       "      <th>3</th>\n",
       "      <td>United States</td>\n",
       "      <td>4</td>\n",
       "      <td>North America</td>\n",
       "      <td>California Institute of Technology (Caltech)</td>\n",
       "    </tr>\n",
       "    <tr>\n",
       "      <th>4</th>\n",
       "      <td>United Kingdom</td>\n",
       "      <td>5</td>\n",
       "      <td>Europe</td>\n",
       "      <td>University of Cambridge</td>\n",
       "    </tr>\n",
       "  </tbody>\n",
       "</table>\n",
       "</div>"
      ],
      "text/plain": [
       "          country  rank_display         region  \\\n",
       "0   United States             1  North America   \n",
       "1   United States             2  North America   \n",
       "2   United States             3  North America   \n",
       "3   United States             4  North America   \n",
       "4  United Kingdom             5         Europe   \n",
       "\n",
       "                                          title  \n",
       "0   Massachusetts Institute of Technology (MIT)  \n",
       "1                           Stanford University  \n",
       "2                            Harvard University  \n",
       "3  California Institute of Technology (Caltech)  \n",
       "4                       University of Cambridge  "
      ]
     },
     "execution_count": 7,
     "metadata": {},
     "output_type": "execute_result"
    }
   ],
   "source": [
    "univ_dr_df = univ_df.drop('guide', 1).drop('logo', 1).drop('stars', 1).drop('url', 1) \\\n",
    ".drop('score', 1).drop('cc', 1).drop('core_id', 1).drop('nid', 1)\n",
    "univ_dr_df['rank_display'] = univ_dr_df['rank_display'].map(clean_rank)\n",
    "univ_dr_df.head()"
   ]
  },
  {
   "cell_type": "code",
   "execution_count": 8,
   "metadata": {},
   "outputs": [
    {
     "data": {
      "text/html": [
       "<div>\n",
       "<style>\n",
       "    .dataframe thead tr:only-child th {\n",
       "        text-align: right;\n",
       "    }\n",
       "\n",
       "    .dataframe thead th {\n",
       "        text-align: left;\n",
       "    }\n",
       "\n",
       "    .dataframe tbody tr th {\n",
       "        vertical-align: top;\n",
       "    }\n",
       "</style>\n",
       "<table border=\"1\" class=\"dataframe\">\n",
       "  <thead>\n",
       "    <tr style=\"text-align: right;\">\n",
       "      <th></th>\n",
       "      <th>country</th>\n",
       "      <th>rank_display</th>\n",
       "      <th>region</th>\n",
       "      <th>title</th>\n",
       "    </tr>\n",
       "  </thead>\n",
       "  <tbody>\n",
       "    <tr>\n",
       "      <th>0</th>\n",
       "      <td>United States</td>\n",
       "      <td>1</td>\n",
       "      <td>North America</td>\n",
       "      <td>Massachusetts Institute of Technology (MIT)</td>\n",
       "    </tr>\n",
       "    <tr>\n",
       "      <th>1</th>\n",
       "      <td>United States</td>\n",
       "      <td>2</td>\n",
       "      <td>North America</td>\n",
       "      <td>Stanford University</td>\n",
       "    </tr>\n",
       "    <tr>\n",
       "      <th>2</th>\n",
       "      <td>United States</td>\n",
       "      <td>3</td>\n",
       "      <td>North America</td>\n",
       "      <td>Harvard University</td>\n",
       "    </tr>\n",
       "    <tr>\n",
       "      <th>3</th>\n",
       "      <td>United States</td>\n",
       "      <td>4</td>\n",
       "      <td>North America</td>\n",
       "      <td>California Institute of Technology (Caltech)</td>\n",
       "    </tr>\n",
       "    <tr>\n",
       "      <th>4</th>\n",
       "      <td>United Kingdom</td>\n",
       "      <td>5</td>\n",
       "      <td>Europe</td>\n",
       "      <td>University of Cambridge</td>\n",
       "    </tr>\n",
       "  </tbody>\n",
       "</table>\n",
       "</div>"
      ],
      "text/plain": [
       "          country  rank_display         region  \\\n",
       "0   United States             1  North America   \n",
       "1   United States             2  North America   \n",
       "2   United States             3  North America   \n",
       "3   United States             4  North America   \n",
       "4  United Kingdom             5         Europe   \n",
       "\n",
       "                                          title  \n",
       "0   Massachusetts Institute of Technology (MIT)  \n",
       "1                           Stanford University  \n",
       "2                            Harvard University  \n",
       "3  California Institute of Technology (Caltech)  \n",
       "4                       University of Cambridge  "
      ]
     },
     "execution_count": 8,
     "metadata": {},
     "output_type": "execute_result"
    }
   ],
   "source": [
    "univ_dr_df[['rank_display']] = univ_dr_df.index + 1\n",
    "univ_dr_df.head()"
   ]
  },
  {
   "cell_type": "code",
   "execution_count": 9,
   "metadata": {},
   "outputs": [
    {
     "data": {
      "text/plain": [
       "'<!DOCTYPE html>\\n<html dir=\"ltr\" version=\"XHTML+RDFa 1.0\" xml:lang=\"en\" xmlns=\"http://www.w3.org/1999/xhtml\" xmlns:article=\"http://ogp.me/ns/article#\" xmlns:book=\"http://ogp.me/ns/book#\" xmlns:content=\"http://purl.org/rss/1.0/modules/content/\" xmlns:dc=\"http://purl.org/dc/terms/\" xmlns:foaf=\"http://xmlns.com/foaf/0.1/\" xmlns:og=\"http://ogp.me/ns#\" xmlns:product=\"http://ogp.me/ns/product#\" xmlns:profile=\"http://ogp.me/ns/profile#\" xmlns:rdfs=\"http://www.w3.org/2000/01/rdf-schema#\" xmlns:schema=\"http://schema.org/\" xmlns:sioc=\"http://rdfs.org/sioc/ns#\" xmlns:sioct=\"http://rdfs.org/sioc/types#\" xm'"
      ]
     },
     "execution_count": 9,
     "metadata": {},
     "output_type": "execute_result"
    }
   ],
   "source": [
    "url_caltech = 'https://www.topuniversities.com/universities/california-institute-technology-caltech#wurs'\n",
    "r_caltech = requests.get(url_caltech)\n",
    "soup_caltech = BeautifulSoup(r_caltech.text, 'html.parser')\n",
    "soup_caltech.prettify()[0:600]"
   ]
  },
  {
   "cell_type": "markdown",
   "metadata": {},
   "source": [
    "From the soup, with a quick ctrl+f on the number displayed on the corresponding page, I was able to identify the elements which contained the value I was interested in:\n",
    "1. Number of international students ``<div class=\"int-students-main wrapper col-md-4\"> \\ <div class=\"number\">``\n",
    "    \n",
    "2. Number of students ``<div class=\"students-main wrapper col-md-4\"> \\ <div class=\"number\">``\n",
    "\n",
    "3. Number of faculty staff in total ``<div class=\"faculty-main wrapper col-md-4\"> \\ <div class=\"number\">``\n",
    "\n",
    "4. Number of faculty staff international ``<div class=\"inter faculty\"> \\ <div class=\"number\">``"
   ]
  },
  {
   "cell_type": "code",
   "execution_count": 10,
   "metadata": {},
   "outputs": [
    {
     "data": {
      "text/plain": [
       "'647 '"
      ]
     },
     "execution_count": 10,
     "metadata": {},
     "output_type": "execute_result"
    }
   ],
   "source": [
    "caltech_inter_st = soup_caltech.find('div', class_='int-students-main wrapper col-md-4').find('div', class_='number').text\n",
    "caltech_inter_st[1:]"
   ]
  },
  {
   "cell_type": "code",
   "execution_count": 11,
   "metadata": {},
   "outputs": [
    {
     "data": {
      "text/plain": [
       "'2,255 '"
      ]
     },
     "execution_count": 11,
     "metadata": {},
     "output_type": "execute_result"
    }
   ],
   "source": [
    "caltech_st = soup_caltech.find('div', class_ = 'students-main wrapper col-md-4').find('div', class_='number').text\n",
    "caltech_st[1:]"
   ]
  },
  {
   "cell_type": "markdown",
   "metadata": {},
   "source": [
    "Now we can test with MIT to see whether the parsing works the same (which is probably the case). If it works, then we will iterate over the links in the dataframe to parse the values of interest for each university"
   ]
  },
  {
   "cell_type": "code",
   "execution_count": 12,
   "metadata": {},
   "outputs": [
    {
     "data": {
      "text/plain": [
       "'3,717 '"
      ]
     },
     "execution_count": 12,
     "metadata": {},
     "output_type": "execute_result"
    }
   ],
   "source": [
    "url_mit = 'https://www.topuniversities.com/universities/massachusetts-institute-technology-mit#wurs'\n",
    "r_mit = requests.get(url_mit)\n",
    "soup_mit = BeautifulSoup(r_mit.text, 'html.parser')\n",
    "soup_mit.find('div', class_='int-students-main wrapper col-md-4').find('div', class_='number').text[1:]\n"
   ]
  },
  {
   "cell_type": "code",
   "execution_count": 13,
   "metadata": {
    "collapsed": true
   },
   "outputs": [],
   "source": [
    "#tries to retrieve the value contained in the child <block_p class = 'class_p'>, hence contained in <block_c class='class_c'\n",
    "#returns NaN if one of both block is not found\n",
    "def retrieve(soup, block_p, class_p, block_c, class_c):\n",
    "    parent = soup.find(block_p, class_p)\n",
    "    if parent is None:\n",
    "        return 'failed'\n",
    "    else:\n",
    "        child = parent.find(block_c, class_c)\n",
    "        if child is None:\n",
    "            return 'failed'\n",
    "        else:\n",
    "            return int(child.text[1:].replace(',',''))\n",
    "    "
   ]
  },
  {
   "cell_type": "code",
   "execution_count": 14,
   "metadata": {},
   "outputs": [
    {
     "data": {
      "text/plain": [
       "3717"
      ]
     },
     "execution_count": 14,
     "metadata": {},
     "output_type": "execute_result"
    }
   ],
   "source": [
    "retrieve(soup_mit, 'div', 'int-students-main wrapper col-md-4', 'div', 'number')"
   ]
  },
  {
   "cell_type": "code",
   "execution_count": 15,
   "metadata": {},
   "outputs": [
    {
     "data": {
      "text/plain": [
       "'failed'"
      ]
     },
     "execution_count": 15,
     "metadata": {},
     "output_type": "execute_result"
    }
   ],
   "source": [
    "retrieve(soup_mit, 'div', 'int-st-main wrapper col-md-4', 'div', 'number')"
   ]
  },
  {
   "cell_type": "code",
   "execution_count": 16,
   "metadata": {},
   "outputs": [
    {
     "data": {
      "text/plain": [
       "'failed'"
      ]
     },
     "execution_count": 16,
     "metadata": {},
     "output_type": "execute_result"
    }
   ],
   "source": [
    "retrieve(soup_mit, 'div', 'int-students-main wrapper col-md-4', 'div', 'nber')"
   ]
  },
  {
   "cell_type": "code",
   "execution_count": 17,
   "metadata": {
    "collapsed": true
   },
   "outputs": [],
   "source": [
    "def retrieve_div_number(soup, class_p):\n",
    "    return retrieve(soup, 'div', class_p, 'div', 'number')"
   ]
  },
  {
   "cell_type": "code",
   "execution_count": 18,
   "metadata": {},
   "outputs": [
    {
     "data": {
      "text/plain": [
       "3717"
      ]
     },
     "execution_count": 18,
     "metadata": {},
     "output_type": "execute_result"
    }
   ],
   "source": [
    "retrieve_div_number(soup_mit, 'int-students-main wrapper col-md-4')"
   ]
  },
  {
   "cell_type": "code",
   "execution_count": 19,
   "metadata": {},
   "outputs": [
    {
     "data": {
      "text/plain": [
       "['https://www.topuniversities.com/universities/massachusetts-institute-technology-mit#wurs',\n",
       " 'https://www.topuniversities.com/universities/stanford-university#wurs',\n",
       " 'https://www.topuniversities.com/universities/harvard-university#wurs',\n",
       " 'https://www.topuniversities.com/universities/california-institute-technology-caltech#wurs',\n",
       " 'https://www.topuniversities.com/universities/university-cambridge#wurs']"
      ]
     },
     "execution_count": 19,
     "metadata": {},
     "output_type": "execute_result"
    }
   ],
   "source": [
    "u_urls = np.array(univ_df[['url']].values)\n",
    "univ_urls = []\n",
    "main_url = 'https://www.topuniversities.com'\n",
    "for url_ in u_urls:\n",
    "    url = url_[0]\n",
    "    univ_urls.append(main_url + url + '#wurs')\n",
    "univ_urls[:5]"
   ]
  },
  {
   "cell_type": "code",
   "execution_count": 20,
   "metadata": {},
   "outputs": [
    {
     "data": {
      "text/plain": [
       "959"
      ]
     },
     "execution_count": 20,
     "metadata": {},
     "output_type": "execute_result"
    }
   ],
   "source": [
    "len(univ_urls)"
   ]
  },
  {
   "cell_type": "markdown",
   "metadata": {},
   "source": [
    "Since doing the 959 requests in one go didn't work, I will manually split the requests in chunks as big as possible to minimize the merge step"
   ]
  },
  {
   "cell_type": "code",
   "execution_count": 21,
   "metadata": {
    "collapsed": true
   },
   "outputs": [],
   "source": [
    "def get_missing_data(urls):\n",
    "    international_students = []\n",
    "    students = []\n",
    "    international_faculty = []\n",
    "    faculty = []\n",
    "\n",
    "    for url in urls:\n",
    "    \n",
    "        r = requests.get(url)\n",
    "        soup = BeautifulSoup(r.text, 'html.parser')\n",
    "    \n",
    "        inter_st = retrieve_div_number(soup, 'int-students-main wrapper col-md-4')\n",
    "        st = retrieve_div_number(soup, 'students-main wrapper col-md-4')\n",
    "        inter_fac = retrieve_div_number(soup, 'faculty-main wrapper col-md-4')\n",
    "        fac = retrieve_div_number(soup, 'inter faculty')\n",
    "    \n",
    "        international_students.append(inter_st)\n",
    "        students.append(st)\n",
    "        international_faculty.append(inter_fac)\n",
    "        faculty.append(fac)\n",
    "\n",
    "    return international_students, students, international_faculty, faculty"
   ]
  },
  {
   "cell_type": "code",
   "execution_count": 22,
   "metadata": {
    "collapsed": true
   },
   "outputs": [],
   "source": [
    "inter_s, s, inter_f, f = get_missing_data(univ_urls[:5])"
   ]
  },
  {
   "cell_type": "code",
   "execution_count": 23,
   "metadata": {
    "scrolled": false
   },
   "outputs": [
    {
     "data": {
      "text/plain": [
       "[3717, 3611, 5266, 647, 6699]"
      ]
     },
     "execution_count": 23,
     "metadata": {},
     "output_type": "execute_result"
    }
   ],
   "source": [
    "inter_s"
   ]
  },
  {
   "cell_type": "markdown",
   "metadata": {},
   "source": [
    "Since this is super slow, we will use the package future-requests that will make non-blocking requests. While waiting, I will treat only a small part of the data. When requests complete, I store the results in variables and its all good. This is the reason for the small block before the function"
   ]
  },
  {
   "cell_type": "code",
   "execution_count": 24,
   "metadata": {
    "collapsed": true
   },
   "outputs": [],
   "source": [
    "international_st = []\n",
    "students = []\n",
    "international_fac = []\n",
    "fac = []\n",
    "bad_soups = []\n",
    "futures = []\n",
    "count = 0"
   ]
  },
  {
   "cell_type": "code",
   "execution_count": 25,
   "metadata": {},
   "outputs": [],
   "source": [
    "def reset_arrays():\n",
    "    global international_st\n",
    "    global students\n",
    "    global international_fac\n",
    "    global fac\n",
    "    global bad_soups \n",
    "    global count\n",
    "    \n",
    "    international_st = []\n",
    "    students = []\n",
    "    international_fac = []\n",
    "    fac = []\n",
    "    bad_soups = []\n",
    "    count = 0\n",
    "    return 0"
   ]
  },
  {
   "cell_type": "code",
   "execution_count": 26,
   "metadata": {
    "collapsed": true
   },
   "outputs": [],
   "source": [
    "def callback(future):\n",
    "    r = future.result()\n",
    "    soup = BeautifulSoup(r.text, 'html.parser')\n",
    "    \n",
    "    global international_st\n",
    "    global students\n",
    "    global international_fac\n",
    "    global fac\n",
    "    global num_request\n",
    "    global count\n",
    "    global bad_soups\n",
    "    count = count + 1\n",
    "    if count > num_request:\n",
    "        international_st = []\n",
    "        students = []\n",
    "        international_fac = []\n",
    "        fac = []\n",
    "        count = 0\n",
    "    \n",
    "    inter_st = retrieve_div_number(soup, 'int-students-main wrapper col-md-4')\n",
    "    st = retrieve_div_number(soup, 'students-main wrapper col-md-4')\n",
    "    inter_fac = retrieve_div_number(soup, 'inter faculty')\n",
    "    f = retrieve_div_number(soup, 'faculty-main wrapper col-md-4')\n",
    "    if(f == 'failed'):\n",
    "        f = retrieve_div_number(soup, 'total faculty')\n",
    "    if inter_st == 'failed' or st == 'failed' or inter_fac == 'failed' or f == 'failed':\n",
    "        bad_soups.append(soup)\n",
    "    international_st.append(inter_st)\n",
    "    students.append(st)\n",
    "    international_fac.append(inter_fac)\n",
    "    fac.append(f)"
   ]
  },
  {
   "cell_type": "markdown",
   "metadata": {
    "collapsed": true
   },
   "source": [
    "Now we can do our 959 requests in background. For it to work, we must recompile the initilisation of arrays as well as the callback function"
   ]
  },
  {
   "cell_type": "markdown",
   "metadata": {},
   "source": [
    "The following block will play a small sound when the requests are done. For it to work you need to install python-vlc   \n",
    "$ pip install python-vlc"
   ]
  },
  {
   "cell_type": "code",
   "execution_count": 27,
   "metadata": {
    "collapsed": true
   },
   "outputs": [],
   "source": [
    "import vlc\n",
    "def play_sound(future):\n",
    "    folder_path = 'fancy_sounds/'\n",
    "    music_path = 'zelda_small_item.wav'\n",
    "    p = vlc.MediaPlayer(folder_path + music_path)\n",
    "    p.play()\n",
    "    return 0"
   ]
  },
  {
   "cell_type": "code",
   "execution_count": 28,
   "metadata": {},
   "outputs": [],
   "source": [
    "from requests_futures.sessions import FuturesSession\n",
    "session = FuturesSession()"
   ]
  },
  {
   "cell_type": "code",
   "execution_count": 29,
   "metadata": {
    "scrolled": true
   },
   "outputs": [
    {
     "data": {
      "application/vnd.jupyter.widget-view+json": {
       "model_id": "1b818a1844aa4c6691484f882eaf4306"
      }
     },
     "metadata": {},
     "output_type": "display_data"
    },
    {
     "name": "stderr",
     "output_type": "stream",
     "text": [
      "Exception in thread Thread-6:\n",
      "Traceback (most recent call last):\n",
      "  File \"C:\\Anaconda3\\lib\\threading.py\", line 916, in _bootstrap_inner\n",
      "    self.run()\n",
      "  File \"C:\\Anaconda3\\lib\\threading.py\", line 864, in run\n",
      "    self._target(*self._args, **self._kwargs)\n",
      "  File \"<ipython-input-29-536d6f5c20e2>\", line 10, in work\n",
      "    while(len(fac) <= num_request):\n",
      "NameError: name 'num_request' is not defined\n",
      "\n"
     ]
    }
   ],
   "source": [
    "import threading\n",
    "from IPython.display import display\n",
    "import ipywidgets as widgets\n",
    "import time\n",
    "import sys\n",
    "progress = widgets.FloatProgress(value=0.0, min=0.0, max=1.0)\n",
    "\n",
    "def work(progress):\n",
    "    global fac\n",
    "    while(len(fac) <= num_request):\n",
    "        progress.value = len(fac)/num_request\n",
    "thread = threading.Thread(target=work, args=(progress,))\n",
    "display(progress)\n",
    "thread.start()"
   ]
  },
  {
   "cell_type": "code",
   "execution_count": 30,
   "metadata": {},
   "outputs": [],
   "source": [
    "url_slice = univ_urls[:10]\n",
    "num_request = len(url_slice)\n",
    "url_last_idx = len(url_slice) - 1\n",
    "reset_arrays()\n",
    "for i_url, url in enumerate(url_slice):\n",
    "    # On fait notre requête GET\n",
    "    future = session.get(url)\n",
    "    # On rajoute le callback à appeler quand\n",
    "    # le résultat de la requête arrive.\n",
    "    if i_url != url_last_idx:\n",
    "        futures.append(future)\n",
    "    future.add_done_callback(callback)\n",
    "    if i_url == (url_last_idx):\n",
    "        future.add_done_callback(play_sound)"
   ]
  },
  {
   "cell_type": "markdown",
   "metadata": {},
   "source": [
    "missing data (NaN fields):\n",
    "    1. [400:500] Universidad Externado de Colombia missing international students (can put 0)\n",
    "    2. [500:600] Iran University of Science and Technology missing international fac/students (can put 0)\n",
    "    3. [600:700]\n",
    "        1. Jadavpur University:             missing international fac (can put 0)\n",
    "        2. Universidad Iberoamericana IBERO missing international fac/students (can put 0)\n",
    "        3. University of Haifa              \"--------------------------------------------\"\n",
    "        4. University of Hyderabad          missing international fac (can put 0)\n",
    "        5. Anna University                  missing international fac/students (can put 0)\n",
    "        6. Universidad del Pais Vasco       missing international fac (can put 0)\n",
    "        7. University of Minho              missing internation fac/students (can put 0)\n",
    "        8. University of Minho              \"------------------------------------------\"\n",
    "    4. [700:800]\n",
    "        1. Comenius University in Bratislava   missing international fac (can put 0)\n",
    "        2. Memorial University of Newfoundland \"------------------------------------\"\n",
    "        3. Rhodes University                   \"------------------------------------\"\n",
    "        4. Paris Lodron University of Salzburg \"------------------------------------\"\n",
    "        5. University of Colombo               \"------------------------------------\"\n",
    "\n",
    "it seems the NaN values can be replaced by 0, I won't check the last ones since there are 15 in the next category and 13 in the last respectively [800:900] and [900:]"
   ]
  },
  {
   "cell_type": "code",
   "execution_count": 31,
   "metadata": {},
   "outputs": [
    {
     "data": {
      "text/plain": [
       "0"
      ]
     },
     "execution_count": 31,
     "metadata": {},
     "output_type": "execute_result"
    }
   ],
   "source": [
    "len(bad_soups)"
   ]
  },
  {
   "cell_type": "markdown",
   "metadata": {},
   "source": [
    "### <b> Warning: Running the following cell will cancell all pending requests, corrupting the data in the process </b>\n",
    "Note that to run the cell you have to change 'False' in 'True' in the if statement"
   ]
  },
  {
   "cell_type": "code",
   "execution_count": 32,
   "metadata": {},
   "outputs": [
    {
     "data": {
      "text/plain": [
       "''"
      ]
     },
     "execution_count": 32,
     "metadata": {},
     "output_type": "execute_result"
    }
   ],
   "source": [
    "# attempts to kill waiting requests: if attempt is successful, bar doesn't move. Goal is to cancel all but last requests\n",
    "# in order to instantly play sound and complete only one request\n",
    "if False:\n",
    "    for fu in futures:\n",
    "        # cancel request on this url\n",
    "        fu.cancel()\n",
    "    reset_arrays()\n",
    "    futures = []\n",
    "\n",
    "#Last try it seemed to work. We reset arrays twice since the canceling of\n",
    "#asynchronous requests is asynchronous, the reset might happen before all requests are canceled\n",
    "#and some requests might finish in the meantime (after reset)\n",
    ";"
   ]
  },
  {
   "cell_type": "markdown",
   "metadata": {},
   "source": [
    "#### <b> Next block will close background requests, uncomment and use carefully </b>"
   ]
  },
  {
   "cell_type": "code",
   "execution_count": 33,
   "metadata": {},
   "outputs": [
    {
     "data": {
      "text/plain": [
       "0"
      ]
     },
     "execution_count": 33,
     "metadata": {},
     "output_type": "execute_result"
    }
   ],
   "source": [
    "#bad_soups contains all the soups from which we were unable to scrap data. \n",
    "#After requests are finished, the block should compile to 0\n",
    "len(bad_soups)"
   ]
  },
  {
   "cell_type": "markdown",
   "metadata": {},
   "source": [
    "Si vous lancez de nouvelles requête avant que les précédentes soient terminées, vous avez de forte chances que la data soit corrompue. Dans ce cas attendez la fin des requêtes en cours, puis relancez la boucle ci-dessus"
   ]
  },
  {
   "cell_type": "markdown",
   "metadata": {},
   "source": [
    "You can see the requests progress here. If you want to do something else, a sound will be played as the requests complete"
   ]
  },
  {
   "cell_type": "markdown",
   "metadata": {},
   "source": [
    "Now that you finished your coffee and were alerted by the fancy sounds that you could pursue the compilation, we can finally use our well-deserved data"
   ]
  },
  {
   "cell_type": "code",
   "execution_count": 34,
   "metadata": {},
   "outputs": [
    {
     "data": {
      "text/html": [
       "<div>\n",
       "<style>\n",
       "    .dataframe thead tr:only-child th {\n",
       "        text-align: right;\n",
       "    }\n",
       "\n",
       "    .dataframe thead th {\n",
       "        text-align: left;\n",
       "    }\n",
       "\n",
       "    .dataframe tbody tr th {\n",
       "        vertical-align: top;\n",
       "    }\n",
       "</style>\n",
       "<table border=\"1\" class=\"dataframe\">\n",
       "  <thead>\n",
       "    <tr style=\"text-align: right;\">\n",
       "      <th></th>\n",
       "      <th>inter_st</th>\n",
       "      <th>students</th>\n",
       "      <th>inter_fac</th>\n",
       "      <th>fac</th>\n",
       "    </tr>\n",
       "  </thead>\n",
       "  <tbody>\n",
       "  </tbody>\n",
       "</table>\n",
       "</div>"
      ],
      "text/plain": [
       "Empty DataFrame\n",
       "Columns: [inter_st, students, inter_fac, fac]\n",
       "Index: []"
      ]
     },
     "execution_count": 34,
     "metadata": {},
     "output_type": "execute_result"
    }
   ],
   "source": [
    "missing_df = pd.DataFrame(data= [international_st, students, international_fac, fac],\n",
    "                         index = ['inter_st', 'students', 'inter_fac', 'fac']).transpose()\n",
    "missing_df.head()"
   ]
  },
  {
   "cell_type": "code",
   "execution_count": 35,
   "metadata": {},
   "outputs": [
    {
     "data": {
      "text/html": [
       "<div>\n",
       "<style>\n",
       "    .dataframe thead tr:only-child th {\n",
       "        text-align: right;\n",
       "    }\n",
       "\n",
       "    .dataframe thead th {\n",
       "        text-align: left;\n",
       "    }\n",
       "\n",
       "    .dataframe tbody tr th {\n",
       "        vertical-align: top;\n",
       "    }\n",
       "</style>\n",
       "<table border=\"1\" class=\"dataframe\">\n",
       "  <thead>\n",
       "    <tr style=\"text-align: right;\">\n",
       "      <th></th>\n",
       "      <th>country</th>\n",
       "      <th>region</th>\n",
       "      <th>title</th>\n",
       "      <th>inter_st</th>\n",
       "      <th>students</th>\n",
       "      <th>inter_fac</th>\n",
       "      <th>fac</th>\n",
       "    </tr>\n",
       "    <tr>\n",
       "      <th>rank_display</th>\n",
       "      <th></th>\n",
       "      <th></th>\n",
       "      <th></th>\n",
       "      <th></th>\n",
       "      <th></th>\n",
       "      <th></th>\n",
       "      <th></th>\n",
       "    </tr>\n",
       "  </thead>\n",
       "  <tbody>\n",
       "    <tr>\n",
       "      <th>1</th>\n",
       "      <td>United States</td>\n",
       "      <td>North America</td>\n",
       "      <td>Massachusetts Institute of Technology (MIT)</td>\n",
       "      <td>NaN</td>\n",
       "      <td>NaN</td>\n",
       "      <td>NaN</td>\n",
       "      <td>NaN</td>\n",
       "    </tr>\n",
       "    <tr>\n",
       "      <th>2</th>\n",
       "      <td>United States</td>\n",
       "      <td>North America</td>\n",
       "      <td>Stanford University</td>\n",
       "      <td>NaN</td>\n",
       "      <td>NaN</td>\n",
       "      <td>NaN</td>\n",
       "      <td>NaN</td>\n",
       "    </tr>\n",
       "    <tr>\n",
       "      <th>3</th>\n",
       "      <td>United States</td>\n",
       "      <td>North America</td>\n",
       "      <td>Harvard University</td>\n",
       "      <td>NaN</td>\n",
       "      <td>NaN</td>\n",
       "      <td>NaN</td>\n",
       "      <td>NaN</td>\n",
       "    </tr>\n",
       "    <tr>\n",
       "      <th>4</th>\n",
       "      <td>United States</td>\n",
       "      <td>North America</td>\n",
       "      <td>California Institute of Technology (Caltech)</td>\n",
       "      <td>NaN</td>\n",
       "      <td>NaN</td>\n",
       "      <td>NaN</td>\n",
       "      <td>NaN</td>\n",
       "    </tr>\n",
       "    <tr>\n",
       "      <th>5</th>\n",
       "      <td>United Kingdom</td>\n",
       "      <td>Europe</td>\n",
       "      <td>University of Cambridge</td>\n",
       "      <td>NaN</td>\n",
       "      <td>NaN</td>\n",
       "      <td>NaN</td>\n",
       "      <td>NaN</td>\n",
       "    </tr>\n",
       "  </tbody>\n",
       "</table>\n",
       "</div>"
      ],
      "text/plain": [
       "                     country         region  \\\n",
       "rank_display                                  \n",
       "1              United States  North America   \n",
       "2              United States  North America   \n",
       "3              United States  North America   \n",
       "4              United States  North America   \n",
       "5             United Kingdom         Europe   \n",
       "\n",
       "                                                     title  inter_st  \\\n",
       "rank_display                                                           \n",
       "1              Massachusetts Institute of Technology (MIT)       NaN   \n",
       "2                                      Stanford University       NaN   \n",
       "3                                       Harvard University       NaN   \n",
       "4             California Institute of Technology (Caltech)       NaN   \n",
       "5                                  University of Cambridge       NaN   \n",
       "\n",
       "              students  inter_fac  fac  \n",
       "rank_display                            \n",
       "1                  NaN        NaN  NaN  \n",
       "2                  NaN        NaN  NaN  \n",
       "3                  NaN        NaN  NaN  \n",
       "4                  NaN        NaN  NaN  \n",
       "5                  NaN        NaN  NaN  "
      ]
     },
     "execution_count": 35,
     "metadata": {},
     "output_type": "execute_result"
    }
   ],
   "source": [
    "univ_tot_df = pd.concat([univ_dr_df, missing_df], axis = 1)\n",
    "univ_rk_df = univ_tot_df.set_index(['rank_display'])\n",
    "univ_rk_df.head()"
   ]
  },
  {
   "cell_type": "markdown",
   "metadata": {},
   "source": [
    "### Task 1.1 \n",
    "Which are the best universities in term of: (a) ratio between faculty members and students, (b) ratio of international students?"
   ]
  },
  {
   "cell_type": "markdown",
   "metadata": {},
   "source": [
    "(a) ratio between faculty members and students"
   ]
  },
  {
   "cell_type": "markdown",
   "metadata": {},
   "source": [
    "#### Warning\n",
    "Le dataframe contient des NaN lorsque la requête n'a pas réussi à récupérer de valeur. Le choix a été fait de drop les universités qui contenaient des NaN. A discuter"
   ]
  },
  {
   "cell_type": "code",
   "execution_count": 36,
   "metadata": {
    "collapsed": true
   },
   "outputs": [],
   "source": [
    "#Add a columns in which each cell is the result of col1/col2 for corresponding cells in col1, col2\n",
    "#The returned dataframe is sorted in ascending(1)/descending(0) order depending on the value of the parameter\n",
    "def ratio(df, col1, col2, ascending_ = 0):\n",
    "    ratio_df = df.copy().replace('failed', 0)\n",
    "    ratio_df['ratio'] = ratio_df[col1] / ratio_df[col2]\n",
    "    ratio_df_sorted = ratio_df.sort_values(['ratio'], ascending = ascending_)\n",
    "    return ratio_df_sorted"
   ]
  },
  {
   "cell_type": "code",
   "execution_count": 37,
   "metadata": {},
   "outputs": [
    {
     "data": {
      "text/html": [
       "<div>\n",
       "<style>\n",
       "    .dataframe thead tr:only-child th {\n",
       "        text-align: right;\n",
       "    }\n",
       "\n",
       "    .dataframe thead th {\n",
       "        text-align: left;\n",
       "    }\n",
       "\n",
       "    .dataframe tbody tr th {\n",
       "        vertical-align: top;\n",
       "    }\n",
       "</style>\n",
       "<table border=\"1\" class=\"dataframe\">\n",
       "  <thead>\n",
       "    <tr style=\"text-align: right;\">\n",
       "      <th></th>\n",
       "      <th>country</th>\n",
       "      <th>rank_display</th>\n",
       "      <th>region</th>\n",
       "      <th>title</th>\n",
       "      <th>inter_st</th>\n",
       "      <th>students</th>\n",
       "      <th>inter_fac</th>\n",
       "      <th>fac</th>\n",
       "      <th>ratio</th>\n",
       "    </tr>\n",
       "  </thead>\n",
       "  <tbody>\n",
       "    <tr>\n",
       "      <th>0</th>\n",
       "      <td>United States</td>\n",
       "      <td>1</td>\n",
       "      <td>North America</td>\n",
       "      <td>Massachusetts Institute of Technology (MIT)</td>\n",
       "      <td>NaN</td>\n",
       "      <td>NaN</td>\n",
       "      <td>NaN</td>\n",
       "      <td>NaN</td>\n",
       "      <td>NaN</td>\n",
       "    </tr>\n",
       "    <tr>\n",
       "      <th>1</th>\n",
       "      <td>United States</td>\n",
       "      <td>2</td>\n",
       "      <td>North America</td>\n",
       "      <td>Stanford University</td>\n",
       "      <td>NaN</td>\n",
       "      <td>NaN</td>\n",
       "      <td>NaN</td>\n",
       "      <td>NaN</td>\n",
       "      <td>NaN</td>\n",
       "    </tr>\n",
       "    <tr>\n",
       "      <th>2</th>\n",
       "      <td>United States</td>\n",
       "      <td>3</td>\n",
       "      <td>North America</td>\n",
       "      <td>Harvard University</td>\n",
       "      <td>NaN</td>\n",
       "      <td>NaN</td>\n",
       "      <td>NaN</td>\n",
       "      <td>NaN</td>\n",
       "      <td>NaN</td>\n",
       "    </tr>\n",
       "    <tr>\n",
       "      <th>3</th>\n",
       "      <td>United States</td>\n",
       "      <td>4</td>\n",
       "      <td>North America</td>\n",
       "      <td>California Institute of Technology (Caltech)</td>\n",
       "      <td>NaN</td>\n",
       "      <td>NaN</td>\n",
       "      <td>NaN</td>\n",
       "      <td>NaN</td>\n",
       "      <td>NaN</td>\n",
       "    </tr>\n",
       "    <tr>\n",
       "      <th>4</th>\n",
       "      <td>United Kingdom</td>\n",
       "      <td>5</td>\n",
       "      <td>Europe</td>\n",
       "      <td>University of Cambridge</td>\n",
       "      <td>NaN</td>\n",
       "      <td>NaN</td>\n",
       "      <td>NaN</td>\n",
       "      <td>NaN</td>\n",
       "      <td>NaN</td>\n",
       "    </tr>\n",
       "  </tbody>\n",
       "</table>\n",
       "</div>"
      ],
      "text/plain": [
       "          country  rank_display         region  \\\n",
       "0   United States             1  North America   \n",
       "1   United States             2  North America   \n",
       "2   United States             3  North America   \n",
       "3   United States             4  North America   \n",
       "4  United Kingdom             5         Europe   \n",
       "\n",
       "                                          title  inter_st  students  \\\n",
       "0   Massachusetts Institute of Technology (MIT)       NaN       NaN   \n",
       "1                           Stanford University       NaN       NaN   \n",
       "2                            Harvard University       NaN       NaN   \n",
       "3  California Institute of Technology (Caltech)       NaN       NaN   \n",
       "4                       University of Cambridge       NaN       NaN   \n",
       "\n",
       "   inter_fac  fac  ratio  \n",
       "0        NaN  NaN    NaN  \n",
       "1        NaN  NaN    NaN  \n",
       "2        NaN  NaN    NaN  \n",
       "3        NaN  NaN    NaN  \n",
       "4        NaN  NaN    NaN  "
      ]
     },
     "execution_count": 37,
     "metadata": {},
     "output_type": "execute_result"
    }
   ],
   "source": [
    "ratio(univ_tot_df, 'fac', 'students', ascending_ = 0).head(5)"
   ]
  },
  {
   "cell_type": "markdown",
   "metadata": {},
   "source": [
    "The ratio of faculty/students seems correlated with the ranking"
   ]
  },
  {
   "cell_type": "markdown",
   "metadata": {
    "collapsed": true
   },
   "source": [
    "(b) ratio of international students"
   ]
  },
  {
   "cell_type": "code",
   "execution_count": 38,
   "metadata": {
    "scrolled": true
   },
   "outputs": [
    {
     "data": {
      "text/html": [
       "<div>\n",
       "<style>\n",
       "    .dataframe thead tr:only-child th {\n",
       "        text-align: right;\n",
       "    }\n",
       "\n",
       "    .dataframe thead th {\n",
       "        text-align: left;\n",
       "    }\n",
       "\n",
       "    .dataframe tbody tr th {\n",
       "        vertical-align: top;\n",
       "    }\n",
       "</style>\n",
       "<table border=\"1\" class=\"dataframe\">\n",
       "  <thead>\n",
       "    <tr style=\"text-align: right;\">\n",
       "      <th></th>\n",
       "      <th>country</th>\n",
       "      <th>rank_display</th>\n",
       "      <th>region</th>\n",
       "      <th>title</th>\n",
       "      <th>inter_st</th>\n",
       "      <th>students</th>\n",
       "      <th>inter_fac</th>\n",
       "      <th>fac</th>\n",
       "      <th>ratio</th>\n",
       "    </tr>\n",
       "  </thead>\n",
       "  <tbody>\n",
       "    <tr>\n",
       "      <th>0</th>\n",
       "      <td>United States</td>\n",
       "      <td>1</td>\n",
       "      <td>North America</td>\n",
       "      <td>Massachusetts Institute of Technology (MIT)</td>\n",
       "      <td>NaN</td>\n",
       "      <td>NaN</td>\n",
       "      <td>NaN</td>\n",
       "      <td>NaN</td>\n",
       "      <td>NaN</td>\n",
       "    </tr>\n",
       "    <tr>\n",
       "      <th>1</th>\n",
       "      <td>United States</td>\n",
       "      <td>2</td>\n",
       "      <td>North America</td>\n",
       "      <td>Stanford University</td>\n",
       "      <td>NaN</td>\n",
       "      <td>NaN</td>\n",
       "      <td>NaN</td>\n",
       "      <td>NaN</td>\n",
       "      <td>NaN</td>\n",
       "    </tr>\n",
       "    <tr>\n",
       "      <th>2</th>\n",
       "      <td>United States</td>\n",
       "      <td>3</td>\n",
       "      <td>North America</td>\n",
       "      <td>Harvard University</td>\n",
       "      <td>NaN</td>\n",
       "      <td>NaN</td>\n",
       "      <td>NaN</td>\n",
       "      <td>NaN</td>\n",
       "      <td>NaN</td>\n",
       "    </tr>\n",
       "    <tr>\n",
       "      <th>3</th>\n",
       "      <td>United States</td>\n",
       "      <td>4</td>\n",
       "      <td>North America</td>\n",
       "      <td>California Institute of Technology (Caltech)</td>\n",
       "      <td>NaN</td>\n",
       "      <td>NaN</td>\n",
       "      <td>NaN</td>\n",
       "      <td>NaN</td>\n",
       "      <td>NaN</td>\n",
       "    </tr>\n",
       "    <tr>\n",
       "      <th>4</th>\n",
       "      <td>United Kingdom</td>\n",
       "      <td>5</td>\n",
       "      <td>Europe</td>\n",
       "      <td>University of Cambridge</td>\n",
       "      <td>NaN</td>\n",
       "      <td>NaN</td>\n",
       "      <td>NaN</td>\n",
       "      <td>NaN</td>\n",
       "      <td>NaN</td>\n",
       "    </tr>\n",
       "  </tbody>\n",
       "</table>\n",
       "</div>"
      ],
      "text/plain": [
       "          country  rank_display         region  \\\n",
       "0   United States             1  North America   \n",
       "1   United States             2  North America   \n",
       "2   United States             3  North America   \n",
       "3   United States             4  North America   \n",
       "4  United Kingdom             5         Europe   \n",
       "\n",
       "                                          title  inter_st  students  \\\n",
       "0   Massachusetts Institute of Technology (MIT)       NaN       NaN   \n",
       "1                           Stanford University       NaN       NaN   \n",
       "2                            Harvard University       NaN       NaN   \n",
       "3  California Institute of Technology (Caltech)       NaN       NaN   \n",
       "4                       University of Cambridge       NaN       NaN   \n",
       "\n",
       "   inter_fac  fac  ratio  \n",
       "0        NaN  NaN    NaN  \n",
       "1        NaN  NaN    NaN  \n",
       "2        NaN  NaN    NaN  \n",
       "3        NaN  NaN    NaN  \n",
       "4        NaN  NaN    NaN  "
      ]
     },
     "execution_count": 38,
     "metadata": {},
     "output_type": "execute_result"
    }
   ],
   "source": [
    "ratio(univ_tot_df, 'inter_st', 'students', ascending_ = 0).head(5)"
   ]
  },
  {
   "cell_type": "markdown",
   "metadata": {},
   "source": [
    "The ratio of international_students/students seems correlated with the ranking"
   ]
  },
  {
   "cell_type": "markdown",
   "metadata": {},
   "source": [
    "(c) country"
   ]
  },
  {
   "cell_type": "code",
   "execution_count": 39,
   "metadata": {
    "collapsed": true
   },
   "outputs": [],
   "source": [
    "#Returns a multi_indexed dataframe sorted by the argument col as higher index and argument rank as second index\n",
    "def sortby_col_rank(df, col):\n",
    "    univ_col = df.set_index([col, 'rank_display'])\n",
    "    univ_col.sort_index(level=[col, 'rank_display'], ascending=[1, 1], inplace=True)\n",
    "    return univ_col"
   ]
  },
  {
   "cell_type": "code",
   "execution_count": 40,
   "metadata": {},
   "outputs": [
    {
     "data": {
      "text/html": [
       "<div>\n",
       "<style>\n",
       "    .dataframe thead tr:only-child th {\n",
       "        text-align: right;\n",
       "    }\n",
       "\n",
       "    .dataframe thead th {\n",
       "        text-align: left;\n",
       "    }\n",
       "\n",
       "    .dataframe tbody tr th {\n",
       "        vertical-align: top;\n",
       "    }\n",
       "</style>\n",
       "<table border=\"1\" class=\"dataframe\">\n",
       "  <thead>\n",
       "    <tr style=\"text-align: right;\">\n",
       "      <th></th>\n",
       "      <th></th>\n",
       "      <th>region</th>\n",
       "      <th>title</th>\n",
       "      <th>inter_st</th>\n",
       "      <th>students</th>\n",
       "      <th>inter_fac</th>\n",
       "      <th>fac</th>\n",
       "    </tr>\n",
       "    <tr>\n",
       "      <th>country</th>\n",
       "      <th>rank_display</th>\n",
       "      <th></th>\n",
       "      <th></th>\n",
       "      <th></th>\n",
       "      <th></th>\n",
       "      <th></th>\n",
       "      <th></th>\n",
       "    </tr>\n",
       "  </thead>\n",
       "  <tbody>\n",
       "    <tr>\n",
       "      <th rowspan=\"5\" valign=\"top\">Argentina</th>\n",
       "      <th>75</th>\n",
       "      <td>Latin America</td>\n",
       "      <td>Universidad de Buenos Aires (UBA)</td>\n",
       "      <td>NaN</td>\n",
       "      <td>NaN</td>\n",
       "      <td>NaN</td>\n",
       "      <td>NaN</td>\n",
       "    </tr>\n",
       "    <tr>\n",
       "      <th>331</th>\n",
       "      <td>Latin America</td>\n",
       "      <td>Universidad Austral</td>\n",
       "      <td>NaN</td>\n",
       "      <td>NaN</td>\n",
       "      <td>NaN</td>\n",
       "      <td>NaN</td>\n",
       "    </tr>\n",
       "    <tr>\n",
       "      <th>337</th>\n",
       "      <td>Latin America</td>\n",
       "      <td>Universidad de Belgrano</td>\n",
       "      <td>NaN</td>\n",
       "      <td>NaN</td>\n",
       "      <td>NaN</td>\n",
       "      <td>NaN</td>\n",
       "    </tr>\n",
       "    <tr>\n",
       "      <th>364</th>\n",
       "      <td>Latin America</td>\n",
       "      <td>Pontificia Universidad Católica Argentina</td>\n",
       "      <td>NaN</td>\n",
       "      <td>NaN</td>\n",
       "      <td>NaN</td>\n",
       "      <td>NaN</td>\n",
       "    </tr>\n",
       "    <tr>\n",
       "      <th>440</th>\n",
       "      <td>Latin America</td>\n",
       "      <td>Universidad de Palermo (UP)</td>\n",
       "      <td>NaN</td>\n",
       "      <td>NaN</td>\n",
       "      <td>NaN</td>\n",
       "      <td>NaN</td>\n",
       "    </tr>\n",
       "  </tbody>\n",
       "</table>\n",
       "</div>"
      ],
      "text/plain": [
       "                               region  \\\n",
       "country   rank_display                  \n",
       "Argentina 75            Latin America   \n",
       "          331           Latin America   \n",
       "          337           Latin America   \n",
       "          364           Latin America   \n",
       "          440           Latin America   \n",
       "\n",
       "                                                            title  inter_st  \\\n",
       "country   rank_display                                                        \n",
       "Argentina 75                    Universidad de Buenos Aires (UBA)       NaN   \n",
       "          331                                 Universidad Austral       NaN   \n",
       "          337                             Universidad de Belgrano       NaN   \n",
       "          364           Pontificia Universidad Católica Argentina       NaN   \n",
       "          440                         Universidad de Palermo (UP)       NaN   \n",
       "\n",
       "                        students  inter_fac  fac  \n",
       "country   rank_display                            \n",
       "Argentina 75                 NaN        NaN  NaN  \n",
       "          331                NaN        NaN  NaN  \n",
       "          337                NaN        NaN  NaN  \n",
       "          364                NaN        NaN  NaN  \n",
       "          440                NaN        NaN  NaN  "
      ]
     },
     "execution_count": 40,
     "metadata": {},
     "output_type": "execute_result"
    }
   ],
   "source": [
    "country_df = sortby_col_rank(univ_tot_df, 'country')\n",
    "us_univ = country_df.loc['United States']\n",
    "#us_univ.head(5)\n",
    "country_df.head()"
   ]
  },
  {
   "cell_type": "markdown",
   "metadata": {},
   "source": [
    "(d) region"
   ]
  },
  {
   "cell_type": "code",
   "execution_count": 41,
   "metadata": {},
   "outputs": [
    {
     "data": {
      "text/html": [
       "<div>\n",
       "<style>\n",
       "    .dataframe thead tr:only-child th {\n",
       "        text-align: right;\n",
       "    }\n",
       "\n",
       "    .dataframe thead th {\n",
       "        text-align: left;\n",
       "    }\n",
       "\n",
       "    .dataframe tbody tr th {\n",
       "        vertical-align: top;\n",
       "    }\n",
       "</style>\n",
       "<table border=\"1\" class=\"dataframe\">\n",
       "  <thead>\n",
       "    <tr style=\"text-align: right;\">\n",
       "      <th></th>\n",
       "      <th></th>\n",
       "      <th>country</th>\n",
       "      <th>title</th>\n",
       "      <th>inter_st</th>\n",
       "      <th>students</th>\n",
       "      <th>inter_fac</th>\n",
       "      <th>fac</th>\n",
       "    </tr>\n",
       "    <tr>\n",
       "      <th>region</th>\n",
       "      <th>rank_display</th>\n",
       "      <th></th>\n",
       "      <th></th>\n",
       "      <th></th>\n",
       "      <th></th>\n",
       "      <th></th>\n",
       "      <th></th>\n",
       "    </tr>\n",
       "  </thead>\n",
       "  <tbody>\n",
       "    <tr>\n",
       "      <th rowspan=\"5\" valign=\"top\">Africa</th>\n",
       "      <th>191</th>\n",
       "      <td>South Africa</td>\n",
       "      <td>University of Cape Town</td>\n",
       "      <td>NaN</td>\n",
       "      <td>NaN</td>\n",
       "      <td>NaN</td>\n",
       "      <td>NaN</td>\n",
       "    </tr>\n",
       "    <tr>\n",
       "      <th>362</th>\n",
       "      <td>South Africa</td>\n",
       "      <td>Stellenbosch University</td>\n",
       "      <td>NaN</td>\n",
       "      <td>NaN</td>\n",
       "      <td>NaN</td>\n",
       "      <td>NaN</td>\n",
       "    </tr>\n",
       "    <tr>\n",
       "      <th>366</th>\n",
       "      <td>South Africa</td>\n",
       "      <td>University of the Witwatersrand</td>\n",
       "      <td>NaN</td>\n",
       "      <td>NaN</td>\n",
       "      <td>NaN</td>\n",
       "      <td>NaN</td>\n",
       "    </tr>\n",
       "    <tr>\n",
       "      <th>396</th>\n",
       "      <td>Egypt</td>\n",
       "      <td>The American University in Cairo</td>\n",
       "      <td>NaN</td>\n",
       "      <td>NaN</td>\n",
       "      <td>NaN</td>\n",
       "      <td>NaN</td>\n",
       "    </tr>\n",
       "    <tr>\n",
       "      <th>482</th>\n",
       "      <td>Egypt</td>\n",
       "      <td>Cairo University</td>\n",
       "      <td>NaN</td>\n",
       "      <td>NaN</td>\n",
       "      <td>NaN</td>\n",
       "      <td>NaN</td>\n",
       "    </tr>\n",
       "  </tbody>\n",
       "</table>\n",
       "</div>"
      ],
      "text/plain": [
       "                          country                             title  inter_st  \\\n",
       "region rank_display                                                             \n",
       "Africa 191           South Africa           University of Cape Town       NaN   \n",
       "       362           South Africa           Stellenbosch University       NaN   \n",
       "       366           South Africa   University of the Witwatersrand       NaN   \n",
       "       396                  Egypt  The American University in Cairo       NaN   \n",
       "       482                  Egypt                  Cairo University       NaN   \n",
       "\n",
       "                     students  inter_fac  fac  \n",
       "region rank_display                            \n",
       "Africa 191                NaN        NaN  NaN  \n",
       "       362                NaN        NaN  NaN  \n",
       "       366                NaN        NaN  NaN  \n",
       "       396                NaN        NaN  NaN  \n",
       "       482                NaN        NaN  NaN  "
      ]
     },
     "execution_count": 41,
     "metadata": {},
     "output_type": "execute_result"
    }
   ],
   "source": [
    "region_df = sortby_col_rank(univ_tot_df, 'region')\n",
    "region_df.head()"
   ]
  },
  {
   "cell_type": "code",
   "execution_count": null,
   "metadata": {
    "collapsed": true
   },
   "outputs": [],
   "source": []
  }
 ],
 "metadata": {
  "kernelspec": {
   "display_name": "Python [conda root]",
   "language": "python",
   "name": "conda-root-py"
  },
  "language_info": {
   "codemirror_mode": {
    "name": "ipython",
    "version": 3
   },
   "file_extension": ".py",
   "mimetype": "text/x-python",
   "name": "python",
   "nbconvert_exporter": "python",
   "pygments_lexer": "ipython3",
   "version": "3.6.1"
  }
 },
 "nbformat": 4,
 "nbformat_minor": 2
}
