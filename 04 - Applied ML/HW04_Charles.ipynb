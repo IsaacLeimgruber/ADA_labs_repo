{
 "cells": [
  {
   "cell_type": "code",
   "execution_count": 1,
   "metadata": {
    "ExecuteTime": {
     "end_time": "2017-11-21T19:04:49.962981Z",
     "start_time": "2017-11-21T19:04:49.163381Z"
    }
   },
   "outputs": [],
   "source": [
    "import os\n",
    "import pandas as pd\n",
    "import numpy as np\n",
    "import matplotlib.pyplot as plt\n",
    "from sklearn import linear_model\n",
    "%matplotlib inline"
   ]
  },
  {
   "cell_type": "markdown",
   "metadata": {},
   "source": [
    "### Import Data"
   ]
  },
  {
   "cell_type": "code",
   "execution_count": 2,
   "metadata": {
    "ExecuteTime": {
     "end_time": "2017-11-21T19:04:49.994515Z",
     "start_time": "2017-11-21T19:04:49.965008Z"
    }
   },
   "outputs": [
    {
     "name": "stderr",
     "output_type": "stream",
     "text": [
      "/usr/local/lib/python3.6/site-packages/ipykernel_launcher.py:2: FutureWarning: from_csv is deprecated. Please use read_csv(...) instead. Note that some of the default arguments are different, so please refer to the documentation for from_csv when changing your function calls\n",
      "  \n"
     ]
    },
    {
     "data": {
      "text/html": [
       "<div>\n",
       "<style scoped>\n",
       "    .dataframe tbody tr th:only-of-type {\n",
       "        vertical-align: middle;\n",
       "    }\n",
       "\n",
       "    .dataframe tbody tr th {\n",
       "        vertical-align: top;\n",
       "    }\n",
       "\n",
       "    .dataframe thead th {\n",
       "        text-align: right;\n",
       "    }\n",
       "</style>\n",
       "<table border=\"1\" class=\"dataframe\">\n",
       "  <thead>\n",
       "    <tr style=\"text-align: right;\">\n",
       "      <th></th>\n",
       "      <th>treat</th>\n",
       "      <th>age</th>\n",
       "      <th>educ</th>\n",
       "      <th>black</th>\n",
       "      <th>hispan</th>\n",
       "      <th>married</th>\n",
       "      <th>nodegree</th>\n",
       "      <th>re74</th>\n",
       "      <th>re75</th>\n",
       "      <th>re78</th>\n",
       "    </tr>\n",
       "    <tr>\n",
       "      <th>id</th>\n",
       "      <th></th>\n",
       "      <th></th>\n",
       "      <th></th>\n",
       "      <th></th>\n",
       "      <th></th>\n",
       "      <th></th>\n",
       "      <th></th>\n",
       "      <th></th>\n",
       "      <th></th>\n",
       "      <th></th>\n",
       "    </tr>\n",
       "  </thead>\n",
       "  <tbody>\n",
       "    <tr>\n",
       "      <th>NSW1</th>\n",
       "      <td>1</td>\n",
       "      <td>37</td>\n",
       "      <td>11</td>\n",
       "      <td>1</td>\n",
       "      <td>0</td>\n",
       "      <td>1</td>\n",
       "      <td>1</td>\n",
       "      <td>0.0</td>\n",
       "      <td>0.0</td>\n",
       "      <td>9930.046</td>\n",
       "    </tr>\n",
       "    <tr>\n",
       "      <th>NSW2</th>\n",
       "      <td>1</td>\n",
       "      <td>22</td>\n",
       "      <td>9</td>\n",
       "      <td>0</td>\n",
       "      <td>1</td>\n",
       "      <td>0</td>\n",
       "      <td>1</td>\n",
       "      <td>0.0</td>\n",
       "      <td>0.0</td>\n",
       "      <td>3595.894</td>\n",
       "    </tr>\n",
       "    <tr>\n",
       "      <th>NSW3</th>\n",
       "      <td>1</td>\n",
       "      <td>30</td>\n",
       "      <td>12</td>\n",
       "      <td>1</td>\n",
       "      <td>0</td>\n",
       "      <td>0</td>\n",
       "      <td>0</td>\n",
       "      <td>0.0</td>\n",
       "      <td>0.0</td>\n",
       "      <td>24909.450</td>\n",
       "    </tr>\n",
       "  </tbody>\n",
       "</table>\n",
       "</div>"
      ],
      "text/plain": [
       "      treat  age  educ  black  hispan  married  nodegree  re74  re75  \\\n",
       "id                                                                     \n",
       "NSW1      1   37    11      1       0        1         1   0.0   0.0   \n",
       "NSW2      1   22     9      0       1        0         1   0.0   0.0   \n",
       "NSW3      1   30    12      1       0        0         0   0.0   0.0   \n",
       "\n",
       "           re78  \n",
       "id               \n",
       "NSW1   9930.046  \n",
       "NSW2   3595.894  \n",
       "NSW3  24909.450  "
      ]
     },
     "execution_count": 2,
     "metadata": {},
     "output_type": "execute_result"
    }
   ],
   "source": [
    "path = 'lalonde.csv'\n",
    "patients_df = pd.DataFrame.from_csv(path, sep=\",\")\n",
    "patients_df.head(3)"
   ]
  },
  {
   "cell_type": "markdown",
   "metadata": {},
   "source": [
    "### Clean Data"
   ]
  },
  {
   "cell_type": "code",
   "execution_count": 3,
   "metadata": {
    "ExecuteTime": {
     "end_time": "2017-11-21T19:04:50.007368Z",
     "start_time": "2017-11-21T19:04:49.997082Z"
    }
   },
   "outputs": [
    {
     "data": {
      "text/plain": [
       "numpy.int64"
      ]
     },
     "execution_count": 3,
     "metadata": {},
     "output_type": "execute_result"
    }
   ],
   "source": [
    "# Cast values to numeric\n",
    "patients_df.apply(pd.to_numeric, errors = 'coerce')\n",
    "type(patients_df.iloc[1,1])"
   ]
  },
  {
   "cell_type": "markdown",
   "metadata": {},
   "source": [
    "### Split not treated and treated"
   ]
  },
  {
   "cell_type": "code",
   "execution_count": 4,
   "metadata": {
    "ExecuteTime": {
     "end_time": "2017-11-21T19:04:50.017114Z",
     "start_time": "2017-11-21T19:04:50.010064Z"
    }
   },
   "outputs": [],
   "source": [
    "# splits a dataframe on a two-categorical column\n",
    "def split_in_two(df, column):\n",
    "    first = df[df[column] == 0]\n",
    "    second = df[df[column] == 1]\n",
    "    return first, second"
   ]
  },
  {
   "cell_type": "code",
   "execution_count": 5,
   "metadata": {
    "ExecuteTime": {
     "end_time": "2017-11-21T19:04:50.042784Z",
     "start_time": "2017-11-21T19:04:50.019832Z"
    }
   },
   "outputs": [
    {
     "data": {
      "text/html": [
       "<div>\n",
       "<style scoped>\n",
       "    .dataframe tbody tr th:only-of-type {\n",
       "        vertical-align: middle;\n",
       "    }\n",
       "\n",
       "    .dataframe tbody tr th {\n",
       "        vertical-align: top;\n",
       "    }\n",
       "\n",
       "    .dataframe thead th {\n",
       "        text-align: right;\n",
       "    }\n",
       "</style>\n",
       "<table border=\"1\" class=\"dataframe\">\n",
       "  <thead>\n",
       "    <tr style=\"text-align: right;\">\n",
       "      <th></th>\n",
       "      <th>treat</th>\n",
       "      <th>age</th>\n",
       "      <th>educ</th>\n",
       "      <th>black</th>\n",
       "      <th>hispan</th>\n",
       "      <th>married</th>\n",
       "      <th>nodegree</th>\n",
       "      <th>re74</th>\n",
       "      <th>re75</th>\n",
       "      <th>re78</th>\n",
       "    </tr>\n",
       "    <tr>\n",
       "      <th>id</th>\n",
       "      <th></th>\n",
       "      <th></th>\n",
       "      <th></th>\n",
       "      <th></th>\n",
       "      <th></th>\n",
       "      <th></th>\n",
       "      <th></th>\n",
       "      <th></th>\n",
       "      <th></th>\n",
       "      <th></th>\n",
       "    </tr>\n",
       "  </thead>\n",
       "  <tbody>\n",
       "    <tr>\n",
       "      <th>NSW184</th>\n",
       "      <td>1</td>\n",
       "      <td>35</td>\n",
       "      <td>8</td>\n",
       "      <td>1</td>\n",
       "      <td>0</td>\n",
       "      <td>1</td>\n",
       "      <td>1</td>\n",
       "      <td>13732.07</td>\n",
       "      <td>17976.15</td>\n",
       "      <td>3786.628</td>\n",
       "    </tr>\n",
       "    <tr>\n",
       "      <th>NSW185</th>\n",
       "      <td>1</td>\n",
       "      <td>33</td>\n",
       "      <td>11</td>\n",
       "      <td>1</td>\n",
       "      <td>0</td>\n",
       "      <td>1</td>\n",
       "      <td>1</td>\n",
       "      <td>14660.71</td>\n",
       "      <td>25142.24</td>\n",
       "      <td>4181.942</td>\n",
       "    </tr>\n",
       "  </tbody>\n",
       "</table>\n",
       "</div>"
      ],
      "text/plain": [
       "        treat  age  educ  black  hispan  married  nodegree      re74  \\\n",
       "id                                                                     \n",
       "NSW184      1   35     8      1       0        1         1  13732.07   \n",
       "NSW185      1   33    11      1       0        1         1  14660.71   \n",
       "\n",
       "            re75      re78  \n",
       "id                          \n",
       "NSW184  17976.15  3786.628  \n",
       "NSW185  25142.24  4181.942  "
      ]
     },
     "execution_count": 5,
     "metadata": {},
     "output_type": "execute_result"
    }
   ],
   "source": [
    "ntreated_df, treated_df = split_in_two(patients_df, 'treat')\n",
    "ntreated_count = len(ntreated_df)\n",
    "treated_count = len(treated_df)\n",
    "treated_df.tail(2)"
   ]
  },
  {
   "cell_type": "code",
   "execution_count": 6,
   "metadata": {
    "ExecuteTime": {
     "end_time": "2017-11-21T19:04:50.062380Z",
     "start_time": "2017-11-21T19:04:50.045111Z"
    }
   },
   "outputs": [
    {
     "data": {
      "text/html": [
       "<div>\n",
       "<style scoped>\n",
       "    .dataframe tbody tr th:only-of-type {\n",
       "        vertical-align: middle;\n",
       "    }\n",
       "\n",
       "    .dataframe tbody tr th {\n",
       "        vertical-align: top;\n",
       "    }\n",
       "\n",
       "    .dataframe thead th {\n",
       "        text-align: right;\n",
       "    }\n",
       "</style>\n",
       "<table border=\"1\" class=\"dataframe\">\n",
       "  <thead>\n",
       "    <tr style=\"text-align: right;\">\n",
       "      <th></th>\n",
       "      <th>treat</th>\n",
       "      <th>age</th>\n",
       "      <th>educ</th>\n",
       "      <th>black</th>\n",
       "      <th>hispan</th>\n",
       "      <th>married</th>\n",
       "      <th>nodegree</th>\n",
       "      <th>re74</th>\n",
       "      <th>re75</th>\n",
       "      <th>re78</th>\n",
       "    </tr>\n",
       "    <tr>\n",
       "      <th>id</th>\n",
       "      <th></th>\n",
       "      <th></th>\n",
       "      <th></th>\n",
       "      <th></th>\n",
       "      <th></th>\n",
       "      <th></th>\n",
       "      <th></th>\n",
       "      <th></th>\n",
       "      <th></th>\n",
       "      <th></th>\n",
       "    </tr>\n",
       "  </thead>\n",
       "  <tbody>\n",
       "    <tr>\n",
       "      <th>PSID1</th>\n",
       "      <td>0</td>\n",
       "      <td>30</td>\n",
       "      <td>12</td>\n",
       "      <td>0</td>\n",
       "      <td>0</td>\n",
       "      <td>1</td>\n",
       "      <td>0</td>\n",
       "      <td>20166.73</td>\n",
       "      <td>18347.23</td>\n",
       "      <td>25564.67</td>\n",
       "    </tr>\n",
       "    <tr>\n",
       "      <th>PSID2</th>\n",
       "      <td>0</td>\n",
       "      <td>26</td>\n",
       "      <td>12</td>\n",
       "      <td>0</td>\n",
       "      <td>0</td>\n",
       "      <td>1</td>\n",
       "      <td>0</td>\n",
       "      <td>25862.32</td>\n",
       "      <td>17806.55</td>\n",
       "      <td>25564.67</td>\n",
       "    </tr>\n",
       "    <tr>\n",
       "      <th>PSID3</th>\n",
       "      <td>0</td>\n",
       "      <td>25</td>\n",
       "      <td>16</td>\n",
       "      <td>0</td>\n",
       "      <td>0</td>\n",
       "      <td>1</td>\n",
       "      <td>0</td>\n",
       "      <td>25862.32</td>\n",
       "      <td>15316.21</td>\n",
       "      <td>25564.67</td>\n",
       "    </tr>\n",
       "    <tr>\n",
       "      <th>PSID4</th>\n",
       "      <td>0</td>\n",
       "      <td>42</td>\n",
       "      <td>11</td>\n",
       "      <td>0</td>\n",
       "      <td>0</td>\n",
       "      <td>1</td>\n",
       "      <td>1</td>\n",
       "      <td>21787.05</td>\n",
       "      <td>14265.29</td>\n",
       "      <td>15491.01</td>\n",
       "    </tr>\n",
       "    <tr>\n",
       "      <th>PSID5</th>\n",
       "      <td>0</td>\n",
       "      <td>25</td>\n",
       "      <td>9</td>\n",
       "      <td>1</td>\n",
       "      <td>0</td>\n",
       "      <td>1</td>\n",
       "      <td>1</td>\n",
       "      <td>14829.69</td>\n",
       "      <td>13776.53</td>\n",
       "      <td>0.00</td>\n",
       "    </tr>\n",
       "  </tbody>\n",
       "</table>\n",
       "</div>"
      ],
      "text/plain": [
       "       treat  age  educ  black  hispan  married  nodegree      re74      re75  \\\n",
       "id                                                                              \n",
       "PSID1      0   30    12      0       0        1         0  20166.73  18347.23   \n",
       "PSID2      0   26    12      0       0        1         0  25862.32  17806.55   \n",
       "PSID3      0   25    16      0       0        1         0  25862.32  15316.21   \n",
       "PSID4      0   42    11      0       0        1         1  21787.05  14265.29   \n",
       "PSID5      0   25     9      1       0        1         1  14829.69  13776.53   \n",
       "\n",
       "           re78  \n",
       "id               \n",
       "PSID1  25564.67  \n",
       "PSID2  25564.67  \n",
       "PSID3  25564.67  \n",
       "PSID4  15491.01  \n",
       "PSID5      0.00  "
      ]
     },
     "execution_count": 6,
     "metadata": {},
     "output_type": "execute_result"
    }
   ],
   "source": [
    "ntreated_df.head()"
   ]
  },
  {
   "cell_type": "markdown",
   "metadata": {},
   "source": [
    "### 1. A naive analysis"
   ]
  },
  {
   "cell_type": "markdown",
   "metadata": {},
   "source": [
    "Now that we have the treated and untreated person, we can compare the outcome variable"
   ]
  },
  {
   "cell_type": "code",
   "execution_count": 7,
   "metadata": {
    "ExecuteTime": {
     "end_time": "2017-11-21T19:04:50.077008Z",
     "start_time": "2017-11-21T19:04:50.064485Z"
    }
   },
   "outputs": [],
   "source": [
    "# obtain describe serie for both groups\n",
    "dscr_ntr = ntreated_df['re78'].describe()\n",
    "dscr_tr = treated_df['re78'].describe()"
   ]
  },
  {
   "cell_type": "code",
   "execution_count": 8,
   "metadata": {
    "ExecuteTime": {
     "end_time": "2017-11-21T19:04:50.085196Z",
     "start_time": "2017-11-21T19:04:50.079602Z"
    }
   },
   "outputs": [
    {
     "data": {
      "text/plain": [
       "6984.1697423076921"
      ]
     },
     "execution_count": 8,
     "metadata": {},
     "output_type": "execute_result"
    }
   ],
   "source": [
    "# mean of untreated group\n",
    "dscr_ntr['mean']"
   ]
  },
  {
   "cell_type": "code",
   "execution_count": 9,
   "metadata": {
    "ExecuteTime": {
     "end_time": "2017-11-21T19:04:50.093109Z",
     "start_time": "2017-11-21T19:04:50.087890Z"
    }
   },
   "outputs": [
    {
     "data": {
      "text/plain": [
       "6349.1435302702712"
      ]
     },
     "execution_count": 9,
     "metadata": {},
     "output_type": "execute_result"
    }
   ],
   "source": [
    "# mean of treated group\n",
    "dscr_tr['mean']"
   ]
  },
  {
   "cell_type": "markdown",
   "metadata": {},
   "source": [
    "We already see that the mean of untreated group is higher, but is this an effect of outliers?"
   ]
  },
  {
   "cell_type": "code",
   "execution_count": 10,
   "metadata": {
    "ExecuteTime": {
     "end_time": "2017-11-21T19:04:50.100830Z",
     "start_time": "2017-11-21T19:04:50.095521Z"
    }
   },
   "outputs": [
    {
     "data": {
      "text/plain": [
       "11688.82"
      ]
     },
     "execution_count": 10,
     "metadata": {},
     "output_type": "execute_result"
    }
   ],
   "source": [
    "# 75% quantile mean of untreated group\n",
    "dscr_ntr['75%']"
   ]
  },
  {
   "cell_type": "code",
   "execution_count": 11,
   "metadata": {
    "ExecuteTime": {
     "end_time": "2017-11-21T19:04:50.107476Z",
     "start_time": "2017-11-21T19:04:50.102982Z"
    }
   },
   "outputs": [
    {
     "data": {
      "text/plain": [
       "9642.9989999999998"
      ]
     },
     "execution_count": 11,
     "metadata": {},
     "output_type": "execute_result"
    }
   ],
   "source": [
    "# 75% quantile mean of treated group\n",
    "dscr_tr['75%']"
   ]
  },
  {
   "cell_type": "markdown",
   "metadata": {},
   "source": [
    "Hence we conclude it was not an effect of outliers and that the untreated group has an average higher wage than the treated group in 1978"
   ]
  },
  {
   "cell_type": "markdown",
   "metadata": {},
   "source": [
    "We will convince ourselves by showing the number in an explicit visualization"
   ]
  },
  {
   "cell_type": "code",
   "execution_count": 12,
   "metadata": {
    "ExecuteTime": {
     "end_time": "2017-11-21T19:04:50.113696Z",
     "start_time": "2017-11-21T19:04:50.109956Z"
    }
   },
   "outputs": [],
   "source": [
    "def get_column_serie(df, column):\n",
    "    return df[[column]].values[:, 0]"
   ]
  },
  {
   "cell_type": "code",
   "execution_count": 13,
   "metadata": {
    "ExecuteTime": {
     "end_time": "2017-11-21T19:04:50.137064Z",
     "start_time": "2017-11-21T19:04:50.116282Z"
    }
   },
   "outputs": [],
   "source": [
    "def make_boxplot(df1, df2, column, labels,  fill_colors):\n",
    "    serie1 = get_column_serie(df1, column)\n",
    "    serie2 = get_column_serie(df2, column)\n",
    "    data = [serie1, serie2]\n",
    "    fig, ax = plt.subplots()\n",
    "    \n",
    "    bp = ax.boxplot(data, patch_artist = True)\n",
    "    for elem in ['boxes', 'caps']:\n",
    "        plt.setp(bp[elem], color='black')\n",
    "    for m in bp['medians']:\n",
    "        m.set(color='red', linewidth=2)\n",
    "    for idx, b in enumerate(bp['boxes']):\n",
    "        b.set(facecolor = fill_colors[idx])\n",
    "    \n",
    "    ax.set_xticklabels(labels)"
   ]
  },
  {
   "cell_type": "code",
   "execution_count": 14,
   "metadata": {
    "ExecuteTime": {
     "end_time": "2017-11-21T19:04:50.325369Z",
     "start_time": "2017-11-21T19:04:50.139647Z"
    }
   },
   "outputs": [
    {
     "data": {
      "image/png": "[encoded data removed]",
      "text/plain": [
       "<matplotlib.figure.Figure at 0x10b90a208>"
      ]
     },
     "metadata": {},
     "output_type": "display_data"
    }
   ],
   "source": [
    "make_boxplot(treated_df, ntreated_df, 're78', ['treated', 'ntreated'], ['steelblue', '#5EDF63'])"
   ]
  },
  {
   "cell_type": "markdown",
   "metadata": {},
   "source": [
    "Hence the plots confirms what we already knew, that the mean and mean without outliers is lower for treated patients. The naive analysis concludes the treatment does not work"
   ]
  },
  {
   "cell_type": "markdown",
   "metadata": {},
   "source": [
    "### 2. A closer look at the data"
   ]
  },
  {
   "cell_type": "markdown",
   "metadata": {},
   "source": [
    "#### Description\n",
    "For each feature in the dataset, compare its distribution in the treated group with its distribution in the control group, using plots and numbers. As above, you may use the techniques we discussed in class for summarizing and comparing the distributions.\n",
    "\n",
    "What do you observe? Describe what your observations mean for the conclusions drawn by the naive \"researcher\" from his superficial analysis."
   ]
  },
  {
   "cell_type": "markdown",
   "metadata": {},
   "source": [
    "#### Solution\n",
    "In this part, we will successively compare the columns of the treated dataframe and the ntreated dataframe then try to explain what vice of procedure caused the discrepancies in the case of high difference in distribution"
   ]
  },
  {
   "cell_type": "code",
   "execution_count": 15,
   "metadata": {
    "ExecuteTime": {
     "end_time": "2017-11-21T19:04:50.337399Z",
     "start_time": "2017-11-21T19:04:50.328018Z"
    }
   },
   "outputs": [],
   "source": [
    "def shared_plot_by(col,plot_kind, treated_df, ntreated_df):\n",
    "    fig, axs = plt.subplots(1, 2, figsize=(14,5), sharex=True)\n",
    "    treated_df.plot(y=col, kind=plot_kind, ax=axs[0], title = \"Treated\")\n",
    "    ntreated_df.plot(y=col, kind=plot_kind, ax=axs[1], title = \"Not Treated\")\n",
    "    plt.show()"
   ]
  },
  {
   "cell_type": "markdown",
   "metadata": {},
   "source": [
    "Lets first compare both groups **by age**"
   ]
  },
  {
   "cell_type": "code",
   "execution_count": 16,
   "metadata": {
    "ExecuteTime": {
     "end_time": "2017-11-21T19:04:50.827043Z",
     "start_time": "2017-11-21T19:04:50.341132Z"
    },
    "scrolled": true
   },
   "outputs": [
    {
     "data": {
      "image/png": "[encoded data removed]",
      "text/plain": [
       "<matplotlib.figure.Figure at 0x10b9ad128>"
      ]
     },
     "metadata": {},
     "output_type": "display_data"
    }
   ],
   "source": [
    "# First we can compare them by age\n",
    "shared_plot_by('age', 'hist', treated_df, ntreated_df)"
   ]
  },
  {
   "cell_type": "markdown",
   "metadata": {},
   "source": [
    "We already see that there is a big difference in proportion between 25 and 30 years. There are proportionately way more treated people in this age range than there are untreated people relative to the total number of people in each group"
   ]
  },
  {
   "cell_type": "code",
   "execution_count": 17,
   "metadata": {
    "ExecuteTime": {
     "end_time": "2017-11-21T19:04:50.841200Z",
     "start_time": "2017-11-21T19:04:50.829892Z"
    }
   },
   "outputs": [
    {
     "data": {
      "text/plain": [
       "count    185.000000\n",
       "mean      25.816216\n",
       "std        7.155019\n",
       "min       17.000000\n",
       "25%       20.000000\n",
       "50%       25.000000\n",
       "75%       29.000000\n",
       "max       48.000000\n",
       "Name: age, dtype: float64"
      ]
     },
     "execution_count": 17,
     "metadata": {},
     "output_type": "execute_result"
    }
   ],
   "source": [
    "# And we can compare the values with descibe\n",
    "treated_df['age'].describe()"
   ]
  },
  {
   "cell_type": "code",
   "execution_count": 18,
   "metadata": {
    "ExecuteTime": {
     "end_time": "2017-11-21T19:04:50.857131Z",
     "start_time": "2017-11-21T19:04:50.844217Z"
    },
    "scrolled": true
   },
   "outputs": [
    {
     "data": {
      "text/plain": [
       "count    429.000000\n",
       "mean      28.030303\n",
       "std       10.786653\n",
       "min       16.000000\n",
       "25%       19.000000\n",
       "50%       25.000000\n",
       "75%       35.000000\n",
       "max       55.000000\n",
       "Name: age, dtype: float64"
      ]
     },
     "execution_count": 18,
     "metadata": {},
     "output_type": "execute_result"
    }
   ],
   "source": [
    "ntreated_df['age'].describe()"
   ]
  },
  {
   "cell_type": "markdown",
   "metadata": {},
   "source": [
    "We can see (with plots and numbers) that among the data, most of them are young people (16-25) and there are much more people not treated than treated. We can suspect that the treatment **assignement was not random** because had it be random, the number of patients in each group would have been closer to each other."
   ]
  },
  {
   "cell_type": "markdown",
   "metadata": {},
   "source": [
    "Now we can compare both groups through their respective <b>years of education</b> distribution"
   ]
  },
  {
   "cell_type": "code",
   "execution_count": 19,
   "metadata": {
    "ExecuteTime": {
     "end_time": "2017-11-21T19:04:51.333415Z",
     "start_time": "2017-11-21T19:04:50.859185Z"
    },
    "scrolled": false
   },
   "outputs": [
    {
     "data": {
      "image/png": "[encoded data removed]",
      "text/plain": [
       "<matplotlib.figure.Figure at 0x10ba35240>"
      ]
     },
     "metadata": {},
     "output_type": "display_data"
    }
   ],
   "source": [
    "# Then by education\n",
    "shared_plot_by('educ', 'hist', treated_df, ntreated_df)"
   ]
  },
  {
   "cell_type": "markdown",
   "metadata": {},
   "source": [
    "The results here are less surprising. Since we already saw a difference in age distribution, the years of education will be influenced. Here both groups seem quite comparable"
   ]
  },
  {
   "cell_type": "code",
   "execution_count": 20,
   "metadata": {
    "ExecuteTime": {
     "end_time": "2017-11-21T19:04:51.346041Z",
     "start_time": "2017-11-21T19:04:51.336510Z"
    }
   },
   "outputs": [
    {
     "data": {
      "text/plain": [
       "count    185.000000\n",
       "mean      10.345946\n",
       "std        2.010650\n",
       "min        4.000000\n",
       "25%        9.000000\n",
       "50%       11.000000\n",
       "75%       12.000000\n",
       "max       16.000000\n",
       "Name: educ, dtype: float64"
      ]
     },
     "execution_count": 20,
     "metadata": {},
     "output_type": "execute_result"
    }
   ],
   "source": [
    "# and compare their values too\n",
    "treated_df['educ'].describe()"
   ]
  },
  {
   "cell_type": "code",
   "execution_count": 21,
   "metadata": {
    "ExecuteTime": {
     "end_time": "2017-11-21T19:04:51.360514Z",
     "start_time": "2017-11-21T19:04:51.348497Z"
    }
   },
   "outputs": [
    {
     "data": {
      "text/plain": [
       "count    429.000000\n",
       "mean      10.235431\n",
       "std        2.855238\n",
       "min        0.000000\n",
       "25%        9.000000\n",
       "50%       11.000000\n",
       "75%       12.000000\n",
       "max       18.000000\n",
       "Name: educ, dtype: float64"
      ]
     },
     "execution_count": 21,
     "metadata": {},
     "output_type": "execute_result"
    }
   ],
   "source": [
    "ntreated_df['educ'].describe()"
   ]
  },
  {
   "cell_type": "markdown",
   "metadata": {},
   "source": [
    "The results confirm our hypotheses since the mean is almost the same in both groups and the 75% quantile is exactly the same. This means that the difference in standard deviation is only due to outliers. Hence both groups have very **similar distributions in years of education**"
   ]
  },
  {
   "cell_type": "markdown",
   "metadata": {},
   "source": [
    "We can now compare the **amount of people without a degree** and the **number of people married** in each group"
   ]
  },
  {
   "cell_type": "code",
   "execution_count": 22,
   "metadata": {
    "ExecuteTime": {
     "end_time": "2017-11-21T19:04:51.390420Z",
     "start_time": "2017-11-21T19:04:51.362684Z"
    }
   },
   "outputs": [],
   "source": [
    "def col_number(df, col_names):\n",
    "    result_0 = []\n",
    "    result_1 = []\n",
    "    \n",
    "    for col_name in col_names:   \n",
    "        # for each col we calculate the length and then store the ratio\n",
    "        nb_0 = len(df[df[col_name] == 0])\n",
    "        nb_1 = len(df[df[col_name] == 1])\n",
    "        result_0.append(nb_0 / (nb_0 + nb_1))\n",
    "        result_1.append(nb_1 / (nb_0 + nb_1))\n",
    "        \n",
    "    return np.array(result_0), np.array(result_1)\n",
    "\n",
    "def bar_subplot(axe_plot, nb_index, result_0, result_1, ylegend):\n",
    "    #plot0 = axe_plot.bar(nb_index, result_0, color=\"#0000ff\")\n",
    "    plot1 = axe_plot.bar(nb_index, result_1, color='steelblue')\n",
    "    \n",
    "    plt.sca(axe_plot)\n",
    "    plt.xticks(nb_index, col_names)\n",
    "    plt.ylabel(ylegend)\n",
    "    plt.yticks( [0, 0.5, 1] )\n",
    "    #plt.legend((plot0[0], plot1[0]), ('0', '1'))"
   ]
  },
  {
   "cell_type": "code",
   "execution_count": 23,
   "metadata": {
    "ExecuteTime": {
     "end_time": "2017-11-21T19:04:51.695916Z",
     "start_time": "2017-11-21T19:04:51.392959Z"
    }
   },
   "outputs": [
    {
     "data": {
      "image/png": "[encoded data removed]",
      "text/plain": [
       "<matplotlib.figure.Figure at 0x10bd2e940>"
      ]
     },
     "metadata": {},
     "output_type": "display_data"
    }
   ],
   "source": [
    "fig, plot_axes = plt.subplots(1, 2, figsize=(14, 5), sharex=True)\n",
    "nb_index = np.arange(2)\n",
    "col_names = ['nodegree', 'married']\n",
    "\n",
    "result_0, result_1 = col_number(treated_df, col_names)\n",
    "bar_subplot(plot_axes[0], nb_index, result_0, result_1, 'Ratio of treated persons')\n",
    "\n",
    "result_0, result_1 = col_number(ntreated_df, col_names)\n",
    "bar_subplot(plot_axes[1], nb_index, result_0, result_1, 'Ratio of untreated persons')\n",
    "\n",
    "plt.show()"
   ]
  },
  {
   "cell_type": "markdown",
   "metadata": {},
   "source": [
    "We see that the <b>proportion of people without a degree is quite similar</b> . However the <b>proportion of people married is very different</b>. there seem to be a ratio between 2 and 3 of the proportion of married people.\n",
    "This may show a bias in the treatment assignement but <b>might be a side effect of the age difference</b> we saw before between the groups. This may have a big influence since we may expect married people to have different carreer objectives than unmarried people."
   ]
  },
  {
   "cell_type": "markdown",
   "metadata": {},
   "source": [
    "For <b>blacks and hispanic</b> we will only compare the ratios between the two groups"
   ]
  },
  {
   "cell_type": "code",
   "execution_count": 24,
   "metadata": {
    "ExecuteTime": {
     "end_time": "2017-11-21T19:04:51.703402Z",
     "start_time": "2017-11-21T19:04:51.698615Z"
    }
   },
   "outputs": [],
   "source": [
    "def compute_ratio(df, col, total):\n",
    "    val = df[col]\n",
    "    return (val == 1).sum()/total"
   ]
  },
  {
   "cell_type": "code",
   "execution_count": 25,
   "metadata": {
    "ExecuteTime": {
     "end_time": "2017-11-21T19:04:51.711889Z",
     "start_time": "2017-11-21T19:04:51.706695Z"
    }
   },
   "outputs": [
    {
     "name": "stdout",
     "output_type": "stream",
     "text": [
      "the ratio of treated blacks : 0.843243243243\n"
     ]
    }
   ],
   "source": [
    "print(\"the ratio of treated blacks :\",compute_ratio(treated_df, 'black', treated_count))"
   ]
  },
  {
   "cell_type": "code",
   "execution_count": 26,
   "metadata": {
    "ExecuteTime": {
     "end_time": "2017-11-21T19:04:51.722587Z",
     "start_time": "2017-11-21T19:04:51.715130Z"
    }
   },
   "outputs": [
    {
     "name": "stdout",
     "output_type": "stream",
     "text": [
      "the ratio of untreated blacks : 0.202797202797\n"
     ]
    }
   ],
   "source": [
    "print(\"the ratio of untreated blacks :\",compute_ratio(ntreated_df, 'black', ntreated_count))"
   ]
  },
  {
   "cell_type": "code",
   "execution_count": 27,
   "metadata": {
    "ExecuteTime": {
     "end_time": "2017-11-21T19:04:51.730897Z",
     "start_time": "2017-11-21T19:04:51.724806Z"
    }
   },
   "outputs": [
    {
     "name": "stdout",
     "output_type": "stream",
     "text": [
      "the ratio of treated hispanic : 0.0594594594595\n"
     ]
    }
   ],
   "source": [
    "print(\"the ratio of treated hispanic :\",compute_ratio(treated_df, 'hispan', treated_count))"
   ]
  },
  {
   "cell_type": "code",
   "execution_count": 28,
   "metadata": {
    "ExecuteTime": {
     "end_time": "2017-11-21T19:04:51.739901Z",
     "start_time": "2017-11-21T19:04:51.733209Z"
    }
   },
   "outputs": [
    {
     "name": "stdout",
     "output_type": "stream",
     "text": [
      "the ratio of untreated hispanic 0.142191142191\n"
     ]
    }
   ],
   "source": [
    "print(\"the ratio of untreated hispanic\",compute_ratio(ntreated_df, 'hispan', ntreated_count))"
   ]
  },
  {
   "cell_type": "markdown",
   "metadata": {},
   "source": [
    "We can see that the percentage of blacks in the treated group is 4 time larger than the one in the non-treated one. <br>\n",
    "For the Hispanics, we can see that we have almost twice as much Hispanic in the untreated group this time.<br>\n",
    "This is a <b>non-random treatment assignement</b>"
   ]
  },
  {
   "cell_type": "markdown",
   "metadata": {},
   "source": [
    "### 3. A propsensity score model"
   ]
  },
  {
   "cell_type": "markdown",
   "metadata": {},
   "source": [
    "#### Description\n",
    "Use logistic regression to estimate propensity scores for all points in the dataset. You may use sklearn to fit the logistic regression model and apply it to each data point to obtain propensity scores"
   ]
  },
  {
   "cell_type": "markdown",
   "metadata": {},
   "source": [
    "#### Solution\n",
    "We apply the logistic regression"
   ]
  },
  {
   "cell_type": "code",
   "execution_count": 29,
   "metadata": {
    "ExecuteTime": {
     "end_time": "2017-11-21T19:04:51.754391Z",
     "start_time": "2017-11-21T19:04:51.742128Z"
    }
   },
   "outputs": [],
   "source": [
    "logistic = linear_model.LogisticRegression()\n",
    "feature_cols = ['age', 'educ', 'black', 'hispan', 'married', 'nodegree', 're74', 're75']\n",
    "X = patients_df[feature_cols]\n",
    "y = patients_df.treat\n",
    "logistic.fit(X, y);"
   ]
  },
  {
   "cell_type": "markdown",
   "metadata": {},
   "source": [
    "Then add the results in a new dataframe"
   ]
  },
  {
   "cell_type": "code",
   "execution_count": 30,
   "metadata": {
    "ExecuteTime": {
     "end_time": "2017-11-21T19:04:51.779954Z",
     "start_time": "2017-11-21T19:04:51.756830Z"
    }
   },
   "outputs": [
    {
     "data": {
      "text/html": [
       "<div>\n",
       "<style scoped>\n",
       "    .dataframe tbody tr th:only-of-type {\n",
       "        vertical-align: middle;\n",
       "    }\n",
       "\n",
       "    .dataframe tbody tr th {\n",
       "        vertical-align: top;\n",
       "    }\n",
       "\n",
       "    .dataframe thead th {\n",
       "        text-align: right;\n",
       "    }\n",
       "</style>\n",
       "<table border=\"1\" class=\"dataframe\">\n",
       "  <thead>\n",
       "    <tr style=\"text-align: right;\">\n",
       "      <th></th>\n",
       "      <th>treat</th>\n",
       "      <th>age</th>\n",
       "      <th>educ</th>\n",
       "      <th>black</th>\n",
       "      <th>hispan</th>\n",
       "      <th>married</th>\n",
       "      <th>nodegree</th>\n",
       "      <th>re74</th>\n",
       "      <th>re75</th>\n",
       "      <th>re78</th>\n",
       "      <th>score</th>\n",
       "    </tr>\n",
       "    <tr>\n",
       "      <th>id</th>\n",
       "      <th></th>\n",
       "      <th></th>\n",
       "      <th></th>\n",
       "      <th></th>\n",
       "      <th></th>\n",
       "      <th></th>\n",
       "      <th></th>\n",
       "      <th></th>\n",
       "      <th></th>\n",
       "      <th></th>\n",
       "      <th></th>\n",
       "    </tr>\n",
       "  </thead>\n",
       "  <tbody>\n",
       "    <tr>\n",
       "      <th>NSW1</th>\n",
       "      <td>1</td>\n",
       "      <td>37</td>\n",
       "      <td>11</td>\n",
       "      <td>1</td>\n",
       "      <td>0</td>\n",
       "      <td>1</td>\n",
       "      <td>1</td>\n",
       "      <td>0.0</td>\n",
       "      <td>0.0</td>\n",
       "      <td>9930.046</td>\n",
       "      <td>0.443350</td>\n",
       "    </tr>\n",
       "    <tr>\n",
       "      <th>NSW2</th>\n",
       "      <td>1</td>\n",
       "      <td>22</td>\n",
       "      <td>9</td>\n",
       "      <td>0</td>\n",
       "      <td>1</td>\n",
       "      <td>0</td>\n",
       "      <td>1</td>\n",
       "      <td>0.0</td>\n",
       "      <td>0.0</td>\n",
       "      <td>3595.894</td>\n",
       "      <td>0.144660</td>\n",
       "    </tr>\n",
       "    <tr>\n",
       "      <th>NSW3</th>\n",
       "      <td>1</td>\n",
       "      <td>30</td>\n",
       "      <td>12</td>\n",
       "      <td>1</td>\n",
       "      <td>0</td>\n",
       "      <td>0</td>\n",
       "      <td>0</td>\n",
       "      <td>0.0</td>\n",
       "      <td>0.0</td>\n",
       "      <td>24909.450</td>\n",
       "      <td>0.722355</td>\n",
       "    </tr>\n",
       "  </tbody>\n",
       "</table>\n",
       "</div>"
      ],
      "text/plain": [
       "      treat  age  educ  black  hispan  married  nodegree  re74  re75  \\\n",
       "id                                                                     \n",
       "NSW1      1   37    11      1       0        1         1   0.0   0.0   \n",
       "NSW2      1   22     9      0       1        0         1   0.0   0.0   \n",
       "NSW3      1   30    12      1       0        0         0   0.0   0.0   \n",
       "\n",
       "           re78     score  \n",
       "id                         \n",
       "NSW1   9930.046  0.443350  \n",
       "NSW2   3595.894  0.144660  \n",
       "NSW3  24909.450  0.722355  "
      ]
     },
     "execution_count": 30,
     "metadata": {},
     "output_type": "execute_result"
    }
   ],
   "source": [
    "score = logistic.predict_proba(X)\n",
    "patients_score_df = patients_df.copy()\n",
    "patients_score_df[\"score\"] = score[:,1]\n",
    "patients_score_df.head(3)"
   ]
  },
  {
   "cell_type": "markdown",
   "metadata": {},
   "source": [
    "The score column give the probability of being treated given the pre-treatment features (all but re78)"
   ]
  },
  {
   "cell_type": "markdown",
   "metadata": {},
   "source": [
    "### 4. Balancing the dataset via matching"
   ]
  },
  {
   "cell_type": "markdown",
   "metadata": {},
   "source": [
    "#### Description\n",
    "Use the propensity scores to match each data point from the treated group with exactly one data point from the control group, while ensuring that each data point from the control group is matched with at most one data point from the treated group. (Hint: you may explore the networkx package in Python for predefined matching functions.)"
   ]
  },
  {
   "cell_type": "markdown",
   "metadata": {},
   "source": [
    "#### Solution\n",
    "\n",
    "First we need to separate the patient treated from the untreated and then see if it match with the propsensity score."
   ]
  },
  {
   "cell_type": "code",
   "execution_count": 31,
   "metadata": {
    "ExecuteTime": {
     "end_time": "2017-11-21T19:04:51.804034Z",
     "start_time": "2017-11-21T19:04:51.782200Z"
    }
   },
   "outputs": [
    {
     "data": {
      "text/html": [
       "<div>\n",
       "<style scoped>\n",
       "    .dataframe tbody tr th:only-of-type {\n",
       "        vertical-align: middle;\n",
       "    }\n",
       "\n",
       "    .dataframe tbody tr th {\n",
       "        vertical-align: top;\n",
       "    }\n",
       "\n",
       "    .dataframe thead th {\n",
       "        text-align: right;\n",
       "    }\n",
       "</style>\n",
       "<table border=\"1\" class=\"dataframe\">\n",
       "  <thead>\n",
       "    <tr style=\"text-align: right;\">\n",
       "      <th></th>\n",
       "      <th>treat</th>\n",
       "      <th>age</th>\n",
       "      <th>educ</th>\n",
       "      <th>black</th>\n",
       "      <th>hispan</th>\n",
       "      <th>married</th>\n",
       "      <th>nodegree</th>\n",
       "      <th>re74</th>\n",
       "      <th>re75</th>\n",
       "      <th>re78</th>\n",
       "      <th>score</th>\n",
       "    </tr>\n",
       "    <tr>\n",
       "      <th>id</th>\n",
       "      <th></th>\n",
       "      <th></th>\n",
       "      <th></th>\n",
       "      <th></th>\n",
       "      <th></th>\n",
       "      <th></th>\n",
       "      <th></th>\n",
       "      <th></th>\n",
       "      <th></th>\n",
       "      <th></th>\n",
       "      <th></th>\n",
       "    </tr>\n",
       "  </thead>\n",
       "  <tbody>\n",
       "    <tr>\n",
       "      <th>NSW1</th>\n",
       "      <td>1</td>\n",
       "      <td>37</td>\n",
       "      <td>11</td>\n",
       "      <td>1</td>\n",
       "      <td>0</td>\n",
       "      <td>1</td>\n",
       "      <td>1</td>\n",
       "      <td>0.0</td>\n",
       "      <td>0.0</td>\n",
       "      <td>9930.0460</td>\n",
       "      <td>0.443350</td>\n",
       "    </tr>\n",
       "    <tr>\n",
       "      <th>NSW2</th>\n",
       "      <td>1</td>\n",
       "      <td>22</td>\n",
       "      <td>9</td>\n",
       "      <td>0</td>\n",
       "      <td>1</td>\n",
       "      <td>0</td>\n",
       "      <td>1</td>\n",
       "      <td>0.0</td>\n",
       "      <td>0.0</td>\n",
       "      <td>3595.8940</td>\n",
       "      <td>0.144660</td>\n",
       "    </tr>\n",
       "    <tr>\n",
       "      <th>NSW3</th>\n",
       "      <td>1</td>\n",
       "      <td>30</td>\n",
       "      <td>12</td>\n",
       "      <td>1</td>\n",
       "      <td>0</td>\n",
       "      <td>0</td>\n",
       "      <td>0</td>\n",
       "      <td>0.0</td>\n",
       "      <td>0.0</td>\n",
       "      <td>24909.4500</td>\n",
       "      <td>0.722355</td>\n",
       "    </tr>\n",
       "    <tr>\n",
       "      <th>NSW4</th>\n",
       "      <td>1</td>\n",
       "      <td>27</td>\n",
       "      <td>11</td>\n",
       "      <td>1</td>\n",
       "      <td>0</td>\n",
       "      <td>0</td>\n",
       "      <td>1</td>\n",
       "      <td>0.0</td>\n",
       "      <td>0.0</td>\n",
       "      <td>7506.1460</td>\n",
       "      <td>0.664151</td>\n",
       "    </tr>\n",
       "    <tr>\n",
       "      <th>NSW5</th>\n",
       "      <td>1</td>\n",
       "      <td>33</td>\n",
       "      <td>8</td>\n",
       "      <td>1</td>\n",
       "      <td>0</td>\n",
       "      <td>0</td>\n",
       "      <td>1</td>\n",
       "      <td>0.0</td>\n",
       "      <td>0.0</td>\n",
       "      <td>289.7899</td>\n",
       "      <td>0.698286</td>\n",
       "    </tr>\n",
       "  </tbody>\n",
       "</table>\n",
       "</div>"
      ],
      "text/plain": [
       "      treat  age  educ  black  hispan  married  nodegree  re74  re75  \\\n",
       "id                                                                     \n",
       "NSW1      1   37    11      1       0        1         1   0.0   0.0   \n",
       "NSW2      1   22     9      0       1        0         1   0.0   0.0   \n",
       "NSW3      1   30    12      1       0        0         0   0.0   0.0   \n",
       "NSW4      1   27    11      1       0        0         1   0.0   0.0   \n",
       "NSW5      1   33     8      1       0        0         1   0.0   0.0   \n",
       "\n",
       "            re78     score  \n",
       "id                          \n",
       "NSW1   9930.0460  0.443350  \n",
       "NSW2   3595.8940  0.144660  \n",
       "NSW3  24909.4500  0.722355  \n",
       "NSW4   7506.1460  0.664151  \n",
       "NSW5    289.7899  0.698286  "
      ]
     },
     "execution_count": 31,
     "metadata": {},
     "output_type": "execute_result"
    }
   ],
   "source": [
    "patients_treated = patients_score_df.loc[patients_score_df['treat'] == 1]\n",
    "patients_not_treated = patients_score_df.loc[patients_score_df['treat'] == 0]\n",
    "patients_treated.head()"
   ]
  },
  {
   "cell_type": "code",
   "execution_count": 32,
   "metadata": {
    "ExecuteTime": {
     "end_time": "2017-11-21T19:04:51.824866Z",
     "start_time": "2017-11-21T19:04:51.807008Z"
    }
   },
   "outputs": [
    {
     "data": {
      "text/html": [
       "<div>\n",
       "<style scoped>\n",
       "    .dataframe tbody tr th:only-of-type {\n",
       "        vertical-align: middle;\n",
       "    }\n",
       "\n",
       "    .dataframe tbody tr th {\n",
       "        vertical-align: top;\n",
       "    }\n",
       "\n",
       "    .dataframe thead th {\n",
       "        text-align: right;\n",
       "    }\n",
       "</style>\n",
       "<table border=\"1\" class=\"dataframe\">\n",
       "  <thead>\n",
       "    <tr style=\"text-align: right;\">\n",
       "      <th></th>\n",
       "      <th>treat</th>\n",
       "      <th>age</th>\n",
       "      <th>educ</th>\n",
       "      <th>black</th>\n",
       "      <th>hispan</th>\n",
       "      <th>married</th>\n",
       "      <th>nodegree</th>\n",
       "      <th>re74</th>\n",
       "      <th>re75</th>\n",
       "      <th>re78</th>\n",
       "      <th>score</th>\n",
       "    </tr>\n",
       "    <tr>\n",
       "      <th>id</th>\n",
       "      <th></th>\n",
       "      <th></th>\n",
       "      <th></th>\n",
       "      <th></th>\n",
       "      <th></th>\n",
       "      <th></th>\n",
       "      <th></th>\n",
       "      <th></th>\n",
       "      <th></th>\n",
       "      <th></th>\n",
       "      <th></th>\n",
       "    </tr>\n",
       "  </thead>\n",
       "  <tbody>\n",
       "    <tr>\n",
       "      <th>PSID1</th>\n",
       "      <td>0</td>\n",
       "      <td>30</td>\n",
       "      <td>12</td>\n",
       "      <td>0</td>\n",
       "      <td>0</td>\n",
       "      <td>1</td>\n",
       "      <td>0</td>\n",
       "      <td>20166.73</td>\n",
       "      <td>18347.23</td>\n",
       "      <td>25564.67</td>\n",
       "      <td>0.050504</td>\n",
       "    </tr>\n",
       "    <tr>\n",
       "      <th>PSID2</th>\n",
       "      <td>0</td>\n",
       "      <td>26</td>\n",
       "      <td>12</td>\n",
       "      <td>0</td>\n",
       "      <td>0</td>\n",
       "      <td>1</td>\n",
       "      <td>0</td>\n",
       "      <td>25862.32</td>\n",
       "      <td>17806.55</td>\n",
       "      <td>25564.67</td>\n",
       "      <td>0.033330</td>\n",
       "    </tr>\n",
       "    <tr>\n",
       "      <th>PSID3</th>\n",
       "      <td>0</td>\n",
       "      <td>25</td>\n",
       "      <td>16</td>\n",
       "      <td>0</td>\n",
       "      <td>0</td>\n",
       "      <td>1</td>\n",
       "      <td>0</td>\n",
       "      <td>25862.32</td>\n",
       "      <td>15316.21</td>\n",
       "      <td>25564.67</td>\n",
       "      <td>0.022574</td>\n",
       "    </tr>\n",
       "    <tr>\n",
       "      <th>PSID4</th>\n",
       "      <td>0</td>\n",
       "      <td>42</td>\n",
       "      <td>11</td>\n",
       "      <td>0</td>\n",
       "      <td>0</td>\n",
       "      <td>1</td>\n",
       "      <td>1</td>\n",
       "      <td>21787.05</td>\n",
       "      <td>14265.29</td>\n",
       "      <td>15491.01</td>\n",
       "      <td>0.024906</td>\n",
       "    </tr>\n",
       "    <tr>\n",
       "      <th>PSID5</th>\n",
       "      <td>0</td>\n",
       "      <td>25</td>\n",
       "      <td>9</td>\n",
       "      <td>1</td>\n",
       "      <td>0</td>\n",
       "      <td>1</td>\n",
       "      <td>1</td>\n",
       "      <td>14829.69</td>\n",
       "      <td>13776.53</td>\n",
       "      <td>0.00</td>\n",
       "      <td>0.416054</td>\n",
       "    </tr>\n",
       "  </tbody>\n",
       "</table>\n",
       "</div>"
      ],
      "text/plain": [
       "       treat  age  educ  black  hispan  married  nodegree      re74      re75  \\\n",
       "id                                                                              \n",
       "PSID1      0   30    12      0       0        1         0  20166.73  18347.23   \n",
       "PSID2      0   26    12      0       0        1         0  25862.32  17806.55   \n",
       "PSID3      0   25    16      0       0        1         0  25862.32  15316.21   \n",
       "PSID4      0   42    11      0       0        1         1  21787.05  14265.29   \n",
       "PSID5      0   25     9      1       0        1         1  14829.69  13776.53   \n",
       "\n",
       "           re78     score  \n",
       "id                         \n",
       "PSID1  25564.67  0.050504  \n",
       "PSID2  25564.67  0.033330  \n",
       "PSID3  25564.67  0.022574  \n",
       "PSID4  15491.01  0.024906  \n",
       "PSID5      0.00  0.416054  "
      ]
     },
     "execution_count": 32,
     "metadata": {},
     "output_type": "execute_result"
    }
   ],
   "source": [
    "patients_not_treated.head()"
   ]
  },
  {
   "cell_type": "code",
   "execution_count": 33,
   "metadata": {
    "ExecuteTime": {
     "end_time": "2017-11-21T19:04:51.832263Z",
     "start_time": "2017-11-21T19:04:51.826992Z"
    }
   },
   "outputs": [
    {
     "data": {
      "text/plain": [
       "185"
      ]
     },
     "execution_count": 33,
     "metadata": {},
     "output_type": "execute_result"
    }
   ],
   "source": [
    "len(patients_treated.index)"
   ]
  },
  {
   "cell_type": "code",
   "execution_count": 34,
   "metadata": {
    "ExecuteTime": {
     "end_time": "2017-11-21T19:04:51.840626Z",
     "start_time": "2017-11-21T19:04:51.835168Z"
    },
    "scrolled": true
   },
   "outputs": [
    {
     "data": {
      "text/plain": [
       "429"
      ]
     },
     "execution_count": 34,
     "metadata": {},
     "output_type": "execute_result"
    }
   ],
   "source": [
    "len(patients_not_treated.index)"
   ]
  },
  {
   "cell_type": "markdown",
   "metadata": {},
   "source": [
    "We can see that there are less the patient treated than not treated. That's why we need to find only 1 match with the untreated patients. <br>\n",
    "To do this, we need to see the distance between each data point from the treated group with exactly one data point from the control group (the not treated ones)."
   ]
  },
  {
   "cell_type": "code",
   "execution_count": 35,
   "metadata": {
    "ExecuteTime": {
     "end_time": "2017-11-21T19:04:51.846671Z",
     "start_time": "2017-11-21T19:04:51.842861Z"
    }
   },
   "outputs": [],
   "source": [
    "#To calculate the distance (here we have 1 axis)\n",
    "def compute_dist(x1, x2):\n",
    "    return np.sqrt(np.power(x1 - x2, 2))"
   ]
  },
  {
   "cell_type": "code",
   "execution_count": 36,
   "metadata": {
    "ExecuteTime": {
     "end_time": "2017-11-21T19:04:51.880472Z",
     "start_time": "2017-11-21T19:04:51.849257Z"
    }
   },
   "outputs": [],
   "source": [
    "def matching_only_one(treated, ntreated, match_score):\n",
    "    matching = []\n",
    "    idx_npatient_used = []\n",
    "    \n",
    "    for patient_idx in treated.index:\n",
    "        patient = treated.loc[patient_idx]\n",
    "        patient_score = patient[match_score]\n",
    "        \n",
    "        min_dist = 10000000 # an arbitrary big number (the distance will be always below)\n",
    "        match = []\n",
    "        \n",
    "        for npatient_idx in ntreated.index:\n",
    "            npatient = ntreated.loc[npatient_idx]\n",
    "            npatient_score = npatient[match_score]\n",
    "            \n",
    "            dist = compute_dist(patient_score, npatient_score)\n",
    "            \n",
    "            if(dist < min_dist):\n",
    "                # we need to look if the untreated patient index was already used\n",
    "                if(npatient_idx not in idx_npatient_used):\n",
    "                    match = [patient_idx, npatient_idx]\n",
    "                    min_dist = dist\n",
    "                    \n",
    "        matching.append(match)\n",
    "        idx_npatient_used.append(match[1])\n",
    "        \n",
    "    return matching   "
   ]
  },
  {
   "cell_type": "code",
   "execution_count": 37,
   "metadata": {
    "ExecuteTime": {
     "end_time": "2017-11-21T19:05:05.086505Z",
     "start_time": "2017-11-21T19:04:51.882944Z"
    }
   },
   "outputs": [],
   "source": [
    "matching = matching_only_one(patients_treated, patients_not_treated, \"score\")"
   ]
  },
  {
   "cell_type": "markdown",
   "metadata": {},
   "source": [
    "Verification that we have only one match and that they are all different"
   ]
  },
  {
   "cell_type": "code",
   "execution_count": 38,
   "metadata": {
    "ExecuteTime": {
     "end_time": "2017-11-21T19:05:05.097867Z",
     "start_time": "2017-11-21T19:05:05.088572Z"
    }
   },
   "outputs": [],
   "source": [
    "def verify_one_match(list_):\n",
    "    for i in range(len(list_)):\n",
    "        psid1 = list_[i][1]\n",
    "        for j in range(len(list_)):\n",
    "            psid2 = list_[j][1]\n",
    "            if(i != j and psid1 == psid2):\n",
    "                return False\n",
    "    \n",
    "    return True\n",
    "                "
   ]
  },
  {
   "cell_type": "code",
   "execution_count": 39,
   "metadata": {
    "ExecuteTime": {
     "end_time": "2017-11-21T19:05:05.110525Z",
     "start_time": "2017-11-21T19:05:05.099440Z"
    }
   },
   "outputs": [
    {
     "data": {
      "text/plain": [
       "True"
      ]
     },
     "execution_count": 39,
     "metadata": {},
     "output_type": "execute_result"
    }
   ],
   "source": [
    "verify_one_match(matching)"
   ]
  },
  {
   "cell_type": "markdown",
   "metadata": {},
   "source": [
    "Now that we have the match we can compare the values of the treated and not treated persons"
   ]
  },
  {
   "cell_type": "code",
   "execution_count": 40,
   "metadata": {
    "ExecuteTime": {
     "end_time": "2017-11-21T19:05:05.121609Z",
     "start_time": "2017-11-21T19:05:05.112422Z"
    }
   },
   "outputs": [
    {
     "data": {
      "text/plain": [
       "count      185.000000\n",
       "mean      6349.143530\n",
       "std       7867.402218\n",
       "min          0.000000\n",
       "25%        485.229800\n",
       "50%       4232.309000\n",
       "75%       9642.999000\n",
       "max      60307.930000\n",
       "Name: re78, dtype: float64"
      ]
     },
     "execution_count": 40,
     "metadata": {},
     "output_type": "execute_result"
    }
   ],
   "source": [
    "patients_treated['re78'].describe()"
   ]
  },
  {
   "cell_type": "code",
   "execution_count": 41,
   "metadata": {
    "ExecuteTime": {
     "end_time": "2017-11-21T19:05:05.135538Z",
     "start_time": "2017-11-21T19:05:05.123509Z"
    }
   },
   "outputs": [
    {
     "data": {
      "text/plain": [
       "count      185.000000\n",
       "mean      5312.474907\n",
       "std       5842.884861\n",
       "min          0.000000\n",
       "25%          0.000000\n",
       "50%       3392.860000\n",
       "75%       7933.914000\n",
       "max      20243.380000\n",
       "Name: re78, dtype: float64"
      ]
     },
     "execution_count": 41,
     "metadata": {},
     "output_type": "execute_result"
    }
   ],
   "source": [
    "patients_not_treated_matched = patients_not_treated.loc[np.array(matching)[:,1]]\n",
    "patients_not_treated_matched['re78'].describe()"
   ]
  },
  {
   "cell_type": "markdown",
   "metadata": {},
   "source": [
    "We can see that they look alike and our conclusion will be better than what we have done before. We can plot them to see the differences."
   ]
  },
  {
   "cell_type": "code",
   "execution_count": 42,
   "metadata": {
    "ExecuteTime": {
     "end_time": "2017-11-21T19:05:05.279879Z",
     "start_time": "2017-11-21T19:05:05.137522Z"
    }
   },
   "outputs": [
    {
     "data": {
      "image/png": "[encoded data removed]",
      "text/plain": [
       "<matplotlib.figure.Figure at 0x10bef0d68>"
      ]
     },
     "metadata": {},
     "output_type": "display_data"
    }
   ],
   "source": [
    "make_boxplot(patients_treated, patients_not_treated_matched, 're78', ['treated', 'not_treated'], ['steelblue', '#5EDF63'])"
   ]
  },
  {
   "cell_type": "markdown",
   "metadata": {},
   "source": [
    "We can see that the plots are very similar and give us better informations about the treated and untreated people.\n",
    "Here with this analysis, we can conclude that the treatment doesn't really work because the real earnings are not higher for the treated persons than the untreated ones. So it seems logical to say that applying for this job training program has no influence. Furthermore, the differences could be caused by economic fluctuations or that maybe a higher salary involves having more experiences and better skills than the training job can bring."
   ]
  },
  {
   "cell_type": "markdown",
   "metadata": {},
   "source": [
    "We can now compare the age, education and the other parameters that we have to see how the repartition of the data looks."
   ]
  },
  {
   "cell_type": "code",
   "execution_count": 43,
   "metadata": {
    "ExecuteTime": {
     "end_time": "2017-11-21T19:05:05.600467Z",
     "start_time": "2017-11-21T19:05:05.281466Z"
    },
    "scrolled": false
   },
   "outputs": [
    {
     "data": {
      "image/png": "[encoded data removed]",
      "text/plain": [
       "<matplotlib.figure.Figure at 0x10bee5da0>"
      ]
     },
     "metadata": {},
     "output_type": "display_data"
    }
   ],
   "source": [
    "shared_plot_by('age', 'hist', patients_treated, patients_not_treated_matched)"
   ]
  },
  {
   "cell_type": "code",
   "execution_count": 44,
   "metadata": {
    "ExecuteTime": {
     "end_time": "2017-11-21T19:05:05.608672Z",
     "start_time": "2017-11-21T19:05:05.602222Z"
    }
   },
   "outputs": [
    {
     "data": {
      "text/plain": [
       "count    185.000000\n",
       "mean      25.816216\n",
       "std        7.155019\n",
       "min       17.000000\n",
       "25%       20.000000\n",
       "50%       25.000000\n",
       "75%       29.000000\n",
       "max       48.000000\n",
       "Name: age, dtype: float64"
      ]
     },
     "execution_count": 44,
     "metadata": {},
     "output_type": "execute_result"
    }
   ],
   "source": [
    "patients_treated['age'].describe()"
   ]
  },
  {
   "cell_type": "code",
   "execution_count": 45,
   "metadata": {
    "ExecuteTime": {
     "end_time": "2017-11-21T19:05:05.617750Z",
     "start_time": "2017-11-21T19:05:05.610374Z"
    },
    "scrolled": true
   },
   "outputs": [
    {
     "data": {
      "text/plain": [
       "count    185.000000\n",
       "mean      23.713514\n",
       "std        9.644726\n",
       "min       16.000000\n",
       "25%       17.000000\n",
       "50%       19.000000\n",
       "75%       26.000000\n",
       "max       55.000000\n",
       "Name: age, dtype: float64"
      ]
     },
     "execution_count": 45,
     "metadata": {},
     "output_type": "execute_result"
    }
   ],
   "source": [
    "patients_not_treated_matched['age'].describe()"
   ]
  },
  {
   "cell_type": "markdown",
   "metadata": {},
   "source": [
    "Now we can see that we have the same number of treated and untreated persons and the distributions of both graph are similar. So we can hope that these changes will leads to very good results. However, we can see that there is still a difference betweeen young people (15-20). There are a lot more of untreated young people than treated. So we will have again bias results but less than with the naive approch. Let's see if it's also the case for the years of educations."
   ]
  },
  {
   "cell_type": "code",
   "execution_count": 46,
   "metadata": {
    "ExecuteTime": {
     "end_time": "2017-11-21T19:05:05.957305Z",
     "start_time": "2017-11-21T19:05:05.620117Z"
    }
   },
   "outputs": [
    {
     "data": {
      "image/png": "[encoded data removed]",
      "text/plain": [
       "<matplotlib.figure.Figure at 0x10c0ca6a0>"
      ]
     },
     "metadata": {},
     "output_type": "display_data"
    }
   ],
   "source": [
    "shared_plot_by('educ', 'hist', patients_treated, patients_not_treated_matched)"
   ]
  },
  {
   "cell_type": "code",
   "execution_count": 47,
   "metadata": {
    "ExecuteTime": {
     "end_time": "2017-11-21T19:05:05.966601Z",
     "start_time": "2017-11-21T19:05:05.959137Z"
    }
   },
   "outputs": [
    {
     "data": {
      "text/plain": [
       "count    185.000000\n",
       "mean      10.345946\n",
       "std        2.010650\n",
       "min        4.000000\n",
       "25%        9.000000\n",
       "50%       11.000000\n",
       "75%       12.000000\n",
       "max       16.000000\n",
       "Name: educ, dtype: float64"
      ]
     },
     "execution_count": 47,
     "metadata": {},
     "output_type": "execute_result"
    }
   ],
   "source": [
    "patients_treated['educ'].describe()"
   ]
  },
  {
   "cell_type": "code",
   "execution_count": 48,
   "metadata": {
    "ExecuteTime": {
     "end_time": "2017-11-21T19:05:05.980847Z",
     "start_time": "2017-11-21T19:05:05.968886Z"
    },
    "scrolled": true
   },
   "outputs": [
    {
     "data": {
      "text/plain": [
       "count    185.000000\n",
       "mean      10.162162\n",
       "std        2.861984\n",
       "min        0.000000\n",
       "25%        9.000000\n",
       "50%       10.000000\n",
       "75%       12.000000\n",
       "max       18.000000\n",
       "Name: educ, dtype: float64"
      ]
     },
     "execution_count": 48,
     "metadata": {},
     "output_type": "execute_result"
    }
   ],
   "source": [
    "patients_not_treated_matched['educ'].describe()"
   ]
  },
  {
   "cell_type": "markdown",
   "metadata": {},
   "source": [
    "Again, the distribution of education for treated and untreated person are similar. These distributions look like gaussians but it's not random so we will have bias on our final results. For example, if we look at the graph, most of the people who studied for a long time (around 10 years) took this job training program. Maybe the reason is that after about 10 years of study, another training can bring or supplement useful skills for a job. <br>\n",
    "However we don't have the same proportion (again) of people for each year of education so this supports our hypothesis that this is a <b>non-random treatment assignment</b>"
   ]
  },
  {
   "cell_type": "code",
   "execution_count": 49,
   "metadata": {
    "ExecuteTime": {
     "end_time": "2017-11-21T19:05:06.276898Z",
     "start_time": "2017-11-21T19:05:05.983597Z"
    }
   },
   "outputs": [
    {
     "data": {
      "image/png": "[encoded data removed]",
      "text/plain": [
       "<matplotlib.figure.Figure at 0x10c15bc18>"
      ]
     },
     "metadata": {},
     "output_type": "display_data"
    }
   ],
   "source": [
    "fig, plot_axes = plt.subplots(1, 2, figsize=(14, 5), sharex=True)\n",
    "nb_index = np.arange(2)\n",
    "col_names = ['nodegree', 'married']\n",
    "\n",
    "result_0, result_1 = col_number(patients_treated, col_names)\n",
    "bar_subplot(plot_axes[0], nb_index, result_0, result_1, 'Ratio of treated persons')\n",
    "\n",
    "result_0, result_1 = col_number(patients_not_treated_matched, col_names)\n",
    "bar_subplot(plot_axes[1], nb_index, result_0, result_1, 'Ratio of untreated persons merged')\n",
    "\n",
    "plt.show()"
   ]
  },
  {
   "cell_type": "markdown",
   "metadata": {},
   "source": [
    "We can see that the proportion of person without a degree is very similar in both groups. However it is still a little bit higher in the treatment group, which one can conclude that if someone has a diploma, he will normally take the training (for more skills). <br>\n",
    "For the married people we can see that the proportions are the same which wasn't the case with the naive approach. This shows that now, we have similar groups with \"similar\" married persons and therefore will lead to better results. However the final result did not depend only on married people and this is why we can't say that this research is a random treatment assignment."
   ]
  },
  {
   "cell_type": "markdown",
   "metadata": {},
   "source": [
    "In this part, we will look at <b>blacks and hispanic</b> and compare the ratios between the two groups"
   ]
  },
  {
   "cell_type": "code",
   "execution_count": 50,
   "metadata": {
    "ExecuteTime": {
     "end_time": "2017-11-21T19:05:06.283544Z",
     "start_time": "2017-11-21T19:05:06.278823Z"
    }
   },
   "outputs": [
    {
     "name": "stdout",
     "output_type": "stream",
     "text": [
      "Percentage of treated black: 0.843243243243\n"
     ]
    }
   ],
   "source": [
    "patient_not_treated_count = len(patients_not_treated_matched)\n",
    "patient_treated_count = len(patients_treated)\n",
    "print(\"Percentage of treated black:\",compute_ratio(patients_treated, 'black', patient_treated_count))"
   ]
  },
  {
   "cell_type": "code",
   "execution_count": 51,
   "metadata": {
    "ExecuteTime": {
     "end_time": "2017-11-21T19:05:06.291675Z",
     "start_time": "2017-11-21T19:05:06.285284Z"
    }
   },
   "outputs": [
    {
     "name": "stdout",
     "output_type": "stream",
     "text": [
      "percentatge of untreated black: 0.47027027027\n"
     ]
    }
   ],
   "source": [
    "print(\"percentatge of untreated black:\",compute_ratio(patients_not_treated_matched, 'black', patient_not_treated_count))"
   ]
  },
  {
   "cell_type": "code",
   "execution_count": 52,
   "metadata": {
    "ExecuteTime": {
     "end_time": "2017-11-21T19:05:06.297970Z",
     "start_time": "2017-11-21T19:05:06.293492Z"
    }
   },
   "outputs": [
    {
     "name": "stdout",
     "output_type": "stream",
     "text": [
      "percentage of treated hispanic: 0.0594594594595\n"
     ]
    }
   ],
   "source": [
    "print(\"percentage of treated hispanic:\",compute_ratio(patients_treated, 'hispan', patient_treated_count))"
   ]
  },
  {
   "cell_type": "code",
   "execution_count": 53,
   "metadata": {
    "ExecuteTime": {
     "end_time": "2017-11-21T19:05:06.304804Z",
     "start_time": "2017-11-21T19:05:06.299965Z"
    }
   },
   "outputs": [
    {
     "name": "stdout",
     "output_type": "stream",
     "text": [
      "percentage of untreated histpanic: 0.118918918919\n"
     ]
    }
   ],
   "source": [
    "print(\"percentage of untreated histpanic:\",compute_ratio(patients_not_treated_matched, 'hispan', patient_not_treated_count))"
   ]
  },
  {
   "cell_type": "markdown",
   "metadata": {},
   "source": [
    "We can see now that the proportion of blacks in the treated group is almost twice as important as the one of the non-treated group. In addition, for Hispanics, we have the same problem, almost twice as much hispanic in the untreated group this time.<br>\n",
    "With these results, we can conclude that since the proportion of blacks and hipanics are not the same in both groups, the final results will not be good. Indeed to have the best results possible, there should be similar proportions. <br>\n",
    "Finally, we can conclude that with all these differences seen previously, this is a <b>non-random treatment assignement</b>"
   ]
  },
  {
   "cell_type": "markdown",
   "metadata": {},
   "source": [
    "### 5. Balancing the groups further"
   ]
  },
  {
   "cell_type": "code",
   "execution_count": 151,
   "metadata": {
    "ExecuteTime": {
     "end_time": "2017-11-21T20:29:40.377524Z",
     "start_time": "2017-11-21T20:29:40.325998Z"
    },
    "scrolled": true
   },
   "outputs": [
    {
     "name": "stdout",
     "output_type": "stream",
     "text": [
      "315\n",
      "299\n"
     ]
    }
   ],
   "source": [
    "logistic = linear_model.LogisticRegression()\n",
    "feature_cols = ['age', 'educ', 'black', 'hispan', 'married', 'nodegree', 're74', 're75']\n",
    "X = patients_df[feature_cols]\n",
    "\n",
    "X_race = X.loc[(X['hispan'] == 1) | (X['black'] == 1)]\n",
    "X_nonrace = X.loc[(X['hispan'] == 0) & (X['black'] == 0)]\n",
    "\n",
    "y_race = patients_df.loc[(patients_df['hispan'] == 1) | (patients_df['black'] == 1)].treat\n",
    "y_nonrace = patients_df.loc[(patients_df['hispan'] == 0) & (patients_df['black'] == 0)].treat\n",
    "\n",
    "logistic.fit(X_race, y_race)\n",
    "logistic.fit(X_nonrace,y_nonrace)\n",
    "\n",
    "score_race = logistic.predict_proba(X_race)\n",
    "patients_score_df_race = patients_df.loc[(X['hispan'] == 1) | (X['black'] == 1)].copy()\n",
    "patients_score_df_race[\"score\"] = score_race[:,1]\n",
    "print(len(patients_score_df_race.index))\n",
    "\n",
    "score_nonrace = logistic.predict_proba(X_nonrace)\n",
    "patients_score_df_nonrace = patients_df.loc[(patients_df['hispan'] == 0) & (patients_df['black'] == 0)].copy()\n",
    "patients_score_df_nonrace[\"score\"] = score_nonrace[:,1]\n",
    "print(len(patients_score_df_nonrace.index))"
   ]
  },
  {
   "cell_type": "code",
   "execution_count": 155,
   "metadata": {
    "ExecuteTime": {
     "end_time": "2017-11-21T20:31:01.197577Z",
     "start_time": "2017-11-21T20:31:01.189756Z"
    }
   },
   "outputs": [],
   "source": [
    "patients_treated_race = patients_score_df_race.loc[patients_score_df_race['treat'] == 1]\n",
    "patients_treated_nonrace = patients_score_df_nonrace.loc[patients_score_df_nonrace['treat'] == 1]\n",
    "\n",
    "patients_not_treated_race = patients_score_df_race.loc[patients_score_df_race['treat'] == 0]\n",
    "patients_not_treated_nonrace = patients_score_df_nonrace.loc[patients_score_df_nonrace['treat'] == 0]"
   ]
  },
  {
   "cell_type": "code",
   "execution_count": 156,
   "metadata": {
    "ExecuteTime": {
     "end_time": "2017-11-21T20:31:01.404615Z",
     "start_time": "2017-11-21T20:31:01.401696Z"
    },
    "scrolled": false
   },
   "outputs": [],
   "source": [
    "#patients_not_treated_nonrace_matched = patients_not_treated_nonrace.loc[np.array(matching)[:,1]]\n",
    "#patients_not_treated_race_matched = patients_not_treated_race.loc[np.array(matching)[:,1]]"
   ]
  },
  {
   "cell_type": "code",
   "execution_count": 157,
   "metadata": {
    "ExecuteTime": {
     "end_time": "2017-11-21T20:31:01.778002Z",
     "start_time": "2017-11-21T20:31:01.773776Z"
    }
   },
   "outputs": [
    {
     "data": {
      "text/plain": [
       "(148, 167)"
      ]
     },
     "execution_count": 157,
     "metadata": {},
     "output_type": "execute_result"
    }
   ],
   "source": [
    "len(patients_not_treated_race.index),len(patients_treated_race.index)"
   ]
  },
  {
   "cell_type": "code",
   "execution_count": 158,
   "metadata": {
    "ExecuteTime": {
     "end_time": "2017-11-21T20:31:02.160468Z",
     "start_time": "2017-11-21T20:31:02.156087Z"
    }
   },
   "outputs": [
    {
     "data": {
      "text/plain": [
       "(281, 18)"
      ]
     },
     "execution_count": 158,
     "metadata": {},
     "output_type": "execute_result"
    }
   ],
   "source": [
    "len(patients_not_treated_nonrace.index),len(patients_treated_nonrace.index)"
   ]
  },
  {
   "cell_type": "code",
   "execution_count": 159,
   "metadata": {
    "ExecuteTime": {
     "end_time": "2017-11-21T20:31:03.070311Z",
     "start_time": "2017-11-21T20:31:02.922259Z"
    }
   },
   "outputs": [
    {
     "data": {
      "image/png": "[encoded data removed]",
      "text/plain": [
       "<matplotlib.figure.Figure at 0x1113732b0>"
      ]
     },
     "metadata": {},
     "output_type": "display_data"
    }
   ],
   "source": [
    "#non race\n",
    "make_boxplot(patients_treated_nonrace, patients_not_treated_nonrace, 're78', ['treated', 'not_treated'], ['steelblue', '#5EDF63'])"
   ]
  },
  {
   "cell_type": "code",
   "execution_count": 160,
   "metadata": {
    "ExecuteTime": {
     "end_time": "2017-11-21T20:31:04.954929Z",
     "start_time": "2017-11-21T20:31:04.915193Z"
    },
    "scrolled": true
   },
   "outputs": [
    {
     "data": {
      "text/html": [
       "<div>\n",
       "<style scoped>\n",
       "    .dataframe tbody tr th:only-of-type {\n",
       "        vertical-align: middle;\n",
       "    }\n",
       "\n",
       "    .dataframe tbody tr th {\n",
       "        vertical-align: top;\n",
       "    }\n",
       "\n",
       "    .dataframe thead th {\n",
       "        text-align: right;\n",
       "    }\n",
       "</style>\n",
       "<table border=\"1\" class=\"dataframe\">\n",
       "  <thead>\n",
       "    <tr style=\"text-align: right;\">\n",
       "      <th></th>\n",
       "      <th>treat</th>\n",
       "      <th>age</th>\n",
       "      <th>educ</th>\n",
       "      <th>black</th>\n",
       "      <th>hispan</th>\n",
       "      <th>married</th>\n",
       "      <th>nodegree</th>\n",
       "      <th>re74</th>\n",
       "      <th>re75</th>\n",
       "      <th>re78</th>\n",
       "      <th>score</th>\n",
       "    </tr>\n",
       "  </thead>\n",
       "  <tbody>\n",
       "    <tr>\n",
       "      <th>count</th>\n",
       "      <td>18.0</td>\n",
       "      <td>18.000000</td>\n",
       "      <td>18.000000</td>\n",
       "      <td>18.0</td>\n",
       "      <td>18.0</td>\n",
       "      <td>18.000000</td>\n",
       "      <td>18.000000</td>\n",
       "      <td>18.000000</td>\n",
       "      <td>18.000000</td>\n",
       "      <td>18.000000</td>\n",
       "      <td>18.000000</td>\n",
       "    </tr>\n",
       "    <tr>\n",
       "      <th>mean</th>\n",
       "      <td>1.0</td>\n",
       "      <td>26.222222</td>\n",
       "      <td>11.000000</td>\n",
       "      <td>0.0</td>\n",
       "      <td>0.0</td>\n",
       "      <td>0.166667</td>\n",
       "      <td>0.500000</td>\n",
       "      <td>1305.036833</td>\n",
       "      <td>1246.532044</td>\n",
       "      <td>7720.992278</td>\n",
       "      <td>0.125032</td>\n",
       "    </tr>\n",
       "    <tr>\n",
       "      <th>std</th>\n",
       "      <td>0.0</td>\n",
       "      <td>7.075688</td>\n",
       "      <td>1.782266</td>\n",
       "      <td>0.0</td>\n",
       "      <td>0.0</td>\n",
       "      <td>0.383482</td>\n",
       "      <td>0.514496</td>\n",
       "      <td>2765.967585</td>\n",
       "      <td>2278.649582</td>\n",
       "      <td>5564.944194</td>\n",
       "      <td>0.057356</td>\n",
       "    </tr>\n",
       "    <tr>\n",
       "      <th>min</th>\n",
       "      <td>1.0</td>\n",
       "      <td>18.000000</td>\n",
       "      <td>7.000000</td>\n",
       "      <td>0.0</td>\n",
       "      <td>0.0</td>\n",
       "      <td>0.000000</td>\n",
       "      <td>0.000000</td>\n",
       "      <td>0.000000</td>\n",
       "      <td>0.000000</td>\n",
       "      <td>0.000000</td>\n",
       "      <td>0.008641</td>\n",
       "    </tr>\n",
       "    <tr>\n",
       "      <th>25%</th>\n",
       "      <td>1.0</td>\n",
       "      <td>21.250000</td>\n",
       "      <td>10.250000</td>\n",
       "      <td>0.0</td>\n",
       "      <td>0.0</td>\n",
       "      <td>0.000000</td>\n",
       "      <td>0.000000</td>\n",
       "      <td>0.000000</td>\n",
       "      <td>0.000000</td>\n",
       "      <td>4254.658000</td>\n",
       "      <td>0.086979</td>\n",
       "    </tr>\n",
       "    <tr>\n",
       "      <th>50%</th>\n",
       "      <td>1.0</td>\n",
       "      <td>24.000000</td>\n",
       "      <td>11.500000</td>\n",
       "      <td>0.0</td>\n",
       "      <td>0.0</td>\n",
       "      <td>0.000000</td>\n",
       "      <td>0.500000</td>\n",
       "      <td>0.000000</td>\n",
       "      <td>0.000000</td>\n",
       "      <td>5998.226500</td>\n",
       "      <td>0.128441</td>\n",
       "    </tr>\n",
       "    <tr>\n",
       "      <th>75%</th>\n",
       "      <td>1.0</td>\n",
       "      <td>30.000000</td>\n",
       "      <td>12.000000</td>\n",
       "      <td>0.0</td>\n",
       "      <td>0.0</td>\n",
       "      <td>0.000000</td>\n",
       "      <td>1.000000</td>\n",
       "      <td>0.000000</td>\n",
       "      <td>1514.751975</td>\n",
       "      <td>12582.537500</td>\n",
       "      <td>0.167226</td>\n",
       "    </tr>\n",
       "    <tr>\n",
       "      <th>max</th>\n",
       "      <td>1.0</td>\n",
       "      <td>41.000000</td>\n",
       "      <td>14.000000</td>\n",
       "      <td>0.0</td>\n",
       "      <td>0.0</td>\n",
       "      <td>1.000000</td>\n",
       "      <td>1.000000</td>\n",
       "      <td>9381.566000</td>\n",
       "      <td>8455.504000</td>\n",
       "      <td>18783.350000</td>\n",
       "      <td>0.210764</td>\n",
       "    </tr>\n",
       "  </tbody>\n",
       "</table>\n",
       "</div>"
      ],
      "text/plain": [
       "       treat        age       educ  black  hispan    married   nodegree  \\\n",
       "count   18.0  18.000000  18.000000   18.0    18.0  18.000000  18.000000   \n",
       "mean     1.0  26.222222  11.000000    0.0     0.0   0.166667   0.500000   \n",
       "std      0.0   7.075688   1.782266    0.0     0.0   0.383482   0.514496   \n",
       "min      1.0  18.000000   7.000000    0.0     0.0   0.000000   0.000000   \n",
       "25%      1.0  21.250000  10.250000    0.0     0.0   0.000000   0.000000   \n",
       "50%      1.0  24.000000  11.500000    0.0     0.0   0.000000   0.500000   \n",
       "75%      1.0  30.000000  12.000000    0.0     0.0   0.000000   1.000000   \n",
       "max      1.0  41.000000  14.000000    0.0     0.0   1.000000   1.000000   \n",
       "\n",
       "              re74         re75          re78      score  \n",
       "count    18.000000    18.000000     18.000000  18.000000  \n",
       "mean   1305.036833  1246.532044   7720.992278   0.125032  \n",
       "std    2765.967585  2278.649582   5564.944194   0.057356  \n",
       "min       0.000000     0.000000      0.000000   0.008641  \n",
       "25%       0.000000     0.000000   4254.658000   0.086979  \n",
       "50%       0.000000     0.000000   5998.226500   0.128441  \n",
       "75%       0.000000  1514.751975  12582.537500   0.167226  \n",
       "max    9381.566000  8455.504000  18783.350000   0.210764  "
      ]
     },
     "execution_count": 160,
     "metadata": {},
     "output_type": "execute_result"
    }
   ],
   "source": [
    "patients_treated_nonrace.describe()"
   ]
  },
  {
   "cell_type": "code",
   "execution_count": 161,
   "metadata": {
    "ExecuteTime": {
     "end_time": "2017-11-21T20:31:05.322290Z",
     "start_time": "2017-11-21T20:31:05.282625Z"
    }
   },
   "outputs": [
    {
     "data": {
      "text/html": [
       "<div>\n",
       "<style scoped>\n",
       "    .dataframe tbody tr th:only-of-type {\n",
       "        vertical-align: middle;\n",
       "    }\n",
       "\n",
       "    .dataframe tbody tr th {\n",
       "        vertical-align: top;\n",
       "    }\n",
       "\n",
       "    .dataframe thead th {\n",
       "        text-align: right;\n",
       "    }\n",
       "</style>\n",
       "<table border=\"1\" class=\"dataframe\">\n",
       "  <thead>\n",
       "    <tr style=\"text-align: right;\">\n",
       "      <th></th>\n",
       "      <th>treat</th>\n",
       "      <th>age</th>\n",
       "      <th>educ</th>\n",
       "      <th>black</th>\n",
       "      <th>hispan</th>\n",
       "      <th>married</th>\n",
       "      <th>nodegree</th>\n",
       "      <th>re74</th>\n",
       "      <th>re75</th>\n",
       "      <th>re78</th>\n",
       "      <th>score</th>\n",
       "    </tr>\n",
       "  </thead>\n",
       "  <tbody>\n",
       "    <tr>\n",
       "      <th>count</th>\n",
       "      <td>167.0</td>\n",
       "      <td>167.000000</td>\n",
       "      <td>167.000000</td>\n",
       "      <td>167.000000</td>\n",
       "      <td>167.000000</td>\n",
       "      <td>167.000000</td>\n",
       "      <td>167.000000</td>\n",
       "      <td>167.000000</td>\n",
       "      <td>167.000000</td>\n",
       "      <td>167.000000</td>\n",
       "      <td>167.000000</td>\n",
       "    </tr>\n",
       "    <tr>\n",
       "      <th>mean</th>\n",
       "      <td>1.0</td>\n",
       "      <td>25.772455</td>\n",
       "      <td>10.275449</td>\n",
       "      <td>0.934132</td>\n",
       "      <td>0.065868</td>\n",
       "      <td>0.191617</td>\n",
       "      <td>0.730539</td>\n",
       "      <td>2180.781254</td>\n",
       "      <td>1562.830277</td>\n",
       "      <td>6201.279593</td>\n",
       "      <td>0.108458</td>\n",
       "    </tr>\n",
       "    <tr>\n",
       "      <th>std</th>\n",
       "      <td>0.0</td>\n",
       "      <td>7.183211</td>\n",
       "      <td>2.025930</td>\n",
       "      <td>0.248798</td>\n",
       "      <td>0.248798</td>\n",
       "      <td>0.394757</td>\n",
       "      <td>0.445014</td>\n",
       "      <td>5060.611782</td>\n",
       "      <td>3308.445089</td>\n",
       "      <td>8075.276226</td>\n",
       "      <td>0.057072</td>\n",
       "    </tr>\n",
       "    <tr>\n",
       "      <th>min</th>\n",
       "      <td>1.0</td>\n",
       "      <td>17.000000</td>\n",
       "      <td>4.000000</td>\n",
       "      <td>0.000000</td>\n",
       "      <td>0.000000</td>\n",
       "      <td>0.000000</td>\n",
       "      <td>0.000000</td>\n",
       "      <td>0.000000</td>\n",
       "      <td>0.000000</td>\n",
       "      <td>0.000000</td>\n",
       "      <td>0.000021</td>\n",
       "    </tr>\n",
       "    <tr>\n",
       "      <th>25%</th>\n",
       "      <td>1.0</td>\n",
       "      <td>20.000000</td>\n",
       "      <td>9.000000</td>\n",
       "      <td>1.000000</td>\n",
       "      <td>0.000000</td>\n",
       "      <td>0.000000</td>\n",
       "      <td>0.000000</td>\n",
       "      <td>0.000000</td>\n",
       "      <td>0.000000</td>\n",
       "      <td>0.000000</td>\n",
       "      <td>0.056408</td>\n",
       "    </tr>\n",
       "    <tr>\n",
       "      <th>50%</th>\n",
       "      <td>1.0</td>\n",
       "      <td>25.000000</td>\n",
       "      <td>11.000000</td>\n",
       "      <td>1.000000</td>\n",
       "      <td>0.000000</td>\n",
       "      <td>0.000000</td>\n",
       "      <td>1.000000</td>\n",
       "      <td>0.000000</td>\n",
       "      <td>0.000000</td>\n",
       "      <td>3972.540000</td>\n",
       "      <td>0.117253</td>\n",
       "    </tr>\n",
       "    <tr>\n",
       "      <th>75%</th>\n",
       "      <td>1.0</td>\n",
       "      <td>29.000000</td>\n",
       "      <td>12.000000</td>\n",
       "      <td>1.000000</td>\n",
       "      <td>0.000000</td>\n",
       "      <td>0.000000</td>\n",
       "      <td>1.000000</td>\n",
       "      <td>1379.908000</td>\n",
       "      <td>2052.979500</td>\n",
       "      <td>9464.769000</td>\n",
       "      <td>0.145377</td>\n",
       "    </tr>\n",
       "    <tr>\n",
       "      <th>max</th>\n",
       "      <td>1.0</td>\n",
       "      <td>48.000000</td>\n",
       "      <td>16.000000</td>\n",
       "      <td>1.000000</td>\n",
       "      <td>1.000000</td>\n",
       "      <td>1.000000</td>\n",
       "      <td>1.000000</td>\n",
       "      <td>35040.070000</td>\n",
       "      <td>25142.240000</td>\n",
       "      <td>60307.930000</td>\n",
       "      <td>0.206080</td>\n",
       "    </tr>\n",
       "  </tbody>\n",
       "</table>\n",
       "</div>"
      ],
      "text/plain": [
       "       treat         age        educ       black      hispan     married  \\\n",
       "count  167.0  167.000000  167.000000  167.000000  167.000000  167.000000   \n",
       "mean     1.0   25.772455   10.275449    0.934132    0.065868    0.191617   \n",
       "std      0.0    7.183211    2.025930    0.248798    0.248798    0.394757   \n",
       "min      1.0   17.000000    4.000000    0.000000    0.000000    0.000000   \n",
       "25%      1.0   20.000000    9.000000    1.000000    0.000000    0.000000   \n",
       "50%      1.0   25.000000   11.000000    1.000000    0.000000    0.000000   \n",
       "75%      1.0   29.000000   12.000000    1.000000    0.000000    0.000000   \n",
       "max      1.0   48.000000   16.000000    1.000000    1.000000    1.000000   \n",
       "\n",
       "         nodegree          re74          re75          re78       score  \n",
       "count  167.000000    167.000000    167.000000    167.000000  167.000000  \n",
       "mean     0.730539   2180.781254   1562.830277   6201.279593    0.108458  \n",
       "std      0.445014   5060.611782   3308.445089   8075.276226    0.057072  \n",
       "min      0.000000      0.000000      0.000000      0.000000    0.000021  \n",
       "25%      0.000000      0.000000      0.000000      0.000000    0.056408  \n",
       "50%      1.000000      0.000000      0.000000   3972.540000    0.117253  \n",
       "75%      1.000000   1379.908000   2052.979500   9464.769000    0.145377  \n",
       "max      1.000000  35040.070000  25142.240000  60307.930000    0.206080  "
      ]
     },
     "execution_count": 161,
     "metadata": {},
     "output_type": "execute_result"
    }
   ],
   "source": [
    "patients_treated_race.describe()"
   ]
  },
  {
   "cell_type": "code",
   "execution_count": 162,
   "metadata": {
    "ExecuteTime": {
     "end_time": "2017-11-21T20:31:05.728203Z",
     "start_time": "2017-11-21T20:31:05.557880Z"
    }
   },
   "outputs": [
    {
     "data": {
      "image/png": "[encoded data removed]",
      "text/plain": [
       "<matplotlib.figure.Figure at 0x110c03a90>"
      ]
     },
     "metadata": {},
     "output_type": "display_data"
    }
   ],
   "source": [
    "#race\n",
    "make_boxplot(patients_treated_race, patients_not_treated_race, 're78', ['treated', 'not_treated'], ['steelblue', '#5EDF63'])"
   ]
  },
  {
   "cell_type": "markdown",
   "metadata": {},
   "source": [
    "### 6. A less naive analysis"
   ]
  },
  {
   "cell_type": "code",
   "execution_count": null,
   "metadata": {},
   "outputs": [],
   "source": []
  },
  {
   "cell_type": "markdown",
   "metadata": {},
   "source": [
    "### Task 2.1"
   ]
  },
  {
   "cell_type": "markdown",
   "metadata": {},
   "source": [
    "#### Description\n",
    "Load the 20newsgroup dataset. It is, again, a classic dataset that can directly be loaded using sklearn ([link](http://scikit-learn.org/stable/datasets/twenty_newsgroups.html)).  \n",
    "[TF-IDF](https://en.wikipedia.org/wiki/Tf%E2%80%93idf), short for term frequency–inverse document frequency, is of great help when if comes to compute textual features. Indeed, it gives more importance to terms that are more specific to the considered articles (TF) but reduces the importance of terms that are very frequent in the entire corpus (IDF). Compute TF-IDF features for every article using [TfidfVectorizer](http://scikit-learn.org/stable/modules/generated/sklearn.feature_extraction.text.TfidfVectorizer.html). Then, split your dataset into a training, a testing and a validation set (10% for validation and 10% for testing). Each observation should be paired with its corresponding label (the article category)."
   ]
  },
  {
   "cell_type": "markdown",
   "metadata": {},
   "source": [
    "#### Solution\n",
    "We start by loading the dataset"
   ]
  },
  {
   "cell_type": "code",
   "execution_count": 55,
   "metadata": {
    "ExecuteTime": {
     "end_time": "2017-11-21T19:05:07.653051Z",
     "start_time": "2017-11-21T19:05:06.332718Z"
    }
   },
   "outputs": [],
   "source": [
    "from sklearn.datasets import fetch_20newsgroups\n",
    "# Retrieve data\n",
    "news_data = fetch_20newsgroups(remove=('headers', 'footers', 'quotes'))"
   ]
  },
  {
   "cell_type": "code",
   "execution_count": 56,
   "metadata": {
    "ExecuteTime": {
     "end_time": "2017-11-21T19:05:07.658951Z",
     "start_time": "2017-11-21T19:05:07.654530Z"
    }
   },
   "outputs": [
    {
     "data": {
      "text/plain": [
       "'I was wondering if anyone out there could enlighten me on this car I saw\\nthe other day. It was a 2-door sports car, looked to be from the late 60s/\\nearly 70s. It was called a Bricklin. The doors were really small. In addition,\\nthe front bumper was separate from the rest of the body. This is \\nall I know. If anyone can tellme a model name, engine specs, years\\nof production, where this car is made, history, or whatever info you\\nhave on this funky looking car, please e-mail.'"
      ]
     },
     "execution_count": 56,
     "metadata": {},
     "output_type": "execute_result"
    }
   ],
   "source": [
    "# See what an element looks like\n",
    "news_data['data'][0]"
   ]
  },
  {
   "cell_type": "code",
   "execution_count": 57,
   "metadata": {
    "ExecuteTime": {
     "end_time": "2017-11-21T19:05:09.893888Z",
     "start_time": "2017-11-21T19:05:07.660930Z"
    }
   },
   "outputs": [],
   "source": [
    "from sklearn.feature_extraction.text import TfidfVectorizer\n",
    "vectorizer = TfidfVectorizer(sublinear_tf=True, max_df=0.5,\n",
    "                                 stop_words='english')\n",
    "vectors = vectorizer.fit_transform(news_data.data)"
   ]
  },
  {
   "cell_type": "markdown",
   "metadata": {},
   "source": [
    "Now we can get the idf by calling vectorizer attribute idf_"
   ]
  },
  {
   "cell_type": "code",
   "execution_count": 58,
   "metadata": {
    "ExecuteTime": {
     "end_time": "2017-11-21T19:05:09.901232Z",
     "start_time": "2017-11-21T19:05:09.896376Z"
    }
   },
   "outputs": [
    {
     "data": {
      "text/plain": [
       "<11314x101322 sparse matrix of type '<class 'numpy.float64'>'\n",
       "\twith 755809 stored elements in Compressed Sparse Row format>"
      ]
     },
     "execution_count": 58,
     "metadata": {},
     "output_type": "execute_result"
    }
   ],
   "source": [
    "vectors"
   ]
  },
  {
   "cell_type": "markdown",
   "metadata": {},
   "source": [
    "We can also see the details by calling \"vectorizer.vocabulary_\" but there is a loss of values"
   ]
  },
  {
   "cell_type": "code",
   "execution_count": 59,
   "metadata": {
    "ExecuteTime": {
     "end_time": "2017-11-21T19:05:09.910897Z",
     "start_time": "2017-11-21T19:05:09.903539Z"
    }
   },
   "outputs": [
    {
     "data": {
      "text/plain": [
       "array([7, 4, 4, ..., 3, 1, 8])"
      ]
     },
     "execution_count": 59,
     "metadata": {},
     "output_type": "execute_result"
    }
   ],
   "source": [
    "news_data.target"
   ]
  },
  {
   "cell_type": "code",
   "execution_count": 60,
   "metadata": {
    "ExecuteTime": {
     "end_time": "2017-11-21T19:05:12.050768Z",
     "start_time": "2017-11-21T19:05:09.913288Z"
    }
   },
   "outputs": [],
   "source": [
    "vectorizer = TfidfVectorizer(sublinear_tf=True, max_df=0.5,stop_words='english')\n",
    "data_vec = vectorizer.fit_transform(news_data.data)"
   ]
  },
  {
   "cell_type": "code",
   "execution_count": 61,
   "metadata": {
    "ExecuteTime": {
     "end_time": "2017-11-21T19:05:12.078117Z",
     "start_time": "2017-11-21T19:05:12.052537Z"
    }
   },
   "outputs": [
    {
     "data": {
      "text/plain": [
       "(9051,)"
      ]
     },
     "execution_count": 61,
     "metadata": {},
     "output_type": "execute_result"
    }
   ],
   "source": [
    "from sklearn.model_selection import train_test_split\n",
    "# Split the data to have 80% train, 20% test and val\n",
    "x_train, x_test_val, y_train, y_test_val = train_test_split(data_vec, news_data.target, test_size = 0.2)\n",
    "# Split test and val to have 10% each\n",
    "x_test, x_val, y_test, y_val = train_test_split(x_test_val, y_test_val, test_size = 0.5)\n",
    "np.shape(y_train) "
   ]
  },
  {
   "cell_type": "code",
   "execution_count": 62,
   "metadata": {
    "ExecuteTime": {
     "end_time": "2017-11-21T19:05:12.083753Z",
     "start_time": "2017-11-21T19:05:12.080433Z"
    }
   },
   "outputs": [],
   "source": [
    "def mse(pred, target):\n",
    "    e = pred - target\n",
    "    return e@e"
   ]
  },
  {
   "cell_type": "code",
   "execution_count": 63,
   "metadata": {
    "ExecuteTime": {
     "end_time": "2017-11-21T19:05:12.089237Z",
     "start_time": "2017-11-21T19:05:12.085311Z"
    }
   },
   "outputs": [
    {
     "data": {
      "text/plain": [
       "(2263, 101322)"
      ]
     },
     "execution_count": 63,
     "metadata": {},
     "output_type": "execute_result"
    }
   ],
   "source": [
    "np.shape(x_test_val)"
   ]
  },
  {
   "cell_type": "code",
   "execution_count": 64,
   "metadata": {
    "ExecuteTime": {
     "end_time": "2017-11-21T19:05:12.096309Z",
     "start_time": "2017-11-21T19:05:12.091012Z"
    }
   },
   "outputs": [
    {
     "data": {
      "text/plain": [
       "(9051, 101322)"
      ]
     },
     "execution_count": 64,
     "metadata": {},
     "output_type": "execute_result"
    }
   ],
   "source": [
    "np.shape(x_train)"
   ]
  },
  {
   "cell_type": "code",
   "execution_count": 65,
   "metadata": {
    "ExecuteTime": {
     "end_time": "2017-11-21T19:07:44.211782Z",
     "start_time": "2017-11-21T19:05:12.098299Z"
    }
   },
   "outputs": [
    {
     "ename": "KeyboardInterrupt",
     "evalue": "",
     "output_type": "error",
     "traceback": [
      "\u001b[0;31m---------------------------------------------------------------------------\u001b[0m",
      "\u001b[0;31mKeyboardInterrupt\u001b[0m                         Traceback (most recent call last)",
      "\u001b[0;32m<ipython-input-65-a9da9f65477d>\u001b[0m in \u001b[0;36m<module>\u001b[0;34m()\u001b[0m\n\u001b[1;32m      6\u001b[0m     \u001b[0;32mfor\u001b[0m \u001b[0mdepth\u001b[0m \u001b[0;32min\u001b[0m \u001b[0mrange\u001b[0m\u001b[0;34m(\u001b[0m\u001b[0;36m1\u001b[0m\u001b[0;34m,\u001b[0m \u001b[0;36m8\u001b[0m\u001b[0;34m)\u001b[0m\u001b[0;34m:\u001b[0m\u001b[0;34m\u001b[0m\u001b[0m\n\u001b[1;32m      7\u001b[0m         \u001b[0mregr\u001b[0m \u001b[0;34m=\u001b[0m \u001b[0mRandomForestRegressor\u001b[0m\u001b[0;34m(\u001b[0m\u001b[0mn_estimators\u001b[0m\u001b[0;34m=\u001b[0m\u001b[0mestim\u001b[0m\u001b[0;34m,\u001b[0m \u001b[0mmax_depth\u001b[0m\u001b[0;34m=\u001b[0m\u001b[0mdepth\u001b[0m\u001b[0;34m)\u001b[0m\u001b[0;34m\u001b[0m\u001b[0m\n\u001b[0;32m----> 8\u001b[0;31m         \u001b[0mX_train\u001b[0m \u001b[0;34m=\u001b[0m \u001b[0mregr\u001b[0m\u001b[0;34m.\u001b[0m\u001b[0mfit\u001b[0m\u001b[0;34m(\u001b[0m\u001b[0mx_train\u001b[0m\u001b[0;34m,\u001b[0m \u001b[0my_train\u001b[0m\u001b[0;34m)\u001b[0m\u001b[0;34m\u001b[0m\u001b[0m\n\u001b[0m\u001b[1;32m      9\u001b[0m         \u001b[0mpred\u001b[0m \u001b[0;34m=\u001b[0m \u001b[0mregr\u001b[0m\u001b[0;34m.\u001b[0m\u001b[0mpredict\u001b[0m\u001b[0;34m(\u001b[0m\u001b[0mx_val\u001b[0m\u001b[0;34m)\u001b[0m\u001b[0;34m\u001b[0m\u001b[0m\n\u001b[1;32m     10\u001b[0m         \u001b[0merror\u001b[0m \u001b[0;34m=\u001b[0m \u001b[0mmse\u001b[0m\u001b[0;34m(\u001b[0m\u001b[0mpred\u001b[0m\u001b[0;34m,\u001b[0m \u001b[0my_val\u001b[0m\u001b[0;34m)\u001b[0m\u001b[0;34m\u001b[0m\u001b[0m\n",
      "\u001b[0;32m/usr/local/lib/python3.6/site-packages/sklearn/ensemble/forest.py\u001b[0m in \u001b[0;36mfit\u001b[0;34m(self, X, y, sample_weight)\u001b[0m\n\u001b[1;32m    326\u001b[0m                     \u001b[0mt\u001b[0m\u001b[0;34m,\u001b[0m \u001b[0mself\u001b[0m\u001b[0;34m,\u001b[0m \u001b[0mX\u001b[0m\u001b[0;34m,\u001b[0m \u001b[0my\u001b[0m\u001b[0;34m,\u001b[0m \u001b[0msample_weight\u001b[0m\u001b[0;34m,\u001b[0m \u001b[0mi\u001b[0m\u001b[0;34m,\u001b[0m \u001b[0mlen\u001b[0m\u001b[0;34m(\u001b[0m\u001b[0mtrees\u001b[0m\u001b[0;34m)\u001b[0m\u001b[0;34m,\u001b[0m\u001b[0;34m\u001b[0m\u001b[0m\n\u001b[1;32m    327\u001b[0m                     verbose=self.verbose, class_weight=self.class_weight)\n\u001b[0;32m--> 328\u001b[0;31m                 for i, t in enumerate(trees))\n\u001b[0m\u001b[1;32m    329\u001b[0m \u001b[0;34m\u001b[0m\u001b[0m\n\u001b[1;32m    330\u001b[0m             \u001b[0;31m# Collect newly grown trees\u001b[0m\u001b[0;34m\u001b[0m\u001b[0;34m\u001b[0m\u001b[0m\n",
      "\u001b[0;32m/usr/local/lib/python3.6/site-packages/sklearn/externals/joblib/parallel.py\u001b[0m in \u001b[0;36m__call__\u001b[0;34m(self, iterable)\u001b[0m\n\u001b[1;32m    777\u001b[0m             \u001b[0;31m# was dispatched. In particular this covers the edge\u001b[0m\u001b[0;34m\u001b[0m\u001b[0;34m\u001b[0m\u001b[0m\n\u001b[1;32m    778\u001b[0m             \u001b[0;31m# case of Parallel used with an exhausted iterator.\u001b[0m\u001b[0;34m\u001b[0m\u001b[0;34m\u001b[0m\u001b[0m\n\u001b[0;32m--> 779\u001b[0;31m             \u001b[0;32mwhile\u001b[0m \u001b[0mself\u001b[0m\u001b[0;34m.\u001b[0m\u001b[0mdispatch_one_batch\u001b[0m\u001b[0;34m(\u001b[0m\u001b[0miterator\u001b[0m\u001b[0;34m)\u001b[0m\u001b[0;34m:\u001b[0m\u001b[0;34m\u001b[0m\u001b[0m\n\u001b[0m\u001b[1;32m    780\u001b[0m                 \u001b[0mself\u001b[0m\u001b[0;34m.\u001b[0m\u001b[0m_iterating\u001b[0m \u001b[0;34m=\u001b[0m \u001b[0;32mTrue\u001b[0m\u001b[0;34m\u001b[0m\u001b[0m\n\u001b[1;32m    781\u001b[0m             \u001b[0;32melse\u001b[0m\u001b[0;34m:\u001b[0m\u001b[0;34m\u001b[0m\u001b[0m\n",
      "\u001b[0;32m/usr/local/lib/python3.6/site-packages/sklearn/externals/joblib/parallel.py\u001b[0m in \u001b[0;36mdispatch_one_batch\u001b[0;34m(self, iterator)\u001b[0m\n\u001b[1;32m    623\u001b[0m                 \u001b[0;32mreturn\u001b[0m \u001b[0;32mFalse\u001b[0m\u001b[0;34m\u001b[0m\u001b[0m\n\u001b[1;32m    624\u001b[0m             \u001b[0;32melse\u001b[0m\u001b[0;34m:\u001b[0m\u001b[0;34m\u001b[0m\u001b[0m\n\u001b[0;32m--> 625\u001b[0;31m                 \u001b[0mself\u001b[0m\u001b[0;34m.\u001b[0m\u001b[0m_dispatch\u001b[0m\u001b[0;34m(\u001b[0m\u001b[0mtasks\u001b[0m\u001b[0;34m)\u001b[0m\u001b[0;34m\u001b[0m\u001b[0m\n\u001b[0m\u001b[1;32m    626\u001b[0m                 \u001b[0;32mreturn\u001b[0m \u001b[0;32mTrue\u001b[0m\u001b[0;34m\u001b[0m\u001b[0m\n\u001b[1;32m    627\u001b[0m \u001b[0;34m\u001b[0m\u001b[0m\n",
      "\u001b[0;32m/usr/local/lib/python3.6/site-packages/sklearn/externals/joblib/parallel.py\u001b[0m in \u001b[0;36m_dispatch\u001b[0;34m(self, batch)\u001b[0m\n\u001b[1;32m    586\u001b[0m         \u001b[0mdispatch_timestamp\u001b[0m \u001b[0;34m=\u001b[0m \u001b[0mtime\u001b[0m\u001b[0;34m.\u001b[0m\u001b[0mtime\u001b[0m\u001b[0;34m(\u001b[0m\u001b[0;34m)\u001b[0m\u001b[0;34m\u001b[0m\u001b[0m\n\u001b[1;32m    587\u001b[0m         \u001b[0mcb\u001b[0m \u001b[0;34m=\u001b[0m \u001b[0mBatchCompletionCallBack\u001b[0m\u001b[0;34m(\u001b[0m\u001b[0mdispatch_timestamp\u001b[0m\u001b[0;34m,\u001b[0m \u001b[0mlen\u001b[0m\u001b[0;34m(\u001b[0m\u001b[0mbatch\u001b[0m\u001b[0;34m)\u001b[0m\u001b[0;34m,\u001b[0m \u001b[0mself\u001b[0m\u001b[0;34m)\u001b[0m\u001b[0;34m\u001b[0m\u001b[0m\n\u001b[0;32m--> 588\u001b[0;31m         \u001b[0mjob\u001b[0m \u001b[0;34m=\u001b[0m \u001b[0mself\u001b[0m\u001b[0;34m.\u001b[0m\u001b[0m_backend\u001b[0m\u001b[0;34m.\u001b[0m\u001b[0mapply_async\u001b[0m\u001b[0;34m(\u001b[0m\u001b[0mbatch\u001b[0m\u001b[0;34m,\u001b[0m \u001b[0mcallback\u001b[0m\u001b[0;34m=\u001b[0m\u001b[0mcb\u001b[0m\u001b[0;34m)\u001b[0m\u001b[0;34m\u001b[0m\u001b[0m\n\u001b[0m\u001b[1;32m    589\u001b[0m         \u001b[0mself\u001b[0m\u001b[0;34m.\u001b[0m\u001b[0m_jobs\u001b[0m\u001b[0;34m.\u001b[0m\u001b[0mappend\u001b[0m\u001b[0;34m(\u001b[0m\u001b[0mjob\u001b[0m\u001b[0;34m)\u001b[0m\u001b[0;34m\u001b[0m\u001b[0m\n\u001b[1;32m    590\u001b[0m \u001b[0;34m\u001b[0m\u001b[0m\n",
      "\u001b[0;32m/usr/local/lib/python3.6/site-packages/sklearn/externals/joblib/_parallel_backends.py\u001b[0m in \u001b[0;36mapply_async\u001b[0;34m(self, func, callback)\u001b[0m\n\u001b[1;32m    109\u001b[0m     \u001b[0;32mdef\u001b[0m \u001b[0mapply_async\u001b[0m\u001b[0;34m(\u001b[0m\u001b[0mself\u001b[0m\u001b[0;34m,\u001b[0m \u001b[0mfunc\u001b[0m\u001b[0;34m,\u001b[0m \u001b[0mcallback\u001b[0m\u001b[0;34m=\u001b[0m\u001b[0;32mNone\u001b[0m\u001b[0;34m)\u001b[0m\u001b[0;34m:\u001b[0m\u001b[0;34m\u001b[0m\u001b[0m\n\u001b[1;32m    110\u001b[0m         \u001b[0;34m\"\"\"Schedule a func to be run\"\"\"\u001b[0m\u001b[0;34m\u001b[0m\u001b[0m\n\u001b[0;32m--> 111\u001b[0;31m         \u001b[0mresult\u001b[0m \u001b[0;34m=\u001b[0m \u001b[0mImmediateResult\u001b[0m\u001b[0;34m(\u001b[0m\u001b[0mfunc\u001b[0m\u001b[0;34m)\u001b[0m\u001b[0;34m\u001b[0m\u001b[0m\n\u001b[0m\u001b[1;32m    112\u001b[0m         \u001b[0;32mif\u001b[0m \u001b[0mcallback\u001b[0m\u001b[0;34m:\u001b[0m\u001b[0;34m\u001b[0m\u001b[0m\n\u001b[1;32m    113\u001b[0m             \u001b[0mcallback\u001b[0m\u001b[0;34m(\u001b[0m\u001b[0mresult\u001b[0m\u001b[0;34m)\u001b[0m\u001b[0;34m\u001b[0m\u001b[0m\n",
      "\u001b[0;32m/usr/local/lib/python3.6/site-packages/sklearn/externals/joblib/_parallel_backends.py\u001b[0m in \u001b[0;36m__init__\u001b[0;34m(self, batch)\u001b[0m\n\u001b[1;32m    330\u001b[0m         \u001b[0;31m# Don't delay the application, to avoid keeping the input\u001b[0m\u001b[0;34m\u001b[0m\u001b[0;34m\u001b[0m\u001b[0m\n\u001b[1;32m    331\u001b[0m         \u001b[0;31m# arguments in memory\u001b[0m\u001b[0;34m\u001b[0m\u001b[0;34m\u001b[0m\u001b[0m\n\u001b[0;32m--> 332\u001b[0;31m         \u001b[0mself\u001b[0m\u001b[0;34m.\u001b[0m\u001b[0mresults\u001b[0m \u001b[0;34m=\u001b[0m \u001b[0mbatch\u001b[0m\u001b[0;34m(\u001b[0m\u001b[0;34m)\u001b[0m\u001b[0;34m\u001b[0m\u001b[0m\n\u001b[0m\u001b[1;32m    333\u001b[0m \u001b[0;34m\u001b[0m\u001b[0m\n\u001b[1;32m    334\u001b[0m     \u001b[0;32mdef\u001b[0m \u001b[0mget\u001b[0m\u001b[0;34m(\u001b[0m\u001b[0mself\u001b[0m\u001b[0;34m)\u001b[0m\u001b[0;34m:\u001b[0m\u001b[0;34m\u001b[0m\u001b[0m\n",
      "\u001b[0;32m/usr/local/lib/python3.6/site-packages/sklearn/externals/joblib/parallel.py\u001b[0m in \u001b[0;36m__call__\u001b[0;34m(self)\u001b[0m\n\u001b[1;32m    129\u001b[0m \u001b[0;34m\u001b[0m\u001b[0m\n\u001b[1;32m    130\u001b[0m     \u001b[0;32mdef\u001b[0m \u001b[0m__call__\u001b[0m\u001b[0;34m(\u001b[0m\u001b[0mself\u001b[0m\u001b[0;34m)\u001b[0m\u001b[0;34m:\u001b[0m\u001b[0;34m\u001b[0m\u001b[0m\n\u001b[0;32m--> 131\u001b[0;31m         \u001b[0;32mreturn\u001b[0m \u001b[0;34m[\u001b[0m\u001b[0mfunc\u001b[0m\u001b[0;34m(\u001b[0m\u001b[0;34m*\u001b[0m\u001b[0margs\u001b[0m\u001b[0;34m,\u001b[0m \u001b[0;34m**\u001b[0m\u001b[0mkwargs\u001b[0m\u001b[0;34m)\u001b[0m \u001b[0;32mfor\u001b[0m \u001b[0mfunc\u001b[0m\u001b[0;34m,\u001b[0m \u001b[0margs\u001b[0m\u001b[0;34m,\u001b[0m \u001b[0mkwargs\u001b[0m \u001b[0;32min\u001b[0m \u001b[0mself\u001b[0m\u001b[0;34m.\u001b[0m\u001b[0mitems\u001b[0m\u001b[0;34m]\u001b[0m\u001b[0;34m\u001b[0m\u001b[0m\n\u001b[0m\u001b[1;32m    132\u001b[0m \u001b[0;34m\u001b[0m\u001b[0m\n\u001b[1;32m    133\u001b[0m     \u001b[0;32mdef\u001b[0m \u001b[0m__len__\u001b[0m\u001b[0;34m(\u001b[0m\u001b[0mself\u001b[0m\u001b[0;34m)\u001b[0m\u001b[0;34m:\u001b[0m\u001b[0;34m\u001b[0m\u001b[0m\n",
      "\u001b[0;32m/usr/local/lib/python3.6/site-packages/sklearn/externals/joblib/parallel.py\u001b[0m in \u001b[0;36m<listcomp>\u001b[0;34m(.0)\u001b[0m\n\u001b[1;32m    129\u001b[0m \u001b[0;34m\u001b[0m\u001b[0m\n\u001b[1;32m    130\u001b[0m     \u001b[0;32mdef\u001b[0m \u001b[0m__call__\u001b[0m\u001b[0;34m(\u001b[0m\u001b[0mself\u001b[0m\u001b[0;34m)\u001b[0m\u001b[0;34m:\u001b[0m\u001b[0;34m\u001b[0m\u001b[0m\n\u001b[0;32m--> 131\u001b[0;31m         \u001b[0;32mreturn\u001b[0m \u001b[0;34m[\u001b[0m\u001b[0mfunc\u001b[0m\u001b[0;34m(\u001b[0m\u001b[0;34m*\u001b[0m\u001b[0margs\u001b[0m\u001b[0;34m,\u001b[0m \u001b[0;34m**\u001b[0m\u001b[0mkwargs\u001b[0m\u001b[0;34m)\u001b[0m \u001b[0;32mfor\u001b[0m \u001b[0mfunc\u001b[0m\u001b[0;34m,\u001b[0m \u001b[0margs\u001b[0m\u001b[0;34m,\u001b[0m \u001b[0mkwargs\u001b[0m \u001b[0;32min\u001b[0m \u001b[0mself\u001b[0m\u001b[0;34m.\u001b[0m\u001b[0mitems\u001b[0m\u001b[0;34m]\u001b[0m\u001b[0;34m\u001b[0m\u001b[0m\n\u001b[0m\u001b[1;32m    132\u001b[0m \u001b[0;34m\u001b[0m\u001b[0m\n\u001b[1;32m    133\u001b[0m     \u001b[0;32mdef\u001b[0m \u001b[0m__len__\u001b[0m\u001b[0;34m(\u001b[0m\u001b[0mself\u001b[0m\u001b[0;34m)\u001b[0m\u001b[0;34m:\u001b[0m\u001b[0;34m\u001b[0m\u001b[0m\n",
      "\u001b[0;32m/usr/local/lib/python3.6/site-packages/sklearn/ensemble/forest.py\u001b[0m in \u001b[0;36m_parallel_build_trees\u001b[0;34m(tree, forest, X, y, sample_weight, tree_idx, n_trees, verbose, class_weight)\u001b[0m\n\u001b[1;32m    119\u001b[0m             \u001b[0mcurr_sample_weight\u001b[0m \u001b[0;34m*=\u001b[0m \u001b[0mcompute_sample_weight\u001b[0m\u001b[0;34m(\u001b[0m\u001b[0;34m'balanced'\u001b[0m\u001b[0;34m,\u001b[0m \u001b[0my\u001b[0m\u001b[0;34m,\u001b[0m \u001b[0mindices\u001b[0m\u001b[0;34m)\u001b[0m\u001b[0;34m\u001b[0m\u001b[0m\n\u001b[1;32m    120\u001b[0m \u001b[0;34m\u001b[0m\u001b[0m\n\u001b[0;32m--> 121\u001b[0;31m         \u001b[0mtree\u001b[0m\u001b[0;34m.\u001b[0m\u001b[0mfit\u001b[0m\u001b[0;34m(\u001b[0m\u001b[0mX\u001b[0m\u001b[0;34m,\u001b[0m \u001b[0my\u001b[0m\u001b[0;34m,\u001b[0m \u001b[0msample_weight\u001b[0m\u001b[0;34m=\u001b[0m\u001b[0mcurr_sample_weight\u001b[0m\u001b[0;34m,\u001b[0m \u001b[0mcheck_input\u001b[0m\u001b[0;34m=\u001b[0m\u001b[0;32mFalse\u001b[0m\u001b[0;34m)\u001b[0m\u001b[0;34m\u001b[0m\u001b[0m\n\u001b[0m\u001b[1;32m    122\u001b[0m     \u001b[0;32melse\u001b[0m\u001b[0;34m:\u001b[0m\u001b[0;34m\u001b[0m\u001b[0m\n\u001b[1;32m    123\u001b[0m         \u001b[0mtree\u001b[0m\u001b[0;34m.\u001b[0m\u001b[0mfit\u001b[0m\u001b[0;34m(\u001b[0m\u001b[0mX\u001b[0m\u001b[0;34m,\u001b[0m \u001b[0my\u001b[0m\u001b[0;34m,\u001b[0m \u001b[0msample_weight\u001b[0m\u001b[0;34m=\u001b[0m\u001b[0msample_weight\u001b[0m\u001b[0;34m,\u001b[0m \u001b[0mcheck_input\u001b[0m\u001b[0;34m=\u001b[0m\u001b[0;32mFalse\u001b[0m\u001b[0;34m)\u001b[0m\u001b[0;34m\u001b[0m\u001b[0m\n",
      "\u001b[0;32m/usr/local/lib/python3.6/site-packages/sklearn/tree/tree.py\u001b[0m in \u001b[0;36mfit\u001b[0;34m(self, X, y, sample_weight, check_input, X_idx_sorted)\u001b[0m\n\u001b[1;32m   1122\u001b[0m             \u001b[0msample_weight\u001b[0m\u001b[0;34m=\u001b[0m\u001b[0msample_weight\u001b[0m\u001b[0;34m,\u001b[0m\u001b[0;34m\u001b[0m\u001b[0m\n\u001b[1;32m   1123\u001b[0m             \u001b[0mcheck_input\u001b[0m\u001b[0;34m=\u001b[0m\u001b[0mcheck_input\u001b[0m\u001b[0;34m,\u001b[0m\u001b[0;34m\u001b[0m\u001b[0m\n\u001b[0;32m-> 1124\u001b[0;31m             X_idx_sorted=X_idx_sorted)\n\u001b[0m\u001b[1;32m   1125\u001b[0m         \u001b[0;32mreturn\u001b[0m \u001b[0mself\u001b[0m\u001b[0;34m\u001b[0m\u001b[0m\n\u001b[1;32m   1126\u001b[0m \u001b[0;34m\u001b[0m\u001b[0m\n",
      "\u001b[0;32m/usr/local/lib/python3.6/site-packages/sklearn/tree/tree.py\u001b[0m in \u001b[0;36mfit\u001b[0;34m(self, X, y, sample_weight, check_input, X_idx_sorted)\u001b[0m\n\u001b[1;32m    360\u001b[0m                                            min_impurity_split)\n\u001b[1;32m    361\u001b[0m \u001b[0;34m\u001b[0m\u001b[0m\n\u001b[0;32m--> 362\u001b[0;31m         \u001b[0mbuilder\u001b[0m\u001b[0;34m.\u001b[0m\u001b[0mbuild\u001b[0m\u001b[0;34m(\u001b[0m\u001b[0mself\u001b[0m\u001b[0;34m.\u001b[0m\u001b[0mtree_\u001b[0m\u001b[0;34m,\u001b[0m \u001b[0mX\u001b[0m\u001b[0;34m,\u001b[0m \u001b[0my\u001b[0m\u001b[0;34m,\u001b[0m \u001b[0msample_weight\u001b[0m\u001b[0;34m,\u001b[0m \u001b[0mX_idx_sorted\u001b[0m\u001b[0;34m)\u001b[0m\u001b[0;34m\u001b[0m\u001b[0m\n\u001b[0m\u001b[1;32m    363\u001b[0m \u001b[0;34m\u001b[0m\u001b[0m\n\u001b[1;32m    364\u001b[0m         \u001b[0;32mif\u001b[0m \u001b[0mself\u001b[0m\u001b[0;34m.\u001b[0m\u001b[0mn_outputs_\u001b[0m \u001b[0;34m==\u001b[0m \u001b[0;36m1\u001b[0m\u001b[0;34m:\u001b[0m\u001b[0;34m\u001b[0m\u001b[0m\n",
      "\u001b[0;31mKeyboardInterrupt\u001b[0m: "
     ]
    }
   ],
   "source": [
    "from sklearn.ensemble import RandomForestRegressor\n",
    "\n",
    "n_estim, dep, min_error = 0, 0, 100000\n",
    "\n",
    "for estim in range(1, 10):\n",
    "    for depth in range(1, 8):\n",
    "        regr = RandomForestRegressor(n_estimators=estim, max_depth=depth)\n",
    "        X_train = regr.fit(x_train, y_train)\n",
    "        pred = regr.predict(x_val)\n",
    "        error = mse(pred, y_val)\n",
    "        if(error < min_error):\n",
    "            min_error = error\n",
    "            n_estim = estim\n",
    "            dep = depth"
   ]
  },
  {
   "cell_type": "code",
   "execution_count": null,
   "metadata": {
    "ExecuteTime": {
     "end_time": "2017-11-21T19:07:44.212618Z",
     "start_time": "2017-11-21T19:04:49.261Z"
    }
   },
   "outputs": [],
   "source": [
    "min_error"
   ]
  },
  {
   "cell_type": "code",
   "execution_count": null,
   "metadata": {
    "ExecuteTime": {
     "end_time": "2017-11-21T19:07:44.213272Z",
     "start_time": "2017-11-21T19:04:49.262Z"
    }
   },
   "outputs": [],
   "source": [
    "def ratio_prediction(pred, value):\n",
    "    return np.in1d(pred, value).sum()/len(pred)"
   ]
  },
  {
   "cell_type": "code",
   "execution_count": null,
   "metadata": {
    "ExecuteTime": {
     "end_time": "2017-11-21T19:07:44.214241Z",
     "start_time": "2017-11-21T19:04:49.263Z"
    }
   },
   "outputs": [],
   "source": [
    "ratio_prediction([1,2,3], [0,2,3])"
   ]
  },
  {
   "cell_type": "code",
   "execution_count": null,
   "metadata": {
    "ExecuteTime": {
     "end_time": "2017-11-21T19:07:44.215376Z",
     "start_time": "2017-11-21T19:04:49.264Z"
    }
   },
   "outputs": [],
   "source": [
    "# Use cross-validated best parameters to predict for test set\n",
    "regr = RandomForestRegressor(n_estimators=n_estim, max_depth=dep)\n",
    "X_train = regr.fit(x_train, y_train)\n",
    "test_pred = np.round_(regr.predict(x_train))\n",
    "ratio_prediction(test_pred, y_test)"
   ]
  },
  {
   "cell_type": "code",
   "execution_count": null,
   "metadata": {},
   "outputs": [],
   "source": []
  }
 ],
 "metadata": {
  "kernelspec": {
   "display_name": "Python 3",
   "language": "python",
   "name": "python3"
  },
  "language_info": {
   "codemirror_mode": {
    "name": "ipython",
    "version": 3
   },
   "file_extension": ".py",
   "mimetype": "text/x-python",
   "name": "python",
   "nbconvert_exporter": "python",
   "pygments_lexer": "ipython3",
   "version": "3.6.3"
  }
 },
 "nbformat": 4,
 "nbformat_minor": 2
}
