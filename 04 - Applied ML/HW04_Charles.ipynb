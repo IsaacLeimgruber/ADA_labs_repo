{
 "cells": [
  {
   "cell_type": "code",
   "execution_count": 1,
   "metadata": {
    "ExecuteTime": {
     "end_time": "2017-11-21T19:04:49.962981Z",
     "start_time": "2017-11-21T19:04:49.163381Z"
    },
    "collapsed": true
   },
   "outputs": [],
   "source": [
    "import os\n",
    "import pandas as pd\n",
    "import numpy as np\n",
    "import matplotlib.pyplot as plt\n",
    "from sklearn import linear_model\n",
    "%matplotlib inline"
   ]
  },
  {
   "cell_type": "markdown",
   "metadata": {},
   "source": [
    "### Import Data"
   ]
  },
  {
   "cell_type": "code",
   "execution_count": 2,
   "metadata": {
    "ExecuteTime": {
     "end_time": "2017-11-21T19:04:49.994515Z",
     "start_time": "2017-11-21T19:04:49.965008Z"
    }
   },
   "outputs": [
    {
     "data": {
      "text/html": [
       "<div>\n",
       "<style>\n",
       "    .dataframe thead tr:only-child th {\n",
       "        text-align: right;\n",
       "    }\n",
       "\n",
       "    .dataframe thead th {\n",
       "        text-align: left;\n",
       "    }\n",
       "\n",
       "    .dataframe tbody tr th {\n",
       "        vertical-align: top;\n",
       "    }\n",
       "</style>\n",
       "<table border=\"1\" class=\"dataframe\">\n",
       "  <thead>\n",
       "    <tr style=\"text-align: right;\">\n",
       "      <th></th>\n",
       "      <th>treat</th>\n",
       "      <th>age</th>\n",
       "      <th>educ</th>\n",
       "      <th>black</th>\n",
       "      <th>hispan</th>\n",
       "      <th>married</th>\n",
       "      <th>nodegree</th>\n",
       "      <th>re74</th>\n",
       "      <th>re75</th>\n",
       "      <th>re78</th>\n",
       "    </tr>\n",
       "    <tr>\n",
       "      <th>id</th>\n",
       "      <th></th>\n",
       "      <th></th>\n",
       "      <th></th>\n",
       "      <th></th>\n",
       "      <th></th>\n",
       "      <th></th>\n",
       "      <th></th>\n",
       "      <th></th>\n",
       "      <th></th>\n",
       "      <th></th>\n",
       "    </tr>\n",
       "  </thead>\n",
       "  <tbody>\n",
       "    <tr>\n",
       "      <th>NSW1</th>\n",
       "      <td>1</td>\n",
       "      <td>37</td>\n",
       "      <td>11</td>\n",
       "      <td>1</td>\n",
       "      <td>0</td>\n",
       "      <td>1</td>\n",
       "      <td>1</td>\n",
       "      <td>0.0</td>\n",
       "      <td>0.0</td>\n",
       "      <td>9930.046</td>\n",
       "    </tr>\n",
       "    <tr>\n",
       "      <th>NSW2</th>\n",
       "      <td>1</td>\n",
       "      <td>22</td>\n",
       "      <td>9</td>\n",
       "      <td>0</td>\n",
       "      <td>1</td>\n",
       "      <td>0</td>\n",
       "      <td>1</td>\n",
       "      <td>0.0</td>\n",
       "      <td>0.0</td>\n",
       "      <td>3595.894</td>\n",
       "    </tr>\n",
       "    <tr>\n",
       "      <th>NSW3</th>\n",
       "      <td>1</td>\n",
       "      <td>30</td>\n",
       "      <td>12</td>\n",
       "      <td>1</td>\n",
       "      <td>0</td>\n",
       "      <td>0</td>\n",
       "      <td>0</td>\n",
       "      <td>0.0</td>\n",
       "      <td>0.0</td>\n",
       "      <td>24909.450</td>\n",
       "    </tr>\n",
       "  </tbody>\n",
       "</table>\n",
       "</div>"
      ],
      "text/plain": [
       "      treat  age  educ  black  hispan  married  nodegree  re74  re75  \\\n",
       "id                                                                     \n",
       "NSW1      1   37    11      1       0        1         1   0.0   0.0   \n",
       "NSW2      1   22     9      0       1        0         1   0.0   0.0   \n",
       "NSW3      1   30    12      1       0        0         0   0.0   0.0   \n",
       "\n",
       "           re78  \n",
       "id               \n",
       "NSW1   9930.046  \n",
       "NSW2   3595.894  \n",
       "NSW3  24909.450  "
      ]
     },
     "execution_count": 2,
     "metadata": {},
     "output_type": "execute_result"
    }
   ],
   "source": [
    "path = 'lalonde.csv'\n",
    "patients_df = pd.DataFrame.from_csv(path, sep=\",\")\n",
    "patients_df.head(3)"
   ]
  },
  {
   "cell_type": "markdown",
   "metadata": {},
   "source": [
    "### Clean Data"
   ]
  },
  {
   "cell_type": "code",
   "execution_count": 3,
   "metadata": {
    "ExecuteTime": {
     "end_time": "2017-11-21T19:04:50.007368Z",
     "start_time": "2017-11-21T19:04:49.997082Z"
    }
   },
   "outputs": [
    {
     "data": {
      "text/plain": [
       "numpy.int64"
      ]
     },
     "execution_count": 3,
     "metadata": {},
     "output_type": "execute_result"
    }
   ],
   "source": [
    "# Cast values to numeric\n",
    "patients_df.apply(pd.to_numeric, errors = 'coerce')\n",
    "type(patients_df.iloc[1,1])"
   ]
  },
  {
   "cell_type": "markdown",
   "metadata": {},
   "source": [
    "### Split not treated and treated"
   ]
  },
  {
   "cell_type": "code",
   "execution_count": 4,
   "metadata": {
    "ExecuteTime": {
     "end_time": "2017-11-21T19:04:50.017114Z",
     "start_time": "2017-11-21T19:04:50.010064Z"
    },
    "collapsed": true
   },
   "outputs": [],
   "source": [
    "# splits a dataframe on a two-categorical column\n",
    "def split_in_two(df, column):\n",
    "    first = df[df[column] == 0]\n",
    "    second = df[df[column] == 1]\n",
    "    return first, second"
   ]
  },
  {
   "cell_type": "code",
   "execution_count": 5,
   "metadata": {
    "ExecuteTime": {
     "end_time": "2017-11-21T19:04:50.042784Z",
     "start_time": "2017-11-21T19:04:50.019832Z"
    }
   },
   "outputs": [
    {
     "data": {
      "text/html": [
       "<div>\n",
       "<style>\n",
       "    .dataframe thead tr:only-child th {\n",
       "        text-align: right;\n",
       "    }\n",
       "\n",
       "    .dataframe thead th {\n",
       "        text-align: left;\n",
       "    }\n",
       "\n",
       "    .dataframe tbody tr th {\n",
       "        vertical-align: top;\n",
       "    }\n",
       "</style>\n",
       "<table border=\"1\" class=\"dataframe\">\n",
       "  <thead>\n",
       "    <tr style=\"text-align: right;\">\n",
       "      <th></th>\n",
       "      <th>treat</th>\n",
       "      <th>age</th>\n",
       "      <th>educ</th>\n",
       "      <th>black</th>\n",
       "      <th>hispan</th>\n",
       "      <th>married</th>\n",
       "      <th>nodegree</th>\n",
       "      <th>re74</th>\n",
       "      <th>re75</th>\n",
       "      <th>re78</th>\n",
       "    </tr>\n",
       "    <tr>\n",
       "      <th>id</th>\n",
       "      <th></th>\n",
       "      <th></th>\n",
       "      <th></th>\n",
       "      <th></th>\n",
       "      <th></th>\n",
       "      <th></th>\n",
       "      <th></th>\n",
       "      <th></th>\n",
       "      <th></th>\n",
       "      <th></th>\n",
       "    </tr>\n",
       "  </thead>\n",
       "  <tbody>\n",
       "    <tr>\n",
       "      <th>NSW184</th>\n",
       "      <td>1</td>\n",
       "      <td>35</td>\n",
       "      <td>8</td>\n",
       "      <td>1</td>\n",
       "      <td>0</td>\n",
       "      <td>1</td>\n",
       "      <td>1</td>\n",
       "      <td>13732.07</td>\n",
       "      <td>17976.15</td>\n",
       "      <td>3786.628</td>\n",
       "    </tr>\n",
       "    <tr>\n",
       "      <th>NSW185</th>\n",
       "      <td>1</td>\n",
       "      <td>33</td>\n",
       "      <td>11</td>\n",
       "      <td>1</td>\n",
       "      <td>0</td>\n",
       "      <td>1</td>\n",
       "      <td>1</td>\n",
       "      <td>14660.71</td>\n",
       "      <td>25142.24</td>\n",
       "      <td>4181.942</td>\n",
       "    </tr>\n",
       "  </tbody>\n",
       "</table>\n",
       "</div>"
      ],
      "text/plain": [
       "        treat  age  educ  black  hispan  married  nodegree      re74  \\\n",
       "id                                                                     \n",
       "NSW184      1   35     8      1       0        1         1  13732.07   \n",
       "NSW185      1   33    11      1       0        1         1  14660.71   \n",
       "\n",
       "            re75      re78  \n",
       "id                          \n",
       "NSW184  17976.15  3786.628  \n",
       "NSW185  25142.24  4181.942  "
      ]
     },
     "execution_count": 5,
     "metadata": {},
     "output_type": "execute_result"
    }
   ],
   "source": [
    "ntreated_df, treated_df = split_in_two(patients_df, 'treat')\n",
    "ntreated_count = len(ntreated_df)\n",
    "treated_count = len(treated_df)\n",
    "treated_df.tail(2)"
   ]
  },
  {
   "cell_type": "code",
   "execution_count": 6,
   "metadata": {
    "ExecuteTime": {
     "end_time": "2017-11-21T19:04:50.062380Z",
     "start_time": "2017-11-21T19:04:50.045111Z"
    }
   },
   "outputs": [
    {
     "data": {
      "text/html": [
       "<div>\n",
       "<style>\n",
       "    .dataframe thead tr:only-child th {\n",
       "        text-align: right;\n",
       "    }\n",
       "\n",
       "    .dataframe thead th {\n",
       "        text-align: left;\n",
       "    }\n",
       "\n",
       "    .dataframe tbody tr th {\n",
       "        vertical-align: top;\n",
       "    }\n",
       "</style>\n",
       "<table border=\"1\" class=\"dataframe\">\n",
       "  <thead>\n",
       "    <tr style=\"text-align: right;\">\n",
       "      <th></th>\n",
       "      <th>treat</th>\n",
       "      <th>age</th>\n",
       "      <th>educ</th>\n",
       "      <th>black</th>\n",
       "      <th>hispan</th>\n",
       "      <th>married</th>\n",
       "      <th>nodegree</th>\n",
       "      <th>re74</th>\n",
       "      <th>re75</th>\n",
       "      <th>re78</th>\n",
       "    </tr>\n",
       "    <tr>\n",
       "      <th>id</th>\n",
       "      <th></th>\n",
       "      <th></th>\n",
       "      <th></th>\n",
       "      <th></th>\n",
       "      <th></th>\n",
       "      <th></th>\n",
       "      <th></th>\n",
       "      <th></th>\n",
       "      <th></th>\n",
       "      <th></th>\n",
       "    </tr>\n",
       "  </thead>\n",
       "  <tbody>\n",
       "    <tr>\n",
       "      <th>PSID1</th>\n",
       "      <td>0</td>\n",
       "      <td>30</td>\n",
       "      <td>12</td>\n",
       "      <td>0</td>\n",
       "      <td>0</td>\n",
       "      <td>1</td>\n",
       "      <td>0</td>\n",
       "      <td>20166.73</td>\n",
       "      <td>18347.23</td>\n",
       "      <td>25564.67</td>\n",
       "    </tr>\n",
       "    <tr>\n",
       "      <th>PSID2</th>\n",
       "      <td>0</td>\n",
       "      <td>26</td>\n",
       "      <td>12</td>\n",
       "      <td>0</td>\n",
       "      <td>0</td>\n",
       "      <td>1</td>\n",
       "      <td>0</td>\n",
       "      <td>25862.32</td>\n",
       "      <td>17806.55</td>\n",
       "      <td>25564.67</td>\n",
       "    </tr>\n",
       "    <tr>\n",
       "      <th>PSID3</th>\n",
       "      <td>0</td>\n",
       "      <td>25</td>\n",
       "      <td>16</td>\n",
       "      <td>0</td>\n",
       "      <td>0</td>\n",
       "      <td>1</td>\n",
       "      <td>0</td>\n",
       "      <td>25862.32</td>\n",
       "      <td>15316.21</td>\n",
       "      <td>25564.67</td>\n",
       "    </tr>\n",
       "    <tr>\n",
       "      <th>PSID4</th>\n",
       "      <td>0</td>\n",
       "      <td>42</td>\n",
       "      <td>11</td>\n",
       "      <td>0</td>\n",
       "      <td>0</td>\n",
       "      <td>1</td>\n",
       "      <td>1</td>\n",
       "      <td>21787.05</td>\n",
       "      <td>14265.29</td>\n",
       "      <td>15491.01</td>\n",
       "    </tr>\n",
       "    <tr>\n",
       "      <th>PSID5</th>\n",
       "      <td>0</td>\n",
       "      <td>25</td>\n",
       "      <td>9</td>\n",
       "      <td>1</td>\n",
       "      <td>0</td>\n",
       "      <td>1</td>\n",
       "      <td>1</td>\n",
       "      <td>14829.69</td>\n",
       "      <td>13776.53</td>\n",
       "      <td>0.00</td>\n",
       "    </tr>\n",
       "  </tbody>\n",
       "</table>\n",
       "</div>"
      ],
      "text/plain": [
       "       treat  age  educ  black  hispan  married  nodegree      re74      re75  \\\n",
       "id                                                                              \n",
       "PSID1      0   30    12      0       0        1         0  20166.73  18347.23   \n",
       "PSID2      0   26    12      0       0        1         0  25862.32  17806.55   \n",
       "PSID3      0   25    16      0       0        1         0  25862.32  15316.21   \n",
       "PSID4      0   42    11      0       0        1         1  21787.05  14265.29   \n",
       "PSID5      0   25     9      1       0        1         1  14829.69  13776.53   \n",
       "\n",
       "           re78  \n",
       "id               \n",
       "PSID1  25564.67  \n",
       "PSID2  25564.67  \n",
       "PSID3  25564.67  \n",
       "PSID4  15491.01  \n",
       "PSID5      0.00  "
      ]
     },
     "execution_count": 6,
     "metadata": {},
     "output_type": "execute_result"
    }
   ],
   "source": [
    "ntreated_df.head()"
   ]
  },
  {
   "cell_type": "markdown",
   "metadata": {},
   "source": [
    "### 1. A naive analysis"
   ]
  },
  {
   "cell_type": "markdown",
   "metadata": {},
   "source": [
    "Now that we have the treated and untreated person, we can compare the outcome variable"
   ]
  },
  {
   "cell_type": "code",
   "execution_count": 7,
   "metadata": {
    "ExecuteTime": {
     "end_time": "2017-11-21T19:04:50.077008Z",
     "start_time": "2017-11-21T19:04:50.064485Z"
    },
    "collapsed": true
   },
   "outputs": [],
   "source": [
    "# obtain describe serie for both groups\n",
    "dscr_ntr = ntreated_df['re78'].describe()\n",
    "dscr_tr = treated_df['re78'].describe()"
   ]
  },
  {
   "cell_type": "code",
   "execution_count": 8,
   "metadata": {
    "ExecuteTime": {
     "end_time": "2017-11-21T19:04:50.085196Z",
     "start_time": "2017-11-21T19:04:50.079602Z"
    }
   },
   "outputs": [
    {
     "data": {
      "text/plain": [
       "6984.1697423076967"
      ]
     },
     "execution_count": 8,
     "metadata": {},
     "output_type": "execute_result"
    }
   ],
   "source": [
    "# mean of untreated group\n",
    "dscr_ntr['mean']"
   ]
  },
  {
   "cell_type": "code",
   "execution_count": 9,
   "metadata": {
    "ExecuteTime": {
     "end_time": "2017-11-21T19:04:50.093109Z",
     "start_time": "2017-11-21T19:04:50.087890Z"
    }
   },
   "outputs": [
    {
     "data": {
      "text/plain": [
       "6349.1435302702694"
      ]
     },
     "execution_count": 9,
     "metadata": {},
     "output_type": "execute_result"
    }
   ],
   "source": [
    "# mean of treated group\n",
    "dscr_tr['mean']"
   ]
  },
  {
   "cell_type": "markdown",
   "metadata": {},
   "source": [
    "We already see that the mean of untreated group is higher, but is this an effect of outliers?"
   ]
  },
  {
   "cell_type": "code",
   "execution_count": 10,
   "metadata": {
    "ExecuteTime": {
     "end_time": "2017-11-21T19:04:50.100830Z",
     "start_time": "2017-11-21T19:04:50.095521Z"
    }
   },
   "outputs": [
    {
     "data": {
      "text/plain": [
       "11688.82"
      ]
     },
     "execution_count": 10,
     "metadata": {},
     "output_type": "execute_result"
    }
   ],
   "source": [
    "# 75% quantile mean of untreated group\n",
    "dscr_ntr['75%']"
   ]
  },
  {
   "cell_type": "code",
   "execution_count": 11,
   "metadata": {
    "ExecuteTime": {
     "end_time": "2017-11-21T19:04:50.107476Z",
     "start_time": "2017-11-21T19:04:50.102982Z"
    }
   },
   "outputs": [
    {
     "data": {
      "text/plain": [
       "9642.9989999999998"
      ]
     },
     "execution_count": 11,
     "metadata": {},
     "output_type": "execute_result"
    }
   ],
   "source": [
    "# 75% quantile mean of treated group\n",
    "dscr_tr['75%']"
   ]
  },
  {
   "cell_type": "markdown",
   "metadata": {},
   "source": [
    "Hence we conclude it was not an effect of outliers and that the untreated group has an average higher wage than the treated group in 1978"
   ]
  },
  {
   "cell_type": "markdown",
   "metadata": {},
   "source": [
    "We will convince ourselves by showing the number in an explicit visualization"
   ]
  },
  {
   "cell_type": "code",
   "execution_count": 12,
   "metadata": {
    "ExecuteTime": {
     "end_time": "2017-11-21T19:04:50.113696Z",
     "start_time": "2017-11-21T19:04:50.109956Z"
    },
    "collapsed": true
   },
   "outputs": [],
   "source": [
    "def get_column_serie(df, column):\n",
    "    return df[[column]].values[:, 0]"
   ]
  },
  {
   "cell_type": "code",
   "execution_count": 13,
   "metadata": {
    "ExecuteTime": {
     "end_time": "2017-11-21T19:04:50.137064Z",
     "start_time": "2017-11-21T19:04:50.116282Z"
    },
    "collapsed": true
   },
   "outputs": [],
   "source": [
    "def make_boxplot(df1, df2, column, labels,  fill_colors):\n",
    "    serie1 = get_column_serie(df1, column)\n",
    "    serie2 = get_column_serie(df2, column)\n",
    "    data = [serie1, serie2]\n",
    "    fig, ax = plt.subplots()\n",
    "    \n",
    "    bp = ax.boxplot(data, patch_artist = True)\n",
    "    for elem in ['boxes', 'caps']:\n",
    "        plt.setp(bp[elem], color='black')\n",
    "    for m in bp['medians']:\n",
    "        m.set(color='red', linewidth=2)\n",
    "    for idx, b in enumerate(bp['boxes']):\n",
    "        b.set(facecolor = fill_colors[idx])\n",
    "    \n",
    "    ax.set_xticklabels(labels)"
   ]
  },
  {
   "cell_type": "code",
   "execution_count": 14,
   "metadata": {
    "ExecuteTime": {
     "end_time": "2017-11-21T19:04:50.325369Z",
     "start_time": "2017-11-21T19:04:50.139647Z"
    }
   },
   "outputs": [
    {
     "data": {
      "image/png": "[encoded data removed]",
      "text/plain": [
       "<matplotlib.figure.Figure at 0x1a0b86d160>"
      ]
     },
     "metadata": {},
     "output_type": "display_data"
    }
   ],
   "source": [
    "make_boxplot(treated_df, ntreated_df, 're78', ['treated', 'ntreated'], ['steelblue', '#5EDF63'])"
   ]
  },
  {
   "cell_type": "markdown",
   "metadata": {},
   "source": [
    "Hence the plots confirms what we already knew, that the mean and mean without outliers is lower for treated patients. The naive analysis concludes the treatment does not work"
   ]
  },
  {
   "cell_type": "markdown",
   "metadata": {},
   "source": [
    "### 2. A closer look at the data"
   ]
  },
  {
   "cell_type": "markdown",
   "metadata": {},
   "source": [
    "#### Description\n",
    "For each feature in the dataset, compare its distribution in the treated group with its distribution in the control group, using plots and numbers. As above, you may use the techniques we discussed in class for summarizing and comparing the distributions.\n",
    "\n",
    "What do you observe? Describe what your observations mean for the conclusions drawn by the naive \"researcher\" from his superficial analysis."
   ]
  },
  {
   "cell_type": "markdown",
   "metadata": {},
   "source": [
    "#### Solution\n",
    "In this part, we will successively compare the columns of the treated dataframe and the ntreated dataframe then try to explain what vice of procedure caused the discrepancies in the case of high difference in distribution"
   ]
  },
  {
   "cell_type": "code",
   "execution_count": 15,
   "metadata": {
    "ExecuteTime": {
     "end_time": "2017-11-21T19:04:50.337399Z",
     "start_time": "2017-11-21T19:04:50.328018Z"
    },
    "collapsed": true
   },
   "outputs": [],
   "source": [
    "def shared_plot_by(col,plot_kind, treated_df, ntreated_df):\n",
    "    fig, axs = plt.subplots(1, 2, figsize=(14,5), sharex=True)\n",
    "    treated_df.plot(y=col, kind=plot_kind, ax=axs[0], title = \"Treated\")\n",
    "    ntreated_df.plot(y=col, kind=plot_kind, ax=axs[1], title = \"Not Treated\")\n",
    "    plt.show()"
   ]
  },
  {
   "cell_type": "markdown",
   "metadata": {},
   "source": [
    "Lets first compare both groups **by age**"
   ]
  },
  {
   "cell_type": "code",
   "execution_count": 16,
   "metadata": {
    "ExecuteTime": {
     "end_time": "2017-11-21T19:04:50.827043Z",
     "start_time": "2017-11-21T19:04:50.341132Z"
    },
    "scrolled": true
   },
   "outputs": [
    {
     "data": {
      "image/png": "[encoded data removed]",
      "text/plain": [
       "<matplotlib.figure.Figure at 0x1a13139470>"
      ]
     },
     "metadata": {},
     "output_type": "display_data"
    }
   ],
   "source": [
    "# First we can compare them by age\n",
    "shared_plot_by('age', 'hist', treated_df, ntreated_df)"
   ]
  },
  {
   "cell_type": "markdown",
   "metadata": {},
   "source": [
    "We already see that there is a big difference in proportion between 25 and 30 years. There are proportionately way more treated people in this age range than there are untreated people relative to the total number of people in each group"
   ]
  },
  {
   "cell_type": "code",
   "execution_count": 17,
   "metadata": {
    "ExecuteTime": {
     "end_time": "2017-11-21T19:04:50.841200Z",
     "start_time": "2017-11-21T19:04:50.829892Z"
    }
   },
   "outputs": [
    {
     "data": {
      "text/plain": [
       "count    185.000000\n",
       "mean      25.816216\n",
       "std        7.155019\n",
       "min       17.000000\n",
       "25%       20.000000\n",
       "50%       25.000000\n",
       "75%       29.000000\n",
       "max       48.000000\n",
       "Name: age, dtype: float64"
      ]
     },
     "execution_count": 17,
     "metadata": {},
     "output_type": "execute_result"
    }
   ],
   "source": [
    "# And we can compare the values with descibe\n",
    "treated_df['age'].describe()"
   ]
  },
  {
   "cell_type": "code",
   "execution_count": 18,
   "metadata": {
    "ExecuteTime": {
     "end_time": "2017-11-21T19:04:50.857131Z",
     "start_time": "2017-11-21T19:04:50.844217Z"
    },
    "scrolled": true
   },
   "outputs": [
    {
     "data": {
      "text/plain": [
       "count    429.000000\n",
       "mean      28.030303\n",
       "std       10.786653\n",
       "min       16.000000\n",
       "25%       19.000000\n",
       "50%       25.000000\n",
       "75%       35.000000\n",
       "max       55.000000\n",
       "Name: age, dtype: float64"
      ]
     },
     "execution_count": 18,
     "metadata": {},
     "output_type": "execute_result"
    }
   ],
   "source": [
    "ntreated_df['age'].describe()"
   ]
  },
  {
   "cell_type": "markdown",
   "metadata": {},
   "source": [
    "We can see (with plots and numbers) that among the data, most of them are young people (16-25) and there are much more people not treated than treated. We can suspect that the treatment **assignement was not random** because had it be random, the number of patients in each group would have been closer to each other."
   ]
  },
  {
   "cell_type": "markdown",
   "metadata": {},
   "source": [
    "Now we can compare both groups through their respective <b>years of education</b> distribution"
   ]
  },
  {
   "cell_type": "code",
   "execution_count": 19,
   "metadata": {
    "ExecuteTime": {
     "end_time": "2017-11-21T19:04:51.333415Z",
     "start_time": "2017-11-21T19:04:50.859185Z"
    },
    "scrolled": false
   },
   "outputs": [
    {
     "data": {
      "image/png": "[encoded data removed]",
      "text/plain": [
       "<matplotlib.figure.Figure at 0x1a132b3da0>"
      ]
     },
     "metadata": {},
     "output_type": "display_data"
    }
   ],
   "source": [
    "# Then by education\n",
    "shared_plot_by('educ', 'hist', treated_df, ntreated_df)"
   ]
  },
  {
   "cell_type": "markdown",
   "metadata": {},
   "source": [
    "The results here are less surprising. Since we already saw a difference in age distribution, the years of education will be influenced. Here both groups seem quite comparable"
   ]
  },
  {
   "cell_type": "code",
   "execution_count": 20,
   "metadata": {
    "ExecuteTime": {
     "end_time": "2017-11-21T19:04:51.346041Z",
     "start_time": "2017-11-21T19:04:51.336510Z"
    }
   },
   "outputs": [
    {
     "data": {
      "text/plain": [
       "count    185.000000\n",
       "mean      10.345946\n",
       "std        2.010650\n",
       "min        4.000000\n",
       "25%        9.000000\n",
       "50%       11.000000\n",
       "75%       12.000000\n",
       "max       16.000000\n",
       "Name: educ, dtype: float64"
      ]
     },
     "execution_count": 20,
     "metadata": {},
     "output_type": "execute_result"
    }
   ],
   "source": [
    "# and compare their values too\n",
    "treated_df['educ'].describe()"
   ]
  },
  {
   "cell_type": "code",
   "execution_count": 21,
   "metadata": {
    "ExecuteTime": {
     "end_time": "2017-11-21T19:04:51.360514Z",
     "start_time": "2017-11-21T19:04:51.348497Z"
    }
   },
   "outputs": [
    {
     "data": {
      "text/plain": [
       "count    429.000000\n",
       "mean      10.235431\n",
       "std        2.855238\n",
       "min        0.000000\n",
       "25%        9.000000\n",
       "50%       11.000000\n",
       "75%       12.000000\n",
       "max       18.000000\n",
       "Name: educ, dtype: float64"
      ]
     },
     "execution_count": 21,
     "metadata": {},
     "output_type": "execute_result"
    }
   ],
   "source": [
    "ntreated_df['educ'].describe()"
   ]
  },
  {
   "cell_type": "markdown",
   "metadata": {},
   "source": [
    "The results confirm our hypotheses since the mean is almost the same in both groups and the 75% quantile is exactly the same. This means that the difference in standard deviation is only due to outliers. Hence both groups have very **similar distributions in years of education**"
   ]
  },
  {
   "cell_type": "markdown",
   "metadata": {},
   "source": [
    "We can now compare the **amount of people without a degree** and the **number of people married** in each group"
   ]
  },
  {
   "cell_type": "code",
   "execution_count": 22,
   "metadata": {
    "ExecuteTime": {
     "end_time": "2017-11-21T19:04:51.390420Z",
     "start_time": "2017-11-21T19:04:51.362684Z"
    },
    "collapsed": true
   },
   "outputs": [],
   "source": [
    "def col_number(df, col_names):\n",
    "    result_0 = []\n",
    "    result_1 = []\n",
    "    \n",
    "    for col_name in col_names:   \n",
    "        # for each col we calculate the length and then store the ratio\n",
    "        nb_0 = len(df[df[col_name] == 0])\n",
    "        nb_1 = len(df[df[col_name] == 1])\n",
    "        result_0.append(nb_0 / (nb_0 + nb_1))\n",
    "        result_1.append(nb_1 / (nb_0 + nb_1))\n",
    "        \n",
    "    return np.array(result_0), np.array(result_1)\n",
    "\n",
    "def bar_subplot(axe_plot, nb_index, result_0, result_1, ylegend):\n",
    "    #plot0 = axe_plot.bar(nb_index, result_0, color=\"#0000ff\")\n",
    "    plot1 = axe_plot.bar(nb_index, result_1, color='steelblue')\n",
    "    \n",
    "    plt.sca(axe_plot)\n",
    "    plt.xticks(nb_index, col_names)\n",
    "    plt.ylabel(ylegend)\n",
    "    plt.yticks( [0, 0.5, 1] )\n",
    "    #plt.legend((plot0[0], plot1[0]), ('0', '1'))"
   ]
  },
  {
   "cell_type": "code",
   "execution_count": 23,
   "metadata": {
    "ExecuteTime": {
     "end_time": "2017-11-21T19:04:51.695916Z",
     "start_time": "2017-11-21T19:04:51.392959Z"
    }
   },
   "outputs": [
    {
     "data": {
      "image/png": "[encoded data removed]",
      "text/plain": [
       "<matplotlib.figure.Figure at 0x1a13501978>"
      ]
     },
     "metadata": {},
     "output_type": "display_data"
    }
   ],
   "source": [
    "fig, plot_axes = plt.subplots(1, 2, figsize=(14, 5), sharex=True)\n",
    "nb_index = np.arange(2)\n",
    "col_names = ['nodegree', 'married']\n",
    "\n",
    "result_0, result_1 = col_number(treated_df, col_names)\n",
    "bar_subplot(plot_axes[0], nb_index, result_0, result_1, 'Ratio of treated persons')\n",
    "\n",
    "result_0, result_1 = col_number(ntreated_df, col_names)\n",
    "bar_subplot(plot_axes[1], nb_index, result_0, result_1, 'Ratio of untreated persons')\n",
    "\n",
    "plt.show()"
   ]
  },
  {
   "cell_type": "markdown",
   "metadata": {},
   "source": [
    "We see that the <b>proportion of people without a degree is quite similar</b> . However the <b>proportion of people married is very different</b>. there seem to be a ratio between 2 and 3 of the proportion of married people.\n",
    "This may show a bias in the treatment assignement but <b>might be a side effect of the age difference</b> we saw before between the groups. This may have a big influence since we may expect married people to have different carreer objectives than unmarried people."
   ]
  },
  {
   "cell_type": "markdown",
   "metadata": {},
   "source": [
    "For <b>blacks and hispanic</b> we will only compare the ratios between the two groups"
   ]
  },
  {
   "cell_type": "code",
   "execution_count": 24,
   "metadata": {
    "ExecuteTime": {
     "end_time": "2017-11-21T19:04:51.703402Z",
     "start_time": "2017-11-21T19:04:51.698615Z"
    },
    "collapsed": true
   },
   "outputs": [],
   "source": [
    "def compute_ratio(df, col, total):\n",
    "    val = df[col]\n",
    "    return (val == 1).sum()/total"
   ]
  },
  {
   "cell_type": "code",
   "execution_count": 25,
   "metadata": {
    "ExecuteTime": {
     "end_time": "2017-11-21T19:04:51.711889Z",
     "start_time": "2017-11-21T19:04:51.706695Z"
    }
   },
   "outputs": [
    {
     "name": "stdout",
     "output_type": "stream",
     "text": [
      "the ratio of treated blacks : 0.843243243243\n"
     ]
    }
   ],
   "source": [
    "print(\"the ratio of treated blacks :\",compute_ratio(treated_df, 'black', treated_count))"
   ]
  },
  {
   "cell_type": "code",
   "execution_count": 26,
   "metadata": {
    "ExecuteTime": {
     "end_time": "2017-11-21T19:04:51.722587Z",
     "start_time": "2017-11-21T19:04:51.715130Z"
    }
   },
   "outputs": [
    {
     "name": "stdout",
     "output_type": "stream",
     "text": [
      "the ratio of untreated blacks : 0.202797202797\n"
     ]
    }
   ],
   "source": [
    "print(\"the ratio of untreated blacks :\",compute_ratio(ntreated_df, 'black', ntreated_count))"
   ]
  },
  {
   "cell_type": "code",
   "execution_count": 27,
   "metadata": {
    "ExecuteTime": {
     "end_time": "2017-11-21T19:04:51.730897Z",
     "start_time": "2017-11-21T19:04:51.724806Z"
    }
   },
   "outputs": [
    {
     "name": "stdout",
     "output_type": "stream",
     "text": [
      "the ratio of treated hispanic : 0.0594594594595\n"
     ]
    }
   ],
   "source": [
    "print(\"the ratio of treated hispanic :\",compute_ratio(treated_df, 'hispan', treated_count))"
   ]
  },
  {
   "cell_type": "code",
   "execution_count": 28,
   "metadata": {
    "ExecuteTime": {
     "end_time": "2017-11-21T19:04:51.739901Z",
     "start_time": "2017-11-21T19:04:51.733209Z"
    }
   },
   "outputs": [
    {
     "name": "stdout",
     "output_type": "stream",
     "text": [
      "the ratio of untreated hispanic 0.142191142191\n"
     ]
    }
   ],
   "source": [
    "print(\"the ratio of untreated hispanic\",compute_ratio(ntreated_df, 'hispan', ntreated_count))"
   ]
  },
  {
   "cell_type": "markdown",
   "metadata": {},
   "source": [
    "We can see that the percentage of blacks in the treated group is 4 time larger than the one in the non-treated one. <br>\n",
    "For the Hispanics, we can see that we have almost twice as much Hispanic in the untreated group this time.<br>\n",
    "This is a <b>non-random treatment assignement</b>"
   ]
  },
  {
   "cell_type": "markdown",
   "metadata": {},
   "source": [
    "### 3. A propsensity score model"
   ]
  },
  {
   "cell_type": "markdown",
   "metadata": {},
   "source": [
    "#### Description\n",
    "Use logistic regression to estimate propensity scores for all points in the dataset. You may use sklearn to fit the logistic regression model and apply it to each data point to obtain propensity scores"
   ]
  },
  {
   "cell_type": "markdown",
   "metadata": {},
   "source": [
    "#### Solution\n",
    "We apply the logistic regression"
   ]
  },
  {
   "cell_type": "code",
   "execution_count": 29,
   "metadata": {
    "ExecuteTime": {
     "end_time": "2017-11-21T19:04:51.754391Z",
     "start_time": "2017-11-21T19:04:51.742128Z"
    },
    "collapsed": true
   },
   "outputs": [],
   "source": [
    "logistic = linear_model.LogisticRegression()\n",
    "feature_cols = ['age', 'educ', 'black', 'hispan', 'married', 'nodegree', 're74', 're75']\n",
    "X = patients_df[feature_cols]\n",
    "y = patients_df.treat\n",
    "logistic.fit(X, y);"
   ]
  },
  {
   "cell_type": "markdown",
   "metadata": {},
   "source": [
    "Then add the results in a new dataframe"
   ]
  },
  {
   "cell_type": "code",
   "execution_count": 30,
   "metadata": {
    "ExecuteTime": {
     "end_time": "2017-11-21T19:04:51.779954Z",
     "start_time": "2017-11-21T19:04:51.756830Z"
    }
   },
   "outputs": [
    {
     "data": {
      "text/html": [
       "<div>\n",
       "<style>\n",
       "    .dataframe thead tr:only-child th {\n",
       "        text-align: right;\n",
       "    }\n",
       "\n",
       "    .dataframe thead th {\n",
       "        text-align: left;\n",
       "    }\n",
       "\n",
       "    .dataframe tbody tr th {\n",
       "        vertical-align: top;\n",
       "    }\n",
       "</style>\n",
       "<table border=\"1\" class=\"dataframe\">\n",
       "  <thead>\n",
       "    <tr style=\"text-align: right;\">\n",
       "      <th></th>\n",
       "      <th>treat</th>\n",
       "      <th>age</th>\n",
       "      <th>educ</th>\n",
       "      <th>black</th>\n",
       "      <th>hispan</th>\n",
       "      <th>married</th>\n",
       "      <th>nodegree</th>\n",
       "      <th>re74</th>\n",
       "      <th>re75</th>\n",
       "      <th>re78</th>\n",
       "      <th>score</th>\n",
       "    </tr>\n",
       "    <tr>\n",
       "      <th>id</th>\n",
       "      <th></th>\n",
       "      <th></th>\n",
       "      <th></th>\n",
       "      <th></th>\n",
       "      <th></th>\n",
       "      <th></th>\n",
       "      <th></th>\n",
       "      <th></th>\n",
       "      <th></th>\n",
       "      <th></th>\n",
       "      <th></th>\n",
       "    </tr>\n",
       "  </thead>\n",
       "  <tbody>\n",
       "    <tr>\n",
       "      <th>NSW1</th>\n",
       "      <td>1</td>\n",
       "      <td>37</td>\n",
       "      <td>11</td>\n",
       "      <td>1</td>\n",
       "      <td>0</td>\n",
       "      <td>1</td>\n",
       "      <td>1</td>\n",
       "      <td>0.0</td>\n",
       "      <td>0.0</td>\n",
       "      <td>9930.046</td>\n",
       "      <td>0.443350</td>\n",
       "    </tr>\n",
       "    <tr>\n",
       "      <th>NSW2</th>\n",
       "      <td>1</td>\n",
       "      <td>22</td>\n",
       "      <td>9</td>\n",
       "      <td>0</td>\n",
       "      <td>1</td>\n",
       "      <td>0</td>\n",
       "      <td>1</td>\n",
       "      <td>0.0</td>\n",
       "      <td>0.0</td>\n",
       "      <td>3595.894</td>\n",
       "      <td>0.144660</td>\n",
       "    </tr>\n",
       "    <tr>\n",
       "      <th>NSW3</th>\n",
       "      <td>1</td>\n",
       "      <td>30</td>\n",
       "      <td>12</td>\n",
       "      <td>1</td>\n",
       "      <td>0</td>\n",
       "      <td>0</td>\n",
       "      <td>0</td>\n",
       "      <td>0.0</td>\n",
       "      <td>0.0</td>\n",
       "      <td>24909.450</td>\n",
       "      <td>0.722355</td>\n",
       "    </tr>\n",
       "  </tbody>\n",
       "</table>\n",
       "</div>"
      ],
      "text/plain": [
       "      treat  age  educ  black  hispan  married  nodegree  re74  re75  \\\n",
       "id                                                                     \n",
       "NSW1      1   37    11      1       0        1         1   0.0   0.0   \n",
       "NSW2      1   22     9      0       1        0         1   0.0   0.0   \n",
       "NSW3      1   30    12      1       0        0         0   0.0   0.0   \n",
       "\n",
       "           re78     score  \n",
       "id                         \n",
       "NSW1   9930.046  0.443350  \n",
       "NSW2   3595.894  0.144660  \n",
       "NSW3  24909.450  0.722355  "
      ]
     },
     "execution_count": 30,
     "metadata": {},
     "output_type": "execute_result"
    }
   ],
   "source": [
    "score = logistic.predict_proba(X)\n",
    "patients_score_df = patients_df.copy()\n",
    "patients_score_df[\"score\"] = score[:,1]\n",
    "patients_score_df.head(3)"
   ]
  },
  {
   "cell_type": "markdown",
   "metadata": {},
   "source": [
    "The score column give the probability of being treated given the pre-treatment features (all but re78)"
   ]
  },
  {
   "cell_type": "markdown",
   "metadata": {},
   "source": [
    "### 4. Balancing the dataset via matching"
   ]
  },
  {
   "cell_type": "markdown",
   "metadata": {},
   "source": [
    "#### Description\n",
    "Use the propensity scores to match each data point from the treated group with exactly one data point from the control group, while ensuring that each data point from the control group is matched with at most one data point from the treated group. (Hint: you may explore the networkx package in Python for predefined matching functions.)"
   ]
  },
  {
   "cell_type": "markdown",
   "metadata": {},
   "source": [
    "#### Solution\n",
    "\n",
    "First we need to separate the patient treated from the untreated and then see if it match with the propsensity score."
   ]
  },
  {
   "cell_type": "code",
   "execution_count": 31,
   "metadata": {
    "ExecuteTime": {
     "end_time": "2017-11-21T19:04:51.804034Z",
     "start_time": "2017-11-21T19:04:51.782200Z"
    }
   },
   "outputs": [
    {
     "data": {
      "text/html": [
       "<div>\n",
       "<style>\n",
       "    .dataframe thead tr:only-child th {\n",
       "        text-align: right;\n",
       "    }\n",
       "\n",
       "    .dataframe thead th {\n",
       "        text-align: left;\n",
       "    }\n",
       "\n",
       "    .dataframe tbody tr th {\n",
       "        vertical-align: top;\n",
       "    }\n",
       "</style>\n",
       "<table border=\"1\" class=\"dataframe\">\n",
       "  <thead>\n",
       "    <tr style=\"text-align: right;\">\n",
       "      <th></th>\n",
       "      <th>treat</th>\n",
       "      <th>age</th>\n",
       "      <th>educ</th>\n",
       "      <th>black</th>\n",
       "      <th>hispan</th>\n",
       "      <th>married</th>\n",
       "      <th>nodegree</th>\n",
       "      <th>re74</th>\n",
       "      <th>re75</th>\n",
       "      <th>re78</th>\n",
       "      <th>score</th>\n",
       "    </tr>\n",
       "    <tr>\n",
       "      <th>id</th>\n",
       "      <th></th>\n",
       "      <th></th>\n",
       "      <th></th>\n",
       "      <th></th>\n",
       "      <th></th>\n",
       "      <th></th>\n",
       "      <th></th>\n",
       "      <th></th>\n",
       "      <th></th>\n",
       "      <th></th>\n",
       "      <th></th>\n",
       "    </tr>\n",
       "  </thead>\n",
       "  <tbody>\n",
       "    <tr>\n",
       "      <th>NSW1</th>\n",
       "      <td>1</td>\n",
       "      <td>37</td>\n",
       "      <td>11</td>\n",
       "      <td>1</td>\n",
       "      <td>0</td>\n",
       "      <td>1</td>\n",
       "      <td>1</td>\n",
       "      <td>0.0</td>\n",
       "      <td>0.0</td>\n",
       "      <td>9930.0460</td>\n",
       "      <td>0.443350</td>\n",
       "    </tr>\n",
       "    <tr>\n",
       "      <th>NSW2</th>\n",
       "      <td>1</td>\n",
       "      <td>22</td>\n",
       "      <td>9</td>\n",
       "      <td>0</td>\n",
       "      <td>1</td>\n",
       "      <td>0</td>\n",
       "      <td>1</td>\n",
       "      <td>0.0</td>\n",
       "      <td>0.0</td>\n",
       "      <td>3595.8940</td>\n",
       "      <td>0.144660</td>\n",
       "    </tr>\n",
       "    <tr>\n",
       "      <th>NSW3</th>\n",
       "      <td>1</td>\n",
       "      <td>30</td>\n",
       "      <td>12</td>\n",
       "      <td>1</td>\n",
       "      <td>0</td>\n",
       "      <td>0</td>\n",
       "      <td>0</td>\n",
       "      <td>0.0</td>\n",
       "      <td>0.0</td>\n",
       "      <td>24909.4500</td>\n",
       "      <td>0.722355</td>\n",
       "    </tr>\n",
       "    <tr>\n",
       "      <th>NSW4</th>\n",
       "      <td>1</td>\n",
       "      <td>27</td>\n",
       "      <td>11</td>\n",
       "      <td>1</td>\n",
       "      <td>0</td>\n",
       "      <td>0</td>\n",
       "      <td>1</td>\n",
       "      <td>0.0</td>\n",
       "      <td>0.0</td>\n",
       "      <td>7506.1460</td>\n",
       "      <td>0.664151</td>\n",
       "    </tr>\n",
       "    <tr>\n",
       "      <th>NSW5</th>\n",
       "      <td>1</td>\n",
       "      <td>33</td>\n",
       "      <td>8</td>\n",
       "      <td>1</td>\n",
       "      <td>0</td>\n",
       "      <td>0</td>\n",
       "      <td>1</td>\n",
       "      <td>0.0</td>\n",
       "      <td>0.0</td>\n",
       "      <td>289.7899</td>\n",
       "      <td>0.698286</td>\n",
       "    </tr>\n",
       "  </tbody>\n",
       "</table>\n",
       "</div>"
      ],
      "text/plain": [
       "      treat  age  educ  black  hispan  married  nodegree  re74  re75  \\\n",
       "id                                                                     \n",
       "NSW1      1   37    11      1       0        1         1   0.0   0.0   \n",
       "NSW2      1   22     9      0       1        0         1   0.0   0.0   \n",
       "NSW3      1   30    12      1       0        0         0   0.0   0.0   \n",
       "NSW4      1   27    11      1       0        0         1   0.0   0.0   \n",
       "NSW5      1   33     8      1       0        0         1   0.0   0.0   \n",
       "\n",
       "            re78     score  \n",
       "id                          \n",
       "NSW1   9930.0460  0.443350  \n",
       "NSW2   3595.8940  0.144660  \n",
       "NSW3  24909.4500  0.722355  \n",
       "NSW4   7506.1460  0.664151  \n",
       "NSW5    289.7899  0.698286  "
      ]
     },
     "execution_count": 31,
     "metadata": {},
     "output_type": "execute_result"
    }
   ],
   "source": [
    "patients_treated = patients_score_df.loc[patients_score_df['treat'] == 1]\n",
    "patients_not_treated = patients_score_df.loc[patients_score_df['treat'] == 0]\n",
    "patients_treated.head()"
   ]
  },
  {
   "cell_type": "code",
   "execution_count": 32,
   "metadata": {
    "ExecuteTime": {
     "end_time": "2017-11-21T19:04:51.824866Z",
     "start_time": "2017-11-21T19:04:51.807008Z"
    }
   },
   "outputs": [
    {
     "data": {
      "text/html": [
       "<div>\n",
       "<style>\n",
       "    .dataframe thead tr:only-child th {\n",
       "        text-align: right;\n",
       "    }\n",
       "\n",
       "    .dataframe thead th {\n",
       "        text-align: left;\n",
       "    }\n",
       "\n",
       "    .dataframe tbody tr th {\n",
       "        vertical-align: top;\n",
       "    }\n",
       "</style>\n",
       "<table border=\"1\" class=\"dataframe\">\n",
       "  <thead>\n",
       "    <tr style=\"text-align: right;\">\n",
       "      <th></th>\n",
       "      <th>treat</th>\n",
       "      <th>age</th>\n",
       "      <th>educ</th>\n",
       "      <th>black</th>\n",
       "      <th>hispan</th>\n",
       "      <th>married</th>\n",
       "      <th>nodegree</th>\n",
       "      <th>re74</th>\n",
       "      <th>re75</th>\n",
       "      <th>re78</th>\n",
       "      <th>score</th>\n",
       "    </tr>\n",
       "    <tr>\n",
       "      <th>id</th>\n",
       "      <th></th>\n",
       "      <th></th>\n",
       "      <th></th>\n",
       "      <th></th>\n",
       "      <th></th>\n",
       "      <th></th>\n",
       "      <th></th>\n",
       "      <th></th>\n",
       "      <th></th>\n",
       "      <th></th>\n",
       "      <th></th>\n",
       "    </tr>\n",
       "  </thead>\n",
       "  <tbody>\n",
       "    <tr>\n",
       "      <th>PSID1</th>\n",
       "      <td>0</td>\n",
       "      <td>30</td>\n",
       "      <td>12</td>\n",
       "      <td>0</td>\n",
       "      <td>0</td>\n",
       "      <td>1</td>\n",
       "      <td>0</td>\n",
       "      <td>20166.73</td>\n",
       "      <td>18347.23</td>\n",
       "      <td>25564.67</td>\n",
       "      <td>0.050504</td>\n",
       "    </tr>\n",
       "    <tr>\n",
       "      <th>PSID2</th>\n",
       "      <td>0</td>\n",
       "      <td>26</td>\n",
       "      <td>12</td>\n",
       "      <td>0</td>\n",
       "      <td>0</td>\n",
       "      <td>1</td>\n",
       "      <td>0</td>\n",
       "      <td>25862.32</td>\n",
       "      <td>17806.55</td>\n",
       "      <td>25564.67</td>\n",
       "      <td>0.033330</td>\n",
       "    </tr>\n",
       "    <tr>\n",
       "      <th>PSID3</th>\n",
       "      <td>0</td>\n",
       "      <td>25</td>\n",
       "      <td>16</td>\n",
       "      <td>0</td>\n",
       "      <td>0</td>\n",
       "      <td>1</td>\n",
       "      <td>0</td>\n",
       "      <td>25862.32</td>\n",
       "      <td>15316.21</td>\n",
       "      <td>25564.67</td>\n",
       "      <td>0.022574</td>\n",
       "    </tr>\n",
       "    <tr>\n",
       "      <th>PSID4</th>\n",
       "      <td>0</td>\n",
       "      <td>42</td>\n",
       "      <td>11</td>\n",
       "      <td>0</td>\n",
       "      <td>0</td>\n",
       "      <td>1</td>\n",
       "      <td>1</td>\n",
       "      <td>21787.05</td>\n",
       "      <td>14265.29</td>\n",
       "      <td>15491.01</td>\n",
       "      <td>0.024906</td>\n",
       "    </tr>\n",
       "    <tr>\n",
       "      <th>PSID5</th>\n",
       "      <td>0</td>\n",
       "      <td>25</td>\n",
       "      <td>9</td>\n",
       "      <td>1</td>\n",
       "      <td>0</td>\n",
       "      <td>1</td>\n",
       "      <td>1</td>\n",
       "      <td>14829.69</td>\n",
       "      <td>13776.53</td>\n",
       "      <td>0.00</td>\n",
       "      <td>0.416054</td>\n",
       "    </tr>\n",
       "  </tbody>\n",
       "</table>\n",
       "</div>"
      ],
      "text/plain": [
       "       treat  age  educ  black  hispan  married  nodegree      re74      re75  \\\n",
       "id                                                                              \n",
       "PSID1      0   30    12      0       0        1         0  20166.73  18347.23   \n",
       "PSID2      0   26    12      0       0        1         0  25862.32  17806.55   \n",
       "PSID3      0   25    16      0       0        1         0  25862.32  15316.21   \n",
       "PSID4      0   42    11      0       0        1         1  21787.05  14265.29   \n",
       "PSID5      0   25     9      1       0        1         1  14829.69  13776.53   \n",
       "\n",
       "           re78     score  \n",
       "id                         \n",
       "PSID1  25564.67  0.050504  \n",
       "PSID2  25564.67  0.033330  \n",
       "PSID3  25564.67  0.022574  \n",
       "PSID4  15491.01  0.024906  \n",
       "PSID5      0.00  0.416054  "
      ]
     },
     "execution_count": 32,
     "metadata": {},
     "output_type": "execute_result"
    }
   ],
   "source": [
    "patients_not_treated.head()"
   ]
  },
  {
   "cell_type": "code",
   "execution_count": 33,
   "metadata": {
    "ExecuteTime": {
     "end_time": "2017-11-21T19:04:51.832263Z",
     "start_time": "2017-11-21T19:04:51.826992Z"
    }
   },
   "outputs": [
    {
     "data": {
      "text/plain": [
       "185"
      ]
     },
     "execution_count": 33,
     "metadata": {},
     "output_type": "execute_result"
    }
   ],
   "source": [
    "len(patients_treated.index)"
   ]
  },
  {
   "cell_type": "code",
   "execution_count": 34,
   "metadata": {
    "ExecuteTime": {
     "end_time": "2017-11-21T19:04:51.840626Z",
     "start_time": "2017-11-21T19:04:51.835168Z"
    },
    "scrolled": true
   },
   "outputs": [
    {
     "data": {
      "text/plain": [
       "429"
      ]
     },
     "execution_count": 34,
     "metadata": {},
     "output_type": "execute_result"
    }
   ],
   "source": [
    "len(patients_not_treated.index)"
   ]
  },
  {
   "cell_type": "markdown",
   "metadata": {},
   "source": [
    "We can see that there are less the patient treated than not treated. That's why we need to find only 1 match with the untreated patients. <br>\n",
    "To do this, we need to see the distance between each data point from the treated group with exactly one data point from the control group (the not treated ones)."
   ]
  },
  {
   "cell_type": "code",
   "execution_count": 35,
   "metadata": {
    "ExecuteTime": {
     "end_time": "2017-11-21T19:04:51.846671Z",
     "start_time": "2017-11-21T19:04:51.842861Z"
    },
    "collapsed": true
   },
   "outputs": [],
   "source": [
    "#To calculate the distance (here we have 1 axis)\n",
    "def compute_dist(x1, x2):\n",
    "    return np.sqrt(np.power(x1 - x2, 2))"
   ]
  },
  {
   "cell_type": "code",
   "execution_count": 36,
   "metadata": {
    "ExecuteTime": {
     "end_time": "2017-11-21T19:04:51.880472Z",
     "start_time": "2017-11-21T19:04:51.849257Z"
    },
    "collapsed": true
   },
   "outputs": [],
   "source": [
    "def matching_only_one(treated, ntreated, match_score):\n",
    "    matching = []\n",
    "    idx_npatient_used = []\n",
    "    \n",
    "    for patient_idx in treated.index:\n",
    "        patient = treated.loc[patient_idx]\n",
    "        patient_score = patient[match_score]\n",
    "        \n",
    "        min_dist = 10000000 # an arbitrary big number (the distance will be always below)\n",
    "        match = []\n",
    "        \n",
    "        for npatient_idx in ntreated.index:\n",
    "            npatient = ntreated.loc[npatient_idx]\n",
    "            npatient_score = npatient[match_score]\n",
    "            \n",
    "            dist = compute_dist(patient_score, npatient_score)\n",
    "            \n",
    "            if(dist < min_dist):\n",
    "                # we need to look if the untreated patient index was already used\n",
    "                if(npatient_idx not in idx_npatient_used):\n",
    "                    match = [patient_idx, npatient_idx]\n",
    "                    min_dist = dist\n",
    "                    \n",
    "        matching.append(match)\n",
    "        idx_npatient_used.append(match[1])\n",
    "        \n",
    "    return matching   "
   ]
  },
  {
   "cell_type": "code",
   "execution_count": 37,
   "metadata": {
    "ExecuteTime": {
     "end_time": "2017-11-21T19:05:05.086505Z",
     "start_time": "2017-11-21T19:04:51.882944Z"
    },
    "collapsed": true
   },
   "outputs": [],
   "source": [
    "matching = matching_only_one(patients_treated, patients_not_treated, \"score\")"
   ]
  },
  {
   "cell_type": "markdown",
   "metadata": {},
   "source": [
    "Verification that we have only one match and that they are all different"
   ]
  },
  {
   "cell_type": "code",
   "execution_count": 38,
   "metadata": {
    "ExecuteTime": {
     "end_time": "2017-11-21T19:05:05.097867Z",
     "start_time": "2017-11-21T19:05:05.088572Z"
    },
    "collapsed": true
   },
   "outputs": [],
   "source": [
    "def verify_one_match(list_):\n",
    "    for i in range(len(list_)):\n",
    "        psid1 = list_[i][1]\n",
    "        for j in range(len(list_)):\n",
    "            psid2 = list_[j][1]\n",
    "            if(i != j and psid1 == psid2):\n",
    "                return False\n",
    "    \n",
    "    return True\n",
    "                "
   ]
  },
  {
   "cell_type": "code",
   "execution_count": 39,
   "metadata": {
    "ExecuteTime": {
     "end_time": "2017-11-21T19:05:05.110525Z",
     "start_time": "2017-11-21T19:05:05.099440Z"
    }
   },
   "outputs": [
    {
     "data": {
      "text/plain": [
       "True"
      ]
     },
     "execution_count": 39,
     "metadata": {},
     "output_type": "execute_result"
    }
   ],
   "source": [
    "verify_one_match(matching)"
   ]
  },
  {
   "cell_type": "markdown",
   "metadata": {},
   "source": [
    "Now that we have the match we can compare the values of the treated and not treated persons"
   ]
  },
  {
   "cell_type": "code",
   "execution_count": 40,
   "metadata": {
    "ExecuteTime": {
     "end_time": "2017-11-21T19:05:05.121609Z",
     "start_time": "2017-11-21T19:05:05.112422Z"
    }
   },
   "outputs": [
    {
     "data": {
      "text/plain": [
       "count      185.000000\n",
       "mean      6349.143530\n",
       "std       7867.402218\n",
       "min          0.000000\n",
       "25%        485.229800\n",
       "50%       4232.309000\n",
       "75%       9642.999000\n",
       "max      60307.930000\n",
       "Name: re78, dtype: float64"
      ]
     },
     "execution_count": 40,
     "metadata": {},
     "output_type": "execute_result"
    }
   ],
   "source": [
    "patients_treated['re78'].describe()"
   ]
  },
  {
   "cell_type": "code",
   "execution_count": 41,
   "metadata": {
    "ExecuteTime": {
     "end_time": "2017-11-21T19:05:05.135538Z",
     "start_time": "2017-11-21T19:05:05.123509Z"
    }
   },
   "outputs": [
    {
     "data": {
      "text/plain": [
       "count      185.000000\n",
       "mean      5312.474907\n",
       "std       5842.884861\n",
       "min          0.000000\n",
       "25%          0.000000\n",
       "50%       3392.860000\n",
       "75%       7933.914000\n",
       "max      20243.380000\n",
       "Name: re78, dtype: float64"
      ]
     },
     "execution_count": 41,
     "metadata": {},
     "output_type": "execute_result"
    }
   ],
   "source": [
    "patients_not_treated_matched = patients_not_treated.loc[np.array(matching)[:,1]]\n",
    "patients_not_treated_matched['re78'].describe()"
   ]
  },
  {
   "cell_type": "markdown",
   "metadata": {},
   "source": [
    "We can see that they look alike and our conclusion will be better than what we have done before. We can plot them to see the differences."
   ]
  },
  {
   "cell_type": "code",
   "execution_count": 42,
   "metadata": {
    "ExecuteTime": {
     "end_time": "2017-11-21T19:05:05.279879Z",
     "start_time": "2017-11-21T19:05:05.137522Z"
    }
   },
   "outputs": [
    {
     "data": {
      "image/png": "[encoded data removed]",
      "text/plain": [
       "<matplotlib.figure.Figure at 0x1a131905c0>"
      ]
     },
     "metadata": {},
     "output_type": "display_data"
    }
   ],
   "source": [
    "make_boxplot(patients_treated, patients_not_treated_matched, 're78', ['treated', 'not_treated'], ['steelblue', '#5EDF63'])"
   ]
  },
  {
   "cell_type": "markdown",
   "metadata": {},
   "source": [
    "We can see that the plots are very similar and give us better informations about the treated and untreated people.\n",
    "Here with this analysis, we can conclude that the treatment doesn't really work because the real earnings are not higher for the treated persons than the untreated ones. So it seems logical to say that applying for this job training program has no influence. Furthermore, the differences could be caused by economic fluctuations or that maybe a higher salary involves having more experiences and better skills than the training job can bring."
   ]
  },
  {
   "cell_type": "markdown",
   "metadata": {},
   "source": [
    "We can now compare the age, education and the other parameters that we have to see how the repartition of the data looks."
   ]
  },
  {
   "cell_type": "code",
   "execution_count": 43,
   "metadata": {
    "ExecuteTime": {
     "end_time": "2017-11-21T19:05:05.600467Z",
     "start_time": "2017-11-21T19:05:05.281466Z"
    },
    "scrolled": false
   },
   "outputs": [
    {
     "data": {
      "image/png": "[encoded data removed]",
      "text/plain": [
       "<matplotlib.figure.Figure at 0x1a13b69828>"
      ]
     },
     "metadata": {},
     "output_type": "display_data"
    }
   ],
   "source": [
    "shared_plot_by('age', 'hist', patients_treated, patients_not_treated_matched)"
   ]
  },
  {
   "cell_type": "code",
   "execution_count": 44,
   "metadata": {
    "ExecuteTime": {
     "end_time": "2017-11-21T19:05:05.608672Z",
     "start_time": "2017-11-21T19:05:05.602222Z"
    }
   },
   "outputs": [
    {
     "data": {
      "text/plain": [
       "count    185.000000\n",
       "mean      25.816216\n",
       "std        7.155019\n",
       "min       17.000000\n",
       "25%       20.000000\n",
       "50%       25.000000\n",
       "75%       29.000000\n",
       "max       48.000000\n",
       "Name: age, dtype: float64"
      ]
     },
     "execution_count": 44,
     "metadata": {},
     "output_type": "execute_result"
    }
   ],
   "source": [
    "patients_treated['age'].describe()"
   ]
  },
  {
   "cell_type": "code",
   "execution_count": 45,
   "metadata": {
    "ExecuteTime": {
     "end_time": "2017-11-21T19:05:05.617750Z",
     "start_time": "2017-11-21T19:05:05.610374Z"
    },
    "scrolled": true
   },
   "outputs": [
    {
     "data": {
      "text/plain": [
       "count    185.000000\n",
       "mean      23.713514\n",
       "std        9.644726\n",
       "min       16.000000\n",
       "25%       17.000000\n",
       "50%       19.000000\n",
       "75%       26.000000\n",
       "max       55.000000\n",
       "Name: age, dtype: float64"
      ]
     },
     "execution_count": 45,
     "metadata": {},
     "output_type": "execute_result"
    }
   ],
   "source": [
    "patients_not_treated_matched['age'].describe()"
   ]
  },
  {
   "cell_type": "markdown",
   "metadata": {},
   "source": [
    "Now we can see that we have the same number of treated and untreated persons and the distributions of both graph are similar. So we can hope that these changes will leads to very good results. However, we can see that there is still a difference betweeen young people (15-20). There are a lot more of untreated young people than treated. So we will have again bias results but less than with the naive approch. Let's see if it's also the case for the years of educations."
   ]
  },
  {
   "cell_type": "code",
   "execution_count": 46,
   "metadata": {
    "ExecuteTime": {
     "end_time": "2017-11-21T19:05:05.957305Z",
     "start_time": "2017-11-21T19:05:05.620117Z"
    }
   },
   "outputs": [
    {
     "data": {
      "image/png": "[encoded data removed]",
      "text/plain": [
       "<matplotlib.figure.Figure at 0x1a13cf3f60>"
      ]
     },
     "metadata": {},
     "output_type": "display_data"
    }
   ],
   "source": [
    "shared_plot_by('educ', 'hist', patients_treated, patients_not_treated_matched)"
   ]
  },
  {
   "cell_type": "code",
   "execution_count": 47,
   "metadata": {
    "ExecuteTime": {
     "end_time": "2017-11-21T19:05:05.966601Z",
     "start_time": "2017-11-21T19:05:05.959137Z"
    }
   },
   "outputs": [
    {
     "data": {
      "text/plain": [
       "count    185.000000\n",
       "mean      10.345946\n",
       "std        2.010650\n",
       "min        4.000000\n",
       "25%        9.000000\n",
       "50%       11.000000\n",
       "75%       12.000000\n",
       "max       16.000000\n",
       "Name: educ, dtype: float64"
      ]
     },
     "execution_count": 47,
     "metadata": {},
     "output_type": "execute_result"
    }
   ],
   "source": [
    "patients_treated['educ'].describe()"
   ]
  },
  {
   "cell_type": "code",
   "execution_count": 48,
   "metadata": {
    "ExecuteTime": {
     "end_time": "2017-11-21T19:05:05.980847Z",
     "start_time": "2017-11-21T19:05:05.968886Z"
    },
    "scrolled": true
   },
   "outputs": [
    {
     "data": {
      "text/plain": [
       "count    185.000000\n",
       "mean      10.162162\n",
       "std        2.861984\n",
       "min        0.000000\n",
       "25%        9.000000\n",
       "50%       10.000000\n",
       "75%       12.000000\n",
       "max       18.000000\n",
       "Name: educ, dtype: float64"
      ]
     },
     "execution_count": 48,
     "metadata": {},
     "output_type": "execute_result"
    }
   ],
   "source": [
    "patients_not_treated_matched['educ'].describe()"
   ]
  },
  {
   "cell_type": "markdown",
   "metadata": {},
   "source": [
    "Again, the distribution of education for treated and untreated person are similar. These distributions look like gaussians but it's not random so we will have bias on our final results. For example, if we look at the graph, most of the people who studied for a long time (around 10 years) took this job training program. Maybe the reason is that after about 10 years of study, another training can bring or supplement useful skills for a job. <br>\n",
    "However we don't have the same proportion (again) of people for each year of education so this supports our hypothesis that this is a <b>non-random treatment assignment</b>"
   ]
  },
  {
   "cell_type": "code",
   "execution_count": 49,
   "metadata": {
    "ExecuteTime": {
     "end_time": "2017-11-21T19:05:06.276898Z",
     "start_time": "2017-11-21T19:05:05.983597Z"
    }
   },
   "outputs": [
    {
     "data": {
      "image/png": "[encoded data removed]",
      "text/plain": [
       "<matplotlib.figure.Figure at 0x1a134fab70>"
      ]
     },
     "metadata": {},
     "output_type": "display_data"
    }
   ],
   "source": [
    "fig, plot_axes = plt.subplots(1, 2, figsize=(14, 5), sharex=True)\n",
    "nb_index = np.arange(2)\n",
    "col_names = ['nodegree', 'married']\n",
    "\n",
    "result_0, result_1 = col_number(patients_treated, col_names)\n",
    "bar_subplot(plot_axes[0], nb_index, result_0, result_1, 'Ratio of treated persons')\n",
    "\n",
    "result_0, result_1 = col_number(patients_not_treated_matched, col_names)\n",
    "bar_subplot(plot_axes[1], nb_index, result_0, result_1, 'Ratio of untreated persons merged')\n",
    "\n",
    "plt.show()"
   ]
  },
  {
   "cell_type": "markdown",
   "metadata": {},
   "source": [
    "We can see that the proportion of person without a degree is very similar in both groups. However it is still a little bit higher in the treatment group, which one can conclude that if someone has a diploma, he will normally take the training (for more skills). <br>\n",
    "For the married people we can see that the proportions are the same which wasn't the case with the naive approach. This shows that now, we have similar groups with \"similar\" married persons and therefore will lead to better results. However the final result did not depend only on married people and this is why we can't say that this research is a random treatment assignment."
   ]
  },
  {
   "cell_type": "markdown",
   "metadata": {},
   "source": [
    "In this part, we will look at <b>blacks and hispanic</b> and compare the ratios between the two groups"
   ]
  },
  {
   "cell_type": "code",
   "execution_count": 50,
   "metadata": {
    "ExecuteTime": {
     "end_time": "2017-11-21T19:05:06.283544Z",
     "start_time": "2017-11-21T19:05:06.278823Z"
    }
   },
   "outputs": [
    {
     "name": "stdout",
     "output_type": "stream",
     "text": [
      "Percentage of treated black: 0.843243243243\n"
     ]
    }
   ],
   "source": [
    "patient_not_treated_count = len(patients_not_treated_matched)\n",
    "patient_treated_count = len(patients_treated)\n",
    "print(\"Percentage of treated black:\",compute_ratio(patients_treated, 'black', patient_treated_count))"
   ]
  },
  {
   "cell_type": "code",
   "execution_count": 51,
   "metadata": {
    "ExecuteTime": {
     "end_time": "2017-11-21T19:05:06.291675Z",
     "start_time": "2017-11-21T19:05:06.285284Z"
    }
   },
   "outputs": [
    {
     "name": "stdout",
     "output_type": "stream",
     "text": [
      "percentatge of untreated black: 0.47027027027\n"
     ]
    }
   ],
   "source": [
    "print(\"percentatge of untreated black:\",compute_ratio(patients_not_treated_matched, 'black', patient_not_treated_count))"
   ]
  },
  {
   "cell_type": "code",
   "execution_count": 52,
   "metadata": {
    "ExecuteTime": {
     "end_time": "2017-11-21T19:05:06.297970Z",
     "start_time": "2017-11-21T19:05:06.293492Z"
    }
   },
   "outputs": [
    {
     "name": "stdout",
     "output_type": "stream",
     "text": [
      "percentage of treated hispanic: 0.0594594594595\n"
     ]
    }
   ],
   "source": [
    "print(\"percentage of treated hispanic:\",compute_ratio(patients_treated, 'hispan', patient_treated_count))"
   ]
  },
  {
   "cell_type": "code",
   "execution_count": 53,
   "metadata": {
    "ExecuteTime": {
     "end_time": "2017-11-21T19:05:06.304804Z",
     "start_time": "2017-11-21T19:05:06.299965Z"
    }
   },
   "outputs": [
    {
     "name": "stdout",
     "output_type": "stream",
     "text": [
      "percentage of untreated hispanic: 0.118918918919\n"
     ]
    }
   ],
   "source": [
    "print(\"percentage of untreated hispanic:\",compute_ratio(patients_not_treated_matched, 'hispan', patient_not_treated_count))"
   ]
  },
  {
   "cell_type": "markdown",
   "metadata": {},
   "source": [
    "We can see now that the proportion of blacks in the treated group is almost twice as important as the one of the non-treated group. In addition, for Hispanics, we have the same problem, almost twice as much hispanic in the untreated group this time.<br>\n",
    "With these results, we can conclude that since the proportion of blacks and hipanics are not the same in both groups, the final results will not be good. Indeed to have the best results possible, there should be similar proportions. <br>\n",
    "Finally, we can conclude that with all these differences seen previously, this is a <b>non-random treatment assignement</b>"
   ]
  },
  {
   "cell_type": "markdown",
   "metadata": {},
   "source": [
    "### 5. Balancing the groups further"
   ]
  },
  {
   "cell_type": "markdown",
   "metadata": {},
   "source": [
    "kevin part"
   ]
  },
  {
   "cell_type": "markdown",
   "metadata": {},
   "source": [
    "As we saw in the previous part, our matching were only on the score of the prediction and nothing else. We have 185 persons but maybe we can do a better match. First we will filter our people and keep only the people how have a better matching to see if it can improve te result. Then we will test with an other matching function to find better results "
   ]
  },
  {
   "cell_type": "code",
   "execution_count": 54,
   "metadata": {},
   "outputs": [
    {
     "data": {
      "text/html": [
       "<div>\n",
       "<style>\n",
       "    .dataframe thead tr:only-child th {\n",
       "        text-align: right;\n",
       "    }\n",
       "\n",
       "    .dataframe thead th {\n",
       "        text-align: left;\n",
       "    }\n",
       "\n",
       "    .dataframe tbody tr th {\n",
       "        vertical-align: top;\n",
       "    }\n",
       "</style>\n",
       "<table border=\"1\" class=\"dataframe\">\n",
       "  <thead>\n",
       "    <tr style=\"text-align: right;\">\n",
       "      <th></th>\n",
       "      <th>treat</th>\n",
       "      <th>age</th>\n",
       "      <th>educ</th>\n",
       "      <th>black</th>\n",
       "      <th>hispan</th>\n",
       "      <th>married</th>\n",
       "      <th>nodegree</th>\n",
       "      <th>re74</th>\n",
       "      <th>re75</th>\n",
       "      <th>re78</th>\n",
       "      <th>score</th>\n",
       "    </tr>\n",
       "    <tr>\n",
       "      <th>id</th>\n",
       "      <th></th>\n",
       "      <th></th>\n",
       "      <th></th>\n",
       "      <th></th>\n",
       "      <th></th>\n",
       "      <th></th>\n",
       "      <th></th>\n",
       "      <th></th>\n",
       "      <th></th>\n",
       "      <th></th>\n",
       "      <th></th>\n",
       "    </tr>\n",
       "  </thead>\n",
       "  <tbody>\n",
       "    <tr>\n",
       "      <th>PSID97</th>\n",
       "      <td>0</td>\n",
       "      <td>24</td>\n",
       "      <td>12</td>\n",
       "      <td>1</td>\n",
       "      <td>0</td>\n",
       "      <td>1</td>\n",
       "      <td>0</td>\n",
       "      <td>8573.7520</td>\n",
       "      <td>4293.194</td>\n",
       "      <td>0.000</td>\n",
       "      <td>0.439327</td>\n",
       "    </tr>\n",
       "    <tr>\n",
       "      <th>PSID395</th>\n",
       "      <td>0</td>\n",
       "      <td>53</td>\n",
       "      <td>12</td>\n",
       "      <td>0</td>\n",
       "      <td>0</td>\n",
       "      <td>0</td>\n",
       "      <td>0</td>\n",
       "      <td>0.0000</td>\n",
       "      <td>0.000</td>\n",
       "      <td>0.000</td>\n",
       "      <td>0.143760</td>\n",
       "    </tr>\n",
       "    <tr>\n",
       "      <th>PSID352</th>\n",
       "      <td>0</td>\n",
       "      <td>24</td>\n",
       "      <td>12</td>\n",
       "      <td>1</td>\n",
       "      <td>0</td>\n",
       "      <td>0</td>\n",
       "      <td>0</td>\n",
       "      <td>566.2281</td>\n",
       "      <td>0.000</td>\n",
       "      <td>2284.565</td>\n",
       "      <td>0.721966</td>\n",
       "    </tr>\n",
       "    <tr>\n",
       "      <th>PSID179</th>\n",
       "      <td>0</td>\n",
       "      <td>18</td>\n",
       "      <td>11</td>\n",
       "      <td>1</td>\n",
       "      <td>0</td>\n",
       "      <td>0</td>\n",
       "      <td>1</td>\n",
       "      <td>2068.9860</td>\n",
       "      <td>1623.823</td>\n",
       "      <td>20243.380</td>\n",
       "      <td>0.663845</td>\n",
       "    </tr>\n",
       "    <tr>\n",
       "      <th>PSID355</th>\n",
       "      <td>0</td>\n",
       "      <td>19</td>\n",
       "      <td>9</td>\n",
       "      <td>1</td>\n",
       "      <td>0</td>\n",
       "      <td>0</td>\n",
       "      <td>1</td>\n",
       "      <td>384.0163</td>\n",
       "      <td>0.000</td>\n",
       "      <td>0.000</td>\n",
       "      <td>0.698314</td>\n",
       "    </tr>\n",
       "  </tbody>\n",
       "</table>\n",
       "</div>"
      ],
      "text/plain": [
       "         treat  age  educ  black  hispan  married  nodegree       re74  \\\n",
       "id                                                                       \n",
       "PSID97       0   24    12      1       0        1         0  8573.7520   \n",
       "PSID395      0   53    12      0       0        0         0     0.0000   \n",
       "PSID352      0   24    12      1       0        0         0   566.2281   \n",
       "PSID179      0   18    11      1       0        0         1  2068.9860   \n",
       "PSID355      0   19     9      1       0        0         1   384.0163   \n",
       "\n",
       "             re75       re78     score  \n",
       "id                                      \n",
       "PSID97   4293.194      0.000  0.439327  \n",
       "PSID395     0.000      0.000  0.143760  \n",
       "PSID352     0.000   2284.565  0.721966  \n",
       "PSID179  1623.823  20243.380  0.663845  \n",
       "PSID355     0.000      0.000  0.698314  "
      ]
     },
     "execution_count": 54,
     "metadata": {},
     "output_type": "execute_result"
    }
   ],
   "source": [
    "patients_not_treated_matched.head()"
   ]
  },
  {
   "cell_type": "code",
   "execution_count": 55,
   "metadata": {
    "scrolled": true
   },
   "outputs": [
    {
     "data": {
      "text/html": [
       "<div>\n",
       "<style>\n",
       "    .dataframe thead tr:only-child th {\n",
       "        text-align: right;\n",
       "    }\n",
       "\n",
       "    .dataframe thead th {\n",
       "        text-align: left;\n",
       "    }\n",
       "\n",
       "    .dataframe tbody tr th {\n",
       "        vertical-align: top;\n",
       "    }\n",
       "</style>\n",
       "<table border=\"1\" class=\"dataframe\">\n",
       "  <thead>\n",
       "    <tr style=\"text-align: right;\">\n",
       "      <th></th>\n",
       "      <th>treat</th>\n",
       "      <th>age</th>\n",
       "      <th>educ</th>\n",
       "      <th>black</th>\n",
       "      <th>hispan</th>\n",
       "      <th>married</th>\n",
       "      <th>nodegree</th>\n",
       "      <th>re74</th>\n",
       "      <th>re75</th>\n",
       "      <th>re78</th>\n",
       "      <th>score</th>\n",
       "    </tr>\n",
       "    <tr>\n",
       "      <th>id</th>\n",
       "      <th></th>\n",
       "      <th></th>\n",
       "      <th></th>\n",
       "      <th></th>\n",
       "      <th></th>\n",
       "      <th></th>\n",
       "      <th></th>\n",
       "      <th></th>\n",
       "      <th></th>\n",
       "      <th></th>\n",
       "      <th></th>\n",
       "    </tr>\n",
       "  </thead>\n",
       "  <tbody>\n",
       "    <tr>\n",
       "      <th>NSW1</th>\n",
       "      <td>1</td>\n",
       "      <td>37</td>\n",
       "      <td>11</td>\n",
       "      <td>1</td>\n",
       "      <td>0</td>\n",
       "      <td>1</td>\n",
       "      <td>1</td>\n",
       "      <td>0.0</td>\n",
       "      <td>0.0</td>\n",
       "      <td>9930.0460</td>\n",
       "      <td>0.443350</td>\n",
       "    </tr>\n",
       "    <tr>\n",
       "      <th>NSW2</th>\n",
       "      <td>1</td>\n",
       "      <td>22</td>\n",
       "      <td>9</td>\n",
       "      <td>0</td>\n",
       "      <td>1</td>\n",
       "      <td>0</td>\n",
       "      <td>1</td>\n",
       "      <td>0.0</td>\n",
       "      <td>0.0</td>\n",
       "      <td>3595.8940</td>\n",
       "      <td>0.144660</td>\n",
       "    </tr>\n",
       "    <tr>\n",
       "      <th>NSW3</th>\n",
       "      <td>1</td>\n",
       "      <td>30</td>\n",
       "      <td>12</td>\n",
       "      <td>1</td>\n",
       "      <td>0</td>\n",
       "      <td>0</td>\n",
       "      <td>0</td>\n",
       "      <td>0.0</td>\n",
       "      <td>0.0</td>\n",
       "      <td>24909.4500</td>\n",
       "      <td>0.722355</td>\n",
       "    </tr>\n",
       "    <tr>\n",
       "      <th>NSW4</th>\n",
       "      <td>1</td>\n",
       "      <td>27</td>\n",
       "      <td>11</td>\n",
       "      <td>1</td>\n",
       "      <td>0</td>\n",
       "      <td>0</td>\n",
       "      <td>1</td>\n",
       "      <td>0.0</td>\n",
       "      <td>0.0</td>\n",
       "      <td>7506.1460</td>\n",
       "      <td>0.664151</td>\n",
       "    </tr>\n",
       "    <tr>\n",
       "      <th>NSW5</th>\n",
       "      <td>1</td>\n",
       "      <td>33</td>\n",
       "      <td>8</td>\n",
       "      <td>1</td>\n",
       "      <td>0</td>\n",
       "      <td>0</td>\n",
       "      <td>1</td>\n",
       "      <td>0.0</td>\n",
       "      <td>0.0</td>\n",
       "      <td>289.7899</td>\n",
       "      <td>0.698286</td>\n",
       "    </tr>\n",
       "  </tbody>\n",
       "</table>\n",
       "</div>"
      ],
      "text/plain": [
       "      treat  age  educ  black  hispan  married  nodegree  re74  re75  \\\n",
       "id                                                                     \n",
       "NSW1      1   37    11      1       0        1         1   0.0   0.0   \n",
       "NSW2      1   22     9      0       1        0         1   0.0   0.0   \n",
       "NSW3      1   30    12      1       0        0         0   0.0   0.0   \n",
       "NSW4      1   27    11      1       0        0         1   0.0   0.0   \n",
       "NSW5      1   33     8      1       0        0         1   0.0   0.0   \n",
       "\n",
       "            re78     score  \n",
       "id                          \n",
       "NSW1   9930.0460  0.443350  \n",
       "NSW2   3595.8940  0.144660  \n",
       "NSW3  24909.4500  0.722355  \n",
       "NSW4   7506.1460  0.664151  \n",
       "NSW5    289.7899  0.698286  "
      ]
     },
     "execution_count": 55,
     "metadata": {},
     "output_type": "execute_result"
    }
   ],
   "source": [
    "patients_treated.head()"
   ]
  },
  {
   "cell_type": "markdown",
   "metadata": {},
   "source": [
    "What can happen if we took only those who have at maximum an interval of 10 years?"
   ]
  },
  {
   "cell_type": "code",
   "execution_count": 56,
   "metadata": {
    "collapsed": true
   },
   "outputs": [],
   "source": [
    "def reindex(treated, ntreated, match_score):\n",
    "    matching = []\n",
    "    \n",
    "    indexes1 = treated.index\n",
    "    indexes2 = ntreated.index\n",
    "    \n",
    "    for idx_1, idx_2 in zip(indexes1, indexes2):\n",
    "        patient = treated.loc[idx_1]\n",
    "        patient_age = patient[\"age\"]\n",
    "        patient_hisp = patient[\"hispan\"]\n",
    "        patient_black = patient[\"black\"]\n",
    "        npatient = ntreated.loc[idx_2]\n",
    "        npatient_age = npatient[\"age\"]\n",
    "        npatient_hisp = npatient[\"hispan\"]\n",
    "        npatient_black = npatient[\"black\"]\n",
    "        \n",
    "        dist = compute_dist(patient_age, npatient_age)\n",
    "            \n",
    "        if(dist < 7 and patient_hisp == npatient_hisp and patient_black == npatient_black):                    \n",
    "            matching.append([idx_1, idx_2])\n",
    "        \n",
    "    return matching"
   ]
  },
  {
   "cell_type": "code",
   "execution_count": 57,
   "metadata": {
    "collapsed": true
   },
   "outputs": [],
   "source": [
    "matching  = reindex(patients_treated, patients_not_treated_matched, \"score\")"
   ]
  },
  {
   "cell_type": "code",
   "execution_count": 58,
   "metadata": {},
   "outputs": [
    {
     "data": {
      "text/plain": [
       "48"
      ]
     },
     "execution_count": 58,
     "metadata": {},
     "output_type": "execute_result"
    }
   ],
   "source": [
    "len(matching)"
   ]
  },
  {
   "cell_type": "code",
   "execution_count": 59,
   "metadata": {},
   "outputs": [
    {
     "data": {
      "text/plain": [
       "count       48.000000\n",
       "mean      5265.893429\n",
       "std       6349.538209\n",
       "min          0.000000\n",
       "25%          0.000000\n",
       "50%       2335.040000\n",
       "75%       9360.090750\n",
       "max      24909.450000\n",
       "Name: re78, dtype: float64"
      ]
     },
     "execution_count": 59,
     "metadata": {},
     "output_type": "execute_result"
    }
   ],
   "source": [
    "new_patients_not_treated_matched = patients_not_treated.loc[np.array(matching)[:,1]]\n",
    "new_patients_treated_matched = patients_treated.loc[np.array(matching)[:,0]]\n",
    "new_patients_treated_matched['re78'].describe()"
   ]
  },
  {
   "cell_type": "code",
   "execution_count": 60,
   "metadata": {
    "scrolled": true
   },
   "outputs": [
    {
     "data": {
      "image/png": "[encoded data removed]",
      "text/plain": [
       "<matplotlib.figure.Figure at 0x1a1321c7f0>"
      ]
     },
     "metadata": {},
     "output_type": "display_data"
    }
   ],
   "source": [
    "make_boxplot(new_patients_not_treated_matched, new_patients_treated_matched, 're78', ['treated', 'not_treated'], ['steelblue', '#5EDF63'])"
   ]
  },
  {
   "cell_type": "code",
   "execution_count": 61,
   "metadata": {
    "scrolled": true
   },
   "outputs": [
    {
     "data": {
      "image/png": "[encoded data removed]",
      "text/plain": [
       "<matplotlib.figure.Figure at 0x104395dd8>"
      ]
     },
     "metadata": {},
     "output_type": "display_data"
    }
   ],
   "source": [
    "shared_plot_by('age', 'hist', new_patients_treated_matched, new_patients_not_treated_matched)"
   ]
  },
  {
   "cell_type": "code",
   "execution_count": 62,
   "metadata": {},
   "outputs": [
    {
     "data": {
      "image/png": "[encoded data removed]",
      "text/plain": [
       "<matplotlib.figure.Figure at 0x1a1321cc88>"
      ]
     },
     "metadata": {},
     "output_type": "display_data"
    }
   ],
   "source": [
    "shared_plot_by('educ', 'hist', new_patients_treated_matched, new_patients_not_treated_matched)"
   ]
  },
  {
   "cell_type": "code",
   "execution_count": 63,
   "metadata": {},
   "outputs": [
    {
     "name": "stdout",
     "output_type": "stream",
     "text": [
      "Percentage of treated black: 0.8125\n"
     ]
    }
   ],
   "source": [
    "patient_not_treated_count = len(new_patients_not_treated_matched)\n",
    "patient_treated_count = len(new_patients_treated_matched)\n",
    "print(\"Percentage of treated black:\",compute_ratio(new_patients_treated_matched, 'black', patient_treated_count))"
   ]
  },
  {
   "cell_type": "code",
   "execution_count": 64,
   "metadata": {},
   "outputs": [
    {
     "name": "stdout",
     "output_type": "stream",
     "text": [
      "percentatge of untreated black: 0.8125\n"
     ]
    }
   ],
   "source": [
    "print(\"percentatge of untreated black:\",compute_ratio(new_patients_not_treated_matched, 'black', patient_not_treated_count))"
   ]
  },
  {
   "cell_type": "code",
   "execution_count": 65,
   "metadata": {},
   "outputs": [
    {
     "name": "stdout",
     "output_type": "stream",
     "text": [
      "percentage of treated hispanic: 0.0\n"
     ]
    }
   ],
   "source": [
    "print(\"percentage of treated hispanic:\",compute_ratio(new_patients_treated_matched, 'hispan', patient_treated_count))"
   ]
  },
  {
   "cell_type": "code",
   "execution_count": 66,
   "metadata": {},
   "outputs": [
    {
     "name": "stdout",
     "output_type": "stream",
     "text": [
      "percentage of untreated hispanic: 0.0\n"
     ]
    }
   ],
   "source": [
    "print(\"percentage of untreated hispanic:\",compute_ratio(new_patients_not_treated_matched, 'hispan', patient_not_treated_count))"
   ]
  },
  {
   "cell_type": "markdown",
   "metadata": {},
   "source": [
    "We can see here that the results (numbers and distribution are more similar) so it will lead to better results.\n",
    "However we don't have any hispanic in our match. <br>\n",
    "So maybe we can split better the data at the beginning so the results will be better. Let's check"
   ]
  },
  {
   "cell_type": "code",
   "execution_count": 67,
   "metadata": {},
   "outputs": [
    {
     "data": {
      "text/html": [
       "<div>\n",
       "<style>\n",
       "    .dataframe thead tr:only-child th {\n",
       "        text-align: right;\n",
       "    }\n",
       "\n",
       "    .dataframe thead th {\n",
       "        text-align: left;\n",
       "    }\n",
       "\n",
       "    .dataframe tbody tr th {\n",
       "        vertical-align: top;\n",
       "    }\n",
       "</style>\n",
       "<table border=\"1\" class=\"dataframe\">\n",
       "  <thead>\n",
       "    <tr style=\"text-align: right;\">\n",
       "      <th></th>\n",
       "      <th>treat</th>\n",
       "      <th>age</th>\n",
       "      <th>educ</th>\n",
       "      <th>black</th>\n",
       "      <th>hispan</th>\n",
       "      <th>married</th>\n",
       "      <th>nodegree</th>\n",
       "      <th>re74</th>\n",
       "      <th>re75</th>\n",
       "      <th>re78</th>\n",
       "      <th>score</th>\n",
       "    </tr>\n",
       "    <tr>\n",
       "      <th>id</th>\n",
       "      <th></th>\n",
       "      <th></th>\n",
       "      <th></th>\n",
       "      <th></th>\n",
       "      <th></th>\n",
       "      <th></th>\n",
       "      <th></th>\n",
       "      <th></th>\n",
       "      <th></th>\n",
       "      <th></th>\n",
       "      <th></th>\n",
       "    </tr>\n",
       "  </thead>\n",
       "  <tbody>\n",
       "    <tr>\n",
       "      <th>NSW1</th>\n",
       "      <td>1</td>\n",
       "      <td>37</td>\n",
       "      <td>11</td>\n",
       "      <td>1</td>\n",
       "      <td>0</td>\n",
       "      <td>1</td>\n",
       "      <td>1</td>\n",
       "      <td>0.0</td>\n",
       "      <td>0.0</td>\n",
       "      <td>9930.0460</td>\n",
       "      <td>0.656284</td>\n",
       "    </tr>\n",
       "    <tr>\n",
       "      <th>NSW3</th>\n",
       "      <td>1</td>\n",
       "      <td>30</td>\n",
       "      <td>12</td>\n",
       "      <td>1</td>\n",
       "      <td>0</td>\n",
       "      <td>0</td>\n",
       "      <td>0</td>\n",
       "      <td>0.0</td>\n",
       "      <td>0.0</td>\n",
       "      <td>24909.4500</td>\n",
       "      <td>0.645230</td>\n",
       "    </tr>\n",
       "    <tr>\n",
       "      <th>NSW4</th>\n",
       "      <td>1</td>\n",
       "      <td>27</td>\n",
       "      <td>11</td>\n",
       "      <td>1</td>\n",
       "      <td>0</td>\n",
       "      <td>0</td>\n",
       "      <td>1</td>\n",
       "      <td>0.0</td>\n",
       "      <td>0.0</td>\n",
       "      <td>7506.1460</td>\n",
       "      <td>0.745107</td>\n",
       "    </tr>\n",
       "    <tr>\n",
       "      <th>NSW5</th>\n",
       "      <td>1</td>\n",
       "      <td>33</td>\n",
       "      <td>8</td>\n",
       "      <td>1</td>\n",
       "      <td>0</td>\n",
       "      <td>0</td>\n",
       "      <td>1</td>\n",
       "      <td>0.0</td>\n",
       "      <td>0.0</td>\n",
       "      <td>289.7899</td>\n",
       "      <td>0.687412</td>\n",
       "    </tr>\n",
       "    <tr>\n",
       "      <th>NSW6</th>\n",
       "      <td>1</td>\n",
       "      <td>22</td>\n",
       "      <td>9</td>\n",
       "      <td>1</td>\n",
       "      <td>0</td>\n",
       "      <td>0</td>\n",
       "      <td>1</td>\n",
       "      <td>0.0</td>\n",
       "      <td>0.0</td>\n",
       "      <td>4056.4940</td>\n",
       "      <td>0.686153</td>\n",
       "    </tr>\n",
       "  </tbody>\n",
       "</table>\n",
       "</div>"
      ],
      "text/plain": [
       "      treat  age  educ  black  hispan  married  nodegree  re74  re75  \\\n",
       "id                                                                     \n",
       "NSW1      1   37    11      1       0        1         1   0.0   0.0   \n",
       "NSW3      1   30    12      1       0        0         0   0.0   0.0   \n",
       "NSW4      1   27    11      1       0        0         1   0.0   0.0   \n",
       "NSW5      1   33     8      1       0        0         1   0.0   0.0   \n",
       "NSW6      1   22     9      1       0        0         1   0.0   0.0   \n",
       "\n",
       "            re78     score  \n",
       "id                          \n",
       "NSW1   9930.0460  0.656284  \n",
       "NSW3  24909.4500  0.645230  \n",
       "NSW4   7506.1460  0.745107  \n",
       "NSW5    289.7899  0.687412  \n",
       "NSW6   4056.4940  0.686153  "
      ]
     },
     "execution_count": 67,
     "metadata": {},
     "output_type": "execute_result"
    }
   ],
   "source": [
    "logistic = linear_model.LogisticRegression()\n",
    "feature_cols = ['age', 'educ', 'black', 'hispan', 'married', 'nodegree', 're74', 're75']\n",
    "X = patients_df[feature_cols]\n",
    "\n",
    "X_black = X.loc[(X['black'] == 1)]\n",
    "X_hispan = X.loc[(X['hispan'] == 1)]\n",
    "X_noBlack_noHispan = X.loc[((X['hispan'] == 0) & (X['black'] == 0))]\n",
    "\n",
    "y_black = patients_df.loc[((patients_df['black'] == 1))].treat\n",
    "y_hispan = patients_df.loc[((patients_df['hispan'] == 1))].treat\n",
    "y_noBlack_noHispan = patients_df.loc[((patients_df['hispan'] == 0) & (patients_df['black'] == 0))].treat\n",
    "\n",
    "logistic.fit(X_black, y_black)\n",
    "score_b = logistic.predict_proba(X_black)\n",
    "black = patients_df.copy()\n",
    "patients_black = black.loc[black['black'] == 1]\n",
    "patients_black_score_df = patients_black.copy()\n",
    "patients_black_score_df[\"score\"] = score_b[:,1]\n",
    "\n",
    "logistic.fit(X_hispan, y_hispan)\n",
    "score_h = logistic.predict_proba(X_hispan)\n",
    "hispan = patients_df.copy()\n",
    "patients_hispan = hispan.loc[hispan['hispan'] == 1]\n",
    "patients_hispan_score_df = patients_hispan.copy()\n",
    "patients_hispan_score_df[\"score\"] = score_h[:,1]\n",
    "\n",
    "logistic.fit(X_noBlack_noHispan, y_noBlack_noHispan)\n",
    "score_nb_nh = logistic.predict_proba(X_noBlack_noHispan)\n",
    "noBlack_noHispan = patients_df.copy()\n",
    "patients_noBlack_noHispan = noBlack_noHispan.loc[((noBlack_noHispan['hispan'] == 0) & (noBlack_noHispan['black'] == 0))]\n",
    "patients_noBlack_noHispan_score_df = patients_noBlack_noHispan.copy()\n",
    "patients_noBlack_noHispan_score_df[\"score\"] = score_nb_nh[:,1]\n",
    "\n",
    "patients_black_treated = patients_black_score_df.loc[patients_black_score_df['treat'] == 1]\n",
    "patients_black_not_treated = patients_black_score_df.loc[patients_black_score_df['treat'] == 0]\n",
    "\n",
    "patients_hispan_treated = patients_hispan_score_df.loc[patients_hispan_score_df['treat'] == 1]\n",
    "patients_hispan_not_treated = patients_hispan_score_df.loc[patients_hispan_score_df['treat'] == 0]\n",
    "\n",
    "patients_noBlack_noHispan_treated = patients_noBlack_noHispan_score_df.loc[patients_noBlack_noHispan_score_df['treat'] == 1]\n",
    "patients_noBlack_noHispan_not_treated = patients_noBlack_noHispan_score_df.loc[patients_noBlack_noHispan_score_df['treat'] == 0]\n",
    "\n",
    "\n",
    "patients_black_treated.head()"
   ]
  },
  {
   "cell_type": "code",
   "execution_count": 68,
   "metadata": {
    "collapsed": true
   },
   "outputs": [],
   "source": [
    "def print_len(df):\n",
    "    print(len(df))"
   ]
  },
  {
   "cell_type": "code",
   "execution_count": 69,
   "metadata": {},
   "outputs": [
    {
     "name": "stdout",
     "output_type": "stream",
     "text": [
      "156\n",
      "87\n",
      "11\n",
      "61\n",
      "18\n",
      "281\n"
     ]
    }
   ],
   "source": [
    "print_len(patients_black_treated)\n",
    "print_len(patients_black_not_treated)\n",
    "print_len(patients_hispan_treated)\n",
    "print_len(patients_hispan_not_treated)\n",
    "print_len(patients_noBlack_noHispan_treated)\n",
    "print_len(patients_noBlack_noHispan_not_treated)"
   ]
  },
  {
   "cell_type": "code",
   "execution_count": 70,
   "metadata": {
    "collapsed": true
   },
   "outputs": [],
   "source": [
    "matching_black = matching_only_one(patients_black_not_treated, patients_black_treated, \"score\")\n",
    "matching_hispan = matching_only_one(patients_hispan_treated, patients_hispan_not_treated, \"score\")\n",
    "matching_noBlack_noHispan = matching_only_one(patients_noBlack_noHispan_treated, patients_noBlack_noHispan_not_treated, \"score\")"
   ]
  },
  {
   "cell_type": "code",
   "execution_count": 71,
   "metadata": {},
   "outputs": [
    {
     "data": {
      "text/plain": [
       "True"
      ]
     },
     "execution_count": 71,
     "metadata": {},
     "output_type": "execute_result"
    }
   ],
   "source": [
    "verify_one_match(matching_black)"
   ]
  },
  {
   "cell_type": "code",
   "execution_count": 72,
   "metadata": {},
   "outputs": [
    {
     "data": {
      "text/plain": [
       "True"
      ]
     },
     "execution_count": 72,
     "metadata": {},
     "output_type": "execute_result"
    }
   ],
   "source": [
    "verify_one_match(matching_hispan)"
   ]
  },
  {
   "cell_type": "code",
   "execution_count": 73,
   "metadata": {},
   "outputs": [
    {
     "data": {
      "text/plain": [
       "True"
      ]
     },
     "execution_count": 73,
     "metadata": {},
     "output_type": "execute_result"
    }
   ],
   "source": [
    "verify_one_match(matching_noBlack_noHispan)"
   ]
  },
  {
   "cell_type": "markdown",
   "metadata": {},
   "source": [
    "First, we will look at the black person"
   ]
  },
  {
   "cell_type": "code",
   "execution_count": 74,
   "metadata": {},
   "outputs": [
    {
     "data": {
      "text/plain": [
       "count       87.000000\n",
       "mean      4853.431497\n",
       "std       6201.725283\n",
       "min          0.000000\n",
       "25%          0.000000\n",
       "50%       1613.677000\n",
       "75%       8044.004500\n",
       "max      20243.380000\n",
       "Name: re78, dtype: float64"
      ]
     },
     "execution_count": 74,
     "metadata": {},
     "output_type": "execute_result"
    }
   ],
   "source": [
    "patients_black_not_treated['re78'].describe()"
   ]
  },
  {
   "cell_type": "code",
   "execution_count": 75,
   "metadata": {},
   "outputs": [
    {
     "data": {
      "text/plain": [
       "count       87.000000\n",
       "mean      6326.817184\n",
       "std       7617.342306\n",
       "min          0.000000\n",
       "25%          0.000000\n",
       "50%       4032.708000\n",
       "75%       9744.273500\n",
       "max      36646.950000\n",
       "Name: re78, dtype: float64"
      ]
     },
     "execution_count": 75,
     "metadata": {},
     "output_type": "execute_result"
    }
   ],
   "source": [
    "patients_black_treated_matched = patients_black_treated.loc[np.array(matching_black)[:,1]]\n",
    "patients_black_treated_matched['re78'].describe()"
   ]
  },
  {
   "cell_type": "code",
   "execution_count": 76,
   "metadata": {},
   "outputs": [
    {
     "data": {
      "image/png": "[encoded data removed]",
      "text/plain": [
       "<matplotlib.figure.Figure at 0x1a134874e0>"
      ]
     },
     "metadata": {},
     "output_type": "display_data"
    }
   ],
   "source": [
    "make_boxplot(patients_black_treated_matched, patients_black_not_treated, 're78', ['black_treated', 'black_not_treated'], ['steelblue', '#5EDF63'])"
   ]
  },
  {
   "cell_type": "code",
   "execution_count": 77,
   "metadata": {},
   "outputs": [
    {
     "data": {
      "image/png": "[encoded data removed]",
      "text/plain": [
       "<matplotlib.figure.Figure at 0x1a134e7d30>"
      ]
     },
     "metadata": {},
     "output_type": "display_data"
    }
   ],
   "source": [
    "shared_plot_by('age', 'hist', patients_black_treated_matched, patients_black_not_treated)"
   ]
  },
  {
   "cell_type": "code",
   "execution_count": 78,
   "metadata": {},
   "outputs": [
    {
     "data": {
      "image/png": "[encoded data removed]",
      "text/plain": [
       "<matplotlib.figure.Figure at 0x1a13214588>"
      ]
     },
     "metadata": {},
     "output_type": "display_data"
    }
   ],
   "source": [
    "shared_plot_by('educ', 'hist', patients_black_treated_matched, patients_black_not_treated)"
   ]
  },
  {
   "cell_type": "markdown",
   "metadata": {},
   "source": [
    "Secondly, we will look at the hispanic person"
   ]
  },
  {
   "cell_type": "code",
   "execution_count": 79,
   "metadata": {},
   "outputs": [
    {
     "data": {
      "text/plain": [
       "count       11.000000\n",
       "mean      7122.515564\n",
       "std       7320.482894\n",
       "min        559.443200\n",
       "25%       3191.927000\n",
       "50%       5112.014000\n",
       "75%       8440.646500\n",
       "max      26817.600000\n",
       "Name: re78, dtype: float64"
      ]
     },
     "execution_count": 79,
     "metadata": {},
     "output_type": "execute_result"
    }
   ],
   "source": [
    "patients_hispan_treated['re78'].describe()"
   ]
  },
  {
   "cell_type": "code",
   "execution_count": 80,
   "metadata": {},
   "outputs": [
    {
     "data": {
      "text/plain": [
       "count       11.000000\n",
       "mean      7333.688155\n",
       "std       7106.273863\n",
       "min          0.000000\n",
       "25%       1136.371850\n",
       "50%       5661.171000\n",
       "75%      11820.333500\n",
       "max      18891.260000\n",
       "Name: re78, dtype: float64"
      ]
     },
     "execution_count": 80,
     "metadata": {},
     "output_type": "execute_result"
    }
   ],
   "source": [
    "patients_hispan_not_treated_matched = patients_hispan_not_treated.loc[np.array(matching_hispan)[:,1]]\n",
    "patients_hispan_not_treated_matched['re78'].describe()"
   ]
  },
  {
   "cell_type": "code",
   "execution_count": 81,
   "metadata": {},
   "outputs": [
    {
     "data": {
      "image/png": "[encoded data removed]",
      "text/plain": [
       "<matplotlib.figure.Figure at 0x1a132555c0>"
      ]
     },
     "metadata": {},
     "output_type": "display_data"
    }
   ],
   "source": [
    "make_boxplot(patients_hispan_treated, patients_hispan_not_treated_matched, 're78', ['black_treated', 'black_not_treated'], ['steelblue', '#5EDF63'])"
   ]
  },
  {
   "cell_type": "code",
   "execution_count": 82,
   "metadata": {},
   "outputs": [
    {
     "data": {
      "image/png": "[encoded data removed]",
      "text/plain": [
       "<matplotlib.figure.Figure at 0x1a13261a58>"
      ]
     },
     "metadata": {},
     "output_type": "display_data"
    }
   ],
   "source": [
    "shared_plot_by('age', 'hist', patients_hispan_treated, patients_hispan_not_treated_matched)"
   ]
  },
  {
   "cell_type": "code",
   "execution_count": 83,
   "metadata": {},
   "outputs": [
    {
     "data": {
      "image/png": "[encoded data removed]",
      "text/plain": [
       "<matplotlib.figure.Figure at 0x1a13d24630>"
      ]
     },
     "metadata": {},
     "output_type": "display_data"
    }
   ],
   "source": [
    "shared_plot_by('educ', 'hist', patients_hispan_treated, patients_hispan_not_treated_matched)"
   ]
  },
  {
   "cell_type": "markdown",
   "metadata": {},
   "source": [
    "Finally, we will look at the person who are not black or hispanic"
   ]
  },
  {
   "cell_type": "code",
   "execution_count": 84,
   "metadata": {},
   "outputs": [
    {
     "data": {
      "text/plain": [
       "count       18.000000\n",
       "mean      7720.992278\n",
       "std       5564.944194\n",
       "min          0.000000\n",
       "25%       4254.658000\n",
       "50%       5998.226500\n",
       "75%      12582.537500\n",
       "max      18783.350000\n",
       "Name: re78, dtype: float64"
      ]
     },
     "execution_count": 84,
     "metadata": {},
     "output_type": "execute_result"
    }
   ],
   "source": [
    "patients_noBlack_noHispan_treated['re78'].describe()"
   ]
  },
  {
   "cell_type": "code",
   "execution_count": 85,
   "metadata": {},
   "outputs": [
    {
     "data": {
      "text/plain": [
       "count       18.000000\n",
       "mean      6454.791667\n",
       "std       6844.735381\n",
       "min          0.000000\n",
       "25%        429.279500\n",
       "50%       4534.404000\n",
       "75%       8498.035750\n",
       "max      23764.800000\n",
       "Name: re78, dtype: float64"
      ]
     },
     "execution_count": 85,
     "metadata": {},
     "output_type": "execute_result"
    }
   ],
   "source": [
    "patients_noBlack_noHispan_not_treated_matched = patients_noBlack_noHispan_not_treated.loc[np.array(matching_noBlack_noHispan)[:,1]]\n",
    "patients_noBlack_noHispan_not_treated_matched['re78'].describe()"
   ]
  },
  {
   "cell_type": "code",
   "execution_count": 86,
   "metadata": {},
   "outputs": [
    {
     "data": {
      "image/png": "[encoded data removed]",
      "text/plain": [
       "<matplotlib.figure.Figure at 0x1a136c5ba8>"
      ]
     },
     "metadata": {},
     "output_type": "display_data"
    }
   ],
   "source": [
    "make_boxplot(patients_noBlack_noHispan_treated, patients_noBlack_noHispan_not_treated_matched, 're78', ['black_treated', 'black_not_treated'], ['steelblue', '#5EDF63'])"
   ]
  },
  {
   "cell_type": "code",
   "execution_count": 87,
   "metadata": {},
   "outputs": [
    {
     "data": {
      "image/png": "[encoded data removed]",
      "text/plain": [
       "<matplotlib.figure.Figure at 0x1a13caa6a0>"
      ]
     },
     "metadata": {},
     "output_type": "display_data"
    }
   ],
   "source": [
    "shared_plot_by('age', 'hist', patients_noBlack_noHispan_treated, patients_noBlack_noHispan_not_treated_matched)"
   ]
  },
  {
   "cell_type": "code",
   "execution_count": 88,
   "metadata": {},
   "outputs": [
    {
     "data": {
      "image/png": "[encoded data removed]",
      "text/plain": [
       "<matplotlib.figure.Figure at 0x1a13234828>"
      ]
     },
     "metadata": {},
     "output_type": "display_data"
    }
   ],
   "source": [
    "shared_plot_by('educ', 'hist', patients_noBlack_noHispan_treated, patients_noBlack_noHispan_not_treated_matched)"
   ]
  },
  {
   "cell_type": "markdown",
   "metadata": {},
   "source": [
    "### 6. A less naive analysis"
   ]
  },
  {
   "cell_type": "code",
   "execution_count": null,
   "metadata": {
    "collapsed": true
   },
   "outputs": [],
   "source": []
  },
  {
   "cell_type": "markdown",
   "metadata": {},
   "source": [
    "### Task 2.1"
   ]
  },
  {
   "cell_type": "markdown",
   "metadata": {},
   "source": [
    "#### Description\n",
    "Load the 20newsgroup dataset. It is, again, a classic dataset that can directly be loaded using sklearn ([link](http://scikit-learn.org/stable/datasets/twenty_newsgroups.html)).  \n",
    "[TF-IDF](https://en.wikipedia.org/wiki/Tf%E2%80%93idf), short for term frequency–inverse document frequency, is of great help when if comes to compute textual features. Indeed, it gives more importance to terms that are more specific to the considered articles (TF) but reduces the importance of terms that are very frequent in the entire corpus (IDF). Compute TF-IDF features for every article using [TfidfVectorizer](http://scikit-learn.org/stable/modules/generated/sklearn.feature_extraction.text.TfidfVectorizer.html). Then, split your dataset into a training, a testing and a validation set (10% for validation and 10% for testing). Each observation should be paired with its corresponding label (the article category)."
   ]
  },
  {
   "cell_type": "markdown",
   "metadata": {},
   "source": [
    "#### Solution\n",
    "We start by loading the dataset"
   ]
  },
  {
   "cell_type": "code",
   "execution_count": 89,
   "metadata": {
    "ExecuteTime": {
     "end_time": "2017-11-21T19:05:07.653051Z",
     "start_time": "2017-11-21T19:05:06.332718Z"
    },
    "collapsed": true
   },
   "outputs": [],
   "source": [
    "from sklearn.datasets import fetch_20newsgroups\n",
    "# Retrieve data\n",
    "news_data = fetch_20newsgroups(remove=('headers', 'footers', 'quotes'))"
   ]
  },
  {
   "cell_type": "code",
   "execution_count": 90,
   "metadata": {
    "ExecuteTime": {
     "end_time": "2017-11-21T19:05:07.658951Z",
     "start_time": "2017-11-21T19:05:07.654530Z"
    }
   },
   "outputs": [
    {
     "data": {
      "text/plain": [
       "'I was wondering if anyone out there could enlighten me on this car I saw\\nthe other day. It was a 2-door sports car, looked to be from the late 60s/\\nearly 70s. It was called a Bricklin. The doors were really small. In addition,\\nthe front bumper was separate from the rest of the body. This is \\nall I know. If anyone can tellme a model name, engine specs, years\\nof production, where this car is made, history, or whatever info you\\nhave on this funky looking car, please e-mail.'"
      ]
     },
     "execution_count": 90,
     "metadata": {},
     "output_type": "execute_result"
    }
   ],
   "source": [
    "# See what an element looks like\n",
    "news_data['data'][0]"
   ]
  },
  {
   "cell_type": "code",
   "execution_count": 91,
   "metadata": {
    "ExecuteTime": {
     "end_time": "2017-11-21T19:05:09.893888Z",
     "start_time": "2017-11-21T19:05:07.660930Z"
    },
    "collapsed": true
   },
   "outputs": [],
   "source": [
    "from sklearn.feature_extraction.text import TfidfVectorizer\n",
    "vectorizer = TfidfVectorizer(sublinear_tf=True, max_df=0.5,\n",
    "                                 stop_words='english')\n",
    "vectors = vectorizer.fit_transform(news_data.data)"
   ]
  },
  {
   "cell_type": "markdown",
   "metadata": {},
   "source": [
    "Now we can get the idf by calling vectorizer attribute idf_"
   ]
  },
  {
   "cell_type": "code",
   "execution_count": 92,
   "metadata": {
    "ExecuteTime": {
     "end_time": "2017-11-21T19:05:09.901232Z",
     "start_time": "2017-11-21T19:05:09.896376Z"
    }
   },
   "outputs": [
    {
     "data": {
      "text/plain": [
       "<11314x101322 sparse matrix of type '<class 'numpy.float64'>'\n",
       "\twith 755809 stored elements in Compressed Sparse Row format>"
      ]
     },
     "execution_count": 92,
     "metadata": {},
     "output_type": "execute_result"
    }
   ],
   "source": [
    "vectors"
   ]
  },
  {
   "cell_type": "markdown",
   "metadata": {},
   "source": [
    "We can also see the details by calling \"vectorizer.vocabulary_\" but there is a loss of values"
   ]
  },
  {
   "cell_type": "code",
   "execution_count": 93,
   "metadata": {
    "ExecuteTime": {
     "end_time": "2017-11-21T19:05:09.910897Z",
     "start_time": "2017-11-21T19:05:09.903539Z"
    }
   },
   "outputs": [
    {
     "data": {
      "text/plain": [
       "array([7, 4, 4, ..., 3, 1, 8])"
      ]
     },
     "execution_count": 93,
     "metadata": {},
     "output_type": "execute_result"
    }
   ],
   "source": [
    "news_data.target"
   ]
  },
  {
   "cell_type": "code",
   "execution_count": 94,
   "metadata": {
    "ExecuteTime": {
     "end_time": "2017-11-21T19:05:12.050768Z",
     "start_time": "2017-11-21T19:05:09.913288Z"
    },
    "collapsed": true
   },
   "outputs": [],
   "source": [
    "vectorizer = TfidfVectorizer(sublinear_tf=True, max_df=0.5,stop_words='english')\n",
    "data_vec = vectorizer.fit_transform(news_data.data)"
   ]
  },
  {
   "cell_type": "code",
   "execution_count": 95,
   "metadata": {
    "ExecuteTime": {
     "end_time": "2017-11-21T19:05:12.078117Z",
     "start_time": "2017-11-21T19:05:12.052537Z"
    }
   },
   "outputs": [
    {
     "data": {
      "text/plain": [
       "(9051,)"
      ]
     },
     "execution_count": 95,
     "metadata": {},
     "output_type": "execute_result"
    }
   ],
   "source": [
    "from sklearn.model_selection import train_test_split\n",
    "# Split the data to have 80% train, 20% test and val\n",
    "x_train, x_test_val, y_train, y_test_val = train_test_split(data_vec, news_data.target, test_size = 0.2)\n",
    "# Split test and val to have 10% each\n",
    "x_test, x_val, y_test, y_val = train_test_split(x_test_val, y_test_val, test_size = 0.5)\n",
    "np.shape(y_train) "
   ]
  },
  {
   "cell_type": "code",
   "execution_count": 96,
   "metadata": {
    "ExecuteTime": {
     "end_time": "2017-11-21T19:05:12.083753Z",
     "start_time": "2017-11-21T19:05:12.080433Z"
    },
    "collapsed": true
   },
   "outputs": [],
   "source": [
    "def mse(pred, target):\n",
    "    e = pred - target\n",
    "    return e@e"
   ]
  },
  {
   "cell_type": "code",
   "execution_count": 97,
   "metadata": {
    "ExecuteTime": {
     "end_time": "2017-11-21T19:05:12.089237Z",
     "start_time": "2017-11-21T19:05:12.085311Z"
    }
   },
   "outputs": [
    {
     "data": {
      "text/plain": [
       "(2263, 101322)"
      ]
     },
     "execution_count": 97,
     "metadata": {},
     "output_type": "execute_result"
    }
   ],
   "source": [
    "np.shape(x_test_val)"
   ]
  },
  {
   "cell_type": "code",
   "execution_count": 98,
   "metadata": {
    "ExecuteTime": {
     "end_time": "2017-11-21T19:05:12.096309Z",
     "start_time": "2017-11-21T19:05:12.091012Z"
    }
   },
   "outputs": [
    {
     "data": {
      "text/plain": [
       "(9051, 101322)"
      ]
     },
     "execution_count": 98,
     "metadata": {},
     "output_type": "execute_result"
    }
   ],
   "source": [
    "np.shape(x_train)"
   ]
  },
  {
   "cell_type": "code",
   "execution_count": 99,
   "metadata": {
    "ExecuteTime": {
     "end_time": "2017-11-21T19:07:44.211782Z",
     "start_time": "2017-11-21T19:05:12.098299Z"
    },
    "collapsed": true
   },
   "outputs": [],
   "source": [
    "from sklearn.ensemble import RandomForestRegressor\n",
    "\n",
    "n_estim, dep, min_error = 0, 0, 100000\n",
    "\n",
    "for estim in range(1, 10):\n",
    "    for depth in range(1, 8):\n",
    "        regr = RandomForestRegressor(n_estimators=estim, max_depth=depth)\n",
    "        X_train = regr.fit(x_train, y_train)\n",
    "        pred = regr.predict(x_val)\n",
    "        error = mse(pred, y_val)\n",
    "        if(error < min_error):\n",
    "            min_error = error\n",
    "            n_estim = estim\n",
    "            dep = depth"
   ]
  },
  {
   "cell_type": "code",
   "execution_count": 100,
   "metadata": {
    "ExecuteTime": {
     "end_time": "2017-11-21T19:07:44.212618Z",
     "start_time": "2017-11-21T19:04:49.261Z"
    }
   },
   "outputs": [
    {
     "data": {
      "text/plain": [
       "25216.000371856335"
      ]
     },
     "execution_count": 100,
     "metadata": {},
     "output_type": "execute_result"
    }
   ],
   "source": [
    "min_error"
   ]
  },
  {
   "cell_type": "code",
   "execution_count": 101,
   "metadata": {
    "ExecuteTime": {
     "end_time": "2017-11-21T19:07:44.213272Z",
     "start_time": "2017-11-21T19:04:49.262Z"
    },
    "collapsed": true
   },
   "outputs": [],
   "source": [
    "def ratio_prediction(pred, value):\n",
    "    return np.in1d(pred, value).sum()/len(pred)"
   ]
  },
  {
   "cell_type": "code",
   "execution_count": 102,
   "metadata": {
    "ExecuteTime": {
     "end_time": "2017-11-21T19:07:44.214241Z",
     "start_time": "2017-11-21T19:04:49.263Z"
    }
   },
   "outputs": [
    {
     "data": {
      "text/plain": [
       "0.66666666666666663"
      ]
     },
     "execution_count": 102,
     "metadata": {},
     "output_type": "execute_result"
    }
   ],
   "source": [
    "ratio_prediction([1,2,3], [0,2,3])"
   ]
  },
  {
   "cell_type": "code",
   "execution_count": 103,
   "metadata": {
    "ExecuteTime": {
     "end_time": "2017-11-21T19:07:44.215376Z",
     "start_time": "2017-11-21T19:04:49.264Z"
    }
   },
   "outputs": [
    {
     "data": {
      "text/plain": [
       "1.0"
      ]
     },
     "execution_count": 103,
     "metadata": {},
     "output_type": "execute_result"
    }
   ],
   "source": [
    "# Use cross-validated best parameters to predict for test set\n",
    "regr = RandomForestRegressor(n_estimators=n_estim, max_depth=dep)\n",
    "X_train = regr.fit(x_train, y_train)\n",
    "test_pred = np.round_(regr.predict(x_train))\n",
    "ratio_prediction(test_pred, y_test)"
   ]
  },
  {
   "cell_type": "code",
   "execution_count": null,
   "metadata": {
    "collapsed": true
   },
   "outputs": [],
   "source": []
  }
 ],
 "metadata": {
  "kernelspec": {
   "display_name": "Python 3",
   "language": "python",
   "name": "python3"
  },
  "language_info": {
   "codemirror_mode": {
    "name": "ipython",
    "version": 3
   },
   "file_extension": ".py",
   "mimetype": "text/x-python",
   "name": "python",
   "nbconvert_exporter": "python",
   "pygments_lexer": "ipython3",
   "version": "3.6.2"
  }
 },
 "nbformat": 4,
 "nbformat_minor": 2
}
