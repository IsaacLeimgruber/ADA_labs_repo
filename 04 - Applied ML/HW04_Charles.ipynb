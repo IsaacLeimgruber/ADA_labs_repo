{
 "cells": [
  {
   "cell_type": "code",
   "execution_count": 1,
   "metadata": {
    "ExecuteTime": {
     "end_time": "2017-11-22T12:24:10.371978Z",
     "start_time": "2017-11-22T12:24:09.149239Z"
    }
   },
   "outputs": [],
   "source": [
    "import os\n",
    "import pandas as pd\n",
    "import numpy as np\n",
    "import matplotlib.pyplot as plt\n",
    "from sklearn import linear_model\n",
    "%matplotlib inline"
   ]
  },
  {
   "cell_type": "markdown",
   "metadata": {},
   "source": [
    "### Initial disclaimer \n",
    "The following study was made on data that classified people based on race (black / hispan / non). We have used the same vocabulary as the one used in the data for ease of use. Those shouldn't be assumed as racism or disrespect,  we do not share the idea of race classification as done in the provided documents."
   ]
  },
  {
   "cell_type": "markdown",
   "metadata": {},
   "source": [
    "### Import Data"
   ]
  },
  {
   "cell_type": "code",
   "execution_count": 2,
   "metadata": {
    "ExecuteTime": {
     "end_time": "2017-11-22T12:24:10.394439Z",
     "start_time": "2017-11-22T12:24:10.373487Z"
    }
   },
   "outputs": [
    {
     "name": "stderr",
     "output_type": "stream",
     "text": [
      "/usr/local/lib/python3.6/site-packages/ipykernel_launcher.py:2: FutureWarning: from_csv is deprecated. Please use read_csv(...) instead. Note that some of the default arguments are different, so please refer to the documentation for from_csv when changing your function calls\n",
      "  \n"
     ]
    },
    {
     "data": {
      "text/html": [
       "<div>\n",
       "<style scoped>\n",
       "    .dataframe tbody tr th:only-of-type {\n",
       "        vertical-align: middle;\n",
       "    }\n",
       "\n",
       "    .dataframe tbody tr th {\n",
       "        vertical-align: top;\n",
       "    }\n",
       "\n",
       "    .dataframe thead th {\n",
       "        text-align: right;\n",
       "    }\n",
       "</style>\n",
       "<table border=\"1\" class=\"dataframe\">\n",
       "  <thead>\n",
       "    <tr style=\"text-align: right;\">\n",
       "      <th></th>\n",
       "      <th>treat</th>\n",
       "      <th>age</th>\n",
       "      <th>educ</th>\n",
       "      <th>black</th>\n",
       "      <th>hispan</th>\n",
       "      <th>married</th>\n",
       "      <th>nodegree</th>\n",
       "      <th>re74</th>\n",
       "      <th>re75</th>\n",
       "      <th>re78</th>\n",
       "    </tr>\n",
       "    <tr>\n",
       "      <th>id</th>\n",
       "      <th></th>\n",
       "      <th></th>\n",
       "      <th></th>\n",
       "      <th></th>\n",
       "      <th></th>\n",
       "      <th></th>\n",
       "      <th></th>\n",
       "      <th></th>\n",
       "      <th></th>\n",
       "      <th></th>\n",
       "    </tr>\n",
       "  </thead>\n",
       "  <tbody>\n",
       "    <tr>\n",
       "      <th>NSW1</th>\n",
       "      <td>1</td>\n",
       "      <td>37</td>\n",
       "      <td>11</td>\n",
       "      <td>1</td>\n",
       "      <td>0</td>\n",
       "      <td>1</td>\n",
       "      <td>1</td>\n",
       "      <td>0.0</td>\n",
       "      <td>0.0</td>\n",
       "      <td>9930.046</td>\n",
       "    </tr>\n",
       "    <tr>\n",
       "      <th>NSW2</th>\n",
       "      <td>1</td>\n",
       "      <td>22</td>\n",
       "      <td>9</td>\n",
       "      <td>0</td>\n",
       "      <td>1</td>\n",
       "      <td>0</td>\n",
       "      <td>1</td>\n",
       "      <td>0.0</td>\n",
       "      <td>0.0</td>\n",
       "      <td>3595.894</td>\n",
       "    </tr>\n",
       "    <tr>\n",
       "      <th>NSW3</th>\n",
       "      <td>1</td>\n",
       "      <td>30</td>\n",
       "      <td>12</td>\n",
       "      <td>1</td>\n",
       "      <td>0</td>\n",
       "      <td>0</td>\n",
       "      <td>0</td>\n",
       "      <td>0.0</td>\n",
       "      <td>0.0</td>\n",
       "      <td>24909.450</td>\n",
       "    </tr>\n",
       "  </tbody>\n",
       "</table>\n",
       "</div>"
      ],
      "text/plain": [
       "      treat  age  educ  black  hispan  married  nodegree  re74  re75  \\\n",
       "id                                                                     \n",
       "NSW1      1   37    11      1       0        1         1   0.0   0.0   \n",
       "NSW2      1   22     9      0       1        0         1   0.0   0.0   \n",
       "NSW3      1   30    12      1       0        0         0   0.0   0.0   \n",
       "\n",
       "           re78  \n",
       "id               \n",
       "NSW1   9930.046  \n",
       "NSW2   3595.894  \n",
       "NSW3  24909.450  "
      ]
     },
     "execution_count": 2,
     "metadata": {},
     "output_type": "execute_result"
    }
   ],
   "source": [
    "path = 'lalonde.csv'\n",
    "patients_df = pd.DataFrame.from_csv(path, sep=\",\")\n",
    "patients_df.head(3)"
   ]
  },
  {
   "cell_type": "markdown",
   "metadata": {},
   "source": [
    "### Clean Data"
   ]
  },
  {
   "cell_type": "code",
   "execution_count": 3,
   "metadata": {
    "ExecuteTime": {
     "end_time": "2017-11-22T12:24:10.402879Z",
     "start_time": "2017-11-22T12:24:10.395885Z"
    }
   },
   "outputs": [
    {
     "data": {
      "text/plain": [
       "numpy.int64"
      ]
     },
     "execution_count": 3,
     "metadata": {},
     "output_type": "execute_result"
    }
   ],
   "source": [
    "# Cast values to numeric\n",
    "patients_df.apply(pd.to_numeric, errors = 'coerce')\n",
    "type(patients_df.iloc[1,1])"
   ]
  },
  {
   "cell_type": "markdown",
   "metadata": {},
   "source": [
    "### Split not treated and treated"
   ]
  },
  {
   "cell_type": "code",
   "execution_count": 4,
   "metadata": {
    "ExecuteTime": {
     "end_time": "2017-11-22T12:24:10.408072Z",
     "start_time": "2017-11-22T12:24:10.404434Z"
    }
   },
   "outputs": [],
   "source": [
    "# splits a dataframe on a two-categorical column\n",
    "def split_in_two(df, column):\n",
    "    first = df[df[column] == 0]\n",
    "    second = df[df[column] == 1]\n",
    "    return first, second"
   ]
  },
  {
   "cell_type": "code",
   "execution_count": 5,
   "metadata": {
    "ExecuteTime": {
     "end_time": "2017-11-22T12:24:10.425067Z",
     "start_time": "2017-11-22T12:24:10.409907Z"
    }
   },
   "outputs": [
    {
     "data": {
      "text/html": [
       "<div>\n",
       "<style scoped>\n",
       "    .dataframe tbody tr th:only-of-type {\n",
       "        vertical-align: middle;\n",
       "    }\n",
       "\n",
       "    .dataframe tbody tr th {\n",
       "        vertical-align: top;\n",
       "    }\n",
       "\n",
       "    .dataframe thead th {\n",
       "        text-align: right;\n",
       "    }\n",
       "</style>\n",
       "<table border=\"1\" class=\"dataframe\">\n",
       "  <thead>\n",
       "    <tr style=\"text-align: right;\">\n",
       "      <th></th>\n",
       "      <th>treat</th>\n",
       "      <th>age</th>\n",
       "      <th>educ</th>\n",
       "      <th>black</th>\n",
       "      <th>hispan</th>\n",
       "      <th>married</th>\n",
       "      <th>nodegree</th>\n",
       "      <th>re74</th>\n",
       "      <th>re75</th>\n",
       "      <th>re78</th>\n",
       "    </tr>\n",
       "    <tr>\n",
       "      <th>id</th>\n",
       "      <th></th>\n",
       "      <th></th>\n",
       "      <th></th>\n",
       "      <th></th>\n",
       "      <th></th>\n",
       "      <th></th>\n",
       "      <th></th>\n",
       "      <th></th>\n",
       "      <th></th>\n",
       "      <th></th>\n",
       "    </tr>\n",
       "  </thead>\n",
       "  <tbody>\n",
       "    <tr>\n",
       "      <th>NSW184</th>\n",
       "      <td>1</td>\n",
       "      <td>35</td>\n",
       "      <td>8</td>\n",
       "      <td>1</td>\n",
       "      <td>0</td>\n",
       "      <td>1</td>\n",
       "      <td>1</td>\n",
       "      <td>13732.07</td>\n",
       "      <td>17976.15</td>\n",
       "      <td>3786.628</td>\n",
       "    </tr>\n",
       "    <tr>\n",
       "      <th>NSW185</th>\n",
       "      <td>1</td>\n",
       "      <td>33</td>\n",
       "      <td>11</td>\n",
       "      <td>1</td>\n",
       "      <td>0</td>\n",
       "      <td>1</td>\n",
       "      <td>1</td>\n",
       "      <td>14660.71</td>\n",
       "      <td>25142.24</td>\n",
       "      <td>4181.942</td>\n",
       "    </tr>\n",
       "  </tbody>\n",
       "</table>\n",
       "</div>"
      ],
      "text/plain": [
       "        treat  age  educ  black  hispan  married  nodegree      re74  \\\n",
       "id                                                                     \n",
       "NSW184      1   35     8      1       0        1         1  13732.07   \n",
       "NSW185      1   33    11      1       0        1         1  14660.71   \n",
       "\n",
       "            re75      re78  \n",
       "id                          \n",
       "NSW184  17976.15  3786.628  \n",
       "NSW185  25142.24  4181.942  "
      ]
     },
     "execution_count": 5,
     "metadata": {},
     "output_type": "execute_result"
    }
   ],
   "source": [
    "ntreated_df, treated_df = split_in_two(patients_df, 'treat')\n",
    "ntreated_count = len(ntreated_df)\n",
    "treated_count = len(treated_df)\n",
    "treated_df.tail(2)"
   ]
  },
  {
   "cell_type": "code",
   "execution_count": 6,
   "metadata": {
    "ExecuteTime": {
     "end_time": "2017-11-22T12:24:10.440696Z",
     "start_time": "2017-11-22T12:24:10.427560Z"
    }
   },
   "outputs": [
    {
     "data": {
      "text/html": [
       "<div>\n",
       "<style scoped>\n",
       "    .dataframe tbody tr th:only-of-type {\n",
       "        vertical-align: middle;\n",
       "    }\n",
       "\n",
       "    .dataframe tbody tr th {\n",
       "        vertical-align: top;\n",
       "    }\n",
       "\n",
       "    .dataframe thead th {\n",
       "        text-align: right;\n",
       "    }\n",
       "</style>\n",
       "<table border=\"1\" class=\"dataframe\">\n",
       "  <thead>\n",
       "    <tr style=\"text-align: right;\">\n",
       "      <th></th>\n",
       "      <th>treat</th>\n",
       "      <th>age</th>\n",
       "      <th>educ</th>\n",
       "      <th>black</th>\n",
       "      <th>hispan</th>\n",
       "      <th>married</th>\n",
       "      <th>nodegree</th>\n",
       "      <th>re74</th>\n",
       "      <th>re75</th>\n",
       "      <th>re78</th>\n",
       "    </tr>\n",
       "    <tr>\n",
       "      <th>id</th>\n",
       "      <th></th>\n",
       "      <th></th>\n",
       "      <th></th>\n",
       "      <th></th>\n",
       "      <th></th>\n",
       "      <th></th>\n",
       "      <th></th>\n",
       "      <th></th>\n",
       "      <th></th>\n",
       "      <th></th>\n",
       "    </tr>\n",
       "  </thead>\n",
       "  <tbody>\n",
       "    <tr>\n",
       "      <th>PSID1</th>\n",
       "      <td>0</td>\n",
       "      <td>30</td>\n",
       "      <td>12</td>\n",
       "      <td>0</td>\n",
       "      <td>0</td>\n",
       "      <td>1</td>\n",
       "      <td>0</td>\n",
       "      <td>20166.73</td>\n",
       "      <td>18347.23</td>\n",
       "      <td>25564.67</td>\n",
       "    </tr>\n",
       "    <tr>\n",
       "      <th>PSID2</th>\n",
       "      <td>0</td>\n",
       "      <td>26</td>\n",
       "      <td>12</td>\n",
       "      <td>0</td>\n",
       "      <td>0</td>\n",
       "      <td>1</td>\n",
       "      <td>0</td>\n",
       "      <td>25862.32</td>\n",
       "      <td>17806.55</td>\n",
       "      <td>25564.67</td>\n",
       "    </tr>\n",
       "    <tr>\n",
       "      <th>PSID3</th>\n",
       "      <td>0</td>\n",
       "      <td>25</td>\n",
       "      <td>16</td>\n",
       "      <td>0</td>\n",
       "      <td>0</td>\n",
       "      <td>1</td>\n",
       "      <td>0</td>\n",
       "      <td>25862.32</td>\n",
       "      <td>15316.21</td>\n",
       "      <td>25564.67</td>\n",
       "    </tr>\n",
       "    <tr>\n",
       "      <th>PSID4</th>\n",
       "      <td>0</td>\n",
       "      <td>42</td>\n",
       "      <td>11</td>\n",
       "      <td>0</td>\n",
       "      <td>0</td>\n",
       "      <td>1</td>\n",
       "      <td>1</td>\n",
       "      <td>21787.05</td>\n",
       "      <td>14265.29</td>\n",
       "      <td>15491.01</td>\n",
       "    </tr>\n",
       "    <tr>\n",
       "      <th>PSID5</th>\n",
       "      <td>0</td>\n",
       "      <td>25</td>\n",
       "      <td>9</td>\n",
       "      <td>1</td>\n",
       "      <td>0</td>\n",
       "      <td>1</td>\n",
       "      <td>1</td>\n",
       "      <td>14829.69</td>\n",
       "      <td>13776.53</td>\n",
       "      <td>0.00</td>\n",
       "    </tr>\n",
       "  </tbody>\n",
       "</table>\n",
       "</div>"
      ],
      "text/plain": [
       "       treat  age  educ  black  hispan  married  nodegree      re74      re75  \\\n",
       "id                                                                              \n",
       "PSID1      0   30    12      0       0        1         0  20166.73  18347.23   \n",
       "PSID2      0   26    12      0       0        1         0  25862.32  17806.55   \n",
       "PSID3      0   25    16      0       0        1         0  25862.32  15316.21   \n",
       "PSID4      0   42    11      0       0        1         1  21787.05  14265.29   \n",
       "PSID5      0   25     9      1       0        1         1  14829.69  13776.53   \n",
       "\n",
       "           re78  \n",
       "id               \n",
       "PSID1  25564.67  \n",
       "PSID2  25564.67  \n",
       "PSID3  25564.67  \n",
       "PSID4  15491.01  \n",
       "PSID5      0.00  "
      ]
     },
     "execution_count": 6,
     "metadata": {},
     "output_type": "execute_result"
    }
   ],
   "source": [
    "ntreated_df.head()"
   ]
  },
  {
   "cell_type": "markdown",
   "metadata": {},
   "source": [
    "### 1. A naive analysis"
   ]
  },
  {
   "cell_type": "markdown",
   "metadata": {},
   "source": [
    "Now that we have the treated and untreated person, we can compare the outcome variable"
   ]
  },
  {
   "cell_type": "code",
   "execution_count": 7,
   "metadata": {
    "ExecuteTime": {
     "end_time": "2017-11-22T12:24:10.450976Z",
     "start_time": "2017-11-22T12:24:10.442177Z"
    }
   },
   "outputs": [],
   "source": [
    "# obtain describe serie for both groups\n",
    "dscr_ntr = ntreated_df['re78'].describe()\n",
    "dscr_tr = treated_df['re78'].describe()"
   ]
  },
  {
   "cell_type": "code",
   "execution_count": 8,
   "metadata": {
    "ExecuteTime": {
     "end_time": "2017-11-22T12:24:10.455725Z",
     "start_time": "2017-11-22T12:24:10.452327Z"
    }
   },
   "outputs": [
    {
     "data": {
      "text/plain": [
       "6984.1697423076921"
      ]
     },
     "execution_count": 8,
     "metadata": {},
     "output_type": "execute_result"
    }
   ],
   "source": [
    "# mean of untreated group\n",
    "dscr_ntr['mean']"
   ]
  },
  {
   "cell_type": "code",
   "execution_count": 9,
   "metadata": {
    "ExecuteTime": {
     "end_time": "2017-11-22T12:24:10.460807Z",
     "start_time": "2017-11-22T12:24:10.457156Z"
    }
   },
   "outputs": [
    {
     "data": {
      "text/plain": [
       "6349.1435302702712"
      ]
     },
     "execution_count": 9,
     "metadata": {},
     "output_type": "execute_result"
    }
   ],
   "source": [
    "# mean of treated group\n",
    "dscr_tr['mean']"
   ]
  },
  {
   "cell_type": "markdown",
   "metadata": {},
   "source": [
    "We already see that the mean of untreated group is higher, but is this an effect of outliers?"
   ]
  },
  {
   "cell_type": "code",
   "execution_count": 10,
   "metadata": {
    "ExecuteTime": {
     "end_time": "2017-11-22T12:24:10.465686Z",
     "start_time": "2017-11-22T12:24:10.462226Z"
    }
   },
   "outputs": [
    {
     "data": {
      "text/plain": [
       "11688.82"
      ]
     },
     "execution_count": 10,
     "metadata": {},
     "output_type": "execute_result"
    }
   ],
   "source": [
    "# 75% quantile mean of untreated group\n",
    "dscr_ntr['75%']"
   ]
  },
  {
   "cell_type": "code",
   "execution_count": 11,
   "metadata": {
    "ExecuteTime": {
     "end_time": "2017-11-22T12:24:10.473386Z",
     "start_time": "2017-11-22T12:24:10.467332Z"
    }
   },
   "outputs": [
    {
     "data": {
      "text/plain": [
       "9642.9989999999998"
      ]
     },
     "execution_count": 11,
     "metadata": {},
     "output_type": "execute_result"
    }
   ],
   "source": [
    "# 75% quantile mean of treated group\n",
    "dscr_tr['75%']"
   ]
  },
  {
   "cell_type": "markdown",
   "metadata": {},
   "source": [
    "Hence we conclude it was not an effect of outliers and that the untreated group has an average higher wage than the treated group in 1978"
   ]
  },
  {
   "cell_type": "markdown",
   "metadata": {},
   "source": [
    "We will convince ourselves by showing the number in an explicit visualization"
   ]
  },
  {
   "cell_type": "code",
   "execution_count": 12,
   "metadata": {
    "ExecuteTime": {
     "end_time": "2017-11-22T12:24:10.478434Z",
     "start_time": "2017-11-22T12:24:10.475415Z"
    }
   },
   "outputs": [],
   "source": [
    "def get_column_serie(df, column):\n",
    "    return df[[column]].values[:, 0]"
   ]
  },
  {
   "cell_type": "code",
   "execution_count": 13,
   "metadata": {
    "ExecuteTime": {
     "end_time": "2017-11-22T12:24:10.494030Z",
     "start_time": "2017-11-22T12:24:10.480471Z"
    }
   },
   "outputs": [],
   "source": [
    "def make_boxplot(df1, df2, column, labels,  fill_colors):\n",
    "    serie1 = get_column_serie(df1, column)\n",
    "    serie2 = get_column_serie(df2, column)\n",
    "    data = [serie1, serie2]\n",
    "    fig, ax = plt.subplots()\n",
    "    \n",
    "    bp = ax.boxplot(data, patch_artist = True)\n",
    "    for elem in ['boxes', 'caps']:\n",
    "        plt.setp(bp[elem], color='black')\n",
    "    for m in bp['medians']:\n",
    "        m.set(color='red', linewidth=2)\n",
    "    for idx, b in enumerate(bp['boxes']):\n",
    "        b.set(facecolor = fill_colors[idx])\n",
    "    \n",
    "    ax.set_xticklabels(labels)"
   ]
  },
  {
   "cell_type": "code",
   "execution_count": 14,
   "metadata": {
    "ExecuteTime": {
     "end_time": "2017-11-22T12:24:10.632748Z",
     "start_time": "2017-11-22T12:24:10.496123Z"
    }
   },
   "outputs": [
    {
     "data": {
      "image/png": "[encoded data removed]",
      "text/plain": [
       "<matplotlib.figure.Figure at 0x113836668>"
      ]
     },
     "metadata": {},
     "output_type": "display_data"
    }
   ],
   "source": [
    "make_boxplot(treated_df, ntreated_df, 're78', ['treated', 'ntreated'], ['steelblue', '#5EDF63'])"
   ]
  },
  {
   "cell_type": "markdown",
   "metadata": {},
   "source": [
    "Hence the plots confirms what we already knew, that the mean and mean without outliers is lower for treated patients. The naive analysis concludes the treatment does not work"
   ]
  },
  {
   "cell_type": "markdown",
   "metadata": {},
   "source": [
    "### 2. A closer look at the data"
   ]
  },
  {
   "cell_type": "markdown",
   "metadata": {},
   "source": [
    "#### Description\n",
    "For each feature in the dataset, compare its distribution in the treated group with its distribution in the control group, using plots and numbers. As above, you may use the techniques we discussed in class for summarizing and comparing the distributions.\n",
    "\n",
    "What do you observe? Describe what your observations mean for the conclusions drawn by the naive \"researcher\" from his superficial analysis."
   ]
  },
  {
   "cell_type": "markdown",
   "metadata": {},
   "source": [
    "#### Solution\n",
    "In this part, we will successively compare the columns of the treated dataframe and the ntreated dataframe then try to explain what vice of procedure caused the discrepancies in the case of high difference in distribution"
   ]
  },
  {
   "cell_type": "code",
   "execution_count": 15,
   "metadata": {
    "ExecuteTime": {
     "end_time": "2017-11-22T12:24:10.640251Z",
     "start_time": "2017-11-22T12:24:10.634696Z"
    }
   },
   "outputs": [],
   "source": [
    "def shared_plot_by(col,plot_kind, treated_df, ntreated_df):\n",
    "    fig, axs = plt.subplots(1, 2, figsize=(14,5), sharex=True)\n",
    "    treated_df.plot(y=col, kind=plot_kind, ax=axs[0], title = \"Treated\")\n",
    "    ntreated_df.plot(y=col, kind=plot_kind, ax=axs[1], title = \"Not Treated\")\n",
    "    plt.show()"
   ]
  },
  {
   "cell_type": "markdown",
   "metadata": {},
   "source": [
    "Lets first compare both groups **by age**"
   ]
  },
  {
   "cell_type": "code",
   "execution_count": 16,
   "metadata": {
    "ExecuteTime": {
     "end_time": "2017-11-22T12:24:10.971230Z",
     "start_time": "2017-11-22T12:24:10.642000Z"
    },
    "scrolled": true
   },
   "outputs": [
    {
     "data": {
      "image/png": "[encoded data removed]",
      "text/plain": [
       "<matplotlib.figure.Figure at 0x1138cde48>"
      ]
     },
     "metadata": {},
     "output_type": "display_data"
    }
   ],
   "source": [
    "# First we can compare them by age\n",
    "shared_plot_by('age', 'hist', treated_df, ntreated_df)"
   ]
  },
  {
   "cell_type": "markdown",
   "metadata": {},
   "source": [
    "We already see that there is a big difference in proportion between 25 and 30 years. There are proportionately way more treated people in this age range than there are untreated people relative to the total number of people in each group"
   ]
  },
  {
   "cell_type": "code",
   "execution_count": 17,
   "metadata": {
    "ExecuteTime": {
     "end_time": "2017-11-22T12:24:10.980261Z",
     "start_time": "2017-11-22T12:24:10.973111Z"
    }
   },
   "outputs": [
    {
     "data": {
      "text/plain": [
       "count    185.000000\n",
       "mean      25.816216\n",
       "std        7.155019\n",
       "min       17.000000\n",
       "25%       20.000000\n",
       "50%       25.000000\n",
       "75%       29.000000\n",
       "max       48.000000\n",
       "Name: age, dtype: float64"
      ]
     },
     "execution_count": 17,
     "metadata": {},
     "output_type": "execute_result"
    }
   ],
   "source": [
    "# And we can compare the values with descibe\n",
    "treated_df['age'].describe()"
   ]
  },
  {
   "cell_type": "code",
   "execution_count": 18,
   "metadata": {
    "ExecuteTime": {
     "end_time": "2017-11-22T12:24:10.987645Z",
     "start_time": "2017-11-22T12:24:10.981936Z"
    },
    "scrolled": true
   },
   "outputs": [
    {
     "data": {
      "text/plain": [
       "count    429.000000\n",
       "mean      28.030303\n",
       "std       10.786653\n",
       "min       16.000000\n",
       "25%       19.000000\n",
       "50%       25.000000\n",
       "75%       35.000000\n",
       "max       55.000000\n",
       "Name: age, dtype: float64"
      ]
     },
     "execution_count": 18,
     "metadata": {},
     "output_type": "execute_result"
    }
   ],
   "source": [
    "ntreated_df['age'].describe()"
   ]
  },
  {
   "cell_type": "markdown",
   "metadata": {},
   "source": [
    "We can see (with plots and numbers) that among the data, most of them are young people (16-25) and there are much more people not treated than treated. We can suspect that the treatment **assignement was not random** because had it be random, the number of patients in each group would have been closer to each other."
   ]
  },
  {
   "cell_type": "markdown",
   "metadata": {},
   "source": [
    "Now we can compare both groups through their respective <b>years of education</b> distribution"
   ]
  },
  {
   "cell_type": "code",
   "execution_count": 19,
   "metadata": {
    "ExecuteTime": {
     "end_time": "2017-11-22T12:24:11.322036Z",
     "start_time": "2017-11-22T12:24:10.989243Z"
    },
    "scrolled": false
   },
   "outputs": [
    {
     "data": {
      "image/png": "[encoded data removed]",
      "text/plain": [
       "<matplotlib.figure.Figure at 0x1138ef518>"
      ]
     },
     "metadata": {},
     "output_type": "display_data"
    }
   ],
   "source": [
    "# Then by education\n",
    "shared_plot_by('educ', 'hist', treated_df, ntreated_df)"
   ]
  },
  {
   "cell_type": "markdown",
   "metadata": {},
   "source": [
    "The results here are less surprising. Since we already saw a difference in age distribution, the years of education will be influenced. Here both groups seem quite comparable"
   ]
  },
  {
   "cell_type": "code",
   "execution_count": 20,
   "metadata": {
    "ExecuteTime": {
     "end_time": "2017-11-22T12:24:11.331608Z",
     "start_time": "2017-11-22T12:24:11.323925Z"
    }
   },
   "outputs": [
    {
     "data": {
      "text/plain": [
       "count    185.000000\n",
       "mean      10.345946\n",
       "std        2.010650\n",
       "min        4.000000\n",
       "25%        9.000000\n",
       "50%       11.000000\n",
       "75%       12.000000\n",
       "max       16.000000\n",
       "Name: educ, dtype: float64"
      ]
     },
     "execution_count": 20,
     "metadata": {},
     "output_type": "execute_result"
    }
   ],
   "source": [
    "# and compare their values too\n",
    "treated_df['educ'].describe()"
   ]
  },
  {
   "cell_type": "code",
   "execution_count": 21,
   "metadata": {
    "ExecuteTime": {
     "end_time": "2017-11-22T12:24:11.339765Z",
     "start_time": "2017-11-22T12:24:11.332987Z"
    }
   },
   "outputs": [
    {
     "data": {
      "text/plain": [
       "count    429.000000\n",
       "mean      10.235431\n",
       "std        2.855238\n",
       "min        0.000000\n",
       "25%        9.000000\n",
       "50%       11.000000\n",
       "75%       12.000000\n",
       "max       18.000000\n",
       "Name: educ, dtype: float64"
      ]
     },
     "execution_count": 21,
     "metadata": {},
     "output_type": "execute_result"
    }
   ],
   "source": [
    "ntreated_df['educ'].describe()"
   ]
  },
  {
   "cell_type": "markdown",
   "metadata": {},
   "source": [
    "The results confirm our hypotheses since the mean is almost the same in both groups and the 75% quantile is exactly the same. This means that the difference in standard deviation is only due to outliers. Hence both groups have very **similar distributions in years of education**"
   ]
  },
  {
   "cell_type": "markdown",
   "metadata": {},
   "source": [
    "We can now compare the **amount of people without a degree** and the **number of people married** in each group"
   ]
  },
  {
   "cell_type": "code",
   "execution_count": 22,
   "metadata": {
    "ExecuteTime": {
     "end_time": "2017-11-22T12:24:11.367456Z",
     "start_time": "2017-11-22T12:24:11.342294Z"
    }
   },
   "outputs": [],
   "source": [
    "def col_number(df, col_names):\n",
    "    result_0 = []\n",
    "    result_1 = []\n",
    "    \n",
    "    for col_name in col_names:   \n",
    "        # for each col we calculate the length and then store the ratio\n",
    "        nb_0 = len(df[df[col_name] == 0])\n",
    "        nb_1 = len(df[df[col_name] == 1])\n",
    "        result_0.append(nb_0 / (nb_0 + nb_1))\n",
    "        result_1.append(nb_1 / (nb_0 + nb_1))\n",
    "        \n",
    "    return np.array(result_0), np.array(result_1)\n",
    "\n",
    "def bar_subplot(axe_plot, nb_index, result_0, result_1, ylegend):\n",
    "    #plot0 = axe_plot.bar(nb_index, result_0, color=\"#0000ff\")\n",
    "    plot1 = axe_plot.bar(nb_index, result_1, color='steelblue')\n",
    "    \n",
    "    plt.sca(axe_plot)\n",
    "    plt.xticks(nb_index, col_names)\n",
    "    plt.ylabel(ylegend)\n",
    "    plt.yticks( [0, 0.5, 1] )\n",
    "    #plt.legend((plot0[0], plot1[0]), ('0', '1'))"
   ]
  },
  {
   "cell_type": "code",
   "execution_count": 23,
   "metadata": {
    "ExecuteTime": {
     "end_time": "2017-11-22T12:24:11.599439Z",
     "start_time": "2017-11-22T12:24:11.369316Z"
    }
   },
   "outputs": [
    {
     "data": {
      "image/png": "[encoded data removed]",
      "text/plain": [
       "<matplotlib.figure.Figure at 0x113c52860>"
      ]
     },
     "metadata": {},
     "output_type": "display_data"
    }
   ],
   "source": [
    "fig, plot_axes = plt.subplots(1, 2, figsize=(14, 5), sharex=True)\n",
    "nb_index = np.arange(2)\n",
    "col_names = ['nodegree', 'married']\n",
    "\n",
    "result_0, result_1 = col_number(treated_df, col_names)\n",
    "bar_subplot(plot_axes[0], nb_index, result_0, result_1, 'Ratio of treated persons')\n",
    "\n",
    "result_0, result_1 = col_number(ntreated_df, col_names)\n",
    "bar_subplot(plot_axes[1], nb_index, result_0, result_1, 'Ratio of untreated persons')\n",
    "\n",
    "plt.show()"
   ]
  },
  {
   "cell_type": "markdown",
   "metadata": {},
   "source": [
    "We see that the <b>proportion of people without a degree is quite similar</b> . However the <b>proportion of people married is very different</b>. there seem to be a ratio between 2 and 3 of the proportion of married people.\n",
    "This may show a bias in the treatment assignement but <b>might be a side effect of the age difference</b> we saw before between the groups. This may have a big influence since we may expect married people to have different carreer objectives than unmarried people."
   ]
  },
  {
   "cell_type": "markdown",
   "metadata": {},
   "source": [
    "For <b>blacks and hispanic</b> we will only compare the ratios between the two groups"
   ]
  },
  {
   "cell_type": "code",
   "execution_count": 24,
   "metadata": {
    "ExecuteTime": {
     "end_time": "2017-11-22T12:24:11.604472Z",
     "start_time": "2017-11-22T12:24:11.601395Z"
    }
   },
   "outputs": [],
   "source": [
    "def compute_ratio(df, col, total):\n",
    "    val = df[col]\n",
    "    return (val == 1).sum()/total"
   ]
  },
  {
   "cell_type": "code",
   "execution_count": 25,
   "metadata": {
    "ExecuteTime": {
     "end_time": "2017-11-22T12:24:11.612852Z",
     "start_time": "2017-11-22T12:24:11.606165Z"
    }
   },
   "outputs": [
    {
     "name": "stdout",
     "output_type": "stream",
     "text": [
      "the ratio of treated blacks : 0.843243243243\n"
     ]
    }
   ],
   "source": [
    "print(\"the ratio of treated blacks :\",compute_ratio(treated_df, 'black', treated_count))"
   ]
  },
  {
   "cell_type": "code",
   "execution_count": 26,
   "metadata": {
    "ExecuteTime": {
     "end_time": "2017-11-22T12:24:11.619156Z",
     "start_time": "2017-11-22T12:24:11.614551Z"
    }
   },
   "outputs": [
    {
     "name": "stdout",
     "output_type": "stream",
     "text": [
      "the ratio of untreated blacks : 0.202797202797\n"
     ]
    }
   ],
   "source": [
    "print(\"the ratio of untreated blacks :\",compute_ratio(ntreated_df, 'black', ntreated_count))"
   ]
  },
  {
   "cell_type": "code",
   "execution_count": 27,
   "metadata": {
    "ExecuteTime": {
     "end_time": "2017-11-22T12:24:11.626980Z",
     "start_time": "2017-11-22T12:24:11.621218Z"
    }
   },
   "outputs": [
    {
     "name": "stdout",
     "output_type": "stream",
     "text": [
      "the ratio of treated hispanic : 0.0594594594595\n"
     ]
    }
   ],
   "source": [
    "print(\"the ratio of treated hispanic :\",compute_ratio(treated_df, 'hispan', treated_count))"
   ]
  },
  {
   "cell_type": "code",
   "execution_count": 28,
   "metadata": {
    "ExecuteTime": {
     "end_time": "2017-11-22T12:24:11.633456Z",
     "start_time": "2017-11-22T12:24:11.629143Z"
    }
   },
   "outputs": [
    {
     "name": "stdout",
     "output_type": "stream",
     "text": [
      "the ratio of untreated hispanic 0.142191142191\n"
     ]
    }
   ],
   "source": [
    "print(\"the ratio of untreated hispanic\",compute_ratio(ntreated_df, 'hispan', ntreated_count))"
   ]
  },
  {
   "cell_type": "markdown",
   "metadata": {},
   "source": [
    "We can see that the percentage of blacks in the treated group is 4 time larger than the one in the non-treated one. <br>\n",
    "For the Hispanics, we can see that we have almost twice as much Hispanic in the untreated group this time.<br>\n",
    "This is a <b>non-random treatment assignement</b>"
   ]
  },
  {
   "cell_type": "markdown",
   "metadata": {},
   "source": [
    "### 3. A propsensity score model"
   ]
  },
  {
   "cell_type": "markdown",
   "metadata": {},
   "source": [
    "#### Description\n",
    "Use logistic regression to estimate propensity scores for all points in the dataset. You may use sklearn to fit the logistic regression model and apply it to each data point to obtain propensity scores"
   ]
  },
  {
   "cell_type": "markdown",
   "metadata": {},
   "source": [
    "#### Solution\n",
    "We apply the logistic regression"
   ]
  },
  {
   "cell_type": "code",
   "execution_count": 29,
   "metadata": {
    "ExecuteTime": {
     "end_time": "2017-11-22T12:24:11.646599Z",
     "start_time": "2017-11-22T12:24:11.635962Z"
    }
   },
   "outputs": [],
   "source": [
    "logistic = linear_model.LogisticRegression()\n",
    "feature_cols = ['age', 'educ', 'black', 'hispan', 'married', 'nodegree', 're74', 're75']\n",
    "X = patients_df[feature_cols]\n",
    "y = patients_df.treat\n",
    "logistic.fit(X, y);"
   ]
  },
  {
   "cell_type": "markdown",
   "metadata": {},
   "source": [
    "Then add the results in a new dataframe"
   ]
  },
  {
   "cell_type": "code",
   "execution_count": 30,
   "metadata": {
    "ExecuteTime": {
     "end_time": "2017-11-22T12:24:11.665598Z",
     "start_time": "2017-11-22T12:24:11.648445Z"
    }
   },
   "outputs": [
    {
     "data": {
      "text/html": [
       "<div>\n",
       "<style scoped>\n",
       "    .dataframe tbody tr th:only-of-type {\n",
       "        vertical-align: middle;\n",
       "    }\n",
       "\n",
       "    .dataframe tbody tr th {\n",
       "        vertical-align: top;\n",
       "    }\n",
       "\n",
       "    .dataframe thead th {\n",
       "        text-align: right;\n",
       "    }\n",
       "</style>\n",
       "<table border=\"1\" class=\"dataframe\">\n",
       "  <thead>\n",
       "    <tr style=\"text-align: right;\">\n",
       "      <th></th>\n",
       "      <th>treat</th>\n",
       "      <th>age</th>\n",
       "      <th>educ</th>\n",
       "      <th>black</th>\n",
       "      <th>hispan</th>\n",
       "      <th>married</th>\n",
       "      <th>nodegree</th>\n",
       "      <th>re74</th>\n",
       "      <th>re75</th>\n",
       "      <th>re78</th>\n",
       "      <th>score</th>\n",
       "    </tr>\n",
       "    <tr>\n",
       "      <th>id</th>\n",
       "      <th></th>\n",
       "      <th></th>\n",
       "      <th></th>\n",
       "      <th></th>\n",
       "      <th></th>\n",
       "      <th></th>\n",
       "      <th></th>\n",
       "      <th></th>\n",
       "      <th></th>\n",
       "      <th></th>\n",
       "      <th></th>\n",
       "    </tr>\n",
       "  </thead>\n",
       "  <tbody>\n",
       "    <tr>\n",
       "      <th>NSW1</th>\n",
       "      <td>1</td>\n",
       "      <td>37</td>\n",
       "      <td>11</td>\n",
       "      <td>1</td>\n",
       "      <td>0</td>\n",
       "      <td>1</td>\n",
       "      <td>1</td>\n",
       "      <td>0.0</td>\n",
       "      <td>0.0</td>\n",
       "      <td>9930.046</td>\n",
       "      <td>0.485005</td>\n",
       "    </tr>\n",
       "    <tr>\n",
       "      <th>NSW2</th>\n",
       "      <td>1</td>\n",
       "      <td>22</td>\n",
       "      <td>9</td>\n",
       "      <td>0</td>\n",
       "      <td>1</td>\n",
       "      <td>0</td>\n",
       "      <td>1</td>\n",
       "      <td>0.0</td>\n",
       "      <td>0.0</td>\n",
       "      <td>3595.894</td>\n",
       "      <td>0.214506</td>\n",
       "    </tr>\n",
       "    <tr>\n",
       "      <th>NSW3</th>\n",
       "      <td>1</td>\n",
       "      <td>30</td>\n",
       "      <td>12</td>\n",
       "      <td>1</td>\n",
       "      <td>0</td>\n",
       "      <td>0</td>\n",
       "      <td>0</td>\n",
       "      <td>0.0</td>\n",
       "      <td>0.0</td>\n",
       "      <td>24909.450</td>\n",
       "      <td>0.702979</td>\n",
       "    </tr>\n",
       "  </tbody>\n",
       "</table>\n",
       "</div>"
      ],
      "text/plain": [
       "      treat  age  educ  black  hispan  married  nodegree  re74  re75  \\\n",
       "id                                                                     \n",
       "NSW1      1   37    11      1       0        1         1   0.0   0.0   \n",
       "NSW2      1   22     9      0       1        0         1   0.0   0.0   \n",
       "NSW3      1   30    12      1       0        0         0   0.0   0.0   \n",
       "\n",
       "           re78     score  \n",
       "id                         \n",
       "NSW1   9930.046  0.485005  \n",
       "NSW2   3595.894  0.214506  \n",
       "NSW3  24909.450  0.702979  "
      ]
     },
     "execution_count": 30,
     "metadata": {},
     "output_type": "execute_result"
    }
   ],
   "source": [
    "score = logistic.predict_proba(X)\n",
    "patients_score_df = patients_df.copy()\n",
    "patients_score_df[\"score\"] = score[:,1]\n",
    "patients_score_df.head(3)"
   ]
  },
  {
   "cell_type": "markdown",
   "metadata": {},
   "source": [
    "The score column give the probability of being treated given the pre-treatment features (all but re78)"
   ]
  },
  {
   "cell_type": "markdown",
   "metadata": {},
   "source": [
    "### 4. Balancing the dataset via matching"
   ]
  },
  {
   "cell_type": "markdown",
   "metadata": {},
   "source": [
    "#### Description\n",
    "Use the propensity scores to match each data point from the treated group with exactly one data point from the control group, while ensuring that each data point from the control group is matched with at most one data point from the treated group. (Hint: you may explore the networkx package in Python for predefined matching functions.)"
   ]
  },
  {
   "cell_type": "markdown",
   "metadata": {},
   "source": [
    "#### Solution\n",
    "\n",
    "First we need to separate the patient treated from the untreated and then see if it match with the propsensity score."
   ]
  },
  {
   "cell_type": "code",
   "execution_count": 31,
   "metadata": {
    "ExecuteTime": {
     "end_time": "2017-11-22T12:24:11.688981Z",
     "start_time": "2017-11-22T12:24:11.667591Z"
    }
   },
   "outputs": [
    {
     "data": {
      "text/html": [
       "<div>\n",
       "<style scoped>\n",
       "    .dataframe tbody tr th:only-of-type {\n",
       "        vertical-align: middle;\n",
       "    }\n",
       "\n",
       "    .dataframe tbody tr th {\n",
       "        vertical-align: top;\n",
       "    }\n",
       "\n",
       "    .dataframe thead th {\n",
       "        text-align: right;\n",
       "    }\n",
       "</style>\n",
       "<table border=\"1\" class=\"dataframe\">\n",
       "  <thead>\n",
       "    <tr style=\"text-align: right;\">\n",
       "      <th></th>\n",
       "      <th>treat</th>\n",
       "      <th>age</th>\n",
       "      <th>educ</th>\n",
       "      <th>black</th>\n",
       "      <th>hispan</th>\n",
       "      <th>married</th>\n",
       "      <th>nodegree</th>\n",
       "      <th>re74</th>\n",
       "      <th>re75</th>\n",
       "      <th>re78</th>\n",
       "      <th>score</th>\n",
       "    </tr>\n",
       "    <tr>\n",
       "      <th>id</th>\n",
       "      <th></th>\n",
       "      <th></th>\n",
       "      <th></th>\n",
       "      <th></th>\n",
       "      <th></th>\n",
       "      <th></th>\n",
       "      <th></th>\n",
       "      <th></th>\n",
       "      <th></th>\n",
       "      <th></th>\n",
       "      <th></th>\n",
       "    </tr>\n",
       "  </thead>\n",
       "  <tbody>\n",
       "    <tr>\n",
       "      <th>NSW1</th>\n",
       "      <td>1</td>\n",
       "      <td>37</td>\n",
       "      <td>11</td>\n",
       "      <td>1</td>\n",
       "      <td>0</td>\n",
       "      <td>1</td>\n",
       "      <td>1</td>\n",
       "      <td>0.0</td>\n",
       "      <td>0.0</td>\n",
       "      <td>9930.0460</td>\n",
       "      <td>0.485005</td>\n",
       "    </tr>\n",
       "    <tr>\n",
       "      <th>NSW2</th>\n",
       "      <td>1</td>\n",
       "      <td>22</td>\n",
       "      <td>9</td>\n",
       "      <td>0</td>\n",
       "      <td>1</td>\n",
       "      <td>0</td>\n",
       "      <td>1</td>\n",
       "      <td>0.0</td>\n",
       "      <td>0.0</td>\n",
       "      <td>3595.8940</td>\n",
       "      <td>0.214506</td>\n",
       "    </tr>\n",
       "    <tr>\n",
       "      <th>NSW3</th>\n",
       "      <td>1</td>\n",
       "      <td>30</td>\n",
       "      <td>12</td>\n",
       "      <td>1</td>\n",
       "      <td>0</td>\n",
       "      <td>0</td>\n",
       "      <td>0</td>\n",
       "      <td>0.0</td>\n",
       "      <td>0.0</td>\n",
       "      <td>24909.4500</td>\n",
       "      <td>0.702979</td>\n",
       "    </tr>\n",
       "    <tr>\n",
       "      <th>NSW4</th>\n",
       "      <td>1</td>\n",
       "      <td>27</td>\n",
       "      <td>11</td>\n",
       "      <td>1</td>\n",
       "      <td>0</td>\n",
       "      <td>0</td>\n",
       "      <td>1</td>\n",
       "      <td>0.0</td>\n",
       "      <td>0.0</td>\n",
       "      <td>7506.1460</td>\n",
       "      <td>0.679662</td>\n",
       "    </tr>\n",
       "    <tr>\n",
       "      <th>NSW5</th>\n",
       "      <td>1</td>\n",
       "      <td>33</td>\n",
       "      <td>8</td>\n",
       "      <td>1</td>\n",
       "      <td>0</td>\n",
       "      <td>0</td>\n",
       "      <td>1</td>\n",
       "      <td>0.0</td>\n",
       "      <td>0.0</td>\n",
       "      <td>289.7899</td>\n",
       "      <td>0.687099</td>\n",
       "    </tr>\n",
       "  </tbody>\n",
       "</table>\n",
       "</div>"
      ],
      "text/plain": [
       "      treat  age  educ  black  hispan  married  nodegree  re74  re75  \\\n",
       "id                                                                     \n",
       "NSW1      1   37    11      1       0        1         1   0.0   0.0   \n",
       "NSW2      1   22     9      0       1        0         1   0.0   0.0   \n",
       "NSW3      1   30    12      1       0        0         0   0.0   0.0   \n",
       "NSW4      1   27    11      1       0        0         1   0.0   0.0   \n",
       "NSW5      1   33     8      1       0        0         1   0.0   0.0   \n",
       "\n",
       "            re78     score  \n",
       "id                          \n",
       "NSW1   9930.0460  0.485005  \n",
       "NSW2   3595.8940  0.214506  \n",
       "NSW3  24909.4500  0.702979  \n",
       "NSW4   7506.1460  0.679662  \n",
       "NSW5    289.7899  0.687099  "
      ]
     },
     "execution_count": 31,
     "metadata": {},
     "output_type": "execute_result"
    }
   ],
   "source": [
    "patients_treated = patients_score_df.loc[patients_score_df['treat'] == 1]\n",
    "patients_not_treated = patients_score_df.loc[patients_score_df['treat'] == 0]\n",
    "patients_treated.head()"
   ]
  },
  {
   "cell_type": "code",
   "execution_count": 32,
   "metadata": {
    "ExecuteTime": {
     "end_time": "2017-11-22T12:24:11.707389Z",
     "start_time": "2017-11-22T12:24:11.690961Z"
    }
   },
   "outputs": [
    {
     "data": {
      "text/html": [
       "<div>\n",
       "<style scoped>\n",
       "    .dataframe tbody tr th:only-of-type {\n",
       "        vertical-align: middle;\n",
       "    }\n",
       "\n",
       "    .dataframe tbody tr th {\n",
       "        vertical-align: top;\n",
       "    }\n",
       "\n",
       "    .dataframe thead th {\n",
       "        text-align: right;\n",
       "    }\n",
       "</style>\n",
       "<table border=\"1\" class=\"dataframe\">\n",
       "  <thead>\n",
       "    <tr style=\"text-align: right;\">\n",
       "      <th></th>\n",
       "      <th>treat</th>\n",
       "      <th>age</th>\n",
       "      <th>educ</th>\n",
       "      <th>black</th>\n",
       "      <th>hispan</th>\n",
       "      <th>married</th>\n",
       "      <th>nodegree</th>\n",
       "      <th>re74</th>\n",
       "      <th>re75</th>\n",
       "      <th>re78</th>\n",
       "      <th>score</th>\n",
       "    </tr>\n",
       "    <tr>\n",
       "      <th>id</th>\n",
       "      <th></th>\n",
       "      <th></th>\n",
       "      <th></th>\n",
       "      <th></th>\n",
       "      <th></th>\n",
       "      <th></th>\n",
       "      <th></th>\n",
       "      <th></th>\n",
       "      <th></th>\n",
       "      <th></th>\n",
       "      <th></th>\n",
       "    </tr>\n",
       "  </thead>\n",
       "  <tbody>\n",
       "    <tr>\n",
       "      <th>PSID1</th>\n",
       "      <td>0</td>\n",
       "      <td>30</td>\n",
       "      <td>12</td>\n",
       "      <td>0</td>\n",
       "      <td>0</td>\n",
       "      <td>1</td>\n",
       "      <td>0</td>\n",
       "      <td>20166.73</td>\n",
       "      <td>18347.23</td>\n",
       "      <td>25564.67</td>\n",
       "      <td>0.041617</td>\n",
       "    </tr>\n",
       "    <tr>\n",
       "      <th>PSID2</th>\n",
       "      <td>0</td>\n",
       "      <td>26</td>\n",
       "      <td>12</td>\n",
       "      <td>0</td>\n",
       "      <td>0</td>\n",
       "      <td>1</td>\n",
       "      <td>0</td>\n",
       "      <td>25862.32</td>\n",
       "      <td>17806.55</td>\n",
       "      <td>25564.67</td>\n",
       "      <td>0.027540</td>\n",
       "    </tr>\n",
       "    <tr>\n",
       "      <th>PSID3</th>\n",
       "      <td>0</td>\n",
       "      <td>25</td>\n",
       "      <td>16</td>\n",
       "      <td>0</td>\n",
       "      <td>0</td>\n",
       "      <td>1</td>\n",
       "      <td>0</td>\n",
       "      <td>25862.32</td>\n",
       "      <td>15316.21</td>\n",
       "      <td>25564.67</td>\n",
       "      <td>0.022700</td>\n",
       "    </tr>\n",
       "    <tr>\n",
       "      <th>PSID4</th>\n",
       "      <td>0</td>\n",
       "      <td>42</td>\n",
       "      <td>11</td>\n",
       "      <td>0</td>\n",
       "      <td>0</td>\n",
       "      <td>1</td>\n",
       "      <td>1</td>\n",
       "      <td>21787.05</td>\n",
       "      <td>14265.29</td>\n",
       "      <td>15491.01</td>\n",
       "      <td>0.025899</td>\n",
       "    </tr>\n",
       "    <tr>\n",
       "      <th>PSID5</th>\n",
       "      <td>0</td>\n",
       "      <td>25</td>\n",
       "      <td>9</td>\n",
       "      <td>1</td>\n",
       "      <td>0</td>\n",
       "      <td>1</td>\n",
       "      <td>1</td>\n",
       "      <td>14829.69</td>\n",
       "      <td>13776.53</td>\n",
       "      <td>0.00</td>\n",
       "      <td>0.410599</td>\n",
       "    </tr>\n",
       "  </tbody>\n",
       "</table>\n",
       "</div>"
      ],
      "text/plain": [
       "       treat  age  educ  black  hispan  married  nodegree      re74      re75  \\\n",
       "id                                                                              \n",
       "PSID1      0   30    12      0       0        1         0  20166.73  18347.23   \n",
       "PSID2      0   26    12      0       0        1         0  25862.32  17806.55   \n",
       "PSID3      0   25    16      0       0        1         0  25862.32  15316.21   \n",
       "PSID4      0   42    11      0       0        1         1  21787.05  14265.29   \n",
       "PSID5      0   25     9      1       0        1         1  14829.69  13776.53   \n",
       "\n",
       "           re78     score  \n",
       "id                         \n",
       "PSID1  25564.67  0.041617  \n",
       "PSID2  25564.67  0.027540  \n",
       "PSID3  25564.67  0.022700  \n",
       "PSID4  15491.01  0.025899  \n",
       "PSID5      0.00  0.410599  "
      ]
     },
     "execution_count": 32,
     "metadata": {},
     "output_type": "execute_result"
    }
   ],
   "source": [
    "patients_not_treated.head()"
   ]
  },
  {
   "cell_type": "code",
   "execution_count": 33,
   "metadata": {
    "ExecuteTime": {
     "end_time": "2017-11-22T12:24:11.713291Z",
     "start_time": "2017-11-22T12:24:11.709240Z"
    }
   },
   "outputs": [
    {
     "data": {
      "text/plain": [
       "185"
      ]
     },
     "execution_count": 33,
     "metadata": {},
     "output_type": "execute_result"
    }
   ],
   "source": [
    "len(patients_treated.index)"
   ]
  },
  {
   "cell_type": "code",
   "execution_count": 34,
   "metadata": {
    "ExecuteTime": {
     "end_time": "2017-11-22T12:24:11.719306Z",
     "start_time": "2017-11-22T12:24:11.715140Z"
    },
    "scrolled": true
   },
   "outputs": [
    {
     "data": {
      "text/plain": [
       "429"
      ]
     },
     "execution_count": 34,
     "metadata": {},
     "output_type": "execute_result"
    }
   ],
   "source": [
    "len(patients_not_treated.index)"
   ]
  },
  {
   "cell_type": "markdown",
   "metadata": {},
   "source": [
    "We can see that there are less the patient treated than not treated. That's why we need to find only 1 match with the untreated patients. <br>\n",
    "To do this, we need to see the distance between each data point from the treated group with exactly one data point from the control group (the not treated ones)."
   ]
  },
  {
   "cell_type": "code",
   "execution_count": 35,
   "metadata": {
    "ExecuteTime": {
     "end_time": "2017-11-22T12:24:11.724415Z",
     "start_time": "2017-11-22T12:24:11.721212Z"
    }
   },
   "outputs": [],
   "source": [
    "#To calculate the distance (here we have 1 axis)\n",
    "def compute_dist(x1, x2):\n",
    "    return np.sqrt(np.power(x1 - x2, 2))"
   ]
  },
  {
   "cell_type": "code",
   "execution_count": 36,
   "metadata": {
    "ExecuteTime": {
     "end_time": "2017-11-22T12:24:11.764547Z",
     "start_time": "2017-11-22T12:24:11.726237Z"
    }
   },
   "outputs": [],
   "source": [
    "def matching_only_one(treated, ntreated, match_score):\n",
    "    matching = []\n",
    "    idx_npatient_used = []\n",
    "    \n",
    "    for patient_idx in treated.index:\n",
    "        patient = treated.loc[patient_idx]\n",
    "        patient_score = patient[match_score]\n",
    "        \n",
    "        min_dist = 10000000 # an arbitrary big number (the distance will be always below)\n",
    "        match = []\n",
    "        \n",
    "        for npatient_idx in ntreated.index:\n",
    "            npatient = ntreated.loc[npatient_idx]\n",
    "            npatient_score = npatient[match_score]\n",
    "            \n",
    "            dist = compute_dist(patient_score, npatient_score)\n",
    "            \n",
    "            if(dist < min_dist):\n",
    "                # we need to look if the untreated patient index was already used\n",
    "                if(npatient_idx not in idx_npatient_used):\n",
    "                    match = [patient_idx, npatient_idx]\n",
    "                    min_dist = dist\n",
    "                    \n",
    "        matching.append(match)\n",
    "        idx_npatient_used.append(match[1])\n",
    "        \n",
    "    return matching   "
   ]
  },
  {
   "cell_type": "code",
   "execution_count": 37,
   "metadata": {
    "ExecuteTime": {
     "end_time": "2017-11-22T12:24:22.619743Z",
     "start_time": "2017-11-22T12:24:11.766885Z"
    }
   },
   "outputs": [],
   "source": [
    "matching = matching_only_one(patients_treated, patients_not_treated, \"score\")"
   ]
  },
  {
   "cell_type": "markdown",
   "metadata": {},
   "source": [
    "Verification that we have only one match and that they are all different"
   ]
  },
  {
   "cell_type": "code",
   "execution_count": 38,
   "metadata": {
    "ExecuteTime": {
     "end_time": "2017-11-22T12:24:22.629364Z",
     "start_time": "2017-11-22T12:24:22.621691Z"
    }
   },
   "outputs": [],
   "source": [
    "def verify_one_match(list_):\n",
    "    for i in range(len(list_)):\n",
    "        psid1 = list_[i][1]\n",
    "        for j in range(len(list_)):\n",
    "            psid2 = list_[j][1]\n",
    "            if(i != j and psid1 == psid2):\n",
    "                return False\n",
    "    \n",
    "    return True\n",
    "                "
   ]
  },
  {
   "cell_type": "code",
   "execution_count": 39,
   "metadata": {
    "ExecuteTime": {
     "end_time": "2017-11-22T12:24:22.641122Z",
     "start_time": "2017-11-22T12:24:22.631053Z"
    }
   },
   "outputs": [
    {
     "data": {
      "text/plain": [
       "True"
      ]
     },
     "execution_count": 39,
     "metadata": {},
     "output_type": "execute_result"
    }
   ],
   "source": [
    "verify_one_match(matching)"
   ]
  },
  {
   "cell_type": "markdown",
   "metadata": {},
   "source": [
    "Now that we have the match we can compare the values of the treated and not treated persons"
   ]
  },
  {
   "cell_type": "code",
   "execution_count": 40,
   "metadata": {
    "ExecuteTime": {
     "end_time": "2017-11-22T12:24:22.652840Z",
     "start_time": "2017-11-22T12:24:22.642762Z"
    }
   },
   "outputs": [
    {
     "data": {
      "text/plain": [
       "count      185.000000\n",
       "mean      6349.143530\n",
       "std       7867.402218\n",
       "min          0.000000\n",
       "25%        485.229800\n",
       "50%       4232.309000\n",
       "75%       9642.999000\n",
       "max      60307.930000\n",
       "Name: re78, dtype: float64"
      ]
     },
     "execution_count": 40,
     "metadata": {},
     "output_type": "execute_result"
    }
   ],
   "source": [
    "patients_treated['re78'].describe()"
   ]
  },
  {
   "cell_type": "code",
   "execution_count": 41,
   "metadata": {
    "ExecuteTime": {
     "end_time": "2017-11-22T12:24:22.664454Z",
     "start_time": "2017-11-22T12:24:22.654866Z"
    }
   },
   "outputs": [
    {
     "data": {
      "text/plain": [
       "count      185.000000\n",
       "mean      5368.404885\n",
       "std       5799.302879\n",
       "min          0.000000\n",
       "25%         33.987710\n",
       "50%       3392.860000\n",
       "75%       8154.095000\n",
       "max      20243.380000\n",
       "Name: re78, dtype: float64"
      ]
     },
     "execution_count": 41,
     "metadata": {},
     "output_type": "execute_result"
    }
   ],
   "source": [
    "patients_not_treated_matched = patients_not_treated.loc[np.array(matching)[:,1]]\n",
    "patients_not_treated_matched['re78'].describe()"
   ]
  },
  {
   "cell_type": "markdown",
   "metadata": {},
   "source": [
    "We can see that they look alike and our conclusion will be better than what we have done before. We can plot them to see the differences."
   ]
  },
  {
   "cell_type": "code",
   "execution_count": 42,
   "metadata": {
    "ExecuteTime": {
     "end_time": "2017-11-22T12:24:22.818686Z",
     "start_time": "2017-11-22T12:24:22.666368Z"
    }
   },
   "outputs": [
    {
     "data": {
      "image/png": "[encoded data removed]",
      "text/plain": [
       "<matplotlib.figure.Figure at 0x113dd5da0>"
      ]
     },
     "metadata": {},
     "output_type": "display_data"
    }
   ],
   "source": [
    "make_boxplot(patients_treated, patients_not_treated_matched, 're78', ['treated', 'not_treated'], ['steelblue', '#5EDF63'])"
   ]
  },
  {
   "cell_type": "markdown",
   "metadata": {},
   "source": [
    "We can see that the plots are very similar and give us better informations about the treated and untreated people.\n",
    "Here with this analysis, we can conclude that the treatment doesn't really work because the real earnings are not higher for the treated persons than the untreated ones. So it seems logical to say that applying for this job training program has no influence. Furthermore, the differences could be caused by economic fluctuations or that maybe a higher salary involves having more experiences and better skills than the training job can bring."
   ]
  },
  {
   "cell_type": "markdown",
   "metadata": {},
   "source": [
    "We can now compare the age, education and the other parameters that we have to see how the repartition of the data looks."
   ]
  },
  {
   "cell_type": "code",
   "execution_count": 43,
   "metadata": {
    "ExecuteTime": {
     "end_time": "2017-11-22T12:24:23.124239Z",
     "start_time": "2017-11-22T12:24:22.820085Z"
    },
    "scrolled": false
   },
   "outputs": [
    {
     "data": {
      "image/png": "[encoded data removed]",
      "text/plain": [
       "<matplotlib.figure.Figure at 0x113f31668>"
      ]
     },
     "metadata": {},
     "output_type": "display_data"
    }
   ],
   "source": [
    "shared_plot_by('age', 'hist', patients_treated, patients_not_treated_matched)"
   ]
  },
  {
   "cell_type": "code",
   "execution_count": 44,
   "metadata": {
    "ExecuteTime": {
     "end_time": "2017-11-22T12:24:23.133027Z",
     "start_time": "2017-11-22T12:24:23.126094Z"
    }
   },
   "outputs": [
    {
     "data": {
      "text/plain": [
       "count    185.000000\n",
       "mean      25.816216\n",
       "std        7.155019\n",
       "min       17.000000\n",
       "25%       20.000000\n",
       "50%       25.000000\n",
       "75%       29.000000\n",
       "max       48.000000\n",
       "Name: age, dtype: float64"
      ]
     },
     "execution_count": 44,
     "metadata": {},
     "output_type": "execute_result"
    }
   ],
   "source": [
    "patients_treated['age'].describe()"
   ]
  },
  {
   "cell_type": "code",
   "execution_count": 45,
   "metadata": {
    "ExecuteTime": {
     "end_time": "2017-11-22T12:24:23.140467Z",
     "start_time": "2017-11-22T12:24:23.134641Z"
    },
    "scrolled": true
   },
   "outputs": [
    {
     "data": {
      "text/plain": [
       "count    185.000000\n",
       "mean      23.545946\n",
       "std        9.386004\n",
       "min       16.000000\n",
       "25%       17.000000\n",
       "50%       20.000000\n",
       "75%       26.000000\n",
       "max       55.000000\n",
       "Name: age, dtype: float64"
      ]
     },
     "execution_count": 45,
     "metadata": {},
     "output_type": "execute_result"
    }
   ],
   "source": [
    "patients_not_treated_matched['age'].describe()"
   ]
  },
  {
   "cell_type": "markdown",
   "metadata": {},
   "source": [
    "Now we can see that we have the same number of treated and untreated persons and the distributions of both graph are similar. So we can hope that these changes will leads to very good results. However, we can see that there is still a difference betweeen young people (15-20). There are a lot more of untreated young people than treated. So we will have again bias results but less than with the naive approch. Let's see if it's also the case for the years of educations."
   ]
  },
  {
   "cell_type": "code",
   "execution_count": 46,
   "metadata": {
    "ExecuteTime": {
     "end_time": "2017-11-22T12:24:23.464765Z",
     "start_time": "2017-11-22T12:24:23.142851Z"
    }
   },
   "outputs": [
    {
     "data": {
      "image/png": "[encoded data removed]",
      "text/plain": [
       "<matplotlib.figure.Figure at 0x113ff4160>"
      ]
     },
     "metadata": {},
     "output_type": "display_data"
    }
   ],
   "source": [
    "shared_plot_by('educ', 'hist', patients_treated, patients_not_treated_matched)"
   ]
  },
  {
   "cell_type": "code",
   "execution_count": 47,
   "metadata": {
    "ExecuteTime": {
     "end_time": "2017-11-22T12:24:23.474699Z",
     "start_time": "2017-11-22T12:24:23.466745Z"
    }
   },
   "outputs": [
    {
     "data": {
      "text/plain": [
       "count    185.000000\n",
       "mean      10.345946\n",
       "std        2.010650\n",
       "min        4.000000\n",
       "25%        9.000000\n",
       "50%       11.000000\n",
       "75%       12.000000\n",
       "max       16.000000\n",
       "Name: educ, dtype: float64"
      ]
     },
     "execution_count": 47,
     "metadata": {},
     "output_type": "execute_result"
    }
   ],
   "source": [
    "patients_treated['educ'].describe()"
   ]
  },
  {
   "cell_type": "code",
   "execution_count": 48,
   "metadata": {
    "ExecuteTime": {
     "end_time": "2017-11-22T12:24:23.482092Z",
     "start_time": "2017-11-22T12:24:23.476094Z"
    },
    "scrolled": true
   },
   "outputs": [
    {
     "data": {
      "text/plain": [
       "count    185.000000\n",
       "mean      10.221622\n",
       "std        2.814861\n",
       "min        0.000000\n",
       "25%        9.000000\n",
       "50%       10.000000\n",
       "75%       12.000000\n",
       "max       18.000000\n",
       "Name: educ, dtype: float64"
      ]
     },
     "execution_count": 48,
     "metadata": {},
     "output_type": "execute_result"
    }
   ],
   "source": [
    "patients_not_treated_matched['educ'].describe()"
   ]
  },
  {
   "cell_type": "markdown",
   "metadata": {},
   "source": [
    "Again, the distribution of education for treated and untreated person are similar. These distributions look like gaussians but it's not random so we will have bias on our final results. For example, if we look at the graph, most of the people who studied for a long time (around 10 years) took this job training program. Maybe the reason is that after about 10 years of study, another training can bring or supplement useful skills for a job. <br>\n",
    "However we don't have the same proportion (again) of people for each year of education so this supports our hypothesis that this is a <b>non-random treatment assignment</b>."
   ]
  },
  {
   "cell_type": "code",
   "execution_count": 49,
   "metadata": {
    "ExecuteTime": {
     "end_time": "2017-11-22T12:24:23.784393Z",
     "start_time": "2017-11-22T12:24:23.484724Z"
    }
   },
   "outputs": [
    {
     "data": {
      "image/png": "[encoded data removed]",
      "text/plain": [
       "<matplotlib.figure.Figure at 0x11423cc50>"
      ]
     },
     "metadata": {},
     "output_type": "display_data"
    }
   ],
   "source": [
    "fig, plot_axes = plt.subplots(1, 2, figsize=(14, 5), sharex=True)\n",
    "nb_index = np.arange(2)\n",
    "col_names = ['nodegree', 'married']\n",
    "\n",
    "result_0, result_1 = col_number(patients_treated, col_names)\n",
    "bar_subplot(plot_axes[0], nb_index, result_0, result_1, 'Ratio of treated persons')\n",
    "\n",
    "result_0, result_1 = col_number(patients_not_treated_matched, col_names)\n",
    "bar_subplot(plot_axes[1], nb_index, result_0, result_1, 'Ratio of untreated persons merged')\n",
    "\n",
    "plt.show()"
   ]
  },
  {
   "cell_type": "markdown",
   "metadata": {},
   "source": [
    "We can see that the proportion of person without a degree is very similar in both groups. However it is still a little bit higher in the treatment group, which one can conclude that if someone has a diploma, he will normally take the training (for more skills). <br>\n",
    "For the married people we can see that the proportions are the same which wasn't the case with the naive approach. This shows that now, we have similar groups with \"similar\" married persons and therefore will lead to better results. However the final result did not depend only on married people and this is why we can't say that this research is a random treatment assignment."
   ]
  },
  {
   "cell_type": "markdown",
   "metadata": {},
   "source": [
    "In this part, we will look at <b>blacks and hispanic</b> and compare the ratios between the two groups"
   ]
  },
  {
   "cell_type": "code",
   "execution_count": 50,
   "metadata": {
    "ExecuteTime": {
     "end_time": "2017-11-22T12:24:23.790235Z",
     "start_time": "2017-11-22T12:24:23.785974Z"
    }
   },
   "outputs": [
    {
     "name": "stdout",
     "output_type": "stream",
     "text": [
      "Percentage of treated black: 0.843243243243\n"
     ]
    }
   ],
   "source": [
    "patient_not_treated_count = len(patients_not_treated_matched)\n",
    "patient_treated_count = len(patients_treated)\n",
    "print(\"Percentage of treated black:\",compute_ratio(patients_treated, 'black', patient_treated_count))"
   ]
  },
  {
   "cell_type": "code",
   "execution_count": 51,
   "metadata": {
    "ExecuteTime": {
     "end_time": "2017-11-22T12:24:23.795266Z",
     "start_time": "2017-11-22T12:24:23.791691Z"
    }
   },
   "outputs": [
    {
     "name": "stdout",
     "output_type": "stream",
     "text": [
      "percentatge of untreated black: 0.47027027027\n"
     ]
    }
   ],
   "source": [
    "print(\"percentatge of untreated black:\",compute_ratio(patients_not_treated_matched, 'black', patient_not_treated_count))"
   ]
  },
  {
   "cell_type": "code",
   "execution_count": 52,
   "metadata": {
    "ExecuteTime": {
     "end_time": "2017-11-22T12:24:23.800087Z",
     "start_time": "2017-11-22T12:24:23.796724Z"
    }
   },
   "outputs": [
    {
     "name": "stdout",
     "output_type": "stream",
     "text": [
      "percentage of treated hispanic: 0.0594594594595\n"
     ]
    }
   ],
   "source": [
    "print(\"percentage of treated hispanic:\",compute_ratio(patients_treated, 'hispan', patient_treated_count))"
   ]
  },
  {
   "cell_type": "code",
   "execution_count": 53,
   "metadata": {
    "ExecuteTime": {
     "end_time": "2017-11-22T12:24:23.808609Z",
     "start_time": "2017-11-22T12:24:23.802068Z"
    }
   },
   "outputs": [
    {
     "name": "stdout",
     "output_type": "stream",
     "text": [
      "percentage of untreated hispanic: 0.183783783784\n"
     ]
    }
   ],
   "source": [
    "print(\"percentage of untreated hispanic:\",compute_ratio(patients_not_treated_matched, 'hispan', patient_not_treated_count))"
   ]
  },
  {
   "cell_type": "markdown",
   "metadata": {},
   "source": [
    "We can see now that the proportion of blacks in the treated group is almost twice as important as the one of the non-treated group. In addition, for Hispanics, we have the same problem, almost twice as much hispanic in the untreated group this time.<br>\n",
    "With these results, we can conclude that since the proportion of blacks and hipanics are not the same in both groups, the final results will not be good. Indeed to have the best results possible, there should be similar proportions. <br>\n",
    "Finally, we can conclude that with all these differences seen previously, this is a <b>non-random treatment assignement</b>"
   ]
  },
  {
   "cell_type": "markdown",
   "metadata": {},
   "source": [
    "### 5. Balancing the groups further"
   ]
  },
  {
   "cell_type": "markdown",
   "metadata": {},
   "source": [
    "kevin part"
   ]
  },
  {
   "cell_type": "markdown",
   "metadata": {},
   "source": [
    "As we saw in the previous part, our matching were only on the score of the prediction and nothing else. We have 185 persons but maybe we can do a better match. First we will filter our people and keep only the people how have a better matching to see if it can improve te result. Then we will test with an other matching function to find better results."
   ]
  },
  {
   "cell_type": "code",
   "execution_count": 54,
   "metadata": {
    "ExecuteTime": {
     "end_time": "2017-11-22T12:24:23.827464Z",
     "start_time": "2017-11-22T12:24:23.810996Z"
    }
   },
   "outputs": [
    {
     "data": {
      "text/html": [
       "<div>\n",
       "<style scoped>\n",
       "    .dataframe tbody tr th:only-of-type {\n",
       "        vertical-align: middle;\n",
       "    }\n",
       "\n",
       "    .dataframe tbody tr th {\n",
       "        vertical-align: top;\n",
       "    }\n",
       "\n",
       "    .dataframe thead th {\n",
       "        text-align: right;\n",
       "    }\n",
       "</style>\n",
       "<table border=\"1\" class=\"dataframe\">\n",
       "  <thead>\n",
       "    <tr style=\"text-align: right;\">\n",
       "      <th></th>\n",
       "      <th>treat</th>\n",
       "      <th>age</th>\n",
       "      <th>educ</th>\n",
       "      <th>black</th>\n",
       "      <th>hispan</th>\n",
       "      <th>married</th>\n",
       "      <th>nodegree</th>\n",
       "      <th>re74</th>\n",
       "      <th>re75</th>\n",
       "      <th>re78</th>\n",
       "      <th>score</th>\n",
       "    </tr>\n",
       "    <tr>\n",
       "      <th>id</th>\n",
       "      <th></th>\n",
       "      <th></th>\n",
       "      <th></th>\n",
       "      <th></th>\n",
       "      <th></th>\n",
       "      <th></th>\n",
       "      <th></th>\n",
       "      <th></th>\n",
       "      <th></th>\n",
       "      <th></th>\n",
       "      <th></th>\n",
       "    </tr>\n",
       "  </thead>\n",
       "  <tbody>\n",
       "    <tr>\n",
       "      <th>PSID331</th>\n",
       "      <td>0</td>\n",
       "      <td>24</td>\n",
       "      <td>12</td>\n",
       "      <td>1</td>\n",
       "      <td>0</td>\n",
       "      <td>1</td>\n",
       "      <td>0</td>\n",
       "      <td>2355.039</td>\n",
       "      <td>0.0000</td>\n",
       "      <td>2448.593</td>\n",
       "      <td>0.484558</td>\n",
       "    </tr>\n",
       "    <tr>\n",
       "      <th>PSID31</th>\n",
       "      <td>0</td>\n",
       "      <td>22</td>\n",
       "      <td>13</td>\n",
       "      <td>0</td>\n",
       "      <td>1</td>\n",
       "      <td>0</td>\n",
       "      <td>0</td>\n",
       "      <td>6404.843</td>\n",
       "      <td>7882.7900</td>\n",
       "      <td>9453.017</td>\n",
       "      <td>0.213659</td>\n",
       "    </tr>\n",
       "    <tr>\n",
       "      <th>PSID191</th>\n",
       "      <td>0</td>\n",
       "      <td>18</td>\n",
       "      <td>12</td>\n",
       "      <td>1</td>\n",
       "      <td>0</td>\n",
       "      <td>0</td>\n",
       "      <td>0</td>\n",
       "      <td>1579.169</td>\n",
       "      <td>1408.9840</td>\n",
       "      <td>3057.416</td>\n",
       "      <td>0.703300</td>\n",
       "    </tr>\n",
       "    <tr>\n",
       "      <th>PSID253</th>\n",
       "      <td>0</td>\n",
       "      <td>21</td>\n",
       "      <td>9</td>\n",
       "      <td>1</td>\n",
       "      <td>0</td>\n",
       "      <td>0</td>\n",
       "      <td>1</td>\n",
       "      <td>1030.574</td>\n",
       "      <td>470.8548</td>\n",
       "      <td>1223.558</td>\n",
       "      <td>0.681718</td>\n",
       "    </tr>\n",
       "    <tr>\n",
       "      <th>PSID374</th>\n",
       "      <td>0</td>\n",
       "      <td>18</td>\n",
       "      <td>11</td>\n",
       "      <td>1</td>\n",
       "      <td>0</td>\n",
       "      <td>0</td>\n",
       "      <td>1</td>\n",
       "      <td>0.000</td>\n",
       "      <td>0.0000</td>\n",
       "      <td>0.000</td>\n",
       "      <td>0.687041</td>\n",
       "    </tr>\n",
       "  </tbody>\n",
       "</table>\n",
       "</div>"
      ],
      "text/plain": [
       "         treat  age  educ  black  hispan  married  nodegree      re74  \\\n",
       "id                                                                      \n",
       "PSID331      0   24    12      1       0        1         0  2355.039   \n",
       "PSID31       0   22    13      0       1        0         0  6404.843   \n",
       "PSID191      0   18    12      1       0        0         0  1579.169   \n",
       "PSID253      0   21     9      1       0        0         1  1030.574   \n",
       "PSID374      0   18    11      1       0        0         1     0.000   \n",
       "\n",
       "              re75      re78     score  \n",
       "id                                      \n",
       "PSID331     0.0000  2448.593  0.484558  \n",
       "PSID31   7882.7900  9453.017  0.213659  \n",
       "PSID191  1408.9840  3057.416  0.703300  \n",
       "PSID253   470.8548  1223.558  0.681718  \n",
       "PSID374     0.0000     0.000  0.687041  "
      ]
     },
     "execution_count": 54,
     "metadata": {},
     "output_type": "execute_result"
    }
   ],
   "source": [
    "patients_not_treated_matched.head()"
   ]
  },
  {
   "cell_type": "code",
   "execution_count": 55,
   "metadata": {
    "ExecuteTime": {
     "end_time": "2017-11-22T12:24:23.844109Z",
     "start_time": "2017-11-22T12:24:23.829151Z"
    },
    "scrolled": true
   },
   "outputs": [
    {
     "data": {
      "text/html": [
       "<div>\n",
       "<style scoped>\n",
       "    .dataframe tbody tr th:only-of-type {\n",
       "        vertical-align: middle;\n",
       "    }\n",
       "\n",
       "    .dataframe tbody tr th {\n",
       "        vertical-align: top;\n",
       "    }\n",
       "\n",
       "    .dataframe thead th {\n",
       "        text-align: right;\n",
       "    }\n",
       "</style>\n",
       "<table border=\"1\" class=\"dataframe\">\n",
       "  <thead>\n",
       "    <tr style=\"text-align: right;\">\n",
       "      <th></th>\n",
       "      <th>treat</th>\n",
       "      <th>age</th>\n",
       "      <th>educ</th>\n",
       "      <th>black</th>\n",
       "      <th>hispan</th>\n",
       "      <th>married</th>\n",
       "      <th>nodegree</th>\n",
       "      <th>re74</th>\n",
       "      <th>re75</th>\n",
       "      <th>re78</th>\n",
       "      <th>score</th>\n",
       "    </tr>\n",
       "    <tr>\n",
       "      <th>id</th>\n",
       "      <th></th>\n",
       "      <th></th>\n",
       "      <th></th>\n",
       "      <th></th>\n",
       "      <th></th>\n",
       "      <th></th>\n",
       "      <th></th>\n",
       "      <th></th>\n",
       "      <th></th>\n",
       "      <th></th>\n",
       "      <th></th>\n",
       "    </tr>\n",
       "  </thead>\n",
       "  <tbody>\n",
       "    <tr>\n",
       "      <th>NSW1</th>\n",
       "      <td>1</td>\n",
       "      <td>37</td>\n",
       "      <td>11</td>\n",
       "      <td>1</td>\n",
       "      <td>0</td>\n",
       "      <td>1</td>\n",
       "      <td>1</td>\n",
       "      <td>0.0</td>\n",
       "      <td>0.0</td>\n",
       "      <td>9930.0460</td>\n",
       "      <td>0.485005</td>\n",
       "    </tr>\n",
       "    <tr>\n",
       "      <th>NSW2</th>\n",
       "      <td>1</td>\n",
       "      <td>22</td>\n",
       "      <td>9</td>\n",
       "      <td>0</td>\n",
       "      <td>1</td>\n",
       "      <td>0</td>\n",
       "      <td>1</td>\n",
       "      <td>0.0</td>\n",
       "      <td>0.0</td>\n",
       "      <td>3595.8940</td>\n",
       "      <td>0.214506</td>\n",
       "    </tr>\n",
       "    <tr>\n",
       "      <th>NSW3</th>\n",
       "      <td>1</td>\n",
       "      <td>30</td>\n",
       "      <td>12</td>\n",
       "      <td>1</td>\n",
       "      <td>0</td>\n",
       "      <td>0</td>\n",
       "      <td>0</td>\n",
       "      <td>0.0</td>\n",
       "      <td>0.0</td>\n",
       "      <td>24909.4500</td>\n",
       "      <td>0.702979</td>\n",
       "    </tr>\n",
       "    <tr>\n",
       "      <th>NSW4</th>\n",
       "      <td>1</td>\n",
       "      <td>27</td>\n",
       "      <td>11</td>\n",
       "      <td>1</td>\n",
       "      <td>0</td>\n",
       "      <td>0</td>\n",
       "      <td>1</td>\n",
       "      <td>0.0</td>\n",
       "      <td>0.0</td>\n",
       "      <td>7506.1460</td>\n",
       "      <td>0.679662</td>\n",
       "    </tr>\n",
       "    <tr>\n",
       "      <th>NSW5</th>\n",
       "      <td>1</td>\n",
       "      <td>33</td>\n",
       "      <td>8</td>\n",
       "      <td>1</td>\n",
       "      <td>0</td>\n",
       "      <td>0</td>\n",
       "      <td>1</td>\n",
       "      <td>0.0</td>\n",
       "      <td>0.0</td>\n",
       "      <td>289.7899</td>\n",
       "      <td>0.687099</td>\n",
       "    </tr>\n",
       "  </tbody>\n",
       "</table>\n",
       "</div>"
      ],
      "text/plain": [
       "      treat  age  educ  black  hispan  married  nodegree  re74  re75  \\\n",
       "id                                                                     \n",
       "NSW1      1   37    11      1       0        1         1   0.0   0.0   \n",
       "NSW2      1   22     9      0       1        0         1   0.0   0.0   \n",
       "NSW3      1   30    12      1       0        0         0   0.0   0.0   \n",
       "NSW4      1   27    11      1       0        0         1   0.0   0.0   \n",
       "NSW5      1   33     8      1       0        0         1   0.0   0.0   \n",
       "\n",
       "            re78     score  \n",
       "id                          \n",
       "NSW1   9930.0460  0.485005  \n",
       "NSW2   3595.8940  0.214506  \n",
       "NSW3  24909.4500  0.702979  \n",
       "NSW4   7506.1460  0.679662  \n",
       "NSW5    289.7899  0.687099  "
      ]
     },
     "execution_count": 55,
     "metadata": {},
     "output_type": "execute_result"
    }
   ],
   "source": [
    "patients_treated.head()"
   ]
  },
  {
   "cell_type": "markdown",
   "metadata": {},
   "source": [
    "What can happen if we took only those who have at maximum an interval of 10 years?"
   ]
  },
  {
   "cell_type": "markdown",
   "metadata": {},
   "source": [
    "With the function below, we tried and see if we classified people by origin and limiting the age difference to 10 years, do we still find a matching for everyone. "
   ]
  },
  {
   "cell_type": "code",
   "execution_count": 56,
   "metadata": {
    "ExecuteTime": {
     "end_time": "2017-11-22T12:24:23.870284Z",
     "start_time": "2017-11-22T12:24:23.845846Z"
    }
   },
   "outputs": [],
   "source": [
    "def reindex(treated, ntreated, match_score):\n",
    "    matching = []\n",
    "    \n",
    "    indexes1 = treated.index\n",
    "    indexes2 = ntreated.index\n",
    "    \n",
    "    for idx_1, idx_2 in zip(indexes1, indexes2):\n",
    "        patient = treated.loc[idx_1]\n",
    "        patient_age = patient[\"age\"]\n",
    "        patient_hisp = patient[\"hispan\"]\n",
    "        patient_black = patient[\"black\"]\n",
    "        npatient = ntreated.loc[idx_2]\n",
    "        npatient_age = npatient[\"age\"]\n",
    "        npatient_hisp = npatient[\"hispan\"]\n",
    "        npatient_black = npatient[\"black\"]\n",
    "        \n",
    "        dist = compute_dist(patient_age, npatient_age)\n",
    "            \n",
    "        if(dist < 7 and patient_hisp == npatient_hisp and patient_black == npatient_black):                    \n",
    "            matching.append([idx_1, idx_2])\n",
    "        \n",
    "    return matching"
   ]
  },
  {
   "cell_type": "code",
   "execution_count": 57,
   "metadata": {
    "ExecuteTime": {
     "end_time": "2017-11-22T12:24:23.952389Z",
     "start_time": "2017-11-22T12:24:23.872766Z"
    }
   },
   "outputs": [],
   "source": [
    "matching  = reindex(patients_treated, patients_not_treated_matched, \"score\")"
   ]
  },
  {
   "cell_type": "code",
   "execution_count": 58,
   "metadata": {
    "ExecuteTime": {
     "end_time": "2017-11-22T12:24:23.959359Z",
     "start_time": "2017-11-22T12:24:23.954458Z"
    },
    "scrolled": true
   },
   "outputs": [
    {
     "data": {
      "text/plain": [
       "49"
      ]
     },
     "execution_count": 58,
     "metadata": {},
     "output_type": "execute_result"
    }
   ],
   "source": [
    "len(matching)"
   ]
  },
  {
   "cell_type": "markdown",
   "metadata": {},
   "source": [
    "The result above is smaller than the one we got at the previous question, this is due to the fact that we condition more. This more precise analysis hopefully. "
   ]
  },
  {
   "cell_type": "code",
   "execution_count": 59,
   "metadata": {
    "ExecuteTime": {
     "end_time": "2017-11-22T12:24:23.973923Z",
     "start_time": "2017-11-22T12:24:23.961898Z"
    }
   },
   "outputs": [
    {
     "data": {
      "text/plain": [
       "count       49.000000\n",
       "mean      6102.295833\n",
       "std       5732.475953\n",
       "min          0.000000\n",
       "25%          0.000000\n",
       "50%       4321.705000\n",
       "75%      10694.290000\n",
       "max      18783.350000\n",
       "Name: re78, dtype: float64"
      ]
     },
     "execution_count": 59,
     "metadata": {},
     "output_type": "execute_result"
    }
   ],
   "source": [
    "new_patients_not_treated_matched = patients_not_treated.loc[np.array(matching)[:,1]]\n",
    "new_patients_treated_matched = patients_treated.loc[np.array(matching)[:,0]]\n",
    "new_patients_treated_matched['re78'].describe()"
   ]
  },
  {
   "cell_type": "code",
   "execution_count": 60,
   "metadata": {
    "ExecuteTime": {
     "end_time": "2017-11-22T12:24:24.131194Z",
     "start_time": "2017-11-22T12:24:23.975860Z"
    },
    "scrolled": true
   },
   "outputs": [
    {
     "data": {
      "image/png": "[encoded data removed]",
      "text/plain": [
       "<matplotlib.figure.Figure at 0x1141ff630>"
      ]
     },
     "metadata": {},
     "output_type": "display_data"
    }
   ],
   "source": [
    "make_boxplot(new_patients_not_treated_matched, new_patients_treated_matched, 're78', ['treated', 'not_treated'], ['steelblue', '#5EDF63'])"
   ]
  },
  {
   "cell_type": "markdown",
   "metadata": {},
   "source": [
    "Indeed as expected the result are more precise, the two distribution look alike with only one outlier in the not treated group. <br>\n",
    "The above plot confirm the previous hypothesis, namely that the treatment doesn't work. the salery level are independent of the treatment. <br>\n",
    "let's see if the distribution of age, education and other parameters are also similar between the two groups."
   ]
  },
  {
   "cell_type": "code",
   "execution_count": 61,
   "metadata": {
    "ExecuteTime": {
     "end_time": "2017-11-22T12:24:24.435870Z",
     "start_time": "2017-11-22T12:24:24.132678Z"
    },
    "scrolled": true
   },
   "outputs": [
    {
     "data": {
      "image/png": "[encoded data removed]",
      "text/plain": [
       "<matplotlib.figure.Figure at 0x113ff9358>"
      ]
     },
     "metadata": {},
     "output_type": "display_data"
    }
   ],
   "source": [
    "shared_plot_by('age', 'hist', new_patients_treated_matched, new_patients_not_treated_matched)"
   ]
  },
  {
   "cell_type": "markdown",
   "metadata": {},
   "source": [
    "We see from the above plot that age repartition are fairly similar, although we still have more treated person around 25."
   ]
  },
  {
   "cell_type": "code",
   "execution_count": 62,
   "metadata": {
    "ExecuteTime": {
     "end_time": "2017-11-22T12:24:24.812502Z",
     "start_time": "2017-11-22T12:24:24.437747Z"
    },
    "scrolled": true
   },
   "outputs": [
    {
     "data": {
      "image/png": "[encoded data removed]",
      "text/plain": [
       "<matplotlib.figure.Figure at 0x113b800f0>"
      ]
     },
     "metadata": {},
     "output_type": "display_data"
    }
   ],
   "source": [
    "shared_plot_by('educ', 'hist', new_patients_treated_matched, new_patients_not_treated_matched)"
   ]
  },
  {
   "cell_type": "markdown",
   "metadata": {},
   "source": [
    "Education wise the same observation can be made, we have fairly similar distribution, much more in comparison with what we had in the previous parts."
   ]
  },
  {
   "cell_type": "code",
   "execution_count": 63,
   "metadata": {
    "ExecuteTime": {
     "end_time": "2017-11-22T12:24:24.821856Z",
     "start_time": "2017-11-22T12:24:24.815427Z"
    }
   },
   "outputs": [
    {
     "name": "stdout",
     "output_type": "stream",
     "text": [
      "Percentage of treated black: 0.755102040816\n"
     ]
    }
   ],
   "source": [
    "patient_not_treated_count = len(new_patients_not_treated_matched)\n",
    "patient_treated_count = len(new_patients_treated_matched)\n",
    "print(\"Percentage of treated black:\",compute_ratio(new_patients_treated_matched, 'black', patient_treated_count))"
   ]
  },
  {
   "cell_type": "code",
   "execution_count": 64,
   "metadata": {
    "ExecuteTime": {
     "end_time": "2017-11-22T12:24:24.833131Z",
     "start_time": "2017-11-22T12:24:24.824652Z"
    }
   },
   "outputs": [
    {
     "name": "stdout",
     "output_type": "stream",
     "text": [
      "percentatge of untreated black: 0.755102040816\n"
     ]
    }
   ],
   "source": [
    "print(\"percentatge of untreated black:\",compute_ratio(new_patients_not_treated_matched, 'black', patient_not_treated_count))"
   ]
  },
  {
   "cell_type": "markdown",
   "metadata": {},
   "source": [
    "The separation done above yield same distribution of treated and untreated blacks, which is a good thing to affirm the validity of our above results. "
   ]
  },
  {
   "cell_type": "code",
   "execution_count": 65,
   "metadata": {
    "ExecuteTime": {
     "end_time": "2017-11-22T12:24:24.841995Z",
     "start_time": "2017-11-22T12:24:24.835679Z"
    }
   },
   "outputs": [
    {
     "name": "stdout",
     "output_type": "stream",
     "text": [
      "percentage of treated hispanic: 0.0612244897959\n"
     ]
    }
   ],
   "source": [
    "print(\"percentage of treated hispanic:\",compute_ratio(new_patients_treated_matched, 'hispan', patient_treated_count))"
   ]
  },
  {
   "cell_type": "code",
   "execution_count": 66,
   "metadata": {
    "ExecuteTime": {
     "end_time": "2017-11-22T12:24:24.849046Z",
     "start_time": "2017-11-22T12:24:24.844080Z"
    },
    "scrolled": true
   },
   "outputs": [
    {
     "name": "stdout",
     "output_type": "stream",
     "text": [
      "percentage of untreated hispanic: 0.0612244897959\n"
     ]
    }
   ],
   "source": [
    "print(\"percentage of untreated hispanic:\",compute_ratio(new_patients_not_treated_matched, 'hispan', patient_not_treated_count))"
   ]
  },
  {
   "cell_type": "markdown",
   "metadata": {},
   "source": [
    "We can see however that the hispanics are not sufficient in comparison to the blacks. We should therefore consider splitting even more, which is the subject of our next paragraph."
   ]
  },
  {
   "cell_type": "markdown",
   "metadata": {},
   "source": [
    "### Next try: "
   ]
  },
  {
   "cell_type": "markdown",
   "metadata": {},
   "source": [
    "We can see here that the results (numbers and distribution are more similar) so it will lead to better results.\n",
    "However we don't have any hispanic in our match. <br>\n",
    "So maybe we can split the data better to have better results. Let's try."
   ]
  },
  {
   "cell_type": "code",
   "execution_count": 67,
   "metadata": {
    "ExecuteTime": {
     "end_time": "2017-11-22T12:24:24.856318Z",
     "start_time": "2017-11-22T12:24:24.851631Z"
    }
   },
   "outputs": [],
   "source": [
    "def not_black_or_hisp(df, col1, col2):\n",
    "    return df.loc[((df[col1] == 0) & (df[col2] == 0))]"
   ]
  },
  {
   "cell_type": "code",
   "execution_count": 68,
   "metadata": {
    "ExecuteTime": {
     "end_time": "2017-11-22T12:24:24.905935Z",
     "start_time": "2017-11-22T12:24:24.858591Z"
    }
   },
   "outputs": [],
   "source": [
    "def logistic_separate_class(df, col1, col2 = None, not_black_hisp = False,):\n",
    "    logistic = linear_model.LogisticRegression()\n",
    "    feature_cols = ['age', 'educ', 'black', 'hispan', 'married', 'nodegree', 're74', 're75']\n",
    "    X = df[feature_cols]\n",
    "    \n",
    "    patients_treated = 0\n",
    "    patients_not_treated = 0\n",
    "    \n",
    "    if(not_black_hisp):\n",
    "        new_X = not_black_or_hisp(X,col1,col2)\n",
    "        new_y = not_black_or_hisp(df,col1,col2).treat\n",
    "    else:\n",
    "        new_X = X.loc[(X[col1] == 1)]\n",
    "        new_y = df.loc[((df[col1] == 1))].treat\n",
    "        \n",
    "    logistic.fit(new_X, new_y)\n",
    "    score_b = logistic.predict_proba(new_X)\n",
    "    new_df = df.copy()\n",
    "    \n",
    "    \n",
    "    if(not_black_hisp):\n",
    "        patients_df = not_black_or_hisp(new_df, col1, col2)\n",
    "    else:\n",
    "        patients_df = new_df.loc[new_df[col1] == 1]\n",
    "            \n",
    "    patients_score_df = patients_df.copy()\n",
    "    patients_score_df[\"score\"] = score_b[:,1]\n",
    "        \n",
    "    patients_treated = patients_score_df.loc[patients_score_df['treat'] == 1]\n",
    "    patients_not_treated = patients_score_df.loc[patients_score_df['treat'] == 0]\n",
    "\n",
    "    return patients_treated, patients_not_treated"
   ]
  },
  {
   "cell_type": "code",
   "execution_count": 69,
   "metadata": {
    "ExecuteTime": {
     "end_time": "2017-11-22T12:24:24.929953Z",
     "start_time": "2017-11-22T12:24:24.907774Z"
    }
   },
   "outputs": [],
   "source": [
    "patients_black_treated , patients_black_not_treated = logistic_separate_class(patients_df,'black')\n",
    "patients_hispan_treated , patients_hispan_not_treated = logistic_separate_class(patients_df,'hispan')\n",
    "patients_noBlack_noHispan_treated , patients_noBlack_noHispan_not_treated = logistic_separate_class(patients_df,'black', 'hispan', True)"
   ]
  },
  {
   "cell_type": "code",
   "execution_count": 70,
   "metadata": {
    "ExecuteTime": {
     "end_time": "2017-11-22T12:24:24.934389Z",
     "start_time": "2017-11-22T12:24:24.931525Z"
    }
   },
   "outputs": [],
   "source": [
    "def print_len(df):\n",
    "    print(len(df))"
   ]
  },
  {
   "cell_type": "code",
   "execution_count": 71,
   "metadata": {
    "ExecuteTime": {
     "end_time": "2017-11-22T12:24:24.944141Z",
     "start_time": "2017-11-22T12:24:24.936330Z"
    }
   },
   "outputs": [
    {
     "name": "stdout",
     "output_type": "stream",
     "text": [
      "number of black patient treated :  156\n",
      "number of black people not treated : 87\n",
      "number of hispanic people treated : 11\n",
      "number of hispanic not treated : 61\n",
      "number of non black nor hispanic treated : 18\n",
      "number of non black nor hispanic not treated : 281\n"
     ]
    }
   ],
   "source": [
    "print(\"number of black patient treated : \",len(patients_black_treated))\n",
    "print(\"number of black people not treated :\",len(patients_black_not_treated))\n",
    "print(\"number of hispanic people treated :\",len(patients_hispan_treated))\n",
    "print(\"number of hispanic not treated :\",len(patients_hispan_not_treated))\n",
    "print(\"number of non black nor hispanic treated :\",len(patients_noBlack_noHispan_treated))\n",
    "print(\"number of non black nor hispanic not treated :\",len(patients_noBlack_noHispan_not_treated))"
   ]
  },
  {
   "cell_type": "code",
   "execution_count": 72,
   "metadata": {
    "ExecuteTime": {
     "end_time": "2017-11-22T12:24:27.899988Z",
     "start_time": "2017-11-22T12:24:24.946180Z"
    }
   },
   "outputs": [],
   "source": [
    "matching_black = matching_only_one(patients_black_not_treated, patients_black_treated, \"score\")\n",
    "matching_hispan = matching_only_one(patients_hispan_treated, patients_hispan_not_treated, \"score\")\n",
    "matching_noBlack_noHispan = matching_only_one(patients_noBlack_noHispan_treated, patients_noBlack_noHispan_not_treated, \"score\")"
   ]
  },
  {
   "cell_type": "markdown",
   "metadata": {},
   "source": [
    "The number above suggest that we should take the minimum of the two values (treated vs untreated) for the matching to work. <br>\n",
    "Indeed, we can see that the number of treated blacks is more important than the number of untreated one, we shall therefore take match on the non treated."
   ]
  },
  {
   "cell_type": "code",
   "execution_count": 73,
   "metadata": {
    "ExecuteTime": {
     "end_time": "2017-11-22T12:24:27.908912Z",
     "start_time": "2017-11-22T12:24:27.902670Z"
    }
   },
   "outputs": [
    {
     "data": {
      "text/plain": [
       "True"
      ]
     },
     "execution_count": 73,
     "metadata": {},
     "output_type": "execute_result"
    }
   ],
   "source": [
    "verify_one_match(matching_black)"
   ]
  },
  {
   "cell_type": "code",
   "execution_count": 74,
   "metadata": {
    "ExecuteTime": {
     "end_time": "2017-11-22T12:24:27.916749Z",
     "start_time": "2017-11-22T12:24:27.911198Z"
    }
   },
   "outputs": [
    {
     "data": {
      "text/plain": [
       "True"
      ]
     },
     "execution_count": 74,
     "metadata": {},
     "output_type": "execute_result"
    }
   ],
   "source": [
    "verify_one_match(matching_hispan)"
   ]
  },
  {
   "cell_type": "code",
   "execution_count": 75,
   "metadata": {
    "ExecuteTime": {
     "end_time": "2017-11-22T12:24:27.923858Z",
     "start_time": "2017-11-22T12:24:27.918976Z"
    },
    "scrolled": true
   },
   "outputs": [
    {
     "data": {
      "text/plain": [
       "True"
      ]
     },
     "execution_count": 75,
     "metadata": {},
     "output_type": "execute_result"
    }
   ],
   "source": [
    "verify_one_match(matching_noBlack_noHispan)"
   ]
  },
  {
   "cell_type": "markdown",
   "metadata": {},
   "source": [
    "The above test are as in the previous question done to verify that the match works as expected. The results suggest that indeed it works."
   ]
  },
  {
   "cell_type": "markdown",
   "metadata": {},
   "source": [
    "#### First, we will look at the black person :"
   ]
  },
  {
   "cell_type": "code",
   "execution_count": 76,
   "metadata": {
    "ExecuteTime": {
     "end_time": "2017-11-22T12:24:27.936020Z",
     "start_time": "2017-11-22T12:24:27.926036Z"
    }
   },
   "outputs": [
    {
     "data": {
      "text/plain": [
       "count       87.000000\n",
       "mean      4853.431497\n",
       "std       6201.725283\n",
       "min          0.000000\n",
       "25%          0.000000\n",
       "50%       1613.677000\n",
       "75%       8044.004500\n",
       "max      20243.380000\n",
       "Name: re78, dtype: float64"
      ]
     },
     "execution_count": 76,
     "metadata": {},
     "output_type": "execute_result"
    }
   ],
   "source": [
    "patients_black_not_treated['re78'].describe()"
   ]
  },
  {
   "cell_type": "code",
   "execution_count": 77,
   "metadata": {
    "ExecuteTime": {
     "end_time": "2017-11-22T12:24:27.954016Z",
     "start_time": "2017-11-22T12:24:27.938553Z"
    }
   },
   "outputs": [
    {
     "data": {
      "text/plain": [
       "count       87.000000\n",
       "mean      6112.126609\n",
       "std       7527.871192\n",
       "min          0.000000\n",
       "25%          0.000000\n",
       "50%       3786.628000\n",
       "75%       9464.769000\n",
       "max      36646.950000\n",
       "Name: re78, dtype: float64"
      ]
     },
     "execution_count": 77,
     "metadata": {},
     "output_type": "execute_result"
    }
   ],
   "source": [
    "patients_black_treated_matched = patients_black_treated.loc[np.array(matching_black)[:,1]]\n",
    "patients_black_treated_matched['re78'].describe()"
   ]
  },
  {
   "cell_type": "code",
   "execution_count": 78,
   "metadata": {
    "ExecuteTime": {
     "end_time": "2017-11-22T12:24:28.170430Z",
     "start_time": "2017-11-22T12:24:27.957540Z"
    }
   },
   "outputs": [
    {
     "data": {
      "image/png": "[encoded data removed]",
      "text/plain": [
       "<matplotlib.figure.Figure at 0x1141c9c18>"
      ]
     },
     "metadata": {},
     "output_type": "display_data"
    }
   ],
   "source": [
    "make_boxplot(patients_black_treated_matched, patients_black_not_treated, 're78', ['black_treated', 'black_not_treated'], ['steelblue', '#5EDF63'])"
   ]
  },
  {
   "cell_type": "markdown",
   "metadata": {},
   "source": [
    "The above results suggest that for the blacks the treatment works although only slitely. In addition the small number of sample in this category means that we shouldn't make absolute conclusions. "
   ]
  },
  {
   "cell_type": "code",
   "execution_count": 79,
   "metadata": {
    "ExecuteTime": {
     "end_time": "2017-11-22T12:24:28.517772Z",
     "start_time": "2017-11-22T12:24:28.172623Z"
    },
    "scrolled": true
   },
   "outputs": [
    {
     "data": {
      "image/png": "[encoded data removed]",
      "text/plain": [
       "<matplotlib.figure.Figure at 0x1139db2b0>"
      ]
     },
     "metadata": {},
     "output_type": "display_data"
    }
   ],
   "source": [
    "shared_plot_by('age', 'hist', patients_black_treated_matched, patients_black_not_treated)"
   ]
  },
  {
   "cell_type": "code",
   "execution_count": 80,
   "metadata": {
    "ExecuteTime": {
     "end_time": "2017-11-22T12:24:28.820157Z",
     "start_time": "2017-11-22T12:24:28.519579Z"
    },
    "scrolled": true
   },
   "outputs": [
    {
     "data": {
      "image/png": "[encoded data removed]",
      "text/plain": [
       "<matplotlib.figure.Figure at 0x113c52748>"
      ]
     },
     "metadata": {},
     "output_type": "display_data"
    }
   ],
   "source": [
    "shared_plot_by('educ', 'hist', patients_black_treated_matched, patients_black_not_treated)"
   ]
  },
  {
   "cell_type": "markdown",
   "metadata": {},
   "source": [
    "The two sets of plots above show that the distribution between treated and untreated are fairly similar, namely we have less difference in comparison with the plots done in 1.4. However as stated before the small number of samples should be considered before making conclusions"
   ]
  },
  {
   "cell_type": "markdown",
   "metadata": {},
   "source": [
    "#### Secondly, we will look at the hispanic person :"
   ]
  },
  {
   "cell_type": "code",
   "execution_count": 81,
   "metadata": {
    "ExecuteTime": {
     "end_time": "2017-11-22T12:24:28.828390Z",
     "start_time": "2017-11-22T12:24:28.822099Z"
    }
   },
   "outputs": [
    {
     "data": {
      "text/plain": [
       "count       11.000000\n",
       "mean      7122.515564\n",
       "std       7320.482894\n",
       "min        559.443200\n",
       "25%       3191.927000\n",
       "50%       5112.014000\n",
       "75%       8440.646500\n",
       "max      26817.600000\n",
       "Name: re78, dtype: float64"
      ]
     },
     "execution_count": 81,
     "metadata": {},
     "output_type": "execute_result"
    }
   ],
   "source": [
    "patients_hispan_treated['re78'].describe()"
   ]
  },
  {
   "cell_type": "code",
   "execution_count": 82,
   "metadata": {
    "ExecuteTime": {
     "end_time": "2017-11-22T12:24:28.839296Z",
     "start_time": "2017-11-22T12:24:28.829888Z"
    }
   },
   "outputs": [
    {
     "data": {
      "text/plain": [
       "count       11.000000\n",
       "mean      7333.688155\n",
       "std       7106.273863\n",
       "min          0.000000\n",
       "25%       1136.371850\n",
       "50%       5661.171000\n",
       "75%      11820.333500\n",
       "max      18891.260000\n",
       "Name: re78, dtype: float64"
      ]
     },
     "execution_count": 82,
     "metadata": {},
     "output_type": "execute_result"
    }
   ],
   "source": [
    "patients_hispan_not_treated_matched = patients_hispan_not_treated.loc[np.array(matching_hispan)[:,1]]\n",
    "patients_hispan_not_treated_matched['re78'].describe()"
   ]
  },
  {
   "cell_type": "code",
   "execution_count": 83,
   "metadata": {
    "ExecuteTime": {
     "end_time": "2017-11-22T12:24:28.992097Z",
     "start_time": "2017-11-22T12:24:28.840994Z"
    },
    "scrolled": true
   },
   "outputs": [
    {
     "data": {
      "image/png": "[encoded data removed]",
      "text/plain": [
       "<matplotlib.figure.Figure at 0x1139a4cc0>"
      ]
     },
     "metadata": {},
     "output_type": "display_data"
    }
   ],
   "source": [
    "make_boxplot(patients_hispan_treated, patients_hispan_not_treated_matched, 're78', ['hispan_treated', 'hispan_not_treated'], ['steelblue', '#5EDF63'])"
   ]
  },
  {
   "cell_type": "markdown",
   "metadata": {},
   "source": [
    "The above results and plot show that the treatment doesn't work for the sampled hispanic group. We however have a really small set of sample and we therefore can't make a conclusion."
   ]
  },
  {
   "cell_type": "code",
   "execution_count": 84,
   "metadata": {
    "ExecuteTime": {
     "end_time": "2017-11-22T12:24:29.393541Z",
     "start_time": "2017-11-22T12:24:28.993997Z"
    }
   },
   "outputs": [
    {
     "data": {
      "image/png": "[encoded data removed]",
      "text/plain": [
       "<matplotlib.figure.Figure at 0x1139db0b8>"
      ]
     },
     "metadata": {},
     "output_type": "display_data"
    }
   ],
   "source": [
    "shared_plot_by('age', 'hist', patients_hispan_treated, patients_hispan_not_treated_matched)"
   ]
  },
  {
   "cell_type": "code",
   "execution_count": 85,
   "metadata": {
    "ExecuteTime": {
     "end_time": "2017-11-22T12:24:29.738618Z",
     "start_time": "2017-11-22T12:24:29.395449Z"
    },
    "scrolled": true
   },
   "outputs": [
    {
     "data": {
      "image/png": "[encoded data removed]",
      "text/plain": [
       "<matplotlib.figure.Figure at 0x113fd6a90>"
      ]
     },
     "metadata": {},
     "output_type": "display_data"
    }
   ],
   "source": [
    "shared_plot_by('educ', 'hist', patients_hispan_treated, patients_hispan_not_treated_matched)"
   ]
  },
  {
   "cell_type": "markdown",
   "metadata": {},
   "source": [
    "The disparity in the distribution of the graph before add to the previous argument, the small number of sampled individuals means that we can't conclude anything of the efficiency of the treatment."
   ]
  },
  {
   "cell_type": "markdown",
   "metadata": {},
   "source": [
    "#### Finally, we will look at the person who are not black or hispanic :"
   ]
  },
  {
   "cell_type": "code",
   "execution_count": 86,
   "metadata": {
    "ExecuteTime": {
     "end_time": "2017-11-22T12:24:29.748183Z",
     "start_time": "2017-11-22T12:24:29.740609Z"
    }
   },
   "outputs": [
    {
     "data": {
      "text/plain": [
       "count       18.000000\n",
       "mean      7720.992278\n",
       "std       5564.944194\n",
       "min          0.000000\n",
       "25%       4254.658000\n",
       "50%       5998.226500\n",
       "75%      12582.537500\n",
       "max      18783.350000\n",
       "Name: re78, dtype: float64"
      ]
     },
     "execution_count": 86,
     "metadata": {},
     "output_type": "execute_result"
    }
   ],
   "source": [
    "patients_noBlack_noHispan_treated['re78'].describe()"
   ]
  },
  {
   "cell_type": "code",
   "execution_count": 87,
   "metadata": {
    "ExecuteTime": {
     "end_time": "2017-11-22T12:24:29.758749Z",
     "start_time": "2017-11-22T12:24:29.749892Z"
    }
   },
   "outputs": [
    {
     "data": {
      "text/plain": [
       "count       18.000000\n",
       "mean      6454.791667\n",
       "std       6844.735381\n",
       "min          0.000000\n",
       "25%        429.279500\n",
       "50%       4534.404000\n",
       "75%       8498.035750\n",
       "max      23764.800000\n",
       "Name: re78, dtype: float64"
      ]
     },
     "execution_count": 87,
     "metadata": {},
     "output_type": "execute_result"
    }
   ],
   "source": [
    "patients_noBlack_noHispan_not_treated_matched = patients_noBlack_noHispan_not_treated.loc[np.array(matching_noBlack_noHispan)[:,1]]\n",
    "patients_noBlack_noHispan_not_treated_matched['re78'].describe()"
   ]
  },
  {
   "cell_type": "code",
   "execution_count": 88,
   "metadata": {
    "ExecuteTime": {
     "end_time": "2017-11-22T12:24:29.908327Z",
     "start_time": "2017-11-22T12:24:29.760714Z"
    },
    "scrolled": true
   },
   "outputs": [
    {
     "data": {
      "image/png": "[encoded data removed]",
      "text/plain": [
       "<matplotlib.figure.Figure at 0x1141b3cf8>"
      ]
     },
     "metadata": {},
     "output_type": "display_data"
    }
   ],
   "source": [
    "make_boxplot(patients_noBlack_noHispan_treated, patients_noBlack_noHispan_not_treated_matched, 're78', ['noBlack_noHispan_treated', 'noBlack_noHispan_not_treated'], ['steelblue', '#5EDF63'])"
   ]
  },
  {
   "cell_type": "markdown",
   "metadata": {},
   "source": [
    "The above result also suggests the treatment, also again as with the hispanic case, the small number of treated individual in comparison to the non-treated one makes it difficult to arrive to reliable conclusion. "
   ]
  },
  {
   "cell_type": "code",
   "execution_count": 89,
   "metadata": {
    "ExecuteTime": {
     "end_time": "2017-11-22T12:24:30.251061Z",
     "start_time": "2017-11-22T12:24:29.910005Z"
    }
   },
   "outputs": [
    {
     "data": {
      "image/png": "[encoded data removed]",
      "text/plain": [
       "<matplotlib.figure.Figure at 0x114033780>"
      ]
     },
     "metadata": {},
     "output_type": "display_data"
    }
   ],
   "source": [
    "shared_plot_by('age', 'hist', patients_noBlack_noHispan_treated, patients_noBlack_noHispan_not_treated_matched)"
   ]
  },
  {
   "cell_type": "code",
   "execution_count": 90,
   "metadata": {
    "ExecuteTime": {
     "end_time": "2017-11-22T12:24:30.523532Z",
     "start_time": "2017-11-22T12:24:30.252911Z"
    },
    "scrolled": true
   },
   "outputs": [
    {
     "data": {
      "image/png": "[encoded data removed]",
      "text/plain": [
       "<matplotlib.figure.Figure at 0x113fe4358>"
      ]
     },
     "metadata": {},
     "output_type": "display_data"
    }
   ],
   "source": [
    "shared_plot_by('educ', 'hist', patients_noBlack_noHispan_treated, patients_noBlack_noHispan_not_treated_matched)"
   ]
  },
  {
   "cell_type": "markdown",
   "metadata": {},
   "source": [
    "As express before the small numbers of treated individuals explain the disparity in the distribution. We shouldn't make conclusion base on such little information. "
   ]
  },
  {
   "cell_type": "markdown",
   "metadata": {},
   "source": [
    "### 6. A less naive analysis"
   ]
  },
  {
   "cell_type": "markdown",
   "metadata": {},
   "source": [
    "In the following cells we will compare our initial analysis (the most naive one) and the final one (the most precise one). We have created, with the method below, boxplots figures which compared on the left the naive analysis and on the right the precise one."
   ]
  },
  {
   "cell_type": "code",
   "execution_count": 91,
   "metadata": {
    "ExecuteTime": {
     "end_time": "2017-11-22T12:24:30.575290Z",
     "start_time": "2017-11-22T12:24:30.525457Z"
    },
    "scrolled": true
   },
   "outputs": [],
   "source": [
    "def median(bp):\n",
    "    for m in bp['medians']:\n",
    "        m.set(color='red', linewidth=2)\n",
    "\n",
    "def box(bp, fill_colors):\n",
    "    for idx, b in enumerate(bp['boxes']):\n",
    "        b.set(facecolor = fill_colors[idx])\n",
    "\n",
    "def make_boxplot_shared(df1, df2, df3, df4, column, labels1, labels2,  fill_colors, title1, title2):\n",
    "    serie1 = get_column_serie(df1, column)\n",
    "    serie2 = get_column_serie(df2, column)\n",
    "    serie3 = get_column_serie(df3, column)\n",
    "    serie4 = get_column_serie(df4, column)\n",
    "    data1 = [serie1, serie2]\n",
    "    data2 = [serie3, serie4]\n",
    "    fig, ax = plt.subplots(ncols = 2, figsize=(12,5), sharey=True)\n",
    "    \n",
    "    ax0 = ax[0]\n",
    "    ax1 = ax[1]\n",
    "    \n",
    "    bp1 = ax0.boxplot(data1, patch_artist = True)\n",
    "    bp2 = ax1.boxplot(data2, patch_artist = True)\n",
    "    for elem in ['boxes', 'caps']:\n",
    "        plt.setp(bp1[elem], color='black')\n",
    "        plt.setp(bp2[elem], color='black')\n",
    "        \n",
    "    median(bp1)\n",
    "    median(bp2)\n",
    "    box(bp1, fill_colors)\n",
    "    box(bp2, fill_colors)\n",
    "    \n",
    "    ax0.set_xticklabels(labels1)\n",
    "    ax1.set_xticklabels(labels2)\n",
    "    ax0.set_title(title1)\n",
    "    ax1.set_title(title2)"
   ]
  },
  {
   "cell_type": "code",
   "execution_count": 92,
   "metadata": {
    "ExecuteTime": {
     "end_time": "2017-11-22T12:24:30.833905Z",
     "start_time": "2017-11-22T12:24:30.577085Z"
    },
    "scrolled": true
   },
   "outputs": [
    {
     "data": {
      "image/png": "[encoded data removed]",
      "text/plain": [
       "<matplotlib.figure.Figure at 0x113b94c50>"
      ]
     },
     "metadata": {},
     "output_type": "display_data"
    }
   ],
   "source": [
    "make_boxplot_shared(treated_df, ntreated_df,new_patients_not_treated_matched,new_patients_treated_matched, 're78', ['treated', 'not_treated'],[\"treated_matched\", \"not_treated_matched\"], ['steelblue', '#5EDF63'], \"Naive Approach\", \"Better Approach\")"
   ]
  },
  {
   "cell_type": "markdown",
   "metadata": {},
   "source": [
    "This one is the un-separted race analysis. We shall first remark that the scale of two box plot are different. <br>\n",
    "Secondly, even with score and matching the results of our initial analysis remain the same: the treatment doesn't look to make any difference on the salary."
   ]
  },
  {
   "cell_type": "markdown",
   "metadata": {
    "ExecuteTime": {
     "end_time": "2017-11-22T12:21:21.122787Z",
     "start_time": "2017-11-22T12:21:21.118882Z"
    }
   },
   "source": [
    "** The analysis on the race group is more interesting, although the small number of individuals should be considered when making a conclusion. ** "
   ]
  },
  {
   "cell_type": "code",
   "execution_count": 93,
   "metadata": {
    "ExecuteTime": {
     "end_time": "2017-11-22T12:24:31.235863Z",
     "start_time": "2017-11-22T12:24:30.837143Z"
    },
    "scrolled": false
   },
   "outputs": [
    {
     "data": {
      "image/png": "[encoded data removed]",
      "text/plain": [
       "<matplotlib.figure.Figure at 0x1140312b0>"
      ]
     },
     "metadata": {},
     "output_type": "display_data"
    }
   ],
   "source": [
    "make_boxplot_shared(treated_df, ntreated_df,patients_black_treated_matched,patients_black_not_treated, 're78', ['treated', 'not_treated'],[\"black_treated_matched\", \"black_not_treated_matched\"] ,['steelblue', '#5EDF63'], \"Naive Approach\", \"Better Approach\")"
   ]
  },
  {
   "cell_type": "markdown",
   "metadata": {
    "ExecuteTime": {
     "end_time": "2017-11-22T12:17:05.640151Z",
     "start_time": "2017-11-22T12:17:05.635942Z"
    }
   },
   "source": [
    "We see that the treatment seem to provide a higher salary for black people, suggesting that indeed it works although due to the limited data we cannot conclude such thing. "
   ]
  },
  {
   "cell_type": "code",
   "execution_count": 94,
   "metadata": {
    "ExecuteTime": {
     "end_time": "2017-11-22T12:24:31.735216Z",
     "start_time": "2017-11-22T12:24:31.238280Z"
    },
    "scrolled": true
   },
   "outputs": [
    {
     "data": {
      "image/png": "[encoded data removed]",
      "text/plain": [
       "<matplotlib.figure.Figure at 0x1139224a8>"
      ]
     },
     "metadata": {},
     "output_type": "display_data"
    }
   ],
   "source": [
    "make_boxplot_shared(treated_df, ntreated_df,patients_hispan_treated,patients_hispan_not_treated_matched, 're78', ['treated', 'not_treated'],[\"hispan_treated_matched\", \"hispan_not_treated_matched\"], ['steelblue', '#5EDF63'], \"Naive Approach\", \"Better Approach\")"
   ]
  },
  {
   "cell_type": "markdown",
   "metadata": {},
   "source": [
    "The analysis of the hispanic seems to suggest that the treatment doesn't work. Again we shouldn't make conclusion looking at the poor data we have for such group."
   ]
  },
  {
   "cell_type": "code",
   "execution_count": 95,
   "metadata": {
    "ExecuteTime": {
     "end_time": "2017-11-22T12:24:32.129533Z",
     "start_time": "2017-11-22T12:24:31.736757Z"
    },
    "scrolled": true
   },
   "outputs": [
    {
     "data": {
      "image/png": "[encoded data removed]",
      "text/plain": [
       "<matplotlib.figure.Figure at 0x1146a00b8>"
      ]
     },
     "metadata": {},
     "output_type": "display_data"
    }
   ],
   "source": [
    "make_boxplot_shared(treated_df, ntreated_df,patients_noBlack_noHispan_treated,patients_noBlack_noHispan_not_treated_matched, 're78', ['treated', 'not_treated'], [\"noBlack_noHispan_treated\", \"noBlack_noHispan_not_treated\"],['steelblue', '#5EDF63'], \"Naive Approach\", \"Better Approach\")"
   ]
  },
  {
   "cell_type": "markdown",
   "metadata": {},
   "source": [
    "The non \"raced\" individuals seem to have a benefit in taking the treatment. Although as with the previous group the limited number of treated person makes it hard to conclude on the efficiency of such training."
   ]
  },
  {
   "cell_type": "markdown",
   "metadata": {},
   "source": [
    "**Additional comments on the analysis: ** <br>\n",
    "We can see that our second approach gives us a better distribution of results despite the fact that we only have a few individuals per \"categories\".\n",
    "\n",
    "In conclusion, we cannot make a certain argumentation of the effectiveness of the treatment.<br> \n",
    "We can however see that the assignment of the treatment wasn't random, distorting the final results."
   ]
  },
  {
   "cell_type": "markdown",
   "metadata": {},
   "source": [
    "### Task 2.1"
   ]
  },
  {
   "cell_type": "markdown",
   "metadata": {},
   "source": [
    "#### Description\n",
    "Load the 20newsgroup dataset. It is, again, a classic dataset that can directly be loaded using sklearn ([link](http://scikit-learn.org/stable/datasets/twenty_newsgroups.html)).  \n",
    "[TF-IDF](https://en.wikipedia.org/wiki/Tf%E2%80%93idf), short for term frequency–inverse document frequency, is of great help when if comes to compute textual features. Indeed, it gives more importance to terms that are more specific to the considered articles (TF) but reduces the importance of terms that are very frequent in the entire corpus (IDF). Compute TF-IDF features for every article using [TfidfVectorizer](http://scikit-learn.org/stable/modules/generated/sklearn.feature_extraction.text.TfidfVectorizer.html). Then, split your dataset into a training, a testing and a validation set (10% for validation and 10% for testing). Each observation should be paired with its corresponding label (the article category)."
   ]
  },
  {
   "cell_type": "markdown",
   "metadata": {},
   "source": [
    "#### Solution\n",
    "We start by loading the dataset"
   ]
  },
  {
   "cell_type": "code",
   "execution_count": 96,
   "metadata": {
    "ExecuteTime": {
     "end_time": "2017-11-22T12:24:33.656035Z",
     "start_time": "2017-11-22T12:24:32.133530Z"
    }
   },
   "outputs": [],
   "source": [
    "from sklearn.datasets import fetch_20newsgroups\n",
    "# Retrieve data\n",
    "news_data = fetch_20newsgroups(remove=('headers', 'footers', 'quotes'))"
   ]
  },
  {
   "cell_type": "code",
   "execution_count": 97,
   "metadata": {
    "ExecuteTime": {
     "end_time": "2017-11-22T12:24:33.667812Z",
     "start_time": "2017-11-22T12:24:33.658005Z"
    }
   },
   "outputs": [
    {
     "data": {
      "text/plain": [
       "'I was wondering if anyone out there could enlighten me on this car I saw\\nthe other day. It was a 2-door sports car, looked to be from the late 60s/\\nearly 70s. It was called a Bricklin. The doors were really small. In addition,\\nthe front bumper was separate from the rest of the body. This is \\nall I know. If anyone can tellme a model name, engine specs, years\\nof production, where this car is made, history, or whatever info you\\nhave on this funky looking car, please e-mail.'"
      ]
     },
     "execution_count": 97,
     "metadata": {},
     "output_type": "execute_result"
    }
   ],
   "source": [
    "# See what an element looks like\n",
    "news_data['data'][0]"
   ]
  },
  {
   "cell_type": "code",
   "execution_count": 98,
   "metadata": {
    "ExecuteTime": {
     "end_time": "2017-11-22T12:24:36.388788Z",
     "start_time": "2017-11-22T12:24:33.671285Z"
    }
   },
   "outputs": [],
   "source": [
    "from sklearn.feature_extraction.text import TfidfVectorizer\n",
    "vectorizer = TfidfVectorizer(sublinear_tf=True, max_df=0.5,\n",
    "                                 stop_words='english')\n",
    "vectors = vectorizer.fit_transform(news_data.data)"
   ]
  },
  {
   "cell_type": "markdown",
   "metadata": {},
   "source": [
    "Now we can get the idf by calling vectorizer attribute idf_"
   ]
  },
  {
   "cell_type": "code",
   "execution_count": 99,
   "metadata": {
    "ExecuteTime": {
     "end_time": "2017-11-22T12:24:36.394734Z",
     "start_time": "2017-11-22T12:24:36.390920Z"
    }
   },
   "outputs": [
    {
     "data": {
      "text/plain": [
       "<11314x101322 sparse matrix of type '<class 'numpy.float64'>'\n",
       "\twith 755809 stored elements in Compressed Sparse Row format>"
      ]
     },
     "execution_count": 99,
     "metadata": {},
     "output_type": "execute_result"
    }
   ],
   "source": [
    "vectors"
   ]
  },
  {
   "cell_type": "markdown",
   "metadata": {},
   "source": [
    "We can also see the details by calling \"vectorizer.vocabulary_\" but there is a loss of values"
   ]
  },
  {
   "cell_type": "code",
   "execution_count": 100,
   "metadata": {
    "ExecuteTime": {
     "end_time": "2017-11-22T12:24:36.402684Z",
     "start_time": "2017-11-22T12:24:36.396432Z"
    }
   },
   "outputs": [
    {
     "data": {
      "text/plain": [
       "array([7, 4, 4, ..., 3, 1, 8])"
      ]
     },
     "execution_count": 100,
     "metadata": {},
     "output_type": "execute_result"
    }
   ],
   "source": [
    "news_data.target"
   ]
  },
  {
   "cell_type": "code",
   "execution_count": 101,
   "metadata": {
    "ExecuteTime": {
     "end_time": "2017-11-22T12:24:39.079452Z",
     "start_time": "2017-11-22T12:24:36.404588Z"
    }
   },
   "outputs": [],
   "source": [
    "vectorizer = TfidfVectorizer(sublinear_tf=True, max_df=0.5,stop_words='english')\n",
    "data_vec = vectorizer.fit_transform(news_data.data)"
   ]
  },
  {
   "cell_type": "code",
   "execution_count": 102,
   "metadata": {
    "ExecuteTime": {
     "end_time": "2017-11-22T12:24:39.103632Z",
     "start_time": "2017-11-22T12:24:39.081584Z"
    }
   },
   "outputs": [
    {
     "data": {
      "text/plain": [
       "(9051,)"
      ]
     },
     "execution_count": 102,
     "metadata": {},
     "output_type": "execute_result"
    }
   ],
   "source": [
    "from sklearn.model_selection import train_test_split\n",
    "# Split the data to have 80% train, 20% test and val\n",
    "x_train, x_test_val, y_train, y_test_val = train_test_split(data_vec, news_data.target, test_size = 0.2)\n",
    "# Split test and val to have 10% each\n",
    "x_test, x_val, y_test, y_val = train_test_split(x_test_val, y_test_val, test_size = 0.5)\n",
    "np.shape(y_train) "
   ]
  },
  {
   "cell_type": "code",
   "execution_count": 103,
   "metadata": {
    "ExecuteTime": {
     "end_time": "2017-11-22T12:24:39.109690Z",
     "start_time": "2017-11-22T12:24:39.105314Z"
    }
   },
   "outputs": [],
   "source": [
    "def mse(pred, target):\n",
    "    e = pred - target\n",
    "    return e@e"
   ]
  },
  {
   "cell_type": "code",
   "execution_count": 104,
   "metadata": {
    "ExecuteTime": {
     "end_time": "2017-11-22T12:24:39.118206Z",
     "start_time": "2017-11-22T12:24:39.112691Z"
    }
   },
   "outputs": [
    {
     "data": {
      "text/plain": [
       "(2263, 101322)"
      ]
     },
     "execution_count": 104,
     "metadata": {},
     "output_type": "execute_result"
    }
   ],
   "source": [
    "np.shape(x_test_val)"
   ]
  },
  {
   "cell_type": "code",
   "execution_count": null,
   "metadata": {
    "ExecuteTime": {
     "start_time": "2017-11-22T12:24:09.309Z"
    }
   },
   "outputs": [
    {
     "data": {
      "text/plain": [
       "(9051, 101322)"
      ]
     },
     "execution_count": 105,
     "metadata": {},
     "output_type": "execute_result"
    }
   ],
   "source": [
    "np.shape(x_train)"
   ]
  },
  {
   "cell_type": "code",
   "execution_count": null,
   "metadata": {
    "ExecuteTime": {
     "start_time": "2017-11-22T12:24:09.310Z"
    }
   },
   "outputs": [],
   "source": [
    "from sklearn.ensemble import RandomForestRegressor\n",
    "\n",
    "n_estim, dep, min_error = 0, 0, 100000\n",
    "\n",
    "for estim in range(1, 10):\n",
    "    for depth in range(1, 8):\n",
    "        regr = RandomForestRegressor(n_estimators=estim, max_depth=depth)\n",
    "        X_train = regr.fit(x_train, y_train)\n",
    "        pred = regr.predict(x_val)\n",
    "        error = mse(pred, y_val)\n",
    "        if(error < min_error):\n",
    "            min_error = error\n",
    "            n_estim = estim\n",
    "            dep = depth"
   ]
  },
  {
   "cell_type": "code",
   "execution_count": null,
   "metadata": {
    "ExecuteTime": {
     "start_time": "2017-11-22T12:24:09.312Z"
    }
   },
   "outputs": [],
   "source": [
    "min_error"
   ]
  },
  {
   "cell_type": "code",
   "execution_count": null,
   "metadata": {
    "ExecuteTime": {
     "start_time": "2017-11-22T12:24:09.313Z"
    }
   },
   "outputs": [],
   "source": [
    "def ratio_prediction(pred, value):\n",
    "    return np.in1d(pred, value).sum()/len(pred)"
   ]
  },
  {
   "cell_type": "code",
   "execution_count": null,
   "metadata": {
    "ExecuteTime": {
     "start_time": "2017-11-22T12:24:09.315Z"
    }
   },
   "outputs": [],
   "source": [
    "ratio_prediction([1,2,3], [0,2,3])"
   ]
  },
  {
   "cell_type": "code",
   "execution_count": null,
   "metadata": {
    "ExecuteTime": {
     "start_time": "2017-11-22T12:24:09.316Z"
    }
   },
   "outputs": [],
   "source": [
    "# Use cross-validated best parameters to predict for test set\n",
    "regr = RandomForestRegressor(n_estimators=n_estim, max_depth=dep)\n",
    "X_train = regr.fit(x_train, y_train)\n",
    "test_pred = np.round_(regr.predict(x_train))\n",
    "ratio_prediction(test_pred, y_test)"
   ]
  },
  {
   "cell_type": "code",
   "execution_count": null,
   "metadata": {},
   "outputs": [],
   "source": []
  }
 ],
 "metadata": {
  "kernelspec": {
   "display_name": "Python 3",
   "language": "python",
   "name": "python3"
  },
  "language_info": {
   "codemirror_mode": {
    "name": "ipython",
    "version": 3
   },
   "file_extension": ".py",
   "mimetype": "text/x-python",
   "name": "python",
   "nbconvert_exporter": "python",
   "pygments_lexer": "ipython3",
   "version": "3.6.3"
  }
 },
 "nbformat": 4,
 "nbformat_minor": 2
}
