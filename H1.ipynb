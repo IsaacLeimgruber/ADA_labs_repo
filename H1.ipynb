{
 "cells": [
  {
   "cell_type": "code",
   "execution_count": 111,
   "metadata": {
    "collapsed": false
   },
   "outputs": [
    {
     "name": "stdout",
     "output_type": "stream",
     "text": [
      "['9', 'None selected', 'None selected', 'Under 15', 'Black', '109', '8323603', '1.3']\n",
      "Deaths 109\n",
      "Population 8323603\n",
      "Rate 1.3\n"
     ]
    }
   ],
   "source": [
    "import csv\n",
    "import numpy as np\n",
    "\n",
    "Intent = 'None selected'\n",
    "Gender = 'None selected'\n",
    "Age = 'Under 15'\n",
    "Race = 'Black'\n",
    "with open('interactive_data.csv') as csvfile:\n",
    "    content = csv.reader(csvfile, delimiter=',')\n",
    "    arr = list(range(len(row)-1))\n",
    "    head = True\n",
    "    for row in content:\n",
    "        if(head == True):\n",
    "            for i in range(0,len(row)-1):\n",
    "                arr[i] = row[i+1]\n",
    "            head = False  \n",
    "        intent = row[1]\n",
    "        gender = row[2]\n",
    "        age = row[3]\n",
    "        race = row[4]\n",
    "        if(Intent == intent and gender == Gender and age==Age and race == Race):\n",
    "            print(row)\n",
    "            print(arr[4], row[5])\n",
    "            print(arr[5], row[6])\n",
    "            print(arr[6], row[7])\n"
   ]
  },
  {
   "cell_type": "code",
   "execution_count": null,
   "metadata": {
    "collapsed": false
   },
   "outputs": [],
   "source": [
    "\n",
    "          \n",
    "        "
   ]
  }
 ],
 "metadata": {
  "kernelspec": {
   "display_name": "Python 3",
   "language": "python",
   "name": "python3"
  },
  "language_info": {
   "codemirror_mode": {
    "name": "ipython",
    "version": 3
   },
   "file_extension": ".py",
   "mimetype": "text/x-python",
   "name": "python",
   "nbconvert_exporter": "python",
   "pygments_lexer": "ipython3",
   "version": "3.6.0"
  }
 },
 "nbformat": 4,
 "nbformat_minor": 2
}
