{
 "cells": [
  {
   "cell_type": "markdown",
   "metadata": {},
   "source": [
    "# Table of Contents\n",
    " <p><div class=\"lev1\"><a href=\"#Task-1.-Compiling-Ebola-Data\"><span class=\"toc-item-num\">Task 1.&nbsp;&nbsp;</span>Compiling Ebola Data</a></div>\n",
    " <div class=\"lev2\"><a href=\"#1.1-Import-Data\"><span class=\"toc-item-num\">1.1 &nbsp;&nbsp;</span>Import Data</a></div>\n",
    " <div class=\"lev2\"><a href=\"#1.2-Indexing-Data\"><span class=\"toc-item-num\">1.2 &nbsp;&nbsp;</span>Indexing Data</a></div>\n",
    " <div class=\"lev2\"><a href=\"#1.3-Data-cleaning\"><span class=\"toc-item-num\">1.3 &nbsp;&nbsp;</span>Data cleaning</a></div>\n",
    " <div class=\"lev2\"><a href=\"#1.4-Calculating-means\"><span class=\"toc-item-num\">1.4 &nbsp;&nbsp;</span>Calculating means</a></div>\n",
    " <div class=\"lev2\"><a href=\"#1.5-Merging\"><span class=\"toc-item-num\">1.5 &nbsp;&nbsp;</span>Merging</a>\n",
    " </p>\n",
    " <p>\n",
    " <div class=\"lev1\"><a href=\"#Task-2.-RNA-Sequences\"><span class=\"toc-item-num\">Task 2.&nbsp;&nbsp;</span>RNA Sequences</a></div>\n",
    " <div class=\"lev1\"><a href=\"#Task-3.-Class-War-in-Titanic\"><span class=\"toc-item-num\">Task 3.&nbsp;&nbsp;</span>Class War in Titanic</a></div>\n",
    " <div class=\"lev2\"><a href=\"#Task-3.1\"><span class=\"toc-item-num\"></span>3.1 Types and Values</a></div>\n",
    " <div class=\"lev2\"><a href=\"#Task-3.2\"><span class=\"toc-item-num\"></span>3.2 Histograms</a></div>\n",
    " <div class=\"lev2\"><a href=\"#Task-3.3\"><span class=\"toc-item-num\"></span>3.3 Cabin Pie Chart</a></div>\n",
    " <div class=\"lev2\"><a href=\"#Task-3.4\"><span class=\"toc-item-num\"></span>3.4 Class survival rate</a></div>\n",
    " <div class=\"lev2\"><a href=\"#Task-3.5\"><span class=\"toc-item-num\"></span>3.5 Survival proportion per class per sex</a></div>\n",
    " <div class=\"lev2\"><a href=\"#Task-3.6\"><span class=\"toc-item-num\"></span>3.5 Survival Data per age category, class and sex</a></div>\n",
    " </p>\n",
    "\n",
    " <div class=\"lev1\"><a href=\"#Table-of-Contents\"><span class=\"toc-item-num\">0.&nbsp;</span>Table of contents</a></div>\n",
    " \n"
   ]
  },
  {
   "cell_type": "code",
   "execution_count": null,
   "metadata": {
    "collapsed": true
   },
   "outputs": [],
   "source": [
    "%matplotlib inline\n",
    "import pandas as pd\n",
    "import numpy as np\n",
    "import matplotlib.pyplot as plt\n",
    "import seaborn as sns\n",
    "sns.set_context('notebook')"
   ]
  },
  {
   "cell_type": "code",
   "execution_count": null,
   "metadata": {
    "collapsed": true
   },
   "outputs": [],
   "source": [
    "from datetime import date,time, datetime\n",
    "import glob, os\n",
    "from dateutil.parser import parse"
   ]
  },
  {
   "cell_type": "code",
   "execution_count": null,
   "metadata": {
    "collapsed": true
   },
   "outputs": [],
   "source": [
    "DATA_FOLDER = 'Data/' # Use the data folder provided in Tutorial 02 - Intro to Pandas."
   ]
  },
  {
   "cell_type": "markdown",
   "metadata": {},
   "source": [
    "## Task 1. Compiling Ebola Data\n",
    "\n",
    "The `DATA_FOLDER/ebola` folder contains summarized reports of Ebola cases from three countries (Guinea, Liberia and Sierra Leone) during the recent outbreak of the disease in West Africa. For each country, there are daily reports that contain various information about the outbreak in several cities in each country.\n",
    "\n",
    "Use pandas to import these data files into a single `Dataframe`.\n",
    "Using this `DataFrame`, calculate for *each country*, the *daily average* per year of *new cases* and *deaths*.\n",
    "Make sure you handle all the different expressions for *new cases* and *deaths* that are used in the reports."
   ]
  },
  {
   "cell_type": "markdown",
   "metadata": {},
   "source": [
    " <div class=\"lev1\"><a href=\"#Table-of-Contents\"><span class=\"toc-item-num\"></span>Table of contents</a></div>"
   ]
  },
  {
   "cell_type": "markdown",
   "metadata": {},
   "source": [
    "For each country:\n",
    "    1. daily average\n",
    "        1.1 new cases\n",
    "            1.1.1 suspected\n",
    "            1.1.2 probable\n",
    "            1.1.3 confirmed \n",
    "        1.2 deaths"
   ]
  },
  {
   "cell_type": "markdown",
   "metadata": {},
   "source": [
    "The idea was to calculate each mean and then sum the new value for each report over roughly a month and divide the result by the day-span between the first and last report. For example if the data begin the 15 June, we takes values until 15 July (roughly one month). \n",
    "However for December in Liberia, we had some problems with data between the beginning and the end of this month (there were less death at the end than at the beginning). Futhermore we have good values from June to November for the Liberia and that's why in the last Dataframe we have only 0 for this month for this country. \n",
    "For the Sierra Leone you can see that we have a \"date_death_mean\" from the previous month. This is because the values for the death are cumulative. So we needed to substract by the mean of the previous month. However the data seems corrupted too because they just change month after month. So if we took a date and exctract a value from a date it will be exactly the same. This is why we took only one day to do our mean of the previous month"
   ]
  },
  {
   "cell_type": "markdown",
   "metadata": {},
   "source": [
    "## 1.1 Import Data\n",
    "We want to import all the files for each country in a single Dataframe. We did this following a stackoverflow thread that allowed us to easily concatenate the files one by one"
   ]
  },
  {
   "cell_type": "markdown",
   "metadata": {},
   "source": [
    " <div class=\"lev1\"><a href=\"#Table-of-Contents\"><span class=\"toc-item-num\"></span>Table of contents</a></div>"
   ]
  },
  {
   "cell_type": "code",
   "execution_count": null,
   "metadata": {
    "collapsed": true
   },
   "outputs": [],
   "source": [
    "EBOLA_FOLDER = DATA_FOLDER + \"ebola/\"\n",
    "GUINEA_FOLDER = EBOLA_FOLDER + \"guinea_data/\"\n",
    "LIBERIA_FOLDER = EBOLA_FOLDER + \"liberia_data/\"\n",
    "SL_FOLDER = EBOLA_FOLDER + \"sl_data/\""
   ]
  },
  {
   "cell_type": "markdown",
   "metadata": {},
   "source": [
    "Solution for following imports found at: https://stackoverflow.com/questions/20906474/import-multiple-csv-files-into-pandas-and-concatenate-into-one-dataframe/21232849"
   ]
  },
  {
   "cell_type": "markdown",
   "metadata": {},
   "source": [
    "### Guinea Import"
   ]
  },
  {
   "cell_type": "code",
   "execution_count": null,
   "metadata": {
    "collapsed": true
   },
   "outputs": [],
   "source": [
    "path = GUINEA_FOLDER\n",
    "all_files = glob.glob(os.path.join(path, \"*.csv\"))\n",
    "\n",
    "df_from_each_file = (pd.read_csv(f) for f in all_files)\n",
    "guinea_data = pd.concat(df_from_each_file, ignore_index=True)"
   ]
  },
  {
   "cell_type": "code",
   "execution_count": null,
   "metadata": {},
   "outputs": [],
   "source": [
    "guinea_data.head(2)"
   ]
  },
  {
   "cell_type": "markdown",
   "metadata": {},
   "source": [
    "### Liberia Import"
   ]
  },
  {
   "cell_type": "code",
   "execution_count": null,
   "metadata": {
    "collapsed": true
   },
   "outputs": [],
   "source": [
    "path = LIBERIA_FOLDER\n",
    "all_files = glob.glob(os.path.join(path, \"*.csv\"))\n",
    "\n",
    "df_from_each_file = (pd.read_csv(f) for f in all_files)\n",
    "liberia_data = pd.concat(df_from_each_file, ignore_index=True)"
   ]
  },
  {
   "cell_type": "code",
   "execution_count": null,
   "metadata": {},
   "outputs": [],
   "source": [
    "liberia_data.head(2)"
   ]
  },
  {
   "cell_type": "markdown",
   "metadata": {},
   "source": [
    "### SL Import"
   ]
  },
  {
   "cell_type": "code",
   "execution_count": null,
   "metadata": {
    "collapsed": true
   },
   "outputs": [],
   "source": [
    "path = SL_FOLDER # use your path\n",
    "all_files = glob.glob(os.path.join(path, \"*.csv\"))     # advisable to use os.path.join as this makes concatenation OS independent\n",
    "\n",
    "df_from_each_file = (pd.read_csv(f) for f in all_files)\n",
    "sl_data = pd.concat(df_from_each_file, ignore_index=True)"
   ]
  },
  {
   "cell_type": "code",
   "execution_count": null,
   "metadata": {},
   "outputs": [],
   "source": [
    "sl_data.head(2)"
   ]
  },
  {
   "cell_type": "markdown",
   "metadata": {},
   "source": [
    "## 1.2 Indexing Data"
   ]
  },
  {
   "cell_type": "markdown",
   "metadata": {},
   "source": [
    " <div class=\"lev1\"><a href=\"#Table-of-Contents\"><span class=\"toc-item-num\"></span>Table of contents</a></div>"
   ]
  },
  {
   "cell_type": "code",
   "execution_count": null,
   "metadata": {},
   "outputs": [],
   "source": [
    "guinea_data_indexed = guinea_data.set_index(['Description', 'Date'])\n",
    "guinea_data_indexed.head(3)"
   ]
  },
  {
   "cell_type": "code",
   "execution_count": null,
   "metadata": {},
   "outputs": [],
   "source": [
    "liberia_data['Date'] = pd.to_datetime(liberia_data['Date'])\n",
    "#liberia_data.Date.apply(lambda d: datetime.strptime(d, '%m/%d/%y'))\n",
    "liberia_data_indexed = liberia_data.set_index(['Variable', 'Date'])\n",
    "liberia_data_indexed.head(3)"
   ]
  },
  {
   "cell_type": "code",
   "execution_count": null,
   "metadata": {
    "scrolled": true
   },
   "outputs": [],
   "source": [
    "sl_data['date'] = pd.to_datetime(sl_data['date'])\n",
    "sl_data_indexed = sl_data.set_index(['variable', 'date'])\n",
    "sl_data_indexed.head(3)"
   ]
  },
  {
   "cell_type": "markdown",
   "metadata": {
    "collapsed": true
   },
   "source": [
    "We observe a lot of NaN values and two duplicated columns in the Sierra Leone Data. This is the next step, cleaning"
   ]
  },
  {
   "cell_type": "markdown",
   "metadata": {},
   "source": [
    "## 1.3 Data cleaning"
   ]
  },
  {
   "cell_type": "markdown",
   "metadata": {},
   "source": [
    " <div class=\"lev1\"><a href=\"#Table-of-Contents\"><span class=\"toc-item-num\"></span>Table of contents</a></div>"
   ]
  },
  {
   "cell_type": "markdown",
   "metadata": {},
   "source": [
    "First idea: it seems to make sense to replace NaN values by 0's. Then we can proceed easily to merging columns"
   ]
  },
  {
   "cell_type": "code",
   "execution_count": null,
   "metadata": {},
   "outputs": [],
   "source": [
    "guinea_data_indexed = guinea_data_indexed.apply(pd.to_numeric, errors = 'coerce')\n",
    "guinea_data_indexed.fillna(0, inplace=True)\n",
    "guinea_data_indexed.head(3)"
   ]
  },
  {
   "cell_type": "code",
   "execution_count": null,
   "metadata": {},
   "outputs": [],
   "source": [
    "liberia_data_indexed = liberia_data_indexed.apply(pd.to_numeric, errors = 'coerce')\n",
    "liberia_data_indexed.fillna(0, inplace=True)\n",
    "liberia_data_indexed.head(3)"
   ]
  },
  {
   "cell_type": "code",
   "execution_count": null,
   "metadata": {},
   "outputs": [],
   "source": [
    "sl_data_indexed = sl_data_indexed.apply(pd.to_numeric, errors = 'coerce')\n",
    "sl_data_indexed.fillna(0, inplace=True)\n",
    "sl_data_indexed.head(3)"
   ]
  },
  {
   "cell_type": "markdown",
   "metadata": {},
   "source": [
    "Now proceed to the merging of duplicated columns"
   ]
  },
  {
   "cell_type": "code",
   "execution_count": null,
   "metadata": {
    "scrolled": true
   },
   "outputs": [],
   "source": [
    "sl_merged = sl_data_indexed.copy()\n",
    "sl_merged['Police training School'] = pd.concat([sl_data_indexed['Police training School'] +\n",
    "                                                       sl_data_indexed['Police traning School']])\n",
    "del sl_merged['Police traning School']\n",
    "sl_merged['Western area'] = pd.concat([sl_data_indexed['Western area'] +\n",
    "                                                       sl_data_indexed['Western area combined']])\n",
    "del sl_merged['Western area combined']\n",
    "sl_merged.head(3)"
   ]
  },
  {
   "cell_type": "markdown",
   "metadata": {},
   "source": [
    "## 1.4 Calculating means"
   ]
  },
  {
   "cell_type": "markdown",
   "metadata": {},
   "source": [
    "### Guinea Means"
   ]
  },
  {
   "cell_type": "markdown",
   "metadata": {},
   "source": [
    " <div class=\"lev1\"><a href=\"#Table-of-Contents\"><span class=\"toc-item-num\"></span>Table of contents</a></div>"
   ]
  },
  {
   "cell_type": "code",
   "execution_count": null,
   "metadata": {},
   "outputs": [],
   "source": [
    "guinea_means = guinea_data_indexed['Totals']\n",
    "guinea_means.head(3)"
   ]
  },
  {
   "cell_type": "code",
   "execution_count": null,
   "metadata": {},
   "outputs": [],
   "source": [
    "guinea_means.sort_index(level=['Description','Date'], ascending=[1, 0], inplace=True)\n",
    "guinea_filtered = guinea_means[['New cases of suspects', 'New cases of probables', 'New cases of confirmed', \n",
    "                               'New deaths registered']]\n",
    "guinea_filtered = pd.DataFrame(guinea_filtered)\n",
    "guinea_filtered.loc['New deaths registered']"
   ]
  },
  {
   "cell_type": "code",
   "execution_count": null,
   "metadata": {
    "scrolled": true
   },
   "outputs": [],
   "source": [
    "guinea_unstacked = guinea_filtered.unstack()\n",
    "guinea_unstacked.index = ['New confirmed', 'New probables', 'New suspects', 'Death registered']\n",
    "guinea_unstacked.fillna(0, inplace = True)\n",
    "guinea_unstacked = guinea_unstacked['Totals']\n",
    "guinea_unstacked"
   ]
  },
  {
   "cell_type": "markdown",
   "metadata": {},
   "source": [
    "#### August Guinea Means"
   ]
  },
  {
   "cell_type": "markdown",
   "metadata": {},
   "source": [
    " <div class=\"lev1\"><a href=\"#Table-of-Contents\"><span class=\"toc-item-num\"></span>Table of contents</a></div>"
   ]
  },
  {
   "cell_type": "code",
   "execution_count": null,
   "metadata": {
    "collapsed": true
   },
   "outputs": [],
   "source": [
    "first_august_gui = '2014-08-04'\n",
    "last_august_gui = '2014-09-04'\n",
    "guinea_start_august = guinea_unstacked[[first_august_gui]]\n",
    "guinea_end_august = guinea_unstacked[[last_august_gui]]"
   ]
  },
  {
   "cell_type": "code",
   "execution_count": null,
   "metadata": {},
   "outputs": [],
   "source": [
    "august_month_gui = guinea_unstacked.loc[:,first_august_gui:last_august_gui] \n",
    "august_start = parse(guinea_start_august.columns[0])\n",
    "august_end = parse(guinea_end_august.columns[0])\n",
    "\n",
    "august_month_gui"
   ]
  },
  {
   "cell_type": "code",
   "execution_count": null,
   "metadata": {
    "collapsed": true
   },
   "outputs": [],
   "source": [
    "august_days = august_end - august_start\n",
    "august_days = august_days.days"
   ]
  },
  {
   "cell_type": "code",
   "execution_count": null,
   "metadata": {
    "scrolled": true
   },
   "outputs": [],
   "source": [
    "guinea_august_means = august_month_gui.sum(axis = 1)/august_days\n",
    "guinea_august_means"
   ]
  },
  {
   "cell_type": "markdown",
   "metadata": {},
   "source": [
    "#### September Guinea Means"
   ]
  },
  {
   "cell_type": "markdown",
   "metadata": {},
   "source": [
    " <div class=\"lev1\"><a href=\"#Table-of-Contents\"><span class=\"toc-item-num\"></span>Table of contents</a></div>"
   ]
  },
  {
   "cell_type": "code",
   "execution_count": null,
   "metadata": {
    "collapsed": true
   },
   "outputs": [],
   "source": [
    "first_sept_gui = '2014-09-02'\n",
    "last_sept_gui = '2014-10-01'\n",
    "guinea_start_sept = guinea_unstacked[[first_sept_gui]]\n",
    "guinea_end_sept = guinea_unstacked[[last_sept_gui]]"
   ]
  },
  {
   "cell_type": "code",
   "execution_count": null,
   "metadata": {},
   "outputs": [],
   "source": [
    "sept_month_gui = guinea_unstacked.loc[:,first_sept_gui:last_sept_gui] \n",
    "sept_start_gui = parse(guinea_start_sept.columns[0])\n",
    "sept_end_gui = parse(guinea_end_sept.columns[0])\n",
    "\n",
    "sept_month_gui"
   ]
  },
  {
   "cell_type": "code",
   "execution_count": null,
   "metadata": {
    "collapsed": true
   },
   "outputs": [],
   "source": [
    "sept_days_gui = sept_end_gui - sept_start_gui\n",
    "sept_days_gui = sept_days_gui.days"
   ]
  },
  {
   "cell_type": "code",
   "execution_count": null,
   "metadata": {},
   "outputs": [],
   "source": [
    "guinea_sept_means = sept_month_gui.sum(axis = 1)/sept_days_gui\n",
    "guinea_sept_means"
   ]
  },
  {
   "cell_type": "markdown",
   "metadata": {},
   "source": [
    "### Liberia Means"
   ]
  },
  {
   "cell_type": "code",
   "execution_count": null,
   "metadata": {
    "scrolled": false
   },
   "outputs": [],
   "source": [
    "liberia_means = liberia_data_indexed['National']\n",
    "#liberia_means = pd.DataFrame(liberia_means)\n",
    "liberia_means.head(2)"
   ]
  },
  {
   "cell_type": "code",
   "execution_count": null,
   "metadata": {},
   "outputs": [],
   "source": [
    "liberia_means.sort_index(level=['Variable', 'Date'], ascending=[1, 1], inplace=True)\n",
    "liberia_filtered = liberia_means[['New Case/s (Suspected)', 'New Case/s (Probable)', 'New case/s (confirmed)', \n",
    "                               'Newly reported deaths']]\n",
    "liberia_filtered.head(3)"
   ]
  },
  {
   "cell_type": "code",
   "execution_count": null,
   "metadata": {
    "collapsed": true
   },
   "outputs": [],
   "source": [
    "liberia_filtered = pd.DataFrame(liberia_filtered)\n",
    "liberia_unstacked = liberia_filtered.unstack()\n",
    "liberia_unstacked.index = ['New probable', 'New suspected', 'New confirmed', 'Death reported']\n",
    "liberia_unstacked = liberia_unstacked['National']\n",
    "liberia_unstacked"
   ]
  },
  {
   "cell_type": "markdown",
   "metadata": {},
   "source": [
    "#### June Liberia Means"
   ]
  },
  {
   "cell_type": "markdown",
   "metadata": {},
   "source": [
    " <div class=\"lev1\"><a href=\"#Table-of-Contents\"><span class=\"toc-item-num\"></span>Table of contents</a></div>"
   ]
  },
  {
   "cell_type": "code",
   "execution_count": null,
   "metadata": {
    "collapsed": true
   },
   "outputs": [],
   "source": [
    "first_june_lib = date(2014, 6, 16)\n",
    "last_june_lib = date(2014, 7, 17)\n",
    "lib_start_june = liberia_unstacked[[first_june_lib]]\n",
    "lib_end_june = liberia_unstacked[[last_june_lib]]"
   ]
  },
  {
   "cell_type": "code",
   "execution_count": null,
   "metadata": {
    "collapsed": true,
    "scrolled": true
   },
   "outputs": [],
   "source": [
    "june_month_lib = liberia_unstacked.loc[:,first_june_lib:last_june_lib] \n",
    "june_start_lib = lib_start_june.columns[0]\n",
    "june_end_lib = lib_end_june.columns[0]\n",
    "\n",
    "june_month_lib"
   ]
  },
  {
   "cell_type": "code",
   "execution_count": null,
   "metadata": {
    "collapsed": true
   },
   "outputs": [],
   "source": [
    "june_days_lib = june_end_lib - june_start_lib\n",
    "june_days_lib = june_days_lib.days"
   ]
  },
  {
   "cell_type": "code",
   "execution_count": null,
   "metadata": {
    "collapsed": true,
    "scrolled": true
   },
   "outputs": [],
   "source": [
    "lib_june_means = june_month_lib.sum(axis = 1)/june_days_lib\n",
    "lib_june_means"
   ]
  },
  {
   "cell_type": "markdown",
   "metadata": {},
   "source": [
    "#### July Liberia Means"
   ]
  },
  {
   "cell_type": "markdown",
   "metadata": {},
   "source": [
    " <div class=\"lev1\"><a href=\"#Table-of-Contents\"><span class=\"toc-item-num\"></span>Table of contents</a></div>"
   ]
  },
  {
   "cell_type": "code",
   "execution_count": null,
   "metadata": {
    "collapsed": true
   },
   "outputs": [],
   "source": [
    "first_date_lib = date(2014, 7, 1)\n",
    "last_date_lib = date(2014, 8, 2)\n",
    "lib_start = liberia_unstacked[[first_date_lib]]\n",
    "lib_end = liberia_unstacked[[last_date_lib]]\n",
    "\n",
    "month_lib = liberia_unstacked.loc[:,first_date_lib:last_date_lib] \n",
    "month_start_lib = lib_start.columns[0]\n",
    "month_end_lib = lib_end.columns[0]\n",
    "\n",
    "days_lib = (month_end_lib - month_start_lib).days\n",
    "\n",
    "lib_july_means = month_lib.sum(axis = 1)/days_lib\n",
    "lib_july_means"
   ]
  },
  {
   "cell_type": "markdown",
   "metadata": {},
   "source": [
    "#### August Liberia Means"
   ]
  },
  {
   "cell_type": "markdown",
   "metadata": {},
   "source": [
    " <div class=\"lev1\"><a href=\"#Table-of-Contents\"><span class=\"toc-item-num\"></span>Table of contents</a></div>"
   ]
  },
  {
   "cell_type": "code",
   "execution_count": null,
   "metadata": {
    "collapsed": true,
    "scrolled": true
   },
   "outputs": [],
   "source": [
    "first_date_lib = date(2014, 8, 2)\n",
    "last_date_lib = date(2014, 9, 2)\n",
    "lib_start = liberia_unstacked[[first_date_lib]]\n",
    "lib_end = liberia_unstacked[[last_date_lib]]\n",
    "\n",
    "month_lib = liberia_unstacked.loc[:,first_date_lib:last_date_lib] \n",
    "month_start_lib = lib_start.columns[0]\n",
    "month_end_lib = lib_end.columns[0]\n",
    "\n",
    "days_lib = (month_end_lib - month_start_lib).days\n",
    "\n",
    "lib_aug_means = month_lib.sum(axis = 1)/days_lib\n",
    "lib_aug_means"
   ]
  },
  {
   "cell_type": "markdown",
   "metadata": {},
   "source": [
    "#### September Liberia Means"
   ]
  },
  {
   "cell_type": "markdown",
   "metadata": {},
   "source": [
    " <div class=\"lev1\"><a href=\"#Table-of-Contents\"><span class=\"toc-item-num\"></span>Table of contents</a></div>"
   ]
  },
  {
   "cell_type": "code",
   "execution_count": null,
   "metadata": {
    "collapsed": true
   },
   "outputs": [],
   "source": [
    "first_date_lib = date(2014, 9, 1)\n",
    "last_date_lib = date(2014, 10, 1)\n",
    "lib_start = liberia_unstacked[[first_date_lib]]\n",
    "lib_end = liberia_unstacked[[last_date_lib]]\n",
    "\n",
    "month_lib = liberia_unstacked.loc[:,first_date_lib:last_date_lib] \n",
    "month_start_lib = lib_start.columns[0]\n",
    "month_end_lib = lib_end.columns[0]\n",
    "\n",
    "days_lib = (month_end_lib - month_start_lib).days\n",
    "\n",
    "lib_sep_means = month_lib.sum(axis = 1)/days_lib\n",
    "lib_sep_means"
   ]
  },
  {
   "cell_type": "markdown",
   "metadata": {},
   "source": [
    "#### October Liberia Means"
   ]
  },
  {
   "cell_type": "markdown",
   "metadata": {},
   "source": [
    " <div class=\"lev1\"><a href=\"#Table-of-Contents\"><span class=\"toc-item-num\"></span>Table of contents</a></div>"
   ]
  },
  {
   "cell_type": "code",
   "execution_count": null,
   "metadata": {
    "collapsed": true
   },
   "outputs": [],
   "source": [
    "first_date_lib = date(2014, 10, 1)\n",
    "last_date_lib = date(2014, 10, 31)\n",
    "lib_start = liberia_unstacked[[first_date_lib]]\n",
    "lib_end = liberia_unstacked[[last_date_lib]]\n",
    "\n",
    "month_lib = liberia_unstacked.loc[:,first_date_lib:last_date_lib] \n",
    "month_start_lib = lib_start.columns[0]\n",
    "month_end_lib = lib_end.columns[0]\n",
    "\n",
    "days_lib = (month_end_lib - month_start_lib).days\n",
    "\n",
    "lib_oct_means = month_lib.sum(axis = 1)/days_lib\n",
    "lib_oct_means"
   ]
  },
  {
   "cell_type": "markdown",
   "metadata": {},
   "source": [
    "#### November Liberia Means"
   ]
  },
  {
   "cell_type": "markdown",
   "metadata": {},
   "source": [
    " <div class=\"lev1\"><a href=\"#Table-of-Contents\"><span class=\"toc-item-num\"></span>Table of contents</a></div>"
   ]
  },
  {
   "cell_type": "code",
   "execution_count": null,
   "metadata": {
    "collapsed": true
   },
   "outputs": [],
   "source": [
    "first_date_lib = date(2014, 11, 2)\n",
    "last_date_lib = date(2014, 12, 2)\n",
    "lib_start = liberia_unstacked[[first_date_lib]]\n",
    "lib_end = liberia_unstacked[[last_date_lib]]\n",
    "\n",
    "month_lib = liberia_unstacked.loc[:,first_date_lib:last_date_lib] \n",
    "month_start_lib = lib_start.columns[0]\n",
    "month_end_lib = lib_end.columns[0]\n",
    "\n",
    "days_lib = (month_end_lib - month_start_lib).days\n",
    "\n",
    "lib_nov_means = month_lib.sum(axis = 1)/days_lib\n",
    "lib_nov_means"
   ]
  },
  {
   "cell_type": "markdown",
   "metadata": {},
   "source": [
    "#### December Liberia Means"
   ]
  },
  {
   "cell_type": "markdown",
   "metadata": {},
   "source": [
    " <div class=\"lev1\"><a href=\"#Table-of-Contents\"><span class=\"toc-item-num\"></span>Table of contents</a></div>"
   ]
  },
  {
   "cell_type": "code",
   "execution_count": null,
   "metadata": {
    "collapsed": true
   },
   "outputs": [],
   "source": [
    "# Less Death values at the beginning than at the end (corrupted data so we didn't take them)"
   ]
  },
  {
   "cell_type": "markdown",
   "metadata": {},
   "source": [
    "### Sierra Leone Means"
   ]
  },
  {
   "cell_type": "markdown",
   "metadata": {},
   "source": [
    " <div class=\"lev1\"><a href=\"#Table-of-Contents\"><span class=\"toc-item-num\"></span>Table of contents</a></div>"
   ]
  },
  {
   "cell_type": "code",
   "execution_count": null,
   "metadata": {
    "collapsed": true
   },
   "outputs": [],
   "source": [
    "sl_means = sl_data_indexed['National']\n",
    "sl_means.head(2)"
   ]
  },
  {
   "cell_type": "code",
   "execution_count": null,
   "metadata": {
    "collapsed": true
   },
   "outputs": [],
   "source": [
    "sl_means.sort_index(level=['variable','date'], ascending=[1, 1], inplace=True)\n",
    "sl_filtered = sl_means[['new_noncase', 'new_suspected', 'new_probable', 'new_confirmed', \n",
    "                               'death_suspected', 'death_probable', 'death_confirmed']]\n",
    "sl_filtered.head()"
   ]
  },
  {
   "cell_type": "code",
   "execution_count": null,
   "metadata": {
    "collapsed": true
   },
   "outputs": [],
   "source": [
    "sl_filtered = pd.DataFrame(sl_filtered)\n",
    "sl_unstacked  = sl_filtered.unstack()"
   ]
  },
  {
   "cell_type": "code",
   "execution_count": null,
   "metadata": {
    "collapsed": true
   },
   "outputs": [],
   "source": [
    "sl_unstacked.reindex(['new_noncase', 'new_suspected', 'new_probable', 'new_confirmed', \n",
    "                               'death_suspected', 'death_probable', 'death_confirmed'])\n",
    "sl_unstacked.index = ['Death confirmed', 'Death probable', 'Death suspected', \n",
    "                      'New confirmed', 'New noncase', 'New probable', 'New suspected'  \n",
    "                     ]\n",
    "sl_unstacked = sl_unstacked['National']\n",
    "sl_unstacked.head(2)"
   ]
  },
  {
   "cell_type": "markdown",
   "metadata": {},
   "source": [
    "#### August Sierra Leone Means"
   ]
  },
  {
   "cell_type": "markdown",
   "metadata": {},
   "source": [
    " <div class=\"lev1\"><a href=\"#Table-of-Contents\"><span class=\"toc-item-num\"></span>Table of contents</a></div>"
   ]
  },
  {
   "cell_type": "code",
   "execution_count": null,
   "metadata": {
    "collapsed": true
   },
   "outputs": [],
   "source": [
    "first_date_sl = date(2014, 8, 12)\n",
    "last_date_sl = date(2014, 8, 31)\n",
    "date_death_mean = date(2014, 8, 12)\n",
    "sl_start = sl_unstacked[[first_date_sl]]\n",
    "sl_end = sl_unstacked[[last_date_sl]]\n",
    "\n",
    "month_sl = sl_unstacked.loc[:,first_date_sl:last_date_sl] \n",
    "month_start_sl = sl_start.columns[0]\n",
    "month_end_sl = sl_end.columns[0]\n",
    "\n",
    "days_sl = (month_end_sl - month_start_sl).days\n",
    "death_c = (month_sl.loc['Death confirmed', last_date_sl] - month_sl.loc['Death confirmed', first_date_sl])/days_sl\n",
    "sl_aug_means = month_sl.sum(axis = 1)/days_sl\n",
    "sl_aug_means['Death confirmed'] = death_c\n",
    "sl_aug_means"
   ]
  },
  {
   "cell_type": "markdown",
   "metadata": {},
   "source": [
    "#### September Sierra Leone Means"
   ]
  },
  {
   "cell_type": "markdown",
   "metadata": {},
   "source": [
    " <div class=\"lev1\"><a href=\"#Table-of-Contents\"><span class=\"toc-item-num\"></span>Table of contents</a></div>"
   ]
  },
  {
   "cell_type": "code",
   "execution_count": null,
   "metadata": {
    "collapsed": true
   },
   "outputs": [],
   "source": [
    "first_date_sl = date(2014, 9, 1)\n",
    "last_date_sl = date(2014, 9, 30)\n",
    "date_death_mean = date(2014, 8, 15)\n",
    "sl_start = sl_unstacked[[first_date_sl]]\n",
    "sl_end = sl_unstacked[[last_date_sl]]\n",
    "\n",
    "month_sl = sl_unstacked.loc[:,first_date_sl:last_date_sl] \n",
    "month_start_sl = sl_start.columns[0]\n",
    "month_end_sl = sl_end.columns[0]\n",
    "\n",
    "days_sl = (month_end_sl - month_start_sl).days\n",
    "death_c = (month_sl.loc['Death confirmed', last_date_sl] - month_sl.loc['Death confirmed', first_date_sl])/days_sl\n",
    "sl_sep_means = month_sl.sum(axis = 1)/days_sl\n",
    "sl_sep_means['Death confirmed'] = death_c\n",
    "sl_sep_means"
   ]
  },
  {
   "cell_type": "markdown",
   "metadata": {},
   "source": [
    "#### October Sierra Leone Means"
   ]
  },
  {
   "cell_type": "markdown",
   "metadata": {},
   "source": [
    " <div class=\"lev1\"><a href=\"#Table-of-Contents\"><span class=\"toc-item-num\"></span>Table of contents</a></div>"
   ]
  },
  {
   "cell_type": "code",
   "execution_count": null,
   "metadata": {
    "collapsed": true
   },
   "outputs": [],
   "source": [
    "first_date_sl = date(2014, 10, 1)\n",
    "last_date_sl = date(2014, 10, 31)\n",
    "date_death_mean = date(2014, 9, 15)\n",
    "sl_start = sl_unstacked[[first_date_sl]]\n",
    "sl_end = sl_unstacked[[last_date_sl]]\n",
    "\n",
    "month_sl = sl_unstacked.loc[:,first_date_sl:last_date_sl] \n",
    "month_start_sl = sl_start.columns[0]\n",
    "month_end_sl = sl_end.columns[0]\n",
    "\n",
    "days_sl = (month_end_sl - month_start_sl).days\n",
    "death_c = (month_sl.loc['Death confirmed', last_date_sl] - month_sl.loc['Death confirmed', first_date_sl])/days_sl\n",
    "sl_oct_means = month_sl.sum(axis = 1)/days_sl\n",
    "sl_oct_means['Death confirmed'] = death_c\n",
    "sl_oct_means['Death probable'] = (sl_oct_means['Death probable'] - sl_unstacked.loc['Death probable', date_death_mean])/days_sl\n",
    "sl_oct_means['Death suspected'] = (sl_oct_means['Death suspected'] - \n",
    "                                   sl_unstacked.loc['Death suspected', date_death_mean])/days_sl\n",
    "sl_oct_means"
   ]
  },
  {
   "cell_type": "markdown",
   "metadata": {},
   "source": [
    "#### November Sierra Leone Means"
   ]
  },
  {
   "cell_type": "markdown",
   "metadata": {},
   "source": [
    " <div class=\"lev1\"><a href=\"#Table-of-Contents\"><span class=\"toc-item-num\"></span>Table of contents</a></div>"
   ]
  },
  {
   "cell_type": "code",
   "execution_count": null,
   "metadata": {
    "collapsed": true
   },
   "outputs": [],
   "source": [
    "first_date_sl = date(2014, 11, 1)\n",
    "last_date_sl = date(2014, 11, 29)\n",
    "date_death_mean = date(2014, 10, 4)\n",
    "sl_start = sl_unstacked[[first_date_sl]]\n",
    "sl_end = sl_unstacked[[last_date_sl]]\n",
    "\n",
    "month_sl = sl_unstacked.loc[:,first_date_sl:last_date_sl] \n",
    "month_start_sl = sl_start.columns[0]\n",
    "month_end_sl = sl_end.columns[0]\n",
    "\n",
    "days_sl = (month_end_sl - month_start_sl).days\n",
    "death_c = (month_sl.loc['Death confirmed', last_date_sl] - month_sl.loc['Death confirmed', first_date_sl])/days_sl\n",
    "sl_nov_means = month_sl.sum(axis = 1)/days_sl\n",
    "sl_nov_means['Death confirmed'] = death_c\n",
    "sl_nov_means['Death probable'] = (sl_nov_means['Death probable'] - sl_unstacked.loc['Death probable', date_death_mean])/days_sl\n",
    "sl_nov_means['Death suspected'] = (sl_nov_means['Death suspected'] - \n",
    "                                   sl_unstacked.loc['Death suspected', date_death_mean])/days_sl\n",
    "sl_nov_means"
   ]
  },
  {
   "cell_type": "markdown",
   "metadata": {},
   "source": [
    "#### December Sierra Leone Means"
   ]
  },
  {
   "cell_type": "markdown",
   "metadata": {},
   "source": [
    " <div class=\"lev1\"><a href=\"#Table-of-Contents\"><span class=\"toc-item-num\"></span>Table of contents</a></div>"
   ]
  },
  {
   "cell_type": "code",
   "execution_count": null,
   "metadata": {
    "collapsed": true
   },
   "outputs": [],
   "source": [
    "first_date_sl = date(2014, 12, 1)\n",
    "last_date_sl = date(2014, 12, 6)\n",
    "date_death_mean = date(2014, 10, 10)\n",
    "sl_start = sl_unstacked[[first_date_sl]]\n",
    "sl_end = sl_unstacked[[last_date_sl]]\n",
    "\n",
    "month_sl = sl_unstacked.loc[:,first_date_sl:last_date_sl] \n",
    "month_start_sl = sl_start.columns[0]\n",
    "month_end_sl = sl_end.columns[0]\n",
    "\n",
    "days_sl = (month_end_sl - month_start_sl).days\n",
    "death_c = (month_sl.loc['Death confirmed', last_date_sl] - month_sl.loc['Death confirmed', first_date_sl])/days_sl\n",
    "sl_dec_means = month_sl.sum(axis = 1)/days_sl\n",
    "sl_dec_means['Death confirmed'] = death_c\n",
    "sl_dec_means['Death probable'] = (sl_dec_means['Death probable'] - sl_unstacked.loc['Death probable', date_death_mean])/days_sl\n",
    "sl_dec_means['Death suspected'] = (sl_dec_means['Death suspected'] - \n",
    "                                   sl_unstacked.loc['Death suspected', date_death_mean])/days_sl\n",
    "sl_dec_means"
   ]
  },
  {
   "cell_type": "markdown",
   "metadata": {},
   "source": [
    "## 1.5 Merging"
   ]
  },
  {
   "cell_type": "markdown",
   "metadata": {},
   "source": [
    " <div class=\"lev1\"><a href=\"#Table-of-Contents\"><span class=\"toc-item-num\"></span>Table of contents</a></div>"
   ]
  },
  {
   "cell_type": "markdown",
   "metadata": {},
   "source": [
    "This par consists of combining the different results in a single Dataframe"
   ]
  },
  {
   "cell_type": "markdown",
   "metadata": {},
   "source": [
    "#### Guinea Merge"
   ]
  },
  {
   "cell_type": "markdown",
   "metadata": {},
   "source": [
    " <div class=\"lev1\"><a href=\"#Table-of-Contents\"><span class=\"toc-item-num\"></span>Table of contents</a></div>"
   ]
  },
  {
   "cell_type": "code",
   "execution_count": null,
   "metadata": {
    "collapsed": true
   },
   "outputs": [],
   "source": [
    "guinea_august_means = pd.DataFrame(guinea_august_means)\n",
    "guinea_august_means.columns = ['Aug']\n",
    "guinea_august_means"
   ]
  },
  {
   "cell_type": "code",
   "execution_count": null,
   "metadata": {
    "collapsed": true
   },
   "outputs": [],
   "source": [
    "guinea_sept_means = pd.DataFrame(guinea_sept_means)\n",
    "guinea_sept_means.columns = ['Sep']\n",
    "guinea_sept_means"
   ]
  },
  {
   "cell_type": "code",
   "execution_count": null,
   "metadata": {
    "collapsed": true
   },
   "outputs": [],
   "source": [
    "guinea_merged = pd.concat([guinea_august_means, guinea_sept_means], axis=1)\n",
    "guinea_merged"
   ]
  },
  {
   "cell_type": "markdown",
   "metadata": {},
   "source": [
    "#### Liberia Merge"
   ]
  },
  {
   "cell_type": "markdown",
   "metadata": {},
   "source": [
    " <div class=\"lev1\"><a href=\"#Table-of-Contents\"><span class=\"toc-item-num\"></span>Table of contents</a></div>"
   ]
  },
  {
   "cell_type": "code",
   "execution_count": null,
   "metadata": {
    "collapsed": true
   },
   "outputs": [],
   "source": [
    "lib_june_means = pd.DataFrame(lib_june_means)\n",
    "lib_june_means.columns = ['Jun']\n",
    "\n",
    "lib_july_means = pd.DataFrame(lib_july_means)\n",
    "lib_july_means.columns = ['Jul']\n",
    "\n",
    "lib_aug_means = pd.DataFrame(lib_aug_means)\n",
    "lib_aug_means.columns = ['Aug']\n",
    "\n",
    "lib_sep_means = pd.DataFrame(lib_sep_means)\n",
    "lib_sep_means.columns = ['Sep']\n",
    "\n",
    "lib_oct_means = pd.DataFrame(lib_oct_means)\n",
    "lib_oct_means.columns = ['Oct']\n",
    "\n",
    "lib_nov_means = pd.DataFrame(lib_nov_means)\n",
    "lib_nov_means.columns = ['Nov']"
   ]
  },
  {
   "cell_type": "code",
   "execution_count": null,
   "metadata": {
    "collapsed": true
   },
   "outputs": [],
   "source": [
    "lib_merged = pd.concat([lib_june_means, lib_july_means, lib_aug_means, lib_sep_means, lib_oct_means, lib_nov_means], axis=1)\n",
    "lib_merged"
   ]
  },
  {
   "cell_type": "markdown",
   "metadata": {},
   "source": [
    "#### Sierra Leone Merge"
   ]
  },
  {
   "cell_type": "markdown",
   "metadata": {},
   "source": [
    " <div class=\"lev1\"><a href=\"#Table-of-Contents\"><span class=\"toc-item-num\"></span>Table of contents</a></div>"
   ]
  },
  {
   "cell_type": "code",
   "execution_count": null,
   "metadata": {
    "collapsed": true
   },
   "outputs": [],
   "source": [
    "sl_aug_means = pd.DataFrame(sl_aug_means)\n",
    "sl_aug_means.columns = ['Aug']\n",
    "\n",
    "sl_sep_means = pd.DataFrame(sl_sep_means)\n",
    "sl_sep_means.columns = ['Sep']\n",
    "\n",
    "sl_oct_means = pd.DataFrame(sl_oct_means)\n",
    "sl_oct_means.columns = ['Oct']\n",
    "\n",
    "sl_nov_means = pd.DataFrame(sl_nov_means)\n",
    "sl_nov_means.columns = ['Nov']\n",
    "\n",
    "sl_dec_means = pd.DataFrame(sl_dec_means)\n",
    "sl_dec_means.columns = ['Dec']"
   ]
  },
  {
   "cell_type": "code",
   "execution_count": null,
   "metadata": {
    "collapsed": true
   },
   "outputs": [],
   "source": [
    "sl_merged = pd.concat([sl_aug_means, sl_sep_means,  sl_oct_means, sl_nov_means, sl_dec_means], axis=1)\n",
    "sl_merged"
   ]
  },
  {
   "cell_type": "markdown",
   "metadata": {},
   "source": [
    "#### Countries Merge"
   ]
  },
  {
   "cell_type": "markdown",
   "metadata": {},
   "source": [
    " <div class=\"lev1\"><a href=\"#Table-of-Contents\"><span class=\"toc-item-num\"></span>Table of contents</a></div>"
   ]
  },
  {
   "cell_type": "code",
   "execution_count": null,
   "metadata": {
    "collapsed": true
   },
   "outputs": [],
   "source": [
    "merged = pd.concat([guinea_merged, lib_merged, sl_merged], keys = ['Guinea', 'Liberia', 'Sierra Leone']).fillna(0).round(1)\n",
    "merged = merged.reindex_axis(['Jun', 'Jul', 'Aug', 'Sep', 'Oct', 'Nov', 'Dec'], axis = 1)\n",
    "merged.index.names = ['Country', None]\n",
    "merged"
   ]
  },
  {
   "cell_type": "markdown",
   "metadata": {},
   "source": [
    "## Task 2. RNA Sequences\n",
    "\n",
    "In the `DATA_FOLDER/microbiome` subdirectory, there are 9 spreadsheets of microbiome data that was acquired from high-throughput RNA sequencing procedures, along with a 10<sup>th</sup> file that describes the content of each. \n",
    "\n",
    "Use pandas to import the first 9 spreadsheets into a single `DataFrame`.\n",
    "Then, add the metadata information from the 10<sup>th</sup> spreadsheet as columns in the combined `DataFrame`.\n",
    "Make sure that the final `DataFrame` has a unique index and all the `NaN` values have been replaced by the tag `unknown`."
   ]
  },
  {
   "cell_type": "markdown",
   "metadata": {},
   "source": [
    " <div class=\"lev1\"><a href=\"#Table-of-Contents\"><span class=\"toc-item-num\"></span>Table of contents</a></div>"
   ]
  },
  {
   "cell_type": "code",
   "execution_count": null,
   "metadata": {
    "collapsed": true,
    "scrolled": false
   },
   "outputs": [],
   "source": [
    "# Write your answer here\n",
    "\n",
    "    \n",
    "path ='Data/microbiome'\n",
    "microbiome = pd.DataFrame()\n",
    "new_index = pd.DataFrame()\n",
    "\n",
    "for idx in range(1,10):\n",
    "    data_mid = pd.read_excel(path + '/MID' + str(idx) + '.xls', 'Sheet 1', index_col=None, header=None)\n",
    "    new_index_temp = ['MID'+ str(idx)]* len(data_mid);\n",
    "    \n",
    "    index_mid = pd.DataFrame({'Index' : new_index_temp}, index = range(0,len(data_mid)));\n",
    "    data_mid = data_mid.join(index_mid)\n",
    "    \n",
    "    microbiome = microbiome.append(data_mid)\n",
    "\n",
    "    \n",
    "microbiome.columns = ['Name','Result', 'Index']\n",
    "microbiome"
   ]
  },
  {
   "cell_type": "code",
   "execution_count": null,
   "metadata": {
    "collapsed": true,
    "scrolled": true
   },
   "outputs": [],
   "source": [
    "metadata = pd.read_excel(path + '/metadata.xls', index_col=None, header=None)\n",
    "metadata.columns = ['Index','Group', 'Sample']\n",
    "\n",
    "\n",
    "microbiome_final = pd.merge(microbiome, metadata,on=('Index'), how='left', indicator=False,)\n",
    "microbiome_final = microbiome_final.set_index(['Index','Name']).fillna('unknown');\n",
    "microbiome_final.head()"
   ]
  },
  {
   "cell_type": "markdown",
   "metadata": {},
   "source": [
    "## Task 3. Class War in Titanic\n",
    "\n",
    "Use pandas to import the data file `Data/titanic.xls`. It contains data on all the passengers that travelled on the Titanic."
   ]
  },
  {
   "cell_type": "markdown",
   "metadata": {},
   "source": [
    " <div class=\"lev1\"><a href=\"#Table-of-Contents\"><span class=\"toc-item-num\"></span>Table of contents</a></div>"
   ]
  },
  {
   "cell_type": "code",
   "execution_count": null,
   "metadata": {
    "collapsed": true
   },
   "outputs": [],
   "source": [
    "from IPython.core.display import HTML\n",
    "HTML(filename=DATA_FOLDER+'/titanic.html');"
   ]
  },
  {
   "cell_type": "code",
   "execution_count": null,
   "metadata": {
    "collapsed": true
   },
   "outputs": [],
   "source": [
    "titanic_data = pd.read_excel('Data/titanic.xls', sheetname='titanic', header=0)\n",
    "titanic_data[['boat']] = titanic_data[['boat']].fillna(-1)\n",
    "titanic_data[['body']] = titanic_data[['body']].fillna(-1)\n",
    "titanic_data.head()"
   ]
  },
  {
   "cell_type": "markdown",
   "metadata": {},
   "source": [
    "For each of the following questions state clearly your assumptions and discuss your findings:\n",
    "1. Describe the *type* and the *value range* of each attribute. Indicate and transform the attributes that can be `Categorical`. \n",
    "2. Plot histograms for the *travel class*, *embarkation port*, *sex* and *age* attributes. For the latter one, use *discrete decade intervals*. \n",
    "3. Calculate the proportion of passengers by *cabin floor*. Present your results in a *pie chart*.\n",
    "4. For each *travel class*, calculate the proportion of the passengers that survived. Present your results in *pie charts*.\n",
    "5. Calculate the proportion of the passengers that survived by *travel class* and *sex*. Present your results in *a single histogram*.\n",
    "6. Create 2 equally populated *age categories* and calculate survival proportions by *age category*, *travel class* and *sex*. Present your results in a `DataFrame` with unique index."
   ]
  },
  {
   "cell_type": "markdown",
   "metadata": {
    "collapsed": true
   },
   "source": [
    "### Task 3.1\n",
    "Describe the type and the value range of each attribute. Indicate and transform the attributes that can be Categorical."
   ]
  },
  {
   "cell_type": "markdown",
   "metadata": {},
   "source": [
    " <div class=\"lev1\"><a href=\"#Table-of-Contents\"><span class=\"toc-item-num\"></span>Table of contents</a></div>"
   ]
  },
  {
   "cell_type": "markdown",
   "metadata": {},
   "source": [
    "Type: value range \n",
    "\n",
    "1. pclass: {1; 2; 3}\n",
    "2. survived: {0; 1}\n",
    "3. name: name\n",
    "4. sex: {male; female}\n",
    "5. age: age\n",
    "6. sibsp: number of siblings/spouse aboard {}\n",
    "7. parch: number of parent/children aboard\n",
    "8. ticket: ticket number\n",
    "9. fare: fare\n",
    "10. cabin: {A,B,C,D,E,F,G,S}\n",
    "11. embarked:{C,S,Q}\n",
    "12. boat: escape boat number range(1,16) + A,B,C,D\n",
    "13. body: corpse number\n",
    "14. home.dest: home and destination"
   ]
  },
  {
   "cell_type": "markdown",
   "metadata": {},
   "source": [
    "Categorisables: pclass, survived, sex, sibsp, parch, fare"
   ]
  },
  {
   "cell_type": "markdown",
   "metadata": {},
   "source": [
    "### Task 3.2\n",
    "Plot histograms for the travel class, embarkation port, sex and age attributes. For the latter one, use discrete decade intervals."
   ]
  },
  {
   "cell_type": "markdown",
   "metadata": {},
   "source": [
    " <div class=\"lev1\"><a href=\"#Table-of-Contents\"><span class=\"toc-item-num\"></span>Table of contents</a></div>"
   ]
  },
  {
   "cell_type": "code",
   "execution_count": null,
   "metadata": {
    "collapsed": true
   },
   "outputs": [],
   "source": [
    "nbr_first_class = len(titanic_data[(titanic_data['pclass']==1)])\n",
    "print(\"Number of first class passagers : \" , nbr_first_class)"
   ]
  },
  {
   "cell_type": "code",
   "execution_count": null,
   "metadata": {
    "collapsed": true
   },
   "outputs": [],
   "source": [
    "nbr_second_class = len(titanic_data[(titanic_data['pclass']==2)])\n",
    "print(\"Number of second class passagers : \",nbr_second_class)"
   ]
  },
  {
   "cell_type": "code",
   "execution_count": null,
   "metadata": {
    "collapsed": true
   },
   "outputs": [],
   "source": [
    "nbr_third_class = len(titanic_data[(titanic_data['pclass']==3)])\n",
    "print(\"Number of third class passagers :\", nbr_third_class)"
   ]
  },
  {
   "cell_type": "code",
   "execution_count": null,
   "metadata": {
    "collapsed": true
   },
   "outputs": [],
   "source": [
    "pclass_frame = pd.DataFrame([nbr_first_class, nbr_second_class, nbr_third_class], index= [1,2,3])\n",
    "pclass_frame.columns = ['people']\n",
    "pclass_frame.plot(kind='bar',title=\"repartition of the passagers among the classes\");"
   ]
  },
  {
   "cell_type": "code",
   "execution_count": null,
   "metadata": {
    "collapsed": true
   },
   "outputs": [],
   "source": [
    "emb_c = len(titanic_data[(titanic_data['embarked']=='C')])\n",
    "emb_q = len(titanic_data[(titanic_data['embarked']=='Q')])\n",
    "emb_s = len(titanic_data[(titanic_data['embarked']=='S')])\n",
    "\n",
    "emb_frame = pd.DataFrame([emb_c, emb_q, emb_s], index= ['Cherbourg', 'Queenstown', 'Southampton'])\n",
    "emb_frame.columns = ['people']\n",
    "emb_frame.plot(kind='bar',title=\"embarkation port\");"
   ]
  },
  {
   "cell_type": "code",
   "execution_count": null,
   "metadata": {
    "collapsed": true
   },
   "outputs": [],
   "source": [
    "sex_m = len(titanic_data[(titanic_data['sex']=='male')])\n",
    "sex_f = len(titanic_data[(titanic_data['sex']=='female')])\n",
    "\n",
    "sex_frame = pd.DataFrame([sex_m, sex_f], index= ['male', 'female'])\n",
    "sex_frame.columns = ['people']\n",
    "sex_frame.plot(kind='bar',title=\"Sex of passagers\");"
   ]
  },
  {
   "cell_type": "code",
   "execution_count": null,
   "metadata": {
    "collapsed": true,
    "scrolled": true
   },
   "outputs": [],
   "source": [
    "titanic_cpy = titanic_data.copy()\n",
    "age_cut = pd.cut(titanic_data['age'], [0,10,20,30,40,50,60,70,80,90,100])\n",
    "ones = pd.DataFrame([1]*len(titanic_cpy))\n",
    "age_cut_ext = pd.concat([titanic_cpy['age'], ones], axis=1)\n",
    "age_indexed = age_cut_ext.set_index(['age'])\n",
    "grouped = age_cut_ext.groupby(pd.cut(age_cut_ext['age'], np.arange(0, 100+10, 10))).sum()\n",
    "grouped = grouped.drop(['age'],axis=1)\n",
    "grouped.columns = ['people']\n",
    "grouped.dropna().plot(kind='bar',title=\"Group age of passagers\");"
   ]
  },
  {
   "cell_type": "markdown",
   "metadata": {},
   "source": [
    "### Task 3.3\n",
    "Calculate the proportion of passengers by cabin floor. Present your results in a pie chart."
   ]
  },
  {
   "cell_type": "markdown",
   "metadata": {},
   "source": [
    " <div class=\"lev1\"><a href=\"#Table-of-Contents\"><span class=\"toc-item-num\"></span>Table of contents</a></div>"
   ]
  },
  {
   "cell_type": "code",
   "execution_count": null,
   "metadata": {
    "collapsed": true
   },
   "outputs": [],
   "source": [
    "titanic_cabin = titanic_data['cabin'].fillna('S')\n",
    "floor_A = len(titanic_cabin[titanic_cabin.str.startswith('A')])\n",
    "floor_B = len(titanic_cabin[titanic_cabin.str.startswith('B')])\n",
    "floor_C = len(titanic_cabin[titanic_cabin.str.startswith('C')])\n",
    "floor_D = len(titanic_cabin[titanic_cabin.str.startswith('D')])\n",
    "floor_E = len(titanic_cabin[titanic_cabin.str.startswith('E')])\n",
    "floor_F = len(titanic_cabin[titanic_cabin.str.startswith('F')])\n",
    "floor_G = len(titanic_cabin[titanic_cabin.str.startswith('G')])\n",
    "floor_S = len(titanic_cabin[titanic_cabin.str.startswith('S')])\n",
    "floor_T = len(titanic_cabin[titanic_cabin.str.startswith('T')])\n",
    "\n",
    "cabin_frame = pd.DataFrame([floor_A, floor_B, floor_C, floor_D, floor_E, floor_F, \n",
    "                          floor_G, floor_S, floor_T], index = ['A', 'B', 'C', 'D', 'E', 'F', 'G', 'S', 'T'])\n",
    "cabin_frame.columns = ['people']\n",
    "cabin_frame.dropna().plot.pie(subplots = True,figsize = (4,4),title=\"Proportion of passengers per rows\");"
   ]
  },
  {
   "cell_type": "markdown",
   "metadata": {},
   "source": [
    "### Task 3.4\n",
    "For each travel class, calculate the proportion of the passengers that survived. Present your results in pie charts."
   ]
  },
  {
   "cell_type": "markdown",
   "metadata": {},
   "source": [
    " <div class=\"lev1\"><a href=\"#Table-of-Contents\"><span class=\"toc-item-num\"></span>Table of contents</a></div>"
   ]
  },
  {
   "cell_type": "code",
   "execution_count": null,
   "metadata": {
    "collapsed": true
   },
   "outputs": [],
   "source": [
    "first_class = titanic_data[(titanic_data['pclass']==1)]\n",
    "second_class = titanic_data[(titanic_data['pclass']==2)]\n",
    "third_class = titanic_data[(titanic_data['pclass']==3)]\n",
    "\n",
    "first_class_surv = len(first_class[(first_class['survived']==1)])\n",
    "second_class_surv = len(second_class[(second_class['survived']==1)])\n",
    "third_class_surv = len(third_class[(third_class['survived']==1)])\n",
    "\n",
    "first_class_dead = nbr_first_class - first_class_surv\n",
    "second_class_dead = nbr_second_class - second_class_surv\n",
    "third_class_dead = nbr_third_class - third_class_surv\n",
    "\n",
    "first_df = pd.DataFrame([first_class_surv, first_class_dead], index = ['survived', 'died'])\n",
    "first_df.columns = [None]\n",
    "first_df.plot.pie(subplots = True, figsize = (4,4),title=\"First class pie chart\")\n",
    "\n",
    "second_df = pd.DataFrame([second_class_surv, second_class_dead], index = ['survied', 'died'])\n",
    "second_df.columns = [None]\n",
    "second_df.plot.pie(subplots = True, figsize = (4,4),title=\"Second class pie chart\")\n",
    "\n",
    "third_df = pd.DataFrame([third_class_surv, third_class_dead], index = ['survied', 'died'])\n",
    "third_df.columns = [None]\n",
    "third_df.plot.pie(subplots = True, figsize = (4,4), title =\"Third class pie chart\");"
   ]
  },
  {
   "cell_type": "markdown",
   "metadata": {},
   "source": [
    "### Task 3.5 \n",
    "Calculate the proportion of the passengers that survived by travel class and sex. Present your results in a single histogram"
   ]
  },
  {
   "cell_type": "markdown",
   "metadata": {},
   "source": [
    " <div class=\"lev1\"><a href=\"#Table-of-Contents\"><span class=\"toc-item-num\"></span>Table of contents</a></div>"
   ]
  },
  {
   "cell_type": "code",
   "execution_count": null,
   "metadata": {
    "collapsed": true
   },
   "outputs": [],
   "source": [
    "first_surv = first_class[(first_class['survived'] == 1)]\n",
    "first_surv_m = len(first_surv[first_surv['sex']=='male'])\n",
    "first_surv_f = len(first_surv[first_surv['sex']=='female'])\n",
    "\n",
    "second_surv = second_class[(second_class['survived'] == 1)]\n",
    "second_surv_m = len(second_surv[second_surv['sex']=='male'])\n",
    "second_surv_f = len(second_surv[second_surv['sex']=='female'])\n",
    "\n",
    "third_surv = third_class[(third_class['survived'] == 1)]\n",
    "third_surv_m = len(third_surv[third_surv['sex']=='male'])\n",
    "third_surv_f = len(third_surv[third_surv['sex']=='female'])\n",
    "\n",
    "class_sex_df = pd.DataFrame([first_surv_m, first_surv_f, second_surv_m, second_surv_f, third_surv_m, third_surv_f], \n",
    "                           index = ['male_1st', 'female_1st', 'male_2nd', 'female_2nd', 'male_3rd', 'female_3rd'])\n",
    "class_sex_df.columns = [None]\n",
    "class_sex_df.plot.pie(subplots = True, figsize = (4,4))\n",
    "class_sex_df.plot(kind='bar');"
   ]
  },
  {
   "cell_type": "markdown",
   "metadata": {},
   "source": [
    "### Task 3.6\n",
    "Create 2 equally populated age categories and calculate survival proportions by age category, travel class and sex. Present your results in a DataFrame with unique index."
   ]
  },
  {
   "cell_type": "markdown",
   "metadata": {},
   "source": [
    " <div class=\"lev1\"><a href=\"#Table-of-Contents\"><span class=\"toc-item-num\"></span>Table of contents</a></div>"
   ]
  },
  {
   "cell_type": "code",
   "execution_count": null,
   "metadata": {
    "collapsed": true
   },
   "outputs": [],
   "source": [
    "titanic_age_cpy = titanic_data.copy()\n",
    "titanic_age = titanic_age_cpy.age.dropna()\n",
    "pd.qcut(titanic_age, 2).head()\n",
    "titanic_age_cpy[['age']] = titanic_age_cpy[['age']].dropna()\n",
    "titanic_age_cpy['survived'] = titanic_age_cpy[(titanic_age_cpy['survived'] == 1)]\n",
    "titanic_age_cpy = titanic_age_cpy.dropna()\n",
    "total_survived = len(titanic_age_cpy)\n",
    "young = titanic_age_cpy[(titanic_age_cpy['age'] <= 28)]\n",
    "old = titanic_age_cpy[(titanic_age_cpy['age'] > 28)]\n",
    "\n",
    "young_first = young[(young['pclass'] == 1)]\n",
    "young_second = young[(young['pclass'] == 2)]\n",
    "young_third = young[(young['pclass'] == 3)]\n",
    "\n",
    "old_first = old[(old['pclass'] == 1)]\n",
    "old_second = old[(old['pclass'] == 2)]\n",
    "old_third = old[(old['pclass'] == 3)]\n",
    "\n",
    "young_first_f = len(young_first[(young_first['sex']=='female')])*100/total_survived\n",
    "young_second_f = len(young_second[(young_second['sex']=='female')])*100/total_survived\n",
    "young_third_f = len(young_third[(young_third['sex']=='female')])*100/total_survived\n",
    "\n",
    "young_first_m = len(young_first[(young_first['sex']=='male')])*100/total_survived\n",
    "young_second_m = len(young_second[(young_second['sex']=='male')])*100/total_survived\n",
    "young_third_m = len(young_third[(young_third['sex']=='male')])*100/total_survived\n",
    "\n",
    "old_first_f = len(old_first[(old_first['sex']=='female')])*100/total_survived\n",
    "old_second_f = len(old_second[(old_second['sex']=='female')])*100/total_survived\n",
    "old_third_f = len(old_third[(old_third['sex']=='female')])*100/total_survived\n",
    "\n",
    "old_first_m = len(old_first[(old_first['sex']=='male')])*100/total_survived\n",
    "old_second_m = len(old_second[(old_second['sex']=='male')])*100/total_survived\n",
    "old_third_m = len(old_third[(old_third['sex']=='male')])*100/total_survived\n",
    "\n",
    "last_df = pd.DataFrame([young_first_f, young_first_m, young_second_f, young_second_m, young_third_f, young_third_m,\n",
    "                       old_first_f, old_first_m, old_second_f, old_second_m, old_third_f, old_third_m],\n",
    "                      index = ['<=28, 1st, F', '<=28, 1st, M', '<=28, 2nd, F', '<=28, 2nd, M', '<=28, 3rd, F', '<=28, 3rd, M',\n",
    "                               '>28, 1st, F', '>28, 1st, M', '>28, 2nd, F', '>28, 2nd, M', '>28, 3rd, F', '>28, 3rd, M'],\n",
    "                      columns = ['% survival']).round(2)\n",
    "last_df"
   ]
  }
 ],
 "metadata": {
  "kernelspec": {
   "display_name": "Python [default]",
   "language": "python",
   "name": "python3"
  },
  "language_info": {
   "codemirror_mode": {
    "name": "ipython",
    "version": 3
   },
   "file_extension": ".py",
   "mimetype": "text/x-python",
   "name": "python",
   "nbconvert_exporter": "python",
   "pygments_lexer": "ipython3",
   "version": "3.6.1"
  }
 },
 "nbformat": 4,
 "nbformat_minor": 2
}
