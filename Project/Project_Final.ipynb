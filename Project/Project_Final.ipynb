{
 "cells": [
  {
   "cell_type": "code",
   "execution_count": 1,
   "metadata": {
    "ExecuteTime": {
     "end_time": "2017-11-25T13:01:42.503855Z",
     "start_time": "2017-11-25T13:01:41.697518Z"
    },
    "collapsed": true
   },
   "outputs": [],
   "source": [
    "%matplotlib inline\n",
    "import pandas as pd\n",
    "import numpy as np\n",
    "from ipywidgets import interact\n",
    "import matplotlib.pyplot as plt\n",
    "import seaborn"
   ]
  },
  {
   "cell_type": "markdown",
   "metadata": {},
   "source": [
    "# Project: The energy transition in Switzerland"
   ]
  },
  {
   "cell_type": "markdown",
   "metadata": {},
   "source": [
    "### Import Data"
   ]
  },
  {
   "cell_type": "code",
   "execution_count": 2,
   "metadata": {
    "collapsed": true
   },
   "outputs": [],
   "source": [
    "# here we import the data\n",
    "swiss_energy_path = 'Data/swiss_energy_production.xlsx'\n",
    "metadata = pd.read_excel(swiss_energy_path, index_col = None, header = 2)"
   ]
  },
  {
   "cell_type": "code",
   "execution_count": 3,
   "metadata": {
    "ExecuteTime": {
     "end_time": "2017-11-25T13:01:42.536926Z",
     "start_time": "2017-11-25T13:01:42.505668Z"
    },
    "scrolled": false
   },
   "outputs": [
    {
     "data": {
      "text/html": [
       "<div>\n",
       "<style>\n",
       "    .dataframe thead tr:only-child th {\n",
       "        text-align: right;\n",
       "    }\n",
       "\n",
       "    .dataframe thead th {\n",
       "        text-align: left;\n",
       "    }\n",
       "\n",
       "    .dataframe tbody tr th {\n",
       "        vertical-align: top;\n",
       "    }\n",
       "</style>\n",
       "<table border=\"1\" class=\"dataframe\">\n",
       "  <thead>\n",
       "    <tr style=\"text-align: right;\">\n",
       "      <th></th>\n",
       "      <th>Bois et charbon de bois</th>\n",
       "      <th>Unnamed: 1</th>\n",
       "      <th>Force hydraulique</th>\n",
       "      <th>Unnamed: 3</th>\n",
       "      <th>Ordures et déchets industriels</th>\n",
       "      <th>Unnamed: 5</th>\n",
       "      <th>Charbon</th>\n",
       "      <th>Unnamed: 7</th>\n",
       "      <th>Pétrole brut et produits pétroliers</th>\n",
       "      <th>Unnamed: 9</th>\n",
       "      <th>...</th>\n",
       "      <th>Combustibles nucléaires</th>\n",
       "      <th>Unnamed: 13</th>\n",
       "      <th>Autres énergies renouvelables</th>\n",
       "      <th>Unnamed: 15</th>\n",
       "      <th>Utilisation totale d'agents énergétiques</th>\n",
       "      <th>Unnamed: 17</th>\n",
       "      <th>Electricité, solde import / export</th>\n",
       "      <th>Unnamed: 19</th>\n",
       "      <th>Consommation brute d’énergie dans le pays = 100%</th>\n",
       "      <th>Unnamed: 21</th>\n",
       "    </tr>\n",
       "  </thead>\n",
       "  <tbody>\n",
       "    <tr>\n",
       "      <th>NaN</th>\n",
       "      <td>En TJ</td>\n",
       "      <td>Répartition en %</td>\n",
       "      <td>En TJ</td>\n",
       "      <td>Répartition en %</td>\n",
       "      <td>En TJ</td>\n",
       "      <td>Répartition en %</td>\n",
       "      <td>En TJ</td>\n",
       "      <td>Répartition en %</td>\n",
       "      <td>En TJ</td>\n",
       "      <td>Répartition en %</td>\n",
       "      <td>...</td>\n",
       "      <td>En TJ</td>\n",
       "      <td>Répartition en %</td>\n",
       "      <td>En TJ</td>\n",
       "      <td>Répartition en %</td>\n",
       "      <td>En TJ</td>\n",
       "      <td>Répartition en %</td>\n",
       "      <td>En TJ</td>\n",
       "      <td>Répartition en %</td>\n",
       "      <td>En TJ</td>\n",
       "      <td>Répartition en %</td>\n",
       "    </tr>\n",
       "    <tr>\n",
       "      <th>1910</th>\n",
       "      <td>17190</td>\n",
       "      <td>16.27</td>\n",
       "      <td>4500</td>\n",
       "      <td>4.26</td>\n",
       "      <td>...</td>\n",
       "      <td>...</td>\n",
       "      <td>83570</td>\n",
       "      <td>79.11</td>\n",
       "      <td>740</td>\n",
       "      <td>0.7</td>\n",
       "      <td>...</td>\n",
       "      <td>...</td>\n",
       "      <td>...</td>\n",
       "      <td>...</td>\n",
       "      <td>...</td>\n",
       "      <td>106000</td>\n",
       "      <td>100.34</td>\n",
       "      <td>-360</td>\n",
       "      <td>-0.34</td>\n",
       "      <td>105640</td>\n",
       "      <td>100</td>\n",
       "    </tr>\n",
       "    <tr>\n",
       "      <th>1911</th>\n",
       "      <td>17190</td>\n",
       "      <td>14.93</td>\n",
       "      <td>5400</td>\n",
       "      <td>4.69</td>\n",
       "      <td>...</td>\n",
       "      <td>...</td>\n",
       "      <td>92020</td>\n",
       "      <td>79.92</td>\n",
       "      <td>960</td>\n",
       "      <td>0.83</td>\n",
       "      <td>...</td>\n",
       "      <td>...</td>\n",
       "      <td>...</td>\n",
       "      <td>...</td>\n",
       "      <td>...</td>\n",
       "      <td>115570</td>\n",
       "      <td>100.37</td>\n",
       "      <td>-430</td>\n",
       "      <td>-0.37</td>\n",
       "      <td>115140</td>\n",
       "      <td>100</td>\n",
       "    </tr>\n",
       "    <tr>\n",
       "      <th>1912</th>\n",
       "      <td>17190</td>\n",
       "      <td>14.64</td>\n",
       "      <td>6120</td>\n",
       "      <td>5.21</td>\n",
       "      <td>...</td>\n",
       "      <td>...</td>\n",
       "      <td>93490</td>\n",
       "      <td>79.65</td>\n",
       "      <td>1010</td>\n",
       "      <td>0.86</td>\n",
       "      <td>...</td>\n",
       "      <td>...</td>\n",
       "      <td>...</td>\n",
       "      <td>...</td>\n",
       "      <td>...</td>\n",
       "      <td>117810</td>\n",
       "      <td>100.37</td>\n",
       "      <td>-430</td>\n",
       "      <td>-0.37</td>\n",
       "      <td>117380</td>\n",
       "      <td>100</td>\n",
       "    </tr>\n",
       "    <tr>\n",
       "      <th>1913</th>\n",
       "      <td>17190</td>\n",
       "      <td>14.06</td>\n",
       "      <td>6660</td>\n",
       "      <td>5.45</td>\n",
       "      <td>...</td>\n",
       "      <td>...</td>\n",
       "      <td>97890</td>\n",
       "      <td>80.04</td>\n",
       "      <td>1030</td>\n",
       "      <td>0.84</td>\n",
       "      <td>...</td>\n",
       "      <td>...</td>\n",
       "      <td>...</td>\n",
       "      <td>...</td>\n",
       "      <td>...</td>\n",
       "      <td>122770</td>\n",
       "      <td>100.38</td>\n",
       "      <td>-470</td>\n",
       "      <td>-0.38</td>\n",
       "      <td>122300</td>\n",
       "      <td>100</td>\n",
       "    </tr>\n",
       "    <tr>\n",
       "      <th>1914</th>\n",
       "      <td>16830</td>\n",
       "      <td>14.1</td>\n",
       "      <td>7020</td>\n",
       "      <td>5.88</td>\n",
       "      <td>...</td>\n",
       "      <td>...</td>\n",
       "      <td>95410</td>\n",
       "      <td>79.94</td>\n",
       "      <td>670</td>\n",
       "      <td>0.56</td>\n",
       "      <td>...</td>\n",
       "      <td>...</td>\n",
       "      <td>...</td>\n",
       "      <td>...</td>\n",
       "      <td>...</td>\n",
       "      <td>119930</td>\n",
       "      <td>100.49</td>\n",
       "      <td>-580</td>\n",
       "      <td>-0.49</td>\n",
       "      <td>119350</td>\n",
       "      <td>100</td>\n",
       "    </tr>\n",
       "    <tr>\n",
       "      <th>1915</th>\n",
       "      <td>14930</td>\n",
       "      <td>12.59</td>\n",
       "      <td>8100</td>\n",
       "      <td>6.83</td>\n",
       "      <td>...</td>\n",
       "      <td>...</td>\n",
       "      <td>96070</td>\n",
       "      <td>81.01</td>\n",
       "      <td>500</td>\n",
       "      <td>0.42</td>\n",
       "      <td>...</td>\n",
       "      <td>...</td>\n",
       "      <td>...</td>\n",
       "      <td>...</td>\n",
       "      <td>...</td>\n",
       "      <td>119600</td>\n",
       "      <td>100.85</td>\n",
       "      <td>-1010</td>\n",
       "      <td>-0.85</td>\n",
       "      <td>118590</td>\n",
       "      <td>100</td>\n",
       "    </tr>\n",
       "    <tr>\n",
       "      <th>1916</th>\n",
       "      <td>12590</td>\n",
       "      <td>11.15</td>\n",
       "      <td>8820</td>\n",
       "      <td>7.81</td>\n",
       "      <td>...</td>\n",
       "      <td>...</td>\n",
       "      <td>92390</td>\n",
       "      <td>81.83</td>\n",
       "      <td>180</td>\n",
       "      <td>0.16</td>\n",
       "      <td>...</td>\n",
       "      <td>...</td>\n",
       "      <td>...</td>\n",
       "      <td>...</td>\n",
       "      <td>...</td>\n",
       "      <td>113980</td>\n",
       "      <td>100.95</td>\n",
       "      <td>-1070</td>\n",
       "      <td>-0.95</td>\n",
       "      <td>112910</td>\n",
       "      <td>100</td>\n",
       "    </tr>\n",
       "    <tr>\n",
       "      <th>1917</th>\n",
       "      <td>13580</td>\n",
       "      <td>13.87</td>\n",
       "      <td>9720</td>\n",
       "      <td>9.93</td>\n",
       "      <td>...</td>\n",
       "      <td>...</td>\n",
       "      <td>75450</td>\n",
       "      <td>77.05</td>\n",
       "      <td>310</td>\n",
       "      <td>0.32</td>\n",
       "      <td>...</td>\n",
       "      <td>...</td>\n",
       "      <td>...</td>\n",
       "      <td>...</td>\n",
       "      <td>...</td>\n",
       "      <td>99060</td>\n",
       "      <td>101.16</td>\n",
       "      <td>-1140</td>\n",
       "      <td>-1.16</td>\n",
       "      <td>97920</td>\n",
       "      <td>100</td>\n",
       "    </tr>\n",
       "    <tr>\n",
       "      <th>1918</th>\n",
       "      <td>18330</td>\n",
       "      <td>18.69</td>\n",
       "      <td>10620</td>\n",
       "      <td>10.83</td>\n",
       "      <td>...</td>\n",
       "      <td>...</td>\n",
       "      <td>70020</td>\n",
       "      <td>71.38</td>\n",
       "      <td>300</td>\n",
       "      <td>0.31</td>\n",
       "      <td>...</td>\n",
       "      <td>...</td>\n",
       "      <td>...</td>\n",
       "      <td>...</td>\n",
       "      <td>...</td>\n",
       "      <td>99270</td>\n",
       "      <td>101.2</td>\n",
       "      <td>-1180</td>\n",
       "      <td>-1.2</td>\n",
       "      <td>98090</td>\n",
       "      <td>100</td>\n",
       "    </tr>\n",
       "  </tbody>\n",
       "</table>\n",
       "<p>10 rows × 22 columns</p>\n",
       "</div>"
      ],
      "text/plain": [
       "     Bois et charbon de bois        Unnamed: 1 Force hydraulique  \\\n",
       "NaN                    En TJ  Répartition en %             En TJ   \n",
       "1910                   17190             16.27              4500   \n",
       "1911                   17190             14.93              5400   \n",
       "1912                   17190             14.64              6120   \n",
       "1913                   17190             14.06              6660   \n",
       "1914                   16830              14.1              7020   \n",
       "1915                   14930             12.59              8100   \n",
       "1916                   12590             11.15              8820   \n",
       "1917                   13580             13.87              9720   \n",
       "1918                   18330             18.69             10620   \n",
       "\n",
       "            Unnamed: 3 Ordures et déchets industriels        Unnamed: 5  \\\n",
       "NaN   Répartition en %                          En TJ  Répartition en %   \n",
       "1910              4.26                            ...               ...   \n",
       "1911              4.69                            ...               ...   \n",
       "1912              5.21                            ...               ...   \n",
       "1913              5.45                            ...               ...   \n",
       "1914              5.88                            ...               ...   \n",
       "1915              6.83                            ...               ...   \n",
       "1916              7.81                            ...               ...   \n",
       "1917              9.93                            ...               ...   \n",
       "1918             10.83                            ...               ...   \n",
       "\n",
       "     Charbon        Unnamed: 7 Pétrole brut et produits pétroliers  \\\n",
       "NaN    En TJ  Répartition en %                               En TJ   \n",
       "1910   83570             79.11                                 740   \n",
       "1911   92020             79.92                                 960   \n",
       "1912   93490             79.65                                1010   \n",
       "1913   97890             80.04                                1030   \n",
       "1914   95410             79.94                                 670   \n",
       "1915   96070             81.01                                 500   \n",
       "1916   92390             81.83                                 180   \n",
       "1917   75450             77.05                                 310   \n",
       "1918   70020             71.38                                 300   \n",
       "\n",
       "            Unnamed: 9        ...        Combustibles nucléaires  \\\n",
       "NaN   Répartition en %        ...                          En TJ   \n",
       "1910               0.7        ...                            ...   \n",
       "1911              0.83        ...                            ...   \n",
       "1912              0.86        ...                            ...   \n",
       "1913              0.84        ...                            ...   \n",
       "1914              0.56        ...                            ...   \n",
       "1915              0.42        ...                            ...   \n",
       "1916              0.16        ...                            ...   \n",
       "1917              0.32        ...                            ...   \n",
       "1918              0.31        ...                            ...   \n",
       "\n",
       "           Unnamed: 13 Autres énergies renouvelables       Unnamed: 15  \\\n",
       "NaN   Répartition en %                         En TJ  Répartition en %   \n",
       "1910               ...                           ...               ...   \n",
       "1911               ...                           ...               ...   \n",
       "1912               ...                           ...               ...   \n",
       "1913               ...                           ...               ...   \n",
       "1914               ...                           ...               ...   \n",
       "1915               ...                           ...               ...   \n",
       "1916               ...                           ...               ...   \n",
       "1917               ...                           ...               ...   \n",
       "1918               ...                           ...               ...   \n",
       "\n",
       "     Utilisation totale d'agents énergétiques       Unnamed: 17  \\\n",
       "NaN                                     En TJ  Répartition en %   \n",
       "1910                                   106000            100.34   \n",
       "1911                                   115570            100.37   \n",
       "1912                                   117810            100.37   \n",
       "1913                                   122770            100.38   \n",
       "1914                                   119930            100.49   \n",
       "1915                                   119600            100.85   \n",
       "1916                                   113980            100.95   \n",
       "1917                                    99060            101.16   \n",
       "1918                                    99270             101.2   \n",
       "\n",
       "     Electricité, solde import / export       Unnamed: 19  \\\n",
       "NaN                               En TJ  Répartition en %   \n",
       "1910                               -360             -0.34   \n",
       "1911                               -430             -0.37   \n",
       "1912                               -430             -0.37   \n",
       "1913                               -470             -0.38   \n",
       "1914                               -580             -0.49   \n",
       "1915                              -1010             -0.85   \n",
       "1916                              -1070             -0.95   \n",
       "1917                              -1140             -1.16   \n",
       "1918                              -1180              -1.2   \n",
       "\n",
       "     Consommation brute d’énergie dans le pays = 100%       Unnamed: 21  \n",
       "NaN                                             En TJ  Répartition en %  \n",
       "1910                                           105640               100  \n",
       "1911                                           115140               100  \n",
       "1912                                           117380               100  \n",
       "1913                                           122300               100  \n",
       "1914                                           119350               100  \n",
       "1915                                           118590               100  \n",
       "1916                                           112910               100  \n",
       "1917                                            97920               100  \n",
       "1918                                            98090               100  \n",
       "\n",
       "[10 rows x 22 columns]"
      ]
     },
     "execution_count": 3,
     "metadata": {},
     "output_type": "execute_result"
    }
   ],
   "source": [
    "#metadata = metadata.fillna(value=0)\n",
    "metadata.head(10)"
   ]
  },
  {
   "cell_type": "markdown",
   "metadata": {},
   "source": [
    "### Clean the Data"
   ]
  },
  {
   "cell_type": "markdown",
   "metadata": {},
   "source": [
    "First we will translate the data"
   ]
  },
  {
   "cell_type": "code",
   "execution_count": 4,
   "metadata": {
    "collapsed": true
   },
   "outputs": [],
   "source": [
    "# we translate the cols in english and add unit, either % or TJ (Tera Joule)\n",
    "def translate(df):\n",
    "    new_name = [\"Wood and charcoal in TJ\", \"Wood and charcoal in %\", \"Hydraulic force in TJ\", \"Hydraulic force in %\", \"Industrial waste and scrap in TJ\", \"Industrial waste and scrap in %\", \"Coal in TJ\",\"Coal in %\",\"Crude oil and petroleum products in TJ\",\"Crude oil and petroleum products in %\",\"Gas in TJ\",\"Gas in %\",\"Combustibles nucléaires in TJ\", \"Combustibles nucléaires in %\",\"Other renewable energies in TJ\", \"Other renewable energies in %\", \"Total use of energy agents in TJ\", \"Total use of energy agents in %\",\"Electricity, balance import / export in TJ\", \"Electricity, balance import / export in %\", \"Gross energy consumption in the country = 100% in TJ\", \"Gross energy consumption in the country = 100% in %\"]\n",
    "    new_df = df.copy()\n",
    "    cols_df = new_df.columns.values \n",
    "    for i in range(len(cols_df)):\n",
    "        name = cols_df[i]\n",
    "        new_df = new_df.rename(columns={name: new_name[i]})\n",
    "    return new_df"
   ]
  },
  {
   "cell_type": "code",
   "execution_count": 5,
   "metadata": {},
   "outputs": [
    {
     "data": {
      "text/html": [
       "<div>\n",
       "<style>\n",
       "    .dataframe thead tr:only-child th {\n",
       "        text-align: right;\n",
       "    }\n",
       "\n",
       "    .dataframe thead th {\n",
       "        text-align: left;\n",
       "    }\n",
       "\n",
       "    .dataframe tbody tr th {\n",
       "        vertical-align: top;\n",
       "    }\n",
       "</style>\n",
       "<table border=\"1\" class=\"dataframe\">\n",
       "  <thead>\n",
       "    <tr style=\"text-align: right;\">\n",
       "      <th></th>\n",
       "      <th>Wood and charcoal in TJ</th>\n",
       "      <th>Wood and charcoal in %</th>\n",
       "      <th>Hydraulic force in TJ</th>\n",
       "      <th>Hydraulic force in %</th>\n",
       "      <th>Industrial waste and scrap in TJ</th>\n",
       "      <th>Industrial waste and scrap in %</th>\n",
       "      <th>Coal in TJ</th>\n",
       "      <th>Coal in %</th>\n",
       "      <th>Crude oil and petroleum products in TJ</th>\n",
       "      <th>Crude oil and petroleum products in %</th>\n",
       "      <th>...</th>\n",
       "      <th>Combustibles nucléaires in TJ</th>\n",
       "      <th>Combustibles nucléaires in %</th>\n",
       "      <th>Other renewable energies in TJ</th>\n",
       "      <th>Other renewable energies in %</th>\n",
       "      <th>Total use of energy agents in TJ</th>\n",
       "      <th>Total use of energy agents in %</th>\n",
       "      <th>Electricity, balance import / export in TJ</th>\n",
       "      <th>Electricity, balance import / export in %</th>\n",
       "      <th>Gross energy consumption in the country = 100% in TJ</th>\n",
       "      <th>Gross energy consumption in the country = 100% in %</th>\n",
       "    </tr>\n",
       "  </thead>\n",
       "  <tbody>\n",
       "    <tr>\n",
       "      <th>NaN</th>\n",
       "      <td>En TJ</td>\n",
       "      <td>Répartition en %</td>\n",
       "      <td>En TJ</td>\n",
       "      <td>Répartition en %</td>\n",
       "      <td>En TJ</td>\n",
       "      <td>Répartition en %</td>\n",
       "      <td>En TJ</td>\n",
       "      <td>Répartition en %</td>\n",
       "      <td>En TJ</td>\n",
       "      <td>Répartition en %</td>\n",
       "      <td>...</td>\n",
       "      <td>En TJ</td>\n",
       "      <td>Répartition en %</td>\n",
       "      <td>En TJ</td>\n",
       "      <td>Répartition en %</td>\n",
       "      <td>En TJ</td>\n",
       "      <td>Répartition en %</td>\n",
       "      <td>En TJ</td>\n",
       "      <td>Répartition en %</td>\n",
       "      <td>En TJ</td>\n",
       "      <td>Répartition en %</td>\n",
       "    </tr>\n",
       "    <tr>\n",
       "      <th>1910</th>\n",
       "      <td>17190</td>\n",
       "      <td>16.27</td>\n",
       "      <td>4500</td>\n",
       "      <td>4.26</td>\n",
       "      <td>...</td>\n",
       "      <td>...</td>\n",
       "      <td>83570</td>\n",
       "      <td>79.11</td>\n",
       "      <td>740</td>\n",
       "      <td>0.7</td>\n",
       "      <td>...</td>\n",
       "      <td>...</td>\n",
       "      <td>...</td>\n",
       "      <td>...</td>\n",
       "      <td>...</td>\n",
       "      <td>106000</td>\n",
       "      <td>100.34</td>\n",
       "      <td>-360</td>\n",
       "      <td>-0.34</td>\n",
       "      <td>105640</td>\n",
       "      <td>100</td>\n",
       "    </tr>\n",
       "    <tr>\n",
       "      <th>1911</th>\n",
       "      <td>17190</td>\n",
       "      <td>14.93</td>\n",
       "      <td>5400</td>\n",
       "      <td>4.69</td>\n",
       "      <td>...</td>\n",
       "      <td>...</td>\n",
       "      <td>92020</td>\n",
       "      <td>79.92</td>\n",
       "      <td>960</td>\n",
       "      <td>0.83</td>\n",
       "      <td>...</td>\n",
       "      <td>...</td>\n",
       "      <td>...</td>\n",
       "      <td>...</td>\n",
       "      <td>...</td>\n",
       "      <td>115570</td>\n",
       "      <td>100.37</td>\n",
       "      <td>-430</td>\n",
       "      <td>-0.37</td>\n",
       "      <td>115140</td>\n",
       "      <td>100</td>\n",
       "    </tr>\n",
       "  </tbody>\n",
       "</table>\n",
       "<p>3 rows × 22 columns</p>\n",
       "</div>"
      ],
      "text/plain": [
       "     Wood and charcoal in TJ Wood and charcoal in % Hydraulic force in TJ  \\\n",
       "NaN                    En TJ       Répartition en %                 En TJ   \n",
       "1910                   17190                  16.27                  4500   \n",
       "1911                   17190                  14.93                  5400   \n",
       "\n",
       "     Hydraulic force in % Industrial waste and scrap in TJ  \\\n",
       "NaN      Répartition en %                            En TJ   \n",
       "1910                 4.26                              ...   \n",
       "1911                 4.69                              ...   \n",
       "\n",
       "     Industrial waste and scrap in % Coal in TJ         Coal in %  \\\n",
       "NaN                 Répartition en %      En TJ  Répartition en %   \n",
       "1910                             ...      83570             79.11   \n",
       "1911                             ...      92020             79.92   \n",
       "\n",
       "     Crude oil and petroleum products in TJ  \\\n",
       "NaN                                   En TJ   \n",
       "1910                                    740   \n",
       "1911                                    960   \n",
       "\n",
       "     Crude oil and petroleum products in %  \\\n",
       "NaN                       Répartition en %   \n",
       "1910                                   0.7   \n",
       "1911                                  0.83   \n",
       "\n",
       "                             ...                          \\\n",
       "NaN                          ...                           \n",
       "1910                         ...                           \n",
       "1911                         ...                           \n",
       "\n",
       "     Combustibles nucléaires in TJ Combustibles nucléaires in %  \\\n",
       "NaN                          En TJ             Répartition en %   \n",
       "1910                           ...                          ...   \n",
       "1911                           ...                          ...   \n",
       "\n",
       "     Other renewable energies in TJ Other renewable energies in %  \\\n",
       "NaN                           En TJ              Répartition en %   \n",
       "1910                            ...                           ...   \n",
       "1911                            ...                           ...   \n",
       "\n",
       "     Total use of energy agents in TJ Total use of energy agents in %  \\\n",
       "NaN                             En TJ                Répartition en %   \n",
       "1910                           106000                          100.34   \n",
       "1911                           115570                          100.37   \n",
       "\n",
       "     Electricity, balance import / export in TJ  \\\n",
       "NaN                                       En TJ   \n",
       "1910                                       -360   \n",
       "1911                                       -430   \n",
       "\n",
       "     Electricity, balance import / export in %  \\\n",
       "NaN                           Répartition en %   \n",
       "1910                                     -0.34   \n",
       "1911                                     -0.37   \n",
       "\n",
       "     Gross energy consumption in the country = 100% in TJ  \\\n",
       "NaN                                               En TJ     \n",
       "1910                                             105640     \n",
       "1911                                             115140     \n",
       "\n",
       "     Gross energy consumption in the country = 100% in %  \n",
       "NaN                                    Répartition en %   \n",
       "1910                                                100   \n",
       "1911                                                100   \n",
       "\n",
       "[3 rows x 22 columns]"
      ]
     },
     "execution_count": 5,
     "metadata": {},
     "output_type": "execute_result"
    }
   ],
   "source": [
    "data = translate(metadata)\n",
    "data.head(3)"
   ]
  },
  {
   "cell_type": "markdown",
   "metadata": {},
   "source": [
    "From here we can already see that we have 2 kinds of data (percentage data and data representing consumption in tera joules). We will first clean all the data and then have different dataframes to better analyze the results. Furthermore, the plots will be more understandable and we will better see the evolution of every kind of energy during the years."
   ]
  },
  {
   "cell_type": "markdown",
   "metadata": {},
   "source": [
    "Then we will clean the data"
   ]
  },
  {
   "cell_type": "code",
   "execution_count": 6,
   "metadata": {
    "ExecuteTime": {
     "end_time": "2017-11-25T13:01:42.575346Z",
     "start_time": "2017-11-25T13:01:42.538461Z"
    },
    "collapsed": true
   },
   "outputs": [],
   "source": [
    "# check if a string is a number or not\n",
    "def is_number(s):\n",
    "    try:\n",
    "        s = int(s)\n",
    "        if(np.isnan(s)):\n",
    "            return False\n",
    "        else:\n",
    "            return True\n",
    "    except ValueError:\n",
    "        return False\n",
    "\n",
    "# We have some None values in index so we keep only the indexes that are dates\n",
    "def keep_only_dates(df):\n",
    "    new_df = df.copy()\n",
    "    index_df = new_df.index.values\n",
    "    bool_dates = []\n",
    "    for i in range(len(index_df)):\n",
    "        date = index_df[i]\n",
    "        bool_dates.append(is_number(date))\n",
    "        \n",
    "    return new_df[bool_dates]"
   ]
  },
  {
   "cell_type": "code",
   "execution_count": 7,
   "metadata": {
    "ExecuteTime": {
     "end_time": "2017-11-25T13:01:42.610415Z",
     "start_time": "2017-11-25T13:01:42.576922Z"
    }
   },
   "outputs": [
    {
     "data": {
      "text/html": [
       "<div>\n",
       "<style>\n",
       "    .dataframe thead tr:only-child th {\n",
       "        text-align: right;\n",
       "    }\n",
       "\n",
       "    .dataframe thead th {\n",
       "        text-align: left;\n",
       "    }\n",
       "\n",
       "    .dataframe tbody tr th {\n",
       "        vertical-align: top;\n",
       "    }\n",
       "</style>\n",
       "<table border=\"1\" class=\"dataframe\">\n",
       "  <thead>\n",
       "    <tr style=\"text-align: right;\">\n",
       "      <th></th>\n",
       "      <th>Wood and charcoal in TJ</th>\n",
       "      <th>Wood and charcoal in %</th>\n",
       "      <th>Hydraulic force in TJ</th>\n",
       "      <th>Hydraulic force in %</th>\n",
       "      <th>Industrial waste and scrap in TJ</th>\n",
       "      <th>Industrial waste and scrap in %</th>\n",
       "      <th>Coal in TJ</th>\n",
       "      <th>Coal in %</th>\n",
       "      <th>Crude oil and petroleum products in TJ</th>\n",
       "      <th>Crude oil and petroleum products in %</th>\n",
       "      <th>...</th>\n",
       "      <th>Combustibles nucléaires in TJ</th>\n",
       "      <th>Combustibles nucléaires in %</th>\n",
       "      <th>Other renewable energies in TJ</th>\n",
       "      <th>Other renewable energies in %</th>\n",
       "      <th>Total use of energy agents in TJ</th>\n",
       "      <th>Total use of energy agents in %</th>\n",
       "      <th>Electricity, balance import / export in TJ</th>\n",
       "      <th>Electricity, balance import / export in %</th>\n",
       "      <th>Gross energy consumption in the country = 100% in TJ</th>\n",
       "      <th>Gross energy consumption in the country = 100% in %</th>\n",
       "    </tr>\n",
       "  </thead>\n",
       "  <tbody>\n",
       "    <tr>\n",
       "      <th>1910</th>\n",
       "      <td>17190</td>\n",
       "      <td>16.27</td>\n",
       "      <td>4500</td>\n",
       "      <td>4.26</td>\n",
       "      <td>...</td>\n",
       "      <td>...</td>\n",
       "      <td>83570</td>\n",
       "      <td>79.11</td>\n",
       "      <td>740</td>\n",
       "      <td>0.7</td>\n",
       "      <td>...</td>\n",
       "      <td>...</td>\n",
       "      <td>...</td>\n",
       "      <td>...</td>\n",
       "      <td>...</td>\n",
       "      <td>106000</td>\n",
       "      <td>100.34</td>\n",
       "      <td>-360</td>\n",
       "      <td>-0.34</td>\n",
       "      <td>105640</td>\n",
       "      <td>100</td>\n",
       "    </tr>\n",
       "    <tr>\n",
       "      <th>1911</th>\n",
       "      <td>17190</td>\n",
       "      <td>14.93</td>\n",
       "      <td>5400</td>\n",
       "      <td>4.69</td>\n",
       "      <td>...</td>\n",
       "      <td>...</td>\n",
       "      <td>92020</td>\n",
       "      <td>79.92</td>\n",
       "      <td>960</td>\n",
       "      <td>0.83</td>\n",
       "      <td>...</td>\n",
       "      <td>...</td>\n",
       "      <td>...</td>\n",
       "      <td>...</td>\n",
       "      <td>...</td>\n",
       "      <td>115570</td>\n",
       "      <td>100.37</td>\n",
       "      <td>-430</td>\n",
       "      <td>-0.37</td>\n",
       "      <td>115140</td>\n",
       "      <td>100</td>\n",
       "    </tr>\n",
       "    <tr>\n",
       "      <th>1912</th>\n",
       "      <td>17190</td>\n",
       "      <td>14.64</td>\n",
       "      <td>6120</td>\n",
       "      <td>5.21</td>\n",
       "      <td>...</td>\n",
       "      <td>...</td>\n",
       "      <td>93490</td>\n",
       "      <td>79.65</td>\n",
       "      <td>1010</td>\n",
       "      <td>0.86</td>\n",
       "      <td>...</td>\n",
       "      <td>...</td>\n",
       "      <td>...</td>\n",
       "      <td>...</td>\n",
       "      <td>...</td>\n",
       "      <td>117810</td>\n",
       "      <td>100.37</td>\n",
       "      <td>-430</td>\n",
       "      <td>-0.37</td>\n",
       "      <td>117380</td>\n",
       "      <td>100</td>\n",
       "    </tr>\n",
       "  </tbody>\n",
       "</table>\n",
       "<p>3 rows × 22 columns</p>\n",
       "</div>"
      ],
      "text/plain": [
       "     Wood and charcoal in TJ Wood and charcoal in % Hydraulic force in TJ  \\\n",
       "1910                   17190                  16.27                  4500   \n",
       "1911                   17190                  14.93                  5400   \n",
       "1912                   17190                  14.64                  6120   \n",
       "\n",
       "     Hydraulic force in % Industrial waste and scrap in TJ  \\\n",
       "1910                 4.26                              ...   \n",
       "1911                 4.69                              ...   \n",
       "1912                 5.21                              ...   \n",
       "\n",
       "     Industrial waste and scrap in % Coal in TJ Coal in %  \\\n",
       "1910                             ...      83570     79.11   \n",
       "1911                             ...      92020     79.92   \n",
       "1912                             ...      93490     79.65   \n",
       "\n",
       "     Crude oil and petroleum products in TJ  \\\n",
       "1910                                    740   \n",
       "1911                                    960   \n",
       "1912                                   1010   \n",
       "\n",
       "     Crude oil and petroleum products in %  \\\n",
       "1910                                   0.7   \n",
       "1911                                  0.83   \n",
       "1912                                  0.86   \n",
       "\n",
       "                             ...                          \\\n",
       "1910                         ...                           \n",
       "1911                         ...                           \n",
       "1912                         ...                           \n",
       "\n",
       "     Combustibles nucléaires in TJ Combustibles nucléaires in %  \\\n",
       "1910                           ...                          ...   \n",
       "1911                           ...                          ...   \n",
       "1912                           ...                          ...   \n",
       "\n",
       "     Other renewable energies in TJ Other renewable energies in %  \\\n",
       "1910                            ...                           ...   \n",
       "1911                            ...                           ...   \n",
       "1912                            ...                           ...   \n",
       "\n",
       "     Total use of energy agents in TJ Total use of energy agents in %  \\\n",
       "1910                           106000                          100.34   \n",
       "1911                           115570                          100.37   \n",
       "1912                           117810                          100.37   \n",
       "\n",
       "     Electricity, balance import / export in TJ  \\\n",
       "1910                                       -360   \n",
       "1911                                       -430   \n",
       "1912                                       -430   \n",
       "\n",
       "     Electricity, balance import / export in %  \\\n",
       "1910                                     -0.34   \n",
       "1911                                     -0.37   \n",
       "1912                                     -0.37   \n",
       "\n",
       "     Gross energy consumption in the country = 100% in TJ  \\\n",
       "1910                                             105640     \n",
       "1911                                             115140     \n",
       "1912                                             117380     \n",
       "\n",
       "     Gross energy consumption in the country = 100% in %  \n",
       "1910                                                100   \n",
       "1911                                                100   \n",
       "1912                                                100   \n",
       "\n",
       "[3 rows x 22 columns]"
      ]
     },
     "execution_count": 7,
     "metadata": {},
     "output_type": "execute_result"
    }
   ],
   "source": [
    "data = keep_only_dates(data)\n",
    "data.head(3)"
   ]
  },
  {
   "cell_type": "markdown",
   "metadata": {
    "collapsed": true
   },
   "source": [
    "Now we need to change de values where we have ... instead of 0 "
   ]
  },
  {
   "cell_type": "code",
   "execution_count": 8,
   "metadata": {
    "ExecuteTime": {
     "end_time": "2017-11-25T13:01:42.615306Z",
     "start_time": "2017-11-25T13:01:42.611731Z"
    }
   },
   "outputs": [
    {
     "data": {
      "text/plain": [
       "True"
      ]
     },
     "execution_count": 8,
     "metadata": {},
     "output_type": "execute_result"
    }
   ],
   "source": [
    "# Check if all index are ok\n",
    "data.index.is_unique"
   ]
  },
  {
   "cell_type": "code",
   "execution_count": 9,
   "metadata": {
    "ExecuteTime": {
     "end_time": "2017-11-25T13:01:42.647892Z",
     "start_time": "2017-11-25T13:01:42.616646Z"
    }
   },
   "outputs": [
    {
     "data": {
      "text/html": [
       "<div>\n",
       "<style>\n",
       "    .dataframe thead tr:only-child th {\n",
       "        text-align: right;\n",
       "    }\n",
       "\n",
       "    .dataframe thead th {\n",
       "        text-align: left;\n",
       "    }\n",
       "\n",
       "    .dataframe tbody tr th {\n",
       "        vertical-align: top;\n",
       "    }\n",
       "</style>\n",
       "<table border=\"1\" class=\"dataframe\">\n",
       "  <thead>\n",
       "    <tr style=\"text-align: right;\">\n",
       "      <th></th>\n",
       "      <th>Wood and charcoal in TJ</th>\n",
       "      <th>Wood and charcoal in %</th>\n",
       "      <th>Hydraulic force in TJ</th>\n",
       "      <th>Hydraulic force in %</th>\n",
       "      <th>Industrial waste and scrap in TJ</th>\n",
       "      <th>Industrial waste and scrap in %</th>\n",
       "      <th>Coal in TJ</th>\n",
       "      <th>Coal in %</th>\n",
       "      <th>Crude oil and petroleum products in TJ</th>\n",
       "      <th>Crude oil and petroleum products in %</th>\n",
       "      <th>...</th>\n",
       "      <th>Combustibles nucléaires in TJ</th>\n",
       "      <th>Combustibles nucléaires in %</th>\n",
       "      <th>Other renewable energies in TJ</th>\n",
       "      <th>Other renewable energies in %</th>\n",
       "      <th>Total use of energy agents in TJ</th>\n",
       "      <th>Total use of energy agents in %</th>\n",
       "      <th>Electricity, balance import / export in TJ</th>\n",
       "      <th>Electricity, balance import / export in %</th>\n",
       "      <th>Gross energy consumption in the country = 100% in TJ</th>\n",
       "      <th>Gross energy consumption in the country = 100% in %</th>\n",
       "    </tr>\n",
       "  </thead>\n",
       "  <tbody>\n",
       "    <tr>\n",
       "      <th>1910</th>\n",
       "      <td>17190</td>\n",
       "      <td>16.27</td>\n",
       "      <td>4500</td>\n",
       "      <td>4.26</td>\n",
       "      <td>0.0</td>\n",
       "      <td>0.0</td>\n",
       "      <td>83570</td>\n",
       "      <td>79.11</td>\n",
       "      <td>740</td>\n",
       "      <td>0.70</td>\n",
       "      <td>...</td>\n",
       "      <td>0.0</td>\n",
       "      <td>0.0</td>\n",
       "      <td>0.0</td>\n",
       "      <td>0.0</td>\n",
       "      <td>106000</td>\n",
       "      <td>100.34</td>\n",
       "      <td>-360</td>\n",
       "      <td>-0.34</td>\n",
       "      <td>105640</td>\n",
       "      <td>100</td>\n",
       "    </tr>\n",
       "    <tr>\n",
       "      <th>1911</th>\n",
       "      <td>17190</td>\n",
       "      <td>14.93</td>\n",
       "      <td>5400</td>\n",
       "      <td>4.69</td>\n",
       "      <td>0.0</td>\n",
       "      <td>0.0</td>\n",
       "      <td>92020</td>\n",
       "      <td>79.92</td>\n",
       "      <td>960</td>\n",
       "      <td>0.83</td>\n",
       "      <td>...</td>\n",
       "      <td>0.0</td>\n",
       "      <td>0.0</td>\n",
       "      <td>0.0</td>\n",
       "      <td>0.0</td>\n",
       "      <td>115570</td>\n",
       "      <td>100.37</td>\n",
       "      <td>-430</td>\n",
       "      <td>-0.37</td>\n",
       "      <td>115140</td>\n",
       "      <td>100</td>\n",
       "    </tr>\n",
       "    <tr>\n",
       "      <th>1912</th>\n",
       "      <td>17190</td>\n",
       "      <td>14.64</td>\n",
       "      <td>6120</td>\n",
       "      <td>5.21</td>\n",
       "      <td>0.0</td>\n",
       "      <td>0.0</td>\n",
       "      <td>93490</td>\n",
       "      <td>79.65</td>\n",
       "      <td>1010</td>\n",
       "      <td>0.86</td>\n",
       "      <td>...</td>\n",
       "      <td>0.0</td>\n",
       "      <td>0.0</td>\n",
       "      <td>0.0</td>\n",
       "      <td>0.0</td>\n",
       "      <td>117810</td>\n",
       "      <td>100.37</td>\n",
       "      <td>-430</td>\n",
       "      <td>-0.37</td>\n",
       "      <td>117380</td>\n",
       "      <td>100</td>\n",
       "    </tr>\n",
       "    <tr>\n",
       "      <th>1913</th>\n",
       "      <td>17190</td>\n",
       "      <td>14.06</td>\n",
       "      <td>6660</td>\n",
       "      <td>5.45</td>\n",
       "      <td>0.0</td>\n",
       "      <td>0.0</td>\n",
       "      <td>97890</td>\n",
       "      <td>80.04</td>\n",
       "      <td>1030</td>\n",
       "      <td>0.84</td>\n",
       "      <td>...</td>\n",
       "      <td>0.0</td>\n",
       "      <td>0.0</td>\n",
       "      <td>0.0</td>\n",
       "      <td>0.0</td>\n",
       "      <td>122770</td>\n",
       "      <td>100.38</td>\n",
       "      <td>-470</td>\n",
       "      <td>-0.38</td>\n",
       "      <td>122300</td>\n",
       "      <td>100</td>\n",
       "    </tr>\n",
       "    <tr>\n",
       "      <th>1914</th>\n",
       "      <td>16830</td>\n",
       "      <td>14.10</td>\n",
       "      <td>7020</td>\n",
       "      <td>5.88</td>\n",
       "      <td>0.0</td>\n",
       "      <td>0.0</td>\n",
       "      <td>95410</td>\n",
       "      <td>79.94</td>\n",
       "      <td>670</td>\n",
       "      <td>0.56</td>\n",
       "      <td>...</td>\n",
       "      <td>0.0</td>\n",
       "      <td>0.0</td>\n",
       "      <td>0.0</td>\n",
       "      <td>0.0</td>\n",
       "      <td>119930</td>\n",
       "      <td>100.49</td>\n",
       "      <td>-580</td>\n",
       "      <td>-0.49</td>\n",
       "      <td>119350</td>\n",
       "      <td>100</td>\n",
       "    </tr>\n",
       "  </tbody>\n",
       "</table>\n",
       "<p>5 rows × 22 columns</p>\n",
       "</div>"
      ],
      "text/plain": [
       "      Wood and charcoal in TJ  Wood and charcoal in %  Hydraulic force in TJ  \\\n",
       "1910                    17190                   16.27                   4500   \n",
       "1911                    17190                   14.93                   5400   \n",
       "1912                    17190                   14.64                   6120   \n",
       "1913                    17190                   14.06                   6660   \n",
       "1914                    16830                   14.10                   7020   \n",
       "\n",
       "      Hydraulic force in %  Industrial waste and scrap in TJ  \\\n",
       "1910                  4.26                               0.0   \n",
       "1911                  4.69                               0.0   \n",
       "1912                  5.21                               0.0   \n",
       "1913                  5.45                               0.0   \n",
       "1914                  5.88                               0.0   \n",
       "\n",
       "      Industrial waste and scrap in %  Coal in TJ  Coal in %  \\\n",
       "1910                              0.0       83570      79.11   \n",
       "1911                              0.0       92020      79.92   \n",
       "1912                              0.0       93490      79.65   \n",
       "1913                              0.0       97890      80.04   \n",
       "1914                              0.0       95410      79.94   \n",
       "\n",
       "      Crude oil and petroleum products in TJ  \\\n",
       "1910                                     740   \n",
       "1911                                     960   \n",
       "1912                                    1010   \n",
       "1913                                    1030   \n",
       "1914                                     670   \n",
       "\n",
       "      Crude oil and petroleum products in %  \\\n",
       "1910                                   0.70   \n",
       "1911                                   0.83   \n",
       "1912                                   0.86   \n",
       "1913                                   0.84   \n",
       "1914                                   0.56   \n",
       "\n",
       "                             ...                           \\\n",
       "1910                         ...                            \n",
       "1911                         ...                            \n",
       "1912                         ...                            \n",
       "1913                         ...                            \n",
       "1914                         ...                            \n",
       "\n",
       "      Combustibles nucléaires in TJ  Combustibles nucléaires in %  \\\n",
       "1910                            0.0                           0.0   \n",
       "1911                            0.0                           0.0   \n",
       "1912                            0.0                           0.0   \n",
       "1913                            0.0                           0.0   \n",
       "1914                            0.0                           0.0   \n",
       "\n",
       "      Other renewable energies in TJ  Other renewable energies in %  \\\n",
       "1910                             0.0                            0.0   \n",
       "1911                             0.0                            0.0   \n",
       "1912                             0.0                            0.0   \n",
       "1913                             0.0                            0.0   \n",
       "1914                             0.0                            0.0   \n",
       "\n",
       "      Total use of energy agents in TJ  Total use of energy agents in %  \\\n",
       "1910                            106000                           100.34   \n",
       "1911                            115570                           100.37   \n",
       "1912                            117810                           100.37   \n",
       "1913                            122770                           100.38   \n",
       "1914                            119930                           100.49   \n",
       "\n",
       "      Electricity, balance import / export in TJ  \\\n",
       "1910                                        -360   \n",
       "1911                                        -430   \n",
       "1912                                        -430   \n",
       "1913                                        -470   \n",
       "1914                                        -580   \n",
       "\n",
       "      Electricity, balance import / export in %  \\\n",
       "1910                                      -0.34   \n",
       "1911                                      -0.37   \n",
       "1912                                      -0.37   \n",
       "1913                                      -0.38   \n",
       "1914                                      -0.49   \n",
       "\n",
       "      Gross energy consumption in the country = 100% in TJ  \\\n",
       "1910                                             105640      \n",
       "1911                                             115140      \n",
       "1912                                             117380      \n",
       "1913                                             122300      \n",
       "1914                                             119350      \n",
       "\n",
       "      Gross energy consumption in the country = 100% in %  \n",
       "1910                                                100    \n",
       "1911                                                100    \n",
       "1912                                                100    \n",
       "1913                                                100    \n",
       "1914                                                100    \n",
       "\n",
       "[5 rows x 22 columns]"
      ]
     },
     "execution_count": 9,
     "metadata": {},
     "output_type": "execute_result"
    }
   ],
   "source": [
    "data_clean = data.apply(pd.to_numeric, errors = 'coerce').fillna(value=0)\n",
    "data_clean.head(5)"
   ]
  },
  {
   "cell_type": "markdown",
   "metadata": {},
   "source": [
    "We can see that we have a column \"Gross energy consumption in the country = 100% in %\" which is always equal to 100% and it's the same thing for \"Total use of energy agents in %\"... so it's not very interesting for us. <br> \n",
    "Futhermore the \"Gross energy consumption in the country = 100% in TJ\" is the same thing as \"Total use of energy agents in TJ\". So we will delete one and rename the other because it's a little bit ambiguous."
   ]
  },
  {
   "cell_type": "code",
   "execution_count": 10,
   "metadata": {
    "ExecuteTime": {
     "end_time": "2017-11-25T13:01:42.674138Z",
     "start_time": "2017-11-25T13:01:42.649410Z"
    }
   },
   "outputs": [
    {
     "data": {
      "text/html": [
       "<div>\n",
       "<style>\n",
       "    .dataframe thead tr:only-child th {\n",
       "        text-align: right;\n",
       "    }\n",
       "\n",
       "    .dataframe thead th {\n",
       "        text-align: left;\n",
       "    }\n",
       "\n",
       "    .dataframe tbody tr th {\n",
       "        vertical-align: top;\n",
       "    }\n",
       "</style>\n",
       "<table border=\"1\" class=\"dataframe\">\n",
       "  <thead>\n",
       "    <tr style=\"text-align: right;\">\n",
       "      <th></th>\n",
       "      <th>Wood and charcoal in TJ</th>\n",
       "      <th>Wood and charcoal in %</th>\n",
       "      <th>Hydraulic force in TJ</th>\n",
       "      <th>Hydraulic force in %</th>\n",
       "      <th>Industrial waste and scrap in TJ</th>\n",
       "      <th>Industrial waste and scrap in %</th>\n",
       "      <th>Coal in TJ</th>\n",
       "      <th>Coal in %</th>\n",
       "      <th>Crude oil and petroleum products in TJ</th>\n",
       "      <th>Crude oil and petroleum products in %</th>\n",
       "      <th>Gas in TJ</th>\n",
       "      <th>Gas in %</th>\n",
       "      <th>Combustibles nucléaires in TJ</th>\n",
       "      <th>Combustibles nucléaires in %</th>\n",
       "      <th>Other renewable energies in TJ</th>\n",
       "      <th>Other renewable energies in %</th>\n",
       "      <th>Electricity, balance import / export in TJ</th>\n",
       "      <th>Electricity, balance import / export in %</th>\n",
       "      <th>Gross energy consumption in the country in TJ</th>\n",
       "    </tr>\n",
       "  </thead>\n",
       "  <tbody>\n",
       "    <tr>\n",
       "      <th>1910</th>\n",
       "      <td>17190</td>\n",
       "      <td>16.27</td>\n",
       "      <td>4500</td>\n",
       "      <td>4.26</td>\n",
       "      <td>0.0</td>\n",
       "      <td>0.0</td>\n",
       "      <td>83570</td>\n",
       "      <td>79.11</td>\n",
       "      <td>740</td>\n",
       "      <td>0.70</td>\n",
       "      <td>0.0</td>\n",
       "      <td>0.0</td>\n",
       "      <td>0.0</td>\n",
       "      <td>0.0</td>\n",
       "      <td>0.0</td>\n",
       "      <td>0.0</td>\n",
       "      <td>-360</td>\n",
       "      <td>-0.34</td>\n",
       "      <td>105640</td>\n",
       "    </tr>\n",
       "    <tr>\n",
       "      <th>1911</th>\n",
       "      <td>17190</td>\n",
       "      <td>14.93</td>\n",
       "      <td>5400</td>\n",
       "      <td>4.69</td>\n",
       "      <td>0.0</td>\n",
       "      <td>0.0</td>\n",
       "      <td>92020</td>\n",
       "      <td>79.92</td>\n",
       "      <td>960</td>\n",
       "      <td>0.83</td>\n",
       "      <td>0.0</td>\n",
       "      <td>0.0</td>\n",
       "      <td>0.0</td>\n",
       "      <td>0.0</td>\n",
       "      <td>0.0</td>\n",
       "      <td>0.0</td>\n",
       "      <td>-430</td>\n",
       "      <td>-0.37</td>\n",
       "      <td>115140</td>\n",
       "    </tr>\n",
       "    <tr>\n",
       "      <th>1912</th>\n",
       "      <td>17190</td>\n",
       "      <td>14.64</td>\n",
       "      <td>6120</td>\n",
       "      <td>5.21</td>\n",
       "      <td>0.0</td>\n",
       "      <td>0.0</td>\n",
       "      <td>93490</td>\n",
       "      <td>79.65</td>\n",
       "      <td>1010</td>\n",
       "      <td>0.86</td>\n",
       "      <td>0.0</td>\n",
       "      <td>0.0</td>\n",
       "      <td>0.0</td>\n",
       "      <td>0.0</td>\n",
       "      <td>0.0</td>\n",
       "      <td>0.0</td>\n",
       "      <td>-430</td>\n",
       "      <td>-0.37</td>\n",
       "      <td>117380</td>\n",
       "    </tr>\n",
       "    <tr>\n",
       "      <th>1913</th>\n",
       "      <td>17190</td>\n",
       "      <td>14.06</td>\n",
       "      <td>6660</td>\n",
       "      <td>5.45</td>\n",
       "      <td>0.0</td>\n",
       "      <td>0.0</td>\n",
       "      <td>97890</td>\n",
       "      <td>80.04</td>\n",
       "      <td>1030</td>\n",
       "      <td>0.84</td>\n",
       "      <td>0.0</td>\n",
       "      <td>0.0</td>\n",
       "      <td>0.0</td>\n",
       "      <td>0.0</td>\n",
       "      <td>0.0</td>\n",
       "      <td>0.0</td>\n",
       "      <td>-470</td>\n",
       "      <td>-0.38</td>\n",
       "      <td>122300</td>\n",
       "    </tr>\n",
       "    <tr>\n",
       "      <th>1914</th>\n",
       "      <td>16830</td>\n",
       "      <td>14.10</td>\n",
       "      <td>7020</td>\n",
       "      <td>5.88</td>\n",
       "      <td>0.0</td>\n",
       "      <td>0.0</td>\n",
       "      <td>95410</td>\n",
       "      <td>79.94</td>\n",
       "      <td>670</td>\n",
       "      <td>0.56</td>\n",
       "      <td>0.0</td>\n",
       "      <td>0.0</td>\n",
       "      <td>0.0</td>\n",
       "      <td>0.0</td>\n",
       "      <td>0.0</td>\n",
       "      <td>0.0</td>\n",
       "      <td>-580</td>\n",
       "      <td>-0.49</td>\n",
       "      <td>119350</td>\n",
       "    </tr>\n",
       "  </tbody>\n",
       "</table>\n",
       "</div>"
      ],
      "text/plain": [
       "      Wood and charcoal in TJ  Wood and charcoal in %  Hydraulic force in TJ  \\\n",
       "1910                    17190                   16.27                   4500   \n",
       "1911                    17190                   14.93                   5400   \n",
       "1912                    17190                   14.64                   6120   \n",
       "1913                    17190                   14.06                   6660   \n",
       "1914                    16830                   14.10                   7020   \n",
       "\n",
       "      Hydraulic force in %  Industrial waste and scrap in TJ  \\\n",
       "1910                  4.26                               0.0   \n",
       "1911                  4.69                               0.0   \n",
       "1912                  5.21                               0.0   \n",
       "1913                  5.45                               0.0   \n",
       "1914                  5.88                               0.0   \n",
       "\n",
       "      Industrial waste and scrap in %  Coal in TJ  Coal in %  \\\n",
       "1910                              0.0       83570      79.11   \n",
       "1911                              0.0       92020      79.92   \n",
       "1912                              0.0       93490      79.65   \n",
       "1913                              0.0       97890      80.04   \n",
       "1914                              0.0       95410      79.94   \n",
       "\n",
       "      Crude oil and petroleum products in TJ  \\\n",
       "1910                                     740   \n",
       "1911                                     960   \n",
       "1912                                    1010   \n",
       "1913                                    1030   \n",
       "1914                                     670   \n",
       "\n",
       "      Crude oil and petroleum products in %  Gas in TJ  Gas in %  \\\n",
       "1910                                   0.70        0.0       0.0   \n",
       "1911                                   0.83        0.0       0.0   \n",
       "1912                                   0.86        0.0       0.0   \n",
       "1913                                   0.84        0.0       0.0   \n",
       "1914                                   0.56        0.0       0.0   \n",
       "\n",
       "      Combustibles nucléaires in TJ  Combustibles nucléaires in %  \\\n",
       "1910                            0.0                           0.0   \n",
       "1911                            0.0                           0.0   \n",
       "1912                            0.0                           0.0   \n",
       "1913                            0.0                           0.0   \n",
       "1914                            0.0                           0.0   \n",
       "\n",
       "      Other renewable energies in TJ  Other renewable energies in %  \\\n",
       "1910                             0.0                            0.0   \n",
       "1911                             0.0                            0.0   \n",
       "1912                             0.0                            0.0   \n",
       "1913                             0.0                            0.0   \n",
       "1914                             0.0                            0.0   \n",
       "\n",
       "      Electricity, balance import / export in TJ  \\\n",
       "1910                                        -360   \n",
       "1911                                        -430   \n",
       "1912                                        -430   \n",
       "1913                                        -470   \n",
       "1914                                        -580   \n",
       "\n",
       "      Electricity, balance import / export in %  \\\n",
       "1910                                      -0.34   \n",
       "1911                                      -0.37   \n",
       "1912                                      -0.37   \n",
       "1913                                      -0.38   \n",
       "1914                                      -0.49   \n",
       "\n",
       "      Gross energy consumption in the country in TJ  \n",
       "1910                                         105640  \n",
       "1911                                         115140  \n",
       "1912                                         117380  \n",
       "1913                                         122300  \n",
       "1914                                         119350  "
      ]
     },
     "execution_count": 10,
     "metadata": {},
     "output_type": "execute_result"
    }
   ],
   "source": [
    "data_clean_drop = data_clean.drop(['Gross energy consumption in the country = 100% in %'], axis=1).drop(['Total use of energy agents in %'], axis=1).drop(['Total use of energy agents in TJ'], axis=1)\n",
    "final_data_clean = data_clean_drop.rename(columns={\"Gross energy consumption in the country = 100% in TJ\": \"Gross energy consumption in the country in TJ\"})\n",
    "final_data_clean.head()"
   ]
  },
  {
   "cell_type": "code",
   "execution_count": 11,
   "metadata": {
    "ExecuteTime": {
     "end_time": "2017-11-25T13:01:42.680666Z",
     "start_time": "2017-11-25T13:01:42.675885Z"
    }
   },
   "outputs": [
    {
     "data": {
      "text/plain": [
       "1910    0.0\n",
       "1911    0.0\n",
       "1912    0.0\n",
       "1913    0.0\n",
       "1914    0.0\n",
       "Name: Industrial waste and scrap in %, dtype: float64"
      ]
     },
     "execution_count": 11,
     "metadata": {},
     "output_type": "execute_result"
    }
   ],
   "source": [
    "# Check one\n",
    "final_data_clean[\"Industrial waste and scrap in %\"].head(5)"
   ]
  },
  {
   "cell_type": "markdown",
   "metadata": {},
   "source": [
    "Now that we have this, we can separate our datafram into 2 differents. Why? So we can have one with only with Tera-joules and one with only the percentage"
   ]
  },
  {
   "cell_type": "code",
   "execution_count": 12,
   "metadata": {
    "ExecuteTime": {
     "end_time": "2017-11-25T13:01:42.688912Z",
     "start_time": "2017-11-25T13:01:42.682114Z"
    },
    "collapsed": true
   },
   "outputs": [],
   "source": [
    "def countains_str(df, str_):\n",
    "    new_df = df.copy()\n",
    "    index_df = new_df.columns.values\n",
    "    names = []\n",
    "    for i in range(len(index_df)):\n",
    "        col_name = index_df[i]\n",
    "        if str_ in col_name: \n",
    "            names.append(col_name)\n",
    "    return new_df[names]"
   ]
  },
  {
   "cell_type": "code",
   "execution_count": 13,
   "metadata": {
    "ExecuteTime": {
     "end_time": "2017-11-25T13:01:42.705995Z",
     "start_time": "2017-11-25T13:01:42.690483Z"
    }
   },
   "outputs": [
    {
     "data": {
      "text/html": [
       "<div>\n",
       "<style>\n",
       "    .dataframe thead tr:only-child th {\n",
       "        text-align: right;\n",
       "    }\n",
       "\n",
       "    .dataframe thead th {\n",
       "        text-align: left;\n",
       "    }\n",
       "\n",
       "    .dataframe tbody tr th {\n",
       "        vertical-align: top;\n",
       "    }\n",
       "</style>\n",
       "<table border=\"1\" class=\"dataframe\">\n",
       "  <thead>\n",
       "    <tr style=\"text-align: right;\">\n",
       "      <th></th>\n",
       "      <th>Wood and charcoal in TJ</th>\n",
       "      <th>Hydraulic force in TJ</th>\n",
       "      <th>Industrial waste and scrap in TJ</th>\n",
       "      <th>Coal in TJ</th>\n",
       "      <th>Crude oil and petroleum products in TJ</th>\n",
       "      <th>Gas in TJ</th>\n",
       "      <th>Combustibles nucléaires in TJ</th>\n",
       "      <th>Other renewable energies in TJ</th>\n",
       "      <th>Electricity, balance import / export in TJ</th>\n",
       "      <th>Gross energy consumption in the country in TJ</th>\n",
       "    </tr>\n",
       "  </thead>\n",
       "  <tbody>\n",
       "    <tr>\n",
       "      <th>1910</th>\n",
       "      <td>17190</td>\n",
       "      <td>4500</td>\n",
       "      <td>0.0</td>\n",
       "      <td>83570</td>\n",
       "      <td>740</td>\n",
       "      <td>0.0</td>\n",
       "      <td>0.0</td>\n",
       "      <td>0.0</td>\n",
       "      <td>-360</td>\n",
       "      <td>105640</td>\n",
       "    </tr>\n",
       "    <tr>\n",
       "      <th>1911</th>\n",
       "      <td>17190</td>\n",
       "      <td>5400</td>\n",
       "      <td>0.0</td>\n",
       "      <td>92020</td>\n",
       "      <td>960</td>\n",
       "      <td>0.0</td>\n",
       "      <td>0.0</td>\n",
       "      <td>0.0</td>\n",
       "      <td>-430</td>\n",
       "      <td>115140</td>\n",
       "    </tr>\n",
       "    <tr>\n",
       "      <th>1912</th>\n",
       "      <td>17190</td>\n",
       "      <td>6120</td>\n",
       "      <td>0.0</td>\n",
       "      <td>93490</td>\n",
       "      <td>1010</td>\n",
       "      <td>0.0</td>\n",
       "      <td>0.0</td>\n",
       "      <td>0.0</td>\n",
       "      <td>-430</td>\n",
       "      <td>117380</td>\n",
       "    </tr>\n",
       "    <tr>\n",
       "      <th>1913</th>\n",
       "      <td>17190</td>\n",
       "      <td>6660</td>\n",
       "      <td>0.0</td>\n",
       "      <td>97890</td>\n",
       "      <td>1030</td>\n",
       "      <td>0.0</td>\n",
       "      <td>0.0</td>\n",
       "      <td>0.0</td>\n",
       "      <td>-470</td>\n",
       "      <td>122300</td>\n",
       "    </tr>\n",
       "    <tr>\n",
       "      <th>1914</th>\n",
       "      <td>16830</td>\n",
       "      <td>7020</td>\n",
       "      <td>0.0</td>\n",
       "      <td>95410</td>\n",
       "      <td>670</td>\n",
       "      <td>0.0</td>\n",
       "      <td>0.0</td>\n",
       "      <td>0.0</td>\n",
       "      <td>-580</td>\n",
       "      <td>119350</td>\n",
       "    </tr>\n",
       "  </tbody>\n",
       "</table>\n",
       "</div>"
      ],
      "text/plain": [
       "      Wood and charcoal in TJ  Hydraulic force in TJ  \\\n",
       "1910                    17190                   4500   \n",
       "1911                    17190                   5400   \n",
       "1912                    17190                   6120   \n",
       "1913                    17190                   6660   \n",
       "1914                    16830                   7020   \n",
       "\n",
       "      Industrial waste and scrap in TJ  Coal in TJ  \\\n",
       "1910                               0.0       83570   \n",
       "1911                               0.0       92020   \n",
       "1912                               0.0       93490   \n",
       "1913                               0.0       97890   \n",
       "1914                               0.0       95410   \n",
       "\n",
       "      Crude oil and petroleum products in TJ  Gas in TJ  \\\n",
       "1910                                     740        0.0   \n",
       "1911                                     960        0.0   \n",
       "1912                                    1010        0.0   \n",
       "1913                                    1030        0.0   \n",
       "1914                                     670        0.0   \n",
       "\n",
       "      Combustibles nucléaires in TJ  Other renewable energies in TJ  \\\n",
       "1910                            0.0                             0.0   \n",
       "1911                            0.0                             0.0   \n",
       "1912                            0.0                             0.0   \n",
       "1913                            0.0                             0.0   \n",
       "1914                            0.0                             0.0   \n",
       "\n",
       "      Electricity, balance import / export in TJ  \\\n",
       "1910                                        -360   \n",
       "1911                                        -430   \n",
       "1912                                        -430   \n",
       "1913                                        -470   \n",
       "1914                                        -580   \n",
       "\n",
       "      Gross energy consumption in the country in TJ  \n",
       "1910                                         105640  \n",
       "1911                                         115140  \n",
       "1912                                         117380  \n",
       "1913                                         122300  \n",
       "1914                                         119350  "
      ]
     },
     "execution_count": 13,
     "metadata": {},
     "output_type": "execute_result"
    }
   ],
   "source": [
    "final_data_tj_temp = countains_str(final_data_clean, \"TJ\")\n",
    "final_data_tj_temp.head()"
   ]
  },
  {
   "cell_type": "code",
   "execution_count": 14,
   "metadata": {
    "ExecuteTime": {
     "end_time": "2017-11-25T13:01:42.723289Z",
     "start_time": "2017-11-25T13:01:42.707726Z"
    },
    "scrolled": true
   },
   "outputs": [
    {
     "data": {
      "text/html": [
       "<div>\n",
       "<style>\n",
       "    .dataframe thead tr:only-child th {\n",
       "        text-align: right;\n",
       "    }\n",
       "\n",
       "    .dataframe thead th {\n",
       "        text-align: left;\n",
       "    }\n",
       "\n",
       "    .dataframe tbody tr th {\n",
       "        vertical-align: top;\n",
       "    }\n",
       "</style>\n",
       "<table border=\"1\" class=\"dataframe\">\n",
       "  <thead>\n",
       "    <tr style=\"text-align: right;\">\n",
       "      <th></th>\n",
       "      <th>Wood and charcoal in %</th>\n",
       "      <th>Hydraulic force in %</th>\n",
       "      <th>Industrial waste and scrap in %</th>\n",
       "      <th>Coal in %</th>\n",
       "      <th>Crude oil and petroleum products in %</th>\n",
       "      <th>Gas in %</th>\n",
       "      <th>Combustibles nucléaires in %</th>\n",
       "      <th>Other renewable energies in %</th>\n",
       "      <th>Electricity, balance import / export in %</th>\n",
       "    </tr>\n",
       "  </thead>\n",
       "  <tbody>\n",
       "    <tr>\n",
       "      <th>1910</th>\n",
       "      <td>16.27</td>\n",
       "      <td>4.26</td>\n",
       "      <td>0.0</td>\n",
       "      <td>79.11</td>\n",
       "      <td>0.70</td>\n",
       "      <td>0.0</td>\n",
       "      <td>0.0</td>\n",
       "      <td>0.0</td>\n",
       "      <td>-0.34</td>\n",
       "    </tr>\n",
       "    <tr>\n",
       "      <th>1911</th>\n",
       "      <td>14.93</td>\n",
       "      <td>4.69</td>\n",
       "      <td>0.0</td>\n",
       "      <td>79.92</td>\n",
       "      <td>0.83</td>\n",
       "      <td>0.0</td>\n",
       "      <td>0.0</td>\n",
       "      <td>0.0</td>\n",
       "      <td>-0.37</td>\n",
       "    </tr>\n",
       "    <tr>\n",
       "      <th>1912</th>\n",
       "      <td>14.64</td>\n",
       "      <td>5.21</td>\n",
       "      <td>0.0</td>\n",
       "      <td>79.65</td>\n",
       "      <td>0.86</td>\n",
       "      <td>0.0</td>\n",
       "      <td>0.0</td>\n",
       "      <td>0.0</td>\n",
       "      <td>-0.37</td>\n",
       "    </tr>\n",
       "    <tr>\n",
       "      <th>1913</th>\n",
       "      <td>14.06</td>\n",
       "      <td>5.45</td>\n",
       "      <td>0.0</td>\n",
       "      <td>80.04</td>\n",
       "      <td>0.84</td>\n",
       "      <td>0.0</td>\n",
       "      <td>0.0</td>\n",
       "      <td>0.0</td>\n",
       "      <td>-0.38</td>\n",
       "    </tr>\n",
       "    <tr>\n",
       "      <th>1914</th>\n",
       "      <td>14.10</td>\n",
       "      <td>5.88</td>\n",
       "      <td>0.0</td>\n",
       "      <td>79.94</td>\n",
       "      <td>0.56</td>\n",
       "      <td>0.0</td>\n",
       "      <td>0.0</td>\n",
       "      <td>0.0</td>\n",
       "      <td>-0.49</td>\n",
       "    </tr>\n",
       "  </tbody>\n",
       "</table>\n",
       "</div>"
      ],
      "text/plain": [
       "      Wood and charcoal in %  Hydraulic force in %  \\\n",
       "1910                   16.27                  4.26   \n",
       "1911                   14.93                  4.69   \n",
       "1912                   14.64                  5.21   \n",
       "1913                   14.06                  5.45   \n",
       "1914                   14.10                  5.88   \n",
       "\n",
       "      Industrial waste and scrap in %  Coal in %  \\\n",
       "1910                              0.0      79.11   \n",
       "1911                              0.0      79.92   \n",
       "1912                              0.0      79.65   \n",
       "1913                              0.0      80.04   \n",
       "1914                              0.0      79.94   \n",
       "\n",
       "      Crude oil and petroleum products in %  Gas in %  \\\n",
       "1910                                   0.70       0.0   \n",
       "1911                                   0.83       0.0   \n",
       "1912                                   0.86       0.0   \n",
       "1913                                   0.84       0.0   \n",
       "1914                                   0.56       0.0   \n",
       "\n",
       "      Combustibles nucléaires in %  Other renewable energies in %  \\\n",
       "1910                           0.0                            0.0   \n",
       "1911                           0.0                            0.0   \n",
       "1912                           0.0                            0.0   \n",
       "1913                           0.0                            0.0   \n",
       "1914                           0.0                            0.0   \n",
       "\n",
       "      Electricity, balance import / export in %  \n",
       "1910                                      -0.34  \n",
       "1911                                      -0.37  \n",
       "1912                                      -0.37  \n",
       "1913                                      -0.38  \n",
       "1914                                      -0.49  "
      ]
     },
     "execution_count": 14,
     "metadata": {},
     "output_type": "execute_result"
    }
   ],
   "source": [
    "final_data_perc = countains_str(final_data_clean, \"%\")\n",
    "final_data_perc.head()"
   ]
  },
  {
   "cell_type": "markdown",
   "metadata": {},
   "source": [
    "Finally we will store in 2 different data frame the \"Consommation brute d’énergie dans le pays in TJ\" and the rest of the dataframe. The reason for this is that the outliers from \"Consommation brute d’énergie dans le pays in TJ\" won't perturbe the others"
   ]
  },
  {
   "cell_type": "code",
   "execution_count": 15,
   "metadata": {
    "scrolled": true
   },
   "outputs": [
    {
     "data": {
      "text/html": [
       "<div>\n",
       "<style>\n",
       "    .dataframe thead tr:only-child th {\n",
       "        text-align: right;\n",
       "    }\n",
       "\n",
       "    .dataframe thead th {\n",
       "        text-align: left;\n",
       "    }\n",
       "\n",
       "    .dataframe tbody tr th {\n",
       "        vertical-align: top;\n",
       "    }\n",
       "</style>\n",
       "<table border=\"1\" class=\"dataframe\">\n",
       "  <thead>\n",
       "    <tr style=\"text-align: right;\">\n",
       "      <th></th>\n",
       "      <th>Gross energy consumption in the country in TJ</th>\n",
       "    </tr>\n",
       "  </thead>\n",
       "  <tbody>\n",
       "    <tr>\n",
       "      <th>1910</th>\n",
       "      <td>105640</td>\n",
       "    </tr>\n",
       "    <tr>\n",
       "      <th>1911</th>\n",
       "      <td>115140</td>\n",
       "    </tr>\n",
       "    <tr>\n",
       "      <th>1912</th>\n",
       "      <td>117380</td>\n",
       "    </tr>\n",
       "    <tr>\n",
       "      <th>1913</th>\n",
       "      <td>122300</td>\n",
       "    </tr>\n",
       "    <tr>\n",
       "      <th>1914</th>\n",
       "      <td>119350</td>\n",
       "    </tr>\n",
       "  </tbody>\n",
       "</table>\n",
       "</div>"
      ],
      "text/plain": [
       "      Gross energy consumption in the country in TJ\n",
       "1910                                         105640\n",
       "1911                                         115140\n",
       "1912                                         117380\n",
       "1913                                         122300\n",
       "1914                                         119350"
      ]
     },
     "execution_count": 15,
     "metadata": {},
     "output_type": "execute_result"
    }
   ],
   "source": [
    "final_data_tj_full = final_data_tj_temp[[\"Gross energy consumption in the country in TJ\"]]\n",
    "final_data_tj_full.head()"
   ]
  },
  {
   "cell_type": "code",
   "execution_count": 16,
   "metadata": {},
   "outputs": [
    {
     "data": {
      "text/html": [
       "<div>\n",
       "<style>\n",
       "    .dataframe thead tr:only-child th {\n",
       "        text-align: right;\n",
       "    }\n",
       "\n",
       "    .dataframe thead th {\n",
       "        text-align: left;\n",
       "    }\n",
       "\n",
       "    .dataframe tbody tr th {\n",
       "        vertical-align: top;\n",
       "    }\n",
       "</style>\n",
       "<table border=\"1\" class=\"dataframe\">\n",
       "  <thead>\n",
       "    <tr style=\"text-align: right;\">\n",
       "      <th></th>\n",
       "      <th>Wood and charcoal in TJ</th>\n",
       "      <th>Hydraulic force in TJ</th>\n",
       "      <th>Industrial waste and scrap in TJ</th>\n",
       "      <th>Coal in TJ</th>\n",
       "      <th>Crude oil and petroleum products in TJ</th>\n",
       "      <th>Gas in TJ</th>\n",
       "      <th>Combustibles nucléaires in TJ</th>\n",
       "      <th>Other renewable energies in TJ</th>\n",
       "      <th>Electricity, balance import / export in TJ</th>\n",
       "    </tr>\n",
       "  </thead>\n",
       "  <tbody>\n",
       "    <tr>\n",
       "      <th>1910</th>\n",
       "      <td>17190</td>\n",
       "      <td>4500</td>\n",
       "      <td>0.0</td>\n",
       "      <td>83570</td>\n",
       "      <td>740</td>\n",
       "      <td>0.0</td>\n",
       "      <td>0.0</td>\n",
       "      <td>0.0</td>\n",
       "      <td>-360</td>\n",
       "    </tr>\n",
       "    <tr>\n",
       "      <th>1911</th>\n",
       "      <td>17190</td>\n",
       "      <td>5400</td>\n",
       "      <td>0.0</td>\n",
       "      <td>92020</td>\n",
       "      <td>960</td>\n",
       "      <td>0.0</td>\n",
       "      <td>0.0</td>\n",
       "      <td>0.0</td>\n",
       "      <td>-430</td>\n",
       "    </tr>\n",
       "    <tr>\n",
       "      <th>1912</th>\n",
       "      <td>17190</td>\n",
       "      <td>6120</td>\n",
       "      <td>0.0</td>\n",
       "      <td>93490</td>\n",
       "      <td>1010</td>\n",
       "      <td>0.0</td>\n",
       "      <td>0.0</td>\n",
       "      <td>0.0</td>\n",
       "      <td>-430</td>\n",
       "    </tr>\n",
       "    <tr>\n",
       "      <th>1913</th>\n",
       "      <td>17190</td>\n",
       "      <td>6660</td>\n",
       "      <td>0.0</td>\n",
       "      <td>97890</td>\n",
       "      <td>1030</td>\n",
       "      <td>0.0</td>\n",
       "      <td>0.0</td>\n",
       "      <td>0.0</td>\n",
       "      <td>-470</td>\n",
       "    </tr>\n",
       "    <tr>\n",
       "      <th>1914</th>\n",
       "      <td>16830</td>\n",
       "      <td>7020</td>\n",
       "      <td>0.0</td>\n",
       "      <td>95410</td>\n",
       "      <td>670</td>\n",
       "      <td>0.0</td>\n",
       "      <td>0.0</td>\n",
       "      <td>0.0</td>\n",
       "      <td>-580</td>\n",
       "    </tr>\n",
       "  </tbody>\n",
       "</table>\n",
       "</div>"
      ],
      "text/plain": [
       "      Wood and charcoal in TJ  Hydraulic force in TJ  \\\n",
       "1910                    17190                   4500   \n",
       "1911                    17190                   5400   \n",
       "1912                    17190                   6120   \n",
       "1913                    17190                   6660   \n",
       "1914                    16830                   7020   \n",
       "\n",
       "      Industrial waste and scrap in TJ  Coal in TJ  \\\n",
       "1910                               0.0       83570   \n",
       "1911                               0.0       92020   \n",
       "1912                               0.0       93490   \n",
       "1913                               0.0       97890   \n",
       "1914                               0.0       95410   \n",
       "\n",
       "      Crude oil and petroleum products in TJ  Gas in TJ  \\\n",
       "1910                                     740        0.0   \n",
       "1911                                     960        0.0   \n",
       "1912                                    1010        0.0   \n",
       "1913                                    1030        0.0   \n",
       "1914                                     670        0.0   \n",
       "\n",
       "      Combustibles nucléaires in TJ  Other renewable energies in TJ  \\\n",
       "1910                            0.0                             0.0   \n",
       "1911                            0.0                             0.0   \n",
       "1912                            0.0                             0.0   \n",
       "1913                            0.0                             0.0   \n",
       "1914                            0.0                             0.0   \n",
       "\n",
       "      Electricity, balance import / export in TJ  \n",
       "1910                                        -360  \n",
       "1911                                        -430  \n",
       "1912                                        -430  \n",
       "1913                                        -470  \n",
       "1914                                        -580  "
      ]
     },
     "execution_count": 16,
     "metadata": {},
     "output_type": "execute_result"
    }
   ],
   "source": [
    "final_data_tj = final_data_tj_temp.drop(['Gross energy consumption in the country in TJ'], axis=1)\n",
    "final_data_tj.head()"
   ]
  },
  {
   "cell_type": "code",
   "execution_count": 17,
   "metadata": {},
   "outputs": [
    {
     "data": {
      "text/plain": [
       "array([1910, 1911, 1912, 1913, 1914, 1915, 1916, 1917, 1918, 1919, 1920,\n",
       "       1921, 1922, 1923, 1924, 1925, 1926, 1927, 1928, 1929, 1930, 1931,\n",
       "       1932, 1933, 1934, 1935, 1936, 1937, 1938, 1939, 1940, 1941, 1942,\n",
       "       1943, 1944, 1945, 1946, 1947, 1948, 1949, 1950, 1951, 1952, 1953,\n",
       "       1954, 1955, 1956, 1957, 1958, 1959, 1960, 1961, 1962, 1963, 1964,\n",
       "       1965, 1966, 1967, 1968, 1969, 1970, 1971, 1972, 1973, 1974, 1975,\n",
       "       1976, 1977, 1978, 1979, 1980, 1981, 1982, 1983, 1984, 1985, 1986,\n",
       "       1987, 1988, 1989, 1990, 1991, 1992, 1993, 1994, 1995, 1996, 1997,\n",
       "       1998, 1999, 2000, 2001, 2002, 2003, 2004, 2005, 2006, 2007, 2008,\n",
       "       2009, 2010, 2011, 2012, 2013, 2014], dtype=object)"
      ]
     },
     "execution_count": 17,
     "metadata": {},
     "output_type": "execute_result"
    }
   ],
   "source": [
    "final_data_tj.index.values"
   ]
  },
  {
   "cell_type": "markdown",
   "metadata": {},
   "source": [
    "We can see that our data goes to 2014 and not 2016 so if we need to compare the data, we have to be careful"
   ]
  },
  {
   "cell_type": "markdown",
   "metadata": {},
   "source": [
    "Now we have our clean data and we can analyse them"
   ]
  },
  {
   "cell_type": "markdown",
   "metadata": {},
   "source": [
    "## Energy Production"
   ]
  },
  {
   "cell_type": "markdown",
   "metadata": {},
   "source": [
    "First we will see by year the evolution of the enery production in Switzerland in Tera Joules"
   ]
  },
  {
   "cell_type": "code",
   "execution_count": 18,
   "metadata": {
    "scrolled": true
   },
   "outputs": [
    {
     "data": {
      "text/plain": [
       "<matplotlib.figure.Figure at 0x10f5baeb8>"
      ]
     },
     "metadata": {},
     "output_type": "display_data"
    },
    {
     "data": {
      "image/png": "[encoded data removed]",
      "text/plain": [
       "<matplotlib.figure.Figure at 0x10f5c3e10>"
      ]
     },
     "metadata": {},
     "output_type": "display_data"
    }
   ],
   "source": [
    "plt.figure(); \n",
    "final_data_tj.plot();"
   ]
  },
  {
   "cell_type": "code",
   "execution_count": 19,
   "metadata": {
    "scrolled": true
   },
   "outputs": [
    {
     "data": {
      "image/png": "[encoded data removed]",
      "text/plain": [
       "<matplotlib.figure.Figure at 0x116e95320>"
      ]
     },
     "metadata": {},
     "output_type": "display_data"
    }
   ],
   "source": [
    "plt.figure(); \n",
    "final_data_tj['Gas in TJ'].plot();"
   ]
  },
  {
   "cell_type": "markdown",
   "metadata": {},
   "source": [
    "However it's a little bit messy and we don't fully understand the plot. So for this we will use more plots"
   ]
  },
  {
   "cell_type": "code",
   "execution_count": 20,
   "metadata": {
    "collapsed": true
   },
   "outputs": [],
   "source": [
    "def shared_plot(df):\n",
    "    cols = df.columns.values\n",
    "    half_nb_cols = int(len(cols)/2)\n",
    "    cols1 = cols[:half_nb_cols]\n",
    "    cols2 = cols[half_nb_cols:]\n",
    "        \n",
    "    fig, axs = plt.subplots(1, 2, figsize=(20,6), sharey=True)\n",
    "    df[cols1].plot(ax=axs[0], title = \"First half\")\n",
    "    df[cols2].plot(ax=axs[1], title = \"Second half\")\n",
    "    \n",
    "    plt.show()"
   ]
  },
  {
   "cell_type": "code",
   "execution_count": 21,
   "metadata": {
    "scrolled": true
   },
   "outputs": [
    {
     "data": {
      "image/png": "[encoded data removed]",
      "text/plain": [
       "<matplotlib.figure.Figure at 0x116efa8d0>"
      ]
     },
     "metadata": {},
     "output_type": "display_data"
    }
   ],
   "source": [
    "shared_plot(final_data_tj)"
   ]
  },
  {
   "cell_type": "markdown",
   "metadata": {},
   "source": [
    "Here we can see the results better. Furthermore, the y axis is shared so the comparaison will be easier to do. For example we can that since 1945 the Swiss oil consumption has risen sharply as nuclear combustible since 1970.  Other energy like the coal and charcoal are almost gone. However for our project we are interested about the energy transition towards renewable energies. Here we can see that since approximately 2011 there is a transition. Indeed since Fukushima in 2011, we can see that Switzerland has begun its energetic transition. In addition, during a vote held in May 2017, the Swiss voted 58.2% in favor of a gradual withdrawal of nuclear power to the benefit of renewable energy, more respectful of the environment. <br>\n",
    "Here we see the production in TJ for each energy but what about the Total energy consumed?"
   ]
  },
  {
   "cell_type": "code",
   "execution_count": 22,
   "metadata": {},
   "outputs": [
    {
     "data": {
      "text/plain": [
       "<matplotlib.axes._subplots.AxesSubplot at 0x116ef0f60>"
      ]
     },
     "execution_count": 22,
     "metadata": {},
     "output_type": "execute_result"
    },
    {
     "data": {
      "image/png": "[encoded data removed]",
      "text/plain": [
       "<matplotlib.figure.Figure at 0x116fec358>"
      ]
     },
     "metadata": {},
     "output_type": "display_data"
    }
   ],
   "source": [
    "final_data_tj_full.plot(title = \"Total Enegry in TJ\")"
   ]
  },
  {
   "cell_type": "markdown",
   "metadata": {},
   "source": [
    "This confirms what was said earlier. Indeed we can see that after the war of 1945, the consumption of energy drastically increased because it is necessary to rebuild and to have the same status of the United States, the world's leading country. At that time, energy is the engine of development and that's why energy consumption increased a lot. The baby boom around 1965 can also explain this crazy energy consumption. However we see more and more that the energy consumption slowed down and sometimes even decreased. It is a general awareness and respect for the environment that has helped to reduce this almost exponential growth. Switzerland is indeed in an energy transition that is just beginning."
   ]
  },
  {
   "cell_type": "markdown",
   "metadata": {},
   "source": [
    "Secondly, we will see by year the evolution of the enery production in Switzerland in %"
   ]
  },
  {
   "cell_type": "code",
   "execution_count": 23,
   "metadata": {},
   "outputs": [
    {
     "data": {
      "image/png": "[encoded data removed]",
      "text/plain": [
       "<matplotlib.figure.Figure at 0x116f4a1d0>"
      ]
     },
     "metadata": {},
     "output_type": "display_data"
    }
   ],
   "source": [
    "shared_plot(final_data_perc)"
   ]
  },
  {
   "cell_type": "markdown",
   "metadata": {},
   "source": [
    "With these graphs, the result is a lot more striking. Indeed, we can see that coal accounted for 80% of energy production in 1900 and today nothing at all and it's the same for the wood and charcoal. We can also see that oil accounts for 80% of energy consumption in 1970. The reason is that oil at that time was cheap energy and there was plenty of it. This is why oil will gradually dethrone coal in countries where it is rare. Switzerland was not apart and was following the technological advances and unfortunately did not pass through the oil crisis in the 1970s.  That's why it will reduce its oil consumption and find other energies. <br> \n",
    "That's at this moment that we can see an increase in gas and nuclear energy. Finally we can see that today Switzerland is in an energetic transition because the renewable energies start to be used and the consumption of nuclear and oil continues to decrease <br> \n",
    "What is also striking is that already in 1940, the hydrolic force was already used and accounted for 40% of energy consumption in Switzerland. However, if we only analyze this graph we can say that the production of hydrolic energy has decreased. But this is not the case because thanks to the graphs above, we can see that the production of hydrolic energy in TJ continues to increase. Unfortunately with such energy consumption, hydropower alone is not enough and that is why in our graphs, this consumption decreases. It is therefore important to study the graphs at the same time so as not to get false results"
   ]
  },
  {
   "cell_type": "code",
   "execution_count": 24,
   "metadata": {},
   "outputs": [],
   "source": [
    "final_data_perc.index.name = \"Year\"\n",
    "final_data_tj.index.name = \"Year\"\n",
    "final_data_tj_full.index.name = \"Year\"\n",
    "\n",
    "final_data_perc.to_csv('Data/final_data_perc.csv')\n",
    "final_data_tj.to_csv('Data/final_data_tj.csv')\n",
    "final_data_tj_full.to_csv('Data/final_data_tj_full.csv')"
   ]
  },
  {
   "cell_type": "markdown",
   "metadata": {
    "ExecuteTime": {
     "end_time": "2017-11-25T13:18:41.081216Z",
     "start_time": "2017-11-25T13:18:41.072874Z"
    },
    "collapsed": true
   },
   "source": [
    "# The Evolution of the population"
   ]
  },
  {
   "cell_type": "markdown",
   "metadata": {},
   "source": [
    "if we can find relation between the increase of the population and the increase of the energy consumption (see the ratio and what a lambda person \"use\" each year)"
   ]
  },
  {
   "cell_type": "markdown",
   "metadata": {},
   "source": [
    "### Import data"
   ]
  },
  {
   "cell_type": "code",
   "execution_count": 25,
   "metadata": {
    "collapsed": true
   },
   "outputs": [],
   "source": [
    "swiss_population_path = 'Data/population_Suisse.xlsx'\n",
    "metadata_swiss_pop = pd.read_excel(swiss_population_path, index_col = 0, header = 3)"
   ]
  },
  {
   "cell_type": "code",
   "execution_count": 26,
   "metadata": {},
   "outputs": [
    {
     "data": {
      "text/html": [
       "<div>\n",
       "<style>\n",
       "    .dataframe thead tr:only-child th {\n",
       "        text-align: right;\n",
       "    }\n",
       "\n",
       "    .dataframe thead th {\n",
       "        text-align: left;\n",
       "    }\n",
       "\n",
       "    .dataframe tbody tr th {\n",
       "        vertical-align: top;\n",
       "    }\n",
       "</style>\n",
       "<table border=\"1\" class=\"dataframe\">\n",
       "  <thead>\n",
       "    <tr style=\"text-align: right;\">\n",
       "      <th></th>\n",
       "      <th>population</th>\n",
       "      <th>Naissances</th>\n",
       "      <th>Décès 3)</th>\n",
       "      <th>Accroissement</th>\n",
       "      <th>Immigrations 4)</th>\n",
       "      <th>Emigrations 4)</th>\n",
       "      <th>Solde</th>\n",
       "      <th>Acquisition de</th>\n",
       "      <th>Divergences</th>\n",
       "      <th>population.1</th>\n",
       "      <th>en nombres</th>\n",
       "      <th>en %</th>\n",
       "    </tr>\n",
       "  </thead>\n",
       "  <tbody>\n",
       "    <tr>\n",
       "      <th>NaN</th>\n",
       "      <td>au 1er janvier 2)</td>\n",
       "      <td>vivantes 3)</td>\n",
       "      <td>NaN</td>\n",
       "      <td>naturel 3)</td>\n",
       "      <td>NaN</td>\n",
       "      <td>NaN</td>\n",
       "      <td>migratoire 5)</td>\n",
       "      <td>la nationalité</td>\n",
       "      <td>statistiques</td>\n",
       "      <td>au 31 décembre 2)</td>\n",
       "      <td>absolus</td>\n",
       "      <td>NaN</td>\n",
       "    </tr>\n",
       "    <tr>\n",
       "      <th>NaN</th>\n",
       "      <td>NaN</td>\n",
       "      <td></td>\n",
       "      <td>NaN</td>\n",
       "      <td></td>\n",
       "      <td>NaN</td>\n",
       "      <td>NaN</td>\n",
       "      <td>NaN</td>\n",
       "      <td>suisse 6)</td>\n",
       "      <td></td>\n",
       "      <td>NaN</td>\n",
       "      <td>NaN</td>\n",
       "      <td>NaN</td>\n",
       "    </tr>\n",
       "    <tr>\n",
       "      <th>NaN</th>\n",
       "      <td>NaN</td>\n",
       "      <td>NaN</td>\n",
       "      <td>NaN</td>\n",
       "      <td>NaN</td>\n",
       "      <td>NaN</td>\n",
       "      <td>NaN</td>\n",
       "      <td>NaN</td>\n",
       "      <td>NaN</td>\n",
       "      <td>NaN</td>\n",
       "      <td>NaN</td>\n",
       "      <td>NaN</td>\n",
       "      <td>NaN</td>\n",
       "    </tr>\n",
       "    <tr>\n",
       "      <th>1861</th>\n",
       "      <td>2515396</td>\n",
       "      <td>74820</td>\n",
       "      <td>57520.0</td>\n",
       "      <td>17300</td>\n",
       "      <td>...</td>\n",
       "      <td>...</td>\n",
       "      <td>381</td>\n",
       "      <td>...</td>\n",
       "      <td>...</td>\n",
       "      <td>2533077</td>\n",
       "      <td>17681</td>\n",
       "      <td>0.702911</td>\n",
       "    </tr>\n",
       "    <tr>\n",
       "      <th>1862</th>\n",
       "      <td>2533077</td>\n",
       "      <td>75870</td>\n",
       "      <td>51070.0</td>\n",
       "      <td>24800</td>\n",
       "      <td>...</td>\n",
       "      <td>...</td>\n",
       "      <td>-3620</td>\n",
       "      <td>...</td>\n",
       "      <td>...</td>\n",
       "      <td>2554257</td>\n",
       "      <td>21180</td>\n",
       "      <td>0.836137</td>\n",
       "    </tr>\n",
       "  </tbody>\n",
       "</table>\n",
       "</div>"
      ],
      "text/plain": [
       "             population   Naissances  Décès 3) Accroissement Immigrations 4)  \\\n",
       "NaN   au 1er janvier 2)  vivantes 3)       NaN    naturel 3)             NaN   \n",
       "NaN                 NaN                    NaN                           NaN   \n",
       "NaN                 NaN          NaN       NaN           NaN             NaN   \n",
       "1861            2515396        74820   57520.0         17300             ...   \n",
       "1862            2533077        75870   51070.0         24800             ...   \n",
       "\n",
       "     Emigrations 4)          Solde  Acquisition de   Divergences  \\\n",
       "NaN             NaN  migratoire 5)  la nationalité  statistiques   \n",
       "NaN             NaN            NaN       suisse 6)                 \n",
       "NaN             NaN            NaN             NaN           NaN   \n",
       "1861            ...            381             ...           ...   \n",
       "1862            ...          -3620             ...           ...   \n",
       "\n",
       "           population.1 en nombres      en %  \n",
       "NaN   au 31 décembre 2)    absolus       NaN  \n",
       "NaN                 NaN        NaN       NaN  \n",
       "NaN                 NaN        NaN       NaN  \n",
       "1861            2533077      17681  0.702911  \n",
       "1862            2554257      21180  0.836137  "
      ]
     },
     "execution_count": 26,
     "metadata": {},
     "output_type": "execute_result"
    }
   ],
   "source": [
    "metadata_swiss_pop.head()"
   ]
  },
  {
   "cell_type": "markdown",
   "metadata": {},
   "source": [
    "### Clean Data"
   ]
  },
  {
   "cell_type": "code",
   "execution_count": 27,
   "metadata": {
    "collapsed": true
   },
   "outputs": [],
   "source": [
    "metadata_swiss_pop2 = metadata_swiss_pop[3:]"
   ]
  },
  {
   "cell_type": "code",
   "execution_count": 28,
   "metadata": {
    "scrolled": true
   },
   "outputs": [
    {
     "data": {
      "text/html": [
       "<div>\n",
       "<style>\n",
       "    .dataframe thead tr:only-child th {\n",
       "        text-align: right;\n",
       "    }\n",
       "\n",
       "    .dataframe thead th {\n",
       "        text-align: left;\n",
       "    }\n",
       "\n",
       "    .dataframe tbody tr th {\n",
       "        vertical-align: top;\n",
       "    }\n",
       "</style>\n",
       "<table border=\"1\" class=\"dataframe\">\n",
       "  <thead>\n",
       "    <tr style=\"text-align: right;\">\n",
       "      <th></th>\n",
       "      <th>population</th>\n",
       "      <th>Naissances</th>\n",
       "      <th>Décès 3)</th>\n",
       "      <th>Accroissement</th>\n",
       "      <th>Immigrations 4)</th>\n",
       "      <th>Emigrations 4)</th>\n",
       "      <th>Solde</th>\n",
       "      <th>Acquisition de</th>\n",
       "      <th>Divergences</th>\n",
       "      <th>population.1</th>\n",
       "      <th>en nombres</th>\n",
       "      <th>en %</th>\n",
       "    </tr>\n",
       "  </thead>\n",
       "  <tbody>\n",
       "    <tr>\n",
       "      <th>1861</th>\n",
       "      <td>2515396</td>\n",
       "      <td>74820</td>\n",
       "      <td>57520.0</td>\n",
       "      <td>17300</td>\n",
       "      <td>...</td>\n",
       "      <td>...</td>\n",
       "      <td>381</td>\n",
       "      <td>...</td>\n",
       "      <td>...</td>\n",
       "      <td>2533077</td>\n",
       "      <td>17681</td>\n",
       "      <td>0.702911</td>\n",
       "    </tr>\n",
       "    <tr>\n",
       "      <th>1862</th>\n",
       "      <td>2533077</td>\n",
       "      <td>75870</td>\n",
       "      <td>51070.0</td>\n",
       "      <td>24800</td>\n",
       "      <td>...</td>\n",
       "      <td>...</td>\n",
       "      <td>-3620</td>\n",
       "      <td>...</td>\n",
       "      <td>...</td>\n",
       "      <td>2554257</td>\n",
       "      <td>21180</td>\n",
       "      <td>0.836137</td>\n",
       "    </tr>\n",
       "    <tr>\n",
       "      <th>1863</th>\n",
       "      <td>2554257</td>\n",
       "      <td>79160</td>\n",
       "      <td>54360.0</td>\n",
       "      <td>24800</td>\n",
       "      <td>...</td>\n",
       "      <td>...</td>\n",
       "      <td>-3408</td>\n",
       "      <td>...</td>\n",
       "      <td>...</td>\n",
       "      <td>2575649</td>\n",
       "      <td>21392</td>\n",
       "      <td>0.837504</td>\n",
       "    </tr>\n",
       "    <tr>\n",
       "      <th>1864</th>\n",
       "      <td>2575649</td>\n",
       "      <td>79600</td>\n",
       "      <td>59500.0</td>\n",
       "      <td>20100</td>\n",
       "      <td>...</td>\n",
       "      <td>...</td>\n",
       "      <td>-1194</td>\n",
       "      <td>...</td>\n",
       "      <td>...</td>\n",
       "      <td>2594555</td>\n",
       "      <td>18906</td>\n",
       "      <td>0.734029</td>\n",
       "    </tr>\n",
       "    <tr>\n",
       "      <th>1865</th>\n",
       "      <td>2594555</td>\n",
       "      <td>78290</td>\n",
       "      <td>59090.0</td>\n",
       "      <td>19200</td>\n",
       "      <td>...</td>\n",
       "      <td>...</td>\n",
       "      <td>-2653</td>\n",
       "      <td>...</td>\n",
       "      <td>...</td>\n",
       "      <td>2611102</td>\n",
       "      <td>16547</td>\n",
       "      <td>0.637759</td>\n",
       "    </tr>\n",
       "  </tbody>\n",
       "</table>\n",
       "</div>"
      ],
      "text/plain": [
       "     population Naissances  Décès 3) Accroissement Immigrations 4)  \\\n",
       "1861    2515396      74820   57520.0         17300             ...   \n",
       "1862    2533077      75870   51070.0         24800             ...   \n",
       "1863    2554257      79160   54360.0         24800             ...   \n",
       "1864    2575649      79600   59500.0         20100             ...   \n",
       "1865    2594555      78290   59090.0         19200             ...   \n",
       "\n",
       "     Emigrations 4)  Solde Acquisition de Divergences population.1 en nombres  \\\n",
       "1861            ...    381            ...         ...      2533077      17681   \n",
       "1862            ...  -3620            ...         ...      2554257      21180   \n",
       "1863            ...  -3408            ...         ...      2575649      21392   \n",
       "1864            ...  -1194            ...         ...      2594555      18906   \n",
       "1865            ...  -2653            ...         ...      2611102      16547   \n",
       "\n",
       "          en %  \n",
       "1861  0.702911  \n",
       "1862  0.836137  \n",
       "1863  0.837504  \n",
       "1864  0.734029  \n",
       "1865  0.637759  "
      ]
     },
     "execution_count": 28,
     "metadata": {},
     "output_type": "execute_result"
    }
   ],
   "source": [
    "metadata_swiss_pop2.head()"
   ]
  },
  {
   "cell_type": "code",
   "execution_count": 29,
   "metadata": {},
   "outputs": [
    {
     "data": {
      "text/plain": [
       "array(['population', 'Naissances', 'Décès 3)', 'Accroissement',\n",
       "       'Immigrations 4)', 'Emigrations 4)', 'Solde', 'Acquisition de',\n",
       "       'Divergences', 'population.1', 'en nombres', 'en %'], dtype=object)"
      ]
     },
     "execution_count": 29,
     "metadata": {},
     "output_type": "execute_result"
    }
   ],
   "source": [
    "metadata_swiss_pop2.columns.values"
   ]
  },
  {
   "cell_type": "markdown",
   "metadata": {},
   "source": [
    "We just need to keep the most important data and drop the others"
   ]
  },
  {
   "cell_type": "code",
   "execution_count": 30,
   "metadata": {},
   "outputs": [
    {
     "data": {
      "text/html": [
       "<div>\n",
       "<style>\n",
       "    .dataframe thead tr:only-child th {\n",
       "        text-align: right;\n",
       "    }\n",
       "\n",
       "    .dataframe thead th {\n",
       "        text-align: left;\n",
       "    }\n",
       "\n",
       "    .dataframe tbody tr th {\n",
       "        vertical-align: top;\n",
       "    }\n",
       "</style>\n",
       "<table border=\"1\" class=\"dataframe\">\n",
       "  <thead>\n",
       "    <tr style=\"text-align: right;\">\n",
       "      <th></th>\n",
       "      <th>population</th>\n",
       "      <th>population.1</th>\n",
       "      <th>en nombres</th>\n",
       "      <th>en %</th>\n",
       "    </tr>\n",
       "  </thead>\n",
       "  <tbody>\n",
       "    <tr>\n",
       "      <th>1861</th>\n",
       "      <td>2515396</td>\n",
       "      <td>2533077</td>\n",
       "      <td>17681</td>\n",
       "      <td>0.702911</td>\n",
       "    </tr>\n",
       "    <tr>\n",
       "      <th>1862</th>\n",
       "      <td>2533077</td>\n",
       "      <td>2554257</td>\n",
       "      <td>21180</td>\n",
       "      <td>0.836137</td>\n",
       "    </tr>\n",
       "    <tr>\n",
       "      <th>1863</th>\n",
       "      <td>2554257</td>\n",
       "      <td>2575649</td>\n",
       "      <td>21392</td>\n",
       "      <td>0.837504</td>\n",
       "    </tr>\n",
       "    <tr>\n",
       "      <th>1864</th>\n",
       "      <td>2575649</td>\n",
       "      <td>2594555</td>\n",
       "      <td>18906</td>\n",
       "      <td>0.734029</td>\n",
       "    </tr>\n",
       "    <tr>\n",
       "      <th>1865</th>\n",
       "      <td>2594555</td>\n",
       "      <td>2611102</td>\n",
       "      <td>16547</td>\n",
       "      <td>0.637759</td>\n",
       "    </tr>\n",
       "  </tbody>\n",
       "</table>\n",
       "</div>"
      ],
      "text/plain": [
       "     population population.1 en nombres      en %\n",
       "1861    2515396      2533077      17681  0.702911\n",
       "1862    2533077      2554257      21180  0.836137\n",
       "1863    2554257      2575649      21392  0.837504\n",
       "1864    2575649      2594555      18906  0.734029\n",
       "1865    2594555      2611102      16547  0.637759"
      ]
     },
     "execution_count": 30,
     "metadata": {},
     "output_type": "execute_result"
    }
   ],
   "source": [
    "swiss_pop_drop = metadata_swiss_pop2.drop(['Naissances'], axis=1).drop(['Décès 3)'], axis=1).drop(['Accroissement'], axis=1).drop(['Immigrations 4)'], axis=1).drop(['Emigrations 4)'], axis=1).drop(['Solde'], axis=1).drop(['Acquisition de'], axis=1).drop(['Divergences'], axis=1)\n",
    "swiss_pop_drop.head()"
   ]
  },
  {
   "cell_type": "code",
   "execution_count": 31,
   "metadata": {
    "collapsed": true
   },
   "outputs": [],
   "source": [
    "#Change the name of colums to add unit, either % or TJ (Tera Joule)\n",
    "def change_col_name(df, new_name):\n",
    "    new_df = df.copy()\n",
    "    cols_df = new_df.columns.values \n",
    "    for i in range(len(cols_df)):\n",
    "        if(len(cols_df) == len(new_name)):\n",
    "            name = cols_df[i]\n",
    "            new_df = new_df.rename(columns={name: new_name[i]})\n",
    "    return new_df"
   ]
  },
  {
   "cell_type": "code",
   "execution_count": 32,
   "metadata": {},
   "outputs": [
    {
     "data": {
      "text/html": [
       "<div>\n",
       "<style>\n",
       "    .dataframe thead tr:only-child th {\n",
       "        text-align: right;\n",
       "    }\n",
       "\n",
       "    .dataframe thead th {\n",
       "        text-align: left;\n",
       "    }\n",
       "\n",
       "    .dataframe tbody tr th {\n",
       "        vertical-align: top;\n",
       "    }\n",
       "</style>\n",
       "<table border=\"1\" class=\"dataframe\">\n",
       "  <thead>\n",
       "    <tr style=\"text-align: right;\">\n",
       "      <th></th>\n",
       "      <th>Population January</th>\n",
       "      <th>Population December</th>\n",
       "      <th>Absolute values</th>\n",
       "      <th>Values in %</th>\n",
       "    </tr>\n",
       "  </thead>\n",
       "  <tbody>\n",
       "    <tr>\n",
       "      <th>1861</th>\n",
       "      <td>2515396</td>\n",
       "      <td>2533077</td>\n",
       "      <td>17681</td>\n",
       "      <td>0.702911</td>\n",
       "    </tr>\n",
       "    <tr>\n",
       "      <th>1862</th>\n",
       "      <td>2533077</td>\n",
       "      <td>2554257</td>\n",
       "      <td>21180</td>\n",
       "      <td>0.836137</td>\n",
       "    </tr>\n",
       "    <tr>\n",
       "      <th>1863</th>\n",
       "      <td>2554257</td>\n",
       "      <td>2575649</td>\n",
       "      <td>21392</td>\n",
       "      <td>0.837504</td>\n",
       "    </tr>\n",
       "    <tr>\n",
       "      <th>1864</th>\n",
       "      <td>2575649</td>\n",
       "      <td>2594555</td>\n",
       "      <td>18906</td>\n",
       "      <td>0.734029</td>\n",
       "    </tr>\n",
       "    <tr>\n",
       "      <th>1865</th>\n",
       "      <td>2594555</td>\n",
       "      <td>2611102</td>\n",
       "      <td>16547</td>\n",
       "      <td>0.637759</td>\n",
       "    </tr>\n",
       "  </tbody>\n",
       "</table>\n",
       "</div>"
      ],
      "text/plain": [
       "     Population January Population December Absolute values  Values in %\n",
       "1861            2515396             2533077           17681     0.702911\n",
       "1862            2533077             2554257           21180     0.836137\n",
       "1863            2554257             2575649           21392     0.837504\n",
       "1864            2575649             2594555           18906     0.734029\n",
       "1865            2594555             2611102           16547     0.637759"
      ]
     },
     "execution_count": 32,
     "metadata": {},
     "output_type": "execute_result"
    }
   ],
   "source": [
    "new_name = [\"Population January\", \"Population December\", \"Absolute values\", \"Values in %\"]\n",
    "\n",
    "swiss_pop_clean = change_col_name(swiss_pop_drop, new_name)\n",
    "swiss_pop_clean.head()"
   ]
  },
  {
   "cell_type": "markdown",
   "metadata": {},
   "source": [
    "We can see that at the end we have data that we don't what so like the previous one we will only keep the dates"
   ]
  },
  {
   "cell_type": "code",
   "execution_count": 33,
   "metadata": {},
   "outputs": [
    {
     "data": {
      "text/html": [
       "<div>\n",
       "<style>\n",
       "    .dataframe thead tr:only-child th {\n",
       "        text-align: right;\n",
       "    }\n",
       "\n",
       "    .dataframe thead th {\n",
       "        text-align: left;\n",
       "    }\n",
       "\n",
       "    .dataframe tbody tr th {\n",
       "        vertical-align: top;\n",
       "    }\n",
       "</style>\n",
       "<table border=\"1\" class=\"dataframe\">\n",
       "  <thead>\n",
       "    <tr style=\"text-align: right;\">\n",
       "      <th></th>\n",
       "      <th>Population January</th>\n",
       "      <th>Population December</th>\n",
       "      <th>Absolute values</th>\n",
       "      <th>Values in %</th>\n",
       "    </tr>\n",
       "  </thead>\n",
       "  <tbody>\n",
       "    <tr>\n",
       "      <th>1861</th>\n",
       "      <td>2515396</td>\n",
       "      <td>2533077</td>\n",
       "      <td>17681</td>\n",
       "      <td>0.702911</td>\n",
       "    </tr>\n",
       "    <tr>\n",
       "      <th>1862</th>\n",
       "      <td>2533077</td>\n",
       "      <td>2554257</td>\n",
       "      <td>21180</td>\n",
       "      <td>0.836137</td>\n",
       "    </tr>\n",
       "    <tr>\n",
       "      <th>1863</th>\n",
       "      <td>2554257</td>\n",
       "      <td>2575649</td>\n",
       "      <td>21392</td>\n",
       "      <td>0.837504</td>\n",
       "    </tr>\n",
       "    <tr>\n",
       "      <th>1864</th>\n",
       "      <td>2575649</td>\n",
       "      <td>2594555</td>\n",
       "      <td>18906</td>\n",
       "      <td>0.734029</td>\n",
       "    </tr>\n",
       "    <tr>\n",
       "      <th>1865</th>\n",
       "      <td>2594555</td>\n",
       "      <td>2611102</td>\n",
       "      <td>16547</td>\n",
       "      <td>0.637759</td>\n",
       "    </tr>\n",
       "  </tbody>\n",
       "</table>\n",
       "</div>"
      ],
      "text/plain": [
       "     Population January Population December Absolute values  Values in %\n",
       "1861            2515396             2533077           17681     0.702911\n",
       "1862            2533077             2554257           21180     0.836137\n",
       "1863            2554257             2575649           21392     0.837504\n",
       "1864            2575649             2594555           18906     0.734029\n",
       "1865            2594555             2611102           16547     0.637759"
      ]
     },
     "execution_count": 33,
     "metadata": {},
     "output_type": "execute_result"
    }
   ],
   "source": [
    "swiss_pop_cleaner = keep_only_dates(swiss_pop_clean)\n",
    "swiss_pop_cleaner.head()"
   ]
  },
  {
   "cell_type": "markdown",
   "metadata": {},
   "source": [
    "For the analysis we will take the values since 1910 (because our data start at the date)"
   ]
  },
  {
   "cell_type": "code",
   "execution_count": 34,
   "metadata": {},
   "outputs": [
    {
     "data": {
      "text/html": [
       "<div>\n",
       "<style>\n",
       "    .dataframe thead tr:only-child th {\n",
       "        text-align: right;\n",
       "    }\n",
       "\n",
       "    .dataframe thead th {\n",
       "        text-align: left;\n",
       "    }\n",
       "\n",
       "    .dataframe tbody tr th {\n",
       "        vertical-align: top;\n",
       "    }\n",
       "</style>\n",
       "<table border=\"1\" class=\"dataframe\">\n",
       "  <thead>\n",
       "    <tr style=\"text-align: right;\">\n",
       "      <th></th>\n",
       "      <th>Population January</th>\n",
       "      <th>Population December</th>\n",
       "      <th>Absolute values</th>\n",
       "      <th>Values in %</th>\n",
       "    </tr>\n",
       "  </thead>\n",
       "  <tbody>\n",
       "    <tr>\n",
       "      <th>1910</th>\n",
       "      <td>3711868</td>\n",
       "      <td>3756842</td>\n",
       "      <td>44974</td>\n",
       "      <td>1.211627</td>\n",
       "    </tr>\n",
       "    <tr>\n",
       "      <th>1911</th>\n",
       "      <td>3756842</td>\n",
       "      <td>3778312</td>\n",
       "      <td>21470</td>\n",
       "      <td>0.571491</td>\n",
       "    </tr>\n",
       "    <tr>\n",
       "      <th>1912</th>\n",
       "      <td>3778312</td>\n",
       "      <td>3805595</td>\n",
       "      <td>27283</td>\n",
       "      <td>0.722095</td>\n",
       "    </tr>\n",
       "    <tr>\n",
       "      <th>1913</th>\n",
       "      <td>3805595</td>\n",
       "      <td>3828431</td>\n",
       "      <td>22836</td>\n",
       "      <td>0.600064</td>\n",
       "    </tr>\n",
       "    <tr>\n",
       "      <th>1914</th>\n",
       "      <td>3828431</td>\n",
       "      <td>3849766</td>\n",
       "      <td>21335</td>\n",
       "      <td>0.557278</td>\n",
       "    </tr>\n",
       "  </tbody>\n",
       "</table>\n",
       "</div>"
      ],
      "text/plain": [
       "     Population January Population December Absolute values  Values in %\n",
       "1910            3711868             3756842           44974     1.211627\n",
       "1911            3756842             3778312           21470     0.571491\n",
       "1912            3778312             3805595           27283     0.722095\n",
       "1913            3805595             3828431           22836     0.600064\n",
       "1914            3828431             3849766           21335     0.557278"
      ]
     },
     "execution_count": 34,
     "metadata": {},
     "output_type": "execute_result"
    }
   ],
   "source": [
    "# So from 1861 to 1910 there are 49 dates so it's easy\n",
    "final_swiss_pop = swiss_pop_cleaner.loc[swiss_pop_cleaner.index.values[49:]]\n",
    "final_swiss_pop.head()"
   ]
  },
  {
   "cell_type": "markdown",
   "metadata": {},
   "source": [
    "Now, we have good data and we can use them to analyse our previous data"
   ]
  },
  {
   "cell_type": "markdown",
   "metadata": {},
   "source": [
    "## Analysis"
   ]
  },
  {
   "cell_type": "markdown",
   "metadata": {},
   "source": [
    "Let's check our results now if we take the population of each December of each year"
   ]
  },
  {
   "cell_type": "code",
   "execution_count": 35,
   "metadata": {
    "scrolled": true
   },
   "outputs": [
    {
     "data": {
      "text/plain": [
       "1910    3756842\n",
       "1911    3778312\n",
       "1912    3805595\n",
       "1913    3828431\n",
       "1914    3849766\n",
       "Name: Population December, dtype: object"
      ]
     },
     "execution_count": 35,
     "metadata": {},
     "output_type": "execute_result"
    }
   ],
   "source": [
    "pop_december = final_swiss_pop['Population December']\n",
    "pop_december.head()"
   ]
  },
  {
   "cell_type": "markdown",
   "metadata": {},
   "source": [
    "Attention the date is only until 2016 and not 2014 like the previsous data and the year 2010 is missing..."
   ]
  },
  {
   "cell_type": "code",
   "execution_count": 36,
   "metadata": {},
   "outputs": [
    {
     "data": {
      "text/plain": [
       "array([1910, 1911, 1912, 1913, 1914, 1915, 1916, 1917, 1918, 1919, 1920,\n",
       "       1921, 1922, 1923, 1924, 1925, 1926, 1927, 1928, 1929, 1930, 1931,\n",
       "       1932, 1933, 1934, 1935, 1936, 1937, 1938, 1939, 1940, 1941, 1942,\n",
       "       1943, 1944, 1945, 1946, 1947, 1948, 1949, 1950, 1951, 1952, 1953,\n",
       "       1954, 1955, 1956, 1957, 1958, 1959, 1960, 1961, 1962, 1963, 1964,\n",
       "       1965, 1966, 1967, 1968, 1969, 1970, 1971, 1972, 1973, 1974, 1975,\n",
       "       1976, 1977, 1978, 1979, 1980, 1981, 1982, 1983, 1984, 1985, 1986,\n",
       "       1987, 1988, 1989, 1990, 1991, 1992, 1993, 1994, 1995, 1996, 1997,\n",
       "       1998, 1999, 2000, 2001, 2002, 2003, 2004, 2005, 2006, 2007, 2008,\n",
       "       2009, 2011, 2012, 2013, 2014, 2015, 2016])"
      ]
     },
     "execution_count": 36,
     "metadata": {},
     "output_type": "execute_result"
    }
   ],
   "source": [
    "pop_december.index.values"
   ]
  },
  {
   "cell_type": "code",
   "execution_count": 37,
   "metadata": {
    "collapsed": true
   },
   "outputs": [],
   "source": [
    "def shared_plot_pop_energy(energy_df, pop_df):        \n",
    "    fig, axs = plt.subplots(1, 2, figsize=(20,6))\n",
    "    energy_df.plot(ax=axs[0], title = \"Energy\")\n",
    "    pop_df.plot(ax=axs[1], title = \"Population\")\n",
    "    \n",
    "    plt.show()"
   ]
  },
  {
   "cell_type": "code",
   "execution_count": 38,
   "metadata": {},
   "outputs": [
    {
     "data": {
      "image/png": "[encoded data removed]",
      "text/plain": [
       "<matplotlib.figure.Figure at 0x11768e438>"
      ]
     },
     "metadata": {},
     "output_type": "display_data"
    }
   ],
   "source": [
    "shared_plot_pop_energy(final_data_tj_full,pop_december)"
   ]
  },
  {
   "cell_type": "markdown",
   "metadata": {},
   "source": [
    "We can see that there is a correlation which seems logical because the more the population increases, the more energy it consumes. However we can see that the curves are not the same. Indeed, the exponential growth of the energy graph from 1945 to 1975 is much more pronounced than the other one. From this we can conclude that the population plays a role but it is not the only factor, other factors mentioned above also come into play. Furthermore, we can see that the population continues to increase after the 2000s when energy consumption stabilizes (and even decreases). It is at this moment that one realizes that the population plays a role in the consumption of energy. Despite the fact that the population is growing, after the 2000s, a change in the moral level of global warming helps to stabilize energy consumption (a mentality that changed little between 1945 and 1990)."
   ]
  },
  {
   "cell_type": "markdown",
   "metadata": {},
   "source": [
    "We can compare the percentage too"
   ]
  },
  {
   "cell_type": "code",
   "execution_count": 39,
   "metadata": {},
   "outputs": [
    {
     "data": {
      "image/png": "[encoded data removed]",
      "text/plain": [
       "<matplotlib.figure.Figure at 0x1179737b8>"
      ]
     },
     "metadata": {},
     "output_type": "display_data"
    }
   ],
   "source": [
    "# So we take the Values in % and plot them\n",
    "pop_perc = final_swiss_pop['Values in %']\n",
    "shared_plot_pop_energy(final_data_perc,pop_perc)"
   ]
  },
  {
   "cell_type": "markdown",
   "metadata": {},
   "source": [
    "These graphs are speaking especially after 1960. We can see the demographic evolution of the population between 1940 and 1960. However after, the population does not grow anymore and decreases after 1975. We can understand this with the oil crisis which is decreasing at the same time in the graph of energy. We can also see from the 2000s, with the energetic transition, the people are more forward looking and regaining confidence so that the population also increases."
   ]
  },
  {
   "cell_type": "markdown",
   "metadata": {},
   "source": [
    "Now we can analyse the consumption of a lambda person over the years"
   ]
  },
  {
   "cell_type": "code",
   "execution_count": 40,
   "metadata": {
    "collapsed": true
   },
   "outputs": [],
   "source": [
    "def person_consumption(df_people, df_consumption):\n",
    "    new_df = []\n",
    "    list_idx = df_consumption.index.values # Seen before, both have same index but the indexes in consumption \n",
    "                                            # goes to 2014 and the is not the year 2010 in the population data\n",
    "    for idx in list_idx:\n",
    "        if(idx != 2010):\n",
    "            result = df_consumption.loc[idx][0] / df_people[idx]  \n",
    "            new_df.append({'Date': idx, 'Consumption in TJ': result})\n",
    "    return pd.DataFrame(new_df).set_index(\"Date\")"
   ]
  },
  {
   "cell_type": "code",
   "execution_count": 41,
   "metadata": {
    "scrolled": true
   },
   "outputs": [
    {
     "data": {
      "text/html": [
       "<div>\n",
       "<style>\n",
       "    .dataframe thead tr:only-child th {\n",
       "        text-align: right;\n",
       "    }\n",
       "\n",
       "    .dataframe thead th {\n",
       "        text-align: left;\n",
       "    }\n",
       "\n",
       "    .dataframe tbody tr th {\n",
       "        vertical-align: top;\n",
       "    }\n",
       "</style>\n",
       "<table border=\"1\" class=\"dataframe\">\n",
       "  <thead>\n",
       "    <tr style=\"text-align: right;\">\n",
       "      <th></th>\n",
       "      <th>Consumption in TJ</th>\n",
       "    </tr>\n",
       "    <tr>\n",
       "      <th>Date</th>\n",
       "      <th></th>\n",
       "    </tr>\n",
       "  </thead>\n",
       "  <tbody>\n",
       "    <tr>\n",
       "      <th>1910</th>\n",
       "      <td>0.028119</td>\n",
       "    </tr>\n",
       "    <tr>\n",
       "      <th>1911</th>\n",
       "      <td>0.030474</td>\n",
       "    </tr>\n",
       "    <tr>\n",
       "      <th>1912</th>\n",
       "      <td>0.030844</td>\n",
       "    </tr>\n",
       "    <tr>\n",
       "      <th>1913</th>\n",
       "      <td>0.031945</td>\n",
       "    </tr>\n",
       "    <tr>\n",
       "      <th>1914</th>\n",
       "      <td>0.031002</td>\n",
       "    </tr>\n",
       "  </tbody>\n",
       "</table>\n",
       "</div>"
      ],
      "text/plain": [
       "      Consumption in TJ\n",
       "Date                   \n",
       "1910           0.028119\n",
       "1911           0.030474\n",
       "1912           0.030844\n",
       "1913           0.031945\n",
       "1914           0.031002"
      ]
     },
     "execution_count": 41,
     "metadata": {},
     "output_type": "execute_result"
    }
   ],
   "source": [
    "consumption_per_person = person_consumption(pop_december,final_data_tj_full)\n",
    "consumption_per_person.head()"
   ]
  },
  {
   "cell_type": "code",
   "execution_count": 42,
   "metadata": {},
   "outputs": [
    {
     "data": {
      "text/plain": [
       "<matplotlib.axes._subplots.AxesSubplot at 0x11785eac8>"
      ]
     },
     "execution_count": 42,
     "metadata": {},
     "output_type": "execute_result"
    },
    {
     "data": {
      "image/png": "[encoded data removed]",
      "text/plain": [
       "<matplotlib.figure.Figure at 0x1178797f0>"
      ]
     },
     "metadata": {},
     "output_type": "display_data"
    }
   ],
   "source": [
    "consumption_per_person.plot()"
   ]
  },
  {
   "cell_type": "markdown",
   "metadata": {},
   "source": [
    "Here it is very interesting because we can see the average consumption of a lambda person per year. We can see that we have the same growth as before but it tends to decrease since the 2000s. The reasons for this can be the same as before but after reflection, after the second world war, there was the birth of television for any public. This has pushed people to consume more and more energy because of, for example, appliances, phones or computers. This large-scale development is also to be taken into account because more and more people will consume energy. For example, we go from 0.025 Tera Joules in 1945 to 0.16 in 1990. People use more and more energy with an exponential increase. Fortunately today we can see that despite the fact that there are more and more people, consumption decreases and there is a real awareness and it is thanks to that also that the energetic transition can be accomplished.\n",
    "\n",
    "\n",
    "Here is the text where we took some informations:[Energie Consumption](https://www.avenir-suisse.ch/files/2017/03/energie_pour_l_economie_et_le_bien_etre.pdf) <br>\n",
    "\n",
    "We can see in this report some useful informations about the energy consumption in Switzerland. For example the daily consumption of a farmer passed 7000 years ago from 14 KWh to 118 KWh. (This represent 0.0004248 Tera Joules = 0.4248 Giga Joules). Compared to what can be analyzed above it means that there are people who consume more energy than others. <br> \n",
    "\n",
    "Furthermore, in the text, with a consumption of 7600 KWh (27.36 GJ  = 0.02736 TJ) per inhabitant, Switzerland was in the European average in 2008. That's more than what we have because we took an average of the total population and maybe in the text they chose specific people. Nevertheless, we have quite similar results with the text."
   ]
  },
  {
   "cell_type": "markdown",
   "metadata": {},
   "source": [
    "# The Nuclear production"
   ]
  },
  {
   "cell_type": "code",
   "execution_count": 43,
   "metadata": {
    "collapsed": true
   },
   "outputs": [],
   "source": [
    "PRODUCTION_NAME = 'Production en Gwh'\n",
    "ELEC_USED_NAME = 'Production utilisee (%)'"
   ]
  },
  {
   "cell_type": "markdown",
   "metadata": {},
   "source": [
    "### Import Data"
   ]
  },
  {
   "cell_type": "markdown",
   "metadata": {},
   "source": [
    "We start by importing the data"
   ]
  },
  {
   "cell_type": "code",
   "execution_count": 44,
   "metadata": {
    "collapsed": true
   },
   "outputs": [],
   "source": [
    "nuclear_path = 'Data/nuclear_production.csv'\n",
    "nuclear_data = pd.read_csv(nuclear_path, delimiter=\",\")"
   ]
  },
  {
   "cell_type": "code",
   "execution_count": 45,
   "metadata": {},
   "outputs": [
    {
     "data": {
      "text/html": [
       "<div>\n",
       "<style>\n",
       "    .dataframe thead tr:only-child th {\n",
       "        text-align: right;\n",
       "    }\n",
       "\n",
       "    .dataframe thead th {\n",
       "        text-align: left;\n",
       "    }\n",
       "\n",
       "    .dataframe tbody tr th {\n",
       "        vertical-align: top;\n",
       "    }\n",
       "</style>\n",
       "<table border=\"1\" class=\"dataframe\">\n",
       "  <thead>\n",
       "    <tr style=\"text-align: right;\">\n",
       "      <th></th>\n",
       "      <th>num</th>\n",
       "      <th>Year</th>\n",
       "      <th>Power plant</th>\n",
       "      <th>production/ used electricity</th>\n",
       "    </tr>\n",
       "  </thead>\n",
       "  <tbody>\n",
       "    <tr>\n",
       "      <th>0</th>\n",
       "      <td>22298.0</td>\n",
       "      <td>1990</td>\n",
       "      <td>Total</td>\n",
       "      <td>electric production in Gwh</td>\n",
       "    </tr>\n",
       "    <tr>\n",
       "      <th>1</th>\n",
       "      <td>86.6</td>\n",
       "      <td>1990</td>\n",
       "      <td>Total</td>\n",
       "      <td>used electricity %</td>\n",
       "    </tr>\n",
       "    <tr>\n",
       "      <th>2</th>\n",
       "      <td>2540.0</td>\n",
       "      <td>1990</td>\n",
       "      <td>Beznau 1</td>\n",
       "      <td>electric production in Gwh</td>\n",
       "    </tr>\n",
       "    <tr>\n",
       "      <th>3</th>\n",
       "      <td>83.3</td>\n",
       "      <td>1990</td>\n",
       "      <td>Beznau 1</td>\n",
       "      <td>used electricity %</td>\n",
       "    </tr>\n",
       "  </tbody>\n",
       "</table>\n",
       "</div>"
      ],
      "text/plain": [
       "       num  Year Power plant production/ used electricity\n",
       "0  22298.0  1990       Total   electric production in Gwh\n",
       "1     86.6  1990       Total           used electricity %\n",
       "2   2540.0  1990    Beznau 1   electric production in Gwh\n",
       "3     83.3  1990    Beznau 1           used electricity %"
      ]
     },
     "execution_count": 45,
     "metadata": {},
     "output_type": "execute_result"
    }
   ],
   "source": [
    "nuclear_data.head(4)"
   ]
  },
  {
   "cell_type": "markdown",
   "metadata": {},
   "source": [
    "The data contains in fact two kinds of data: electric production and % electricity used. We want to split both kinds of data in separate dataframe and index them by 'Centrale' and then by year using a multiindex. This way it will be easy to plot and see the evolution of production for each centrale through years"
   ]
  },
  {
   "cell_type": "code",
   "execution_count": 46,
   "metadata": {},
   "outputs": [
    {
     "data": {
      "text/html": [
       "<div>\n",
       "<style>\n",
       "    .dataframe thead tr:only-child th {\n",
       "        text-align: right;\n",
       "    }\n",
       "\n",
       "    .dataframe thead th {\n",
       "        text-align: left;\n",
       "    }\n",
       "\n",
       "    .dataframe tbody tr th {\n",
       "        vertical-align: top;\n",
       "    }\n",
       "</style>\n",
       "<table border=\"1\" class=\"dataframe\">\n",
       "  <thead>\n",
       "    <tr style=\"text-align: right;\">\n",
       "      <th></th>\n",
       "      <th>Power plant</th>\n",
       "      <th>Year</th>\n",
       "      <th>production/ used electricity</th>\n",
       "      <th>num</th>\n",
       "    </tr>\n",
       "  </thead>\n",
       "  <tbody>\n",
       "    <tr>\n",
       "      <th>0</th>\n",
       "      <td>Total</td>\n",
       "      <td>1990</td>\n",
       "      <td>electric production in Gwh</td>\n",
       "      <td>22298.0</td>\n",
       "    </tr>\n",
       "    <tr>\n",
       "      <th>1</th>\n",
       "      <td>Total</td>\n",
       "      <td>1990</td>\n",
       "      <td>used electricity %</td>\n",
       "      <td>86.6</td>\n",
       "    </tr>\n",
       "  </tbody>\n",
       "</table>\n",
       "</div>"
      ],
      "text/plain": [
       "  Power plant  Year production/ used electricity      num\n",
       "0       Total  1990   electric production in Gwh  22298.0\n",
       "1       Total  1990           used electricity %     86.6"
      ]
     },
     "execution_count": 46,
     "metadata": {},
     "output_type": "execute_result"
    }
   ],
   "source": [
    "# Reorder columns\n",
    "re_cols = ['Power plant', 'Year', 'production/ used electricity', 'num']\n",
    "nuclear_recols = nuclear_data[re_cols]\n",
    "nuclear_recols.head(2)"
   ]
  },
  {
   "cell_type": "code",
   "execution_count": 47,
   "metadata": {
    "collapsed": true
   },
   "outputs": [],
   "source": [
    "# Split the data in two categories: production and electricity used\n",
    "def split_df(df):\n",
    "    prod = nuclear_recols[::2].drop('production/ used electricity', axis=1)\n",
    "    elec_used = nuclear_recols[1::2].drop('production/ used electricity', axis=1)\n",
    "    return prod, elec_used"
   ]
  },
  {
   "cell_type": "code",
   "execution_count": 48,
   "metadata": {
    "collapsed": true
   },
   "outputs": [],
   "source": [
    "production_df, elec_used_df = split_df(nuclear_recols)"
   ]
  },
  {
   "cell_type": "code",
   "execution_count": 49,
   "metadata": {},
   "outputs": [
    {
     "data": {
      "text/html": [
       "<div>\n",
       "<style>\n",
       "    .dataframe thead tr:only-child th {\n",
       "        text-align: right;\n",
       "    }\n",
       "\n",
       "    .dataframe thead th {\n",
       "        text-align: left;\n",
       "    }\n",
       "\n",
       "    .dataframe tbody tr th {\n",
       "        vertical-align: top;\n",
       "    }\n",
       "</style>\n",
       "<table border=\"1\" class=\"dataframe\">\n",
       "  <thead>\n",
       "    <tr style=\"text-align: right;\">\n",
       "      <th></th>\n",
       "      <th>Power plant</th>\n",
       "      <th>Year</th>\n",
       "      <th>num</th>\n",
       "    </tr>\n",
       "  </thead>\n",
       "  <tbody>\n",
       "    <tr>\n",
       "      <th>0</th>\n",
       "      <td>Total</td>\n",
       "      <td>1990</td>\n",
       "      <td>22298.0</td>\n",
       "    </tr>\n",
       "    <tr>\n",
       "      <th>2</th>\n",
       "      <td>Beznau 1</td>\n",
       "      <td>1990</td>\n",
       "      <td>2540.0</td>\n",
       "    </tr>\n",
       "  </tbody>\n",
       "</table>\n",
       "</div>"
      ],
      "text/plain": [
       "  Power plant  Year      num\n",
       "0       Total  1990  22298.0\n",
       "2    Beznau 1  1990   2540.0"
      ]
     },
     "execution_count": 49,
     "metadata": {},
     "output_type": "execute_result"
    }
   ],
   "source": [
    "production_df.head(2)"
   ]
  },
  {
   "cell_type": "code",
   "execution_count": 50,
   "metadata": {},
   "outputs": [
    {
     "data": {
      "text/html": [
       "<div>\n",
       "<style>\n",
       "    .dataframe thead tr:only-child th {\n",
       "        text-align: right;\n",
       "    }\n",
       "\n",
       "    .dataframe thead th {\n",
       "        text-align: left;\n",
       "    }\n",
       "\n",
       "    .dataframe tbody tr th {\n",
       "        vertical-align: top;\n",
       "    }\n",
       "</style>\n",
       "<table border=\"1\" class=\"dataframe\">\n",
       "  <thead>\n",
       "    <tr style=\"text-align: right;\">\n",
       "      <th></th>\n",
       "      <th>Power plant</th>\n",
       "      <th>Year</th>\n",
       "      <th>num</th>\n",
       "    </tr>\n",
       "  </thead>\n",
       "  <tbody>\n",
       "    <tr>\n",
       "      <th>1</th>\n",
       "      <td>Total</td>\n",
       "      <td>1990</td>\n",
       "      <td>86.6</td>\n",
       "    </tr>\n",
       "    <tr>\n",
       "      <th>3</th>\n",
       "      <td>Beznau 1</td>\n",
       "      <td>1990</td>\n",
       "      <td>83.3</td>\n",
       "    </tr>\n",
       "  </tbody>\n",
       "</table>\n",
       "</div>"
      ],
      "text/plain": [
       "  Power plant  Year   num\n",
       "1       Total  1990  86.6\n",
       "3    Beznau 1  1990  83.3"
      ]
     },
     "execution_count": 50,
     "metadata": {},
     "output_type": "execute_result"
    }
   ],
   "source": [
    "elec_used_df.head(2)"
   ]
  },
  {
   "cell_type": "code",
   "execution_count": 51,
   "metadata": {
    "collapsed": true
   },
   "outputs": [],
   "source": [
    "# Create hierarchical index from a dataframe. cols are the columns that will become index, asc takes 1 or 0 per column\n",
    "# whether you want to index in ascending order or not, valname is the name you want to give to the data\n",
    "def index_by(cols, df, asc, valname):\n",
    "    new_df = df.copy()\n",
    "    new_df.set_index(cols, inplace = True)\n",
    "    new_df.sort_index(level = cols, ascending = asc, inplace = True)\n",
    "    new_df.columns = [valname]\n",
    "    return new_df"
   ]
  },
  {
   "cell_type": "code",
   "execution_count": 52,
   "metadata": {},
   "outputs": [
    {
     "data": {
      "text/html": [
       "<div>\n",
       "<style>\n",
       "    .dataframe thead tr:only-child th {\n",
       "        text-align: right;\n",
       "    }\n",
       "\n",
       "    .dataframe thead th {\n",
       "        text-align: left;\n",
       "    }\n",
       "\n",
       "    .dataframe tbody tr th {\n",
       "        vertical-align: top;\n",
       "    }\n",
       "</style>\n",
       "<table border=\"1\" class=\"dataframe\">\n",
       "  <thead>\n",
       "    <tr style=\"text-align: right;\">\n",
       "      <th></th>\n",
       "      <th></th>\n",
       "      <th>Production en Gwh</th>\n",
       "    </tr>\n",
       "    <tr>\n",
       "      <th>Power plant</th>\n",
       "      <th>Year</th>\n",
       "      <th></th>\n",
       "    </tr>\n",
       "  </thead>\n",
       "  <tbody>\n",
       "    <tr>\n",
       "      <th rowspan=\"3\" valign=\"top\">Beznau 1</th>\n",
       "      <th>1990</th>\n",
       "      <td>2540.0</td>\n",
       "    </tr>\n",
       "    <tr>\n",
       "      <th>1991</th>\n",
       "      <td>2474.0</td>\n",
       "    </tr>\n",
       "    <tr>\n",
       "      <th>1992</th>\n",
       "      <td>2456.0</td>\n",
       "    </tr>\n",
       "  </tbody>\n",
       "</table>\n",
       "</div>"
      ],
      "text/plain": [
       "                  Production en Gwh\n",
       "Power plant Year                   \n",
       "Beznau 1    1990             2540.0\n",
       "            1991             2474.0\n",
       "            1992             2456.0"
      ]
     },
     "execution_count": 52,
     "metadata": {},
     "output_type": "execute_result"
    }
   ],
   "source": [
    "prod_idxd = index_by(['Power plant', 'Year'], production_df, [1,1], PRODUCTION_NAME)\n",
    "prod_idxd.head(3)"
   ]
  },
  {
   "cell_type": "code",
   "execution_count": 53,
   "metadata": {},
   "outputs": [
    {
     "data": {
      "text/html": [
       "<div>\n",
       "<style>\n",
       "    .dataframe thead tr:only-child th {\n",
       "        text-align: right;\n",
       "    }\n",
       "\n",
       "    .dataframe thead th {\n",
       "        text-align: left;\n",
       "    }\n",
       "\n",
       "    .dataframe tbody tr th {\n",
       "        vertical-align: top;\n",
       "    }\n",
       "</style>\n",
       "<table border=\"1\" class=\"dataframe\">\n",
       "  <thead>\n",
       "    <tr style=\"text-align: right;\">\n",
       "      <th></th>\n",
       "      <th></th>\n",
       "      <th>Production utilisee (%)</th>\n",
       "    </tr>\n",
       "    <tr>\n",
       "      <th>Power plant</th>\n",
       "      <th>Year</th>\n",
       "      <th></th>\n",
       "    </tr>\n",
       "  </thead>\n",
       "  <tbody>\n",
       "    <tr>\n",
       "      <th rowspan=\"3\" valign=\"top\">Beznau 1</th>\n",
       "      <th>1990</th>\n",
       "      <td>83.3</td>\n",
       "    </tr>\n",
       "    <tr>\n",
       "      <th>1991</th>\n",
       "      <td>81.2</td>\n",
       "    </tr>\n",
       "    <tr>\n",
       "      <th>1992</th>\n",
       "      <td>80.3</td>\n",
       "    </tr>\n",
       "  </tbody>\n",
       "</table>\n",
       "</div>"
      ],
      "text/plain": [
       "                  Production utilisee (%)\n",
       "Power plant Year                         \n",
       "Beznau 1    1990                     83.3\n",
       "            1991                     81.2\n",
       "            1992                     80.3"
      ]
     },
     "execution_count": 53,
     "metadata": {},
     "output_type": "execute_result"
    }
   ],
   "source": [
    "elec_idxd = index_by(['Power plant', 'Year'], elec_used_df, [1,1], ELEC_USED_NAME)\n",
    "elec_idxd.head(3)"
   ]
  },
  {
   "cell_type": "code",
   "execution_count": 54,
   "metadata": {
    "collapsed": true
   },
   "outputs": [],
   "source": [
    "# Remove 'Total' column from df and return it\n",
    "def remove_total(df):\n",
    "    total = elec_idxd.loc['Total']\n",
    "    df.drop('Total', inplace = True)\n",
    "    return total"
   ]
  },
  {
   "cell_type": "code",
   "execution_count": 55,
   "metadata": {
    "collapsed": true
   },
   "outputs": [],
   "source": [
    "total_prod = remove_total(prod_idxd)"
   ]
  },
  {
   "cell_type": "code",
   "execution_count": 56,
   "metadata": {
    "collapsed": true
   },
   "outputs": [],
   "source": [
    "total_elec = remove_total(elec_idxd)"
   ]
  },
  {
   "cell_type": "code",
   "execution_count": 57,
   "metadata": {
    "collapsed": true
   },
   "outputs": [],
   "source": [
    "# Plots the dataframe values in two plots (half the data in each)\n",
    "def plot_by_year(valname, df):\n",
    "    df_unstacked = df.unstack().T.loc[valname]\n",
    "    middle_idx = int(len(df_unstacked.columns)/2)\n",
    "    split_val1 = df_unstacked.columns[middle_idx]\n",
    "    split_val2 = df_unstacked.columns[middle_idx + 1]\n",
    "    x = df_unstacked.loc[:, :split_val1]\n",
    "    y = df_unstacked.loc[:, split_val2:]\n",
    "    f, (ax1, ax2) = plt.subplots(1, 2, figsize = (14,5), sharey = True)\n",
    "    plt.figure(); \n",
    "    x.plot(ax=ax1)\n",
    "    y.plot(ax = ax2)\n",
    "    #ax1.set_title('Sharing Y axis')"
   ]
  },
  {
   "cell_type": "code",
   "execution_count": 58,
   "metadata": {},
   "outputs": [
    {
     "data": {
      "image/png": "[encoded data removed]",
      "text/plain": [
       "<matplotlib.figure.Figure at 0x116dbb940>"
      ]
     },
     "metadata": {},
     "output_type": "display_data"
    },
    {
     "data": {
      "text/plain": [
       "<matplotlib.figure.Figure at 0x116e6b1d0>"
      ]
     },
     "metadata": {},
     "output_type": "display_data"
    }
   ],
   "source": [
    "plot_by_year(PRODUCTION_NAME, prod_idxd)"
   ]
  },
  {
   "cell_type": "code",
   "execution_count": 59,
   "metadata": {
    "scrolled": false
   },
   "outputs": [
    {
     "data": {
      "image/png": "[encoded data removed]",
      "text/plain": [
       "<matplotlib.figure.Figure at 0x1175fb5f8>"
      ]
     },
     "metadata": {},
     "output_type": "display_data"
    },
    {
     "data": {
      "text/plain": [
       "<matplotlib.figure.Figure at 0x11757cc88>"
      ]
     },
     "metadata": {},
     "output_type": "display_data"
    }
   ],
   "source": [
    "plot_by_year(ELEC_USED_NAME, elec_idxd)"
   ]
  },
  {
   "cell_type": "markdown",
   "metadata": {},
   "source": [
    "We can explain the different peaks by looking in the [report](http://www.nuklearforum.ch/sites/default/files/media/Chronique_fr_2000_2005_0.pdf) of events related to Swiss power plants between 2000 and 2005 \n",
    "For example, the biggest peak in the Leibstadt power plant is explained by the following quote:\n",
    "\n",
    "Original quote in french\n",
    "\"(5043) 28 mars 2005 : une perturbation survenue à l’intérieur de l’alternateur entraîne un arrêt de la turbine de la\n",
    "centrale nucléaire de Leibstadt. Le réacteur, qui n’est pas touché par l’événement, est ensuite mis à l’arrêt par l’équipe\n",
    "d’exploitation.\""
   ]
  },
  {
   "cell_type": "markdown",
   "metadata": {},
   "source": [
    "Here is the list of the reports accessible from the [nuklearforum](http://www.nuklearforum.ch/fr/chronique_nucleaire) website  \n",
    "[1975 - 1999](https://www.nuklearforum.ch/sites/default/files/media/Chronik_dt_fr_bis_1999.pdf)  \n",
    "[2000 - 2005](http://www.nuklearforum.ch/sites/default/files/media/Chronique_fr_2000_2005_0.pdf)  \n",
    "[2006 - 2011](http://www.nuklearforum.ch/sites/default/files/media/Chronik_fr_ab_2006_0.pdf)  \n",
    "[2012 - 2013](https://www.nuklearforum.ch/sites/default/files/page/Chronik_fr_ab-01-01-2012%20bis%2031-12-2013.pdf)  \n",
    "[2014](https://www.nuklearforum.ch/sites/default/files/page/Chronik_fr_des-01-01-2014.pdf)  \n"
   ]
  },
  {
   "cell_type": "code",
   "execution_count": 60,
   "metadata": {
    "collapsed": true
   },
   "outputs": [],
   "source": [
    "prod_idxd.to_csv('Data/prod_nuc_Ghw.csv')\n",
    "elec_idxd.to_csv('Data/prod_nuc_perc.csv')"
   ]
  }
 ],
 "metadata": {
  "kernelspec": {
   "display_name": "Python 3",
   "language": "python",
   "name": "python3"
  },
  "language_info": {
   "codemirror_mode": {
    "name": "ipython",
    "version": 3
   },
   "file_extension": ".py",
   "mimetype": "text/x-python",
   "name": "python",
   "nbconvert_exporter": "python",
   "pygments_lexer": "ipython3",
   "version": "3.6.2"
  }
 },
 "nbformat": 4,
 "nbformat_minor": 2
}
